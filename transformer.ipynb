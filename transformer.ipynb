{
 "cells": [
  {
   "cell_type": "code",
   "execution_count": 1,
   "metadata": {},
   "outputs": [],
   "source": [
    "%load_ext autoreload"
   ]
  },
  {
   "cell_type": "code",
   "execution_count": 2,
   "metadata": {},
   "outputs": [],
   "source": [
    "import os\n",
    "import numpy as np\n",
    "from tensorflow import keras\n",
    "from tensorflow.keras import layers\n",
    "import tensorflow as tf\n",
    "assert tf.config.list_physical_devices('GPU')\n",
    "\n",
    "import collections\n",
    "\n",
    "import dataset\n",
    "\n",
    "%autoreload\n",
    "import transformer"
   ]
  },
  {
   "cell_type": "code",
   "execution_count": 3,
   "metadata": {
    "scrolled": true
   },
   "outputs": [
    {
     "name": "stdout",
     "output_type": "stream",
     "text": [
      "Model: \"transformer\"\n",
      "_________________________________________________________________\n",
      "Layer (type)                 Output Shape              Param #   \n",
      "=================================================================\n",
      "encoder (Encoder)            multiple                  656844    \n",
      "_________________________________________________________________\n",
      "decoder (Decoder)            multiple                  847144    \n",
      "_________________________________________________________________\n",
      "softmax (Softmax)            multiple                  0         \n",
      "_________________________________________________________________\n",
      "dense_16 (Dense)             multiple                  3536      \n",
      "_________________________________________________________________\n",
      "softmax_1 (Softmax)          multiple                  0         \n",
      "_________________________________________________________________\n",
      "dense_17 (Dense)             multiple                  663       \n",
      "_________________________________________________________________\n",
      "softmax_2 (Softmax)          multiple                  0         \n",
      "_________________________________________________________________\n",
      "dense_18 (Dense)             multiple                  884       \n",
      "=================================================================\n",
      "Total params: 1,509,071\n",
      "Trainable params: 1,509,071\n",
      "Non-trainable params: 0\n",
      "_________________________________________________________________\n"
     ]
    }
   ],
   "source": [
    "BATCH_SIZE = 32\n",
    "\n",
    "MAXLEN = 50\n",
    "\n",
    "LETTERS_SIZE = len(dataset.letters_table)\n",
    "NIQQUD_SIZE = len(dataset.niqqud_table)\n",
    "DAGESH_SIZE = len(dataset.dagesh_table)\n",
    "SIN_SIZE = len(dataset.sin_table)\n",
    "\n",
    "num_layers = 1\n",
    "num_heads = 4\n",
    "d_model = 220 // num_heads * num_heads\n",
    "dff = 1024\n",
    "\n",
    "model = transformer.Transformer(\n",
    "    num_layers=num_layers,\n",
    "    d_model=d_model,\n",
    "    num_heads=num_heads,\n",
    "    dff=dff,\n",
    "    input_vocab_size=LETTERS_SIZE,\n",
    "    output_sizes=[NIQQUD_SIZE, DAGESH_SIZE, SIN_SIZE],\n",
    "    maximum_position_encoding_input=MAXLEN,\n",
    "    maximum_position_encoding_target=MAXLEN,\n",
    "    rate=0.0\n",
    ")\n",
    "\n",
    "learning_rate = transformer.CustomSchedule(d_model, warmup_steps=3000)\n",
    "lr = 12e-4\n",
    "model.compile(\n",
    "    optimizer=tf.keras.optimizers.Adam(lr),\n",
    "    loss='sparse_categorical_crossentropy',  # transformer.MaskedCategoricalCrossentropy(),  # tf.keras.losses.sparse_categorical_crossentropy,\n",
    "    metrics=['accuracy']  # unmasked, so incorrect\n",
    ")\n",
    "# pseudo \"build\" step, to allow printing a summary:\n",
    "# model.run_eagerly = True\n",
    "h = model.pseudo_build(MAXLEN, MAXLEN)\n",
    "model.summary()\n",
    "model.save_weights('./checkpoints/uninit')"
   ]
  },
  {
   "cell_type": "code",
   "execution_count": 4,
   "metadata": {},
   "outputs": [],
   "source": [
    "def load_data(source, validation=0.1):\n",
    "    filenames = [os.path.join('texts', f) for f in source]\n",
    "    train, valid = dataset.load_data(filenames, validation, maxlen=MAXLEN)\n",
    "    return train, valid\n",
    "\n",
    "\n",
    "def batch_zip(d):\n",
    "    for i in range(len(d.normalized) // BATCH_SIZE):\n",
    "        s = slice(i*BATCH_SIZE, (i+1)*BATCH_SIZE)\n",
    "        yield (i, d.normalized[s], [d.niqqud[s], d.dagesh[s], d.sin[s]])\n",
    "    \n",
    "\n",
    "def fit(data, epochs=1):\n",
    "    train, valid = data\n",
    "    total_train = len(train)//BATCH_SIZE\n",
    "    total_valid = len(valid)//BATCH_SIZE\n",
    "    history = collections.defaultdict(list)\n",
    "    for epoch in range(epochs):\n",
    "        model.reset_metrics()\n",
    "        for batch, x, ys in batch_zip(train):\n",
    "            res = model.train_step(x, *ys)\n",
    "            \n",
    "            print(f\"\\r({epoch}) {batch:4d}/{total_train:4d} - {' - '.join(f'{k}: {v:.4f}' for k, v in res.items())}\", end='')\n",
    "            \n",
    "        model.reset_metrics()\n",
    "        \n",
    "        for batch, x, ys in batch_zip(valid):\n",
    "            res = model.test_step(x, *ys)\n",
    "\n",
    "        print(''.join(f\" - {k}: {v:.4f}\" for k, v in res.items()))\n",
    "        \n",
    "        for k, v in res.items():\n",
    "            history[k].append(res[k].numpy())\n",
    "\n",
    "    return history"
   ]
  },
  {
   "cell_type": "code",
   "execution_count": 5,
   "metadata": {},
   "outputs": [],
   "source": [
    "data_other = load_data(['biblical', 'garbage'])"
   ]
  },
  {
   "cell_type": "code",
   "execution_count": 6,
   "metadata": {},
   "outputs": [],
   "source": [
    "data_mix = load_data(['poetry', 'rabanit', 'pre_modern'])"
   ]
  },
  {
   "cell_type": "code",
   "execution_count": 7,
   "metadata": {},
   "outputs": [],
   "source": [
    "data_modern = load_data(validation=0.1, source=['modern'])"
   ]
  },
  {
   "cell_type": "code",
   "execution_count": 8,
   "metadata": {
    "scrolled": true
   },
   "outputs": [
    {
     "name": "stdout",
     "output_type": "stream",
     "text": [
      "(0) 1810/1811 - loss: 0.2502 - output_1_accuracy: 0.8002 - output_2_accuracy: 0.9645 - output_3_accuracy: 0.9878 - val_loss: 0.5478 - val_output_1_accuracy: 0.8503 - val_output_2_accuracy: 0.9522 - val_output_3_accuracy: 0.9919\n"
     ]
    }
   ],
   "source": [
    "model.load_weights('./checkpoints/uninit')\n",
    "history = fit(data_other, epochs=1)\n",
    "model.save_weights('./checkpoints/other')"
   ]
  },
  {
   "cell_type": "code",
   "execution_count": 9,
   "metadata": {},
   "outputs": [
    {
     "name": "stdout",
     "output_type": "stream",
     "text": [
      "(0) 5717/5718 - loss: 0.0851 - output_1_accuracy: 0.9272 - output_2_accuracy: 0.9884 - output_3_accuracy: 0.9982 - val_loss: 0.3366 - val_output_1_accuracy: 0.9079 - val_output_2_accuracy: 0.9729 - val_output_3_accuracy: 0.9979\n"
     ]
    }
   ],
   "source": [
    "model.load_weights('./checkpoints/other')\n",
    "history = fit(data_mix, epochs=1)\n",
    "model.save_weights('./checkpoints/mix')"
   ]
  },
  {
   "cell_type": "code",
   "execution_count": 11,
   "metadata": {
    "scrolled": true
   },
   "outputs": [
    {
     "name": "stdout",
     "output_type": "stream",
     "text": [
      "(0)  680/ 681 - loss: 0.0669 - output_1_accuracy: 0.9447 - output_2_accuracy: 0.9885 - output_3_accuracy: 0.9991 - val_loss: 0.2960 - val_output_1_accuracy: 0.9232 - val_output_2_accuracy: 0.9726 - val_output_3_accuracy: 0.9975\n",
      "lr=0.0012, d_model=220, num_layers=1, num_heads=4, dff=1024\n"
     ]
    }
   ],
   "source": [
    "model.load_weights('./checkpoints/mix')\n",
    "history = fit(data_modern, epochs=1) # lr=0.0012, d_model=220, num_layers=1, num_heads=4, dff=512 - accuracy: 0.8314\n",
    "print(f'{lr=}, {d_model=}, {num_layers=}, {num_heads=}, {dff=}')\n",
    "model.save_weights('./checkpoints/modern')"
   ]
  },
  {
   "cell_type": "code",
   "execution_count": 12,
   "metadata": {
    "scrolled": true,
    "tags": [
     "outputPrepend"
    ]
   },
   "outputs": [
    {
     "name": "stdout",
     "output_type": "stream",
     "text": [
      "מצוי:  בִּמְלַאי הַדִּירוּת עֲשׂוּיָה לִהְיוֹת בְּעָתִיד הַגּוֹרֵם הַמֶּרְכָּזִי \n",
      "רצוי:  בִּמְלַאי הַדִּירוֹת עֲשׂוּיָה לִהְיוֹת בֶּעָתִיד הַגּוֹרֵם הַמֶּרְכָּזִי \n",
      "0.95 (2 out of 44)\n",
      "\n",
      "מצוי:  זוֹ רוֹתִי שְׁבִיקְּשָׁה. אַפְּרוֹפוֹ מְתִיחַת קַדָּם שִׁיעוּר: בְּנָעִים גַּם \n",
      "רצוי:  זוֹ רוּתִי שֶׁבִּיקְּשָׁה. אַפְּרוֹפּוֹ מְתִיחַת קְדַם שִׁיעוּר: בְּנָעִים גַּם \n",
      "0.92 (4 out of 49)\n",
      "\n",
      "מצוי:  נוֹסָפִים. מִדִּיוּוּחֵי הַבַּנְּק הַמֶּרְכָּזִי בְּסַפְרָד, הַמְּצוּיָה בְּמִיתּוּן \n",
      "רצוי:  נוֹסָפִים. מִדִּיוּוּחֵי הַבַּנְק הַמֶּרְכָּזִי בִּסְפָרַד, הַמְּצוּיָה בְּמִיתּוּן \n",
      "0.92 (4 out of 49)\n",
      "\n",
      "מצוי:  הָאִישָּׁה הִיא מַרְכִּיב עִיקָּרִי בָּהּ. אַנְדְּרִיאָה דַּוְורקִין מַגְדִּירָה \n",
      "רצוי:  הָאִישָּׁה הִיא מַרְכִּיב עִיקָּרִי בָּהּ. אַנְדְרֵיאָה דְּווֹרְקִין מַגְדִּירָה \n",
      "0.90 (5 out of 49)\n",
      "\n",
      "מצוי:  מוּסָרִית זוֹ בָּאָה לְשַׁמֵּשׁ חֲלוּפָה לְמוּסָּר הָרוֹמָאִי הַמְּשׁוּחְרָר. \n",
      "רצוי:  מוּסָרִית זוֹ בָּאָה לְשַׁמֵּשׁ חֲלוּפָה לַמּוּסָר הָרוֹמָאִי הַמְּשׁוּחְרָר. \n",
      "0.98 (1 out of 47)\n",
      "\n",
      "מצוי:  מֵהַהוֹרִים, אָז אֵיזֶה סִיכּוּי יֵשׁ לְהוֹרִים לְהַצְלִיחַ?\". \n",
      "רצוי:  מֵהַהוֹרִים, אָז אֵיזֶה סִיכּוּי יֵשׁ לַהוֹרִים לְהַצְלִיחַ?\". \n",
      "0.98 (1 out of 43)\n",
      "\n",
      "מצוי:  הַטֶּכְנִי - יִתְרוֹן. תּוֹדַעַת שְׂרוֹת גְּבוֹהָה. נְכוֹנוֹת לְעִבוּדָה \n",
      "רצוי:  הַטֶּכְנִי - יִתְרוֹן. תּוֹדַעַת שָׁרוֹת גְּבוֹהָה. נְכוֹנוֹת לַעֲבוֹדָה \n",
      "0.91 (4 out of 47)\n",
      "\n",
      "מצוי:  הַיְּלָדִים. \"אֲנִי אַפְסִיק לְסַפֵּר לָכֶם אֶת הַסָּפוּר,\" אַיָּם \n",
      "רצוי:  הַיְּלָדִים. \"אֲנִי אַפְסִיק לְסַפֵּר לָכֶם אֶת הַסִּפּוּר,\" אִיֵם \n",
      "0.93 (3 out of 43)\n",
      "\n",
      "מצוי:  בְּמַרְאָהוּ הַנָּאָה וּבְכָחוּ הָרַב. הָרָץ הַסֶּגֶל יוֹם אֶחָד, אַחֲרֵי \n",
      "רצוי:  בְּמַרְאֵהוּ הַנָּאֶה וּבְכֹחוֹ הָרַב. הָרָץ הַסָּגֹל יוֹם אֶחָד, אַחֲרֵי \n",
      "0.87 (6 out of 46)\n",
      "\n",
      "מצוי:  גָּרִים, שִׂחָיו בְּגֶרְמַנְיָה, יֵשׁ סָפוּר ְּדוּמָה מְאֹד בְּשֵׁם \"הַשָּׁשָׁה \n",
      "רצוי:  גְּרִים, שֶׁחָיוּ בְּגֶרְמַנְיָה, יֵשׁ סִפּוּר דּוֹמֶה מְאֹד בְּשֵׁם \"הַשִּׁשָׁה \n",
      "0.83 (8 out of 47)\n",
      "\n",
      "מצוי:  הוֹרְדַּת הַדִּירוּג לֹא הֶעָלְתָה אֶת עֲלוּיוֹת הַמִּימּוּן שֶׁל שְׁתֵּי \n",
      "רצוי:  הוֹרָדַת הַדֵּירוּג לֹא הֶעֶלְתָה אֶת עֲלוּיוֹת הַמִּימּוּן שֶׁל שְׁתֵּי \n",
      "0.93 (3 out of 46)\n",
      "\n",
      "מצוי:  הַגֵּייְמִינְג. קוֹנְסוּלַּת הַ-Nintendo Switch יָצְאָה לְאַוֵויר \n",
      "רצוי:  הַגֶּייְמִינְג. קוֹנְסוּלַת הָ-Nintendo Switch יָצְאָה לַאֲוִויר \n",
      "0.90 (5 out of 48)\n",
      "\n",
      "מצוי:  בְּקֶצֶב הוֹלֵךְ וְגוּבָּר. הַבְּעָיָה הִיא שֶׁבְּנִיגּוּד לְיוּוָן, אִירְלֵנְד \n",
      "רצוי:  בַּקֶּצֶב הוֹלֵךְ וְגוֹבֵר. הַבְּעָיָה הִיא שֶׁבְּנִיגּוּד לְיָוָוֹן, אִירְלַנְד \n",
      "0.86 (7 out of 49)\n",
      "\n",
      "מצוי:  לַמִּסְפָּר מִשְׁמָרוֹת מְסוּיָּם בְּחוֹדֶשׁ. זֶהוּ עִיסּוּק בְּתָחוּם \n",
      "רצוי:  לְמִסְפַּר מִשְׁמָרוֹת מְסוּיָּם בְּחוֹדֶשׁ. זֶהוּ עִיסּוּק בִּתְחוּם \n",
      "0.90 (4 out of 42)\n",
      "\n",
      "מצוי:  הַמּוּגָנִים עַל יְדֵי תּוֹכְנוֹת הַמּוֹנָעוֹת כְּנִיסָּה שֶׁל קְטִינִים עַל \n",
      "רצוי:  הַמּוּגַנִּים עַל יְדֵי תּוֹכְנוֹת הַמּוֹנְעוֹת כְּנִיסָה שֶׁל קְטִינִים עַל \n",
      "0.96 (2 out of 49)\n",
      "\n",
      "מצוי:  מְיוֹעֲדִים לְקָהָל פַּרְטָנִי. תַּקְדִּימֵי רוּט' וּמִישְׁקִין הָעָלוּ \n",
      "רצוי:  מְיוֹעָדִים לְקָהָל פַּרְטָנִי. תַּקְדִּימִי רוֹט' וּמִישְׁקִין הֶעֱלוּ \n",
      "0.89 (5 out of 45)\n",
      "\n",
      "מצוי:  גָּדוֹל בָּעוֹלָם הַיְּהוּדִי\". הָרַב הָרָאשֵׁי לָאוֹ הוֹסִיף כִּי \n",
      "רצוי:  גָּדוֹל בָּעוֹלָם הַיְּהוּדִי\". הָרַב הָרָאשִׁי לָאו הוֹסִיף כִּי \n",
      "0.95 (2 out of 43)\n",
      "\n",
      "מצוי:  יוֹתֵר בְּדִיּוֹן, שֶׁכֵּן בְּנוֹשֵׁא הַפּוֹרְנוֹגְרַפְיָה הוּא חֲלוֹק \n",
      "רצוי:  יוֹתֵר בַּדִּיּוּן, שֶׁכֵּן בְּנוֹשֵׂא הַפּוֹרְנוֹגְרַפְיָה הוּא חָלוּק \n",
      "0.91 (4 out of 43)\n",
      "\n",
      "מצוי:  בְּדֶרֶךְ כְּלַל הִיא גָּרָה לְבַדּה בְּדִירַת שְׁלוֹשָׁה חֲדָרִים, אֲבָל \n",
      "רצוי:  בְּדֶרֶךְ כְּלָל הִיא גָּרָה לְבַדָּהּ בְּדִירַת שְׁלוֹשָׁה חֲדָרִים, אֲבָל \n",
      "0.96 (2 out of 45)\n",
      "\n",
      "מצוי:  עֲדַיִין הֲנָחוֹתוֹת בַּחֶבְרָה הַגְּבָּרִית. הַשְּׁווּיוֹן אוֹתוֹ יֵשׁ \n",
      "רצוי:  עֲדַיִין הַנְּחוּתוֹת בַּחֶבְרָה הַגַּבְרִית. הַשִּׁוְויוֹן אוֹתוֹ יֵשׁ \n",
      "0.82 (8 out of 44)\n",
      "\n",
      "מצוי:  יָבִיא לְצִמְצוּם הָאֶפְשְׁרוּיוֹת הָעוֹמְדוּת בִּפְנֵי הַנָּשִׁים לְהַכִּיר \n",
      "רצוי:  יָבִיא לְצִמְצוּם הָאֶפְשָׁרוּיוֹת הָעוֹמְדוֹת בִּפְנֵי הַנָּשִׁים לְהַכִּיר \n",
      "0.96 (2 out of 47)\n",
      "\n",
      "מצוי:  הָאָדָם לִשְׁנַיִים - מִיעוּט אוֹהֲבֵי הָאַל וְהָרוֹב הַמַּכְרִיעַ - \n",
      "רצוי:  הָאָדָם לִשְׁנַיִים - מִיעוּט אוֹהֲבֵי הָאֵל וְהָרוֹב הַמַּכְרִיעַ - \n",
      "0.98 (1 out of 45)\n",
      "\n",
      "מצוי:  תַּרְגִּישׁוּ לְבַד. הָנָה לָכֶם רְשִׁימַת חֲמֵשֶׁת הַמִּשְׂחָקִים שֶׁלָּקַח לָנוּ \n",
      "רצוי:  תַּרְגִּישׁוּ לְבַד. הִנֵּה לָכֶם רְשִׁימַת חֲמֵשֶׁת הַמִּשְׂחָקִים שֶׁלָּקַח לָנוּ \n",
      "0.96 (2 out of 48)\n",
      "\n",
      "מצוי:  הַפּוֹרְנוֹגְרַפְּיָה אֵינָה הִתְבַּטְּאוֹת שֶׁל חוֹפֶשׁ מִינִי, אֶלָּא נִיצּוּל \n",
      "רצוי:  הַפּוֹרְנוֹגְרַפְיָה אֵינָהּ הִתְבַּטְּאוּת שֶׁל חוֹפֶשׁ מִינִי, אֶלָּא נִיצּוּל \n",
      "0.98 (1 out of 49)\n",
      "\n",
      "מצוי:  בְּרַעֲמָה. חֶבְּטָתִי אֶת הָרֹאשׁ שֶׁלּוֹ בְּאַדְמָה וַאֲנִי יָכוֹל לְהַגִּיד \n",
      "רצוי:  בָּרַעֲמָה. חָבַטְתִי אֶת הָרֹאשׁ שֶׁלוֹ בָּאֲדָמָה וַאֲנִי יָכוֹל לְהַגִּיד \n",
      "0.85 (7 out of 47)\n",
      "\n",
      "מצוי:  הִצְטָרֵף אֵלָיו. הָאִישׁ הַצְּמָא הָעֶרֶב יָרַד וְשְׁנֵיהֶם עָבְרוּ מֶרְחָק \n",
      "רצוי:  הִצְטָרֵף אֵלָיו. הָאִישׁ הַצָּמֵא הָעֶרֶב יָרַד וּשְׁנֵיהֶם עָבְרוּ מֶרְחָק \n",
      "0.94 (3 out of 48)\n",
      "\n",
      "מצוי:  הַמְּשׁוּתָּף. מִצַּד שֵׁנִי, יְאַלֵּץ הַפַּעַם הָאוֹצָר לְהִתְמוֹדֵד עֵם \n",
      "רצוי:  הַמְּשׁוּתָּף. מִצַּד שֵׁנִי, יְאַלֵּץ הַפַּעַם הָאוֹצָר לְהִתְמוֹדֵד עִם \n",
      "0.98 (1 out of 44)\n",
      "\n",
      "מצוי:  אִמָּא הַבְּטִיחָה לְמִיכַּל שֶׁהִיא תְּקַבֵּל כֶּלֶב לִכְבּוֹד יוֹם הַלְּדָתָהּ \n",
      "רצוי:  אִמָּא הִבְטִיחָה לְמִיכַל שֶׁהִיא תְּקַבֵּל כֶּלֶב לִכְבוֹד יוֹם הֻלַדְתָהּ \n",
      "0.91 (4 out of 47)\n",
      "\n",
      "מצוי:  חֲזָרָה לְמַחְשָׁבָה 'אוֹגוּסְטִינִית' בְּכָל הַנּוֹגֵעַ לְמִינִיּוֹת \n",
      "רצוי:  חֲזָרָה לְמַחֲשָׁבָה 'אוֹגוּסְטִינִית' בְּכָל הַנּוֹגֵעַ לְמִינִיּוּת \n",
      "0.95 (2 out of 43)\n",
      "\n",
      "מצוי:  לְשִׁימּוּשׁ בְּטֶכְנוֹלוֹגִיּוֹת מְתַקְדְּמוֹת. אַדְּרַבֵּא: הֵם מְקַבְּלִים \n",
      "רצוי:  לְשִׁימּוּשׁ בְּטֶכְנוֹלוֹגְיוֹת מִתְקַדְּמוֹת. אַדְּרַבָּא: הֵם מְקַבְּלִים \n",
      "0.89 (5 out of 45)\n",
      "\n",
      "מצוי:  וְלַצְיַית לִכְלָלִי לְבוּשׁ מוּגְדָּרִים. כָּל אֵלֶּה אֵינָם פּוֹגְעִים \n",
      "רצוי:  וּלְצַיֵּית לִכְלָלֵי לְבוּשׁ מוּגְדָּרִים. כָּל אֵלֶּה אֵינָם פּוֹגְעִים \n",
      "0.89 (5 out of 46)\n",
      "\n",
      "מצוי:  בִּמְנוּסָה מִהַ-Wild Hunt, כּוֹחַ אֲפָל הַמְּחַפֵּשׂ אַחֲרִיָה. בְּדוֹמָה \n",
      "רצוי:  בִּמְנוּסָּה מַה-Wild Hunt, כּוֹחַ אָפֵל הַמְּחַפֵּשׂ אַחֲרֶיהָ. בְּדוֹמֶה \n",
      "0.83 (8 out of 48)\n",
      "\n",
      "0.918\n"
     ]
    }
   ],
   "source": [
    "model.load_weights('./checkpoints/modern')\n",
    "\n",
    "def print_predictions(data, s):\n",
    "    batch = data.normalized[s]\n",
    "    [actual_niqqud, actual_dagesh, actual_sin] = model.predict_argmax(batch)\n",
    "    [expected_niqqud, expected_dagesh, expected_sin] = [data.niqqud[s], data.dagesh[s], data.sin[s]]\n",
    "    actual = dataset.merge(data.text[s], ts=batch, ns=actual_niqqud, ds=actual_dagesh, ss=actual_sin)\n",
    "    expected = dataset.merge(data.text[s], ts=batch, ns=expected_niqqud, ds=expected_dagesh, ss=expected_sin)\n",
    "    total = []\n",
    "    for i, (a, e) in enumerate(zip(actual, expected)):\n",
    "        print('מצוי: ', a)\n",
    "        print('רצוי: ', e)\n",
    "        last = expected_niqqud[i].tolist().index(0)\n",
    "        res = expected_niqqud[i][:last] == actual_niqqud[i][:last]\n",
    "        total.extend(res)\n",
    "        print(f'{np.mean(res):.2f} ({last - sum(res)} out of {last})')\n",
    "        print()\n",
    "    print(round(np.mean(total), 3))\n",
    "\n",
    "print_predictions(data_modern[1], slice(0, BATCH_SIZE))"
   ]
  },
  {
   "cell_type": "code",
   "execution_count": 47,
   "metadata": {},
   "outputs": [
    {
     "data": {
      "image/png": "[encoded data removed]",
      "text/plain": [
       "<Figure size 432x288 with 4 Axes>"
      ]
     },
     "metadata": {
      "needs_background": "light"
     },
     "output_type": "display_data"
    }
   ],
   "source": [
    "import matplotlib.pyplot as plt\n",
    "\n",
    "fig, ax = plt.subplots(nrows=len(history), ncols=1)\n",
    "\n",
    "for i, v in enumerate(history.values()):\n",
    "    ax[i].plot(v)\n",
    "\n",
    "plt.tight_layout()"
   ]
  },
  {
   "cell_type": "code",
   "execution_count": null,
   "metadata": {},
   "outputs": [],
   "source": []
  }
 ],
 "metadata": {
  "kernelspec": {
   "display_name": "Python 3",
   "language": "python",
   "name": "python3"
  },
  "language_info": {
   "codemirror_mode": {
    "name": "ipython",
    "version": 3
   },
   "file_extension": ".py",
   "mimetype": "text/x-python",
   "name": "python",
   "nbconvert_exporter": "python",
   "pygments_lexer": "ipython3",
   "version": "3.8.2"
  }
 },
 "nbformat": 4,
 "nbformat_minor": 4
}
