{
 "cells": [
  {
   "cell_type": "code",
   "execution_count": 1,
   "metadata": {},
   "outputs": [],
   "source": [
    "%load_ext autoreload"
   ]
  },
  {
   "cell_type": "code",
   "execution_count": 26,
   "metadata": {},
   "outputs": [],
   "source": [
    "import os\n",
    "import numpy as np\n",
    "from tensorflow import keras\n",
    "from tensorflow.keras import layers\n",
    "import tensorflow as tf\n",
    "assert tf.config.list_physical_devices('GPU')\n",
    "\n",
    "import collections\n",
    "\n",
    "import dataset\n",
    "\n",
    "%autoreload\n",
    "import transformer"
   ]
  },
  {
   "cell_type": "code",
   "execution_count": 27,
   "metadata": {
    "scrolled": true
   },
   "outputs": [
    {
     "name": "stdout",
     "output_type": "stream",
     "text": [
      "Model: \"transformer_8\"\n",
      "_________________________________________________________________\n",
      "Layer (type)                 Output Shape              Param #   \n",
      "=================================================================\n",
      "encoder_8 (Encoder)          multiple                  431052    \n",
      "_________________________________________________________________\n",
      "decoder_8 (Decoder)          multiple                  621352    \n",
      "_________________________________________________________________\n",
      "softmax_13 (Softmax)         multiple                  0         \n",
      "_________________________________________________________________\n",
      "dense_157 (Dense)            multiple                  3536      \n",
      "_________________________________________________________________\n",
      "softmax_14 (Softmax)         multiple                  0         \n",
      "_________________________________________________________________\n",
      "dense_158 (Dense)            multiple                  663       \n",
      "_________________________________________________________________\n",
      "softmax_15 (Softmax)         multiple                  0         \n",
      "_________________________________________________________________\n",
      "dense_159 (Dense)            multiple                  884       \n",
      "=================================================================\n",
      "Total params: 1,057,487\n",
      "Trainable params: 1,057,487\n",
      "Non-trainable params: 0\n",
      "_________________________________________________________________\n"
     ]
    }
   ],
   "source": [
    "BATCH_SIZE = 32\n",
    "\n",
    "MAXLEN = 50\n",
    "\n",
    "LETTERS_SIZE = len(dataset.letters_table)\n",
    "NIQQUD_SIZE = len(dataset.niqqud_table)\n",
    "DAGESH_SIZE = len(dataset.dagesh_table)\n",
    "SIN_SIZE = len(dataset.sin_table)\n",
    "\n",
    "num_layers = 1\n",
    "num_heads = 4\n",
    "d_model = 220 // num_heads * num_heads\n",
    "dff = 512\n",
    "\n",
    "model = transformer.Transformer(\n",
    "    num_layers=num_layers,\n",
    "    d_model=d_model,\n",
    "    num_heads=num_heads,\n",
    "    dff=dff,\n",
    "    input_vocab_size=LETTERS_SIZE,\n",
    "    output_sizes=[NIQQUD_SIZE, DAGESH_SIZE, SIN_SIZE],\n",
    "    maximum_position_encoding_input=MAXLEN,\n",
    "    maximum_position_encoding_target=MAXLEN,\n",
    "    rate=0.0\n",
    ")\n",
    "\n",
    "learning_rate = transformer.CustomSchedule(d_model, warmup_steps=3000)\n",
    "lr = 12e-4\n",
    "model.compile(\n",
    "    optimizer=tf.keras.optimizers.Adam(lr),\n",
    "    loss='sparse_categorical_crossentropy',  # transformer.MaskedCategoricalCrossentropy(),  # tf.keras.losses.sparse_categorical_crossentropy,\n",
    "    metrics=['accuracy']  # unmasked, so incorrect\n",
    ")\n",
    "# pseudo \"build\" step, to allow printing a summary:\n",
    "# model.run_eagerly = True\n",
    "h = model.pseudo_build(MAXLEN, MAXLEN)\n",
    "model.summary()\n",
    "model.save_weights('./checkpoints/uninit')"
   ]
  },
  {
   "cell_type": "code",
   "execution_count": 42,
   "metadata": {},
   "outputs": [],
   "source": [
    "def load_data(source, validation=0.1):\n",
    "    filenames = [os.path.join('texts', f) for f in source]\n",
    "    train, valid = dataset.load_data(filenames, validation, maxlen=MAXLEN)\n",
    "    return train, valid\n",
    "\n",
    "\n",
    "def batch_zip(x, *ys):\n",
    "    for i in range(len(x) // BATCH_SIZE):\n",
    "        s = slice(i*BATCH_SIZE, (i+1)*BATCH_SIZE)\n",
    "        yield (i, x[s], [y[s] for y in ys])\n",
    "    \n",
    "\n",
    "def fit(data, epochs=1):\n",
    "    train, valid = data\n",
    "    total_train = len(train)//BATCH_SIZE\n",
    "    total_valid = len(valid)//BATCH_SIZE\n",
    "    history = collections.defaultdict(list)\n",
    "    for epoch in range(epochs):\n",
    "        model.reset_metrics()\n",
    "        for batch, x, ys in batch_zip(train.normalized, train.niqqud, train.dagesh, train.sin):\n",
    "            res = model.train_step(x, *ys)\n",
    "            \n",
    "            print(f\"\\r{batch:4d}/{total_train:4d} - {' - '.join(f'{k}: {v:.4f}' for k, v in res.items())}\", end='')\n",
    "            \n",
    "        model.reset_metrics()\n",
    "        \n",
    "        for batch, x, ys in batch_zip(valid.normalized, valid.niqqud, valid.dagesh, valid.sin):\n",
    "            res = model.test_step(x, *ys)\n",
    "\n",
    "        print(''.join(f\" - {k}: {v:.4f}\" for k, v in res.items()))\n",
    "        \n",
    "        for k, v in res.items():\n",
    "            history[k].append(res[k].numpy())\n",
    "\n",
    "    return history"
   ]
  },
  {
   "cell_type": "code",
   "execution_count": 36,
   "metadata": {},
   "outputs": [
    {
     "data": {
      "text/plain": [
       "{'loss': <tf.Tensor: shape=(), dtype=float32, numpy=1.534505>,\n",
       " 'output_1_accuracy': <tf.Tensor: shape=(), dtype=float32, numpy=0.26333332>,\n",
       " 'output_2_accuracy': <tf.Tensor: shape=(), dtype=float32, numpy=0.70666665>,\n",
       " 'output_3_accuracy': <tf.Tensor: shape=(), dtype=float32, numpy=0.64>}"
      ]
     },
     "execution_count": 36,
     "metadata": {},
     "output_type": "execute_result"
    }
   ],
   "source": [
    "t, valid = data_modern\n",
    "s = slice(0, 1)\n",
    "model.train_step(t.normalized[s], t.niqqud[s], t.dagesh[s], t.sin[s])"
   ]
  },
  {
   "cell_type": "code",
   "execution_count": null,
   "metadata": {},
   "outputs": [],
   "source": [
    "data_other = load_data(['biblical', 'garbage'])"
   ]
  },
  {
   "cell_type": "code",
   "execution_count": null,
   "metadata": {},
   "outputs": [],
   "source": [
    "data_mix = load_data(['poetry', 'rabanit', 'pre_modern'])"
   ]
  },
  {
   "cell_type": "code",
   "execution_count": 28,
   "metadata": {},
   "outputs": [],
   "source": [
    "data_modern = load_data(validation=0.1, source=['modern'])"
   ]
  },
  {
   "cell_type": "code",
   "execution_count": null,
   "metadata": {
    "scrolled": true
   },
   "outputs": [],
   "source": [
    "model.load_weights('./checkpoints/uninit')\n",
    "history = fit(data_other, epochs=1)\n",
    "model.save_weights('./checkpoints/other')"
   ]
  },
  {
   "cell_type": "code",
   "execution_count": null,
   "metadata": {},
   "outputs": [],
   "source": [
    "model.load_weights('./checkpoints/other')\n",
    "history = fit(data_mix, epochs=1)\n",
    "model.save_weights('./checkpoints/mix')"
   ]
  },
  {
   "cell_type": "code",
   "execution_count": null,
   "metadata": {
    "scrolled": true
   },
   "outputs": [
    {
     "name": "stdout",
     "output_type": "stream",
     "text": [
      " 677/ 678 - loss: 0.3486 - output_1_accuracy: 0.7302 - output_2_accuracy: 0.9445 - output_3_accuracy: 0.9817"
     ]
    }
   ],
   "source": [
    "model.load_weights('./checkpoints/uninit')\n",
    "history = fit(data_modern, epochs=1) # lr=0.0012, d_model=220, num_layers=1, num_heads=4, dff=512 - accuracy: 0.8314\n",
    "print(f'{lr=}, {d_model=}, {num_layers=}, {num_heads=}, {dff=}')\n",
    "\n",
    "# print(true_accuracy(data_modern)\n",
    "# model.save_weights('./checkpoints/modern')"
   ]
  },
  {
   "cell_type": "code",
   "execution_count": null,
   "metadata": {
    "scrolled": true,
    "tags": [
     "outputPrepend"
    ]
   },
   "outputs": [],
   "source": [
    "model.load_weights('./checkpoints/modern')\n",
    "\n",
    "def print_predictions(data, s):\n",
    "    batch = data.normalized[s]\n",
    "    prediction = model.predict(batch)\n",
    "    [actual_niqqud, actual_dagesh, actual_sin] = [dataset.from_categorical(prediction[0]), dataset.from_categorical(prediction[1]), dataset.from_categorical(prediction[2])]\n",
    "    [expected_niqqud, expected_dagesh, expected_sin] = [data.niqqud[s], data.dagesh[s], data.sin[s]]\n",
    "    actual = dataset.merge(data.text[s], ts=batch, ns=actual_niqqud, ds=actual_dagesh, ss=actual_sin)\n",
    "    expected = dataset.merge(data.text[s], ts=batch, ns=expected_niqqud, ds=expected_dagesh, ss=expected_sin)\n",
    "    total = []\n",
    "    for i, (a, e) in enumerate(zip(actual, expected)):\n",
    "        print('מצוי: ', a)\n",
    "        print('רצוי: ', e)\n",
    "        last = expected_niqqud[i].tolist().index(0)\n",
    "        res = expected_niqqud[i][:last] == actual_niqqud[i][:last]\n",
    "        total.extend(res)\n",
    "        print(f'{np.mean(res):.2f} ({last - sum(res)} out of {last})')\n",
    "        print()\n",
    "    print(round(np.mean(total), 3))\n",
    "\n",
    "print_predictions(data_modern[1], slice(0, BATCH_SIZE))"
   ]
  },
  {
   "cell_type": "code",
   "execution_count": null,
   "metadata": {},
   "outputs": [],
   "source": [
    "import matplotlib.pyplot as plt\n",
    "\n",
    "fig, ax = plt.subplots(nrows=1, ncols=len(history))\n",
    "\n",
    "for i, v in enumerate(history.values()):\n",
    "    ax[i].plot(v)\n",
    "\n",
    "plt.tight_layout()"
   ]
  },
  {
   "cell_type": "code",
   "execution_count": null,
   "metadata": {},
   "outputs": [],
   "source": [
    "model.load_weights('./checkpoints/mix')\n",
    "\n",
    "def predict(x):\n",
    "    batch_len, timesteps = x.shape\n",
    "\n",
    "    # we \"know\" that the first item is the start item\n",
    "    y_probs = np.array([[[0] * NIQQUD_SIZE]] * batch_len)\n",
    "    y_probs[:, 0, 1] = 1\n",
    "    y_probs = tf.constant(y_probs, tf.float32)\n",
    "\n",
    "    padding_mask = transformer.create_padding_mask(x)\n",
    "    dec_target_padding_mask = transformer.create_padding_mask(x)\n",
    "    \n",
    "    invisible_future = tf.zeros([batch_len, timesteps], dtype=tf.int32)\n",
    "    print(invisible_future.shape)\n",
    "    \n",
    "    for i in range(timesteps):\n",
    "        y_pred = tf.cast(tf.argmax(y_probs, axis=-1), tf.int32)\n",
    "        y_pred = tf.concat([y_pred, invisible_future[:, i+1:]], axis=-1)\n",
    "\n",
    "        predictions, _ = model(x, y_pred, False, dec_target_padding_mask, padding_mask)\n",
    "        predictions = predictions[: ,i:i+1, :]\n",
    "        y_probs = tf.concat([y_probs, predictions], axis=1)\n",
    "        \n",
    "    y_probs = y_probs[:, 1:, :]\n",
    "    return tf.cast(tf.argmax(y_probs, axis=-1), tf.int32).numpy()\n",
    "\n",
    "d = data_modern[1]\n",
    "n = slice(0, 1*BATCH_SIZE)\n",
    "output = predict(d.normalized[n])\n",
    "print(list(d.normalized[n][0]))\n",
    "print(list(output[0]))\n",
    "print(list(d.niqqud[0]))\n",
    "# print(probs[0])\n",
    "(d.niqqud[n] == output).mean()"
   ]
  },
  {
   "cell_type": "code",
   "execution_count": null,
   "metadata": {},
   "outputs": [],
   "source": [
    "\n",
    "def merge(normalized, prediction):\n",
    "    sentence = []\n",
    "    for c, n in zip(normalized, prediction):\n",
    "        if c == dataset.letters_table.PAD_TOKEN:\n",
    "            break\n",
    "        sentence.append(dataset.letters_table.indices_char[c])\n",
    "        sentence.append(dataset.niqqud_table.indices_char[n])\n",
    "    return ''.join(sentence)\n",
    "\n",
    "d = data_modern\n",
    "text = d[1].normalized[0*BATCH_SIZE:1*BATCH_SIZE]\n",
    "actual = d[1].niqqud[0*BATCH_SIZE:1*BATCH_SIZE]\n",
    "padded_actual = np.hstack([np.ones((BATCH_SIZE, 1)), actual])[:, :-1]\n",
    "print(padded_actual.shape)\n",
    "print(text.shape)\n",
    "dec_target_padding_mask = transformer.create_padding_mask(actual)\n",
    "padding_mask = transformer.create_padding_mask(text)\n",
    "prediction = model(text, padded_actual, False, dec_target_padding_mask, padding_mask)[0]  # np.argmax(history['predictions'], axis=-1)[0]\n",
    "prediction = np.argmax(prediction, axis=-1)\n",
    "n = 3\n",
    "print(text[n])\n",
    "print(prediction[n])\n",
    "print(actual[n])\n",
    "print(prediction[n] == actual[n])\n",
    "print(np.mean(prediction == actual))\n",
    "print(merge(text[n], prediction[n]))\n",
    "print(merge(text[n], actual[n]))"
   ]
  },
  {
   "cell_type": "code",
   "execution_count": null,
   "metadata": {},
   "outputs": [],
   "source": []
  }
 ],
 "metadata": {
  "kernelspec": {
   "display_name": "Python 3",
   "language": "python",
   "name": "python3"
  },
  "language_info": {
   "codemirror_mode": {
    "name": "ipython",
    "version": 3
   },
   "file_extension": ".py",
   "mimetype": "text/x-python",
   "name": "python",
   "nbconvert_exporter": "python",
   "pygments_lexer": "ipython3",
   "version": "3.8.2"
  }
 },
 "nbformat": 4,
 "nbformat_minor": 4
}
