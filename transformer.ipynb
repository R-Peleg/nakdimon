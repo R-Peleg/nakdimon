{
 "cells": [
  {
   "cell_type": "code",
   "execution_count": 1,
   "metadata": {},
   "outputs": [],
   "source": [
    "%load_ext autoreload"
   ]
  },
  {
   "cell_type": "code",
   "execution_count": 191,
   "metadata": {},
   "outputs": [],
   "source": [
    "import os\n",
    "import numpy as np\n",
    "from tensorflow import keras\n",
    "from tensorflow.keras import layers\n",
    "import tensorflow as tf\n",
    "assert tf.config.list_physical_devices('GPU')\n",
    "\n",
    "import collections\n",
    "\n",
    "%autoreload\n",
    "import dataset\n",
    "\n",
    "%autoreload\n",
    "import transformer"
   ]
  },
  {
   "cell_type": "code",
   "execution_count": 192,
   "metadata": {
    "scrolled": true
   },
   "outputs": [
    {
     "name": "stdout",
     "output_type": "stream",
     "text": [
      "Model: \"transformer_53\"\n",
      "_________________________________________________________________\n",
      "Layer (type)                 Output Shape              Param #   \n",
      "=================================================================\n",
      "encoder_53 (Encoder)         multiple                  96322     \n",
      "_________________________________________________________________\n",
      "decoder_53 (Decoder)         multiple                  102454    \n",
      "_________________________________________________________________\n",
      "dense_917 (Dense)            multiple                  688       \n",
      "_________________________________________________________________\n",
      "softmax_53 (Softmax)         multiple                  0         \n",
      "=================================================================\n",
      "Total params: 199,464\n",
      "Trainable params: 199,464\n",
      "Non-trainable params: 0\n",
      "_________________________________________________________________\n"
     ]
    }
   ],
   "source": [
    "BATCH_SIZE = 32\n",
    "\n",
    "MAXLEN = 50\n",
    "\n",
    "LETTERS_SIZE = len(dataset.letters_table)\n",
    "NIQQUD_SIZE = len(dataset.niqqud_table)\n",
    "DAGESH_SIZE = len(dataset.dagesh_table)\n",
    "SIN_SIZE = len(dataset.sin_table)\n",
    "\n",
    "d_model = 102\n",
    "\n",
    "model = transformer.Transformer(\n",
    "    num_layers=1,\n",
    "    d_model=d_model,\n",
    "    num_heads=6,\n",
    "    dff=1024,\n",
    "    input_vocab_size=LETTERS_SIZE,\n",
    "    target_vocab_size=NIQQUD_SIZE, \n",
    "    maximum_position_encoding_input=MAXLEN,\n",
    "    maximum_position_encoding_target=MAXLEN,\n",
    "    rate=0.0\n",
    ")\n",
    "\n",
    "learning_rate = transformer.CustomSchedule(d_model, warmup_steps=3000)\n",
    "model.compile(\n",
    "    optimizer=tf.keras.optimizers.Adam(1e-4),\n",
    "    loss='sparse_categorical_crossentropy',  # transformer.MaskedCategoricalCrossentropy(),  # tf.keras.losses.sparse_categorical_crossentropy,\n",
    "    metrics=['accuracy']  # unmasked, so incorrect\n",
    ")\n",
    "# pseudo \"build\" step, to allow printing a summary:\n",
    "model.run_eagerly = True\n",
    "h = model.pseudo_build(MAXLEN, MAXLEN)\n",
    "model.summary()\n",
    "model.save_weights('./checkpoints/uninit')"
   ]
  },
  {
   "cell_type": "code",
   "execution_count": 128,
   "metadata": {},
   "outputs": [
    {
     "name": "stdout",
     "output_type": "stream",
     "text": [
      "Attention weights are:\n",
      "tf.Tensor(\n",
      "[[0.         0.         0.         0.        ]\n",
      " [1.         0.         0.         0.        ]\n",
      " [0.81757444 0.18242551 0.         0.        ]\n",
      " [0.5761169  0.21194157 0.21194157 0.        ]], shape=(4, 4), dtype=float32)\n",
      "Output is:\n",
      "tf.Tensor(\n",
      "[[0.         0.         0.         0.        ]\n",
      " [0.         0.         3.         2.        ]\n",
      " [0.18242551 0.         2.4527233  1.8175744 ]\n",
      " [0.21194157 0.21194157 1.7283508  2.        ]], shape=(4, 4), dtype=float32)\n"
     ]
    }
   ],
   "source": [
    "def print_out(q, k, v, causal):\n",
    "    temp_out, temp_attn = transformer.scaled_dot_product_attention(q, k, v, causal=causal, mask=None)\n",
    "    print ('Attention weights are:')\n",
    "    print (temp_attn)\n",
    "    print ('Output is:')\n",
    "    print (temp_out)\n",
    "\n",
    "np.set_printoptions(suppress=True)\n",
    "\n",
    "temp_k = tf.constant([[0, 0, 3, 2],\n",
    "                      [1, 0, 0, 1],\n",
    "                      [0, 1, 0, 3],\n",
    "                      [5, 3, 2, 1]], dtype=tf.float32)\n",
    "\n",
    "print_out(temp_k, temp_k, temp_k, causal=True)"
   ]
  },
  {
   "cell_type": "code",
   "execution_count": 29,
   "metadata": {},
   "outputs": [],
   "source": [
    "def load_data(source, validation=0.1):\n",
    "    filenames = [os.path.join('texts', f) for f in source]\n",
    "    train, valid = dataset.load_data(filenames, validation, maxlen=MAXLEN)\n",
    "    return train, valid\n",
    "\n",
    "\n",
    "def fit(data, epochs=1):\n",
    "    train, valid = data\n",
    "    total = len(data[0])//BATCH_SIZE\n",
    "    history = collections.defaultdict(list)\n",
    "    for epoch in range(epochs):\n",
    "        model.reset_metrics()\n",
    "        for i in range(total):\n",
    "            s = slice(i*BATCH_SIZE, (i+1)*BATCH_SIZE)\n",
    "            res = model.train_step(train.normalized[s], [[0] + x for x in train.niqqud[s]])\n",
    "            out = ' - '.join(f\"{k}: {v:.4f}\" for k, v in res.items() if k != \"predictions\")\n",
    "            print(f\"{i:4d}/{total:4d} - {out}\", end='      \\r')\n",
    "        print()\n",
    "        for k, v in res.items():\n",
    "            history[k].append(res[k].numpy())\n",
    "    return history"
   ]
  },
  {
   "cell_type": "code",
   "execution_count": 30,
   "metadata": {},
   "outputs": [],
   "source": [
    "data_other = load_data(['biblical', 'garbage'])"
   ]
  },
  {
   "cell_type": "code",
   "execution_count": 31,
   "metadata": {},
   "outputs": [],
   "source": [
    "data_mix = load_data(['poetry', 'rabanit', 'pre_modern'])"
   ]
  },
  {
   "cell_type": "code",
   "execution_count": 32,
   "metadata": {},
   "outputs": [],
   "source": [
    "data_modern = load_data(validation=0.1, source=['modern'])"
   ]
  },
  {
   "cell_type": "code",
   "execution_count": 193,
   "metadata": {
    "scrolled": true
   },
   "outputs": [
    {
     "name": "stdout",
     "output_type": "stream",
     "text": [
      "1989/1990 - loss: 1.4968 - accuracy: 0.5331                                          \n"
     ]
    }
   ],
   "source": [
    "model.load_weights('./checkpoints/uninit')\n",
    "history = fit(data_other, epochs=1)\n",
    "model.save_weights('./checkpoints/other')"
   ]
  },
  {
   "cell_type": "code",
   "execution_count": null,
   "metadata": {},
   "outputs": [
    {
     "name": "stdout",
     "output_type": "stream",
     "text": [
      " 922/5685 - loss: 0.8498 - accuracy: 0.7036                                          \r"
     ]
    }
   ],
   "source": [
    "model.load_weights('./checkpoints/other')\n",
    "history = fit(data_mix, epochs=1) # (102, 2048, 6) warmup=270 : 974,746 - 0.8323  (7 - same)\n",
    "model.save_weights('./checkpoints/mix')"
   ]
  },
  {
   "cell_type": "code",
   "execution_count": 41,
   "metadata": {
    "scrolled": true
   },
   "outputs": [
    {
     "name": "stdout",
     "output_type": "stream",
     "text": [
      " 679/ 680 - loss: 0.0354 - accuracy: 0.9881                                                \n"
     ]
    }
   ],
   "source": [
    "model.load_weights('./checkpoints/mix')\n",
    "history = fit(data_modern, epochs=1)\n",
    "# print(true_accuracy(data_modern)\n",
    "model.save_weights('./checkpoints/modern')"
   ]
  },
  {
   "cell_type": "code",
   "execution_count": null,
   "metadata": {
    "scrolled": true,
    "tags": [
     "outputPrepend",
     "outputPrepend",
     "outputPrepend",
     "outputPrepend",
     "outputPrepend",
     "outputPrepend",
     "outputPrepend"
    ]
   },
   "outputs": [],
   "source": [
    "model.load_weights('./checkpoints/modern')\n",
    "\n",
    "def print_predictions(data, s):\n",
    "    batch = data.normalized[s]\n",
    "    prediction = model.predict(batch)\n",
    "    [actual_niqqud, actual_dagesh, actual_sin] = [dataset.from_categorical(prediction[0]), dataset.from_categorical(prediction[1]), dataset.from_categorical(prediction[2])]\n",
    "    [expected_niqqud, expected_dagesh, expected_sin] = [data.niqqud[s], data.dagesh[s], data.sin[s]]\n",
    "    actual = dataset.merge(data.text[s], ts=batch, ns=actual_niqqud, ds=actual_dagesh, ss=actual_sin)\n",
    "    expected = dataset.merge(data.text[s], ts=batch, ns=expected_niqqud, ds=expected_dagesh, ss=expected_sin)\n",
    "    total = []\n",
    "    for i, (a, e) in enumerate(zip(actual, expected)):\n",
    "        print('מצוי: ', a)\n",
    "        print('רצוי: ', e)\n",
    "        last = expected_niqqud[i].tolist().index(0)\n",
    "        res = expected_niqqud[i][:last] == actual_niqqud[i][:last]\n",
    "        total.extend(res)\n",
    "        print(f'{np.mean(res):.2f} ({last - sum(res)} out of {last})')\n",
    "        print()\n",
    "    print(round(np.mean(total), 3))\n",
    "\n",
    "print_predictions(data_modern[1], slice(0, None))"
   ]
  },
  {
   "cell_type": "code",
   "execution_count": null,
   "metadata": {},
   "outputs": [],
   "source": [
    "import matplotlib.pyplot as plt\n",
    "\n",
    "fig, ax = plt.subplots(nrows=1, ncols=len(history))\n",
    "\n",
    "for i, v in enumerate(history.values()):\n",
    "    ax[i].plot(v)\n",
    "\n",
    "plt.tight_layout()"
   ]
  },
  {
   "cell_type": "code",
   "execution_count": null,
   "metadata": {},
   "outputs": [],
   "source": [
    "model.load_weights('./checkpoints/modern')\n",
    "def evaluate(inp_sentence):\n",
    "    encoder_input = tf.expand_dims(inp_sentence, 0)\n",
    "    output = [0] * len(inp_sentence)\n",
    "    size = inp_sentence.shape[0]\n",
    "    last = inp_sentence.tolist().index(0)\n",
    "    for i in range(last):\n",
    "        padding_mask = transformer.create_padding_mask(encoder_input)\n",
    "        look_ahead_mask = tf.cast(tf.constant([[[[0]*i + [1]*(MAXLEN-i)]]]), dtype=float)\n",
    "        combined_mask = tf.maximum(padding_mask, look_ahead_mask)\n",
    "        \n",
    "        output_tensor = tf.constant([output], dtype=tf.int32)\n",
    "        print(combined_mask)\n",
    "        # predictions.shape == (batch_size, seq_len, vocab_size)\n",
    "        predictions, _ = model(encoder_input, output_tensor, False, padding_mask, combined_mask, padding_mask)\n",
    "        print(predictions)\n",
    "        # select the last character from the seq_len dimension\n",
    "        # predictions = predictions[: ,-1:, :]  # (batch_size, 1, vocab_size)\n",
    "        predicted_id = tf.cast(tf.argmax(predictions, axis=-1), tf.int32)\n",
    "\n",
    "        # concatentate the predicted_id to the output which is given to the decoder as its input.\n",
    "        print(predicted_id)\n",
    "        output[i] = predicted_id.numpy()[0][i]\n",
    "        # print(combined_mask[0, 0, i, :].numpy())\n",
    "        print(output)\n",
    "        print()\n",
    "    print(output)\n",
    "evaluate(data_modern[0].normalized[0])"
   ]
  },
  {
   "cell_type": "code",
   "execution_count": 130,
   "metadata": {},
   "outputs": [
    {
     "name": "stdout",
     "output_type": "stream",
     "text": [
      "[21 39 19 21  5 42 29  5 37 22 33 40 39 26 22 43  5 42 22 33 22 43  5 28\n",
      " 25 22 41 26 30  5  9 41 17 22  5 25 22 41  5 25 26 26 29 22 41 10 11  5\n",
      "  0  0]\n",
      "[ 2  2 10  1  1  8  1  1  1 14  2  2  6  1 11  1  1  1 11  1 11  1  1 15\n",
      "  1 14  6  1  1  1  1  2  1 14  1  1 14  1  1  8  1  2  1 11  1  1  1  1\n",
      "  0  0]\n",
      "[15 10 10  1  1  8  1  1  1 14  2  2  6  1 11  1  1  1 11  1 11  1  1 15\n",
      "  1 14  6  1  1  1  1  2  1 14  1  1 14  1  1  8  1  2  1 11  1  1  1  1\n",
      "  0  0]\n",
      "[False False  True  True  True  True  True  True  True  True  True  True\n",
      "  True  True  True  True  True  True  True  True  True  True  True  True\n",
      "  True  True  True  True  True  True  True  True  True  True  True  True\n",
      "  True  True  True  True  True  True  True  True  True  True  True  True\n",
      "  True  True]\n",
      "0.97125\n",
      "הְצְגָה שֶל פוּנְקְצִיוֹת שוֹנוֹת כַטוּרִים (רְאוּ טוּר טֶייְלוֹר), \n",
      "הַצָגָה שֶל פוּנְקְצִיוֹת שוֹנוֹת כַטוּרִים (רְאוּ טוּר טֶייְלוֹר), \n"
     ]
    }
   ],
   "source": [
    "\n",
    "def merge(normalized, prediction):\n",
    "    sentence = []\n",
    "    for c, n in zip(normalized, prediction):\n",
    "        if c == dataset.letters_table.PAD_TOKEN:\n",
    "            break\n",
    "        sentence.append(dataset.letters_table.indices_char[c])\n",
    "        sentence.append(dataset.niqqud_table.indices_char[n])\n",
    "    return ''.join(sentence)\n",
    "\n",
    "d = data_modern\n",
    "text = d[1].normalized[2*BATCH_SIZE:3*BATCH_SIZE]\n",
    "actual = d[1].niqqud[2*BATCH_SIZE:3*BATCH_SIZE]\n",
    "padding_mask = transformer.create_padding_mask(text)\n",
    "prediction = model(text, actual, False, padding_mask)[0]  # np.argmax(history['predictions'], axis=-1)[0]\n",
    "prediction = np.argmax(prediction, axis=-1)\n",
    "n = 5\n",
    "print(text[n])\n",
    "print(prediction[n])\n",
    "print(actual[n])\n",
    "print(prediction[n] == actual[n])\n",
    "print(np.mean(prediction == actual))\n",
    "print(merge(text[n], prediction[n]))\n",
    "print(merge(text[n], actual[n]))"
   ]
  },
  {
   "cell_type": "code",
   "execution_count": 123,
   "metadata": {},
   "outputs": [
    {
     "name": "stdout",
     "output_type": "stream",
     "text": [
      "[[4]\n",
      " [5]\n",
      " [6]]\n"
     ]
    },
    {
     "data": {
      "text/plain": [
       "array([[ 55],\n",
       "       [151],\n",
       "       [247]])"
      ]
     },
     "execution_count": 123,
     "metadata": {},
     "output_type": "execute_result"
    }
   ],
   "source": [
    "import numpy as np\n",
    "a = np.array([[1, 2, 3], [4,5,6], [7, 8, 9]])\n",
    "b = np.array([[1, 1, 1], [0, 1, 1], [0, 0, 1]])\n",
    "c = np.array([[4, 5, 6]])\n",
    "print(c.T)\n",
    "a @ b @ c.T\n"
   ]
  },
  {
   "cell_type": "code",
   "execution_count": null,
   "metadata": {},
   "outputs": [],
   "source": [
    "def print_out(q, k, v):\n",
    "    temp_out, temp_attn = transformer.scaled_dot_product_attention(q, k, v, None)\n",
    "    print ('Attention weights are:')\n",
    "    print (temp_attn)\n",
    "    print ('Output is:')\n",
    "    print (temp_out)\n",
    "\n",
    "np.set_printoptions(suppress=True)\n",
    "\n",
    "temp_k = tf.constant([[10,0,0],\n",
    "                      [0,10,0],\n",
    "                      [0,0,10],\n",
    "                      [0,0,10]], dtype=tf.float32)  # (4, 3)\n",
    "\n",
    "temp_v = tf.constant([[   1,0],\n",
    "                      [  10,0],\n",
    "                      [ 100,5],\n",
    "                      [1000,6]], dtype=tf.float32)  # (4, 2)\n",
    "\n",
    "# This `query` aligns with the second `key`,\n",
    "# so the second `value` is returned.\n",
    "temp_q = tf.constant([[0, 10, 0]], dtype=tf.float32)  # (1, 3)\n",
    "print_out(temp_q, temp_k, temp_v)"
   ]
  }
 ],
 "metadata": {
  "kernelspec": {
   "display_name": "Python 3",
   "language": "python",
   "name": "python3"
  },
  "language_info": {
   "codemirror_mode": {
    "name": "ipython",
    "version": 3
   },
   "file_extension": ".py",
   "mimetype": "text/x-python",
   "name": "python",
   "nbconvert_exporter": "python",
   "pygments_lexer": "ipython3",
   "version": "3.8.2"
  }
 },
 "nbformat": 4,
 "nbformat_minor": 4
}
