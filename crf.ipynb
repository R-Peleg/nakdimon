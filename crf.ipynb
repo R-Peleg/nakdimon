{
 "cells": [
  {
   "cell_type": "code",
   "execution_count": 5,
   "metadata": {},
   "outputs": [],
   "source": [
    "import os\n",
    "import numpy as np\n",
    "from tensorflow import keras\n",
    "from tensorflow.keras import layers\n",
    "\n",
    "import dataset\n",
    "import schedulers\n",
    "\n",
    "import tensorflow as tf\n",
    "assert tf.config.list_physical_devices('GPU')\n",
    "\n",
    "from tensorflow_addons.layers.crf import CRF\n",
    "from tensorflow_addons.text.crf import crf_log_likelihood"
   ]
  },
  {
   "cell_type": "code",
   "execution_count": 6,
   "metadata": {},
   "outputs": [
    {
     "output_type": "stream",
     "name": "stdout",
     "text": "Model: \"model_with_crf_loss\"\n__________________________________________________________________________________________________\nLayer (type)                    Output Shape         Param #     Connected to                     \n==================================================================================================\ninput_1 (InputLayer)            [(None, None)]       0                                            \n__________________________________________________________________________________________________\nembedding (Embedding)           (None, None, 128)    5632        input_1[0][0]                    \n__________________________________________________________________________________________________\nbidirectional (Bidirectional)   (None, None, 128)    263168      embedding[0][0]                  \n__________________________________________________________________________________________________\nN (CRF)                         [(None, None), (None 2352        bidirectional[0][0]              \n__________________________________________________________________________________________________\nD (CRF)                         [(None, None), (None 402         bidirectional[0][0]              \n__________________________________________________________________________________________________\nS (CRF)                         [(None, None), (None 540         bidirectional[0][0]              \n==================================================================================================\nTotal params: 272,094\nTrainable params: 272,094\nNon-trainable params: 0\n__________________________________________________________________________________________________\n"
    }
   ],
   "source": [
    "\n",
    "class ModelWithCRFLoss(tf.keras.Model):\n",
    "\n",
    "    def compute_loss(self, data, training=False):\n",
    "        x, ys = data\n",
    "        ys = list(ys.values())\n",
    "        potentials = []\n",
    "        crf_losses = []\n",
    "        preds = self(x, training=training)\n",
    "        for p, y in zip(preds, ys):\n",
    "            [_, potential, sequence_length, chain_kernel] = p\n",
    "            crf_loss = -crf_log_likelihood(potential, y, sequence_length, chain_kernel)[0]\n",
    "            potentials.append(potential)\n",
    "            crf_losses.append(crf_loss)\n",
    "        self.compiled_metrics.update_state(ys, potentials, None)\n",
    "        return crf_losses\n",
    "\n",
    "    def log_outputs(self, crf_losses):\n",
    "        return { # **{f'crf_loss_{i}': x for i, x in enumerate(crf_losses)},\n",
    "                **{m.name: m.result() for m in self.metrics}}\n",
    "\n",
    "    def train_step(self, data):\n",
    "        with tf.GradientTape() as tape:\n",
    "            crf_losses = self.compute_loss(data, training=True)\n",
    "            # total_losses[i] = sum(crf_losses[i]) + sum(self.losses[i])\n",
    "\n",
    "        gradients = tape.gradient(crf_losses, self.trainable_variables)\n",
    "        self.optimizer.apply_gradients(zip(gradients, self.trainable_variables))\n",
    "        return self.log_outputs(crf_losses)\n",
    "\n",
    "    def test_step(self, data):\n",
    "        crf_losses = self.compute_loss(data, training=False)\n",
    "        return self.log_outputs(crf_losses)\n",
    "\n",
    "\n",
    "BATCH_SIZE = 32\n",
    "\n",
    "def build_model(UNITS=128):\n",
    "    LETTERS_SIZE = len(dataset.letters_table)\n",
    "    NIQQUD_SIZE = len(dataset.niqqud_table)\n",
    "    DAGESH_SIZE = len(dataset.dagesh_table)\n",
    "    SIN_SIZE = len(dataset.sin_table)\n",
    "\n",
    "    inp = keras.Input(batch_shape=(None, None), batch_size=BATCH_SIZE)\n",
    "    layer = layers.Embedding(LETTERS_SIZE, UNITS, mask_zero=True)(inp)\n",
    "    layer = layers.Bidirectional(layers.LSTM(UNITS, return_sequences=True), merge_mode='sum')(layer)\n",
    "    \n",
    "    outputs = [\n",
    "        CRF(NIQQUD_SIZE, name='N')(layer),\n",
    "        CRF(DAGESH_SIZE, name='D')(layer),\n",
    "        CRF(SIN_SIZE   , name='S')(layer),\n",
    "    ]\n",
    "    model = ModelWithCRFLoss(inputs=inp, outputs=outputs)\n",
    "    model.build((None, None))\n",
    "    return model\n",
    "\n",
    "model = build_model()\n",
    "\n",
    "model.summary()\n",
    "model.save_weights('./checkpoints/crf_uninit')"
   ]
  },
  {
   "cell_type": "code",
   "execution_count": 7,
   "metadata": {},
   "outputs": [],
   "source": [
    "def accuracy(y_true, y_pred):\n",
    "    K = keras.backend\n",
    "    f = K.floatx()\n",
    "    # convert dense predictions to labels\n",
    "    y_pred_labels =  K.cast(K.argmax(y_pred, axis=-1), f)\n",
    "    \n",
    "    res = K.cast(K.equal(y_true, y_pred_labels), f)\n",
    "    return K.sum(res) / K.sum(K.cast(K.not_equal(y_true, 0), f))\n",
    "\n",
    "\n",
    "def fit(train_validation, lr):\n",
    "    train, valid = train_validation\n",
    "    model.compile(metrics=\"accuracy\", loss=\"ce\", optimizer=tf.keras.optimizers.Adam(learning_rate=lr))\n",
    "    \n",
    "    y  = {'N': train.niqqud, 'D': train.dagesh, 'S': train.sin }\n",
    "    vy = {'N': valid.niqqud, 'D': valid.dagesh, 'S': valid.sin }\n",
    "    return model.fit(train.normalized, y, validation_data=(valid.normalized, vy), batch_size=BATCH_SIZE, epochs=1)\n",
    "\n",
    "\n",
    "def load_data(source, maxlen=82, validation=0.1):\n",
    "    filenames = [os.path.join('texts', f) for f in source]\n",
    "    train, valid = dataset.load_data(filenames, validation, maxlen=maxlen)\n",
    "    return train, valid"
   ]
  },
  {
   "cell_type": "code",
   "execution_count": 8,
   "metadata": {},
   "outputs": [],
   "source": [
    "data_mix = load_data(validation=0.1, source=['poetry', 'rabanit', 'pre_modern'])"
   ]
  },
  {
   "cell_type": "code",
   "execution_count": 9,
   "metadata": {},
   "outputs": [],
   "source": [
    "data_modern = load_data(validation=0.1, source=['modern'])"
   ]
  },
  {
   "cell_type": "code",
   "execution_count": 10,
   "metadata": {},
   "outputs": [
    {
     "output_type": "stream",
     "name": "stdout",
     "text": "1850/3368 [===============>..............] - ETA: 8:27 - N_accuracy: 0.6380 - N_1_accuracy: 0.8280 - N_2_accuracy: 0.9398"
    },
    {
     "output_type": "error",
     "ename": "InternalError",
     "evalue": " [_Derived_]  Failed to call ThenRnnBackward with model config: [rnn_mode, rnn_input_mode, rnn_direction_mode]: 2, 0, 0 , [num_layers, input_size, num_units, dir_count, max_seq_length, batch_size, cell_num_units]: [1, 128, 128, 1, 82, 32, 128] \n\t [[{{node gradients/cond_grad/If/then/_0/gradients/CudnnRNNV3_grad/CudnnRNNBackpropV3}}]]\n\t [[StatefulPartitionedCall]]\n\t [[gradient_tape/model_with_crf_loss/embedding/embedding_lookup/Reshape/_400]] [Op:__inference_train_function_25576]\n\nFunction call stack:\ntrain_function -> train_function -> train_function\n",
     "traceback": [
      "\u001b[1;31m---------------------------------------------------------------------------\u001b[0m",
      "\u001b[1;31mInternalError\u001b[0m                             Traceback (most recent call last)",
      "\u001b[1;32m<ipython-input-10-5e78d787f4b4>\u001b[0m in \u001b[0;36m<module>\u001b[1;34m\u001b[0m\n\u001b[0;32m      1\u001b[0m \u001b[0mmodel\u001b[0m\u001b[1;33m.\u001b[0m\u001b[0mload_weights\u001b[0m\u001b[1;33m(\u001b[0m\u001b[1;34m'./checkpoints/crf_uninit'\u001b[0m\u001b[1;33m)\u001b[0m\u001b[1;33m\u001b[0m\u001b[1;33m\u001b[0m\u001b[0m\n\u001b[1;32m----> 2\u001b[1;33m \u001b[0mhistory\u001b[0m \u001b[1;33m=\u001b[0m \u001b[0mfit\u001b[0m\u001b[1;33m(\u001b[0m\u001b[0mdata_mix\u001b[0m\u001b[1;33m,\u001b[0m \u001b[0mlr\u001b[0m\u001b[1;33m=\u001b[0m\u001b[1;36m2e-4\u001b[0m\u001b[1;33m)\u001b[0m\u001b[1;33m\u001b[0m\u001b[1;33m\u001b[0m\u001b[0m\n\u001b[0m\u001b[0;32m      3\u001b[0m \u001b[0mmodel\u001b[0m\u001b[1;33m.\u001b[0m\u001b[0msave_weights\u001b[0m\u001b[1;33m(\u001b[0m\u001b[1;34m'./checkpoints/crf_mix'\u001b[0m\u001b[1;33m)\u001b[0m\u001b[1;33m\u001b[0m\u001b[1;33m\u001b[0m\u001b[0m\n",
      "\u001b[1;32m<ipython-input-7-8a6ba1dbd480>\u001b[0m in \u001b[0;36mfit\u001b[1;34m(train_validation, lr)\u001b[0m\n\u001b[0;32m     15\u001b[0m     \u001b[0my\u001b[0m  \u001b[1;33m=\u001b[0m \u001b[1;33m{\u001b[0m\u001b[1;34m'N'\u001b[0m\u001b[1;33m:\u001b[0m \u001b[0mtrain\u001b[0m\u001b[1;33m.\u001b[0m\u001b[0mniqqud\u001b[0m\u001b[1;33m,\u001b[0m \u001b[1;34m'D'\u001b[0m\u001b[1;33m:\u001b[0m \u001b[0mtrain\u001b[0m\u001b[1;33m.\u001b[0m\u001b[0mdagesh\u001b[0m\u001b[1;33m,\u001b[0m \u001b[1;34m'S'\u001b[0m\u001b[1;33m:\u001b[0m \u001b[0mtrain\u001b[0m\u001b[1;33m.\u001b[0m\u001b[0msin\u001b[0m \u001b[1;33m}\u001b[0m\u001b[1;33m\u001b[0m\u001b[1;33m\u001b[0m\u001b[0m\n\u001b[0;32m     16\u001b[0m     \u001b[0mvy\u001b[0m \u001b[1;33m=\u001b[0m \u001b[1;33m{\u001b[0m\u001b[1;34m'N'\u001b[0m\u001b[1;33m:\u001b[0m \u001b[0mvalid\u001b[0m\u001b[1;33m.\u001b[0m\u001b[0mniqqud\u001b[0m\u001b[1;33m,\u001b[0m \u001b[1;34m'D'\u001b[0m\u001b[1;33m:\u001b[0m \u001b[0mvalid\u001b[0m\u001b[1;33m.\u001b[0m\u001b[0mdagesh\u001b[0m\u001b[1;33m,\u001b[0m \u001b[1;34m'S'\u001b[0m\u001b[1;33m:\u001b[0m \u001b[0mvalid\u001b[0m\u001b[1;33m.\u001b[0m\u001b[0msin\u001b[0m \u001b[1;33m}\u001b[0m\u001b[1;33m\u001b[0m\u001b[1;33m\u001b[0m\u001b[0m\n\u001b[1;32m---> 17\u001b[1;33m     \u001b[1;32mreturn\u001b[0m \u001b[0mmodel\u001b[0m\u001b[1;33m.\u001b[0m\u001b[0mfit\u001b[0m\u001b[1;33m(\u001b[0m\u001b[0mtrain\u001b[0m\u001b[1;33m.\u001b[0m\u001b[0mnormalized\u001b[0m\u001b[1;33m,\u001b[0m \u001b[0my\u001b[0m\u001b[1;33m,\u001b[0m \u001b[0mvalidation_data\u001b[0m\u001b[1;33m=\u001b[0m\u001b[1;33m(\u001b[0m\u001b[0mvalid\u001b[0m\u001b[1;33m.\u001b[0m\u001b[0mnormalized\u001b[0m\u001b[1;33m,\u001b[0m \u001b[0mvy\u001b[0m\u001b[1;33m)\u001b[0m\u001b[1;33m,\u001b[0m \u001b[0mbatch_size\u001b[0m\u001b[1;33m=\u001b[0m\u001b[0mBATCH_SIZE\u001b[0m\u001b[1;33m,\u001b[0m \u001b[0mepochs\u001b[0m\u001b[1;33m=\u001b[0m\u001b[1;36m1\u001b[0m\u001b[1;33m)\u001b[0m\u001b[1;33m\u001b[0m\u001b[1;33m\u001b[0m\u001b[0m\n\u001b[0m\u001b[0;32m     18\u001b[0m \u001b[1;33m\u001b[0m\u001b[0m\n\u001b[0;32m     19\u001b[0m \u001b[1;33m\u001b[0m\u001b[0m\n",
      "\u001b[1;32m~\\AppData\\Local\\Programs\\Python\\Python38\\lib\\site-packages\\tensorflow\\python\\keras\\engine\\training.py\u001b[0m in \u001b[0;36m_method_wrapper\u001b[1;34m(self, *args, **kwargs)\u001b[0m\n\u001b[0;32m     64\u001b[0m   \u001b[1;32mdef\u001b[0m \u001b[0m_method_wrapper\u001b[0m\u001b[1;33m(\u001b[0m\u001b[0mself\u001b[0m\u001b[1;33m,\u001b[0m \u001b[1;33m*\u001b[0m\u001b[0margs\u001b[0m\u001b[1;33m,\u001b[0m \u001b[1;33m**\u001b[0m\u001b[0mkwargs\u001b[0m\u001b[1;33m)\u001b[0m\u001b[1;33m:\u001b[0m\u001b[1;33m\u001b[0m\u001b[1;33m\u001b[0m\u001b[0m\n\u001b[0;32m     65\u001b[0m     \u001b[1;32mif\u001b[0m \u001b[1;32mnot\u001b[0m \u001b[0mself\u001b[0m\u001b[1;33m.\u001b[0m\u001b[0m_in_multi_worker_mode\u001b[0m\u001b[1;33m(\u001b[0m\u001b[1;33m)\u001b[0m\u001b[1;33m:\u001b[0m  \u001b[1;31m# pylint: disable=protected-access\u001b[0m\u001b[1;33m\u001b[0m\u001b[1;33m\u001b[0m\u001b[0m\n\u001b[1;32m---> 66\u001b[1;33m       \u001b[1;32mreturn\u001b[0m \u001b[0mmethod\u001b[0m\u001b[1;33m(\u001b[0m\u001b[0mself\u001b[0m\u001b[1;33m,\u001b[0m \u001b[1;33m*\u001b[0m\u001b[0margs\u001b[0m\u001b[1;33m,\u001b[0m \u001b[1;33m**\u001b[0m\u001b[0mkwargs\u001b[0m\u001b[1;33m)\u001b[0m\u001b[1;33m\u001b[0m\u001b[1;33m\u001b[0m\u001b[0m\n\u001b[0m\u001b[0;32m     67\u001b[0m \u001b[1;33m\u001b[0m\u001b[0m\n\u001b[0;32m     68\u001b[0m     \u001b[1;31m# Running inside `run_distribute_coordinator` already.\u001b[0m\u001b[1;33m\u001b[0m\u001b[1;33m\u001b[0m\u001b[1;33m\u001b[0m\u001b[0m\n",
      "\u001b[1;32m~\\AppData\\Local\\Programs\\Python\\Python38\\lib\\site-packages\\tensorflow\\python\\keras\\engine\\training.py\u001b[0m in \u001b[0;36mfit\u001b[1;34m(self, x, y, batch_size, epochs, verbose, callbacks, validation_split, validation_data, shuffle, class_weight, sample_weight, initial_epoch, steps_per_epoch, validation_steps, validation_batch_size, validation_freq, max_queue_size, workers, use_multiprocessing)\u001b[0m\n\u001b[0;32m    846\u001b[0m                 batch_size=batch_size):\n\u001b[0;32m    847\u001b[0m               \u001b[0mcallbacks\u001b[0m\u001b[1;33m.\u001b[0m\u001b[0mon_train_batch_begin\u001b[0m\u001b[1;33m(\u001b[0m\u001b[0mstep\u001b[0m\u001b[1;33m)\u001b[0m\u001b[1;33m\u001b[0m\u001b[1;33m\u001b[0m\u001b[0m\n\u001b[1;32m--> 848\u001b[1;33m               \u001b[0mtmp_logs\u001b[0m \u001b[1;33m=\u001b[0m \u001b[0mtrain_function\u001b[0m\u001b[1;33m(\u001b[0m\u001b[0miterator\u001b[0m\u001b[1;33m)\u001b[0m\u001b[1;33m\u001b[0m\u001b[1;33m\u001b[0m\u001b[0m\n\u001b[0m\u001b[0;32m    849\u001b[0m               \u001b[1;31m# Catch OutOfRangeError for Datasets of unknown size.\u001b[0m\u001b[1;33m\u001b[0m\u001b[1;33m\u001b[0m\u001b[1;33m\u001b[0m\u001b[0m\n\u001b[0;32m    850\u001b[0m               \u001b[1;31m# This blocks until the batch has finished executing.\u001b[0m\u001b[1;33m\u001b[0m\u001b[1;33m\u001b[0m\u001b[1;33m\u001b[0m\u001b[0m\n",
      "\u001b[1;32m~\\AppData\\Local\\Programs\\Python\\Python38\\lib\\site-packages\\tensorflow\\python\\eager\\def_function.py\u001b[0m in \u001b[0;36m__call__\u001b[1;34m(self, *args, **kwds)\u001b[0m\n\u001b[0;32m    578\u001b[0m         \u001b[0mxla_context\u001b[0m\u001b[1;33m.\u001b[0m\u001b[0mExit\u001b[0m\u001b[1;33m(\u001b[0m\u001b[1;33m)\u001b[0m\u001b[1;33m\u001b[0m\u001b[1;33m\u001b[0m\u001b[0m\n\u001b[0;32m    579\u001b[0m     \u001b[1;32melse\u001b[0m\u001b[1;33m:\u001b[0m\u001b[1;33m\u001b[0m\u001b[1;33m\u001b[0m\u001b[0m\n\u001b[1;32m--> 580\u001b[1;33m       \u001b[0mresult\u001b[0m \u001b[1;33m=\u001b[0m \u001b[0mself\u001b[0m\u001b[1;33m.\u001b[0m\u001b[0m_call\u001b[0m\u001b[1;33m(\u001b[0m\u001b[1;33m*\u001b[0m\u001b[0margs\u001b[0m\u001b[1;33m,\u001b[0m \u001b[1;33m**\u001b[0m\u001b[0mkwds\u001b[0m\u001b[1;33m)\u001b[0m\u001b[1;33m\u001b[0m\u001b[1;33m\u001b[0m\u001b[0m\n\u001b[0m\u001b[0;32m    581\u001b[0m \u001b[1;33m\u001b[0m\u001b[0m\n\u001b[0;32m    582\u001b[0m     \u001b[1;32mif\u001b[0m \u001b[0mtracing_count\u001b[0m \u001b[1;33m==\u001b[0m \u001b[0mself\u001b[0m\u001b[1;33m.\u001b[0m\u001b[0m_get_tracing_count\u001b[0m\u001b[1;33m(\u001b[0m\u001b[1;33m)\u001b[0m\u001b[1;33m:\u001b[0m\u001b[1;33m\u001b[0m\u001b[1;33m\u001b[0m\u001b[0m\n",
      "\u001b[1;32m~\\AppData\\Local\\Programs\\Python\\Python38\\lib\\site-packages\\tensorflow\\python\\eager\\def_function.py\u001b[0m in \u001b[0;36m_call\u001b[1;34m(self, *args, **kwds)\u001b[0m\n\u001b[0;32m    609\u001b[0m       \u001b[1;31m# In this case we have created variables on the first call, so we run the\u001b[0m\u001b[1;33m\u001b[0m\u001b[1;33m\u001b[0m\u001b[1;33m\u001b[0m\u001b[0m\n\u001b[0;32m    610\u001b[0m       \u001b[1;31m# defunned version which is guaranteed to never create variables.\u001b[0m\u001b[1;33m\u001b[0m\u001b[1;33m\u001b[0m\u001b[1;33m\u001b[0m\u001b[0m\n\u001b[1;32m--> 611\u001b[1;33m       \u001b[1;32mreturn\u001b[0m \u001b[0mself\u001b[0m\u001b[1;33m.\u001b[0m\u001b[0m_stateless_fn\u001b[0m\u001b[1;33m(\u001b[0m\u001b[1;33m*\u001b[0m\u001b[0margs\u001b[0m\u001b[1;33m,\u001b[0m \u001b[1;33m**\u001b[0m\u001b[0mkwds\u001b[0m\u001b[1;33m)\u001b[0m  \u001b[1;31m# pylint: disable=not-callable\u001b[0m\u001b[1;33m\u001b[0m\u001b[1;33m\u001b[0m\u001b[0m\n\u001b[0m\u001b[0;32m    612\u001b[0m     \u001b[1;32melif\u001b[0m \u001b[0mself\u001b[0m\u001b[1;33m.\u001b[0m\u001b[0m_stateful_fn\u001b[0m \u001b[1;32mis\u001b[0m \u001b[1;32mnot\u001b[0m \u001b[1;32mNone\u001b[0m\u001b[1;33m:\u001b[0m\u001b[1;33m\u001b[0m\u001b[1;33m\u001b[0m\u001b[0m\n\u001b[0;32m    613\u001b[0m       \u001b[1;31m# Release the lock early so that multiple threads can perform the call\u001b[0m\u001b[1;33m\u001b[0m\u001b[1;33m\u001b[0m\u001b[1;33m\u001b[0m\u001b[0m\n",
      "\u001b[1;32m~\\AppData\\Local\\Programs\\Python\\Python38\\lib\\site-packages\\tensorflow\\python\\eager\\function.py\u001b[0m in \u001b[0;36m__call__\u001b[1;34m(self, *args, **kwargs)\u001b[0m\n\u001b[0;32m   2418\u001b[0m     \u001b[1;32mwith\u001b[0m \u001b[0mself\u001b[0m\u001b[1;33m.\u001b[0m\u001b[0m_lock\u001b[0m\u001b[1;33m:\u001b[0m\u001b[1;33m\u001b[0m\u001b[1;33m\u001b[0m\u001b[0m\n\u001b[0;32m   2419\u001b[0m       \u001b[0mgraph_function\u001b[0m\u001b[1;33m,\u001b[0m \u001b[0margs\u001b[0m\u001b[1;33m,\u001b[0m \u001b[0mkwargs\u001b[0m \u001b[1;33m=\u001b[0m \u001b[0mself\u001b[0m\u001b[1;33m.\u001b[0m\u001b[0m_maybe_define_function\u001b[0m\u001b[1;33m(\u001b[0m\u001b[0margs\u001b[0m\u001b[1;33m,\u001b[0m \u001b[0mkwargs\u001b[0m\u001b[1;33m)\u001b[0m\u001b[1;33m\u001b[0m\u001b[1;33m\u001b[0m\u001b[0m\n\u001b[1;32m-> 2420\u001b[1;33m     \u001b[1;32mreturn\u001b[0m \u001b[0mgraph_function\u001b[0m\u001b[1;33m.\u001b[0m\u001b[0m_filtered_call\u001b[0m\u001b[1;33m(\u001b[0m\u001b[0margs\u001b[0m\u001b[1;33m,\u001b[0m \u001b[0mkwargs\u001b[0m\u001b[1;33m)\u001b[0m  \u001b[1;31m# pylint: disable=protected-access\u001b[0m\u001b[1;33m\u001b[0m\u001b[1;33m\u001b[0m\u001b[0m\n\u001b[0m\u001b[0;32m   2421\u001b[0m \u001b[1;33m\u001b[0m\u001b[0m\n\u001b[0;32m   2422\u001b[0m   \u001b[1;33m@\u001b[0m\u001b[0mproperty\u001b[0m\u001b[1;33m\u001b[0m\u001b[1;33m\u001b[0m\u001b[0m\n",
      "\u001b[1;32m~\\AppData\\Local\\Programs\\Python\\Python38\\lib\\site-packages\\tensorflow\\python\\eager\\function.py\u001b[0m in \u001b[0;36m_filtered_call\u001b[1;34m(self, args, kwargs)\u001b[0m\n\u001b[0;32m   1659\u001b[0m       \u001b[0;31m`\u001b[0m\u001b[0margs\u001b[0m\u001b[0;31m`\u001b[0m \u001b[1;32mand\u001b[0m\u001b[0;31m \u001b[0m\u001b[0;31m`\u001b[0m\u001b[0mkwargs\u001b[0m\u001b[0;31m`\u001b[0m\u001b[1;33m.\u001b[0m\u001b[1;33m\u001b[0m\u001b[1;33m\u001b[0m\u001b[0m\n\u001b[0;32m   1660\u001b[0m     \"\"\"\n\u001b[1;32m-> 1661\u001b[1;33m     return self._call_flat(\n\u001b[0m\u001b[0;32m   1662\u001b[0m         (t for t in nest.flatten((args, kwargs), expand_composites=True)\n\u001b[0;32m   1663\u001b[0m          if isinstance(t, (ops.Tensor,\n",
      "\u001b[1;32m~\\AppData\\Local\\Programs\\Python\\Python38\\lib\\site-packages\\tensorflow\\python\\eager\\function.py\u001b[0m in \u001b[0;36m_call_flat\u001b[1;34m(self, args, captured_inputs, cancellation_manager)\u001b[0m\n\u001b[0;32m   1743\u001b[0m         and executing_eagerly):\n\u001b[0;32m   1744\u001b[0m       \u001b[1;31m# No tape is watching; skip to running the function.\u001b[0m\u001b[1;33m\u001b[0m\u001b[1;33m\u001b[0m\u001b[1;33m\u001b[0m\u001b[0m\n\u001b[1;32m-> 1745\u001b[1;33m       return self._build_call_outputs(self._inference_function.call(\n\u001b[0m\u001b[0;32m   1746\u001b[0m           ctx, args, cancellation_manager=cancellation_manager))\n\u001b[0;32m   1747\u001b[0m     forward_backward = self._select_forward_and_backward_functions(\n",
      "\u001b[1;32m~\\AppData\\Local\\Programs\\Python\\Python38\\lib\\site-packages\\tensorflow\\python\\eager\\function.py\u001b[0m in \u001b[0;36mcall\u001b[1;34m(self, ctx, args, cancellation_manager)\u001b[0m\n\u001b[0;32m    591\u001b[0m       \u001b[1;32mwith\u001b[0m \u001b[0m_InterpolateFunctionError\u001b[0m\u001b[1;33m(\u001b[0m\u001b[0mself\u001b[0m\u001b[1;33m)\u001b[0m\u001b[1;33m:\u001b[0m\u001b[1;33m\u001b[0m\u001b[1;33m\u001b[0m\u001b[0m\n\u001b[0;32m    592\u001b[0m         \u001b[1;32mif\u001b[0m \u001b[0mcancellation_manager\u001b[0m \u001b[1;32mis\u001b[0m \u001b[1;32mNone\u001b[0m\u001b[1;33m:\u001b[0m\u001b[1;33m\u001b[0m\u001b[1;33m\u001b[0m\u001b[0m\n\u001b[1;32m--> 593\u001b[1;33m           outputs = execute.execute(\n\u001b[0m\u001b[0;32m    594\u001b[0m               \u001b[0mstr\u001b[0m\u001b[1;33m(\u001b[0m\u001b[0mself\u001b[0m\u001b[1;33m.\u001b[0m\u001b[0msignature\u001b[0m\u001b[1;33m.\u001b[0m\u001b[0mname\u001b[0m\u001b[1;33m)\u001b[0m\u001b[1;33m,\u001b[0m\u001b[1;33m\u001b[0m\u001b[1;33m\u001b[0m\u001b[0m\n\u001b[0;32m    595\u001b[0m               \u001b[0mnum_outputs\u001b[0m\u001b[1;33m=\u001b[0m\u001b[0mself\u001b[0m\u001b[1;33m.\u001b[0m\u001b[0m_num_outputs\u001b[0m\u001b[1;33m,\u001b[0m\u001b[1;33m\u001b[0m\u001b[1;33m\u001b[0m\u001b[0m\n",
      "\u001b[1;32m~\\AppData\\Local\\Programs\\Python\\Python38\\lib\\site-packages\\tensorflow\\python\\eager\\execute.py\u001b[0m in \u001b[0;36mquick_execute\u001b[1;34m(op_name, num_outputs, inputs, attrs, ctx, name)\u001b[0m\n\u001b[0;32m     57\u001b[0m   \u001b[1;32mtry\u001b[0m\u001b[1;33m:\u001b[0m\u001b[1;33m\u001b[0m\u001b[1;33m\u001b[0m\u001b[0m\n\u001b[0;32m     58\u001b[0m     \u001b[0mctx\u001b[0m\u001b[1;33m.\u001b[0m\u001b[0mensure_initialized\u001b[0m\u001b[1;33m(\u001b[0m\u001b[1;33m)\u001b[0m\u001b[1;33m\u001b[0m\u001b[1;33m\u001b[0m\u001b[0m\n\u001b[1;32m---> 59\u001b[1;33m     tensors = pywrap_tfe.TFE_Py_Execute(ctx._handle, device_name, op_name,\n\u001b[0m\u001b[0;32m     60\u001b[0m                                         inputs, attrs, num_outputs)\n\u001b[0;32m     61\u001b[0m   \u001b[1;32mexcept\u001b[0m \u001b[0mcore\u001b[0m\u001b[1;33m.\u001b[0m\u001b[0m_NotOkStatusException\u001b[0m \u001b[1;32mas\u001b[0m \u001b[0me\u001b[0m\u001b[1;33m:\u001b[0m\u001b[1;33m\u001b[0m\u001b[1;33m\u001b[0m\u001b[0m\n",
      "\u001b[1;31mInternalError\u001b[0m:  [_Derived_]  Failed to call ThenRnnBackward with model config: [rnn_mode, rnn_input_mode, rnn_direction_mode]: 2, 0, 0 , [num_layers, input_size, num_units, dir_count, max_seq_length, batch_size, cell_num_units]: [1, 128, 128, 1, 82, 32, 128] \n\t [[{{node gradients/cond_grad/If/then/_0/gradients/CudnnRNNV3_grad/CudnnRNNBackpropV3}}]]\n\t [[StatefulPartitionedCall]]\n\t [[gradient_tape/model_with_crf_loss/embedding/embedding_lookup/Reshape/_400]] [Op:__inference_train_function_25576]\n\nFunction call stack:\ntrain_function -> train_function -> train_function\n"
     ]
    }
   ],
   "source": [
    "model.load_weights('./checkpoints/crf_uninit')\n",
    "history = fit(data_mix, lr=2e-4)\n",
    "model.save_weights('./checkpoints/crf_mix')"
   ]
  },
  {
   "cell_type": "code",
   "execution_count": null,
   "metadata": {},
   "outputs": [],
   "source": [
    "model.load_weights('./checkpoints/crf_mix')\n",
    "history = fit(data_modern, lr=2e-4)\n",
    "model.save_weights('./checkpoints/crf_modern')"
   ]
  },
  {
   "cell_type": "code",
   "execution_count": 110,
   "metadata": {},
   "outputs": [
    {
     "output_type": "stream",
     "name": "stdout",
     "text": "מצוי:  מִבַחְינִתנו\", אומר סודרי, \"אנשִים צְמאים למידע על תנְועת שְ\"ס\". נְכון ליום שְישִי בְצהריים, \nרצוי:  מִבְּחִינָתֵנוּ\", אוֹמֵר סוּדְרִי, \"אֲנָשִׁים צְמֵאִים לְמֵידָע עַל תְּנוּעַת שָׁ\"ס\". נָכוֹן לְיוֹם שִׁישִּׁי בַּצָּהֳרַיִים, \n0.59 (33 out of 81)\n\nמצוי:  לְהיות נִמַוְך בְהרבה. \"ייתכן שְחלק מְהגְולשִים נִכַנְסו לאתר כְמה פְעמים אך גם זה נתון מִעודד \nרצוי:  לִהְיוֹת נָמוּךְ בְּהַרְבֵּה. \"יִיתָּכֵן שֶׁחֵלֶק מֵהַגּוֹלְשִׁים נִכְנְסוּ לַאֲתַר כַּמָּה פְּעָמִים אַךְ גַּם זֶה נָתוּן מְעוֹדֵד \n0.51 (39 out of 80)\n\nמצוי:  וְלא מַפְרט. אטרקציות נְוספְות שַמְתוִכַנְנות מְהאתר: תפילות בַכְותל בַשְידור חי. לסגור בַשְבת או \nרצוי:  וְלֹא מְפָרֵט. אַטְרַקְצִיּוֹת נוֹסָפוֹת שֶׁמְּתוּכְנָנוֹת מֵהָאֲתָר: תְּפִילּוֹת בַּכּוֹתֶל בְּשִׁידּוּר חַי. לִסְגּוֹר בְּשַׁבָּת אוֹ \n0.49 (41 out of 81)\n\nמצוי:  שַׁקְל ליורוקום שְישִמַשְ לפְרעון חלק מְהחְוב הבְנקאי שְל יורוקום בְסך 961 מיליון שְקל. בַמְקביל \nרצוי:  שֶׁקֶל לְיוּרוֹקוֹם שֶׁיְּשַׁמֵּשׁ לְפִרְעוֹן חֵלֶק מֵהַחוֹב הַבַּנְקָאִי שֶׁל יוּרוֹקוֹם בְּסַךְ 961 מִילְיוֹן שֶׁקֶל. בְּמַקְבִּיל \n0.49 (41 out of 81)\n\nמצוי:  ישִראל בִגַנְיבת מים, ומְגיב \"ישְראל (הפְלג הפְאשְיסטי שְל העם היהודי) אינה יכְולה לגנוב \nרצוי:  יִשְׂרָאֵל בִּגְנֵיבַת מַיִם, וּמֵגִיב \"יִשְׂרָאֵל (הַפֶּלֶג הַפָאשִׁיסְטִי שֶׁל הֶעָם הַיְּהוּדִי) אֵינָהּ יְכוֹלָה לִגְנוֹב \n0.5 (39 out of 78)\n\nמצוי:  היסוִסים. האתר הרשְמי הושְק בְעקבְות אחוזי הכְניסות היפים לאתר הבְלתי רשְמי שְל התנועה, \nרצוי:  הִיסּוּסִים. הָאֲתָר הָרִשְׁמִי הוּשַּׁק בְּעִקְבוֹת אֲחוּזֵי הַכְּנִיסוֹת הַיָּפִים לַאֲתַר הַבִּלְתִּי רִשְׁמִי שֶׁל הַתְּנוּעָה, \n0.52 (38 out of 79)\n\nמצוי:  מִדַוְע הרמְטכ\"ל לשְעבר, דן חלוץ, מְקשְר בְעמְוד הפייסבְוק שְלו לידיעה על תערוכה שַמְאשִימה את \nרצוי:  מַדּוּעַ הָרַמַטְכָּ\"ל לְשֶׁעָבַר, דָּן חָלוּץ, מְקַשֵּׁר בְּעַמּוּד הַפֶיְיסְבּוּק שֶׁלּוֹ לִידִיעָה עַל תַּעֲרוּכָה שֶׁמַּאֲשִׁימָה אֶת \n0.48 (42 out of 81)\n\nמצוי:  הַשְליטה בַבְזק. בְעסקה המְדוְברת צְפוי סיידוף להזרים סכום קטן יותר שְל 350-400 מיליון \nרצוי:  הַשְּׁלִיטָה בְּבֶזֶק. בָּעִסְקָה הַמְּדוּבֶּרֶת צָפוּי סַיְידוֹף לְהַזְרִים סְכוּם קָטָן יוֹתֵר שֶׁל 350-400 מִילְיוֹן \n0.59 (32 out of 78)\n\nמצוי:  מְאמִינִיה ואלו שִאינם מְכירים בְכךְ חְושְפים את הדעה הקדוְמה שְלהם. \"תמיד חִשַבְנו שִמַצְוות \nרצוי:  מַאֲמִינֶיהָ וְאֵלּוּ שֶׁאֵינָם מַכִּירִים בְּכָךְ חוֹשְׂפִים אֶת הַדֵּעָה הַקְּדוּמָה שֶׁלָּהֶם. \"תָּמִיד חָשַׁבְנוּ שֶׁמִּצְווֹת \n0.55 (35 out of 77)\n\nמצוי:  בְאתר הרשִמי בְקרוב וכי בְניגוד למְה שִנַכְתב כאן, השְיר לכַבְוד אלי ישְי מְופיע גם מִופיע \nרצוי:  בָּאֲתָר הָרִשְׁמִי בְּקָרוֹב וְכִי בְּנִיגּוּד לְמָה שֶׁנִּכְתַּב כָּאן, הַשִּׁיר לְכָבוֹד אֵלִי יִשַׁי מוֹפִיעַ גַּם מוֹפִיעַ \n0.51 (38 out of 77)\n\nמצוי:  אינִו מַבְקשִ חזרה את הזרעים (את ההשְקעה) אלא להמַשְיךְ לשְלם למְדינה מְהרווחים. בימינו, \nרצוי:  אֵינוֹ מְבַקֵּשׁ חֲזָרָה אֶת הַזְּרָעִים (אֶת הַהַשְׁקָעָה) אֶלָּא לְהַמְשִׁיךְ לְשַׁלֵּם לַמְּדִינָה מֵהָרְוָוחִים. בְּיָמֵינוּ, \n0.47 (41 out of 78)\n\nמצוי:  (הלאמִה) – היא מְדיניות המיסוי המְוכְרת כיום (עד 2012 אפילו בְאותם שְיעורי מס): יוסף \nרצוי:  (הַלְאָמָה) – הִיא מְדִינִיּוּת הַמִּיסּוּי הַמּוּכֶּרֶת כַּיּוֹם (עַד 2012 אֲפִילּוּ בְּאוֹתָם שִׁיעוּרֵי מַס): יוֹסֵף \n0.62 (30 out of 79)\n\nמצוי:  הַבְחִירות והוְפתעו מְההצְלחה. לטענת אנשְי התנְועה, כְמיליון ו-250,000 כְניסות נְרשִמו באתר \nרצוי:  הַבְּחִירוֹת וְהוּפְתְּעוּ מֵהַהַצְלָחָה. לְטַעֲנַת אַנְשֵׁי הַתְּנוּעָה, כְּמִילְיוֹן וְ-250,000 כְּנִיסוֹת נִרְשְׁמוּ בָּאֲתָר \n0.55 (36 out of 80)\n\nמצוי:  אצִל חַבְרים אחרים בְנוסף לעדכְונים שְהוא מְפרסם בְעמְוד שְלו. מְדוע החליט לצאת בַמְחאה נגד \nרצוי:  אֵצֶל חֲבֵרִים אֲחֵרִים בְּנוֹסָף לְעִדְכּוּנִים שֶׁהוּא מְפַרְסֵם בָּעַמּוּד שֶׁלּוֹ. מַדּוּעַ הֶחֱלִיט לָצֵאת בִּמְחָאָה נֶגֶד \n0.49 (40 out of 79)\n\nמצוי:  צְאן שַבְאים לסחור בַמְדינה זרה, לא לוְמדים את כְללי המְסחר, מְנסים להשְתלב בְהמון המגיע \nרצוי:  צֹאן שֶׁבָּאִים לִסְחוֹר בִּמְדִינָה זָרָה, לֹא לוֹמְדִים אֶת כְּלָלֵי הַמִּסְחָר, מְנַסִּים לְהִשְׁתַּלֵּב בֶּהָמוֹן הַמַּגִּיעַ \n0.54 (36 out of 78)\n\nמצוי:  מַפְתח\". אחת האטרקציות בְאתר צְפויה להיות האפַשְרות לקבְל בְרכה און ליין מְהרב עובדיה \nרצוי:  מַפְתֵּחַ\". אַחַת הָאַטְרַקְצִיּוֹת בָּאֲתָר צְפוּיָה לִהְיוֹת הָאֶפְשָׁרוּת לְקַבֵּל בְּרָכָה אוֹן לַיְין מֵהָרַב עוֹבַדְיָה \n0.49 (39 out of 77)\n\nמצוי:  שַׁלְאוְרךִ השִנים היתה ירידה בַשְיעור מְס החַבְרות וְביקשְה להעלותו ל25%. הוְועדה טענה שִהפחתת \nרצוי:  שֶׁלְּאוֹרֶךְ הַשָּׁנִים הָיְתָה יְרִידָה בְּשִׁיעוּר מַס הַחֲבָרוֹת וּבִיקְּשָׁה לְהַעֲלוֹתוֹ לְ25%. הַוַּועֲדָה טָעֲנָה שֶׁהַפְחָתַת \n0.47 (43 out of 81)\n\nמצוי:  בַבְיתה 1:3 ונִוַצְחה בְחוץ 2:0. הליגה הבְלגית תשְוב לפְעילות ב-14 בְינואר, סוף השַבְוע הבא, \nרצוי:  בְּבֵיתָהּ 1:3 וְנוּצְּחָה בַּחוּץ 2:0. הַלִּיגָה הַבֶּלְגִּית תָּשׁוּב לִפְעִילוּת בְּ-14 בְּיָנוּאָר, סוֹף הַשָּׁבוּעַ הַבָּא, \n0.58 (34 out of 81)\n\nמצוי:  וַוְיתור היכן שְלא צריך אמנם ירגישְ לנו עִכַשְיו קצת לא נח, אךְ לטווח ארוך – נהיה \nרצוי:  וּוִׂיתּוּר הֵיכָן שֶׁלֹּא צָרִיךְ אָמְנָם יַרְגִּישׁ לָנוּ עַכְשָׁיו קְצָת לֹא נָח, אַךְ לִטְווֹח אָרוֹךְ – נִהְיֶה \n0.51 (36 out of 74)\n\nמצוי:  יחְללו את השְבת. \"זו נְקודה טובה, אךְ אנְחנְו פְועלים לפי שְעות כְניסה ויציאה שִל ישִראל. \nרצוי:  יַחְלְלוּ אֶת הַשַּׁבָּת. \"זוֹ נְקוּדָּה טוֹבָה, אַךְ אֲנַחְנוּ פּוֹעֲלִים לְפִי שְׁעוֹת כְּנִיסָה וִיצִיאָה שֶׁל יִשְׂרָאֵל. \n0.56 (35 out of 79)\n\nמצוי:  יוִסף בַשְידור חי. נְאפַשְר גם לכְל גְולשְ להפְנות שְאלות הלכְתיות ל'בית ההוראה', קבוצת \nרצוי:  יוֹסֵף בְּשִׁידּוּר חַי. נְאַפְשֵׁר גַּם לְכָל גּוֹלֵשׁ לְהַפְנוֹת שְׁאֵלוֹת הִלְכָתִיּוֹת לְ'בֵּית הַהוֹרָאָה', קְבוּצַת \n0.54 (35 out of 76)\n\nמצוי:  בְתבִיעת הפירוק שְל יורוקום וְגרמְו לו למְכור את החבְרה בְתנאי לחץ וִבַמְחיר הרבה יותר נִמוך \nרצוי:  בִּתְבִיעַת הַפֵּירוּק שֶׁל יוּרוֹקוֹם וְגָרְמוּ לוֹ לִמְכּוֹר אֶת הַחֶבְרָה בִּתְנָאֵי לַחַץ וּבִמְחִיר הַרְבֵּה יוֹתֵר נָמוּךְ \n0.53 (38 out of 81)\n\nמצוי:  לטִוַוְח ארוךְ וְקבְע מְדיניות מְיסוי שַמְסתבר (אולי בְלית בְרירה שְל האזרחים) היתה מְקובלת גם \nרצוי:  לִטְוָוֹח אָרוֹךְ וְקָבַע מְדִינִיּוּת מִיסּוּי שֶׁמִּסְתַּבֵּר (אוּלַי בְּלֵית בְּרֵירָה שֶׁל הָאֶזְרָחִים) הָיְתָה מְקוּבֶּלֶת גַּם \n0.56 (36 out of 81)\n\nמצוי:  חַלְוץ בְפייסבְוק? \"ההחלטה נְובְעת מַכְמה סיבְות\", הוא כְותב, \"ביניהן תיעוב עַמְוק שִאני חש \nרצוי:  חֲלוּץ בְּפֶיְיסְבּוּק? \"הַהַחְלָטָה נוֹבַעַת מִכַּמָּה סִיבּוֹת\", הוּא כּוֹתֵב, \"בֵּינֵיהֶן תִּיעוּב עָמוֹק שֶׁאֲנִי חָשׁ \n0.51 (39 out of 79)\n\nמצוי:  תאִפַשְר הרשַמְה לרשִת מְעוְנות היום שְל שְ\"ס דרך האתר, כְמו גם רישְום למַוְעדוני נְוער שִל \"אל \nרצוי:  תְּאַפְשֵׁר הַרְשָׁמָה לְרֶשֶׁת מְעוֹנוֹת הַיּוֹם שֶׁל שָׁ\"ס דֶּרֶךְ הָאֲתָר, כְּמוֹ גַּם רִישּׁוּם לְמוֹעֲדוֹנֵי נוֹעַר שֶׁל \"אֶל \n0.51 (39 out of 80)\n\nמצוי:  לא לסִגַוְר בִשַבְת? רוב אתרי האינְטרנט בַנְושִאי דת בְישְראל אינם מְונעים מְהגְולשִים לבקר בהם \nרצוי:  לֹא לִסְגּוֹר בְּשַׁבָּת? רוֹב אֲתָרֵי הָאִינְטֶרְנֶט בְּנוֹשְׂאֵי דָּת בְּיִשְׂרָאֵל אֵינָם מוֹנְעִים מֵהַגּוֹלְשִׁים לְבַקֵּר בָּהֶם \n0.49 (41 out of 80)\n\nמצוי:  עַוְד בִמַעְרכת הבְחירות שְל 1984, כְאשְר מַפְלגות חרדיות אחרות נִמַנְעו מְכך. \"אנְחנו המִפלגה \nרצוי:  עוֹד בְּמַעֲרֶכֶת הַבְּחִירוֹת שֶׁל 1984, כַּאֲשֶׁר מִפְלָגוֹת חֲרֵדִיּוֹת אֲחֵרוֹת נִמְנְעוּ מִכָּךְ. \"אֲנַחְנוּ הַמִּפְלָגָה \n0.54 (36 out of 78)\n\nמצוי:  היא מְגדילה את פער אי השְיוויוניות. וְכךְ נְכתב בְדו\"ח: \"הקטנת מְס החַבְרות פְעלה אף היא \nרצוי:  הִיא מַגְדִּילָה אֶת פַּעַר אִי הַשִּׁיוְויוֹנִיּוּת. וְכָךְ נִכְתַּב בַּדּוּ\"חַ: \"הַקְטָנַת מַס הַחֲבָרוֹת פָּעֲלָה אַף הִיא \n0.54 (36 out of 79)\n\nמצוי:  מִחַלְלים את האתר ומְורידים קבְצים מְהשְרת שְל שְ\"ס. \"על פי ההלכה, חילול שְבת אינו פעולה \nרצוי:  מְחַלְּלִים אֶת הָאֲתָר וּמוֹרִידִים קְבָצִים מֵהַשָּׁרָת שֶׁל שָׁ\"ס. \"עַל פִּי הַהֲלָכָה, חִילּוּל שַׁבָּת אֵינוֹ פְּעוּלָּה \n0.56 (35 out of 79)\n\nמצוי:  הַשְקִעַוְת\". בסעיף הדעות הפְוליטיות נְכתב \"להרוג את כְולם\" ובְסעיף ההשְתייכות הדתית - \nרצוי:  הַשְׁקָעוֹת\". בִּסְעִיף הַדֵּעוֹת הַפּוֹלִיטִיּוֹת נִכְתַּב \"לַהֲרוֹג אֶת כּוּלָּם\" וּבִסְעִיף הַהִשְׁתַּיְּיכוּת הַדָּתִית - \n0.52 (37 out of 77)\n\nמצוי:  יוִתר מְהזמִר בני אלבז עם השְיר \"ספרדים גאים\" (16,292 כְניסות). בַמְהלךְ השִיחה עמנו, \nרצוי:  יוֹתֵר מֵהַזֶּמֶר בֵּנִי אֶלְבָּז עִם הַשִּׁיר \"סְפָרַדִּים גֵּאִים\" (16,292 כְּנִיסוֹת). בְּמַהֲלַךְ הַשִּׂיחָה עַמֵּנוּ, \n0.6 (31 out of 77)\n\nמצוי:  לִמַצְרים. לעומתם, יוסף – חַשְיבה מְאקרו כְלכְלית – הבְנה שְל מְרחב הקיום, תכְנון עתידי, יחס \nרצוי:  לְמִצְרַיִם. לְעוּמָּתָם, יוֹסֵף – חֲשִׁיבָה מַאקְרוֹ כַּלְכָּלִית – הֲבָנָה שֶׁל מֶרְחַב הַקִּיּוּם, תִּכְנוּן עֲתִידִי, יַחַס \n0.54 (37 out of 81)\n\n0.53\n"
    }
   ],
   "source": [
    "\n",
    "def print_predictions(data, s):\n",
    "    batch = data.normalized[s]\n",
    "    [actual_niqqud, _, _, _], [actual_dagesh, _, _, _], [actual_sin, _, _, _] = model.predict(batch)\n",
    "    [expected_niqqud, expected_dagesh, expected_sin] = [data.niqqud[s], data.dagesh[s], data.sin[s]]\n",
    "    actual = dataset.merge(data.text[s], ts=batch, ns=actual_niqqud, ds=actual_dagesh, ss=actual_sin)\n",
    "    expected = dataset.merge(data.text[s], ts=batch, ns=expected_niqqud, ds=expected_dagesh, ss=expected_sin)\n",
    "    total = []\n",
    "    for i, (a, e) in enumerate(zip(actual, expected)):\n",
    "        print('מצוי: ', a)\n",
    "        print('רצוי: ', e)\n",
    "        last = expected_niqqud[i].tolist().index(0)\n",
    "        res = expected_niqqud[i][:last] == actual_niqqud[i][:last]\n",
    "        total.extend(res)\n",
    "        print(round(np.mean(res), 2), f'({last - sum(res)} out of {last})')\n",
    "        print()\n",
    "    print(round(np.mean(total), 3))\n",
    "\n",
    "model.load_weights('./checkpoints/crf_modern')\n",
    "print_predictions(data_modern[1], slice(0, 32))"
   ]
  },
  {
   "cell_type": "code",
   "execution_count": null,
   "metadata": {},
   "outputs": [],
   "source": []
  }
 ],
 "metadata": {
  "kernelspec": {
   "display_name": "Python 3",
   "language": "python",
   "name": "python3"
  },
  "language_info": {
   "codemirror_mode": {
    "name": "ipython",
    "version": 3
   },
   "file_extension": ".py",
   "mimetype": "text/x-python",
   "name": "python",
   "nbconvert_exporter": "python",
   "pygments_lexer": "ipython3",
   "version": "3.8.2-final"
  }
 },
 "nbformat": 4,
 "nbformat_minor": 4
}