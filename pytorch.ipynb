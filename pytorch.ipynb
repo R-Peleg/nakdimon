{
 "cells": [
  {
   "cell_type": "code",
   "execution_count": 1,
   "metadata": {},
   "outputs": [],
   "source": [
    "import os\n",
    "import numpy as np\n",
    "\n",
    "import dataset\n",
    "import schedulers\n",
    "\n",
    "import torch\n",
    "\n",
    "import torch.nn as nn\n",
    "assert torch.cuda.is_available()"
   ]
  },
  {
   "cell_type": "code",
   "execution_count": 2,
   "outputs": [],
   "source": [
    "MAXLEN = 64\n",
    "def load_data(source, maxlen=MAXLEN, validation=0.1):\n",
    "    filenames = [os.path.join('texts', f) for f in source]\n",
    "    train, valid = dataset.load_data(filenames, validation, maxlen=maxlen)\n",
    "    return train, valid\n",
    "\n",
    "data_mix = load_data(['poetry', 'rabanit', 'pre_modern'])\n",
    "data_modern = load_data(validation=0.2, source=['modern'])"
   ],
   "metadata": {
    "collapsed": false,
    "pycharm": {
     "name": "#%%\n"
    }
   }
  },
  {
   "cell_type": "code",
   "execution_count": 6,
   "outputs": [
    {
     "data": {
      "text/plain": "Model(\n  (embed): Embedding(44, 300)\n  (lstm1): LSTM(300, 300, batch_first=True, bidirectional=True)\n  (lstm2): LSTM(300, 300, batch_first=True, bidirectional=True)\n  (fc): Linear(in_features=300, out_features=16, bias=True)\n)"
     },
     "execution_count": 6,
     "metadata": {},
     "output_type": "execute_result"
    }
   ],
   "source": [
    "UNITS = 300\n",
    "\n",
    "LETTERS_SIZE = len(dataset.letters_table)\n",
    "NIQQUD_SIZE = len(dataset.niqqud_table)\n",
    "DAGESH_SIZE = len(dataset.dagesh_table)\n",
    "SIN_SIZE = len(dataset.sin_table)\n",
    "\n",
    "class Model(nn.Module):\n",
    "    def __init__(self):\n",
    "        super().__init__()\n",
    "        self.embed = nn.Embedding(num_embeddings=LETTERS_SIZE, embedding_dim=UNITS)\n",
    "        self.lstm1 = nn.LSTM(input_size=UNITS, hidden_size=UNITS, num_layers=1, batch_first=True, bidirectional=True)\n",
    "        self.lstm2 = nn.LSTM(input_size=UNITS, hidden_size=UNITS, num_layers=1, batch_first=True, bidirectional=True)\n",
    "        self.fc = nn.Linear(in_features=UNITS, out_features=NIQQUD_SIZE)\n",
    "\n",
    "    def forward(self, x):\n",
    "        embeds = self.embed(x)\n",
    "\n",
    "        lstm_out, _ = self.lstm1(embeds)\n",
    "        left, right = torch.chunk(lstm_out, 2, dim=-1)\n",
    "        merge = left + right\n",
    "\n",
    "        lstm_out, _ = self.lstm2(merge)\n",
    "        left, right = torch.chunk(lstm_out, 2, dim=-1)\n",
    "        merge = left + right + merge\n",
    "\n",
    "        tag_space = self.fc(merge)\n",
    "        # tag_scores = F.log_softmax(tag_space, dim=-1)\n",
    "        return tag_space.permute([0, 2, 1])\n",
    "\n",
    "model = Model()\n",
    "criterion = nn.CrossEntropyLoss(ignore_index=0)\n",
    "optimizer = torch.optim.Adam(model.parameters(), lr=2e-3)\n",
    "\n",
    "device = torch.device(\"cuda\")\n",
    "model.to(device)"
   ],
   "metadata": {
    "collapsed": false,
    "pycharm": {
     "name": "#%%\n"
    }
   }
  },
  {
   "cell_type": "code",
   "execution_count": 59,
   "outputs": [
    {
     "name": "stdout",
     "output_type": "stream",
     "text": [
      "torch.Size([1, 64, 16])\n",
      "(1, 64)\n",
      "tensor([[[ 0.0443,  0.1131,  0.1651,  ...,  0.1137,  0.0319,  0.1902],\n",
      "         [ 0.1396, -0.1169,  0.2076,  ...,  0.0352,  0.2090,  0.2759],\n",
      "         [ 0.1007, -0.1327,  0.1329,  ..., -0.0743,  0.1096, -0.0350],\n",
      "         ...,\n",
      "         [ 0.3901,  0.0842,  0.2003,  ...,  0.3017,  0.1579, -0.1293],\n",
      "         [ 0.3616,  0.0776,  0.2187,  ...,  0.2765,  0.1573, -0.1133],\n",
      "         [ 0.2803,  0.0605,  0.2528,  ...,  0.2360,  0.1469, -0.0808]]])\n"
     ]
    }
   ],
   "source": [
    "train, valid = data_modern\n",
    "with torch.no_grad():\n",
    "    x = train.normalized[:1]\n",
    "    inputs = torch.from_numpy(x).to(torch.int64)\n",
    "    tag_scores = model(inputs)\n",
    "    print(tag_scores.shape)\n",
    "    print(valid.niqqud[:1].shape)\n",
    "    print(tag_scores)"
   ],
   "metadata": {
    "collapsed": false,
    "pycharm": {
     "name": "#%%\n"
    }
   }
  },
  {
   "cell_type": "code",
   "execution_count": 4,
   "metadata": {},
   "outputs": [],
   "source": [
    "BATCH_SIZE = 32\n",
    "\n",
    "def batch(a):\n",
    "    ub = a.shape[0] // BATCH_SIZE * BATCH_SIZE\n",
    "    return torch.from_numpy(a[:ub]).to(torch.int64).split(BATCH_SIZE)\n",
    "\n",
    "def accuracy(output, ybatch):\n",
    "    n = (ybatch != 0).sum()\n",
    "    c = np.argmax(output, axis=1)\n",
    "    return ((c == ybatch) & (c != 0)).sum() / n\n",
    "\n",
    "def fit(data):\n",
    "    train, _ = data\n",
    "    x = batch(train.normalized)\n",
    "    y = batch(train.niqqud)\n",
    "    epochs = 1\n",
    "    for epoch in range(1):\n",
    "        total = len(x)\n",
    "        acc = []\n",
    "        for i, (xbatch, ybatch) in enumerate(zip(x, y)):\n",
    "            xbatch = xbatch.to(device)\n",
    "            ybatch = ybatch.to(device)\n",
    "            optimizer.zero_grad()\n",
    "            output = model(xbatch)\n",
    "            output = output.to(device)\n",
    "            loss = criterion(output, ybatch)\n",
    "            loss.backward()\n",
    "            optimizer.step()\n",
    "            output = output.cpu().data.numpy()\n",
    "            ybatch = ybatch.cpu().data.numpy()\n",
    "\n",
    "            acc.append(accuracy(output, ybatch))\n",
    "            if i % 20 == 0:\n",
    "                print(\"{:4}/{}\".format(i, total), end=' ')\n",
    "                print(\"Accuracy: {:.4f}\".format(np.mean(acc)), end=' ')\n",
    "                print(\"Loss: {:.4f}\".format(loss.item()), end='\\r')\n",
    "                acc = []\n",
    "\n",
    "        print('Epoch: {}/{}.............'.format(epoch+1, epochs), end=' ')\n",
    "        print(\"Accuracy: {:.4f}\".format(accuracy(output, ybatch)), end=' ')\n",
    "        print(\"Loss: {:.4f}\".format(loss.item()))\n",
    "\n",
    "def validate(data):\n",
    "    _, valid = data\n",
    "    x = batch(valid.normalized)\n",
    "    y = batch(valid.niqqud)\n",
    "    with torch.no_grad():\n",
    "        acc = []\n",
    "        losses = []\n",
    "        for xbatch, ybatch in zip(x, y):\n",
    "            xbatch = xbatch.to(device)\n",
    "            ybatch = ybatch.to(device)\n",
    "            optimizer.zero_grad()\n",
    "            output = model(xbatch)\n",
    "            output = output.to(device)\n",
    "            loss = criterion(output, ybatch)\n",
    "\n",
    "            output = output.cpu().data.numpy()\n",
    "            ybatch = ybatch.cpu().data.numpy()\n",
    "\n",
    "            acc.append(accuracy(output, ybatch))\n",
    "            losses.append(loss.item())\n",
    "\n",
    "        print(\"val_Accuracy: {:.4f}\".format(np.mean(acc)), end=' ')\n",
    "        print(\"val_Loss: {:.4f}\".format(np.mean(losses)))"
   ]
  },
  {
   "cell_type": "code",
   "execution_count": 7,
   "outputs": [
    {
     "name": "stdout",
     "output_type": "stream",
     "text": [
      "Epoch: 1/1............. Accuracy: 0.9591 Loss: 0.1236\n",
      "val_Accuracy: 0.9299 val_Loss: 0.2237\n",
      "Epoch: 1/1............. Accuracy: 0.9702 Loss: 0.0930\n",
      "val_Accuracy: 0.9608 val_Loss: 0.1228\n"
     ]
    }
   ],
   "source": [
    "fit(data_mix)\n",
    "validate(data_mix)\n",
    "fit(data_modern)\n",
    "validate(data_modern)"
   ],
   "metadata": {
    "collapsed": false,
    "pycharm": {
     "name": "#%%\n"
    }
   }
  }
 ],
 "metadata": {
  "kernelspec": {
   "display_name": "Python 3.8.2 64-bit",
   "language": "python",
   "name": "python38264bit9bb923b013d04c19b7222e7ae44d4e24"
  },
  "language_info": {
   "codemirror_mode": {
    "name": "ipython",
    "version": 3
   },
   "file_extension": ".py",
   "mimetype": "text/x-python",
   "name": "python",
   "nbconvert_exporter": "python",
   "pygments_lexer": "ipython3",
   "version": "3.8.2"
  }
 },
 "nbformat": 4,
 "nbformat_minor": 4
}