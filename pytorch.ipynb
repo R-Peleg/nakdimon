{
 "cells": [
  {
   "cell_type": "code",
   "execution_count": 1,
   "metadata": {},
   "outputs": [],
   "source": [
    "import os\n",
    "import numpy as np\n",
    "\n",
    "import dataset\n",
    "\n",
    "import torch\n",
    "\n",
    "import torch.nn as nn\n",
    "assert torch.cuda.is_available()"
   ]
  },
  {
   "cell_type": "code",
   "execution_count": 2,
   "outputs": [],
   "source": [
    "MAXLEN = 64\n",
    "def load_data(source, maxlen=MAXLEN, validation=0.1):\n",
    "    filenames = [os.path.join('texts', f) for f in source]\n",
    "    train, valid = dataset.load_data(filenames, validation, maxlen=maxlen)\n",
    "    return train, valid\n",
    "\n",
    "data_mix = load_data(['poetry', 'rabanit', 'pre_modern'])\n",
    "data_modern = load_data(validation=0.2, source=['modern'])"
   ],
   "metadata": {
    "collapsed": false,
    "pycharm": {
     "name": "#%%\n"
    }
   }
  },
  {
   "cell_type": "code",
   "execution_count": 46,
   "outputs": [
    {
     "data": {
      "text/plain": "Model(\n  (embed): Embedding(44, 300)\n  (lstm1): LSTM(300, 300, batch_first=True, bidirectional=True)\n  (lstm2): LSTM(300, 300, batch_first=True, bidirectional=True)\n  (dense): Linear(in_features=300, out_features=300, bias=True)\n  (act): ReLU()\n  (niqqud): Linear(in_features=300, out_features=16, bias=True)\n  (dagesh): Linear(in_features=300, out_features=3, bias=True)\n  (sin): Linear(in_features=300, out_features=4, bias=True)\n)"
     },
     "execution_count": 46,
     "metadata": {},
     "output_type": "execute_result"
    }
   ],
   "source": [
    "UNITS = 300\n",
    "\n",
    "LETTERS_SIZE = len(dataset.letters_table)\n",
    "NIQQUD_SIZE = len(dataset.niqqud_table)\n",
    "DAGESH_SIZE = len(dataset.dagesh_table)\n",
    "SIN_SIZE = len(dataset.sin_table)\n",
    "\n",
    "class Model(nn.Module):\n",
    "    def __init__(self):\n",
    "        super().__init__()\n",
    "        DROPOUT = 0.0\n",
    "        self.embed = nn.Embedding(num_embeddings=LETTERS_SIZE, embedding_dim=UNITS)\n",
    "        self.lstm1 = nn.LSTM(input_size=UNITS, hidden_size=UNITS, num_layers=1, batch_first=True, bidirectional=True, dropout=DROPOUT)\n",
    "        self.lstm2 = nn.LSTM(input_size=UNITS, hidden_size=UNITS, num_layers=1, batch_first=True, bidirectional=True, dropout=DROPOUT)\n",
    "\n",
    "        self.dense = nn.Linear(in_features=UNITS, out_features=UNITS)\n",
    "        self.act = nn.ReLU()\n",
    "\n",
    "        self.niqqud = nn.Linear(in_features=UNITS, out_features=NIQQUD_SIZE)\n",
    "        self.dagesh = nn.Linear(in_features=UNITS, out_features=DAGESH_SIZE)\n",
    "        self.sin = nn.Linear(in_features=UNITS, out_features=SIN_SIZE)\n",
    "\n",
    "    def forward(self, x):\n",
    "        embeds = self.embed(x)\n",
    "\n",
    "        lstm_out, _ = self.lstm1(embeds)\n",
    "        left, right = torch.chunk(lstm_out, 2, dim=-1)\n",
    "        merge = left + right\n",
    "\n",
    "        lstm_out, _ = self.lstm2(merge)\n",
    "        left, right = torch.chunk(lstm_out, 2, dim=-1)\n",
    "        merge = left + right + merge\n",
    "\n",
    "        mid = embeds + self.act(self.dense(merge))\n",
    "\n",
    "        niqqud = self.niqqud(mid).permute([0, 2, 1])\n",
    "        dagesh = self.dagesh(mid).permute([0, 2, 1])\n",
    "        sin = self.sin(mid).permute([0, 2, 1])\n",
    "        # niqqud_scores = F.log_softmax(niqqud, dim=1)\n",
    "        return {'N': niqqud, 'D': dagesh, 'S': sin}\n",
    "\n",
    "model = Model()\n",
    "criterion = nn.CrossEntropyLoss(ignore_index=0)\n",
    "optimizer = torch.optim.Adam(model.parameters(), lr=2e-3)\n",
    "\n",
    "device = torch.device(\"cuda\")\n",
    "model.to(device)"
   ],
   "metadata": {
    "collapsed": false,
    "pycharm": {
     "name": "#%%\n"
    }
   }
  },
  {
   "cell_type": "code",
   "execution_count": 59,
   "outputs": [
    {
     "name": "stdout",
     "output_type": "stream",
     "text": [
      "torch.Size([1, 64, 16])\n",
      "(1, 64)\n",
      "tensor([[[ 0.0443,  0.1131,  0.1651,  ...,  0.1137,  0.0319,  0.1902],\n",
      "         [ 0.1396, -0.1169,  0.2076,  ...,  0.0352,  0.2090,  0.2759],\n",
      "         [ 0.1007, -0.1327,  0.1329,  ..., -0.0743,  0.1096, -0.0350],\n",
      "         ...,\n",
      "         [ 0.3901,  0.0842,  0.2003,  ...,  0.3017,  0.1579, -0.1293],\n",
      "         [ 0.3616,  0.0776,  0.2187,  ...,  0.2765,  0.1573, -0.1133],\n",
      "         [ 0.2803,  0.0605,  0.2528,  ...,  0.2360,  0.1469, -0.0808]]])\n"
     ]
    }
   ],
   "source": [
    "def sanity():\n",
    "    train, valid = data_modern\n",
    "    with torch.no_grad():\n",
    "        x = train.normalized[:1]\n",
    "        inputs = torch.from_numpy(x).to(torch.int64)\n",
    "        tag_scores = model(inputs)\n",
    "        print(tag_scores.shape)\n",
    "        print(valid.niqqud[:1].shape)\n",
    "        print(tag_scores)"
   ],
   "metadata": {
    "collapsed": false,
    "pycharm": {
     "name": "#%%\n"
    }
   }
  },
  {
   "cell_type": "code",
   "execution_count": 39,
   "metadata": {},
   "outputs": [],
   "source": [
    "BATCH_SIZE = 32\n",
    "\n",
    "def batch(a):\n",
    "    ub = a.shape[0] // BATCH_SIZE * BATCH_SIZE\n",
    "    return torch.from_numpy(a[:ub]).to(torch.int64).split(BATCH_SIZE)\n",
    "\n",
    "def accuracy(output, ybatch):\n",
    "    n = (ybatch != 0).sum()\n",
    "    c = np.argmax(output, axis=1)\n",
    "    return ((c == ybatch) & (c != 0)).sum() / n\n",
    "\n",
    "def fit(data, epochs=1):\n",
    "    train, _ = data\n",
    "    x_all = batch(train.normalized)\n",
    "    y_all = [{'N': n, 'D': d, 'S': s}\n",
    "             for n, d, s in zip(batch(train.niqqud), batch(train.dagesh), batch(train.sin))]\n",
    "\n",
    "    for epoch in range(epochs):\n",
    "        total = len(x_all)\n",
    "        accs = {'N': [], 'D': [], 'S': []}\n",
    "        for i, (x, y) in enumerate(zip(x_all, y_all)):\n",
    "            x = x.to(device)\n",
    "            optimizer.zero_grad()\n",
    "            outputs = model(x)\n",
    "            outputs = {k: v.to(device) for k, v in outputs.items()}\n",
    "\n",
    "            y = {k: v.to(device) for k, v in y.items()}\n",
    "\n",
    "            sub_losses = {k: criterion(outputs[k], y[k]) for k in outputs}\n",
    "            loss = sum(sub_losses.values())\n",
    "            loss.backward()\n",
    "\n",
    "            optimizer.step()\n",
    "\n",
    "            outputs = {k: v.cpu().data.numpy() for k, v in outputs.items()}\n",
    "            y = {k: v.cpu().data.numpy() for k, v in y.items()}\n",
    "\n",
    "            for k in outputs:\n",
    "                accs[k].append(accuracy(outputs[k], y[k]))\n",
    "\n",
    "            if i % 20 == 0:\n",
    "                print(\"{:4}/{}\".format(i, total), end=' ')\n",
    "                for k in accs:\n",
    "                    print(\"{}_acc: {:.4f}\".format(k, np.mean(accs[k])), end=' ')\n",
    "                print(\"Loss: {:.4f}\".format(loss.item()), end='\\r')\n",
    "                accs = {'N': [], 'D': [], 'S': []}\n",
    "        print()\n",
    "\n",
    "def validate(data):\n",
    "    _, valid = data\n",
    "    x_all = batch(valid.normalized)\n",
    "    y_all = [{'N': n, 'D': d, 'S': s}\n",
    "             for n, d, s in zip(batch(valid.niqqud), batch(valid.dagesh), batch(valid.sin))]\n",
    "\n",
    "    with torch.no_grad():\n",
    "        accs = {'N': [], 'D': [], 'S': []}\n",
    "        losses = []\n",
    "        for i, (x, y) in enumerate(zip(x_all, y_all)):\n",
    "            x = x.to(device)\n",
    "\n",
    "            outputs = model(x)\n",
    "            outputs = {k: v.to(device) for k, v in outputs.items()}\n",
    "\n",
    "            y = {k: v.to(device) for k, v in y.items()}\n",
    "\n",
    "            sub_losses = {k: criterion(outputs[k], y[k]) for k in outputs}\n",
    "            loss = sum(sub_losses.values())\n",
    "\n",
    "            outputs = {k: v.cpu().data.numpy() for k, v in outputs.items()}\n",
    "            y = {k: v.cpu().data.numpy() for k, v in y.items()}\n",
    "\n",
    "            for k in outputs:\n",
    "                accs[k].append(accuracy(outputs[k], y[k]))\n",
    "            losses.append(loss.item())\n",
    "\n",
    "        for k in accs:\n",
    "            print(\"{}_acc: {:.4f}\".format(k, np.mean(accs[k])), end=' ')\n",
    "        print(\"Loss: {:.4f}\".format(np.mean(losses)))"
   ]
  },
  {
   "cell_type": "code",
   "execution_count": 45,
   "outputs": [
    {
     "name": "stdout",
     "output_type": "stream",
     "text": [
      "4360/4372 N_acc: 0.9495 D_acc: 0.9845 S_acc: 0.9990 Loss: 0.1880\r\n",
      "N_acc: 0.9232 D_acc: 0.9737 S_acc: 0.9984 Loss: 0.3225\n",
      " 460/467 N_acc: 0.9686 D_acc: 0.9880 S_acc: 0.9995 Loss: 0.1225\r\n",
      "N_acc: 0.9559 D_acc: 0.9853 S_acc: 0.9991 Loss: 0.1864\n"
     ]
    }
   ],
   "source": [
    "fit(data_mix)\n",
    "validate(data_mix)\n",
    "fit(data_modern)\n",
    "validate(data_modern)"
   ],
   "metadata": {
    "collapsed": false,
    "pycharm": {
     "name": "#%%\n"
    }
   }
  }
 ],
 "metadata": {
  "kernelspec": {
   "display_name": "Python 3.8.2 64-bit",
   "language": "python",
   "name": "python38264bit9bb923b013d04c19b7222e7ae44d4e24"
  },
  "language_info": {
   "codemirror_mode": {
    "name": "ipython",
    "version": 3
   },
   "file_extension": ".py",
   "mimetype": "text/x-python",
   "name": "python",
   "nbconvert_exporter": "python",
   "pygments_lexer": "ipython3",
   "version": "3.8.2"
  }
 },
 "nbformat": 4,
 "nbformat_minor": 4
}