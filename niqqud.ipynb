{
 "cells": [
  {
   "cell_type": "code",
   "execution_count": 1,
   "metadata": {},
   "outputs": [
    {
     "name": "stderr",
     "output_type": "stream",
     "text": [
      "Using TensorFlow backend.\n"
     ]
    }
   ],
   "source": [
    "import os\n",
    "import datetime\n",
    "\n",
    "import numpy as np\n",
    "import matplotlib.pyplot as plt\n",
    "\n",
    "import tensorflow as tf\n",
    "from tensorflow.keras import layers\n",
    "\n",
    "import dataset\n",
    "assert tf.config.list_physical_devices('GPU')\n",
    "\n",
    "MAXLEN = 60\n",
    "BATCH_SIZE = 32"
   ]
  },
  {
   "cell_type": "code",
   "execution_count": 7,
   "metadata": {},
   "outputs": [
    {
     "name": "stdout",
     "output_type": "stream",
     "text": [
      "Failed to import pydot. You must install pydot and graphviz for `pydotprint` to work.\n",
      "Model: \"model_1\"\n",
      "__________________________________________________________________________________________________\n",
      "Layer (type)                    Output Shape         Param #     Connected to                     \n",
      "==================================================================================================\n",
      "input_2 (InputLayer)            [(None, 60)]         0                                            \n",
      "__________________________________________________________________________________________________\n",
      "embedding_1 (Embedding)         (None, 60, 512)      24576       input_2[0][0]                    \n",
      "__________________________________________________________________________________________________\n",
      "bidirectional_2 (Bidirectional) (None, 60, 256)      1574912     embedding_1[0][0]                \n",
      "__________________________________________________________________________________________________\n",
      "bidirectional_3 (Bidirectional) (None, 60, 256)      1050624     bidirectional_2[0][0]            \n",
      "__________________________________________________________________________________________________\n",
      "add_1 (Add)                     (None, 60, 256)      0           bidirectional_2[0][0]            \n",
      "                                                                 bidirectional_3[0][0]            \n",
      "__________________________________________________________________________________________________\n",
      "dense_2 (Dense)                 (None, 60, 16)       4112        add_1[0][0]                      \n",
      "__________________________________________________________________________________________________\n",
      "dense_3 (Dense)                 (None, 60, 4)        1028        add_1[0][0]                      \n",
      "__________________________________________________________________________________________________\n",
      "N (Softmax)                     (None, 60, 16)       0           dense_2[0][0]                    \n",
      "__________________________________________________________________________________________________\n",
      "D (Softmax)                     (None, 60, 4)        0           dense_3[0][0]                    \n",
      "==================================================================================================\n",
      "Total params: 2,655,252\n",
      "Trainable params: 2,655,252\n",
      "Non-trainable params: 0\n",
      "__________________________________________________________________________________________________\n"
     ]
    }
   ],
   "source": [
    "EMBED_DIM = 512\n",
    "UNITS = 256\n",
    "\n",
    "NIQQUD_SIZE = len(dataset.niqqud_table)\n",
    "DAGESH_SIZE = len(dataset.dagesh_table)\n",
    "LETTERS_SIZE = len(dataset.letters_table)\n",
    "\n",
    "common_input = tf.keras.Input(batch_shape=(None, MAXLEN), batch_size=BATCH_SIZE)\n",
    "common = layers.Embedding(LETTERS_SIZE, EMBED_DIM, mask_zero=True)(common_input)\n",
    "common = layers.Bidirectional(layers.LSTM(UNITS, return_sequences=True, dropout=0.1), merge_mode='sum')(common)\n",
    "\n",
    "common = layers.add([common, layers.Bidirectional(layers.LSTM(UNITS, return_sequences=True, dropout=0.1), merge_mode='sum')(common)])\n",
    "\n",
    "niqqud = layers.Softmax(name='N')(layers.Dense(NIQQUD_SIZE)(common))\n",
    "dagesh = layers.Softmax(name='D')(layers.Dense(DAGESH_SIZE)(common))\n",
    "\n",
    "model = tf.keras.Model(inputs=[common_input], outputs=[niqqud, dagesh])\n",
    "\n",
    "tf.keras.utils.plot_model(model, to_file='model.png')\n",
    "\n",
    "model.compile(loss='sparse_categorical_crossentropy',\n",
    "              optimizer=tf.keras.optimizers.Adam(learning_rate=0.0001),\n",
    "              metrics=['accuracy'])\n",
    "\n",
    "model.summary()\n",
    "\n",
    "def fit(data, learning_rates):\n",
    "    return model.fit(data.normalized_texts, [data.niqqud_texts, data.dagesh_texts],\n",
    "          batch_size=BATCH_SIZE,\n",
    "          epochs=len(learning_rates),\n",
    "          validation_data=(data.normalized_validation, [data.niqqud_validation,  data.dagesh_validation]),\n",
    "          callbacks=[\n",
    "              tf.keras.callbacks.LearningRateScheduler(lambda epoch, lr: learning_rates[epoch], verbose=0),\n",
    "              # tf.keras.callbacks.ModelCheckpoint(filepath='checkpoints/ckpt_{epoch}', save_weights_only=True),\n",
    "          ]\n",
    "    )"
   ]
  },
  {
   "cell_type": "code",
   "execution_count": 8,
   "metadata": {},
   "outputs": [],
   "source": [
    "def load_data():\n",
    "    rabanit = ['birkat_hamazon.txt', 'hakdama_leorot.txt', 'hartzaat_harav.txt', 'orhot_hayim.txt', 'rambam_mamre.txt', 'short_table.txt', 'tomer_dvora.txt', 'breslev.txt']\n",
    "    modern = ['atar_hashabat.txt', 'kakun.txt', 'sisters.txt', 'treasure_island.txt', 'ali_baba.txt', 'people.txt', 'ricky.txt', 'imagination.txt', 'adamtsair.txt', 'katarsis.txt']\n",
    "    filenames = ['texts/' + f for f in rabanit + modern]\n",
    "    return dataset.load_file(filenames, BATCH_SIZE, 0.01, maxlen=MAXLEN, shuffle=True)\n",
    "\n",
    "data = load_data()"
   ]
  },
  {
   "cell_type": "code",
   "execution_count": null,
   "metadata": {},
   "outputs": [],
   "source": []
  },
  {
   "cell_type": "code",
   "execution_count": 9,
   "metadata": {},
   "outputs": [
    {
     "name": "stdout",
     "output_type": "stream",
     "text": [
      "Train on 100298 samples, validate on 1014 samples\n",
      "Epoch 1/2\n",
      "100298/100298 [==============================] - 127s 1ms/sample - loss: 0.2670 - N_loss: 0.2109 - D_loss: 0.0561 - N_accuracy: 0.9279 - D_accuracy: 0.9788 - val_loss: 0.1394 - val_N_loss: 0.1056 - val_D_loss: 0.0337 - val_N_accuracy: 0.9642 - val_D_accuracy: 0.9872\n",
      "Epoch 2/2\n",
      "100298/100298 [==============================] - 120s 1ms/sample - loss: 0.1136 - N_loss: 0.0848 - D_loss: 0.0288 - N_accuracy: 0.9721 - D_accuracy: 0.9894 - val_loss: 0.1056 - val_N_loss: 0.0786 - val_D_loss: 0.0271 - val_N_accuracy: 0.9746 - val_D_accuracy: 0.9898\n"
     ]
    }
   ],
   "source": [
    "history = fit(data, [2e-3, 2e-4]) #, 1e-4, 3e-6])"
   ]
  },
  {
   "cell_type": "code",
   "execution_count": 10,
   "metadata": {},
   "outputs": [
    {
     "data": {
      "image/png": "[encoded data removed]",
      "text/plain": [
       "<Figure size 432x288 with 4 Axes>"
      ]
     },
     "metadata": {
      "needs_background": "light"
     },
     "output_type": "display_data"
    }
   ],
   "source": [
    "fig, ax = plt.subplots(nrows=2, ncols=2)\n",
    "\n",
    "for n, v in enumerate(['accuracy', 'loss'], 0):\n",
    "    for n1, t in enumerate(['D', 'N'], 0):\n",
    "        p = ax[n][n1]\n",
    "        p.plot(history.history[t + '_' + v][0:])\n",
    "        p.plot(history.history['val_' + t + '_' +  v][0:])\n",
    "        p.legend([t + '_Train', t + '_Test'], loc='center right')\n",
    "\n",
    "plt.tight_layout()"
   ]
  },
  {
   "cell_type": "code",
   "execution_count": null,
   "metadata": {},
   "outputs": [],
   "source": [
    "import tensorflowjs as tfjs\n",
    "tfjs.converters.save_keras_model(model, '.')"
   ]
  },
  {
   "cell_type": "code",
   "execution_count": 11,
   "metadata": {},
   "outputs": [
    {
     "name": "stdout",
     "output_type": "stream",
     "text": [
      "מצוי:  וְשֶיִּהְיֶה הַמְּהַלֵּךְ עַל גַּבֵּי הָאָרוֹן כַּנוֹגֵעַ בְּמֵּת אוֹ בַּקֶּבֶר. (ז) קוֹרָה שְהִיא\n",
      "רצוי:  וְשֶיִּהְיֶה הַמְּהַלֵּךְ עַל גַּבֵּי הָאָרוֹן כְּנוֹגֵעַ בְּמֵת אוֹ בְּקֶבֶר. (ז) קוֹרָה שְהִיא\n",
      "\n",
      "מצוי:  כָּךְ,\" אָמַר הָרוֹפֵא, \"עוֹד נִרְאֶה.\" מִשֶּיָצָאנוּ אֶל הַסִפּוּן כְּבָר הִתְחִילוּ\n",
      "רצוי:  כָּךְ,\" אָמַר הָרוֹפֵא, \"עוֹד נִרְאֶה.\" מִשֶיָצָאנוּ אֶל הַסִפּוּן כְּבָר הִתְחִילוּ\n",
      "\n",
      "מצוי:  אֵצֶל חָכָם וִיבַקֵּש עָלָיו רַחֲמִים שֶנֶּאֱמַר חֲמַת מֶלֶךְ מַלְאֲכֵי מָוֹת וְאִיש חָכָם\n",
      "רצוי:  אֵצֶל חָכָם וִיבַקֵּש עָלָיו רַחֲמִים שֶנֶּאֱמַר חֲמַת מֶלֶךְ מַלְאֲכֵי מָוֶת וְאִיש חָכָם\n",
      "\n",
      "מצוי:  וּמַיִם, כְּדֵי לִרְחֹץ פְּנֵי מְדּוּכָה. דְּבַש, כְּדֵי לִתֵּן עַל כָּל רֹאש הַכְּתִּית. דָּם,\n",
      "רצוי:  וּמַיִם, כְּדֵי לִרְחֹץ פְּנֵי מְדוֹכָה. דְּבַש, כְּדֵי לִתֵּן עַל כָּל רֹאש הַכָּתִית. דָּם,\n",
      "\n",
      "מצוי:  הַחֹם יָתֵר; וְיֵש מֵהֶם גּוּפִים שֶיִּהְיֶה בָּהֶם חֲזָקָה מִיְּסוֹד הָאָרֶץ כְּמוֹ\n",
      "רצוי:  הַחֹם יָתֵר; וְיֵש מֵהֶם גּוּפִים שֶיִּהְיֶה בָּהֶם חָזְקָה מִיְּסוֹד הָאָרֶץ כְּמוֹ\n",
      "\n",
      "מצוי:  עִמּוֹ\" (שמות יג,יט), עִמּוֹ בַּמַחֲנֵה לְוִיָּה. הַחַיִל--מְשַלְּחִין מִמֶּנּוּ גּוֹיִים,\n",
      "רצוי:  עִמּוֹ\" (שמות יג,יט), עִמּוֹ בְּמַחֲנֵה לְוִיָּה. הַחֵיל--מְשַלְּחִין מִמֶּנּוּ גּוֹיִים,\n",
      "\n",
      "מצוי:  מָעַל; בְּמֵזִיד--לֹא כָפַּר, לְפִיכָּךְ לֹא מָעַל. (ו) הַמַּפְרִיש שְתֵּי סְלָעִים\n",
      "רצוי:  מָעַל; בְּמֵזִיד--לֹא כִפַּר, לְפִיכָּךְ לֹא מָעַל. (ו) הַמַּפְרִיש שְתֵּי סְלָעִים\n",
      "\n",
      "מצוי:  שֶמּוֹסִיף עַל הַשָּבַע, אֵינוּ כְּלוּם--וְהוּא, שֶיִּהְיֶה זֶה שֶהוֹסִיף כּוֹהֵן אַחֵר;\n",
      "רצוי:  שֶמּוֹסִיף עַל הַשֶּבַע, אֵינוּ כְּלוּם--וְהוּא, שֶיִּהְיֶה זֶה שֶהוֹסִיף כּוֹהֵן אַחֵר;\n",
      "\n",
      "מצוי:  פָּנָיו; אַחַר כָּךְ נָפַל מִבָּטוֹ עָלַי וְהוּא פְּלַט אַנְחַת רוּחָה. אֲבָל לְפֶתַע\n",
      "רצוי:  פָּנָיו; אַחַר כָּךְ נָפַל מַבָּטוֹ עָלַי וְהוּא פָּלַט אַנְחַת רְוָחָה. אַבָל לְפֶתַע\n",
      "\n",
      "מצוי:  בַּצִּבּוּר, חַיָּב לִקְרוֹת לְעַצְמוֹ בְּכָל שָבוּעַ וְשָבוּעַ, סֵדֶר שֶלְּאוֹתָהּ שַבָּת--שְנַיִם\n",
      "רצוי:  בַּצִּבּוּר, חַיָּב לִקְרוֹת לְעַצְמוֹ בְּכָל שָבוּעַ וְשָבוּעַ, סֵדֶר שֶלְּאוֹתָהּ שַבָּת--שְנַיִם\n",
      "\n",
      "מצוי:  לִתֵּן לוֹ מֵהֶם. וְכַמָּה נוֹתֵן לוֹ--אֵין פָּחוּת מִשּוֹוֶה שְלוֹשִים סֶלַע, בֵּין\n",
      "רצוי:  לִתֵּן לוֹ מֵהֶם. וְכַמָּה נוֹתֵן לוֹ--אֵין פָּחוּת מִשּוֹוֶה שְלוֹשִים סֶלַע, בֵּין\n",
      "\n",
      "מצוי:  שֶהַכֹּל. אֲבָל תְּמָרִים שֶמְּעֲכָּן בְּיָדוֹ, וְהוֹצִיא גַּרְעִנִּין שֶלָּהֶן, וַעֲשִיָן כְּמוֹ\n",
      "רצוי:  שֶהַכֹּל. אֲבָל תְּמָרִים שֶמִּעֲכָן בְּיָדוֹ, וְהוֹצִיא גַּרְעִנִּין שֶלָּהֶן, וַעֲשָיָן כְּמוֹ\n",
      "\n",
      "מצוי:  מִי שְאֵינוּ נֶאֱמָן שֶהוֹצִיא פֵּרוֹת מִבֵּיתוֹ, וְאָמַר אֵלּוּ מַעֲשֵר רִאשוֹן--נֶאֱמָן,\n",
      "רצוי:  מִי שְאֵינוּ נֶאֱמָן שֶהוֹצִיא פֵּרוֹת מִבֵּיתוֹ, וְאָמַר אֵלּוּ מַעֲשֵר רִאשוֹן--נֶאֱמָן,\n",
      "\n",
      "מצוי:  כְּשֵרִים, מִשֶּיַּזְהִיבוּ. הַטֻּמְטוֹם וְהָאַנְדְּרֻגִּינוֹס--אַף עַל פִּי שְאֵין לָךְ מוּם\n",
      "רצוי:  כְּשֵרִים, מִשֶּיַּזְהִיבוּ. הַטֻּמְטוֹם וְהָאַנְדְּרֻגִּינוֹס--אַף עַל פִּי שְאֵין לָךְ מוּם\n",
      "\n",
      "מצוי:  וּבְשְּלָהּ בַּקְּדֵרָה אוֹ לָשָה בַּמָרָק--אִם יֵש בַּפְתִיתִין כַּזַּיִת, אוֹ שֶנִּכָּר שְהֶן פַּת\n",
      "רצוי:  וּבִשְּלָהּ בַּקְּדֵרָה אוֹ לָשָהּ בְּמָרָק--אִם יֵש בַּפְּתִיתִין כַּזַּיִת, אוֹ שֶנִּכָּר שְהֶן פַּת\n",
      "\n",
      "מצוי:  בְּחֹל הַמּוֹעֵד שְמוּעָה קְרוֹבָה שֶלְּאַחַר יוֹם טוֹב תְּהֵא רְחוֹקָה בְּכִי הָאִי גּוֹנָא\n",
      "רצוי:  בְּחֹל הַמּוֹעֵד שְמוּעָה קְרוֹבָה שֶלְּאַחַר יוֹם טוֹב תְּהֵא רְחוֹקָה בְּכִי הַאי גַּוְנָא\n",
      "\n",
      "מצוי:  יִסּוּרִים וַאֲנָקוֹת, שֶכֵּן הָיָה עָלָיו לִגְרֹר אַחֲרָיו אֶת רַגְלוֹ הַפְּצוּעָה. עוֹד\n",
      "רצוי:  יְסוּרִים וַאֲנָקוֹת, שֶכֵּן הָיָה עָלָיו לִגְרֹר אַחֲרָיו אֶת רַגְלוֹ הַפְּצוּעָה. עוֹד\n",
      "\n",
      "מצוי:  וְשוֹפְרוֹת--מְעַכְּבוֹת זוֹ אֶת זוֹ. וְצָרִיךְ לוֹמַר בְּכָל בְּרָכָה מֵהֶן, עֲשָרָה\n",
      "רצוי:  וְשוֹפָרוֹת--מְעַכְּבוֹת זוֹ אֶת זוֹ. וְצָרִיךְ לוֹמַר בְּכָל בְּרָכָה מֵהֶן, עֲשָרָה\n",
      "\n",
      "מצוי:  פִּי שֶפָּדָה פֵּרוֹת שָנָה רְבִיעִית אוֹ חֲלָלָן, אָסוּר לְאָכְלָן עַד שֶתִּכָּנֵס שָנָה\n",
      "רצוי:  פִּי שֶפָּדָה פֵּרוֹת שָנָה רְבִיעִית אוֹ חִלְּלָן, אָסוּר לְאָכְלָן עַד שֶתִּכָּנֵס שָנָה\n",
      "\n",
      "מצוי:  וּמַקְטִירִין אֵמוּרָיו; וּשְאָר הַבָּשָר נֶאֱכָל לַבְּעָלִים בִּירוּשָלַיִם, כִּשְאָר קֳדָשִים\n",
      "רצוי:  וּמַקְטִירִין אֵמוּרָיו; וּשְאָר הַבָּשָר נֶאֱכָל לַבְּעָלִים בִּירוּשָלַיִם, כִּשְאָר קֳדָשִים\n",
      "\n",
      "מצוי:  וּמֵרִיחַ בּוֹ לַלּוֹקֵחַ. כִּסּוּי כְּדֵּי יַיִן וּכְדֵי שֶמֶן, וּכְסּוּיֵי\n",
      "רצוי:  וּמֵרִיחַ בּוֹ לַלּוֹקֵחַ. כְּסוּי כַּדֵּי יַיִן וְכַדֵּי שֶמֶן, וּכְסוּיֵי\n",
      "\n",
      "מצוי:  \"אֶת מְצֻיֶּרֶת פָּשוּט מֵחֲרִיד,\" הִמְשִיכָה הַמִפְלֶצֶת, וְלוֹלִי הָאֱמִינָה לָהּ, סָגְרָה\n",
      "רצוי:  \"אַתְ מְצַיֶרֶת פָּשוּט מַחְרִיד,\" הִמְשִיכָה הַמִפְלֶצֶת, וְלוֹלִי הֶאֱמִינָה לָהּ, סָגְרָה\n",
      "\n",
      "מצוי:  בּוֹ יִשְרָאֵל, אוֹ שֶהִדְלִיק יִשְרָאֵל וְאָפָה גּוֹי, אוֹ שֶהִדְלִיק הַגּוֹי וְאָפָה\n",
      "רצוי:  בּוֹ יִשְרָאֵל, אוֹ שֶהִדְלִיק יִשְרָאֵל וְאָפָה גּוֹי, אוֹ שֶהִדְלִיק הַגּוֹי וְאָפָה\n",
      "\n",
      "מצוי:  כְּדַרְכָּהּ--אִם הוּא רִאשוֹן, חַיָּב בַּבֹשֶת וּפְגָם; וְאִם הוּא אַחֲרוֹן, חַיָּב בְּבֹשֶת\n",
      "רצוי:  כְּדַרְכָּהּ--אִם הוּא רִאשוֹן, חַיָּב בְּבֹשֶת וּפְגָם; וְאִם הוּא אַחֲרוֹן, חַיָּב בְּבֹשֶת\n",
      "\n",
      "מצוי:  בְּתוֹךְ הַתְּחוּם אֵיזֶה עִיר שֶהִיא מֻקֶּפֶת חוֹמָה שֶהִיא מְתֻקֶּנֶת בְּעֵרוּבִין אֵינָהּ\n",
      "רצוי:  בְּתוֹךְ הַתְּחוּם אֵיזֶה עִיר שֶהִיא מֻקֶּפֶת חוֹמָה שֶהִיא מְתֻקֶּנֶת בְּעֵרוּבִין אֵינָהּ\n",
      "\n",
      "מצוי:  מַחֲרִידָה. וּבְכָל פַּעַם שֶלוֹלִי נִסְתָה לְהַסְבִּיר עַל הַמִּפְלָצוֹת אוֹ לְהֵרְאוֹת\n",
      "רצוי:  מַחְרִידָה. וּבְכָל פַּעַם שֶלוֹלִי נִסְתָה לְהַסְבִּיר עַל הַמִפְלָצוֹת אוֹ לְהַרְאוֹת\n",
      "\n",
      "מצוי:  נִכְנַס לְבַיִת זֶה שֶכֶּלֶב רָע בְּתוֹכוֹ--מֵתוּ, אוֹ שֶעָשָה הָאָב תְּשוּבָה--הֲרֵי זֶה\n",
      "רצוי:  נִכְנָס לְבַיִת זֶה שֶכֶּלֶב רָע בְּתוֹכוֹ--מֵתוּ, אוֹ שֶעָשָה הָאָב תְּשוּבָה--הֲרֵי זֶה\n",
      "\n",
      "מצוי:  שֶעִנְינָם עֲקִירַת הַנֶּדֶר מֵעִיקָרוֹ--בֵּין בְּפָנֶיהָ, בֵּין שֶלֹּא בְּפָנֶיהָ. אֲבָל אִם\n",
      "רצוי:  שֶעִנְיָנָם עֲקִירַת הַנֶּדֶר מֵעִיקָרוֹ--בֵּין בְּפָנֶיהָ, בֵּין שֶלֹּא בְּפָנֶיהָ. אֲבָל אִם\n",
      "\n",
      "מצוי:  מְכֻנָּסִין בַּקַּרְפָּף--כֵּיוָן שֶהָרוּחַ מְפְזֶּרֶת אוֹתָן, הֲרֵי הֶן כִּמְפֻזָּרִין\n",
      "רצוי:  מְכֻנָּסִין בַּקַּרְפֵּף--כֵּיוָן שֶהָרוּחַ מְפַזֶּרֶת אוֹתָן, הֲרֵי הֶן כִּמְפֻזָּרִין\n",
      "\n",
      "מצוי:  הוּא שֶמֵּת. (כה) יָצָא יִשְרָאֵל וְגוֹי מֵעַמָנוּ לְמָקוֹם אֶחָד, וּבָא הַגּוֹי\n",
      "רצוי:  הוּא שֶמֵּת. (כה) יָצָא יִשְרָאֵל וְגוֹי מֵעִמָּנוּ לְמָקוֹם אֶחָד, וּבָא הַגּוֹי\n",
      "\n",
      "מצוי:  נְבִיאִים וּכְתוּבִים. כְּשֶבּוֹנִין בֵּית הַכְּנֶסֶת, אֵין בּוֹנִין אוֹתוֹ אֵלָא בְּגָבְהָהּ\n",
      "רצוי:  נְבִיאִים וּכְתוּבִים. כְּשֶבּוֹנִין בֵּית הַכְּנֶסֶת, אֵין בּוֹנִין אוֹתוֹ אֵלָא בְּגָבְהָהּ\n",
      "\n",
      "מצוי:  הַדְּבָרִים, שֶהָיוּ יְדוּעִים רַק לוֹ. \"אִיש קִדּוּש הוּא הַבַּעַל שֵם טוֹב, וַאֲנִי\n",
      "רצוי:  הַדְּבָרִים, שֶהָיוּ יְדוּעִים רַק לוֹ. \"אִיש קָדוֹש הוּא הַבַּעַל שֵם טוֹב, וַאֲנִי\n",
      "\n"
     ]
    }
   ],
   "source": [
    "def print_predictions(k):\n",
    "    s = slice(k*BATCH_SIZE, (k+1)*BATCH_SIZE)\n",
    "    batch = data.normalized_validation[s]\n",
    "    prediction = model.predict(batch)\n",
    "    [actual_niqqud, actual_dagesh] = [dataset.from_categorical(prediction[0]), dataset.from_categorical(prediction[1])]\n",
    "    [expected_niqqud, expected_dagesh] = [data.niqqud_validation[s], data.dagesh_validation[s]]\n",
    "    actual = data.merge(batch, ns=actual_niqqud, ds=actual_dagesh)\n",
    "    expected = data.merge(batch, ns=expected_niqqud, ds=expected_dagesh)\n",
    "    for i, (a, e) in enumerate(zip(actual, expected)):\n",
    "        print('מצוי: ', a)\n",
    "        print('רצוי: ', e)\n",
    "        print()\n",
    "\n",
    "print_predictions(1)"
   ]
  },
  {
   "cell_type": "code",
   "execution_count": null,
   "metadata": {},
   "outputs": [],
   "source": []
  },
  {
   "cell_type": "code",
   "execution_count": null,
   "metadata": {},
   "outputs": [],
   "source": [
    "print([ord(x) for x in ['־', '‒', '–', '—', '―', '−']\n",
    "      ])"
   ]
  },
  {
   "cell_type": "code",
   "execution_count": null,
   "metadata": {},
   "outputs": [],
   "source": [
    "print(ord('ׁ'))"
   ]
  },
  {
   "cell_type": "code",
   "execution_count": null,
   "metadata": {},
   "outputs": [],
   "source": []
  }
 ],
 "metadata": {
  "kernelspec": {
   "display_name": "Python 3",
   "language": "python",
   "name": "python3"
  },
  "language_info": {
   "codemirror_mode": {
    "name": "ipython",
    "version": 3
   },
   "file_extension": ".py",
   "mimetype": "text/x-python",
   "name": "python",
   "nbconvert_exporter": "python",
   "pygments_lexer": "ipython3",
   "version": "3.7.4"
  }
 },
 "nbformat": 4,
 "nbformat_minor": 4
}
