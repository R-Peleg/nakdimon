{
 "cells": [
  {
   "cell_type": "code",
   "execution_count": 1,
   "metadata": {},
   "outputs": [],
   "source": [
    "import os\n",
    "import numpy as np\n",
    "from tensorflow import keras\n",
    "from tensorflow.keras import layers\n",
    "\n",
    "import dataset\n",
    "from dataset import CircularLearningRate\n",
    "\n",
    "from tensorflow import config\n",
    "assert config.list_physical_devices('GPU')"
   ]
  },
  {
   "cell_type": "code",
   "execution_count": 71,
   "metadata": {
    "scrolled": true
   },
   "outputs": [
    {
     "name": "stdout",
     "output_type": "stream",
     "text": [
      "Model: \"model_14\"\n",
      "__________________________________________________________________________________________________\n",
      "Layer (type)                    Output Shape         Param #     Connected to                     \n",
      "==================================================================================================\n",
      "input_8 (InputLayer)            [(None, 64)]         0                                            \n",
      "__________________________________________________________________________________________________\n",
      "embedding_7 (Embedding)         (None, 64, 90)       3960        input_8[0][0]                    \n",
      "__________________________________________________________________________________________________\n",
      "bidirectional_14 (Bidirectional (None, 64, 180)      390240      embedding_7[0][0]                \n",
      "__________________________________________________________________________________________________\n",
      "bidirectional_15 (Bidirectional (None, 64, 180)      519840      bidirectional_14[0][0]           \n",
      "__________________________________________________________________________________________________\n",
      "add_7 (Add)                     (None, 64, 180)      0           bidirectional_14[0][0]           \n",
      "                                                                 bidirectional_15[0][0]           \n",
      "__________________________________________________________________________________________________\n",
      "dense_28 (Dense)                (None, 64, 16)       2896        add_7[0][0]                      \n",
      "__________________________________________________________________________________________________\n",
      "dense_29 (Dense)                (None, 64, 3)        543         add_7[0][0]                      \n",
      "__________________________________________________________________________________________________\n",
      "dense_30 (Dense)                (None, 64, 4)        724         add_7[0][0]                      \n",
      "__________________________________________________________________________________________________\n",
      "N (Softmax)                     (None, 64, 16)       0           dense_28[0][0]                   \n",
      "__________________________________________________________________________________________________\n",
      "D (Softmax)                     (None, 64, 3)        0           dense_29[0][0]                   \n",
      "__________________________________________________________________________________________________\n",
      "S (Softmax)                     (None, 64, 4)        0           dense_30[0][0]                   \n",
      "==================================================================================================\n",
      "Total params: 918,203\n",
      "Trainable params: 918,203\n",
      "Non-trainable params: 0\n",
      "__________________________________________________________________________________________________\n"
     ]
    }
   ],
   "source": [
    "BATCH_SIZE = 32\n",
    "MAXLEN = 64\n",
    "\n",
    "LETTERS_SIZE = len(dataset.letters_table)\n",
    "NIQQUD_SIZE = len(dataset.niqqud_table)\n",
    "DAGESH_SIZE = len(dataset.dagesh_table)\n",
    "SIN_SIZE = len(dataset.sin_table)\n",
    "KINDS_SIZE = len(dataset.KINDS)\n",
    "\n",
    "def build_model(EMBED_DIM=90, UNITS=180):\n",
    "\n",
    "    layer = input_text = keras.Input(batch_shape=(None, MAXLEN), batch_size=BATCH_SIZE)\n",
    "    \n",
    "    layer = layers.Embedding(LETTERS_SIZE, EMBED_DIM, input_length=MAXLEN, mask_zero=True)(layer)\n",
    "    layer = layers.Bidirectional(layers.LSTM(UNITS, return_sequences=True), merge_mode='sum')(layer)\n",
    "    layer = layers.add([layer, \n",
    "            layers.Bidirectional(layers.LSTM(UNITS, return_sequences=True), merge_mode='sum')(layer)])\n",
    "    \n",
    "    # kinds_layer = layers.LSTM(32)(layer)\n",
    "    \n",
    "    outputs = [\n",
    "        layers.Softmax(name='N')(layers.Dense(NIQQUD_SIZE)(layer)),\n",
    "        layers.Softmax(name='D')(layers.Dense(DAGESH_SIZE)(layer)),\n",
    "        layers.Softmax(name='S')(layers.Dense(SIN_SIZE)(layer)),\n",
    "        # layers.Softmax(name='K')(layers.Dense(KINDS_SIZE)(kinds_layer))\n",
    "    ]\n",
    "    model = keras.Model(inputs=[input_text], outputs=outputs)\n",
    "\n",
    "    jsmodel = model  #  keras.Model(inputs=[input_text], outputs=outputs[:-1])\n",
    "    # keras.utils.plot_model(model, to_file='model.png')\n",
    "    return model, jsmodel\n",
    "\n",
    "model, jsmodel = build_model()\n",
    "\n",
    "model.summary()\n",
    "model.save_weights('./checkpoints/uninit')"
   ]
  },
  {
   "cell_type": "code",
   "execution_count": 74,
   "metadata": {},
   "outputs": [],
   "source": [
    "def fit(train_validation, scheduler, verbose=1):\n",
    "    train, valid = train_validation\n",
    "    model.compile(loss='sparse_categorical_crossentropy', optimizer='adam', metrics=['accuracy'])\n",
    "    callbacks = []\n",
    "    if isinstance(scheduler, CircularLearningRate):\n",
    "        scheduler.set_dataset(train, BATCH_SIZE)\n",
    "    if scheduler:\n",
    "        callbacks.append(scheduler)\n",
    "        \n",
    "    x  = train.normalized\n",
    "    vx = valid.normalized\n",
    "    y  = {'N': train.niqqud, 'D': train.dagesh, 'S': train.sin, 'C': train.normalized } # , 'K': train.kind }\n",
    "    vy = {'N': valid.niqqud, 'D': valid.dagesh, 'S': valid.sin, 'C': valid.normalized } # , 'K': valid.kind }\n",
    "    return model.fit(x, y, validation_data=(vx, vy), batch_size=BATCH_SIZE, epochs=1, verbose=verbose, callbacks=callbacks)\n"
   ]
  },
  {
   "cell_type": "code",
   "execution_count": 4,
   "metadata": {},
   "outputs": [],
   "source": [
    "def load_data(source, maxlen=MAXLEN, validation=0.1):\n",
    "    filenames = [os.path.join('texts', f) for f in source]\n",
    "    train, valid = dataset.load_data(filenames, validation, maxlen=maxlen)\n",
    "    return train, valid"
   ]
  },
  {
   "cell_type": "code",
   "execution_count": 9,
   "metadata": {},
   "outputs": [],
   "source": [
    "data_rabanit = load_data(['rabanit'])"
   ]
  },
  {
   "cell_type": "code",
   "execution_count": 10,
   "metadata": {},
   "outputs": [],
   "source": [
    "data_pre_modern = load_data(['pre_modern'])"
   ]
  },
  {
   "cell_type": "code",
   "execution_count": 5,
   "metadata": {},
   "outputs": [],
   "source": [
    "data_modern = load_data(validation=0.2, source=['modern'])"
   ]
  },
  {
   "cell_type": "code",
   "execution_count": 76,
   "metadata": {},
   "outputs": [
    {
     "name": "stdout",
     "output_type": "stream",
     "text": [
      "Train on 73800 samples, validate on 8201 samples\n",
      "73800/73800 [==============================] - 92s 1ms/sample - loss: 0.3587 - N_loss: 0.2799 - D_loss: 0.0675 - S_loss: 0.0113 - N_accuracy: 0.9028 - D_accuracy: 0.9744 - S_accuracy: 0.9971 - val_loss: 0.1335 - val_N_loss: 0.1014 - val_D_loss: 0.0294 - val_S_loss: 0.0028 - val_N_accuracy: 0.9656 - val_D_accuracy: 0.9896 - val_S_accuracy: 0.9994\n"
     ]
    }
   ],
   "source": [
    "model.load_weights('./checkpoints/uninit')\n",
    "history = fit(data_rabanit, scheduler=CircularLearningRate(20e-4, 50e-4, 5e-4))\n",
    "model.save_weights('./checkpoints/rabanit')"
   ]
  },
  {
   "cell_type": "code",
   "execution_count": 77,
   "metadata": {},
   "outputs": [
    {
     "name": "stdout",
     "output_type": "stream",
     "text": [
      "Train on 65308 samples, validate on 7257 samples\n",
      "65308/65308 [==============================] - 85s 1ms/sample - loss: 0.2840 - N_loss: 0.2154 - D_loss: 0.0621 - S_loss: 0.0064 - N_accuracy: 0.9264 - D_accuracy: 0.9747 - S_accuracy: 0.9982 - val_loss: 0.2146 - val_N_loss: 0.1592 - val_D_loss: 0.0499 - val_S_loss: 0.0055 - val_N_accuracy: 0.9465 - val_D_accuracy: 0.9799 - val_S_accuracy: 0.9985\n"
     ]
    }
   ],
   "source": [
    "model.load_weights('./checkpoints/rabanit')\n",
    "history = fit(data_pre_modern, scheduler=CircularLearningRate(20e-4, 40e-4, 0.1e-4))\n",
    "model.save_weights('./checkpoints/pre_modern')"
   ]
  },
  {
   "cell_type": "code",
   "execution_count": 79,
   "metadata": {},
   "outputs": [
    {
     "name": "stdout",
     "output_type": "stream",
     "text": [
      "Train on 14143 samples, validate on 3536 samples\n",
      "14143/14143 [==============================] - 27s 2ms/sample - loss: 0.2001 - N_loss: 0.1466 - D_loss: 0.0504 - S_loss: 0.0031 - N_accuracy: 0.9500 - D_accuracy: 0.9807 - S_accuracy: 0.9992 - val_loss: 0.1462 - val_N_loss: 0.1061 - val_D_loss: 0.0377 - val_S_loss: 0.0025 - val_N_accuracy: 0.9648 - val_D_accuracy: 0.9861 - val_S_accuracy: 0.9994\n",
      "Train on 14143 samples, validate on 3536 samples\n",
      "14143/14143 [==============================] - 29s 2ms/sample - loss: 0.1319 - N_loss: 0.0939 - D_loss: 0.0360 - S_loss: 0.0020 - N_accuracy: 0.9680 - D_accuracy: 0.9864 - S_accuracy: 0.9995 - val_loss: 0.1374 - val_N_loss: 0.0995 - val_D_loss: 0.0355 - val_S_loss: 0.0025 - val_N_accuracy: 0.9677 - val_D_accuracy: 0.9872 - val_S_accuracy: 0.9995\n"
     ]
    }
   ],
   "source": [
    "model.load_weights('./checkpoints/pre_modern')\n",
    "history = fit(data_modern, scheduler=CircularLearningRate(6e-3, 6e-3, 0.4e-3))\n",
    "history = fit(data_modern, scheduler=CircularLearningRate(1e-3, 6e-3, 0.5e-3))\n",
    "model.save_weights('./checkpoints/modern')"
   ]
  },
  {
   "cell_type": "code",
   "execution_count": null,
   "metadata": {},
   "outputs": [],
   "source": [
    "data_all = load_data(validation=0.1, source=['biblical', 'rabanit', 'pre_modern', 'modern'])\n",
    "history = fit(data_all, scheduler=CircularLearningRate(0.01e-4, 1e-4, 0.01e-4))"
   ]
  },
  {
   "cell_type": "code",
   "execution_count": null,
   "metadata": {},
   "outputs": [],
   "source": [
    "import matplotlib.pyplot as plt\n",
    "\n",
    "fig, ax = plt.subplots(nrows=2, ncols=2)\n",
    "\n",
    "for n, v in enumerate(['accuracy', 'loss'], 0):\n",
    "    for n1, t in enumerate(['D', 'N'], 0):\n",
    "        p = ax[n][n1]\n",
    "        p.plot(history.history[t + '_' + v][0:])\n",
    "        p.plot(history.history['val_' + t + '_' +  v][0:])\n",
    "        p.legend([t + '_Train', t + '_Test'], loc='center right')\n",
    "\n",
    "plt.tight_layout()"
   ]
  },
  {
   "cell_type": "code",
   "execution_count": null,
   "metadata": {},
   "outputs": [],
   "source": [
    "jsmodel.summary()"
   ]
  },
  {
   "cell_type": "code",
   "execution_count": 80,
   "metadata": {},
   "outputs": [],
   "source": [
    "import tensorflowjs as tfjs\n",
    "jsmodel.load_weights('./checkpoints/modern')\n",
    "tfjs.converters.save_keras_model(jsmodel, '.')"
   ]
  },
  {
   "cell_type": "code",
   "execution_count": 69,
   "metadata": {
    "scrolled": true
   },
   "outputs": [
    {
     "name": "stdout",
     "output_type": "stream",
     "text": [
      "מצוי:  OOOOOO הַבְּרִיטִית. בְּמֶשֶׁךְ הַשָּׁנִים הָאִיּוּם שֶׁל הַתְקָפוֹת סַיְיבֶּר עַל לַוְויָינִים  4\n",
      "רצוי:  OOOOOO הַבְּרִיטִית. בְּמֶשֶׁךְ הַשָּׁנִים הָאִיּוּם שֶׁל הַתְקָפוֹת סַייְבֶּר עַל לַוְויָינִים  4\n",
      "מצוי:  וְיֵשׁ אֵיזֶשֶׁהוּ חוֹסֶר בְּמִישֶׁהוּ שֶׁיּוֹבִיל מַאֲבָק גַּם נֶגֶד הָאוֹיְבִים שֶׁבַּחוּץ. אֲנִי  4\n",
      "רצוי:  וְיֵשׁ אֵיזֶשֶׁהוּ חוֹסֶר בְּמִישֶׁהוּ שֶׁיּוֹבִיל מַאֲבָק גַּם נֶגֶד הָאוֹיְבִים שֶׁבַּחוּץ. אֲנִי  4\n",
      "מצוי:  בַּפַּעַם הַשִּׁישִׁית בָּרְצִיפוּת בְּמִפְעָל. סָאסִיץ' כָּבְשָׁה שְׁנֵי שְׁעָרִים בְּמַהֲלַךְ שָׁלָב  4\n",
      "רצוי:  בַּפַּעַם הַשִּׁישִּׁית בִּרְצִיפוּת בַּמִּפְעָל. סָאסִיץ' כָּבְשָׁה שְׁנֵי שְׁעָרִים בְּמַהֲלַךְ שְׁלַב  4\n",
      "מצוי:  OOOOOOOOOOOO \"זֶה לֹא הֶגְיוֹנִי. אֲנִי לֹא אֲמוּרָה לִהְיוֹת כָּאן. אֲנִי צְרִיכָה  4\n",
      "רצוי:  OOOOOOOOOOOO \"זֶה לֹא הֶגְיוֹנִי. אֲנִי לֹא אֲמוּרָה לִהְיוֹת כָּאן. אֲנִי צְרִיכָה  4\n",
      "מצוי:  קַיִץ\" ( OOOOOO OOOOOO) וּלְהַתְחִיל בִּגְלִישָׁה בְּמִדְרוֹן הַמְּשׁוּפָּע. הַפְּעִילוּת  4\n",
      "רצוי:  קַיִץ\" ( OOOOOO OOOOOO) וּלְהַתְחִיל בִּגְלִישָׁה בַּמִּדְרוֹן הַמְּשׁוּפָּע. הַפְּעִילוּת  4\n",
      "מצוי:  אֲרוּכָּה שֶׁבָּהּ עָבְרָה סָלוֹנִיקִי מִיָד לְיַד. תְּקוּפָה זוֹ הִסְתַּיְּימָה בְּ-5555 עִם  4\n",
      "רצוי:  אֲרוּכָּה שֶׁבָּהּ עָבְרָה סָלוֹנִיקִי מִיָּד לְיָד. תְּקוּפָה זוֹ הִסְתַּיְּימָה בְּ-5555 עִם  4\n",
      "מצוי:  הַסְּטָטִיסְטִיקָה הָרָגִיל שֶׁל הַמִּשְׂחָק (\"בּוֹקְס סָקוּר\"), שֶׁמִּתְפַּרְסֵם בַּאֲתָרִים  4\n",
      "רצוי:  הַסְּטָטִיסְטִיקָה הָרָגִיל שֶׁל הַמִּשְׂחָק (\"בּוֹקְס סְקוֹר\"), שֶׁמִּתְפַּרְסֵם בָּאֲתָרִים  4\n",
      "מצוי:  וּמְשַׁרְתֵי הַקֶּבַע מַרְכִּיבִים אֶת הַצָּבָא הַסָדִיר וּמְהַוִּוים אֶת הַשֶּׁלֶד הַלּוֹחֵם,  4\n",
      "רצוי:  וּמְשָׁרְתֵי הַקֶּבַע מַרְכִּיבִים אֶת הַצָּבָא הַסָּדִיר וּמְהַוִּוים אֶת הַשֶּׁלֶד הַלּוֹחֵם,  4\n",
      "מצוי:  כָּךְ לְמָשָׁל, הַבִּיטּוּי \"הָאָח הַגָּדוֹל\" הָפַךְ מַטְבֵּעַ לְשׁוֹן הַמִּתְיַיחֵס לְמַצָּב בּוֹ  4\n",
      "רצוי:  כָּךְ לְמָשָׁל, הַבִּיטּוּי \"הָאָח הַגָּדוֹל\" הָפַךְ מַטְבֵּעַ לָשׁוֹן הַמִּתְיַיחֵס לְמַצָּב בּוֹ  4\n",
      "מצוי:  הָרְפוּאִיִּים וְהַמִּשְׁטָרָה צְרִיכִים לְתַפְקֵד, וְכָךְ גַּם שֵׁירוּתֵי הַחֵירוּם וְהַהַצָּלָה שֶׁל  4\n",
      "רצוי:  הָרְפוּאִיִּים וְהַמִּשְׁטָרָה צְרִיכִים לְתַפְקֵד, וְכָךְ גַּם שֵׁירוּתֵי הַחֵירוּם וְהַהַצָּלָה שֶׁל  4\n",
      "מצוי:  הַמְּעוּדֶדֶת מִינִיּוּת. הָאִישָּׁה הוּצְגָה כְּמְפְתָּה לַחֵטֹא, חֲטָאִים שֶׁיֵּשׁ לִמְנוֹעַ אוֹתָם,  4\n",
      "רצוי:  הַמְּעוֹדֶדֶת מִינִיּוּת. הָאִישָּׁה הוּצְּגָה כִּמְפַתָּה לְחֵטְא, חֲטָאִים שֶׁיֵּשׁ לִמְנוֹעַ אוֹתָם,  4\n",
      "מצוי:  נוֹרְווגְיָה), לְאַחַר שֶׁבְּרוּבּוֹ הִיא עָלְתָה כְּשֶׁמַּחֲלִיפָה מֵהַסַּפְסָל. שְׁנָתַיִים לְאַחַר  4\n",
      "רצוי:  נוֹרְוֶוגְיָה), לְאַחַר שֶׁבְּרוּבּוֹ הִיא עָלְתָה כְּשֶׁמֵּחֲלִיפָה מֵהַסַּפְסָל. שְׁנָתַיִים לְאַחַר  4\n",
      "מצוי:  זֹאת, שֶׁאֵין לָהּ לֹא דַּעַת וְלֹא תְּבוּנָה הִכִּירָה אֶת בּוֹרָאָה, וַאֲנִי שֶׁבְּרָאנִי  4\n",
      "רצוי:  זֹאת, שֶׁאֵין לָהּ לֹא דַּעַת וְלֹא תְּבוּנָה הִכִּירָה אֶת בּוֹרְאָהּ, וַאֲנִי שֶׁבְּרַאָנִי  4\n",
      "מצוי:  \"צֶמֶד\" בּוֹ הִפְגִּין חֵיל הָאֲוִויר בִּיצוּעִים נְמוּכִים וְסָפַג בִּיקּוֹרֶת קָשֶׁה עַל  4\n",
      "רצוי:  \"צֶמֶד\" בּוֹ הִפְגִּין חֵיל הָאֲוִויר בִּיצּוּעִים נְמוּכִים וְסָפַג בִּיקּוֹרֶת קָשֶׁה עַל  4\n",
      "מצוי:  סְטָאטִי וְלֹא מִשְׁתַּנֶּה, תָּמִיד הָיָה וְתָמִיד יִהְיֶה. מִשְׁוָואוֹת תּוֹרַת הַיַּחֲסוּת שֶׁל  4\n",
      "רצוי:  סְטָאטִי וְלֹא מִשְׁתַּנֶּה, תָּמִיד הָיָה וְתָמִיד יִהְיֶה. מִשְׁוְואוֹת תּוֹרַת הַיַּחֲסוּת שֶׁל  4\n",
      "מצוי:  שֶׁבְּאֶרֶץ יֵשׁ אֶפְשָׁרוּיוֹת כַּלְכָּלִיּוֹת מְצוּמְצֵמוֹת בְּיוֹתֵר. בְּכַמָּה דִּיוּוּחִים רָמַז  4\n",
      "רצוי:  שֶׁבְּאֶרֶץ יֵשׁ אֶפְשָׁרוּיוֹת כַּלְכָּלִיּוֹת מְצוּמְצָמוֹת בְּיוֹתֵר. בְּכַמָּה דִּיוּוּחִים רָמַז  4\n",
      "מצוי:  בְּתוֹךְ כָּל הַמַּשְׁבֵּר הַזֶּה. מִבְּחִינַת הָאֱמוּנָה הַמּוּחְלֶטֶת בָּרַבָּנִים אֲנִי לֹא רוֹאֶה  4\n",
      "רצוי:  בְּתוֹךְ כָּל הַמַּשְׁבֵּר הַזֶּה. מִבְּחִינַת הָאֱמוּנָה הַמּוּחְלֶטֶת בְּרַבָּנִים אֲנִי לֹא רוֹאֶה  4\n",
      "מצוי:  שֶׁהִבִיעַ הָיָה רַק בְּיַחַס לְהַשְׁעָרָתוֹ שֶׁאֶחָד מֵהֶם הוּא שֶׁל מְפַקֵּד חָשׁוּב. הוּא כָּתַב  4\n",
      "רצוי:  שֶׁהִבִּיעַ הָיָה רַק בְּיַחַס לְהַשְׁעָרָתוֹ שֶׁאֶחָד מֵהֶם הוּא שֶׁל מְפַקֵּד חָשׁוּב. הוּא כָּתַב  4\n",
      "מצוי:  עֵינָיו וְהוּא נִיצֵל זֹאת כְּדֵי לִסְגֶת מִמֶּנּוּ. בְּעִקְבוֹת זֹאת הִתְחַזֵּק הַחָשָׁד  4\n",
      "רצוי:  עֵינָיו וְהוּא נִיצֵּל זֹאת כְּדֵי לָסֶגֶת מִמֶּנּוּ. בְּעִקְבוֹת זֹאת הִתְחַזֵּק הַחֲשָׁד  4\n",
      "מצוי:  וְיִתְכַוֵוץ כְּכָל שֶׁמְּהִירוּת הַהִתְפַּשְּׁטוּת תַּעֲלֶה, כִּי פּוֹטוֹן שֶׁרֶגַע לִפְנֵי כֵן הָיָה  4\n",
      "רצוי:  וְיִתְכַּוֵּוץ כְּכָל שֶׁמְּהִירוּת הַהִתְפַּשְּׁטוּת תַּעֲלֶה, כִּי פוֹטוֹן שֶׁרֶגַע לִפְנֵי כֵן הָיָה  4\n",
      "מצוי:  פִּתְרוֹן מִשְׁוָואוֹת פּוֹלִינוֹמִיּוֹת אֵינָהּ מִתְגַּבֶּרֶת עַל חוֹסֶר הַשְּׁלֵמוֹת שֶׁצִּיּיּנוּ  4\n",
      "רצוי:  פִּתְרוֹן מִשְׁוָואוֹת פּוֹלִינוֹמִיּוֹת אֵינָהּ מִתְגַּבֶּרֶת עַל חוֹסֶר הַשְּׁלֵמוּת שֶׁצִּייְּנוּ  4\n",
      "מצוי:  הָלַךְ זָקֵן וְנִכְנַס לְבֵית הַכְּנֶסֶת. הַזָּקֵן נִגַּשׁ אֶל הָרַב וְהִצִּיעַ לוֹ תַּפּוּחַ עֲסִיסֵי  4\n",
      "רצוי:  הֵלֶךְ זָקֵן וְנִכְנַס לְבֵית הַכְּנֶסֶת. הַזָּקֵן נִגַּשׁ אֶל הָרַב וְהִצִּיעַ לוֹ תַּפּוּחַ עֲסִיסִי  4\n",
      "מצוי:  הַצָּעִיר. הֵם עָבְרוּ לָגוּר בְּטַסְמַנְיָה, אִי לְיַד אוֹסְטְרַלְיָה, עִם יַלְדֵיהֶם.  4\n",
      "רצוי:  הַצָּעִיר. הֵם עָבְרוּ לָגוּר בְּטַסְמַנְיָה, אִי לְיַד אוֹסְטְרַלְיָה, עִם יַלְדֵיהֶם.  4\n",
      "מצוי:  מַרְדּוּק. הָעִילָּה: פְּגִישָׁה שֶׁבָּהּ בְּכִירִים בָּעִיתּוֹן שֶׁל מַרְדּוּק הִצִּיעוּ לִכְאוֹרָה  4\n",
      "רצוי:  מַרְדּוּק. הָעִילָּה: פְּגִישָׁה שֶׁבָּהּ בְּכִירִים בָּעִיתּוֹן שֶׁל מַרְדּוּק הִצִּיעוּ לִכְאוֹרָה  4\n",
      "מצוי:  חוּקָּתִי. בֵּית הַמִּשְׁפָּט עָשׂוּי לְהַכְרִיז עַל בְּטֵלוּתוֹ. מְכוּחָה שֶׁל \"הַמַּהְפֵּכָה  4\n",
      "רצוי:  חוּקָּתִי. בֵּית הַמִּשְׁפָּט עָשׂוּי לְהַכְרִיז עַל בְּטֵלוּתוֹ. מִכּוֹחָהּ שֶׁל \"הַמַּהְפֵּכָה  4\n",
      "מצוי:  הִזְהִיר אֶת מְמוֹנָיו שֶׁמְּהַמַּר כְּגוֹן הִיטְלֵר יְנַסֶּה וַדַּאי לְבַצֵּעַ מַעֲשֶׂה נוֹאַשׁ  4\n",
      "רצוי:  הִזְהִיר אֶת מְמוּנָּיו שֶׁמְּהַמֵּר כְּגוֹן הִיטְלֵר יְנַסֶּה וַדַּאי לְבַצֵּעַ מַעֲשֶׂה נוֹאָשׁ  4\n",
      "מצוי:  וְכַוּונָתוֹ הָיְיתָה לְהִשְׁתַּמֵּשׁ בְּמַסַּע הַהַשְׁמָצָה כְּסִדְרַת מֶתַח, שֶׁפְּרַטֶיהָ יְפּוּרְסְמוּ  4\n",
      "רצוי:  וְכַוָּונָתוֹ הָיְיתָה לְהִשְׁתַּמֵּשׁ בְּמַסַּע הַהַשְׁמָצָה כְּסִדְרַת מֶתַח, שֶׁפְּרָטֶיהָ יְפוּרְסְמוּ  4\n",
      "מצוי:  סִפַּרְתִּי עָלָיו לְאִישׁ. לֹא יָדַעְתִּי אֵיךְ לוֹמַר. עַד שֶׁיּוֹם אֶחָד אָמַרְתִּי אוֹתוֹ.  4\n",
      "רצוי:  סִפַּרְתִּי עָלָיו לָאִישׁ. לֹא יָדַעְתִּי אֵיךְ לוֹמַר. עַד שֶׁיּוֹם אֶחָד אָמַרְתִּי אוֹתוֹ.  4\n",
      "מצוי:  בְּזוּגִיּוּת\". דֵּנִיס מְסַכִּים: \"נֶחְמָד שֶׁאַתָּה חוֹזֵר הַבַּיְתָה וְהַבַּיִת הַרְבֵּה פָּחוֹת  4\n",
      "רצוי:  בְּזוּגִיּוּת\". דֵּנִיס מַסְכִּים: \"נֶחְמָד שֶׁאַתָּה חוֹזֵר הַבַּיְתָה וְהַבַּיִת הַרְבֵּה פָּחוֹת  4\n",
      "מצוי:  סִיקָרִיִּים, שֶׁהָיוּ הַקִּיצוֹנִיִּים מִבֵּין מֵחוּלָלָיו שֶׁל הַמֶּרֶד שֶׁסִּיכּוּיוֹ הָיוּ  4\n",
      "רצוי:  סִיקָרִיִּים, שֶׁהָיוּ הַקִּיצוֹנִיִּים מִבֵּין מְחוֹלְלָיו שֶׁל הַמֶּרֶד שֶׁסִּיכּוּיוֹ הָיוּ  4\n",
      "מצוי:  שֶׁלֹּא יָדוּעַ לִי. סוֹד מִשְׁפַּחְתִּי שֶׁאוּלַי יַסְבִּיר טוֹב יוֹתֵר גַּם אֶת מָה שֶׁקּוֹרֶה  4\n",
      "רצוי:  שֶׁלֹּא יָדוּעַ לִי. סוֹד מִשְׁפַּחְתִּי שֶׁאוּלַי יַסְבִּיר טוֹב יוֹתֵר גַּם אֶת מַה שֶׁקּוֹרָה  4\n",
      "מצוי:  הַשִּׁימּוּשׁ בַּמִּילִּים וּבְבִיטּוּיִים עוֹתְ'מָאנִיִּים כְּחֵלֶק מֵהַשָּׂפָה הַטּוּרְקִית  4\n",
      "רצוי:  הַשִּׁימּוּשׁ בְּמִילִּים וּבְבִיטּוּיִים עוֹתְ'מָאנִיִּים כְּחֵלֶק מֵהַשָּׂפָה הַטּוּרְקִית  4\n"
     ]
    }
   ],
   "source": [
    "model.load_weights('./checkpoints/modern')\n",
    "\n",
    "def print_predictions(data, k):\n",
    "    s = slice(k*BATCH_SIZE, (k+1)*BATCH_SIZE)\n",
    "    batch = data.normalized[s]\n",
    "    prediction = model.predict(batch)\n",
    "    [actual_niqqud, actual_dagesh, actual_sin, actual_kind] = [dataset.from_categorical(prediction[0]), dataset.from_categorical(prediction[1]), dataset.from_categorical(prediction[2]),  dataset.from_categorical(prediction[3])]\n",
    "    [expected_niqqud, expected_dagesh, expected_sin, expected_kind] = [data.niqqud[s], data.dagesh[s], data.sin[s], data.kind[s]]\n",
    "    actual = dataset.merge(batch, ns=actual_niqqud, ds=actual_dagesh, ss=actual_sin)\n",
    "    expected = dataset.merge(batch, ns=expected_niqqud, ds=expected_dagesh, ss=expected_sin)\n",
    "    for i, (a, e) in enumerate(zip(actual, expected)):\n",
    "        print('מצוי: ', a, actual_kind[i])\n",
    "        print('רצוי: ', e, expected_kind[i])\n",
    "\n",
    "print_predictions(data_modern[1], 6)"
   ]
  },
  {
   "cell_type": "code",
   "execution_count": null,
   "metadata": {},
   "outputs": [],
   "source": [
    "shutil.rmtree(os.sep.join([tempfile.gettempdir(), '.tensorboard-info']), ignore_errors=True)\n",
    "shutil.rmtree('logs', ignore_errors=True)\n",
    "os.makedirs('logs')\n",
    "# %tensorboard --logdir logs"
   ]
  },
  {
   "cell_type": "code",
   "execution_count": null,
   "metadata": {},
   "outputs": [],
   "source": [
    "print(data_modern[1].text[0])\n",
    "print(data_modern[1].text[1])"
   ]
  },
  {
   "cell_type": "code",
   "execution_count": null,
   "metadata": {},
   "outputs": [],
   "source": []
  }
 ],
 "metadata": {
  "kernelspec": {
   "display_name": "Python 3",
   "language": "python",
   "name": "python3"
  },
  "language_info": {
   "codemirror_mode": {
    "name": "ipython",
    "version": 3
   },
   "file_extension": ".py",
   "mimetype": "text/x-python",
   "name": "python",
   "nbconvert_exporter": "python",
   "pygments_lexer": "ipython3",
   "version": "3.7.4"
  }
 },
 "nbformat": 4,
 "nbformat_minor": 4
}
