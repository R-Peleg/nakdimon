{
 "cells": [
  {
   "cell_type": "code",
   "execution_count": 2,
   "metadata": {},
   "outputs": [
    {
     "name": "stderr",
     "output_type": "stream",
     "text": [
      "Using TensorFlow backend.\n"
     ]
    }
   ],
   "source": [
    "import os\n",
    "import numpy as np\n",
    "import tensorflow as tf\n",
    "from tensorflow.keras import layers\n",
    "\n",
    "import dataset\n",
    "import utils\n",
    "assert tf.config.list_physical_devices('GPU')"
   ]
  },
  {
   "cell_type": "code",
   "execution_count": 17,
   "metadata": {
    "scrolled": true
   },
   "outputs": [
    {
     "name": "stdout",
     "output_type": "stream",
     "text": [
      "Model: \"model_4\"\n",
      "__________________________________________________________________________________________________\n",
      "Layer (type)                    Output Shape         Param #     Connected to                     \n",
      "==================================================================================================\n",
      "input_5 (InputLayer)            [(None, 64)]         0                                            \n",
      "__________________________________________________________________________________________________\n",
      "embedding_4 (Embedding)         (None, 64, 110)      4840        input_5[0][0]                    \n",
      "__________________________________________________________________________________________________\n",
      "bidirectional_8 (Bidirectional) (None, 64, 220)      582560      embedding_4[0][0]                \n",
      "__________________________________________________________________________________________________\n",
      "bidirectional_9 (Bidirectional) (None, 64, 220)      776160      bidirectional_8[0][0]            \n",
      "__________________________________________________________________________________________________\n",
      "add_4 (Add)                     (None, 64, 220)      0           bidirectional_8[0][0]            \n",
      "                                                                 bidirectional_9[0][0]            \n",
      "__________________________________________________________________________________________________\n",
      "dense_12 (Dense)                (None, 64, 16)       3536        add_4[0][0]                      \n",
      "__________________________________________________________________________________________________\n",
      "dense_13 (Dense)                (None, 64, 3)        663         add_4[0][0]                      \n",
      "__________________________________________________________________________________________________\n",
      "dense_14 (Dense)                (None, 64, 4)        884         add_4[0][0]                      \n",
      "__________________________________________________________________________________________________\n",
      "lstm_12 (LSTM)                  (None, 2)            1784        add_4[0][0]                      \n",
      "__________________________________________________________________________________________________\n",
      "N (Softmax)                     (None, 64, 16)       0           dense_12[0][0]                   \n",
      "__________________________________________________________________________________________________\n",
      "D (Softmax)                     (None, 64, 3)        0           dense_13[0][0]                   \n",
      "__________________________________________________________________________________________________\n",
      "S (Softmax)                     (None, 64, 4)        0           dense_14[0][0]                   \n",
      "__________________________________________________________________________________________________\n",
      "K (Softmax)                     (None, 2)            0           lstm_12[0][0]                    \n",
      "==================================================================================================\n",
      "Total params: 1,370,427\n",
      "Trainable params: 1,370,427\n",
      "Non-trainable params: 0\n",
      "__________________________________________________________________________________________________\n"
     ]
    }
   ],
   "source": [
    "BATCH_SIZE = 32\n",
    "MAXLEN = 64\n",
    "\n",
    "LETTERS_SIZE = len(dataset.letters_table)\n",
    "NIQQUD_SIZE = len(dataset.niqqud_table)\n",
    "DAGESH_SIZE = len(dataset.dagesh_table)\n",
    "SIN_SIZE = len(dataset.sin_table)\n",
    "KINDS_SIZE = 2\n",
    "\n",
    "def build_model(EMBED_DIM=110, UNITS=220):\n",
    "\n",
    "    layer = input_text = tf.keras.Input(batch_shape=(None, MAXLEN), batch_size=BATCH_SIZE)\n",
    "    \n",
    "    layer = layers.Embedding(LETTERS_SIZE, EMBED_DIM, mask_zero=True)(layer)\n",
    "    layer = layers.Bidirectional(layers.LSTM(UNITS, return_sequences=True, dropout=0.0), merge_mode='sum')(layer)\n",
    "    layer = layers.add([layer,\n",
    "            layers.Bidirectional(layers.LSTM(UNITS, return_sequences=True, dropout=0.0), merge_mode='sum')(layer)])\n",
    "    \n",
    "    outputs = [\n",
    "        layers.Softmax(name='N')(layers.Dense(NIQQUD_SIZE)(layer)),\n",
    "        layers.Softmax(name='D')(layers.Dense(DAGESH_SIZE)(layer)),\n",
    "        layers.Softmax(name='S')(layers.Dense(SIN_SIZE)(layer)),\n",
    "        layers.Softmax(name='K')(layers.LSTM(KINDS_SIZE)(layer))\n",
    "    ]\n",
    "    model = tf.keras.Model(inputs=[input_text], outputs=outputs)\n",
    "\n",
    "    # tf.keras.utils.plot_model(model, to_file='model.png')\n",
    "    return model\n",
    "\n",
    "model = build_model()\n",
    "\n",
    "model.summary()\n",
    "model.save_weights('./checkpoints/uninit')"
   ]
  },
  {
   "cell_type": "code",
   "execution_count": 23,
   "metadata": {},
   "outputs": [],
   "source": [
    "def fit(data, scheduler, verbose=1):\n",
    "    model.compile(loss='sparse_categorical_crossentropy', optimizer='adam', metrics=['accuracy'])\n",
    "    callbacks = []\n",
    "    if isinstance(scheduler, utils.CircularLearningRate):\n",
    "        scheduler.set_dataset(data, BATCH_SIZE)\n",
    "    if scheduler:\n",
    "        callbacks.append(scheduler)\n",
    "    x  = data.normalized_texts\n",
    "    vx = data.normalized_validation\n",
    "    kind_texts = np.ones((data.normalized_texts.shape[0], 1))\n",
    "    kind_validation = np.ones((data.normalized_validation.shape[0], 1))\n",
    "    y  = {'N': data.niqqud_texts,      'D': data.dagesh_texts,      'S': data.sin_texts,      'C': data.normalized_texts,      'K': kind_texts}\n",
    "    vy = {'N': data.niqqud_validation, 'D': data.dagesh_validation, 'S': data.sin_validation, 'C': data.normalized_validation, 'K': kind_validation}\n",
    "    return model.fit(x, y, validation_data=(vx, vy), batch_size=BATCH_SIZE, epochs=1, verbose=verbose, callbacks=callbacks)\n"
   ]
  },
  {
   "cell_type": "code",
   "execution_count": 6,
   "metadata": {},
   "outputs": [],
   "source": [
    "def load_data(source, maxlen=MAXLEN, validation=0.1):\n",
    "    filenames = [os.path.join('texts', f) for f in source]\n",
    "    return dataset.load_file(filenames, BATCH_SIZE, validation, maxlen=maxlen, shuffle=True)"
   ]
  },
  {
   "cell_type": "code",
   "execution_count": 25,
   "metadata": {},
   "outputs": [],
   "source": [
    "data_rabanit = load_data(['rabanit'])"
   ]
  },
  {
   "cell_type": "code",
   "execution_count": 26,
   "metadata": {},
   "outputs": [],
   "source": [
    "data_pre_modern = load_data(['pre_modern'])"
   ]
  },
  {
   "cell_type": "code",
   "execution_count": 37,
   "metadata": {},
   "outputs": [],
   "source": [
    "data_modern = load_data(validation=0.2, source=['modern'])"
   ]
  },
  {
   "cell_type": "code",
   "execution_count": 28,
   "metadata": {},
   "outputs": [
    {
     "name": "stdout",
     "output_type": "stream",
     "text": [
      "Train on 79891 samples, validate on 8877 samples\n",
      "79891/79891 [==============================] - 110s 1ms/sample - loss: 0.4594 - N_loss: 0.2580 - D_loss: 0.0641 - S_loss: 0.0095 - K_loss: 0.1278 - N_accuracy: 0.9101 - D_accuracy: 0.9759 - S_accuracy: 0.9976 - K_accuracy: 0.9996 - val_loss: 0.2573 - val_N_loss: 0.0975 - val_D_loss: 0.0302 - val_S_loss: 0.0027 - val_K_loss: 0.1269 - val_N_accuracy: 0.9674 - val_D_accuracy: 0.9892 - val_S_accuracy: 0.9994 - val_K_accuracy: 1.0000\n"
     ]
    }
   ],
   "source": [
    "model.load_weights('./checkpoints/uninit')\n",
    "history = fit(data_rabanit, utils.CircularLearningRate(20e-4, 50e-4, 5e-4))\n",
    "model.save_weights('./checkpoints/rabanit')"
   ]
  },
  {
   "cell_type": "code",
   "execution_count": 29,
   "metadata": {},
   "outputs": [
    {
     "name": "stdout",
     "output_type": "stream",
     "text": [
      "Train on 79084 samples, validate on 8788 samples\n",
      "79084/79084 [==============================] - 108s 1ms/sample - loss: 0.3843 - N_loss: 0.1938 - D_loss: 0.0576 - S_loss: 0.0060 - K_loss: 0.1269 - N_accuracy: 0.9348 - D_accuracy: 0.9769 - S_accuracy: 0.9983 - K_accuracy: 1.0000 - val_loss: 0.3211 - val_N_loss: 0.1423 - val_D_loss: 0.0470 - val_S_loss: 0.0049 - val_K_loss: 0.1269 - val_N_accuracy: 0.9528 - val_D_accuracy: 0.9811 - val_S_accuracy: 0.9987 - val_K_accuracy: 1.0000\n"
     ]
    }
   ],
   "source": [
    "model.load_weights('./checkpoints/rabanit')\n",
    "history = fit(data_pre_modern, utils.CircularLearningRate(20e-4, 40e-4, 0.1e-4))\n",
    "model.save_weights('./checkpoints/pre_modern')"
   ]
  },
  {
   "cell_type": "code",
   "execution_count": 38,
   "metadata": {},
   "outputs": [
    {
     "name": "stdout",
     "output_type": "stream",
     "text": [
      "Train on 13619 samples, validate on 3405 samples\n",
      "13619/13619 [==============================] - 32s 2ms/sample - loss: 0.3199 - N_loss: 0.1405 - D_loss: 0.0493 - S_loss: 0.0031 - K_loss: 0.1269 - N_accuracy: 0.9530 - D_accuracy: 0.9812 - S_accuracy: 0.9993 - K_accuracy: 1.0000 - val_loss: 0.2640 - val_N_loss: 0.0985 - val_D_loss: 0.0365 - val_S_loss: 0.0020 - val_K_loss: 0.1269 - val_N_accuracy: 0.9680 - val_D_accuracy: 0.9863 - val_S_accuracy: 0.9995 - val_K_accuracy: 1.0000\n"
     ]
    }
   ],
   "source": [
    "model.load_weights('./checkpoints/pre_modern')\n",
    "history = fit(data_modern, utils.CircularLearningRate(6e-3, 6e-3, 0.5e-3))"
   ]
  },
  {
   "cell_type": "code",
   "execution_count": null,
   "metadata": {},
   "outputs": [],
   "source": [
    "import matplotlib.pyplot as plt\n",
    "\n",
    "fig, ax = plt.subplots(nrows=2, ncols=2)\n",
    "\n",
    "for n, v in enumerate(['accuracy', 'loss'], 0):\n",
    "    for n1, t in enumerate(['D', 'N'], 0):\n",
    "        p = ax[n][n1]\n",
    "        p.plot(history.history[t + '_' + v][0:])\n",
    "        p.plot(history.history['val_' + t + '_' +  v][0:])\n",
    "        p.legend([t + '_Train', t + '_Test'], loc='center right')\n",
    "\n",
    "plt.tight_layout()"
   ]
  },
  {
   "cell_type": "code",
   "execution_count": 40,
   "metadata": {},
   "outputs": [],
   "source": [
    "import tensorflowjs as tfjs\n",
    "tfjs.converters.save_keras_model(model, '.')"
   ]
  },
  {
   "cell_type": "code",
   "execution_count": 39,
   "metadata": {
    "scrolled": true
   },
   "outputs": [
    {
     "name": "stdout",
     "output_type": "stream",
     "text": [
      "מצוי:  פְּגִיעָה בִּבְסִיסִי מְחַבְּלִים מִחוּץ לַשֶׁטַח יִשְׂרָאֵל. לְדוּגְמָה, בְּאַפְּרִיל 5555 נֶעֱרַךְ\n",
      "רצוי:  פְּגִיעָה בִּבְסִיסֵי מְחַבְּלִים מִחוּץ לְשֶׁטַח יִשְׂרָאֵל. לְדוּגְמָה, בְּאַפְּרִיל 5555 נֶעֱרַךְ\n",
      "\n",
      "מצוי:  עֲלוֹנִים שֶׁחִילֵּק לְצוֹרֶךְ פִּרְסוּם סִפְרוּ הֶחָדָשׁ, גְּנִיבַת צְמִיגִים בְּטֶרֶם כְּנִיסָתוֹ\n",
      "רצוי:  עֲלוֹנִים שֶׁחִילֵּק לְצוֹרֶךְ פִּרְסוּם סִפְרוֹ הֶחָדָשׁ, גְּנֵיבַת צְמִיגִים בְּטֶרֶם כְּנִיסָתוֹ\n",
      "\n",
      "מצוי:  מַעֲרֶכֶת שְׁמַע בְּ-555 אֶלֶף שֶׁקַל עַל יְדֵי הָאֲזְנָה לְשִׁידּוּרֵי עֲרוּץ הַסְּפּוֹרְט. מָה\n",
      "רצוי:  מַעֲרֶכֶת שָׁמַע בְּ-555 אֶלֶף שֶׁקֶל עַל יְדֵי הַאֲזָנָה לְשִׁידּוּרֵי עֲרוּץ הַסְּפּוֹרְט. מָה\n",
      "\n",
      "מצוי:  הוֹלִידַיי, שֶׁרָצוּ 5.55 מַיְילִים לְמִשְׂחָק (כְּ-5.55 ק\"מ). הָעוּבְדָּה שֶׁשְּׁנֵיהֶם הֵם\n",
      "רצוי:  הוֹלִידֵיי, שֶׁרָצוּ 5.55 מָיְילִים לְמִשְׂחָק (כִּ-5.55 ק\"מ). הָעוּבְדָּה שֶׁשְּׁנֵיהֶם הֵם\n",
      "\n",
      "מצוי:  \"נִרְאָה לִי הַרְבֵּה יוֹתֵר כֵּיף. וּפָחוֹת מֵעִיף.\" לוֹלִי הִפָנְתָה אֶת פָּנֶיהָ וְהִבִּיטָה\n",
      "רצוי:  \"נִרְאֶה לִי הַרְבֵּה יוֹתֵר כֵּיף. וּפָחוֹת מְעַיֵף.\" לוֹלִי הִפְנְתָה אֶת פָּנֶיהָ וְהִבִּיטָה\n",
      "\n",
      "מצוי:  וְדָהֲרוּ מִשָּׁם. עָלִי בַּבָּא יָרַד מִן הָעֵץ, קְרָב לַמְּעָרָה וְקָרָא בְּקוֹל: \"סוּמְסוּם\n",
      "רצוי:  וְדָהֲרוּ מִשָּׁם. עָלִי בַּבָּא יָרַד מִן הָעֵץ, קָרַב לַמְּעָרָה וְקָרָא בְּקוֹל: \"סוּמְסוּם\n",
      "\n",
      "מצוי:  לִפְצָצַת הָאָטוֹם בְּאוֹמְרוֹ: הָאוֹיֵב מַחֲזִיק בְּנֶשֶׁק חָזָק וְרַב עוֹצְמָה שֶׁבִּיכוֹלְתּוֹ\n",
      "רצוי:  לִפְצָצַת הָאָטוֹם בְּאוֹמְרוֹ: הָאוֹיֵב מַחֲזִיק בְּנֶשֶׁק חָזָק וְרַב עוֹצְמָה שֶׁבִּיכוֹלְתּוֹ\n",
      "\n",
      "מצוי:  הַנָּשִׁים וְהַפֵמִינִיזְם, וְעוֹד. הַפּוֹרְנוֹגְרַפְיָה, אִם כֵּן, לְמַרְבֵּה הַהַפְתָּעָה, קְשׁוּרָה\n",
      "רצוי:  הַנָּשִׁים וְהַפֵמִינִיזְם, וְעוֹד. הַפּוֹרְנוֹגְרַפְיָה, אִם כֵּן, לְמַרְבֵּה הַהַפְתָּעָה, קְשׁוּרָה\n",
      "\n",
      "מצוי:  לְמָשָׁל, הַבִּיטּוּי \"הָאָח הַגָּדוֹל\" הָפַךְ מַטְבֵּעַ לָשׁוֹן הַמִּתְיַיחֵס לְמַצָּב בּוֹ פְּרָטִים\n",
      "רצוי:  לְמָשָׁל, הַבִּיטּוּי \"הָאָח הַגָּדוֹל\" הָפַךְ מַטְבֵּעַ לָשׁוֹן הַמִּתְיַיחֵס לְמַצָּב בּוֹ פְּרָטִים\n",
      "\n",
      "מצוי:  בִּשְׁכוּנוֹת הַיִשָׁנוֹת שֶׁאֲנִי קוֹרֵא לָהֶן 'פְּבָלוֹת', שָׁם אִי אֶפְשָׁר לִמְצוֹא מֶטֶר אֶחָד\n",
      "רצוי:  בַּשְּׁכוּנוֹת הַיְּשָׁנוֹת שֶׁאֲנִי קוֹרֵא לָהֶן 'פָּבֶלוֹת', שָׁם אִי אֶפְשָׁר לִמְצוֹא מֶטֶר אֶחָד\n",
      "\n",
      "מצוי:  הַזֶּה, עַל מַאֲבַקֵנוּ לִקְרַאת שְׁנַת הַתַּקְצִיב הַחֲדָשָׁה. מְחַכֶּה רֶגַע לְמַרְבֵּה הַמַּזָּל\n",
      "רצוי:  הַזֶּה, עַל מַאֲבָקֵנוּ לִקְרַאת שְׁנַת הַתַּקְצִיב הַחֲדָשָׁה. מְחַכֶּה רֶגַע לְמֵרַבָּהּ הַמַּזָּל\n",
      "\n",
      "מצוי:  חַיֶיךְ, אֲבָל עַד מְהֵרָה יַגִּיעַ הַקַּיִץ וְאַחֲרָיו גַּם הַסְתָו וְהַחֹרֶף. אֵין זְמַן\n",
      "רצוי:  חַיֶיךָ, אֲבָל עַד מְהֵרָה יַגִיעַ הַקַיִץ וְאַחֲרָיו גַם הַסְתָו וְהַחֹרֶף. אֵין זְמַן\n",
      "\n",
      "מצוי:  תַּעֲשִׂיָּיתִי חָשׁוּב וּמָקוֹם מוֹשָׁבָה שֶׁל מִפְקָדָה צְבָאִית גְּדוֹלָה; יוֹקוֹהָמָה נִבְחֲרָה כִּי\n",
      "רצוי:  תַּעֲשִׂיָּיתִי חָשׁוּב וּמְקוֹם מוֹשָׁבָהּ שֶׁל מִפְקָדָה צְבָאִית גְּדוֹלָה; יוֹקוֹהָמָה נִבְחֲרָה כִּי\n",
      "\n",
      "מצוי:  כָּךְ צוַח אֶחָד הַקְּטַנִּים הַמְּבְהָלִים. \"אֵלּוּ הוּא הָיָה מַצְלִיחַ בָּזֶה, אָז כַּנִּרְאֶה שֶׁלֹּא\n",
      "רצוי:  כָּךְ צָוַח אַחַד הַקְטַנִים הַמְבֹהָלִים. \"אִלוּ הוּא הָיָה מַצְלִיחַ בָּזֶה, אָז כְּנִרְאֶה שֶׁלֹא\n",
      "\n",
      "מצוי:  רוֹצִים, וְאֶת מָה שֶׁלֹּא רוֹצִים לֶאֱכֹל מַשְׁאִירִים בְּצַלַּחַת. מְשְׂחֲקִים וְעִיסּוּקִים:\n",
      "רצוי:  רוֹצִים, וְאֶת מַה שֶׁלֹּא רוֹצִים לֶאֱכֹל מַשְׁאִירִים בַּצַּלַּחַת. מִשְׂחָקִים וְעִיסוּקִים:\n",
      "\n",
      "מצוי:  מְחַלֶקֶת אֶת הַמִּזְרָח הַתִּיכוֹן וּמַרְחִיקָה אֶת הַסִּיכּוּי לְשָׁלוֹם. הַתְמִיכָה הָאִירָאנִית\n",
      "רצוי:  מְחַלֶּקֶת אֶת הַמִּזְרָח הַתִּיכוֹן וּמַרְחִיקָה אֶת הַסִּיכּוּי לְשָׁלוֹם. הַתְּמִיכָה הָאִירָאנִית\n",
      "\n",
      "מצוי:  יוֹצֵא לְחוֹפְשִׁי\" (\"OOO OOOOO OOO OOOO\") חָזָה אֶת הַמְצָאַת פְּצָצַת הָאָטוֹם,\n",
      "רצוי:  יוֹצֵא לַחוֹפְשִׁי\" (\"OOO OOOOO OOO OOOO\") חָזֶה אֶת הַמְצָאַת פְּצָצַת הָאָטוֹם,\n",
      "\n",
      "מצוי:  הַקּוֹדֶם בְּגִין מַעֲשִׂים חֲמוּרִים אַף יוֹתֵר: פְּשָׁעִים נֶגֶד הָאֱנוֹשׁוֹת. בֵּית הַמִּשְׁפָּט\n",
      "רצוי:  הַקּוֹדֵם בְּגִין מַעֲשִׂים חֲמוּרִים אַף יוֹתֵר: פְּשָׁעִים נֶגֶד הָאֱנוֹשׁוּת. בֵּית הַמִּשְׁפָּט\n",
      "\n",
      "מצוי:  אֲנַחְנוּ מְכַוּוָנִים אֶת הַמְּכוּנָּה. זֶה אָמוּר לְסַיֵּיעַ לְהִתְנַהֲגוּת חַדָה וּבְעִיקָּר\n",
      "רצוי:  אֲנַחְנוּ מְכַוְּונִים אֶת הַמְּכוֹנָה. זֶה אָמוּר לְסַיֵּיעַ לְהִתְנַהֲגוּת חַדָּה וּבְעִיקָּר\n",
      "\n",
      "מצוי:  סְתָם חֲפָצִים בְּסוֹפוֹ שֶׁל דָּבָר, הַכֹּל בַּר הַחְלָפָה\". מוֹר וּמְאוֹר: \"מָאוֹר רָצָה לָתֵת\n",
      "רצוי:  סְתָם חֲפָצִים בְּסוֹפוֹ שֶׁל דָּבָר, הַכֹּל בַּר הַחְלָפָה\". מוּר וּמָאוֹר: \"מָאוֹר רָצָה לָתֵת\n",
      "\n",
      "מצוי:  וּלְקַבֵּל מִמֶּנּוּ אֶת הַהוֹרָאוֹת. יֵשׁ לִי תְּחוּשָׁה שֶׁגַּם מְקַבְּלֵי הַהַחְלָטוֹת הֵבִינוּ אֶת\n",
      "רצוי:  וּלְקַבֵּל מִמֶּנּוּ אֶת הַהוֹרָאוֹת. יֵשׁ לִי תְּחוּשָׁה שֶׁגַּם מְקַבְּלֵי הַהַחְלָטוֹת הֵבִינוּ אֶת\n",
      "\n",
      "מצוי:  שָׁנִים, אוֹכֶלֶת מֵהֶם וְחוֹשֶׁבֶת: \"נֶחְמָד, אֲפִלוּ טָעִים, אֲבָל אֵיךְ אֶפְשָׁר לְהַשְׁווֹת\n",
      "רצוי:  שְׁנַיִם, אוֹכֶלֶת מֵהֶם וְחוֹשֶׁבֶת: \"נֶחְמָד, אֲפִלוּ טָעִים, אֲבָל אֵיךְ אֶפְשָׁר לְהַשְׁווֹת\n",
      "\n",
      "מצוי:  הָעֵדֶן, וְכִי הוּא מְקוֹר הַחֵטְא הַקַּדְמוֹן. עַל כֵּן עַל הָאָדָם לִדְחוֹת הִתְנַהֲגוּת\n",
      "רצוי:  הָעֵדֶן, וְכִי הוּא מְקוֹר הַחֵטְא הַקַּדְמוֹן. עַל כֵּן עַל הָאָדָם לִדְחוֹת הִתְנַהֲגוּת\n",
      "\n",
      "מצוי:  אַנְטִי-חוֹמֶר תִּהְיֶה רַק בִּגְבוּלוֹת שֶׁלָּהֶם, כִּי שָׁם תִּיפֶלְט קְרִינָה שֶׁל פוֹטוֹנִי גַּמָא\n",
      "רצוי:  אַנְטִי-חוֹמֶר תִּהְיֶה רַק בַּגְּבוּלוֹת שֶׁלָּהֶם, כִּי שָׁם תִּיפָּלֵט קְרִינָה שֶׁל פוֹטוֹנֵי גָּמָא\n",
      "\n",
      "מצוי:  עוֹבֶרֶת עַל פְּנֵי הַנְּגָנִים. הַנְּגָנִים יוֹשְׁבִים. סַאלַח יוֹשֵׁב מוּל מִכְרָם, אַיְימֵן\n",
      "רצוי:  עוֹבֶרֶת עַל פְּנֵי הַנַּגָּנִים. הַנַּגָּנִים יוֹשְׁבִים. סַאלַח יוֹשֵׁב מוּל מִכֶּרֶם, אַיְּימָן\n",
      "\n",
      "מצוי:  הַמְּעַט שֶׁכְּבָר נוֹדַע, הִסְפִּיק כְּדֵי לְעוֹרֵר עָלָיו הַתַּנַגֵדִיּוּת. טָעֲנוּ כְּלַפָּיו שֶׁהוּא\n",
      "רצוי:  הַמְּעַט שֶׁכְּבָר נוֹדַע, הִסְפִּיק כְּדֵי לְעוֹרֵר עָלָיו הִתְנַגְּדֻיּוֹת. טָעֲנוּ כְּלַפָּיו שֶׁהוּא\n",
      "\n",
      "מצוי:  מִמוּתָּקִים, הִגְדִּילוּ אֶת הַסִּיכּוּן לְתַחֲלוּאָה בְּסַרְטַן הַמְּעִי בְּיוֹתֵר מִ-55O. לָכֵן,\n",
      "רצוי:  מְמוּתָּקִים, הִגְדִּילוּ אֶת הַסִּיכּוּן לְתַחֲלוּאָה בְּסַרְטַן הַמְּעִי בְּיוֹתֵר מִ-55O. לָכֵן,\n",
      "\n",
      "מצוי:  רוּחוֹ. הִרְשַׁעַת עֲבַרְיָינִים, הָיְיתָה מְשִׂימָה מוּרְכֶּבֶת עַל פִּי חוֹק, אַף עַל פִּי\n",
      "רצוי:  רוּחוֹ. הַרְשָׁעַת עֲבַרְיָינִים, הָיְיתָה מְשִׂימָה מוּרְכֶּבֶת עַל פִּי חוֹק, אַף עַל פִּי\n",
      "\n",
      "מצוי:  בִּשְׁתֵּי דְּרָכִים: יֶשְׁנָן קְבוּצוֹת חֲסוּמוֹת שֶׁאֵין לָהֶן חָסֵם עֶלְיוֹן, דְּהַיְינוּ חַסַם\n",
      "רצוי:  בִּשְׁתֵּי דְּרָכִים: יֶשְׁנָן קְבוּצוֹת חֲסוּמוֹת שֶׁאֵין לָהֶן חַסָּם עֶלְיוֹן, דְּהַיְינוּ חַסָּם\n",
      "\n",
      "מצוי:  \"יָעֵלִי, מְתוּקָה שֶׁלִּי, כַּמָּה הִתְגַּעְגַּעְנוּ אֵלֶיךָ,\" אִמָא וְאַבָּא פָּרְצוּ אֶל הַבַּיִת\n",
      "רצוי:  \"יָעֵלִי, מְתוּקָה שֶׁלִי, כַּמָה הִתְגַעְגַעְנוּ אֵלַיִךְ,\" אִמָא וְאַבָּא פָּרְצוּ אֶל הַבַּיִת\n",
      "\n",
      "מצוי:  לִפְגּוֹשׁ אֶת סַאלַח וְחָצִינוּ אִיתּוֹ אֶת הַגְּבוּל מֵאוּסְטֶרְיָּה לְגֶרְמַנְיָה. רַק כְּשֶׁחָזַרְנוּ\n",
      "רצוי:  לִפְגּוֹשׁ אֶת סַאלַח וְחָצִינוּ אִיתּוֹ אֶת הַגְּבוּל מֵאוֹסְטְרִיָּה לְגֶרְמַנְיָה. רַק כְּשֶׁחָזַרְנוּ\n",
      "\n",
      "מצוי:  שֶׁצָלַחְתִּי אֶת הַדֶּרֶךְ. אֲנִי עוֹדְנִי מָצוּי בִּנְקוּדַּת הַמְּבוּכָּה הָרִאשׁוֹנִית. יְדֵי\n",
      "רצוי:  שֶׁצָּלַחְתִּי אֶת הַדֶּרֶךְ. אֲנִי עוֹדֶנִּי מָצוּי בִּנְקוּדַּת הַמְּבוּכָה הָרִאשׁוֹנִית. יְדֵי\n",
      "\n"
     ]
    }
   ],
   "source": [
    "def print_predictions(data, k):\n",
    "    s = slice(k*BATCH_SIZE, (k+1)*BATCH_SIZE)\n",
    "    batch = data.normalized_validation[s]\n",
    "    prediction = model.predict(batch)\n",
    "    [actual_niqqud, actual_dagesh, actual_sin] = [dataset.from_categorical(prediction[0]), dataset.from_categorical(prediction[1]), dataset.from_categorical(prediction[2])]\n",
    "    [expected_niqqud, expected_dagesh, expected_sin] = [data.niqqud_validation[s], data.dagesh_validation[s], data.sin_validation[s]]\n",
    "    actual = data.merge(batch, ns=actual_niqqud, ds=actual_dagesh, ss=actual_sin)\n",
    "    expected = data.merge(batch, ns=expected_niqqud, ds=expected_dagesh, ss=expected_sin)\n",
    "    for i, (a, e) in enumerate(zip(actual, expected)):\n",
    "        print('מצוי: ', a)\n",
    "        print('רצוי: ', e)\n",
    "        print()\n",
    "\n",
    "print_predictions(data_modern, 1)"
   ]
  },
  {
   "cell_type": "code",
   "execution_count": null,
   "metadata": {},
   "outputs": [],
   "source": [
    "shutil.rmtree(os.sep.join([tempfile.gettempdir(), '.tensorboard-info']), ignore_errors=True)\n",
    "shutil.rmtree('logs', ignore_errors=True)\n",
    "os.makedirs('logs')\n",
    "# %tensorboard --logdir logs"
   ]
  },
  {
   "cell_type": "code",
   "execution_count": null,
   "metadata": {},
   "outputs": [],
   "source": [
    "input = layers.Input((2, 1))\n",
    "layer = layers.Bidirectional(layers.GRU(units=50, return_sequences=True))(input)\n",
    "output = layers.Dense(1, activation='sigmoid')(layer)\n",
    "model = tf.keras.Model(inputs=[input], outputs=[output])\n",
    "\n",
    "lr = 1\n",
    "for i in range(4):\n",
    "    lr /= 3\n",
    "    x = [[[np.random.random()], [np.random.random()]] for _ in range(100000)]\n",
    "    y = [[[a], [a]] for [[a], [_]] in x]\n",
    "    model.compile(optimizer=tf.keras.optimizers.Adam(learning_rate=lr), loss=\"mean_squared_error\")\n",
    "    model.fit(x, y, epochs=1, verbose=1)\n",
    "print(model.predict([[[1], [0.5]]]))\n",
    "print(model.evaluate([[[1], [0.5]]], [[[1], [1]]]))\n",
    "# print(result)"
   ]
  },
  {
   "cell_type": "code",
   "execution_count": null,
   "metadata": {},
   "outputs": [],
   "source": []
  }
 ],
 "metadata": {
  "kernelspec": {
   "display_name": "Python 3",
   "language": "python",
   "name": "python3"
  },
  "language_info": {
   "codemirror_mode": {
    "name": "ipython",
    "version": 3
   },
   "file_extension": ".py",
   "mimetype": "text/x-python",
   "name": "python",
   "nbconvert_exporter": "python",
   "pygments_lexer": "ipython3",
   "version": "3.7.4"
  }
 },
 "nbformat": 4,
 "nbformat_minor": 4
}
