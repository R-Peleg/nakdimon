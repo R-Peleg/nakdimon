{
 "cells": [
  {
   "cell_type": "code",
   "execution_count": 1,
   "metadata": {},
   "outputs": [],
   "source": [
    "import os\n",
    "import numpy as np\n",
    "from tensorflow import keras\n",
    "from tensorflow.keras import layers\n",
    "\n",
    "import dataset\n",
    "from dataset import CircularLearningRate\n",
    "\n",
    "from tensorflow import config\n",
    "assert config.list_physical_devices('GPU')"
   ]
  },
  {
   "cell_type": "code",
   "execution_count": 2,
   "metadata": {
    "scrolled": true
   },
   "outputs": [
    {
     "name": "stdout",
     "output_type": "stream",
     "text": [
      "Model: \"model\"\n",
      "__________________________________________________________________________________________________\n",
      "Layer (type)                    Output Shape         Param #     Connected to                     \n",
      "==================================================================================================\n",
      "input_1 (InputLayer)            [(None, 64)]         0                                            \n",
      "__________________________________________________________________________________________________\n",
      "embedding (Embedding)           (None, 64, 110)      4840        input_1[0][0]                    \n",
      "__________________________________________________________________________________________________\n",
      "bidirectional (Bidirectional)   (None, 64, 220)      582560      embedding[0][0]                  \n",
      "__________________________________________________________________________________________________\n",
      "bidirectional_1 (Bidirectional) (None, 64, 220)      776160      bidirectional[0][0]              \n",
      "__________________________________________________________________________________________________\n",
      "add (Add)                       (None, 64, 220)      0           bidirectional[0][0]              \n",
      "                                                                 bidirectional_1[0][0]            \n",
      "__________________________________________________________________________________________________\n",
      "lstm_2 (LSTM)                   (None, 32)           32384       add[0][0]                        \n",
      "__________________________________________________________________________________________________\n",
      "dense (Dense)                   (None, 64, 16)       3536        add[0][0]                        \n",
      "__________________________________________________________________________________________________\n",
      "dense_1 (Dense)                 (None, 64, 3)        663         add[0][0]                        \n",
      "__________________________________________________________________________________________________\n",
      "dense_2 (Dense)                 (None, 64, 4)        884         add[0][0]                        \n",
      "__________________________________________________________________________________________________\n",
      "dense_3 (Dense)                 (None, 6)            198         lstm_2[0][0]                     \n",
      "__________________________________________________________________________________________________\n",
      "N (Softmax)                     (None, 64, 16)       0           dense[0][0]                      \n",
      "__________________________________________________________________________________________________\n",
      "D (Softmax)                     (None, 64, 3)        0           dense_1[0][0]                    \n",
      "__________________________________________________________________________________________________\n",
      "S (Softmax)                     (None, 64, 4)        0           dense_2[0][0]                    \n",
      "__________________________________________________________________________________________________\n",
      "K (Softmax)                     (None, 6)            0           dense_3[0][0]                    \n",
      "==================================================================================================\n",
      "Total params: 1,401,225\n",
      "Trainable params: 1,401,225\n",
      "Non-trainable params: 0\n",
      "__________________________________________________________________________________________________\n"
     ]
    }
   ],
   "source": [
    "BATCH_SIZE = 32\n",
    "MAXLEN = 64\n",
    "\n",
    "LETTERS_SIZE = len(dataset.letters_table)\n",
    "NIQQUD_SIZE = len(dataset.niqqud_table)\n",
    "DAGESH_SIZE = len(dataset.dagesh_table)\n",
    "SIN_SIZE = len(dataset.sin_table)\n",
    "KINDS_SIZE = len(dataset.KINDS)\n",
    "\n",
    "def build_model(EMBED_DIM=110, UNITS=220):\n",
    "\n",
    "    layer = input_text = keras.Input(batch_shape=(None, MAXLEN), batch_size=BATCH_SIZE)\n",
    "    \n",
    "    layer = layers.Embedding(LETTERS_SIZE, EMBED_DIM, input_length=MAXLEN, mask_zero=True)(layer)\n",
    "    layer = layers.Bidirectional(layers.LSTM(UNITS, return_sequences=True, dropout=0.0), merge_mode='sum')(layer)\n",
    "    layer = layers.add([layer, \n",
    "            layers.Bidirectional(layers.LSTM(UNITS, return_sequences=True, dropout=0.0), merge_mode='sum')(layer)])\n",
    "    \n",
    "    kinds_layer = layers.LSTM(32)(layer)\n",
    "    \n",
    "    outputs = [\n",
    "        layers.Softmax(name='N')(layers.Dense(NIQQUD_SIZE)(layer)),\n",
    "        layers.Softmax(name='D')(layers.Dense(DAGESH_SIZE)(layer)),\n",
    "        layers.Softmax(name='S')(layers.Dense(SIN_SIZE)(layer)),\n",
    "        layers.Softmax(name='K')(layers.Dense(KINDS_SIZE)(kinds_layer))\n",
    "    ]\n",
    "    model = keras.Model(inputs=[input_text], outputs=outputs)\n",
    "\n",
    "    jsmodel = keras.Model(inputs=[input_text], outputs=outputs[:-1])\n",
    "    # keras.utils.plot_model(model, to_file='model.png')\n",
    "    return model, jsmodel\n",
    "\n",
    "model, jsmodel = build_model()\n",
    "\n",
    "model.summary()\n",
    "model.save_weights('./checkpoints/uninit')"
   ]
  },
  {
   "cell_type": "code",
   "execution_count": 3,
   "metadata": {},
   "outputs": [],
   "source": [
    "def fit(train_validation, scheduler, verbose=1):\n",
    "    train, valid = train_validation\n",
    "    model.compile(loss='sparse_categorical_crossentropy', optimizer='adam', metrics=['accuracy'])\n",
    "    callbacks = []\n",
    "    if isinstance(scheduler, CircularLearningRate):\n",
    "        scheduler.set_dataset(train, BATCH_SIZE)\n",
    "    if scheduler:\n",
    "        callbacks.append(scheduler)\n",
    "        \n",
    "    x  = train.normalized\n",
    "    vx = valid.normalized\n",
    "    y  = {'N': train.niqqud, 'D': train.dagesh, 'S': train.sin, 'C': train.normalized, 'K': train.kind }\n",
    "    vy = {'N': valid.niqqud, 'D': valid.dagesh, 'S': valid.sin, 'C': valid.normalized, 'K': valid.kind }\n",
    "    return model.fit(x, y, validation_data=(vx, vy), batch_size=BATCH_SIZE, epochs=1, verbose=verbose, callbacks=callbacks)\n"
   ]
  },
  {
   "cell_type": "code",
   "execution_count": 4,
   "metadata": {},
   "outputs": [],
   "source": [
    "def load_data(source, maxlen=MAXLEN, validation=0.1):\n",
    "    filenames = [os.path.join('texts', f) for f in source]\n",
    "    train, valid = dataset.load_data(filenames, validation, maxlen=maxlen)\n",
    "    return train, valid"
   ]
  },
  {
   "cell_type": "code",
   "execution_count": null,
   "metadata": {},
   "outputs": [],
   "source": [
    "data_rabanit = load_data(['rabanit'])"
   ]
  },
  {
   "cell_type": "code",
   "execution_count": null,
   "metadata": {},
   "outputs": [],
   "source": [
    "data_pre_modern = load_data(['pre_modern'])"
   ]
  },
  {
   "cell_type": "code",
   "execution_count": null,
   "metadata": {},
   "outputs": [],
   "source": [
    "data_modern = load_data(validation=0.2, source=['modern'])"
   ]
  },
  {
   "cell_type": "code",
   "execution_count": 5,
   "metadata": {},
   "outputs": [],
   "source": [
    "data_all = load_data(validation=0.1, source=['biblical', 'rabanit', 'pre_modern', 'modern'])"
   ]
  },
  {
   "cell_type": "code",
   "execution_count": null,
   "metadata": {},
   "outputs": [],
   "source": [
    "model.load_weights('./checkpoints/uninit')\n",
    "history = fit(data_rabanit, scheduler=CircularLearningRate(20e-4, 50e-4, 5e-4))\n",
    "model.save_weights('./checkpoints/rabanit')"
   ]
  },
  {
   "cell_type": "code",
   "execution_count": null,
   "metadata": {},
   "outputs": [],
   "source": [
    "model.load_weights('./checkpoints/rabanit')\n",
    "history = fit(data_pre_modern, scheduler=CircularLearningRate(20e-4, 40e-4, 0.1e-4))\n",
    "model.save_weights('./checkpoints/pre_modern')"
   ]
  },
  {
   "cell_type": "code",
   "execution_count": null,
   "metadata": {},
   "outputs": [],
   "source": [
    "model.load_weights('./checkpoints/pre_modern')\n",
    "history = fit(data_modern, scheduler=CircularLearningRate(6e-3, 6e-3, 0.5e-3))\n",
    "# history = fit(data_modern, CircularLearningRate(1e-3, 2e-3, 0.5e-3))\n",
    "model.save_weights('./checkpoints/modern')"
   ]
  },
  {
   "cell_type": "code",
   "execution_count": 14,
   "metadata": {},
   "outputs": [
    {
     "name": "stdout",
     "output_type": "stream",
     "text": [
      "Train on 175563 samples, validate on 19507 samples\n",
      "175563/175563 [==============================] - 237s 1ms/sample - loss: 0.3234 - N_loss: 0.1633 - D_loss: 0.0469 - S_loss: 0.0043 - K_loss: 0.1088 - N_accuracy: 0.9439 - D_accuracy: 0.9817 - S_accuracy: 0.9989 - K_accuracy: 0.9635 - val_loss: 0.3568 - val_N_loss: 0.1683 - val_D_loss: 0.0479 - val_S_loss: 0.0041 - val_K_loss: 0.1363 - val_N_accuracy: 0.9422 - val_D_accuracy: 0.9813 - val_S_accuracy: 0.9989 - val_K_accuracy: 0.9528\n"
     ]
    }
   ],
   "source": [
    "history = fit(data_all, scheduler=CircularLearningRate(0.01e-4, 1e-4, 0.01e-4))"
   ]
  },
  {
   "cell_type": "code",
   "execution_count": null,
   "metadata": {},
   "outputs": [],
   "source": [
    "import matplotlib.pyplot as plt\n",
    "\n",
    "fig, ax = plt.subplots(nrows=2, ncols=2)\n",
    "\n",
    "for n, v in enumerate(['accuracy', 'loss'], 0):\n",
    "    for n1, t in enumerate(['D', 'N'], 0):\n",
    "        p = ax[n][n1]\n",
    "        p.plot(history.history[t + '_' + v][0:])\n",
    "        p.plot(history.history['val_' + t + '_' +  v][0:])\n",
    "        p.legend([t + '_Train', t + '_Test'], loc='center right')\n",
    "\n",
    "plt.tight_layout()"
   ]
  },
  {
   "cell_type": "code",
   "execution_count": null,
   "metadata": {},
   "outputs": [],
   "source": [
    "jsmodel.summary()"
   ]
  },
  {
   "cell_type": "code",
   "execution_count": null,
   "metadata": {},
   "outputs": [],
   "source": [
    "import tensorflowjs as tfjs\n",
    "jsmodel.load_weights('./checkpoints/modern')\n",
    "tfjs.converters.save_keras_model(jsmodel, '.')"
   ]
  },
  {
   "cell_type": "code",
   "execution_count": 10,
   "metadata": {
    "scrolled": true
   },
   "outputs": [
    {
     "name": "stdout",
     "output_type": "stream",
     "text": [
      "מצוי:  עֶצֶם, וּכְלֵי מַתְּכוֹת, וּכְלֵי עֵץ, וּכְלֵי חֶרֶס. הֲרֵי הוּא אוֹמֵר \"מִכָּל-כְּלֵי-עֵץ  3\n",
      "רצוי:  עֶצֶם, וּכְלֵי מַתְּכוֹת, וּכְלֵי עֵץ, וּכְלֵי חֶרֶס. הֲרֵי הוּא אוֹמֵר \"מִכָּל-כְּלִי-עֵץ  1\n",
      "מצוי:  קָדְשֵׁי בֶּדֶק הַבַּיִת, בֵּין קָדְשֵׁי מִזְבֵּחַ; וְאֵין נִשְׁאֲלִין עַל הַתְּמוּרָה. וּכְשֵׁם שֶׁהָאָב  1\n",
      "רצוי:  קָדְשֵׁי בֶּדֶק הַבַּיִת, בֵּין קָדְשֵׁי מִזְבֵּחַ; וְאֵין נִשְׁאָלִין עַל הַתְּמוּרָה. וּכְשֵׁם שֶׁהָאָב  1\n",
      "מצוי:  שְׁפִיכַת דָּמִים, יַקִּירִי, וַאֲנִי אַרְכַּב עַל סוֹסֵךָ, כְּשֵׁם שֶׁאֲנִי רוֹכֵב עָלֶיךָ. הוּא  3\n",
      "רצוי:  שְׁפִיכַת דָּמִים, יַקִּירִי, וַאֲנִי אֶרְכַּב עַל סוּסְךָ, כְּשֵׁם שֶׁאֲנִי רוֹכֵב עָלֶיךָ. הוּא  3\n",
      "מצוי:  בָּנֶיָהָ, שְׁתֵּי בְּנוֹתֶיהָ עַל לְחֵי-הוֹרֵד; אַךְ מִן הַתִּינוֹק אֲשֶׁר בָּעֶרֶשׁ לֹא יָכְלֶה  3\n",
      "רצוי:  בָּנֶיהָ, שְׁתֵּי בְּנוֹתֶיהָ עַל לְחִי-הַוֶּרֶד; אַךְ מִן הַתִּינוֹק אֲשֶׁר בָּעֶרֶשׂ לֹא יָכְלָה  3\n",
      "מצוי:  שִׁטָעוּ--הֲרֵי בֵּית דִּין חַיָּבִין לְהָבִיא קָרְבַּן חַטָּאת עַל שֶׁגְגָתָן בַּהוֹרָאָה, וְאַף  1\n",
      "רצוי:  שֶׁטָּעוּ--הֲרֵי בֵּית דִּין חַיָּבִין לְהָבִיא קָרְבַּן חַטָּאת עַל שִׁגְגָתָן בַּהוֹרָאָה, וְאַף  1\n",
      "מצוי:  הַתּוֹלָעִים וְהָעֲלוּקָה שְׁבָּמַיִם, וְהַבְּרִיּוֹת הַגְּדוֹלוֹת בְּיוֹתֵר שְׁהֶן חַיוֹת הַיָּם:  1\n",
      "רצוי:  הַתּוֹלָעִים וְהָעֲלוּקָה שֶׁבַּמַּיִם, וְהַבְּרִיּוֹת הַגְּדוֹלוֹת בְּיוֹתֵר שְׁהֶן חַיּוֹת הַיָּם:  1\n",
      "מצוי:  דָּמְתָה אֶת-עַצְמָהּ לְלְטוּ יְפַת-הַלְּחַיִּיִם, לֵאמֹר: אַךְ שְׁנַיִם יָלְדוּ לָאֵלֶּה, וְהִיא  3\n",
      "רצוי:  דִמְּתָה אֶת-עַצְמָהּ לְלֵטוֹ יְפַת-הַלְּחָיָיִם, לֵאמֹר: אַךְ שְׁנַיִם יֻלְּדוּ לָאֵלָה, וְהִיא  3\n",
      "מצוי:  שְׁלוֹשִׁים בָּאֲדָר, וְלֹא עָבְרוּ עֲדַיִן הַשָּׁנָה--אֵין מְעַבְּרִין אוֹתָהּ כְּלָל: שֶׁאוֹתוֹ  1\n",
      "רצוי:  שְׁלוֹשִׁים בַּאֲדָר, וְלֹא עִבְּרוּ עֲדַיִן הַשָּׁנָה--אֵין מְעַבְּרִין אוֹתָהּ כְּלָל: שֶׁאוֹתוֹ  1\n",
      "מצוי:  מָדַד לְכַמוֹת אֵיבָרִים בִּקְבוּצָה, אוֹ כִּמְדַד לְאוֹרֶךְ, אֵין לַמִסְפָּרִים שְׁלִילִיִּים  4\n",
      "רצוי:  מַדָּד לְכַמּוּת אֵיבָרִים בִּקְבוּצָה, אוֹ כְּמַדָּד לְאוֹרֶךְ, אֵין לְמִסְפָּרִים שְׁלִילִיִּים  4\n",
      "מצוי:  וְהַכֶּסַת הַחֲדָשִׁים בְּמוֹכִין--גְּזֵרָה, שֶׁמֶּא יִתְפֹּר; אֲבָל מוֹכִין שֶׁנִּשְׁרוּ מִן הָכָּר אוֹ  1\n",
      "רצוי:  וְהַכֶּסֶת הַחֲדָשִׁים בְּמוֹכִין--גְּזֵרָה, שֶׁמֶּא יִתְפֹּר; אֲבָל מוֹכִין שֶׁנָּשְׁרוּ מִן הַכַּר אוֹ  1\n",
      "מצוי:  כְּמוֹ שֶׁיִּתְבָּאַר: חוּץ מִן הָעֹמֶר וּשְׁתֵּי הַלֶּחֶם--שְׁאֵינָן בָּאִין אֵלָא מִן הַחֹדֶשׁ,  1\n",
      "רצוי:  כְּמוֹ שֶׁיִּתְבָּאַר: חוּץ מִן הָעֹמֶר וּשְׁתֵּי הַלֶּחֶם--שְׁאֵינָן בָּאִין אֵלָא מִן הֶחָדָשׁ,  1\n",
      "מצוי:  חֲצֵרוֹ שֶׁבַּקְצֵה הַבִּקָעָה, הָיְתָה לוֹ גַּם מִשְׁתַּלָה קְטַנָּה. וְהוּא הָיָה הוֹלֵךְ וְסוֹבֵב  3\n",
      "רצוי:  חֲצֵרוֹ שֶׁבִּקְצֵה הַבִּקְעָה, הָיְתָה לוֹ גַם מִשְׁתָּלָה קְטַנָה. וְהוּא הָיָה הוֹלֵךְ וְסוֹבֵב  3\n",
      "מצוי:  וְגַם לַאֲחֵרִים מְבָרֵךְ בָּרוּךְ אַתָּה אֱלָקֵינוּ מֶלֶךְ הָעוֹלָם הַטּוֹב וְהַמֵּטִיב כְּלוֹמַר  1\n",
      "רצוי:  וְגַם לַאֲחֵרִים מְבָרֵךְ בָּרוּךְ אַתָּה אֱלֹקֵינוּ מֶלֶךְ הָעוֹלָם הַטּוֹב וְהַמֵּטִיב כְּלוֹמַר  1\n",
      "מצוי:  הִנְנִי מֵקַיּם אֶת-בְּרִיתִי אֶתְכֶם וְאֶת-זְרְעֲכֶם אַחֲרֵיכֶם וְאֵת כָּל-נֶפֶשׁ הַחַיָּה אֲשֶׁר  0\n",
      "רצוי:  הִנְנִי מֵקִים אֶת-בְּרִיתִי אִתְּכֶם וְאֶת-זַרְעֲכֶם אַחֲרֵיכֶם וְאֵת כָּל-נֶפֶשׁ הַחַיָּה אֲשֶׁר  0\n",
      "מצוי:  וְרַגְלָיו יְדֵי אָדָם וְרַגְלָיו, וַהֲרֵי הִיא נְקֵבָה אוֹ זָכָר--אֵינוּ וֶלֶד, וְאֵין  1\n",
      "רצוי:  וְרַגְלָיו יְדֵי אָדָם וְרַגְלָיו, וַהֲרֵי הִיא נְקֵבָה אוֹ זָכָר--אֵינוּ וֶלֶד, וְאֵין  1\n",
      "מצוי:  טוּאוֹנֶלָה, וּבְכֵלִים אַתָּה שָׂכָר, סָפֹל בַּעַל יְדוֹתִים. נָשְׂאָה קוֹלָה, אָמְרָה כָּכָה:  3\n",
      "רצוי:  טוּאוֹנֶלָה, וּבַכֵּלִים אִתָּה שֵׁכָר, סֵפֶל בַּעַל יְדוֹתָיִם. נָשְׂאָה קוֹלָהּ, אָמְרָה כָּכָה:  3\n",
      "מצוי:  מִצְוָה עַל פִּרְיָה וְרַבִיָה, צְרִיכָה הִיא לְבָנִים לְזַקְנוֹתָהּ. וְכוֹפִין אוֹתוֹ  1\n",
      "רצוי:  מְצֻוָּה עַל פִּרְיָה וְרִבְיָה, צְרִיכָה הִיא לְבָנִים לְזִקְנוּתָהּ. וְכוֹפִין אוֹתוֹ  1\n",
      "מצוי:  יָדַע אֶחָד מִבַּעֲלֵי דִּינִין אֵיזֶה דִּין הוּא שֶׁזָּכָה אוֹתוֹ, וְלֹא אֵיזֶה דִּין הוּא  1\n",
      "רצוי:  יֵדַע אֶחָד מִבַּעֲלֵי דִּינִין אֵיזֶה דַּיָּן הוּא שֶׁזִּכָּה אוֹתוֹ, וְלֹא אֵיזֶה דַּיָּן הוּא  1\n",
      "מצוי:  דַּי. הִשְׁלִיכוּ מֵעֲלֵיכֶם מִגִּנֵּי הָעֲנָפִים אַף הַגִלוּ מִי אַתֶּם. דּוֹדִי מִכְבְּדִי, אַתָּה  3\n",
      "רצוי:  דַּי. הַשְׁלִיכוּ מֵעֲלֵיכֶם מָגִנֵּי הָעֲנָפִים אַף הִגָּלוּ מִי אַתֶּם. דּוֹדִי מְכֻבָּדִי, אַתָּה  3\n",
      "מצוי:  אֱלֹהֵיהֶם וַאֶעֱנָם וְהָיוּ כְּגִבּוֹר אֶפְרָיִם וְשָׂמַח לִבָּם כְּמוֹ-יַיִן וּבְנֵיהֶם יִרְאוּ  0\n",
      "רצוי:  אֱלֹהֵיהֶם וְאֶעֱנֵם וְהָיוּ כְגִבּוֹר אֶפְרַיִם וְשָׂמַח לִבָּם כְּמוֹ-יָיִן וּבְנֵיהֶם יִרְאוּ  0\n",
      "מצוי:  עֲבְדוֹת וּבֵין עַבְדוֹת מָה? - לֹא כְלוּם! יֵשׁ עֶבֶד, לַעֲבֹד! וְעָבַד, לַעֲבָדִים!  3\n",
      "רצוי:  עַבְדוּת וּבֵין עַבְדוּת מָה? - לֹא כְלוּם! יֵשׁ עֶבֶד, לְעֶבֶד! וְעֶבֶד, לַעֲבָדִים!  3\n",
      "מצוי:  צָרֵי יְהוּדָה וּבִנְיָמִן כִּי-בְנֵי הַגּוֹלָה בּוֹנִים הֵיכַל לַיהוָה אֱלֹהֵי יִשְׂרָאֵל  0\n",
      "רצוי:  צָרֵי יְהוּדָה וּבִנְיָמִן כִּי-בְנֵי הַגּוֹלָה בּוֹנִים הֵיכָל לַיהוָה אֱלֹהֵי יִשְׂרָאֵל  0\n",
      "מצוי:  אֵירוּעִים שֶׁהִדְלִיקוּ לָאַחֲרוֹנָה נוֹרוֹת אֲדוּמוֹת בְּמַעֲרֶכֶת הַבִּיטָּחוֹן צְרִיכִים  4\n",
      "רצוי:  אֵירוּעִים שֶׁהִדְלִיקוּ לָאַחֲרוֹנָה נוּרוֹת אֲדוּמּוֹת בְּמַעֲרֶכֶת הַבִּיטָּחוֹן צְרִיכִים  4\n",
      "מצוי:  לִרְאוֹת אֶת-פְּנֵי ה'\" --מִי שֶׁיָּכוֹל לַעֲלוֹת בְּרַגְלָיו, לְהוֹצִיא חָגֵר וְחוֹלֶה  1\n",
      "רצוי:  לֵרָאוֹת אֶת-פְּנֵי ה'\" --מִי שֶׁיָּכוֹל לַעֲלוֹת בְּרַגְלָיו, לְהוֹצִיא חִגֵּר וְחוֹלֶה  1\n",
      "מצוי:  תִּרְאֶה) הֶחֲבִיאָה לְבְנָה פָנֶיהָ אֲשֶׁר אָדָמוּ אָדָם. אִם אֵין נְכוֹנָה בְּפִי - רָאשֵׁי  3\n",
      "רצוי:  תֵרָאֵה) הֶחְבִּיאָה לְבָנָה פָּנֶיהָ אֲשֶׁר אָדְמוּ אֹדֶם. אִם אֵין נְכוֹנָה בְּפִי - רֹאשִׁי  3\n",
      "מצוי:  בְּשׁוֹגֵג, הֲרֵי זֶה עוֹלָה בְּאֶחָד וּמֵאָה. וְאִם בְּמֵזִיד, הֲרֵי הַכֹּל מְדֻמָע--שְׁאֵין  1\n",
      "רצוי:  בְּשׁוֹגֵג, הֲרֵי זֶה עוֹלֶה בְּאֶחָד וּמֵאָה. וְאִם בְּמֵזִיד, הֲרֵי הַכֹּל מְדֻמָּע--שְׁאֵין  1\n",
      "מצוי:  וְאָבַד--הוֹרוּ רִבּוֹתַי שֶׁאוֹמְרִים לַמַלְוֶה בָּטֵל כָּל שְׁטָר שֶׁיֵּשׁ לָךְ קֹדֶם זְמָן זֶה,  1\n",
      "רצוי:  וְאָבַד--הוֹרוּ רִבּוֹתַי שֶׁאוֹמְרִים לַמַּלְוֶה בַּטַּל כָּל שְׁטָר שֶׁיֵּשׁ לָךְ קֹדֶם זְמָן זֶה,  1\n",
      "מצוי:  בִּפְלִשְׁתִּים וַיִּצְעֲקוּ הָעָם אַחֲרֵי שָׁאוּל הַגַּלְגָּל וּפְלִשְׁתִּים נֶאֶסְפוּ לְהִלָּחֵם  0\n",
      "רצוי:  בַּפְּלִשְׁתִּים וַיִּצָּעֲקוּ הָעָם אַחֲרֵי שָׁאוּל הַגִּלְגָּל וּפְלִשְׁתִּים נֶאֶסְפוּ לְהִלָּחֵם  0\n",
      "מצוי:  וְיִנֶקַת חֵלֵב גּוֹיִם וְשֹׁד מְלָכִים תִּינָקִּי וְיָדַעְתָּ כִּי אֲנִי יְהוָה מוֹשִׁיעֶךָ וְגֹאלֵךָ  0\n",
      "רצוי:  וְיָנַקְתְּ חֲלֵב גּוֹיִם וְשֹׁד מְלָכִים תִּינָקִי וְיָדַעַתְּ כִּי אֲנִי יְהוָה מוֹשִׁיעֵךְ וְגֹאֲלֵךְ  0\n",
      "מצוי:  וְיַנִּיחַ אֶצְבְּעוֹתָיו עָלֶיהָ וַיֹּאמֶר שׁוֹמְרֵי וְגוֹ' וְאַחַר כָּךְ יֹאמַר שֶׁבַע פְּעָמִים  1\n",
      "רצוי:  וְיַנִּיחַ אֶצְבְּעוֹתָיו עָלֶיהָ וְיֹאמַר שׁוֹמְרִי וְגוֹ' וְאַחַר כָּךְ יֹאמַר שֶׁבַע פְּעָמִים  1\n",
      "מצוי:  אֲשֶׁר יִקְרָא-לוֹ הָאָדָם נֶפֶשׁ חַיָּה הוּא שְׁמוֹ וַיִּקְרָא הָאָדָם שְׁמוֹת לְכָל-הַבְּהֵמָה  0\n",
      "רצוי:  אֲשֶׁר יִקְרָא-לוֹ הָאָדָם נֶפֶשׁ חַיָּה הוּא שְׁמוֹ וַיִּקְרָא הָאָדָם שֵׁמוֹת לְכָל-הַבְּהֵמָה  0\n",
      "מצוי:  הַחוֹף לִרַחֹץ בַּמַּיִם. בַּיָּמִים הָהֵם הָיָה עוֹרוֹ שֶׁל הַקַּרְנַף מְכַּפְתֵּר בִּשְׁלֹשָׁה  3\n",
      "רצוי:  הַחוֹף לִרְחֹץ בַּמָּיִם. בַּיָּמִים הָהֵם הָיָה עוֹרוֹ שֶׁל הַקַּרְנָף מְכֻפְתָּר בִּשְׁלֹשָׁה  3\n"
     ]
    }
   ],
   "source": [
    "model.load_weights('./checkpoints/all')\n",
    "\n",
    "def print_predictions(data, k):\n",
    "    s = slice(k*BATCH_SIZE, (k+1)*BATCH_SIZE)\n",
    "    batch = data.normalized[s]\n",
    "    prediction = model.predict(batch)\n",
    "    [actual_niqqud, actual_dagesh, actual_sin, actual_kind] = [dataset.from_categorical(prediction[0]), dataset.from_categorical(prediction[1]), dataset.from_categorical(prediction[2]),  dataset.from_categorical(prediction[3])]\n",
    "    [expected_niqqud, expected_dagesh, expected_sin, expected_kind] = [data.niqqud[s], data.dagesh[s], data.sin[s], data.kind[s]]\n",
    "    actual = dataset.merge(batch, ns=actual_niqqud, ds=actual_dagesh, ss=actual_sin)\n",
    "    expected = dataset.merge(batch, ns=expected_niqqud, ds=expected_dagesh, ss=expected_sin)\n",
    "    for i, (a, e) in enumerate(zip(actual, expected)):\n",
    "        print('מצוי: ', a, actual_kind[i])\n",
    "        print('רצוי: ', e, expected_kind[i])\n",
    "\n",
    "print_predictions(data_all[1], 6)"
   ]
  },
  {
   "cell_type": "code",
   "execution_count": null,
   "metadata": {},
   "outputs": [],
   "source": [
    "shutil.rmtree(os.sep.join([tempfile.gettempdir(), '.tensorboard-info']), ignore_errors=True)\n",
    "shutil.rmtree('logs', ignore_errors=True)\n",
    "os.makedirs('logs')\n",
    "# %tensorboard --logdir logs"
   ]
  },
  {
   "cell_type": "code",
   "execution_count": null,
   "metadata": {},
   "outputs": [],
   "source": [
    "print(data_modern[1].text[0])\n",
    "print(data_modern[1].text[1])"
   ]
  },
  {
   "cell_type": "code",
   "execution_count": null,
   "metadata": {},
   "outputs": [],
   "source": []
  }
 ],
 "metadata": {
  "kernelspec": {
   "display_name": "Python 3",
   "language": "python",
   "name": "python3"
  },
  "language_info": {
   "codemirror_mode": {
    "name": "ipython",
    "version": 3
   },
   "file_extension": ".py",
   "mimetype": "text/x-python",
   "name": "python",
   "nbconvert_exporter": "python",
   "pygments_lexer": "ipython3",
   "version": "3.7.4"
  }
 },
 "nbformat": 4,
 "nbformat_minor": 4
}
