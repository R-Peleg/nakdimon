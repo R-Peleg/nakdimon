{
 "cells": [
  {
   "cell_type": "code",
   "execution_count": 1,
   "metadata": {},
   "outputs": [],
   "source": [
    "import os\n",
    "import numpy as np\n",
    "from tensorflow import keras\n",
    "from tensorflow.keras import layers\n",
    "\n",
    "import dataset\n",
    "from dataset import CircularLearningRate\n",
    "\n",
    "from tensorflow import config\n",
    "assert config.list_physical_devices('GPU')"
   ]
  },
  {
   "cell_type": "code",
   "execution_count": 2,
   "metadata": {
    "scrolled": true
   },
   "outputs": [
    {
     "name": "stdout",
     "output_type": "stream",
     "text": [
      "Model: \"model\"\n",
      "__________________________________________________________________________________________________\n",
      "Layer (type)                    Output Shape         Param #     Connected to                     \n",
      "==================================================================================================\n",
      "input_1 (InputLayer)            [(None, 64)]         0                                            \n",
      "__________________________________________________________________________________________________\n",
      "embedding (Embedding)           (None, 64, 110)      4840        input_1[0][0]                    \n",
      "__________________________________________________________________________________________________\n",
      "bidirectional (Bidirectional)   (None, 64, 220)      582560      embedding[0][0]                  \n",
      "__________________________________________________________________________________________________\n",
      "bidirectional_1 (Bidirectional) (None, 64, 220)      776160      bidirectional[0][0]              \n",
      "__________________________________________________________________________________________________\n",
      "add (Add)                       (None, 64, 220)      0           bidirectional[0][0]              \n",
      "                                                                 bidirectional_1[0][0]            \n",
      "__________________________________________________________________________________________________\n",
      "dense (Dense)                   (None, 64, 16)       3536        add[0][0]                        \n",
      "__________________________________________________________________________________________________\n",
      "dense_1 (Dense)                 (None, 64, 3)        663         add[0][0]                        \n",
      "__________________________________________________________________________________________________\n",
      "dense_2 (Dense)                 (None, 64, 4)        884         add[0][0]                        \n",
      "__________________________________________________________________________________________________\n",
      "lstm_2 (LSTM)                   (None, 2)            1784        add[0][0]                        \n",
      "__________________________________________________________________________________________________\n",
      "N (Softmax)                     (None, 64, 16)       0           dense[0][0]                      \n",
      "__________________________________________________________________________________________________\n",
      "D (Softmax)                     (None, 64, 3)        0           dense_1[0][0]                    \n",
      "__________________________________________________________________________________________________\n",
      "S (Softmax)                     (None, 64, 4)        0           dense_2[0][0]                    \n",
      "__________________________________________________________________________________________________\n",
      "K (Softmax)                     (None, 2)            0           lstm_2[0][0]                     \n",
      "==================================================================================================\n",
      "Total params: 1,370,427\n",
      "Trainable params: 1,370,427\n",
      "Non-trainable params: 0\n",
      "__________________________________________________________________________________________________\n"
     ]
    }
   ],
   "source": [
    "BATCH_SIZE = 32\n",
    "MAXLEN = 64\n",
    "\n",
    "LETTERS_SIZE = len(dataset.letters_table)\n",
    "NIQQUD_SIZE = len(dataset.niqqud_table)\n",
    "DAGESH_SIZE = len(dataset.dagesh_table)\n",
    "SIN_SIZE = len(dataset.sin_table)\n",
    "KINDS_SIZE = 2\n",
    "\n",
    "def build_model(EMBED_DIM=110, UNITS=220):\n",
    "\n",
    "    layer = input_text = keras.Input(batch_shape=(None, MAXLEN), batch_size=BATCH_SIZE)\n",
    "    \n",
    "    layer = layers.Embedding(LETTERS_SIZE, EMBED_DIM, input_length=MAXLEN, mask_zero=True)(layer)\n",
    "    layer = layers.Bidirectional(layers.LSTM(UNITS, return_sequences=True, dropout=0.1), merge_mode='sum')(layer)\n",
    "    layer = layers.add([layer,\n",
    "            layers.Bidirectional(layers.LSTM(UNITS, return_sequences=True, dropout=0.1), merge_mode='sum')(layer)])\n",
    "    \n",
    "    outputs = [\n",
    "        layers.Softmax(name='N')(layers.Dense(NIQQUD_SIZE)(layer)),\n",
    "        layers.Softmax(name='D')(layers.Dense(DAGESH_SIZE)(layer)),\n",
    "        layers.Softmax(name='S')(layers.Dense(SIN_SIZE)(layer)),\n",
    "        layers.Softmax(name='K')(layers.LSTM(KINDS_SIZE)(layer))\n",
    "    ]\n",
    "    model = keras.Model(inputs=[input_text], outputs=outputs)\n",
    "\n",
    "    jsmodel = keras.Model(inputs=[input_text], outputs=outputs[:-1])\n",
    "    # keras.utils.plot_model(model, to_file='model.png')\n",
    "    return model, jsmodel\n",
    "\n",
    "model, jsmodel = build_model()\n",
    "\n",
    "model.summary()\n",
    "model.save_weights('./checkpoints/uninit')"
   ]
  },
  {
   "cell_type": "code",
   "execution_count": 3,
   "metadata": {},
   "outputs": [],
   "source": [
    "def fit(train_validation, scheduler, verbose=1):\n",
    "    train, valid = train_validation\n",
    "    model.compile(loss='sparse_categorical_crossentropy', optimizer='adam', metrics=['accuracy'])\n",
    "    callbacks = []\n",
    "    if isinstance(scheduler, CircularLearningRate):\n",
    "        scheduler.set_dataset(train, BATCH_SIZE)\n",
    "    if scheduler:\n",
    "        callbacks.append(scheduler)\n",
    "        \n",
    "    x  = train.normalized\n",
    "    vx = valid.normalized\n",
    "    train.kind = np.ones((len(train), 1))\n",
    "    valid.kind = np.ones((len(valid), 1))\n",
    "    y  = {'N': train.niqqud, 'D': train.dagesh, 'S': train.sin, 'C': train.normalized, 'K': train.kind }\n",
    "    vy = {'N': valid.niqqud, 'D': valid.dagesh, 'S': valid.sin, 'C': valid.normalized, 'K': valid.kind }\n",
    "    return model.fit(x, y, validation_data=(vx, vy), batch_size=BATCH_SIZE, epochs=1, verbose=verbose, callbacks=callbacks)\n"
   ]
  },
  {
   "cell_type": "code",
   "execution_count": 4,
   "metadata": {},
   "outputs": [],
   "source": [
    "def load_data(source, maxlen=MAXLEN, validation=0.1):\n",
    "    filenames = [os.path.join('texts', f) for f in source]\n",
    "    return dataset.load_data(filenames, validation, maxlen=maxlen)"
   ]
  },
  {
   "cell_type": "code",
   "execution_count": 8,
   "metadata": {},
   "outputs": [],
   "source": [
    "data_rabanit = load_data(['rabanit'])"
   ]
  },
  {
   "cell_type": "code",
   "execution_count": 9,
   "metadata": {},
   "outputs": [],
   "source": [
    "data_pre_modern = load_data(['pre_modern'])"
   ]
  },
  {
   "cell_type": "code",
   "execution_count": 5,
   "metadata": {},
   "outputs": [],
   "source": [
    "data_modern = load_data(validation=0.2, source=['modern'])"
   ]
  },
  {
   "cell_type": "code",
   "execution_count": 10,
   "metadata": {},
   "outputs": [
    {
     "name": "stdout",
     "output_type": "stream",
     "text": [
      "Train on 73800 samples, validate on 8201 samples\n",
      "73800/73800 [==============================] - 106s 1ms/sample - loss: 0.4604 - N_loss: 0.2586 - D_loss: 0.0643 - S_loss: 0.0097 - K_loss: 0.1277 - N_accuracy: 0.9094 - D_accuracy: 0.9753 - S_accuracy: 0.9976 - K_accuracy: 0.9996 - val_loss: 0.2523 - val_N_loss: 0.0940 - val_D_loss: 0.0288 - val_S_loss: 0.0026 - val_K_loss: 0.1269 - val_N_accuracy: 0.9680 - val_D_accuracy: 0.9894 - val_S_accuracy: 0.9994 - val_K_accuracy: 1.0000\n"
     ]
    }
   ],
   "source": [
    "model.load_weights('./checkpoints/uninit')\n",
    "history = fit(data_rabanit, CircularLearningRate(20e-4, 50e-4, 5e-4))\n",
    "model.save_weights('./checkpoints/rabanit')"
   ]
  },
  {
   "cell_type": "code",
   "execution_count": 11,
   "metadata": {},
   "outputs": [
    {
     "name": "stdout",
     "output_type": "stream",
     "text": [
      "Train on 65308 samples, validate on 7257 samples\n",
      "65308/65308 [==============================] - 96s 1ms/sample - loss: 0.4155 - N_loss: 0.2191 - D_loss: 0.0629 - S_loss: 0.0066 - K_loss: 0.1269 - N_accuracy: 0.9248 - D_accuracy: 0.9742 - S_accuracy: 0.9981 - K_accuracy: 1.0000 - val_loss: 0.3383 - val_N_loss: 0.1562 - val_D_loss: 0.0501 - val_S_loss: 0.0050 - val_K_loss: 0.1269 - val_N_accuracy: 0.9472 - val_D_accuracy: 0.9798 - val_S_accuracy: 0.9986 - val_K_accuracy: 1.0000\n"
     ]
    }
   ],
   "source": [
    "model.load_weights('./checkpoints/rabanit')\n",
    "history = fit(data_pre_modern, CircularLearningRate(20e-4, 40e-4, 0.1e-4))\n",
    "model.save_weights('./checkpoints/pre_modern')"
   ]
  },
  {
   "cell_type": "code",
   "execution_count": null,
   "metadata": {},
   "outputs": [
    {
     "name": "stdout",
     "output_type": "stream",
     "text": [
      "Train on 13856 samples, validate on 3464 samples\n",
      " 9440/13856 [===================>..........] - ETA: 8s - loss: 0.3527 - N_loss: 0.1659 - D_loss: 0.0561 - S_loss: 0.0037 - K_loss: 0.1269 - N_accuracy: 0.9425 - D_accuracy: 0.9783 - S_accuracy: 0.9991 - K_accuracy: 1.0000"
     ]
    }
   ],
   "source": [
    "model.load_weights('./checkpoints/pre_modern')\n",
    "history = fit(data_modern, CircularLearningRate(6e-3, 6e-3, 0.5e-3))\n",
    "# history = fit(data_modern, CircularLearningRate(1e-3, 2e-3, 0.5e-3))\n",
    "model.save_weights('./checkpoints/modern')"
   ]
  },
  {
   "cell_type": "code",
   "execution_count": null,
   "metadata": {},
   "outputs": [],
   "source": [
    "import matplotlib.pyplot as plt\n",
    "\n",
    "fig, ax = plt.subplots(nrows=2, ncols=2)\n",
    "\n",
    "for n, v in enumerate(['accuracy', 'loss'], 0):\n",
    "    for n1, t in enumerate(['D', 'N'], 0):\n",
    "        p = ax[n][n1]\n",
    "        p.plot(history.history[t + '_' + v][0:])\n",
    "        p.plot(history.history['val_' + t + '_' +  v][0:])\n",
    "        p.legend([t + '_Train', t + '_Test'], loc='center right')\n",
    "\n",
    "plt.tight_layout()"
   ]
  },
  {
   "cell_type": "code",
   "execution_count": null,
   "metadata": {},
   "outputs": [],
   "source": [
    "jsmodel.summary()"
   ]
  },
  {
   "cell_type": "code",
   "execution_count": null,
   "metadata": {},
   "outputs": [],
   "source": [
    "import tensorflowjs as tfjs\n",
    "jsmodel.load_weights('./checkpoints/modern')\n",
    "tfjs.converters.save_keras_model(jsmodel, '.')"
   ]
  },
  {
   "cell_type": "code",
   "execution_count": 7,
   "metadata": {
    "scrolled": true
   },
   "outputs": [
    {
     "name": "stdout",
     "output_type": "stream",
     "text": [
      "מצוי:  מוֹפִיעַ בָּהּ בְּפּוֹעַל כִּפְרוּסוֹת דַּקּוֹת מֵעַל תַּעֲרוּבֶת הַסְּלוּפִי, שֶׁמַּעֲנִיקוֹת לוֹ אֶת \n",
      "רצוי:  מוֹפִיעַ בָּהּ בְּפוֹעַל כִּפְרוּסוֹת דַּקּוֹת מֵעַל תַּעֲרוֹבֶת הֲסִלּוּפַי, שֶׁמַּעֲנִיקוֹת לוֹ אֶת \n",
      "\n",
      "מצוי:  יֵשׁ הָרוֹאִים בְּחִיסּוּל חֵלֶק מֵהַלּוֹחָמָה הַפְּסִיכוֹלוֹגִית הָאִישִׁית בֵּין טְרָאמְפּ \n",
      "רצוי:  יֵשׁ הָרוֹאִים בְּחִיסּוּל חֵלֶק מֵהַלּוֹחְמָה הַפְּסִיכוֹלוֹגִית הָאִישִׁית בֵּין טְרַאמְפּ \n",
      "\n",
      "מצוי:  עָמְדָה זֹאת הוֹצָעָה בַּמֶחְקָרִים רַבִּים שֶׁעָסְקוּ בְּפָרָשַׁת הַהִתְאַבְּדוּת בִּמְצָדָה. אָכֵן, \n",
      "רצוי:  עָמְדָה זֹאת הוּצְּעָה בְּמֶחְקָרִים רַבִּים שֶׁעָסְקוּ בְּפָרָשַׁת הַהִתְאַבְּדוּת בִּמְצָדָה. אָכֵן, \n",
      "\n",
      "מצוי:  הִתְחִיל לְהַגִּיעַ בִּקְבִיעוֹת לְבֵית הַכְּנֶסֶת . הַיּוֹם כְּבָר עָבְרוּ כַּמָּה חֲדָשִׁים מֵאוֹתָהּ \n",
      "רצוי:  הִתְחִיל לְהַגִּיעַ בִּקְבִיעוּת לְבֵית הַכְּנֶסֶת . הַיּוֹם כְּבָר עָבְרוּ כַּמָּה חֳדָשִׁים מֵאוֹתָהּ \n",
      "\n",
      "מצוי:  חוֹשְׁבוֹת שֶׁזֶּה זִיוּוּג, לוֹקְחוֹת אֶת הַנְּבָגִים שֶׁל הַפֶּטְרְיָּה וּמַעֲבִירוֹת אוֹתָם \n",
      "רצוי:  חוֹשְׁבוֹת שֶׁזֶּה זִיוּוּג, לוֹקְחוֹת אֶת הַנְּבָגִים שֶׁל הַפִּטְרִיָּה וּמַעֲבִירוֹת אוֹתָם \n",
      "\n",
      "מצוי:  מֶחְקָרָיו הַפִּיזִיקָלִיִּים, כְּגוֹן: קִינְמֶטִיקָה וּשְׁלוֹשֶׁת חוּקֵּי הַתְּנוּעָה וְכוֹחַ \n",
      "רצוי:  מֶחְקָרָיו הַפִיזִיקָלִיִּים, כְּגוֹן: קִינֵמָטִיקָה וּשְׁלוֹשֶׁת חוּקֵּי הַתְּנוּעָה וְכוֹחַ \n",
      "\n",
      "מצוי:  הַחֲשׁוּכָה בְּיוֹתֵר, אֶת הַפְּרוֹטוֹקוֹלִים שֶׁל זִקָנֵי צִיּוֹן, בְּנִיסָּיוֹן לְהַחְיוֹת אֶת \n",
      "רצוי:  הַחֲשׁוּכָה בְּיוֹתֵר, אֶת הַפְּרוֹטוֹקוֹלִים שֶׁל זִקְנֵי צִיּוֹן, בְּנִיסָּיוֹן לְהַחֲיוֹת אֶת \n",
      "\n",
      "מצוי:  סְבִּיר לְהַנִּיחַ שֶׁבִּתְחִילָּה רַק מִסְפָּרִים טִבְעִיִּים נֶחְשְׁבוּ כְּ'מִסְפָּרִים'. אֵלּוּ הֵם \n",
      "רצוי:  סָבִיר לְהַנִּיחַ שֶׁבַּתְּחִילָּה רַק מִסְפָּרִים טִבְעִיִּים נֶחְשְׁבוּ כְּ'מִסְפָּרִים'. אֵלּוּ הֵם \n",
      "\n",
      "מצוי:  הַפוֹטוֹנִים הָיוּ קְרוֹבִים מַסְפִּיק וְהָיָה לָהֶם דַּי זְמַן לְהַעֲבִיר בֵּינֵיהֶם מֵידָע \n",
      "רצוי:  הַפוֹטוֹנִים הָיוּ קְרוֹבִים מַסְפִּיק וְהָיָה לָהֶם דֵּי זְמַן לְהַעֲבִיר בֵּינֵיהֶם מֵידָע \n",
      "\n",
      "מצוי:  סְבּוּרִים שֶׁמֵּאוֹת בְּנֵי אָדָם, וּבָהֶם נָשִׁים וִיְלָדִים, הִתְאַבְּדוּ בִּמְצָדָה עִם סִיּוּם \n",
      "רצוי:  סְבוּרִים שֶׁמֵּאוֹת בְּנֵי אָדָם, וּבָהֶם נָשִׁים וִילָדִים, הִתְאַבְּדוּ בִּמְצָדָה עִם סִיּוּם \n",
      "\n",
      "מצוי:  הַחוּפְשָׁה שֶׁלּוֹ עַל חִיפּוּשִׁים בָּאִינְטֶרְנֵט בִּמָקוֹם לְטֵיֵּיל וּלְבַלוֹת עִם הַמִּשְׁפָּחָה. \n",
      "רצוי:  הַחוּפְשָׁה שֶׁלּוֹ עַל חִיפּוּשִׁים בְּאִינְטֶרְנֶט בְּמָקוֹם לְטַיֵּיל וּלְבַלּוֹת עִם הַמִּשְׁפָּחָה. \n",
      "\n",
      "מצוי:  כְּשֶׁעוֹבְדִים עִם בָּשָׂר וְשֶׁמַּעֲבֶר לְכָךְ שֶׁצָּרִיךְ לַעֲבוֹד עִם הַסְּפָקִים הַנְּכוֹנִים, צָרִיךְ \n",
      "רצוי:  כְּשֶׁעוֹבְדִים עִם בָּשָׂר וְשֶׁמֵּעֵבֶר לְכָךְ שֶׁצָּרִיךְ לַעֲבוֹד עִם הַסַּפָּקִים הַנְּכוֹנִים, צָרִיךְ \n",
      "\n",
      "מצוי:  הַחוֹמֶר הַפּוֹרְנוֹגְרָפִי?. כְּלוֹמַר - כַּמָּה פּוֹשְׁעִים הֶחֱלִיטוּ לְהִישָּׁאֵר בְּבֵיִת עֵקֶב \n",
      "רצוי:  הַחוֹמֶר הַפּוֹרְנוֹגְרָפִי?. כְּלוֹמַר - כַּמָּה פּוֹשְׁעִים הֶחֱלִיטוּ לְהִישָּׁאֵר בַּבַּיִת עֵקֶב \n",
      "\n",
      "מצוי:  לְלֹא תַּשְׁלוּם, בְּשִׁיתּוּף פְּעוּלָּה עִם הַחֶבְרָה לַהֲגָנַּת הַטֶּבַע. חוֹבְבֵי הַלֶּכֶת יִמְצְאוּ \n",
      "רצוי:  לְלֹא תַּשְׁלוּם, בְּשִׁיתּוּף פְּעוּלָּה עִם הַחֶבְרָה לַהֲגָנַת הַטֶּבַע. חוֹבְבֵי הַלֶּכֶת יִמְצְאוּ \n",
      "\n",
      "מצוי:  וְכָךְ חֹפֶשׁ לְעַצְמוֹ תַּחְבּוּלוֹת שׁוֹנוֹת אֵיךְ לֹא לְעֲבֹר עַל חֲלוּל שַׁבָּת. בְּיוֹם שִׁשִּׁי \n",
      "רצוי:  וְכָךְ חִפֵּשׂ לְעַצְמוֹ תַּחְבּוּלוֹת שׁוֹנוֹת אֵיךְ לֹא לַעֲבֹר עַל חִלּוּל שַׁבָּת. בְּיּוֹם שִׁשִּׁי \n",
      "\n",
      "מצוי:  בְּמִסְגֶּרֶת הַלַּהֲקָה הֵן הִשִּׂיגוּ אֶת הַהַכָּרָה הַגְּדוֹלָה בְּיוֹתֵר שֶׁלָּהֶן כַּאֲשֶׁר הֵן זָכוּ \n",
      "רצוי:  בְּמִסְגֶּרֶת הַלַּהֲקָה הֵן הִשִּׂיגוּ אֶת הַהַכָּרָה הַגְּדוֹלָה בְּיוֹתֵר שֶׁלָּהֶן כַּאֲשֶׁר הֵן זָכוּ \n",
      "\n",
      "מצוי:  הִיא לִהְיוֹת קְשׁוּרִים לְדוֹרוֹת הַקּוֹדְמִים דֶּרֶךְ מוֹסָדוֹת וְדֶרֶךְ הַסְּבִיבָה, \n",
      "רצוי:  הִיא לִהְיוֹת קְשׁוּרִים לַדּוֹרוֹת הַקּוֹדְמִים דֶּרֶךְ מוֹסָדוֹת וְדֶרֶךְ הַסְּבִיבָה, \n",
      "\n",
      "מצוי:  שֶׁמִּתְגַּיְּיסִים מֵחָדָשׁ לְאַחַר שֶׁאִיבְּדוּ אֵיבֶר, וּבָאֵלֶּה שֶׁהַקּוֹמְנְדוּ הִסְתַּעֵר בַּמַעֲלָה \n",
      "רצוי:  שֶׁמִּתְגַּיְּיסִים מֵחָדָשׁ לְאַחַר שֶׁאִיבְּדוּ אֵיבָר, וּבְאֵלֶּה שֶׁהַקּוֹמַנְדּוֹ הִסְתַּעֵר בְּמַעֲלֵה \n",
      "\n",
      "מצוי:  לְהֵירָאוֹת כְּזוּטִי זוֹטוֹת. וּבְכָל זֹאת, פָּרָשַׁת \"עִיתּוֹנוֹת הַצִּ'יצָ'ה\", שֶׁבָּהּ הָיוּ \n",
      "רצוי:  לְהֵירָאוֹת כְּזוֹטֵי זוּטוֹת. וּבְכָל זֹאת, פָּרַשְׁתָּ \"עִיתּוֹנוּת הַצִּ'יצָ'ה\", שֶׁבָּהּ הָיוּ \n",
      "\n",
      "מצוי:  פָּעִיל, אִם הָאָדָם שֶׁמְּקַבֵּל אוֹתָם מַאֲמִין שֶׁהֵם \"הַדָּבָר הָאֲמִיתִּי\". זֶה נָכוֹן לֹא \n",
      "רצוי:  פָּעִיל, אִם הָאָדָם שֶׁמְּקַבֵּל אוֹתָם מַאֲמִין שֶׁהֵם \"הַדָּבָר הָאֲמִיתִּי\". זֶה נָכוֹן לֹא \n",
      "\n",
      "מצוי:  יִשְׁתַלְּטוּ עַל הַלַּוְויָינִים הָאֵלֶּה, הַתּוֹצָאוֹת יְכוֹלוֹת לִהְיוֹת חֲמוּרוֹת. בַּצַּד הַקַּל \n",
      "רצוי:  יִשְׁתַּלְּטוּ עַל הַלַּוְויָינִים הָאֵלֶּה, הַתּוֹצָאוֹת יְכוֹלוֹת לִהְיוֹת חֲמוּרוֹת. בַּצַּד הַקַּל \n",
      "\n",
      "מצוי:  בַּמַחֲצִית וְכוֹבֵשׁ צֶמֶד בְּדֶרֶךְ לְאַחַת מֵהַתּוֹצָאוֹת הַגְּדוֹלוֹת בְּיוֹתֵר בַּהִיסְטוֹרְיָה שֶׁל \n",
      "רצוי:  בְּמַחֲצִית וְכוֹבֵשׁ צֶמֶד בַּדֶּרֶךְ לְאַחַת מֵהַתּוֹצָאוֹת הַגְּדוֹלוֹת בְּיוֹתֵר בַּהִיסְטוֹרְיָה שֶׁל \n",
      "\n",
      "מצוי:  כֶּסֶף. וְשָׁאֲלָה שֶׁקְּשׁוּרָה לְזֶה - רָאִיתִי בַּהֶסְכֵּם סוּדִיּוֹת חִינְּמִי בָּאִינְטֶרְנֵט וְשָׁם \n",
      "רצוי:  כֶּסֶף. וּשְׁאֵלָה שֶׁקְּשׁוּרָה לְזֶה - רָאִיתִי בְּהֶסְכֵּם סוֹדִיּוּת חִינָּמִי בָּאִינְטֶרְנֵט וְשָׁם \n",
      "\n",
      "מצוי:  וּלְהוֹלְכֵי הָרֶגֶל מָה צָרִיךְ לַעֲשׂוֹת. רַק דָּבָר אֶחָד רוֹן לֹא כָּל-כָּךְ מֵבִין: בְּלִי \n",
      "רצוי:  וּלְהוֹלְכֵי הַרֶגֶל מַה צָרִיךְ לַעֲשׂוֹת. רַק דָבָר אֶחַד רוֹן לֹא כָּל-כָּךְ מְבִין: בְּלִי \n",
      "\n",
      "מצוי:  סְלוֹלָר וְשֵׁירוּתִי סִלְקוֹם OO בַּעֲלוּיוֹת מְסוּבְּסָדוֹת, עַרְבִי צֶוֶות, אֵירוּעֵי \n",
      "רצוי:  סֵלוֹלָר וְשֵׁירוּתֵי סֶלְקוֹם OO בַּעֲלוּיוֹת מְסוּבְּסָדוֹת, עַרְבֵי צֶוֶות, אֵירוּעֵי \n",
      "\n",
      "מצוי:  פִּתְאוֹם הִרְגַּשְׁתִּי שֶׁאוּלַי אֲנִי מַתְחִילָה לְהָבִין מָה קוֹרֶה כָּאן בְּעֶצֶם. מֵאֵיפֹה \n",
      "רצוי:  פִּתְאוֹם הִרְגַּשְׁתִּי שֶׁאוּלַי אֲנִי מַתְחִילָה לְהָבִין מַה קוֹרָה כָּאן בְּעֶצֶם. מֵאֵיפֹה \n",
      "\n",
      "מצוי:  וְהַשֵּׁם אַף הֵם מְרַתְּקִים. OOO OOOOOOOOOO הוּא הַנָּזִיר. הַנָּזִיר הַזֶּה כָּל כָּךְ \n",
      "רצוי:  וְהַשֵּׁם אַף הֵם מְרַתְּקִים. OOO OOOOOOOOOO הוּא הַנָּזִיר. הַנָּזִיר הַזֶּה כָּל כָּךְ \n",
      "\n",
      "מצוי:  שָׁאֲלוּ, רָצוּ הַדְרָכָה, רָצוּ לָדַעַת מָה מֻתָּר וּמָה אָסוּר וְאֵיךְ עוֹשִׂים אֶת זֶה. \n",
      "רצוי:  שָׁאֲלוּ, רָצוּ הַדְרָכָה, רָצוּ לָדַעַת מַה מֻתָּר וּמַה אָסוּר וְאֵיךְ עוֹשִׂים אֶת זֶה. \n",
      "\n",
      "מצוי:  חַבְרֵי הַקְּבוּצָה בִּיקְּשׁוּ לִהְיוֹת קְהִילָּה שֶׁתְּשַׁמֵּשׁ מוֹפֵת לַחֶבְרָה הַמַּגְשִׂימָה אֶת חָזוֹן \n",
      "רצוי:  חַבְרֵי הַקְּבוּצָה בִּיקְּשׁוּ לִהְיוֹת קְהִילָּה שֶׁתְּשַׁמֵּשׁ מוֹפֵת לְחֶבְרָה הַמַּגְשִׁימָה אֶת חֲזוֹן \n",
      "\n",
      "מצוי:  הַבְּלִיסְטִיִּים שֶׁיֵּשׁ לְחִיזְבַּאלְלַה, לְמִשְׁמָרוֹת הַמַּהְפֵּכָה וּלְמִילִיצְיּוֹת הַשִּׁיעִיּוֹת \n",
      "רצוי:  הַבַּלִּיסְטִיִּים שֶׁיֵּשׁ לְחִיזְבַּאלְלַה, לְמִשְׁמְרוֹת הַמַּהְפֵּכָה וְלַמִּילִיצְיוֹת הַשִּׁיעִיּוֹת \n",
      "\n",
      "מצוי:  בַּמַטָּה שֶׁל אֶחָד מִכֶּם!\" (וְאִם הוּא יַעֲלֶה אַחֲרֵי שֶׁנִּרְדָּם?) \"אָסוּר לְהַדְלִיק תַּנוּר \n",
      "רצוי:  בַּמִטָה שֶׁל אֶחָד מִכֶּם!\" (וְאִם הוּא יַעֲלֶה אַחֲרֵי שֶׁנֵרָדֵם?) \"אָסוּר לְהַדְלִיק תַנוּר \n",
      "\n",
      "מצוי:  נוֹרְמָטִיבִית. 5. \"שׁוּלִיּוֹת\" הָאוֹנֶס - הָאוֹנֶס הוֹפֵךְ מַעֲשֶׂה מוּתָר וְ\"לֹא נוֹרָא \n",
      "רצוי:  נוֹרְמָטִיבִית. 5. \"שׁוּלִיּוֹת\" הָאוֹנֶס - הָאוֹנֶס הוֹפֵךְ מַעֲשֶׂה מוּתָּר וְ\"לֹא נוֹרָא \n",
      "\n"
     ]
    }
   ],
   "source": [
    "model.load_weights('./checkpoints/modern')\n",
    "\n",
    "def print_predictions(data, k):\n",
    "    s = slice(k*BATCH_SIZE, (k+1)*BATCH_SIZE)\n",
    "    batch = data.normalized[s]\n",
    "    prediction = model.predict(batch)\n",
    "    [actual_niqqud, actual_dagesh, actual_sin] = [dataset.from_categorical(prediction[0]), dataset.from_categorical(prediction[1]), dataset.from_categorical(prediction[2])]\n",
    "    [expected_niqqud, expected_dagesh, expected_sin] = [data.niqqud[s], data.dagesh[s], data.sin[s]]\n",
    "    actual = dataset.merge(batch, ns=actual_niqqud, ds=actual_dagesh, ss=actual_sin)\n",
    "    expected = dataset.merge(batch, ns=expected_niqqud, ds=expected_dagesh, ss=expected_sin)\n",
    "    for i, (a, e) in enumerate(zip(actual, expected)):\n",
    "        print('מצוי: ', a)\n",
    "        print('רצוי: ', e)\n",
    "        print()\n",
    "\n",
    "print_predictions(data_modern[1], 2)"
   ]
  },
  {
   "cell_type": "code",
   "execution_count": null,
   "metadata": {},
   "outputs": [],
   "source": [
    "shutil.rmtree(os.sep.join([tempfile.gettempdir(), '.tensorboard-info']), ignore_errors=True)\n",
    "shutil.rmtree('logs', ignore_errors=True)\n",
    "os.makedirs('logs')\n",
    "# %tensorboard --logdir logs"
   ]
  },
  {
   "cell_type": "code",
   "execution_count": null,
   "metadata": {},
   "outputs": [],
   "source": [
    "print(data_modern[1].text[0])\n",
    "print(data_modern[1].text[1])"
   ]
  },
  {
   "cell_type": "code",
   "execution_count": null,
   "metadata": {},
   "outputs": [],
   "source": []
  }
 ],
 "metadata": {
  "kernelspec": {
   "display_name": "Python 3",
   "language": "python",
   "name": "python3"
  },
  "language_info": {
   "codemirror_mode": {
    "name": "ipython",
    "version": 3
   },
   "file_extension": ".py",
   "mimetype": "text/x-python",
   "name": "python",
   "nbconvert_exporter": "python",
   "pygments_lexer": "ipython3",
   "version": "3.7.4"
  }
 },
 "nbformat": 4,
 "nbformat_minor": 4
}
