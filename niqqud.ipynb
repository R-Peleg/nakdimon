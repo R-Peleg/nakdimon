{
 "cells": [
  {
   "cell_type": "code",
   "execution_count": 1,
   "metadata": {},
   "outputs": [],
   "source": [
    "%load_ext tensorboard\n",
    "import datetime\n",
    "import tensorflow as tf\n",
    "from tensorflow.keras.utils import plot_model\n",
    "import numpy as np\n",
    "import dataset\n",
    "\n",
    "BUFFER_SIZE = 10000\n"
   ]
  },
  {
   "cell_type": "code",
   "execution_count": 2,
   "metadata": {},
   "outputs": [],
   "source": [
    "BATCH_SIZE = 64  # 512\n",
    "data = dataset.load_file(BATCH_SIZE, 0.1, filenames=['texts/bible.txt', 'texts/short_table.txt', 'texts/treasure_island.txt'])"
   ]
  },
  {
   "cell_type": "code",
   "execution_count": 3,
   "metadata": {},
   "outputs": [
    {
     "name": "stdout",
     "output_type": "stream",
     "text": [
      "Failed to import pydot. You must install pydot and graphviz for `pydotprint` to work.\n",
      "Model: \"model\"\n",
      "_________________________________________________________________\n",
      "Layer (type)                 Output Shape              Param #   \n",
      "=================================================================\n",
      "input_1 (InputLayer)         [(64, 400)]               0         \n",
      "_________________________________________________________________\n",
      "embedding (Embedding)        (64, 400, 64)             4928      \n",
      "_________________________________________________________________\n",
      "bidirectional (Bidirectional (64, 400, 256)            494592    \n",
      "_________________________________________________________________\n",
      "dense (Dense)                (64, 400, 256)            65792     \n",
      "_________________________________________________________________\n",
      "dense_1 (Dense)              (64, 400, 16)             4112      \n",
      "=================================================================\n",
      "Total params: 569,424\n",
      "Trainable params: 569,424\n",
      "Non-trainable params: 0\n",
      "_________________________________________________________________\n"
     ]
    }
   ],
   "source": [
    "EMBED_DIM = 64\n",
    "\n",
    "# model = tf.keras.Sequential([\n",
    "#     tf.keras.layers.Embedding(data.letters_size, EMBED_DIM,  input_length=data.maxlen,\n",
    "#                               batch_size=BATCH_SIZE,\n",
    "#                               mask_zero=True),\n",
    "#     tf.keras.layers.Bidirectional(tf.keras.layers.GRU(EMBED_DIM*4, return_sequences=True), merge_mode='sum'),\n",
    "#     tf.keras.layers.Dense(EMBED_DIM*4, activation='relu'),\n",
    "#     tf.keras.layers.Dropout(0.2),\n",
    "#     tf.keras.layers.Dense(data.niqqud_size),\n",
    "# ])\n",
    "# best: mean_squared_logarithmic_error, stateless\n",
    "\n",
    "inp = tf.keras.Input(shape=(data.maxlen,), batch_size=BATCH_SIZE)\n",
    "h = tf.keras.layers.Embedding(data.letters_size, EMBED_DIM,  mask_zero=True)(inp)\n",
    "h = tf.keras.layers.Bidirectional(tf.keras.layers.GRU(EMBED_DIM*4, return_sequences=True), merge_mode='sum')(h)\n",
    "h = tf.keras.layers.Dense(EMBED_DIM*4, activation='relu')(h)\n",
    "output = tf.keras.layers.Dense(data.niqqud_size)(h)\n",
    "\n",
    "model = tf.keras.Model(inputs=[inp], outputs=[output])\n",
    "\n",
    "model.compile(loss='mean_squared_logarithmic_error',\n",
    "              optimizer='adam',\n",
    "              metrics=['accuracy'])\n",
    "\n",
    "plot_model(model, to_file='model.png')\n",
    "\n",
    "model.summary()"
   ]
  },
  {
   "cell_type": "code",
   "execution_count": null,
   "metadata": {},
   "outputs": [],
   "source": [
    "model.load_weights(tf.train.latest_checkpoint('niqqud_checkpoints/'))"
   ]
  },
  {
   "cell_type": "code",
   "execution_count": null,
   "metadata": {},
   "outputs": [],
   "source": [
    "%tensorboard --logdir logs\\fit"
   ]
  },
  {
   "cell_type": "code",
   "execution_count": null,
   "metadata": {},
   "outputs": [
    {
     "name": "stdout",
     "output_type": "stream",
     "text": [
      "Train on 39398 samples, validate on 4378 samples\n",
      "Epoch 1/10\n",
      "21312/39398 [===============>..............] - ETA: 1:16 - loss: 0.0033 - accuracy: 0.9206"
     ]
    }
   ],
   "source": [
    "EPOCHS = 10\n",
    "\n",
    "log_dir = \"logs\\\\fit\\\\\" + datetime.datetime.now().strftime(\"%Y%m%d-%H%M%S\")\n",
    "tensorboard_callback = tf.keras.callbacks.TensorBoard(log_dir=log_dir, histogram_freq=1)\n",
    "while True:\n",
    "    try:\n",
    "        history = model.fit(data.input_texts, data.niqqud_texts,\n",
    "                          batch_size=BATCH_SIZE,\n",
    "                          epochs=EPOCHS,\n",
    "                          validation_data=(data.input_validation, data.niqqud_validation),\n",
    "                          verbose=1,\n",
    "                          callbacks=[\n",
    "                              # tf.keras.callbacks.ModelCheckpoint(filepath='niqqud_checkpoints/ckpt_{epoch}', save_weights_only=True),\n",
    "                              # tf.keras.callbacks.EarlyStopping(monitor='accuracy', patience=3, verbose=1),\n",
    "                              tf.keras.callbacks.ReduceLROnPlateau(monitor='loss', factor=0.2, patience=0, min_lr=0.001),\n",
    "                              # tensorboard_callback,\n",
    "                          ]\n",
    "                )\n",
    "    except RuntimeError as ex:\n",
    "        import sys\n",
    "        print(ex, file=sys.stderr)\n",
    "        #model.load_weights(tf.train.latest_checkpoint('niqqud_checkpoints/'))\n",
    "    else:\n",
    "        break"
   ]
  },
  {
   "cell_type": "code",
   "execution_count": null,
   "metadata": {},
   "outputs": [],
   "source": [
    "import matplotlib.pyplot as plt\n",
    "\n",
    "plt.plot(history.history['accuracy'])\n",
    "plt.plot(history.history['val_accuracy'])\n",
    "plt.title('Model accuracy')\n",
    "plt.ylabel('Accuracy')\n",
    "plt.xlabel('Epoch')\n",
    "plt.legend(['Train', 'Test'], loc='upper left')\n",
    "plt.show()\n",
    "\n",
    "# Plot training & validation loss values\n",
    "plt.plot(history.history['loss'])\n",
    "plt.plot(history.history['val_loss'])\n",
    "plt.title('Model loss')\n",
    "plt.ylabel('Loss')\n",
    "plt.xlabel('Epoch')\n",
    "plt.legend(['Train', 'Test'], loc='upper left')\n",
    "plt.show()"
   ]
  },
  {
   "cell_type": "code",
   "execution_count": null,
   "metadata": {},
   "outputs": [],
   "source": [
    "\n",
    "model = tf.keras.Model(inputs=[inp], outputs=[tf.keras.layers.Softmax()(output)])\n",
    "\n",
    "def print_predictions(batch):\n",
    "    results = data.merge(batch, model.predict(batch))\n",
    "\n",
    "    for r in results:\n",
    "        print(r)\n",
    "\n",
    "\n",
    "\n",
    "print_predictions(data.input_texts[0:BATCH_SIZE])"
   ]
  },
  {
   "cell_type": "code",
   "execution_count": null,
   "metadata": {},
   "outputs": [],
   "source": [
    "del model"
   ]
  },
  {
   "cell_type": "code",
   "execution_count": null,
   "metadata": {},
   "outputs": [],
   "source": [
    "print(history.history['val_accuracy'])"
   ]
  },
  {
   "cell_type": "code",
   "execution_count": null,
   "metadata": {},
   "outputs": [],
   "source": []
  }
 ],
 "metadata": {
  "kernelspec": {
   "display_name": "Python 3",
   "language": "python",
   "name": "python3"
  },
  "language_info": {
   "codemirror_mode": {
    "name": "ipython",
    "version": 3
   },
   "file_extension": ".py",
   "mimetype": "text/x-python",
   "name": "python",
   "nbconvert_exporter": "python",
   "pygments_lexer": "ipython3",
   "version": "3.7.5"
  }
 },
 "nbformat": 4,
 "nbformat_minor": 4
}
