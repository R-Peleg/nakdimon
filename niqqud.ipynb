{
 "cells": [
  {
   "cell_type": "code",
   "execution_count": null,
   "metadata": {},
   "outputs": [],
   "source": [
    "import os\n",
    "import numpy as np\n",
    "from tensorflow import keras\n",
    "from tensorflow.keras import layers\n",
    "\n",
    "import dataset\n",
    "from dataset import CircularLearningRate\n",
    "\n",
    "from tensorflow import config\n",
    "assert config.list_physical_devices('GPU')"
   ]
  },
  {
   "cell_type": "code",
   "execution_count": 2,
   "metadata": {
    "scrolled": true
   },
   "outputs": [
    {
     "name": "stdout",
     "output_type": "stream",
     "text": [
      "Model: \"model\"\n",
      "__________________________________________________________________________________________________\n",
      "Layer (type)                    Output Shape         Param #     Connected to                     \n",
      "==================================================================================================\n",
      "input_1 (InputLayer)            [(None, 64)]         0                                            \n",
      "__________________________________________________________________________________________________\n",
      "embedding (Embedding)           (None, 64, 110)      4840        input_1[0][0]                    \n",
      "__________________________________________________________________________________________________\n",
      "bidirectional (Bidirectional)   (None, 64, 220)      582560      embedding[0][0]                  \n",
      "__________________________________________________________________________________________________\n",
      "bidirectional_1 (Bidirectional) (None, 64, 220)      776160      bidirectional[0][0]              \n",
      "__________________________________________________________________________________________________\n",
      "add (Add)                       (None, 64, 220)      0           bidirectional[0][0]              \n",
      "                                                                 bidirectional_1[0][0]            \n",
      "__________________________________________________________________________________________________\n",
      "dense (Dense)                   (None, 64, 16)       3536        add[0][0]                        \n",
      "__________________________________________________________________________________________________\n",
      "dense_1 (Dense)                 (None, 64, 3)        663         add[0][0]                        \n",
      "__________________________________________________________________________________________________\n",
      "dense_2 (Dense)                 (None, 64, 4)        884         add[0][0]                        \n",
      "__________________________________________________________________________________________________\n",
      "lstm_2 (LSTM)                   (None, 6)            5448        add[0][0]                        \n",
      "__________________________________________________________________________________________________\n",
      "N (Softmax)                     (None, 64, 16)       0           dense[0][0]                      \n",
      "__________________________________________________________________________________________________\n",
      "D (Softmax)                     (None, 64, 3)        0           dense_1[0][0]                    \n",
      "__________________________________________________________________________________________________\n",
      "S (Softmax)                     (None, 64, 4)        0           dense_2[0][0]                    \n",
      "__________________________________________________________________________________________________\n",
      "K (Softmax)                     (None, 6)            0           lstm_2[0][0]                     \n",
      "==================================================================================================\n",
      "Total params: 1,374,091\n",
      "Trainable params: 1,374,091\n",
      "Non-trainable params: 0\n",
      "__________________________________________________________________________________________________\n"
     ]
    }
   ],
   "source": [
    "BATCH_SIZE = 32\n",
    "MAXLEN = 64\n",
    "\n",
    "LETTERS_SIZE = len(dataset.letters_table)\n",
    "NIQQUD_SIZE = len(dataset.niqqud_table)\n",
    "DAGESH_SIZE = len(dataset.dagesh_table)\n",
    "SIN_SIZE = len(dataset.sin_table)\n",
    "KINDS_SIZE = len(dataset.KINDS)\n",
    "\n",
    "def build_model(EMBED_DIM=110, UNITS=220):\n",
    "\n",
    "    layer = input_text = keras.Input(batch_shape=(None, MAXLEN), batch_size=BATCH_SIZE)\n",
    "    \n",
    "    layer = layers.Embedding(LETTERS_SIZE, EMBED_DIM, input_length=MAXLEN, mask_zero=True)(layer)\n",
    "    layer = layers.Bidirectional(layers.LSTM(UNITS, return_sequences=True, dropout=0.1), merge_mode='sum')(layer)\n",
    "    layer = layers.add([layer,\n",
    "            layers.Bidirectional(layers.LSTM(UNITS, return_sequences=True, dropout=0.1), merge_mode='sum')(layer)])\n",
    "    \n",
    "    outputs = [\n",
    "        layers.Softmax(name='N')(layers.Dense(NIQQUD_SIZE)(layer)),\n",
    "        layers.Softmax(name='D')(layers.Dense(DAGESH_SIZE)(layer)),\n",
    "        layers.Softmax(name='S')(layers.Dense(SIN_SIZE)(layer)),\n",
    "        layers.Softmax(name='K')(layers.LSTM(KINDS_SIZE)(layer))\n",
    "    ]\n",
    "    model = keras.Model(inputs=[input_text], outputs=outputs)\n",
    "\n",
    "    jsmodel = keras.Model(inputs=[input_text], outputs=outputs[:-1])\n",
    "    # keras.utils.plot_model(model, to_file='model.png')\n",
    "    return model, jsmodel\n",
    "\n",
    "model, jsmodel = build_model()\n",
    "\n",
    "model.summary()\n",
    "model.save_weights('./checkpoints/uninit')"
   ]
  },
  {
   "cell_type": "code",
   "execution_count": 3,
   "metadata": {},
   "outputs": [],
   "source": [
    "def fit(train_validation, scheduler, verbose=1):\n",
    "    train, valid = train_validation\n",
    "    model.compile(loss='sparse_categorical_crossentropy', optimizer='adam', metrics=['accuracy'])\n",
    "    callbacks = []\n",
    "    if isinstance(scheduler, CircularLearningRate):\n",
    "        scheduler.set_dataset(train, BATCH_SIZE)\n",
    "    if scheduler:\n",
    "        callbacks.append(scheduler)\n",
    "        \n",
    "    x  = train.normalized\n",
    "    vx = valid.normalized\n",
    "    #     train.kind = np.ones((len(train), 1))\n",
    "    #     valid.kind = np.ones((len(valid), 1))\n",
    "    y  = {'N': train.niqqud, 'D': train.dagesh, 'S': train.sin, 'C': train.normalized, 'K': train.kind }\n",
    "    vy = {'N': valid.niqqud, 'D': valid.dagesh, 'S': valid.sin, 'C': valid.normalized, 'K': valid.kind }\n",
    "    return model.fit(x, y, validation_data=(vx, vy), batch_size=BATCH_SIZE, epochs=1, verbose=verbose, callbacks=callbacks)\n"
   ]
  },
  {
   "cell_type": "code",
   "execution_count": 4,
   "metadata": {},
   "outputs": [],
   "source": [
    "def load_data(source, maxlen=MAXLEN, validation=0.1):\n",
    "    filenames = [os.path.join('texts', f) for f in source]\n",
    "    train, valid = dataset.load_data(filenames, validation, maxlen=maxlen)\n",
    "    return train, valid"
   ]
  },
  {
   "cell_type": "code",
   "execution_count": null,
   "metadata": {},
   "outputs": [],
   "source": [
    "data_rabanit = load_data(['rabanit'])"
   ]
  },
  {
   "cell_type": "code",
   "execution_count": null,
   "metadata": {},
   "outputs": [],
   "source": [
    "data_pre_modern = load_data(['pre_modern'])"
   ]
  },
  {
   "cell_type": "code",
   "execution_count": 5,
   "metadata": {},
   "outputs": [
    {
     "name": "stdout",
     "output_type": "stream",
     "text": [
      "(13856,)\n",
      "(13856, 64)\n"
     ]
    }
   ],
   "source": [
    "data_modern = load_data(validation=0.2, source=['modern'])"
   ]
  },
  {
   "cell_type": "code",
   "execution_count": 8,
   "metadata": {},
   "outputs": [
    {
     "name": "stdout",
     "output_type": "stream",
     "text": [
      "(154697,)\n",
      "(154697, 64)\n"
     ]
    }
   ],
   "source": [
    "data_all = load_data(validation=0.1, source=['rabanit', 'pre_modern', 'modern'])"
   ]
  },
  {
   "cell_type": "code",
   "execution_count": null,
   "metadata": {},
   "outputs": [],
   "source": [
    "model.load_weights('./checkpoints/uninit')\n",
    "history = fit(data_rabanit, scheduler=CircularLearningRate(20e-4, 50e-4, 5e-4))\n",
    "model.save_weights('./checkpoints/rabanit')"
   ]
  },
  {
   "cell_type": "code",
   "execution_count": null,
   "metadata": {},
   "outputs": [],
   "source": [
    "model.load_weights('./checkpoints/rabanit')\n",
    "history = fit(data_pre_modern, scheduler=CircularLearningRate(20e-4, 40e-4, 0.1e-4))\n",
    "model.save_weights('./checkpoints/pre_modern')"
   ]
  },
  {
   "cell_type": "code",
   "execution_count": 6,
   "metadata": {},
   "outputs": [
    {
     "name": "stdout",
     "output_type": "stream",
     "text": [
      "Train on 13856 samples, validate on 3464 samples\n",
      "13856/13856 [==============================] - 29s 2ms/sample - loss: 1.1777 - N_loss: 0.5031 - D_loss: 0.1207 - S_loss: 0.0247 - K_loss: 0.5293 - N_accuracy: 0.8198 - D_accuracy: 0.9525 - S_accuracy: 0.9941 - K_accuracy: 0.9978 - val_loss: 0.8426 - val_N_loss: 0.2496 - val_D_loss: 0.0695 - val_S_loss: 0.0068 - val_K_loss: 0.5169 - val_N_accuracy: 0.9101 - val_D_accuracy: 0.9720 - val_S_accuracy: 0.9981 - val_K_accuracy: 1.0000\n"
     ]
    }
   ],
   "source": [
    "model.load_weights('./checkpoints/pre_modern')\n",
    "history = fit(data_modern, scheduler=CircularLearningRate(6e-3, 6e-3, 0.5e-3))\n",
    "# history = fit(data_modern, CircularLearningRate(1e-3, 2e-3, 0.5e-3))\n",
    "model.save_weights('./checkpoints/modern')"
   ]
  },
  {
   "cell_type": "code",
   "execution_count": null,
   "metadata": {},
   "outputs": [
    {
     "name": "stdout",
     "output_type": "stream",
     "text": [
      "Train on 154697 samples, validate on 17189 samples\n",
      "154688/154697 [============================>.] - ETA: 0s - loss: 1.3124 - N_loss: 0.2792 - D_loss: 0.0742 - S_loss: 0.0086 - K_loss: 0.9505 - N_accuracy: 0.9007 - D_accuracy: 0.9708 - S_accuracy: 0.9977 - K_accuracy: 0.7006"
     ]
    }
   ],
   "source": [
    "model.load_weights('./checkpoints/uninit')\n",
    "history = fit(data_all, scheduler=CircularLearningRate(20e-4, 50e-4, 5e-4))\n",
    "# history = fit(data_modern, CircularLearningRate(1e-3, 2e-3, 0.5e-3))\n",
    "model.save_weights('./checkpoints/all')"
   ]
  },
  {
   "cell_type": "code",
   "execution_count": null,
   "metadata": {},
   "outputs": [],
   "source": [
    "import matplotlib.pyplot as plt\n",
    "\n",
    "fig, ax = plt.subplots(nrows=2, ncols=2)\n",
    "\n",
    "for n, v in enumerate(['accuracy', 'loss'], 0):\n",
    "    for n1, t in enumerate(['D', 'N'], 0):\n",
    "        p = ax[n][n1]\n",
    "        p.plot(history.history[t + '_' + v][0:])\n",
    "        p.plot(history.history['val_' + t + '_' +  v][0:])\n",
    "        p.legend([t + '_Train', t + '_Test'], loc='center right')\n",
    "\n",
    "plt.tight_layout()"
   ]
  },
  {
   "cell_type": "code",
   "execution_count": null,
   "metadata": {},
   "outputs": [],
   "source": [
    "jsmodel.summary()"
   ]
  },
  {
   "cell_type": "code",
   "execution_count": null,
   "metadata": {},
   "outputs": [],
   "source": [
    "import tensorflowjs as tfjs\n",
    "jsmodel.load_weights('./checkpoints/modern')\n",
    "tfjs.converters.save_keras_model(jsmodel, '.')"
   ]
  },
  {
   "cell_type": "code",
   "execution_count": 7,
   "metadata": {
    "scrolled": true
   },
   "outputs": [
    {
     "name": "stdout",
     "output_type": "stream",
     "text": [
      "מצוי:  שֶׁל הַפְּצָצָה אֲוִוירִית רַחֶבַת הַיֶּקֵּף עַל יַפָּן. הַפִּיקּוּד הַצְּבָאִי הָאָמֵרִיקָאִי הֵחֵל  4\n",
      "רצוי:  שֶׁל הַפְצָצָה אֲוִוירִית רַחֲבַת הֶיקֵּף עַל יַפָּן. הַפִּיקּוּד הַצְּבָאִי הָאָמֵרִיקָאִי הֵחֵל  4\n",
      "מצוי:  שֶׁלָּנוּ וְהִצְּטוּפְּפוּ לְאוֹרֶךְ הַתּוֹר בְּחַדְרֵי הַהִתְעַמְּלוּת שֶׁל הַתִּיכּוּן, אוֹ רָאוּ  4\n",
      "רצוי:  שֶׁלָּנוּ וְהִצְטוֹפְפוּ לְאוֹרֶךְ הַתּוֹר בְּחַדְרֵי הַהִתְעַמְּלוּת שֶׁל הַתִּיכוֹן, אוֹ רָאוּ  4\n",
      "מצוי:  פְּעוּלָה עִם הָאֲצוּלָּה הַגְּבוֹהָה עַל מְנַת לְחַזֵק אֶת מַעֶמְדָם מוּל הֶעָרִים אוֹ לְשַׁתֵּף  4\n",
      "רצוי:  פְּעוּלָּה עִם הָאֲצוּלָּה הַגְּבוֹהָה עַל מְנַת לְחַזֵּק אֶת מַעֲמָדָם מוּל הֶעָרִים אוֹ לְשַׁתֵּף  4\n",
      "מצוי:  בָּהּ, אֶגַב, יֵשׁ לִנִיּוּז קוֹרֵפ מִנִיּוֹת - עָזֶר לָנוּ לַאֲתֵר דִּיוּּוּחַ בּוֹדֵד. הוּא  4\n",
      "רצוי:  בָּהּ, אַגַּב, יֵשׁ לִנְיוּז קוֹרְפּ מְנָיוֹת - עָזַר לָנוּ לְאַתֵּר דִּיוּוּחַ בּוֹדֵד. הוּא  4\n",
      "מצוי:  הַקּוֹנְטִינְנְטְלִי מִיְיחֵס לְתַקָדִים חֲשִׁיבוּת פְּחוּתָה, וְהַמָּקוֹר הָרִאשׁוֹנִי בּוֹ מוֹצֵא  4\n",
      "רצוי:  הַקּוֹנְטִינֶנְטָלִי מְיַיחֵס לְתַקְדִּים חֲשִׁיבוּת פְּחוּתָה, וְהַמָּקוֹר הָרִאשׁוֹנִי בּוֹ מוֹצָא  4\n",
      "מצוי:  חֲזָקַת הַחֵפוֹת שֶׁהִיא הַצִּידּוּק הַמּוֹסְרִי לִקִיּוּמָם שֶׁל מִשְׁטָרָה וּפְרַקְלִיטוֹת בִּמְדִינַת  4\n",
      "רצוי:  חֶזְקַת הַחַפּוּת שֶׁהִיא הַצִּידּוּק הַמּוּסָרִי לְקִיּוּמָם שֶׁל מִשְׁטָרָה וּפְרַקְלִיטוּת בִּמְדִינַת  4\n",
      "מצוי:  מְדִינַת יִשְׂרָאֵל, בְּעֵת מִלְחָמָה וּבָעֵת רְגִיעָה וְשָׁגָרָה. בְּנוֹסֶף עַל כָּךְ מַמַלָּא  4\n",
      "רצוי:  מְדִינַת יִשְׂרָאֵל, בְּעֵת מִלְחָמָה וּבְעֵת רְגִיעָה וְשִׁגְרָה. בְּנוֹסָף עַל כָּךְ מְמַלֵּא  4\n",
      "מצוי:  הַבִּיטּוּי הַנַּעֲלָה בְּיוֹתֵר שֶׁל הַקְּרְבָּה עֲצְמִית. מוּל הָאוֹמְרִים בְּצֶדֶק, כִּי לֹא  4\n",
      "רצוי:  הַבִּיטּוּי הַנְעָלָה בְּיוֹתֵר שֶׁל הַקְרָבָה עַצְמִית. מוּל הָאוֹמְרִים בְּצֶדֶק, כִּי לֹא  4\n",
      "מצוי:  מִמַעֲסִיקוּ לְרֶגֵל מְאוֹרֵע אִישִׁי מִשְׁמַח (נִישּׁוּאִים, הוּלֶדֶת יֶלֶד וּכְדוּמָה) וּמְתַנָה  4\n",
      "רצוי:  מִמַּעֲסִיקוֹ לָרֶגֶל מְאוֹרָע אִישִׁי מְשַׂמֵּחַ (נִישּׂוּאִים, הוּלֶּדֶת יֶלֶד וְכַדּוֹמֶה) וּמַתָּנָה  4\n",
      "מצוי:  כַּאֲשֶׁר תִּכְתַּב הַהִיסְטוֹרְיָה שֶׁל הַהֲגוֹת הַשְּׁמָרָנִית בַּמֵאָה הַ-55 (בְּנִיגּוּד לְ\"תְּנוּעָה  4\n",
      "רצוי:  כַּאֲשֶׁר תִּכָּתֵב הַהִיסְטוֹרְיָה שֶׁל הֶהָגוּת הַשַּׁמְרָנִית בַּמֵּאָה הַ-55 (בְּנִיגּוּד לַ\"תְּנוּעָה  4\n",
      "מצוי:  שֶׁמְּדוּבָּר בַּסִדְרָה הַמְּבוּסֶּסֶת עַל סִפְרֵי פְּנְטְזְיָה מֵאת הַסּוֹפֶר הַפּוֹלְנִי אַנְדָּזִ'יִי  4\n",
      "רצוי:  שֶׁמְּדוּבָּר בְּסִדְרָה הַמְּבוּסֶּסֶת עַל סִפְרִי פַנְטַזְיָה מֵאֵת הַסּוֹפֵר הַפּוֹלָנִי אַנְדְּזֵ'יי  4\n",
      "מצוי:  מִתְנַהֵל בֵּין מִשְׂרַד הָאוֹצֵר לְמִּשְׂרַד הַבְּרִיאוֹת. בְּמִּשְׂרַד הָאוֹצֵר סְבוּרִים שֶׁחַיָּיבִים  4\n",
      "רצוי:  מִתְנַהֵל בֵּין מִשְׂרַד הָאוֹצָר לְמִשְׂרַד הַבְּרִיאוּת. בְּמִשְׂרַד הָאוֹצָר סְבוּרִים שֶׁחַיָּיבִים  4\n",
      "מצוי:  נֶחֲמָדִים. וְהִנָּה הַהַמָנוֹן שֶׁל הַקְּבוּצָה שֶׁלָּנוּO כְּלָן אֲהוּבוֹת, כְּלָן מְחַיכוֹת כְּלָן  4\n",
      "רצוי:  נֶחְמָדִים. וְהִנֵּה הַהִמְנוֹן שֶׁל הַקְּבוּצָה שֶׁלָּנוּO כֻּלָּן אֲהוּבוֹת, כֻּלָּן מְחַיְּכוֹת כֻּלָּן  4\n",
      "מצוי:  וְאָז הִגִּיעַ הַיּוֹם שֶׁל הַטִּיּוּל. נִסַעְנוּ בְּאוֹטוֹבּוֹס מְאַרְגָּן, עִם ר' שֶׁאוֹל הַנָּהָג,  4\n",
      "רצוי:  וְאָז הִגִּיעַ הַיּוֹם שֶׁל הַטִּיּוּל. נָסַעְנוּ בְּאוֹטוֹבּוּס מְאֻרְגָּן, עִם ר' שָׁאוּל הַנָּהָג,  4\n",
      "מצוי:  לְהַקְדּוֹשׁ בָּרוֹךְ הוּא עַל הַיְּשׁוּעָה הַגְּדוֹלָה. הַבָּחוּר הַמַּאֲשָׁר שֶׁמֵר אֶת הַבְּטָחָתוֹ  4\n",
      "רצוי:  לְהַקָּדוֹשׁ בָּרוּךְ הוּא עַל הַיְּשׁוּעָה הַגְּדוֹלָה. הַבָּחוּר הַמְּאֻשָּׁר שָׁמַר אֶת הַבְטָחָתוֹ  4\n",
      "מצוי:  הַבְּשָׁמִים קָנָא בְּשָׁכְנוּ עַל כְּסְפּוּ הָרַב. מָה עָשָׂה? יָצָא אֶל הָרָחוֹב וְהִתְחִיל  4\n",
      "רצוי:  הַבְּשָׂמִים קִנֵא בִּשְׁכֵנוֹ עַל כַּסְפּוֹ הָרַב. מָה עָשָׂה? יָצָא אֶל הָרְחוֹב וְהִתְחִיל  4\n",
      "מצוי:  אִמָּא. \"אֲבָל יָדַעְתִי שֶׁאֲנִי מִמִּשְׁפָּחָה שׁוֹמֶרֶת שַׁבָּת וְהִשְׁתַּדַּלְתִּי כָּל הַזְּמַן לְהַמְשִׁיךְ  4\n",
      "רצוי:  אִמָּא. \"אֲבָל יָדַעְתִּי שֶׁאֲנִי מִמִּשְׁפָּחָה שׁוֹמֶרֶת שַׁבָּת וְהִשְׁתַּדַּלְתִּי כָּל הַזְּמַן לְהַמְשִׁיךְ  4\n",
      "מצוי:  הַמִּיתּוּס שֶׁהִתְפַּרְסֵם בַּסֵפֶר \"סַדְקוּ וְאָלֶף הָעֲגוּרִים\" שֶׁל הַסּוֹפֶרֶת אַלִינוּר קוֹאֵר  4\n",
      "רצוי:  הַמִּיתוֹס שֶׁהִתְפַּרְסֵם בַּסֵּפֶר \"סָדְקוּ וְאֶלֶף הָעֲגוּרִים\" שֶׁל הַסּוֹפֶרֶת אֱלִינוֹר קוּאָר  4\n",
      "מצוי:  שִׁישׁוּחְרְרוּ וְהַקֶּצָב - הַוִּויכּוּחַ הַגָּדוֹל הוּא עַל מַהוּ הַסַּף לְשָׁלֵּב הָרִאשׁוֹן שֶׁל  4\n",
      "רצוי:  שֶׁיְּשׁוּחְרְרוּ וְהַקֶּצֶב - הַוִּויכּוּחַ הַגָּדוֹל הוּא עַל מַהוּ הַסַּף לַשָּׁלָב הָרִאשׁוֹן שֶׁל  4\n",
      "מצוי:  חֲתִיכַת בְּצַק שֶׁשְּׁהֲתָה זְמַן רַב בּוֹ תִּפְחָה וְהַחֲמִיצָה, וְיֵשׁ לָהּ תְּכוֹנוֹת  4\n",
      "רצוי:  חֲתִיכַת בָּצֵק שֶׁשָּׁהֲתָה זְמַן רַב בּוֹ תָּפְחָה וְהֶחֱמִיצָה, וְיֵשׁ לָהּ תְּכוּנוֹת  4\n",
      "מצוי:  הַכִּיתִי אוֹתָהּ וְלֹא הוֹעִיל כְּלוֹם\". הַבִּין הִצְדִיק שֶׁהַפָּרָה שֶׁלּוֹ הָיְתָה רְגִילָה  4\n",
      "רצוי:  הִכֵּיתִי אוֹתָהּ וְלֹא הוֹעִיל כְּלוּם\". הֵבִין הַצַּדִּיק שֶׁהַפָּרָה שֶׁלּוֹ הָיְתָה רְגִילָה  4\n",
      "מצוי:  עַל הַכְּלָב. \"טוֹב,\" אָמְרָה אִמָּא בְּחִיּוּךְ עִם אֲנְחָה, \"מֵחַר נֶלֶךְ לְכְלְבֶיָה וְנֶקַח  4\n",
      "רצוי:  עַל הַכֶּלֶב. \"טוֹב,\" אָמְרָה אִמָא בְּחִיוּךְ עִם אֲנָחָה, \"מָחָר נֵלֵךְ לַכַּלְבִּיָה וְנִקַח  4\n",
      "מצוי:  הַתְּכִּי לְדְנֵיאֵל אַבִיר, וְסִיפֵּר לוֹ אֶת הִשְׁתַּלַשְׁלוּת הָעֲנִינִים. דְּנִיאָל שֶׁמַח מְאוֹד  4\n",
      "רצוי:  הַתֻּכִּי לְדָּנִיאֵל אַבִּיר, וְסִיפֵּר לוֹ אֶת הִשְׁתַּלְשְׁלוּת הָעִנְיָנִים. דָּנִיאֵל שָׂמַח מְאוֹד  4\n",
      "מצוי:  קִבָּעָה כִּי הָעוֹנֶשׁ עַל עֲבִירָה זוֹ יִהְיֶה מַאֲסֶר עוֹלָם. שִׁיטָה זוֹ נְהוּגָה,  4\n",
      "רצוי:  קָבְעָה כִּי הָעוֹנֶשׁ עַל עֲבֵירָה זוֹ יִהְיֶה מַאֲסַר עוֹלָם. שִׁיטָה זוֹ נְהוּגָה,  4\n",
      "מצוי:  בָּהּ רַק עַד גִּיל 5, וַאֲנִי כְּבָר בַּת 55. כְּדֵי לִכְתּוֹב בְּעִבְרִית אֲנִי אֶצְטָרֵךְ  4\n",
      "רצוי:  בָּהּ רַק עַד גִּיל 5, וַאֲנִי כְּבָר בַּת 55. כְּדֵי לִכְתּוֹב בְּעִבְרִית אֲנִי אֶצְטָרֵךְ  4\n",
      "מצוי:  שָׁנִים רַבּוֹת. בְּמַקְבִּיל לְקוֹנְגֶּרְס וִינָה, בְּ-55 בְּמַאי 5555 חָתָם טְלִירָאן עַל  4\n",
      "רצוי:  שָׁנִים רַבּוֹת. בְּמַקְבִּיל לַקּוֹנְגְּרֶס וִינָה, בְּ-55 בְּמַאי 5555 חָתַם טָלֵירָאן עַל  4\n",
      "מצוי:  \"עַכְשׁוּ לֹא יְכוֹלִים לִרְאוֹת אוֹתָנוּ. בּוּא נָשֶׁב קְצָת וְנָנוּחַ כִּי חַם הַיּוֹם.\"  4\n",
      "רצוי:  \"עַכְשָׁו לֹא יְכוֹלִים לִרְאוֹת אוֹתָנוּ. בּוֹא נֵשֵׁב קְצָת וְנָנוּחַ כִּי חַם הַיוֹם.\"  4\n",
      "מצוי:  מִפְּרָקִים אֶת הָאֲתֶר לְגוֹרְמִים וּמְסַיְּימִים בִּתְרוּעַת צָחוּק גְּדוֹלָה מִפְּנֵי שֶׁיֵּשׁ  4\n",
      "רצוי:  מְפָרְקִים אֶת הָאֲתָר לְגוֹרְמִים וּמְסַיְּימִים בִּתְרוּעַת צְחוֹק גְּדוֹלָה מִפְּנֵי שֶׁיֵּשׁ  4\n",
      "מצוי:  שֶׁל נָשִׁים בְּלְבַד, וְגַם גְּבָרִים חֲוִוים יִיבּוּשִׁים וְהַעֶלָבוֹת מֵהַדַּיָּיטִים שֶׁלָּהֶם.  4\n",
      "רצוי:  שֶׁל נָשִׁים בִּלְבַד, וְגַם גְּבָרִים חוֹוִים יִיבּוּשִׁים וְהַעֲלָבוֹת מְהֻדְיָיטִים שֶׁלָּהֶם.  4\n",
      "מצוי:  מַעֲלָה וּמִתְפּוֹצָצוֹת בְּאוִיר הֶחֵדֶר, וְשׁוּב נוֹצְרוֹת בִּמְקוּמָן בּוֹעוֹת גַּז חֲדָשׁוֹת.  4\n",
      "רצוי:  מַעְלָה וּמִתְפּוֹצְצוֹת בַּאֲוִיר הַחֶדֶר, וְשׁוּב נוֹצָרוֹת בִּמְקוֹמָן בּוּעוֹת גַּז חֲדָשׁוֹת.  4\n",
      "מצוי:  שֶׁלִּי שֶׁהוּא חַשַׁמְלָאִי, הִצִּיב בַּחֲנוּת שֶׁלּוֹ טֵלוּיזְיָה שֶׁתִּהְיֶה מְכוּנֶת לַעֲרוֹץ  4\n",
      "רצוי:  שֶׁלִּי שֶׁהוּא חַשְׁמַלַּאי, הִצִּיב בַּחֲנוּת שֶׁלּוֹ טֶלֶוִיזְיָה שֶׁתִּהְיֶה מְכֻוֶּנֶת לֶעָרוּץ  4\n",
      "מצוי:  שֵׁירוּתָיו לְצוֹרֵךְ מְצִיאַת נֶפְט, זָהֵב וּמִינְּרְלִים שׁוֹנִים. בִּשְׁנַת 5555 פִּרְסָם  4\n",
      "רצוי:  שֵׁירוּתָיו לְצוֹרֶךְ מְצִיאַת נֵפְט, זָהָב וּמִינֵרָלִים שׁוֹנִים. בִּשְׁנַת 5555 פִּרְסֵם  4\n"
     ]
    }
   ],
   "source": [
    "model.load_weights('./checkpoints/modern')\n",
    "\n",
    "def print_predictions(data, k):\n",
    "    s = slice(k*BATCH_SIZE, (k+1)*BATCH_SIZE)\n",
    "    batch = data.normalized[s]\n",
    "    prediction = model.predict(batch)\n",
    "    [actual_niqqud, actual_dagesh, actual_sin, actual_kind] = [dataset.from_categorical(prediction[0]), dataset.from_categorical(prediction[1]), dataset.from_categorical(prediction[2]),  dataset.from_categorical(prediction[3])]\n",
    "    [expected_niqqud, expected_dagesh, expected_sin, expected_kind] = [data.niqqud[s], data.dagesh[s], data.sin[s], data.kind[s]]\n",
    "    actual = dataset.merge(batch, ns=actual_niqqud, ds=actual_dagesh, ss=actual_sin)\n",
    "    expected = dataset.merge(batch, ns=expected_niqqud, ds=expected_dagesh, ss=expected_sin)\n",
    "    for i, (a, e) in enumerate(zip(actual, expected)):\n",
    "        print('מצוי: ', a, actual_kind[i])\n",
    "        print('רצוי: ', e, expected_kind[i])\n",
    "\n",
    "print_predictions(data_modern[1], 2)"
   ]
  },
  {
   "cell_type": "code",
   "execution_count": null,
   "metadata": {},
   "outputs": [],
   "source": [
    "shutil.rmtree(os.sep.join([tempfile.gettempdir(), '.tensorboard-info']), ignore_errors=True)\n",
    "shutil.rmtree('logs', ignore_errors=True)\n",
    "os.makedirs('logs')\n",
    "# %tensorboard --logdir logs"
   ]
  },
  {
   "cell_type": "code",
   "execution_count": null,
   "metadata": {},
   "outputs": [],
   "source": [
    "print(data_modern[1].text[0])\n",
    "print(data_modern[1].text[1])"
   ]
  },
  {
   "cell_type": "code",
   "execution_count": null,
   "metadata": {},
   "outputs": [],
   "source": []
  }
 ],
 "metadata": {
  "kernelspec": {
   "display_name": "Python 3",
   "language": "python",
   "name": "python3"
  },
  "language_info": {
   "codemirror_mode": {
    "name": "ipython",
    "version": 3
   },
   "file_extension": ".py",
   "mimetype": "text/x-python",
   "name": "python",
   "nbconvert_exporter": "python",
   "pygments_lexer": "ipython3",
   "version": "3.7.4"
  }
 },
 "nbformat": 4,
 "nbformat_minor": 4
}
