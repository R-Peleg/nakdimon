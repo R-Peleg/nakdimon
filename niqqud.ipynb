{
 "cells": [
  {
   "cell_type": "code",
   "execution_count": null,
   "metadata": {},
   "outputs": [],
   "source": [
    "%load_ext tensorboard\n",
    "import datetime\n",
    "\n",
    "import tensorflow as tf\n",
    "import numpy as np\n",
    "\n",
    "import dataset\n",
    "import gpu_utils\n",
    "gpu_utils.setup_gpus()\n",
    "\n",
    "BUFFER_SIZE = 10000\n",
    "BATCH_SIZE = 64  # 512"
   ]
  },
  {
   "cell_type": "code",
   "execution_count": null,
   "metadata": {},
   "outputs": [],
   "source": [
    "data = dataset.load_file(BATCH_SIZE, 0.2, filenames=['bible_text/bible.txt','short_table/short_table.txt'])"
   ]
  },
  {
   "cell_type": "code",
   "execution_count": null,
   "metadata": {},
   "outputs": [],
   "source": [
    "model = tf.keras.Sequential([\n",
    "    tf.keras.layers.Bidirectional(\n",
    "        tf.keras.layers.GRU(256, return_sequences=True, recurrent_initializer='glorot_uniform'),\n",
    "        input_shape=(data.maxlen, data.letters_size),\n",
    "        batch_size=BATCH_SIZE\n",
    "    ),\n",
    "    tf.keras.layers.GRU(data.niqqud_size, return_sequences=True, recurrent_initializer='glorot_uniform'),\n",
    "])\n",
    "\n",
    "# best: mean_squared_logarithmic_error, stateless\n",
    "\n",
    "model.compile(loss='mean_squared_logarithmic_error',\n",
    "              optimizer='adam',\n",
    "              metrics=['accuracy'])\n",
    "model.build()\n",
    "\n",
    "model.summary()"
   ]
  },
  {
   "cell_type": "code",
   "execution_count": null,
   "metadata": {},
   "outputs": [],
   "source": [
    "model.load_weights(tf.train.latest_checkpoint('niqqud_checkpoints/'))"
   ]
  },
  {
   "cell_type": "code",
   "execution_count": null,
   "metadata": {},
   "outputs": [],
   "source": [
    "%tensorboard --logdir logs\\fit"
   ]
  },
  {
   "cell_type": "code",
   "execution_count": null,
   "metadata": {},
   "outputs": [],
   "source": [
    "log_dir = \"logs\\\\fit\\\\\" + datetime.datetime.now().strftime(\"%Y%m%d-%H%M%S\")\n",
    "tensorboard_callback = tf.keras.callbacks.TensorBoard(log_dir=log_dir, histogram_freq=1)\n",
    "\n",
    "model.fit(data.input_texts, data.niqqud_texts,\n",
    "          batch_size=BATCH_SIZE,\n",
    "          epochs=2,\n",
    "          validation_data=(data.input_validation, data.niqqud_validation),\n",
    "          callbacks=[\n",
    "              # tf.keras.callbacks.ModelCheckpoint(filepath='niqqud_checkpoints/ckpt_{epoch}', save_weights_only=True),\n",
    "              tf.keras.callbacks.EarlyStopping(monitor='loss', patience=3, verbose=1),\n",
    "              tf.keras.callbacks.ReduceLROnPlateau(monitor='loss', factor=0.2, patience=0, min_lr=0.001),\n",
    "              tensorboard_callback,\n",
    "          ]\n",
    "          )"
   ]
  },
  {
   "cell_type": "code",
   "execution_count": null,
   "metadata": {},
   "outputs": [],
   "source": [
    "model.add(tf.keras.layers.Softmax())\n",
    "\n",
    "def print_predictions(batch):\n",
    "    results = data.merge(batch, model.predict(batch))\n",
    "\n",
    "    for r in results:\n",
    "        print(r)\n",
    "\n",
    "\n",
    "print_predictions(data.input_texts[0:BATCH_SIZE])"
   ]
  },
  {
   "cell_type": "code",
   "execution_count": null,
   "metadata": {},
   "outputs": [],
   "source": [
    "del model"
   ]
  },
  {
   "cell_type": "code",
   "execution_count": null,
   "metadata": {},
   "outputs": [],
   "source": []
  }
 ],
 "metadata": {
  "kernelspec": {
   "display_name": "Python 3",
   "language": "python",
   "name": "python3"
  },
  "language_info": {
   "codemirror_mode": {
    "name": "ipython",
    "version": 3
   },
   "file_extension": ".py",
   "mimetype": "text/x-python",
   "name": "python",
   "nbconvert_exporter": "python",
   "pygments_lexer": "ipython3",
   "version": "3.7.4"
  }
 },
 "nbformat": 4,
 "nbformat_minor": 4
}
