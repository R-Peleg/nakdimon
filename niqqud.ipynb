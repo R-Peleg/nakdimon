{
 "cells": [
  {
   "cell_type": "code",
   "execution_count": 1,
   "metadata": {},
   "outputs": [],
   "source": [
    "import os\n",
    "import numpy as np\n",
    "from tensorflow import keras\n",
    "from tensorflow.keras import layers\n",
    "\n",
    "import dataset\n",
    "from dataset import CircularLearningRate\n",
    "\n",
    "from tensorflow import config\n",
    "assert config.list_physical_devices('GPU')"
   ]
  },
  {
   "cell_type": "code",
   "execution_count": 99,
   "metadata": {
    "scrolled": true
   },
   "outputs": [
    {
     "name": "stdout",
     "output_type": "stream",
     "text": [
      "Model: \"model_18\"\n",
      "__________________________________________________________________________________________________\n",
      "Layer (type)                    Output Shape         Param #     Connected to                     \n",
      "==================================================================================================\n",
      "input_19 (InputLayer)           [(None, 64)]         0                                            \n",
      "__________________________________________________________________________________________________\n",
      "embedding_18 (Embedding)        (None, 64, 45)       1980        input_19[0][0]                   \n",
      "__________________________________________________________________________________________________\n",
      "bidirectional_36 (Bidirectional (None, 64, 190)      358720      embedding_18[0][0]               \n",
      "__________________________________________________________________________________________________\n",
      "bidirectional_37 (Bidirectional (None, 64, 190)      579120      bidirectional_36[0][0]           \n",
      "__________________________________________________________________________________________________\n",
      "add_18 (Add)                    (None, 64, 190)      0           bidirectional_36[0][0]           \n",
      "                                                                 bidirectional_37[0][0]           \n",
      "__________________________________________________________________________________________________\n",
      "dense_54 (Dense)                (None, 64, 16)       3056        add_18[0][0]                     \n",
      "__________________________________________________________________________________________________\n",
      "dense_55 (Dense)                (None, 64, 3)        573         add_18[0][0]                     \n",
      "__________________________________________________________________________________________________\n",
      "dense_56 (Dense)                (None, 64, 4)        764         add_18[0][0]                     \n",
      "__________________________________________________________________________________________________\n",
      "N (Softmax)                     (None, 64, 16)       0           dense_54[0][0]                   \n",
      "__________________________________________________________________________________________________\n",
      "D (Softmax)                     (None, 64, 3)        0           dense_55[0][0]                   \n",
      "__________________________________________________________________________________________________\n",
      "S (Softmax)                     (None, 64, 4)        0           dense_56[0][0]                   \n",
      "==================================================================================================\n",
      "Total params: 944,213\n",
      "Trainable params: 944,213\n",
      "Non-trainable params: 0\n",
      "__________________________________________________________________________________________________\n"
     ]
    }
   ],
   "source": [
    "BATCH_SIZE = 32\n",
    "MAXLEN = 64\n",
    "\n",
    "LETTERS_SIZE = len(dataset.letters_table)\n",
    "NIQQUD_SIZE = len(dataset.niqqud_table)\n",
    "DAGESH_SIZE = len(dataset.dagesh_table)\n",
    "SIN_SIZE = len(dataset.sin_table)\n",
    "KINDS_SIZE = len(dataset.KINDS)\n",
    "\n",
    "def build_model(EMBED_DIM=45, UNITS=190):\n",
    "\n",
    "    layer = input_text = keras.Input(batch_shape=(None, MAXLEN), batch_size=BATCH_SIZE)\n",
    "    \n",
    "    layer = layers.Embedding(LETTERS_SIZE, EMBED_DIM, input_length=MAXLEN, mask_zero=True)(layer)\n",
    "    layer = layers.Bidirectional(layers.LSTM(UNITS, return_sequences=True, dropout=0.0), merge_mode='sum')(layer)\n",
    "    layer = layers.add([layer, \n",
    "            layers.Bidirectional(layers.LSTM(UNITS, return_sequences=True, dropout=0.0), merge_mode='sum')(layer)])\n",
    "    \n",
    "    outputs = [\n",
    "        layers.Softmax(name='N')(layers.Dense(NIQQUD_SIZE)(layer)),\n",
    "        layers.Softmax(name='D')(layers.Dense(DAGESH_SIZE)(layer)),\n",
    "        layers.Softmax(name='S')(layers.Dense(SIN_SIZE)(layer)),\n",
    "    ]\n",
    "    model = keras.Model(inputs=[input_text], outputs=outputs)\n",
    "\n",
    "    jsmodel = model \n",
    "    # keras.utils.plot_model(model, to_file='model.png')\n",
    "    return model, jsmodel\n",
    "\n",
    "model, jsmodel = build_model()\n",
    "\n",
    "model.summary()\n",
    "model.save_weights('./checkpoints/uninit')"
   ]
  },
  {
   "cell_type": "code",
   "execution_count": 3,
   "metadata": {},
   "outputs": [],
   "source": [
    "def fit(train_validation, scheduler, verbose=1):\n",
    "    train, valid = train_validation\n",
    "    model.compile(loss='sparse_categorical_crossentropy', optimizer='adam', metrics=['accuracy'])\n",
    "    callbacks = []\n",
    "    if isinstance(scheduler, CircularLearningRate):\n",
    "        scheduler.set_dataset(train, BATCH_SIZE)\n",
    "    if scheduler:\n",
    "        callbacks.append(scheduler)\n",
    "        \n",
    "    x  = train.normalized\n",
    "    vx = valid.normalized\n",
    "    y  = {'N': train.niqqud, 'D': train.dagesh, 'S': train.sin, 'C': train.normalized }\n",
    "    vy = {'N': valid.niqqud, 'D': valid.dagesh, 'S': valid.sin, 'C': valid.normalized }\n",
    "    return model.fit(x, y, validation_data=(vx, vy), batch_size=BATCH_SIZE, epochs=1, verbose=verbose, callbacks=callbacks)\n"
   ]
  },
  {
   "cell_type": "code",
   "execution_count": 4,
   "metadata": {},
   "outputs": [],
   "source": [
    "def load_data(source, maxlen=MAXLEN, validation=0.1):\n",
    "    filenames = [os.path.join('texts', f) for f in source]\n",
    "    train, valid = dataset.load_data(filenames, validation, maxlen=maxlen)\n",
    "    return train, valid"
   ]
  },
  {
   "cell_type": "code",
   "execution_count": 29,
   "metadata": {},
   "outputs": [],
   "source": [
    "data_other = load_data(['biblical', 'garbage', 'poetry'])"
   ]
  },
  {
   "cell_type": "code",
   "execution_count": 30,
   "metadata": {},
   "outputs": [],
   "source": [
    "data_rabanit = load_data(['rabanit'])"
   ]
  },
  {
   "cell_type": "code",
   "execution_count": 31,
   "metadata": {},
   "outputs": [],
   "source": [
    "data_pre_modern = load_data(['pre_modern'])"
   ]
  },
  {
   "cell_type": "code",
   "execution_count": 105,
   "metadata": {},
   "outputs": [],
   "source": [
    "data_modern = load_data(validation=0.1, source=['modern'])"
   ]
  },
  {
   "cell_type": "code",
   "execution_count": 100,
   "metadata": {},
   "outputs": [
    {
     "name": "stdout",
     "output_type": "stream",
     "text": [
      "Train on 49310 samples, validate on 934 samples\n",
      "49310/49310 [==============================] - 60s 1ms/sample - loss: 0.5874 - N_loss: 0.4669 - D_loss: 0.1011 - S_loss: 0.0195 - N_accuracy: 0.8378 - D_accuracy: 0.9602 - S_accuracy: 0.9946 - val_loss: 0.3824 - val_N_loss: 0.3025 - val_D_loss: 0.0732 - val_S_loss: 0.0059 - val_N_accuracy: 0.8949 - val_D_accuracy: 0.9711 - val_S_accuracy: 0.99830411 - N_loss: 1.5687 - D_loss: 0.3041 - S_loss: 0.1683 - N_accuracy: 0.4953 - D_accuracy: 0.9027 - S_accuracy: 0.960 - ETA: 2:35 - loss: 2.0252 - N_loss: 1.5573 - D_loss: 0.3024 - S_loss: 0.1655 - N_accuracy: 0.4978 - D_accu - ETA: 1:46 - loss: 1.6352 - N_loss: 1.2743 - D_loss: 0.2546 - S_loss: 0.1063 - N_accuracy: 0.5732 - D_accuracy: 0.9099 -  - ETA: 1:32 - loss: 1.5051 - N_loss: 1.1777 - D_loss: 0.2373 - S_loss: 0.0902 - N_accur - ETA: 25s - loss: 0.7692 - N_loss: 0.6119 - D_loss: 0.1287 - - ETA: 22s - loss: 0.7381 - N_loss: 0.5870 - D_loss: 0.1241 - S_loss: 0.0269 - N_accu - ETA: 19s - loss: 0.7190 - N_loss: 0.5718 - D_loss: 0.1212 - S_loss: 0.0259 - N_accuracy: 0.8005 - D_accuracy: 0.952 - ETA: 18s - loss: 0.7113 - N_loss: 0.5657 - D_loss: 0.1200 - S_loss: 0.0255 - N_accuracy: 0.8026 - D_accuracy: 0.9529 - S_ac - ETA: 18s - loss: 0.7066 - N_loss: 0.5620 - D_loss: 0.1193 - S_loss: 0.0253 - N_accuracy: 0.8040 - D_accuracy: 0.9532 - S_accuracy: 0.99 - ETA: 18s - loss: 0.7059 - N_loss: 0.5615 - D_loss: 0.1192 - S_loss: 0.0253 - N_accuracy: 0.8041 - D_accuracy: 0.9532 - S_accuracy: 0. - ETA: 18s - loss: 0.7045 - N_loss: 0.5603 - D_loss: 0.1190 - S_loss: 0.0252 - N_accuracy: 0.8045 - D_accur - ETA: 16s - loss: 0.6942 - N_loss: 0.5521 - D_loss: 0.1175 - S_loss: 0 - ETA: 13s - loss: 0.6738 - N_loss: 0.5358 - D_loss: 0.1144 - S_loss: 0.0237 - N_accuracy: 0.8132 - D_accuracy: 0.955 - ETA: 13s - loss: 0.6677 - N_loss: 0.5 - ETA: 8s - loss: 0.6356 - N_loss: 0.5053 - D_loss: 0.1085 - S_loss: 0.0218 - N_accuracy: 0. - ETA: 4s - loss: 0.6141 - N_loss: 0.4881 - D_loss: 0.1053 - S_loss: 0.0207 - N_accuracy: 0.8302 - D_accuracy: 0.9585 - S_accuracy - ETA: 4s - loss: 0.6105 - N_loss: 0.4852 - D_loss: 0.1047 - S_loss: 0.0206 - N_accuracy: 0.8313 - D_accuracy: 0.9588 - S_accuracy:  - ETA: 3s - loss: 0.6079 - N_loss: 0.4831 - D_loss: 0.1043 - S_loss: 0.0204 - N_accuracy: 0 - ETA: 0s - loss: 0.5886 - N_loss: 0.4678 - D_loss: 0.1013 - S_loss: 0.0195 - N_accuracy: 0.8374 - D_accuracy: 0.9601 - S_accuracy: 0.9\n"
     ]
    }
   ],
   "source": [
    "model.load_weights('./checkpoints/uninit')\n",
    "history = fit(data_other, scheduler=CircularLearningRate(20e-4, 50e-4, 5e-4))  # val_N_accuracy: 0.9063 - val_D_accuracy: 0.9712\n",
    "model.save_weights('./checkpoints/other')"
   ]
  },
  {
   "cell_type": "code",
   "execution_count": 101,
   "metadata": {},
   "outputs": [
    {
     "name": "stdout",
     "output_type": "stream",
     "text": [
      "Train on 81160 samples, validate on 841 samples\n",
      "81160/81160 [==============================] - 93s 1ms/sample - loss: 0.1625 - N_loss: 0.1246 - D_loss: 0.0347 - S_loss: 0.0032 - N_accuracy: 0.9571 - D_accuracy: 0.9872 - S_accuracy: 0.9993 - val_loss: 0.2572 - val_N_loss: 0.1960 - val_D_loss: 0.0580 - val_S_loss: 0.0031 - val_N_accuracy: 0.9367 - val_D_accuracy: 0.9805 - val_S_accuracy: 0.9991: 1:13 - loss: 0.2122 - N_loss: 0.1648 - D_loss: 0.0437 - S_loss: 0.0037 - N_accuracy: 0.9424 - D_accuracy: 0.9836 - S_accuracy: 0. - ETA: 1:12 - loss: 0.2118 - N_loss: 0.1645 - D_loss: 0.0436 - S_ - ETA: 1:04 - loss: 0.2062 - N_loss: 0.1598 - D_loss: 0.0427  - ETA: 58s - loss: 0.2022 - N_loss: 0.1566 - D_loss: 0.0420 - S_loss: 0.0037 - N_accuracy: 0.9455 - D_accuracy: - ETA: 56s - loss: 0.2015 - N_loss: 0.1560 - D_loss: 0.0419 - S_loss: 0.0037 - N_accuracy: 0.9458 - D_accuracy: 0.9 - ETA: 55s - loss: 0.2007 - N_loss: 0.1553 - D_loss: 0.0417 - S_loss: 0.0037  - ETA: 52s - loss: 0.1986 - N_loss: 0.1536 - D_loss: 0.0414 - S_loss: 0.0036 - N_accuracy: 0.9467 - D_accuracy: 0.9846 - S_accuracy: 0.99 - ETA: 52s - loss: 0.1986 - N_loss: 0.1536 - D_loss: 0.0413 - S_loss: 0.0036 - N_accuracy: 0.9467 - D_accurac - ETA: 51s - loss: 0.1978 - ETA: 13s - loss: 0.1720 - N_loss: 0.1323 - D_loss: 0.0365 - S_loss: 0.0033 - N_accuracy: 0.9544 - ETA: 11s - loss: 0.1709 - N_loss: 0.1313 - D_loss: 0.0363 - S_loss: 0.0033  - ETA: 9s - loss: 0.1692 - N_loss: 0.1299 - D_loss: 0.0360 - S_loss: 0.0032 - N_accuracy: 0.9552 - D_accuracy: 0.9 - ETA: 7s - loss: 0.1681 - N_loss: 0. - ETA: 0s - loss: 0.1629 - N_loss: 0.1249 - D_loss: 0.0348 - S_loss: 0.0032 - N_accuracy: 0.9570 - D_accuracy: 0.9872 - S_accura\n"
     ]
    }
   ],
   "source": [
    "model.load_weights('./checkpoints/other')\n",
    "history = fit(data_rabanit, scheduler=CircularLearningRate(20e-4, 50e-4, 5e-4))  # val_N_accuracy: 0.9348 - val_D_accuracy: 0.9806\n",
    "model.save_weights('./checkpoints/rabanit')"
   ]
  },
  {
   "cell_type": "code",
   "execution_count": 102,
   "metadata": {},
   "outputs": [
    {
     "name": "stdout",
     "output_type": "stream",
     "text": [
      "Train on 66276 samples, validate on 5761 samples\n",
      "66276/66276 [==============================] - 80s 1ms/sample - loss: 0.2612 - N_loss: 0.1996 - D_loss: 0.0554 - S_loss: 0.0062 - N_accuracy: 0.9322 - D_accuracy: 0.9777 - S_accuracy: 0.9983 - val_loss: 0.2244 - val_N_loss: 0.1739 - val_D_loss: 0.0455 - val_S_loss: 0.0051 - val_N_accuracy: 0.9454 - val_D_accuracy: 0.9822 - val_S_accuracy: 0.998510 - D_loss: 0.0797 - S_loss: 0.0099 - N_accuracy: 0.8977 - D_accuracy: 0 - ETA: 3:11 - loss: 0.3852 - N_loss: 0.3008 - D_loss: 0.0754 - S_loss: 0.0091 - N_accuracy: 0.9015 - D_accuracy: 0.9705 - S_accuracy: 0.9 - ETA: 3:04 - loss: 0.3824 - N_loss: 0.2982 - D_loss: 0.0750 -  - ETA: 1:46 - loss: 0.3450 - N_loss: 0.2685 - D_loss: 0.0687 - S_loss: 0.0079 - N_accuracy: 0.9101 - D_accuracy: 0.9726 - S_accuracy:  - ETA: 1:44 - loss: 0.3429 - N_loss: 0.2669 - D_loss: 0.0682 - S_loss: 0.0078 - N_accuracy: 0.9106 - D_accuracy: 0.9728 - S_a - ETA: 1:37 - loss: 0.3387 - N_loss: 0.2634 - D_loss: 0.0675 - S_loss: 0.0077 - N_accuracy: 0.9116 - D_accuracy: 0.9729 - S_accuracy:  - ETA: 1:35 - loss: 0.3372 - N_loss: 0.2620 - D_loss: 0.0675 - S_loss: 0.0077 - N_accuracy: 0.9120 - D_accuracy: 0.9729 - S_accuracy: - ETA: 1:33 - loss: 0.3357 - N_loss: 0.2608 - D_loss: 0.0673 - S_loss: 0.0077 - N_accuracy: 0.9123 - D_accurac - ETA: 1:24 - loss: 0.3300 - N_loss: 0.2561 - D_loss: 0.0664 - S_loss: 0.0075 - N - ETA: 48s - loss: 0.2998 - N_loss: 0.2310 - D_loss: 0.0618 - S_loss: 0.0069 - N_accuracy: 0.9216 - D_accuracy: 0.9 - E - ETA: 40s - loss: 0.2940 - N_loss: 0.2264 - D_loss: 0.0608 - S_loss: 0.0068 - N_accuracy: 0.9231 - D_accuracy: 0.9 - ETA: 39s - loss: 0.2933 - N_loss: 0.2257 - D_loss: 0.0608 - S_loss: 0.0068 - N_accuracy: 0.9233 - D_accuracy: 0.9755 - S_accuracy:  - ETA: 38s - loss: 0.2931 - N_loss: 0.2256 - D_loss: 0.0607 - S_loss: 0.0068 - N_accuracy: 0.9234 - D_accuracy: 0.9756 - S_ - ETA: 38s - loss: 0.2925 - N_loss: 0.2251 - D_loss: 0.0606 - S_loss: 0.0068 - N_accuracy: 0.9235 - D_accurac - ETA: 36s - loss: 0.2916 - N_loss: 0.2244 - D_loss: 0.0605 - S_loss: 0.0068 - N_accuracy: 0.9238 - D_accuracy: 0.9 - ETA: 35s - loss: 0.2907 - N_loss: 0.2236 - D_loss: 0.0604 - S_loss: 0.0068 - N_accuracy: 0.9240 - ETA: 22s - loss: 0.2801 - N_loss: 0.2150 - D_loss: 0.0586 - S_loss: 0.0066 - N_accuracy: 0.9269 - D_accuracy: 0.9764 - S_ac - ETA: 21s - loss: 0.2797 - N_loss: 0.2147 - D_loss: 0.0585 - S_loss: 0.0065 - N_accuracy: 0. - ETA: 20s - loss: 0.2783 - N_loss: 0.2135 - D_loss - ETA: 16s - loss: 0.2753 - N_loss: 0.2110 - D_loss: 0.0578 - S_loss: 0.0065 - N_accuracy: 0.9282 - D_accur - ETA: 15s - loss: 0.2742 - N_loss: 0.2102 - D_loss: 0.0576 - S_loss: 0.0064 - N_accuracy: 0.9285 - D_a - ETA: 14s - loss: 0.2730 - N_loss: 0.2091 - D_loss: 0.0574 - S_los - E - ETA: 3s - loss: 0.2638 - N_loss: 0.2017 - D_loss: 0.0559 - S_loss: 0.0062 - N_accuracy: 0.9314 - D_accuracy: 0.9775 - S - ETA: 2s - loss: 0.2628 - N_loss: 0.2009 - D_loss: 0.0557 - S_loss: 0.0062 - N_accuracy: 0.9317 - D_accuracy\n"
     ]
    }
   ],
   "source": [
    "model.load_weights('./checkpoints/rabanit')\n",
    "history = fit(data_pre_modern, scheduler=CircularLearningRate(20e-4, 40e-4, 0.1e-4))  # val_N_accuracy: 0.9407 - val_D_accuracy: 0.9810\n",
    "model.save_weights('./checkpoints/pre_modern')"
   ]
  },
  {
   "cell_type": "code",
   "execution_count": 106,
   "metadata": {},
   "outputs": [
    {
     "name": "stdout",
     "output_type": "stream",
     "text": [
      "Train on 15948 samples, validate on 1728 samples\n",
      "15948/15948 [==============================] - 25s 2ms/sample - loss: 0.1809 - N_loss: 0.1340 - D_loss: 0.0437 - S_loss: 0.0031 - N_accuracy: 0.9550 - D_accuracy: 0.9837 - S_accuracy: 0.9993 - val_loss: 0.2013 - val_N_loss: 0.1408 - val_D_loss: 0.0583 - val_S_loss: 0.0022 - val_N_accuracy: 0.9515 - val_D_accuracy: 0.9779 - val_S_accuracy: 0.9995uracy: 0.9821 - S_ - ETA: 6s - loss: 0.1947 - N_loss: 0.1446 - D_loss: 0.0468 - S_loss: 0.0033 - N_accuracy - ETA: 1s - loss: 0.1833 - N_loss: 0.1359 - D_loss: 0.0443 - S_loss: 0.0031 - N_accuracy: 0.9544 - D_accuracy: 0.9835 - S_ac\n"
     ]
    }
   ],
   "source": [
    "model.load_weights('./checkpoints/pre_modern')\n",
    "history = fit(data_modern, scheduler=CircularLearningRate(2e-3, 3e-3, 0.5e-3))  # val_N_accuracy: 0.9591 - val_D_accuracy: 0.9856\n",
    "# history = fit(data_modern, scheduler=CircularLearningRate(1e-4, 7e-4, 1e-4))  # val_N_accuracy: 0.9605 - val_D_accuracy: 0.9863\n",
    "model.save_weights('./checkpoints/modern')"
   ]
  },
  {
   "cell_type": "code",
   "execution_count": null,
   "metadata": {},
   "outputs": [],
   "source": [
    "import matplotlib.pyplot as plt\n",
    "\n",
    "fig, ax = plt.subplots(nrows=2, ncols=2)\n",
    "\n",
    "for n, v in enumerate(['accuracy', 'loss'], 0):\n",
    "    for n1, t in enumerate(['D', 'N'], 0):\n",
    "        p = ax[n][n1]\n",
    "        p.plot(history.history[t + '_' + v][0:])\n",
    "        p.plot(history.history['val_' + t + '_' +  v][0:])\n",
    "        p.legend([t + '_Train', t + '_Test'], loc='center right')\n",
    "\n",
    "plt.tight_layout()"
   ]
  },
  {
   "cell_type": "code",
   "execution_count": null,
   "metadata": {},
   "outputs": [],
   "source": [
    "jsmodel.summary()"
   ]
  },
  {
   "cell_type": "code",
   "execution_count": 108,
   "metadata": {},
   "outputs": [],
   "source": [
    "import tensorflowjs as tfjs\n",
    "jsmodel.load_weights('./checkpoints/modern')\n",
    "tfjs.converters.save_keras_model(jsmodel, '.')"
   ]
  },
  {
   "cell_type": "code",
   "execution_count": 107,
   "metadata": {},
   "outputs": [
    {
     "name": "stdout",
     "output_type": "stream",
     "text": [
      "מצוי:  רַדְיוֹאַקְטִיבִיִּים וְלָכֵן פָּלַט קְרִינָה חֲזָקָה, לְפִי הַמְּשׁוּעָר פִּי אֶלֶף מְעוּצְמֶת \n",
      "רצוי:  רַדְיוֹאַקְטִיבִיִּים וְלָכֵן פָּלַט קְרִינָה חֲזָקָה, לְפִי הַמְּשׁוֹעָר פִּי אֶלֶף מֵעוֹצְמַת \n",
      "\n",
      "מצוי:  מַאֲזִין לְאַחַת מֵהַיְּצִירוֹת הַמְּטַלְטָלוֹת בְּיוֹתֵר שֶׁנֶּחְשַׁפְתִּי אֲלֵיהֶן אִי פַּעַם. אֲנִי \n",
      "רצוי:  מַאֲזִין לְאַחַת מֵהַיְּצִירוֹת הַמְּטַלְטְלוֹת בְּיוֹתֵר שֶׁנֶּחְשַׂפְתִּי אֲלֵיהֶן אֵי פַּעַם. אֲנִי \n",
      "\n",
      "מצוי:  פָּתְחָה אֶת הָאָרוֹן וּמָצְאָה בְּלוּן אָדָם בְּלוּן צָהַב וּבָלוּן יָרַק אָמְרָה נוֹעָה: \n",
      "רצוי:  פָּתְחָה אֶת הָאָרוֹן וּמָצְאָה בָּלוֹן אָדָם בָּלוֹן צָהֹב וּבָלוֹן יָרַק אָמְרָה נוֹעָה: \n",
      "\n",
      "מצוי:  בִּזְמַן שֶׁבְּרַחֲבֵי הָאָרֶץ שׁוֹמְעִים בְּגִלְגְּלַ\"צ אֶת הָרִינְגְטוֹן \"הוּא תָּקוּעַ בְּפֶקָק\", \n",
      "רצוי:  בִּזְמַן שֶׁבְּרַחֲבֵי הָאָרֶץ שׁוֹמְעִים בְּגַּלְגַּלָּ\"צ אֶת הָרִינְגְּטוֹן \"הוּא תָּקוּעַ בִּפְקָק\", \n",
      "\n",
      "מצוי:  שָׁלוֹם\"), נִמְרוֹד רוֹבִּי, רַפִּי בַּרְזִילִי, רוֹנֵן חֲכִימִי, תְּמֵי אֱיָיל, אוּדִי נָטַע \n",
      "רצוי:  שָׁלוֹם\"), נִמְרוֹד רוּבִּי, רָפִי בַּרְזִילַי, רוֹנֵן חַכִּימִי, תַּמִּי אֱיָיל, אוּדִי נֶטַע \n",
      "\n",
      "מצוי:  הַשּׁוֹתָּפוֹת שֶׁלָּנוּ\", אָמַר. \"יֵשׁ לָנוּ אַחְרָיוּת הִיסְטוֹרִית לַהֲפוֹךְ אֶת הַיְּחָסִים \n",
      "רצוי:  הַשּׁוּתָּפוּת שֶׁלָּנוּ\", אָמַר. \"יֵשׁ לָנוּ אַחְרָיוּת הִיסְטוֹרִית לַהֲפוֹךְ אֶת הַיְּחָסִים \n",
      "\n",
      "מצוי:  כְּשֶׁעוֹבְדִים עִם בָּשָׂר וְשֶׁמֵּעֲבֶּר לְכָךְ שֶׁצָּרִיךְ לַעֲבוֹד עִם הַסְּפָקִים הַנְּכוֹנִים, צָרִיךְ \n",
      "רצוי:  כְּשֶׁעוֹבְדִים עִם בָּשָׂר וְשֶׁמֵּעֵבֶר לְכָךְ שֶׁצָּרִיךְ לַעֲבוֹד עִם הַסַּפָּקִים הַנְּכוֹנִים, צָרִיךְ \n",
      "\n",
      "מצוי:  אֶת מָה שֶׁמִּתְעוֹרֵר בְּקִרְבּוֹ. הַאִם זֶה הוּא עַצְמוֹ שֶׁשֶׁר כָּךְ? הַזֶּהוּ אָדָם? OOOOOOO \n",
      "רצוי:  אֶת מָה שֶׁמִּתְעוֹרֵר בְּקִרְבּוֹ. הַאִם זֶה הוּא עַצְמוֹ שֶׁשָּׁר כָּךְ? הִזָּהוּ אָדָם? OOOOOOO \n",
      "\n",
      "מצוי:  מֵהַמַּתָּנָה עַד שֶׁאֶחָד מֵהֶם יַעֲבוֹר לְמַעְלָה וְאָז שְׁלִיחַת פְּקוּדּוֹת זְדוֹנִיּוֹת \n",
      "רצוי:  מֵהַמְתָּנָה עַד שֶׁאֶחָד מֵהֶם יַעֲבוֹר לְמַעְלָה וְאָז שְׁלִיחַת פְּקוּדּוֹת זְדוֹנִיּוֹת \n",
      "\n",
      "מצוי:  קוֹנְקְרֵטִית לְרִיסּוּן הַפְּלִיטוֹת בִּשְׁתֵּי הַמְּדִינוֹת, הֵן הִתְחַיֵּיבוּ לְפַרְסֵם אֶת \n",
      "רצוי:  קוֹנְקְרֵטִית לְרִיסּוּן הַפְּלִיטוֹת בִּשְׁתֵּי הַמְּדִינוֹת, הֵן הִתְחַיְּיבוּ לְפַרְסֵם אֶת \n",
      "\n",
      "מצוי:  חוֹל.\" רַק אָז הֵבִינוּ אַנְשֵׁי הַכְּפָר כַּמָּה טִפְשִׁים הָיוּ. הֵם הָיוּ חֶלָשִׁים וְרָזִים, \n",
      "רצוי:  חוֹל.\" רַק אָז הֵבִינוּ אַנְשֵׁי הַכְּפָר כַּמָּה טִפְּשִׁים הָיוּ. הֵם הָיוּ חַלָשִׁים וְרָזִים, \n",
      "\n",
      "מצוי:  הוּעֲמַד לַמִּשְׁפָּט וְהוֹדָה בְּאֲשְׁמָה, הוּא נִידּוּן לְ-55 יְמֵי מַאֲסָר בַּפּוֹעַל. מֵאֲסְרוֹ \n",
      "רצוי:  הוּעֲמַד לְמִשְׁפָּט וְהוֹדָה בָּאַשְׁמָה, הוּא נִידּוֹן לְ-55 יְמֵי מַאֲסָר בְּפוֹעַל. מַאֲסָרוֹ \n",
      "\n",
      "מצוי:  עָדִיף לְבַשֵּׁל לְפָחוֹת אֲרוּחָה אַחַת בַּיּוֹם כְּמוֹ פַּעַם, אֲבָל הָיָה נִרְאֶה שֶׁאַף אֶחָד \n",
      "רצוי:  עָדִיף לְבַשֵׁל לְפָחוֹת אֲרוּחָה אַחַת בְּיוֹם כְּמוֹ פַּעַם, אֲבָל הָיָה נִרְאֶה שֶׁאַף אֶחָד \n",
      "\n",
      "מצוי:  לְשׁוּלְחַן הָעֵץ כְּבִיר הַמְּמַדִּים שֶׁבַּמִּטְבָּח וְרוֹאָה אֶת הַחַלּוֹן שֶׁל עֲלִיַּית הַגַּג נִיבֵּט \n",
      "רצוי:  לְשׁוּלְחַן הָעֵץ כְּבִיר הַמְּמַדִּים שֶׁבַּמִּטְבָּח וְרוֹאֶה אֶת הַחַלּוֹן שֶׁל עֲלִייַּת הַגַּג נִיבָּט \n",
      "\n",
      "מצוי:  נֶחֱשָׁבִים לְאֵירוֹפִים הָרִאשׁוֹנִים שֶׁעִישְׁנוּ סִיגֵּר בְּצוּרָתוֹ הַמְּקוֹרִית. הֵם קִיבְּלוּ \n",
      "רצוי:  נֶחֱשָׁבִים לְאֵירוֹפִּים הָרִאשׁוֹנִים שֶׁעִישְּׁנוּ סִיגָר בְּצוּרָתוֹ הַמְּקוֹרִית. הֵם קִיבְּלוּ \n",
      "\n",
      "מצוי:  עַל הַתִּקְשׁוֹרֶת. הַבְּעָיָה מַחֲרִיפָה כַּאֲשֶׁר אַלְפֵי לְוִויְינִים זְעִירִים מַקִּיפִים אֶת \n",
      "רצוי:  עַל הַתִּקְשׁוֹרֶת. הַבְּעָיָה מַחֲרִיפָה כַּאֲשֶׁר אַלְפֵי לַוְויָינִים זְעִירִים מַקִּיפִים אֶת \n",
      "\n",
      "מצוי:  חֲבוּשִׁית (מְסוּמָּן בְּיָרוּק בְּמַפַת סִימּוּן שְׁבִילִים). הַמַּסְלוּל מַתְחִיל מֵהַתַּחְנָה \n",
      "רצוי:  חַבּוּשִׁית (מְסוּמָּן בְּיָרוֹק בְּמַפַּת סִימּוּן שְׁבִילִים). הַמַּסְלוּל מַתְחִיל מֵהַתַּחֲנָה \n",
      "\n",
      "מצוי:  בִּמְחִיר גָּבוֹהַּ מַשְׁמָעוּתִית, אַךְ מִנִּיסְיוֹנֵי הַהֶבְדֵּל בִּמְחִיר מַצְדִּיק אֶת עַצְמוֹ \n",
      "רצוי:  בִּמְחִיר גָּבוֹהַּ מַשְׁמָעוּתִית, אַךְ מִנִּיסְיוֹנִי הַהֶבְדֵּל בַּמְּחִיר מַצְדִּיק אֶת עַצְמוֹ \n",
      "\n",
      "מצוי:  הַמְּשִׂימָה. מוֹרִיס קָאהֵן, נָשִׂיא עֲמוּתֶת OOOOOOO, אָמַר בַּתְגוּבָה: \"לְעִידוֹ \n",
      "רצוי:  הַמְּשִׂימָה. מוֹרִיס קַאהַן, נְשִׂיא עֲמוּתַּת OOOOOOO, אָמַר בִּתְגוּבָה: \"לְעִידּוֹ \n",
      "\n",
      "מצוי:  וְהַגָּבוֹהַּ. הַכֶּלֶב הִמְשִׁיךְ בְּמֶּרְדָּף אֲבָל הָאַרְנֶבֶת נֶעֶלְמָה מֵעֵינָיו. לְבַסּוֹף, כְּשֶׁחָזַר \n",
      "רצוי:  וְהַגָּבוֹהַ. הַכֶּלֶב הִמְשִׁיךְ בַּמִּרְדָף אֲבָל הָאַרְנֶבֶת נֶעֶלְמָה מֵעֵינָיו. לְבַסוֹף, כְּשֶׁחָזַר \n",
      "\n",
      "מצוי:  אוּלַי זֶה בִּגְלַל שֶׁשְּׁקְדִי הָעֵגֶל עֲדִינִים יוֹתֵר בְּטַעֲמָם וְהָרוֹטֵב מְעַט הֶאֱפִיל \n",
      "רצוי:  אוּלַי זֶה בִּגְלַל שֶׁשְּׁקֵדֵי הָעֵגֶל עֲדִינִים יוֹתֵר בְּטַעְמָם וְהָרוֹטֶב מְעַט הֶאֱפִיל \n",
      "\n",
      "מצוי:  לְהַגִּיד דָּבָר חָשׁוּב. דּוֹר - דֶּלֶת בְּאַנְגְּלִית - כּוֹתְבִים בַּשְׁנִי אוֹ. כָּכָה,\" הִיא \n",
      "רצוי:  לְהַגִיד דָבָר חָשׁוּב. דוֹר - דֶלֶת בְּאַנְגְלִית - כּוֹתְבִים בִּשְׁנֵי אוֹ. כָּכָה,\" הִיא \n",
      "\n",
      "מצוי:  וְאָכְלוּ, וְהָיוּ מְאַשְׁרוֹת שֶׁמָּצְאוּ זוֹ אֶת זוֹ. בְּאֶחָד הַיָּמִים עָבַר לְיַד הָאֹהֶל \n",
      "רצוי:  וְאָכְלוּ, וְהָיוּ מְאֻשָׁרוֹת שֶׁמָצְאוּ זוֹ אֶת זוֹ. בְּאַחַד הַיָּמִים עָבַר לְיַד הָאֹהֶל \n",
      "\n",
      "מצוי:  הִתְרַסֵּק עַל כַּדּוּר הָאָרֶץ בְּ-5555. פְּצְחָנִים יְכוֹלִים גַּם לַחֲטוֹף לְוִויְינִים \n",
      "רצוי:  הִתְרַסֵּק עַל כַּדּוּר הָאָרֶץ בְּ-5555. פַּצְחָנִים יְכוֹלִים גַּם לַחֲטוֹף לַוְויָינִים \n",
      "\n",
      "מצוי:  קְצָת יוֹתֵר. חֶבְרָתִי פְּרְגָנָה לִשְׁנֵינוּ, וּמֵאָז וְעַד הַיּוֹם אֲנַחְנוּ בְּנֵי זוּג, \n",
      "רצוי:  קְצָת יוֹתֵר. חֲבֶרְתִּי פִרְגְּנָה לִשְׁנֵינוּ, וּמֵאָז וְעַד הַיּוֹם אֲנַחְנוּ בְּנֵי זוּג, \n",
      "\n",
      "מצוי:  כְּאַשְׁפָּה רְגִילָה, מִתּוֹךְ חֲשָׁשׁ שֶׁתֹּאבֵד אֶת בֵּיתָה וְכָל הַשֶּׁטַח סְבִיבוֹ. הַאֵן סֵירֵב \n",
      "רצוי:  כְּאַשְׁפָּה רְגִילָה, מִתּוֹךְ חֲשָׁשׁ שֶׁתְּאַבֵּד אֶת בֵּיתָהּ וְכָל הַשֶּׁטַח סְבִיבוֹ. הָאן סֵירֵב \n",
      "\n",
      "מצוי:  \"מִבְּחִינָתִי הַנֶּשֶׁר נָחַת. הִגַּעְנוּ לַיָרֵחַ, אֲבָל נְנַסֶּה שׁוּב. אֲנַחְנוּ נִרְצֶה בַּפַּעַם \n",
      "רצוי:  \"מִבְּחִינָתִי הַנֶּשֶׁר נָחַת. הִגַּעְנוּ לַיָּרֵחַ, אֲבָל נְנַסֶּה שׁוּב. אֲנַחְנוּ נִרְצֶה בַּפַּעַם \n",
      "\n",
      "מצוי:  מַכִּיר עִם זִיקָּה לְאַרְהָ\"ב וּבְצֶדֶק, בִּזְכוּת טַעֲמוּ הַטּוֹב, כַּמּוּת הַבָּשָׂר הַנְּדִיבָה \n",
      "רצוי:  מַכִּיר עִם זִיקָּה לְאַרְהָ\"ב וּבְצֶדֶק, בִּזְכוּת טַעְמוֹ הַטּוֹב, כַּמּוּת הַבָּשָׂר הַנְּדִיבָה \n",
      "\n",
      "מצוי:  סַיְיבֶּר לַלְוִויְינִים וְאֵין גּוּף מְפַקֵּחַ שֶׁמַּאַסְדֵּר וּמַבְטִיחַ אֶת אַבְטַחַת הַסַּיְיבֶּר \n",
      "רצוי:  סַייְבֶּר לְלַוְויָינִים וְאֵין גּוּף מְפַקֵּחַ שֶׁמְּאַסְדֵּר וּמַבְטִיחַ אֶת אַבְטָחַת הַסַּיְיבֶּר \n",
      "\n",
      "מצוי:  כְּדֵי לְהַגִּיעַ לְאוּכֶל שֶׁלָּהֶן. הֵן יְכוֹלוֹת לְהוּוֹת הַשְׁרָאָה לְמִיפּוּי אֵיזוֹרִים \n",
      "רצוי:  כְּדֵי לְהַגִּיעַ לָאוֹכֶל שֶׁלָּהֶן. הֵן יְכוֹלוֹת לְהַוּוֹת הַשְׁרָאָה לְמִיפּוּי אֵיזוֹרִים \n",
      "\n",
      "מצוי:  הִיא מִתְבַּשֶּׁלֶת לִי בְּלֵב כְּבָר כַּמָּה וְכַמָּה זְמַן. לְמַעֲשֶׂה, בְּאַחַת הַשִּׂיחוֹת \n",
      "רצוי:  הִיא מִתְבַּשֶּׁלֶת לִי בְּלֵב כְּבָר כַּמָּה וְכַמָּה זְמַן. לְמַעֲשֶׂה, בְּאַחַת הַשִּׂיחוֹת \n",
      "\n",
      "מצוי:  בְּחוֹדָשִׁים הַבָּאִים. לַלְוִויְינִים הַחֲדָשִׁים הָאֵלֶּה יֵשׁ פּוֹטֶנְצְיָאל לְחוֹלֵל מַהְפֵּכָה \n",
      "רצוי:  בָּחוֹדָשִׁים הַבָּאִים. לַלַּוְויָינִים הַחֲדָשִׁים הָאֵלֶּה יֵשׁ פּוֹטֶנְצְיָאל לְחוֹלֵל מַהְפֵּכָה \n",
      "\n"
     ]
    }
   ],
   "source": [
    "model.load_weights('./checkpoints/modern')\n",
    "\n",
    "def print_predictions(data, k):\n",
    "    s = slice(k*BATCH_SIZE, (k+1)*BATCH_SIZE)\n",
    "    batch = data.normalized[s]\n",
    "    prediction = model.predict(batch)\n",
    "    [actual_niqqud, actual_dagesh, actual_sin] = [dataset.from_categorical(prediction[0]), dataset.from_categorical(prediction[1]), dataset.from_categorical(prediction[2])]\n",
    "    [expected_niqqud, expected_dagesh, expected_sin] = [data.niqqud[s], data.dagesh[s], data.sin[s]]\n",
    "    actual = dataset.merge(batch, ns=actual_niqqud, ds=actual_dagesh, ss=actual_sin)\n",
    "    expected = dataset.merge(batch, ns=expected_niqqud, ds=expected_dagesh, ss=expected_sin)\n",
    "    for i, (a, e) in enumerate(zip(actual, expected)):\n",
    "        print('מצוי: ', a)\n",
    "        print('רצוי: ', e)\n",
    "        print()\n",
    "\n",
    "print_predictions(data_modern[1], 10)"
   ]
  },
  {
   "cell_type": "code",
   "execution_count": null,
   "metadata": {},
   "outputs": [],
   "source": [
    "shutil.rmtree(os.sep.join([tempfile.gettempdir(), '.tensorboard-info']), ignore_errors=True)\n",
    "shutil.rmtree('logs', ignore_errors=True)\n",
    "os.makedirs('logs')\n",
    "# %tensorboard --logdir logs"
   ]
  },
  {
   "cell_type": "code",
   "execution_count": null,
   "metadata": {},
   "outputs": [],
   "source": [
    "print(data_modern[1].text[0])\n",
    "print(data_modern[1].text[1])"
   ]
  },
  {
   "cell_type": "code",
   "execution_count": null,
   "metadata": {},
   "outputs": [],
   "source": []
  }
 ],
 "metadata": {
  "kernelspec": {
   "display_name": "Python 3",
   "language": "python",
   "name": "python3"
  },
  "language_info": {
   "codemirror_mode": {
    "name": "ipython",
    "version": 3
   },
   "file_extension": ".py",
   "mimetype": "text/x-python",
   "name": "python",
   "nbconvert_exporter": "python",
   "pygments_lexer": "ipython3",
   "version": "3.7.4"
  }
 },
 "nbformat": 4,
 "nbformat_minor": 4
}
