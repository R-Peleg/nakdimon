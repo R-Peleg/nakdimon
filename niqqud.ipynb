{
 "cells": [
  {
   "cell_type": "code",
   "execution_count": 2,
   "metadata": {},
   "outputs": [
    {
     "name": "stdout",
     "output_type": "stream",
     "text": [
      "The tensorboard extension is already loaded. To reload it, use:\n",
      "  %reload_ext tensorboard\n",
      "Cannot set memory growth on device when virtual devices configured\n"
     ]
    }
   ],
   "source": [
    "%load_ext tensorboard\n",
    "import datetime\n",
    "import tensorflow as tf\n",
    "from tensorflow.keras.utils import plot_model\n",
    "import numpy as np\n",
    "import dataset\n",
    "\n",
    "import gpu_utils\n",
    "tf.get_logger().setLevel('INFO')\n",
    "try:\n",
    "    gpu_utils.setup_gpus()\n",
    "except ValueError as ex:\n",
    "    print(ex)\n",
    "\n",
    "BUFFER_SIZE = 10000\n",
    "BATCH_SIZE = 64  # 512\n"
   ]
  },
  {
   "cell_type": "code",
   "execution_count": 3,
   "metadata": {},
   "outputs": [],
   "source": [
    "data = dataset.load_file(BATCH_SIZE, 0.1, filenames=['bible_text/bible.txt', 'short_table/short_table.txt'])"
   ]
  },
  {
   "cell_type": "code",
   "execution_count": 8,
   "metadata": {},
   "outputs": [
    {
     "name": "stdout",
     "output_type": "stream",
     "text": [
      "Model: \"sequential_1\"\n",
      "_________________________________________________________________\n",
      "Layer (type)                 Output Shape              Param #   \n",
      "=================================================================\n",
      "embedding_1 (Embedding)      (64, 400, 64)             3456      \n",
      "_________________________________________________________________\n",
      "bidirectional_1 (Bidirection (64, 400, 256)            494592    \n",
      "_________________________________________________________________\n",
      "dense_2 (Dense)              (64, 400, 256)            65792     \n",
      "_________________________________________________________________\n",
      "dropout_1 (Dropout)          (64, 400, 256)            0         \n",
      "_________________________________________________________________\n",
      "dense_3 (Dense)              (64, 400, 15)             3855      \n",
      "=================================================================\n",
      "Total params: 567,695\n",
      "Trainable params: 567,695\n",
      "Non-trainable params: 0\n",
      "_________________________________________________________________\n"
     ]
    }
   ],
   "source": [
    "EMBED_DIM = 64\n",
    "\n",
    "model = tf.keras.Sequential([\n",
    "    tf.keras.layers.Embedding(data.letters_size, EMBED_DIM,  input_length=data.maxlen,\n",
    "                              batch_size=BATCH_SIZE,\n",
    "                              mask_zero=True),\n",
    "    tf.keras.layers.Bidirectional(tf.keras.layers.GRU(EMBED_DIM*4, return_sequences=True), merge_mode='sum'),\n",
    "    tf.keras.layers.Dense(EMBED_DIM*4, activation='relu'),\n",
    "    tf.keras.layers.Dropout(0.3),\n",
    "    tf.keras.layers.Dense(data.niqqud_size),\n",
    "])\n",
    "# best: mean_squared_logarithmic_error, stateless\n",
    "\n",
    "model.compile(loss='mean_squared_logarithmic_error',\n",
    "              optimizer='adam',\n",
    "              metrics=['accuracy'])\n",
    "\n",
    "plot_model(model, to_file='model.png')\n",
    "\n",
    "model.summary()"
   ]
  },
  {
   "cell_type": "code",
   "execution_count": null,
   "metadata": {},
   "outputs": [],
   "source": [
    "model.load_weights(tf.train.latest_checkpoint('niqqud_checkpoints/'))"
   ]
  },
  {
   "cell_type": "code",
   "execution_count": 14,
   "metadata": {},
   "outputs": [
    {
     "data": {
      "text/plain": [
       "ERROR: Timed out waiting for TensorBoard to start. It may still be running as pid 9972."
      ]
     },
     "metadata": {},
     "output_type": "display_data"
    }
   ],
   "source": [
    "%tensorboard --logdir logs\\fit"
   ]
  },
  {
   "cell_type": "code",
   "execution_count": 9,
   "metadata": {},
   "outputs": [
    {
     "name": "stdout",
     "output_type": "stream",
     "text": [
      "Train on 27302 samples, validate on 3034 samples\n",
      "Epoch 1/15\n",
      "27302/27302 [==============================] - 32s 1ms/sample - loss: 0.0022 - accuracy: 0.7127 - val_loss: 0.0017 - val_accuracy: 0.8004\n",
      "Epoch 2/15\n",
      "27302/27302 [==============================] - 24s 896us/sample - loss: 0.0015 - accuracy: 0.8171 - val_loss: 0.0013 - val_accuracy: 0.8461\n",
      "Epoch 3/15\n",
      "27302/27302 [==============================] - 25s 898us/sample - loss: 0.0013 - accuracy: 0.8497 - val_loss: 0.0011 - val_accuracy: 0.8698\n",
      "Epoch 4/15\n",
      "27302/27302 [==============================] - 25s 906us/sample - loss: 0.0012 - accuracy: 0.8691 - val_loss: 0.0010 - val_accuracy: 0.8831\n",
      "Epoch 5/15\n",
      "27302/27302 [==============================] - 25s 905us/sample - loss: 0.0010 - accuracy: 0.8828 - val_loss: 9.2707e-04 - val_accuracy: 0.8948\n",
      "Epoch 6/15\n",
      "27302/27302 [==============================] - 25s 905us/sample - loss: 9.6631e-04 - accuracy: 0.8927 - val_loss: 8.6299e-04 - val_accuracy: 0.9017\n",
      "Epoch 7/15\n",
      "27302/27302 [==============================] - 25s 913us/sample - loss: 9.0416e-04 - accuracy: 0.8999 - val_loss: 8.1655e-04 - val_accuracy: 0.9073\n",
      "Epoch 8/15\n",
      "27302/27302 [==============================] - 25s 908us/sample - loss: 8.5438e-04 - accuracy: 0.9053 - val_loss: 7.7500e-04 - val_accuracy: 0.9119\n",
      "Epoch 9/15\n",
      "27302/27302 [==============================] - 25s 919us/sample - loss: 8.1098e-04 - accuracy: 0.9103 - val_loss: 7.4249e-04 - val_accuracy: 0.9155\n",
      "Epoch 10/15\n",
      "27302/27302 [==============================] - 25s 933us/sample - loss: 7.7214e-04 - accuracy: 0.9148 - val_loss: 7.1483e-04 - val_accuracy: 0.9191\n",
      "Epoch 11/15\n",
      "27302/27302 [==============================] - 25s 925us/sample - loss: 7.4123e-04 - accuracy: 0.9182 - val_loss: 6.9031e-04 - val_accuracy: 0.9216\n",
      "Epoch 12/15\n",
      "27302/27302 [==============================] - 25s 912us/sample - loss: 7.1516e-04 - accuracy: 0.9211 - val_loss: 6.7438e-04 - val_accuracy: 0.9235\n",
      "Epoch 13/15\n",
      "27302/27302 [==============================] - 25s 917us/sample - loss: 6.9250e-04 - accuracy: 0.9235 - val_loss: 6.6125e-04 - val_accuracy: 0.9249\n",
      "Epoch 14/15\n",
      "27302/27302 [==============================] - 25s 911us/sample - loss: 6.7258e-04 - accuracy: 0.9258 - val_loss: 6.4639e-04 - val_accuracy: 0.9264\n",
      "Epoch 15/15\n",
      "27302/27302 [==============================] - 25s 921us/sample - loss: 6.5204e-04 - accuracy: 0.9282 - val_loss: 6.3329e-04 - val_accuracy: 0.9276\n"
     ]
    }
   ],
   "source": [
    "EPOCHS = 15\n",
    "\n",
    "log_dir = \"logs\\\\fit\\\\\" + datetime.datetime.now().strftime(\"%Y%m%d-%H%M%S\")\n",
    "tensorboard_callback = tf.keras.callbacks.TensorBoard(log_dir=log_dir, histogram_freq=1)\n",
    "while True:\n",
    "    try:\n",
    "        history = model.fit(data.input_texts, data.niqqud_texts,\n",
    "                          batch_size=BATCH_SIZE,\n",
    "                          epochs=EPOCHS,\n",
    "                          validation_data=(data.input_validation, data.niqqud_validation),\n",
    "                          verbose=1,\n",
    "                          callbacks=[\n",
    "                              # tf.keras.callbacks.ModelCheckpoint(filepath='niqqud_checkpoints/ckpt_{epoch}', save_weights_only=True),\n",
    "                              # tf.keras.callbacks.EarlyStopping(monitor='accuracy', patience=3, verbose=1),\n",
    "                              tf.keras.callbacks.ReduceLROnPlateau(monitor='loss', factor=0.2, patience=0, min_lr=0.001),\n",
    "                              # tensorboard_callback,\n",
    "                          ]\n",
    "                )\n",
    "    except RuntimeError as ex:\n",
    "        import sys\n",
    "        print(ex, file=sys.strerr)\n",
    "        model.load_weights(tf.train.latest_checkpoint('niqqud_checkpoints/'))\n",
    "    else:\n",
    "        break"
   ]
  },
  {
   "cell_type": "code",
   "execution_count": 10,
   "metadata": {},
   "outputs": [
    {
     "data": {
      "image/png": "[encoded data removed]",
      "text/plain": [
       "<Figure size 432x288 with 1 Axes>"
      ]
     },
     "metadata": {
      "needs_background": "light"
     },
     "output_type": "display_data"
    },
    {
     "data": {
      "image/png": "[encoded data removed]",
      "text/plain": [
       "<Figure size 432x288 with 1 Axes>"
      ]
     },
     "metadata": {
      "needs_background": "light"
     },
     "output_type": "display_data"
    }
   ],
   "source": [
    "import matplotlib.pyplot as plt\n",
    "\n",
    "plt.plot(history.history['accuracy'])\n",
    "plt.plot(history.history['val_accuracy'])\n",
    "plt.title('Model accuracy')\n",
    "plt.ylabel('Accuracy')\n",
    "plt.xlabel('Epoch')\n",
    "plt.legend(['Train', 'Test'], loc='upper left')\n",
    "plt.show()\n",
    "\n",
    "# Plot training & validation loss values\n",
    "plt.plot(history.history['loss'])\n",
    "plt.plot(history.history['val_loss'])\n",
    "plt.title('Model loss')\n",
    "plt.ylabel('Loss')\n",
    "plt.xlabel('Epoch')\n",
    "plt.legend(['Train', 'Test'], loc='upper left')\n",
    "plt.show()"
   ]
  },
  {
   "cell_type": "code",
   "execution_count": null,
   "metadata": {},
   "outputs": [],
   "source": [
    "model.add(tf.keras.layers.Softmax())\n",
    "\n",
    "def print_predictions(batch):\n",
    "    results = data.merge(batch, model.predict(batch))\n",
    "\n",
    "    for r in results:\n",
    "        print(r)\n",
    "\n",
    "\n",
    "model.add(tf.keras.layers.Softmax())\n",
    "\n",
    "print_predictions(data.input_texts[0:BATCH_SIZE])"
   ]
  },
  {
   "cell_type": "code",
   "execution_count": 8,
   "metadata": {},
   "outputs": [],
   "source": [
    "del model"
   ]
  },
  {
   "cell_type": "code",
   "execution_count": 29,
   "metadata": {},
   "outputs": [
    {
     "name": "stdout",
     "output_type": "stream",
     "text": [
      "{'loss': [0.0015827109518195333, 0.0014513399923550753, 0.0013591548257448234, 0.0012887166727053997, 0.0012319514679595388, 0.0011881196783612954, 0.001152327995543407, 0.0011222578092819607, 0.0010967388953521012, 0.0010754413785568184], 'accuracy': [0.80931497, 0.827345, 0.83920515, 0.8484718, 0.8559045, 0.861296, 0.8654345, 0.86872977, 0.87150776, 0.87381274], 'val_loss': [0.0014976405375314804, 0.0013920628003273885, 0.0013150705703599875, 0.0012567822506648826, 0.001210163138919168, 0.001172684293133486, 0.001132927087305056, 0.0011093075854989873, 0.0010863208495437776, 0.001072607377032033], 'val_accuracy': [0.8195697, 0.8341443, 0.84382045, 0.85259956, 0.8579303, 0.8626568, 0.8670719, 0.869484, 0.8721981, 0.87370855], 'lr': [0.001, 0.001, 0.001, 0.001, 0.001, 0.001, 0.001, 0.001, 0.001, 0.001]}\n"
     ]
    }
   ],
   "source": [
    "print(history.history)"
   ]
  },
  {
   "cell_type": "code",
   "execution_count": null,
   "metadata": {},
   "outputs": [],
   "source": []
  }
 ],
 "metadata": {
  "kernelspec": {
   "display_name": "Python 3",
   "language": "python",
   "name": "python3"
  },
  "language_info": {
   "codemirror_mode": {
    "name": "ipython",
    "version": 3
   },
   "file_extension": ".py",
   "mimetype": "text/x-python",
   "name": "python",
   "nbconvert_exporter": "python",
   "pygments_lexer": "ipython3",
   "version": "3.7.4"
  }
 },
 "nbformat": 4,
 "nbformat_minor": 4
}
