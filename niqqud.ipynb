{
 "cells": [
  {
   "cell_type": "code",
   "execution_count": 1,
   "metadata": {},
   "outputs": [],
   "source": [
    "import os\n",
    "import numpy as np\n",
    "from tensorflow import keras\n",
    "from tensorflow.keras import layers\n",
    "\n",
    "import dataset\n",
    "from dataset import CircularLearningRate\n",
    "\n",
    "from tensorflow import config\n",
    "assert config.list_physical_devices('GPU')"
   ]
  },
  {
   "cell_type": "code",
   "execution_count": 2,
   "metadata": {
    "scrolled": true
   },
   "outputs": [
    {
     "name": "stdout",
     "output_type": "stream",
     "text": [
      "Model: \"model\"\n",
      "__________________________________________________________________________________________________\n",
      "Layer (type)                    Output Shape         Param #     Connected to                     \n",
      "==================================================================================================\n",
      "input_1 (InputLayer)            [(None, 64)]         0                                            \n",
      "__________________________________________________________________________________________________\n",
      "embedding (Embedding)           (None, 64, 210)      9240        input_1[0][0]                    \n",
      "__________________________________________________________________________________________________\n",
      "bidirectional (Bidirectional)   (None, 64, 420)      2120160     embedding[0][0]                  \n",
      "__________________________________________________________________________________________________\n",
      "bidirectional_1 (Bidirectional) (None, 64, 420)      2825760     bidirectional[0][0]              \n",
      "__________________________________________________________________________________________________\n",
      "add (Add)                       (None, 64, 420)      0           bidirectional[0][0]              \n",
      "                                                                 bidirectional_1[0][0]            \n",
      "__________________________________________________________________________________________________\n",
      "dense (Dense)                   (None, 64, 16)       6736        add[0][0]                        \n",
      "__________________________________________________________________________________________________\n",
      "dense_1 (Dense)                 (None, 64, 3)        1263        add[0][0]                        \n",
      "__________________________________________________________________________________________________\n",
      "dense_2 (Dense)                 (None, 64, 4)        1684        add[0][0]                        \n",
      "__________________________________________________________________________________________________\n",
      "N (Softmax)                     (None, 64, 16)       0           dense[0][0]                      \n",
      "__________________________________________________________________________________________________\n",
      "D (Softmax)                     (None, 64, 3)        0           dense_1[0][0]                    \n",
      "__________________________________________________________________________________________________\n",
      "S (Softmax)                     (None, 64, 4)        0           dense_2[0][0]                    \n",
      "==================================================================================================\n",
      "Total params: 4,964,843\n",
      "Trainable params: 4,964,843\n",
      "Non-trainable params: 0\n",
      "__________________________________________________________________________________________________\n"
     ]
    }
   ],
   "source": [
    "BATCH_SIZE = 32\n",
    "MAXLEN = 64\n",
    "\n",
    "LETTERS_SIZE = len(dataset.letters_table)\n",
    "NIQQUD_SIZE = len(dataset.niqqud_table)\n",
    "DAGESH_SIZE = len(dataset.dagesh_table)\n",
    "SIN_SIZE = len(dataset.sin_table)\n",
    "KINDS_SIZE = len(dataset.KINDS)\n",
    "\n",
    "def build_model(EMBED_DIM=210, UNITS=420):\n",
    "\n",
    "    layer = input_text = keras.Input(batch_shape=(None, MAXLEN), batch_size=BATCH_SIZE)\n",
    "    \n",
    "    layer = layers.Embedding(LETTERS_SIZE, EMBED_DIM, input_length=MAXLEN, mask_zero=True)(layer)\n",
    "    layer = layers.Bidirectional(layers.LSTM(UNITS, return_sequences=True), merge_mode='sum')(layer)\n",
    "    layer = layers.add([layer, \n",
    "            layers.Bidirectional(layers.LSTM(UNITS, return_sequences=True), merge_mode='sum')(layer)])\n",
    "    \n",
    "    outputs = [\n",
    "        layers.Softmax(name='N')(layers.Dense(NIQQUD_SIZE)(layer)),\n",
    "        layers.Softmax(name='D')(layers.Dense(DAGESH_SIZE)(layer)),\n",
    "        layers.Softmax(name='S')(layers.Dense(SIN_SIZE)(layer)),\n",
    "    ]\n",
    "    model = keras.Model(inputs=[input_text], outputs=outputs)\n",
    "\n",
    "    jsmodel = model \n",
    "    # keras.utils.plot_model(model, to_file='model.png')\n",
    "    return model, jsmodel\n",
    "\n",
    "model, jsmodel = build_model()\n",
    "\n",
    "model.summary()\n",
    "model.save_weights('./checkpoints/uninit')"
   ]
  },
  {
   "cell_type": "code",
   "execution_count": 3,
   "metadata": {},
   "outputs": [],
   "source": [
    "def fit(train_validation, scheduler, verbose=1):\n",
    "    train, valid = train_validation\n",
    "    model.compile(loss='sparse_categorical_crossentropy', optimizer='adam', metrics=['accuracy'])\n",
    "    callbacks = []\n",
    "    if isinstance(scheduler, CircularLearningRate):\n",
    "        scheduler.set_dataset(train, BATCH_SIZE)\n",
    "    if scheduler:\n",
    "        callbacks.append(scheduler)\n",
    "        \n",
    "    x  = train.normalized\n",
    "    vx = valid.normalized\n",
    "    y  = {'N': train.niqqud, 'D': train.dagesh, 'S': train.sin, 'C': train.normalized } # , 'K': train.kind }\n",
    "    vy = {'N': valid.niqqud, 'D': valid.dagesh, 'S': valid.sin, 'C': valid.normalized } # , 'K': valid.kind }\n",
    "    return model.fit(x, y, validation_data=(vx, vy), batch_size=BATCH_SIZE, epochs=1, verbose=verbose, callbacks=callbacks)\n"
   ]
  },
  {
   "cell_type": "code",
   "execution_count": 4,
   "metadata": {},
   "outputs": [],
   "source": [
    "def load_data(source, maxlen=MAXLEN, validation=0.1):\n",
    "    filenames = [os.path.join('texts', f) for f in source]\n",
    "    train, valid = dataset.load_data(filenames, validation, maxlen=maxlen)\n",
    "    return train, valid"
   ]
  },
  {
   "cell_type": "code",
   "execution_count": 12,
   "metadata": {},
   "outputs": [],
   "source": [
    "data_other = load_data(['biblical', 'garbage', 'poetry'])"
   ]
  },
  {
   "cell_type": "code",
   "execution_count": 6,
   "metadata": {},
   "outputs": [],
   "source": [
    "data_rabanit = load_data(['rabanit'])"
   ]
  },
  {
   "cell_type": "code",
   "execution_count": 7,
   "metadata": {},
   "outputs": [],
   "source": [
    "data_pre_modern = load_data(['pre_modern'])"
   ]
  },
  {
   "cell_type": "code",
   "execution_count": 8,
   "metadata": {},
   "outputs": [],
   "source": [
    "data_modern = load_data(validation=0.2, source=['modern'])"
   ]
  },
  {
   "cell_type": "code",
   "execution_count": 13,
   "metadata": {},
   "outputs": [
    {
     "name": "stdout",
     "output_type": "stream",
     "text": [
      "Train on 44787 samples, validate on 4976 samples\n",
      "44787/44787 [==============================] - 89s 2ms/sample - loss: 0.4278 - N_loss: 0.3384 - D_loss: 0.0771 - S_loss: 0.0123 - N_accuracy: 0.8819 - D_accuracy: 0.9692 - S_accuracy: 0.9967 - val_loss: 0.2975 - val_N_loss: 0.2305 - val_D_loss: 0.0622 - val_S_loss: 0.0048 - val_N_accuracy: 0.9225 - val_D_accuracy: 0.9746 - val_S_accuracy: 0.9987\n"
     ]
    }
   ],
   "source": [
    "model.load_weights('./checkpoints/uninit')\n",
    "history = fit(data_other, scheduler=CircularLearningRate(20e-4, 50e-4, 5e-4))\n",
    "model.save_weights('./checkpoints/other')"
   ]
  },
  {
   "cell_type": "code",
   "execution_count": 14,
   "metadata": {},
   "outputs": [
    {
     "name": "stdout",
     "output_type": "stream",
     "text": [
      "Train on 80969 samples, validate on 1032 samples\n",
      "80969/80969 [==============================] - 147s 2ms/sample - loss: 0.1252 - N_loss: 0.0940 - D_loss: 0.0285 - S_loss: 0.0027 - N_accuracy: 0.9680 - D_accuracy: 0.9895 - S_accuracy: 0.9994 - val_loss: 0.2556 - val_N_loss: 0.1955 - val_D_loss: 0.0586 - val_S_loss: 0.0028 - val_N_accuracy: 0.9407 - val_D_accuracy: 0.9814 - val_S_accuracy: 0.9993\n"
     ]
    }
   ],
   "source": [
    "model.load_weights('./checkpoints/other')\n",
    "history = fit(data_rabanit, scheduler=CircularLearningRate(20e-4, 50e-4, 5e-4))\n",
    "model.save_weights('./checkpoints/rabanit')"
   ]
  },
  {
   "cell_type": "code",
   "execution_count": 15,
   "metadata": {},
   "outputs": [
    {
     "name": "stdout",
     "output_type": "stream",
     "text": [
      "Train on 65746 samples, validate on 6819 samples\n",
      "65746/65746 [==============================] - 127s 2ms/sample - loss: 0.2194 - N_loss: 0.1631 - D_loss: 0.0511 - S_loss: 0.0052 - N_accuracy: 0.9449 - D_accuracy: 0.9792 - S_accuracy: 0.9986 - val_loss: 0.2240 - val_N_loss: 0.1695 - val_D_loss: 0.0472 - val_S_loss: 0.0072 - val_N_accuracy: 0.9439 - val_D_accuracy: 0.9814 - val_S_accuracy: 0.9983\n"
     ]
    }
   ],
   "source": [
    "model.load_weights('./checkpoints/rabanit')\n",
    "history = fit(data_pre_modern, scheduler=CircularLearningRate(20e-4, 40e-4, 0.1e-4))\n",
    "model.save_weights('./checkpoints/pre_modern')"
   ]
  },
  {
   "cell_type": "code",
   "execution_count": 16,
   "metadata": {},
   "outputs": [
    {
     "name": "stdout",
     "output_type": "stream",
     "text": [
      "Train on 13755 samples, validate on 3924 samples\n",
      "13755/13755 [==============================] - 37s 3ms/sample - loss: 0.1623 - N_loss: 0.1180 - D_loss: 0.0416 - S_loss: 0.0027 - N_accuracy: 0.9607 - D_accuracy: 0.9844 - S_accuracy: 0.9993 - val_loss: 0.1683 - val_N_loss: 0.1186 - val_D_loss: 0.0472 - val_S_loss: 0.0024 - val_N_accuracy: 0.9606 - val_D_accuracy: 0.9816 - val_S_accuracy: 0.9995\n"
     ]
    }
   ],
   "source": [
    "model.load_weights('./checkpoints/pre_modern')\n",
    "history = fit(data_modern, scheduler=CircularLearningRate(6e-3, 6e-3, 0.1e-3))\n",
    "# history = fit(data_modern, scheduler=CircularLearningRate(1e-3, 7e-3, 0.5e-3))\n",
    "model.save_weights('./checkpoints/modern')"
   ]
  },
  {
   "cell_type": "code",
   "execution_count": null,
   "metadata": {},
   "outputs": [],
   "source": [
    "import matplotlib.pyplot as plt\n",
    "\n",
    "fig, ax = plt.subplots(nrows=2, ncols=2)\n",
    "\n",
    "for n, v in enumerate(['accuracy', 'loss'], 0):\n",
    "    for n1, t in enumerate(['D', 'N'], 0):\n",
    "        p = ax[n][n1]\n",
    "        p.plot(history.history[t + '_' + v][0:])\n",
    "        p.plot(history.history['val_' + t + '_' +  v][0:])\n",
    "        p.legend([t + '_Train', t + '_Test'], loc='center right')\n",
    "\n",
    "plt.tight_layout()"
   ]
  },
  {
   "cell_type": "code",
   "execution_count": null,
   "metadata": {},
   "outputs": [],
   "source": [
    "jsmodel.summary()"
   ]
  },
  {
   "cell_type": "code",
   "execution_count": null,
   "metadata": {},
   "outputs": [],
   "source": [
    "import tensorflowjs as tfjs\n",
    "jsmodel.load_weights('./checkpoints/modern')\n",
    "tfjs.converters.save_keras_model(jsmodel, '.')"
   ]
  },
  {
   "cell_type": "code",
   "execution_count": 17,
   "metadata": {
    "scrolled": true
   },
   "outputs": [
    {
     "name": "stdout",
     "output_type": "stream",
     "text": [
      "מצוי:  הַטַּנְקִים, לְאַתֵּר אֶת הַמַּעֲרָכִים הַיִּשְׂרְאֵלִיִּים בְּאוֹפֶן מְדוּיָּיק וְלִפְגּוֹעַ בָּהֶם. כֵּן, \n",
      "רצוי:  הַטַּנְקִים, לְאַתֵּר אֶת הַמַּעֲרָכִים הַיִּשְׂרְאֵלִיִּים בְּאוֹפֶן מְדוּיָּיק וְלִפְגּוֹעַ בָּהֶם. כֵּן, \n",
      "מצוי:  לֹא נִלְקְחוּ בְּחֶשְׁבּוֹן עַרְפִילֵי הַבּוֹקֶר הַכְּבֵדִים הַמְּכַסִּים אֶת הַקַּרְקַע הַנְּמוּכָה \n",
      "רצוי:  לֹא נִלְקְחוּ בְּחֶשְׁבּוֹן עַרְפִילֵּי הַבּוֹקֶר הַכְּבֵדִים הַמְּכַסִּים אֶת הַקַּרְקַע הַנְּמוּכָה \n",
      "מצוי:  מִמִּזְרָח לְתַעֲלֶה בִּתְקוּפָה זוֹ שֶׁל הַשָּׁנָה, אֲשֶׁר הִקְשׁוּ עַל שְׁמִירַת כִּיוּוּן הַתְּנוּעָה \n",
      "רצוי:  מִמִּזְרָח לַתְּעָלָה בִּתְקוּפָה זוֹ שֶׁל הַשָּׁנָה, אֲשֶׁר הִקְשׁוּ עַל שְׁמִירַת כִּיוּוּן הַתְּנוּעָה \n",
      "מצוי:  עַל יְדֵי הַכּוֹחוֹת. כָּל זֶה הִשְׁפִּיעַ עַל בִּיצּוּעֵי הַכּוֹחוֹת הַמִּצְרִיִּים שֶׁנֶּעֶצְרוּ \n",
      "רצוי:  עַל יְדֵי הַכּוֹחוֹת. כָּל זֶה הִשְׁפִּיעַ עַל בִּיצּוּעֵי הַכּוֹחוֹת הַמִּצְרִיִּים שֶׁנֶּעֶצְרוּ \n",
      "מצוי:  בָּרֶגַע שֶׁנִּתְקְלוּ בְּהִתְנַגְּדוּת מִצַּד הַצָּבָא הַיִּשְׂרְאֵלִי, וְלֹא גִּילוּ הִתְאַמְּצוּ לְהִתְמוֹדֵד \n",
      "רצוי:  בָּרֶגַע שֶׁנִּתְקְלוּ בְּהִתְנַגְּדוּת מִצַּד הַצָּבָא הַיִּשְׂרְאֵלִי, וְלֹא גִּילּוּ הִתְאַמְּצוּ לְהִתְמוֹדֵד \n",
      "מצוי:  מוּלוֹ כְּפִי שֶׁהָיָה צָרִיךְ, וְלֹא גִּילוּ נְחִישׁוּת כְּפִי שֶׁעָשׂוּ בְּמִבְצַע הִצְלִיחָה. \n",
      "רצוי:  מוּלוֹ כְּפִי שֶׁהָיָה צָרִיךְ, וְלֹא גִּילּוּ נְחִישׁוּת כְּפִי שֶׁעָשׂוּ בְּמִבְצַע הִצְלִיחָה. \n",
      "מצוי:  הַמְּפַקְּדִים הַמִּצְרִיִּים בְּרָמוֹת הַבְּכִירוּת לֹא הִתְאַמְּצוּ יֶתֵר עַל הַמִּידָּה, וְאַף \n",
      "רצוי:  הַמְּפַקְּדִים הַמִּצְרִיִּים בָּרָמוֹת הַבְּכִירוֹת לֹא הִתְאַמְּצוּ יֶתֶר עַל הַמִּידָּה, וְאַף \n",
      "מצוי:  נִמְנְעוּ מִלְּסַיֵּיעַ לְכוֹחוֹתֵיהֶם הַקַּדְמִיִּים שֶׁנִּלְחֲמוּ מוּל הַצָּבָא הַיִּשְׂרְאֵלִי בְּכָל \n",
      "רצוי:  נִמְנְעוּ מִלְּסַיֵּיעַ לְכוֹחוֹתֵיהֶם הַקִּדְמִיִּים שֶׁנִּלְחֲמוּ מוּל הַצָּבָא הַיִּשְׂרְאֵלִי בְּכָל \n",
      "מצוי:  הָאֶמְצָעִים שֶׁעָמְדוּ לִרְשׁוּתָם. תּוֹךְ פֶּרֶק זְמַן קָצָר יַחֲסִית מִתְּחִילַּת הַמִּתְקָפָה \n",
      "רצוי:  הָאֶמְצָעִים שֶׁעָמְדוּ לִרְשׁוּתָם. תּוֹךְ פֶּרֶק זְמַן קָצָר יַחֲסִית מִתְּחִילַּת הַמִּתְקָפָה \n",
      "מצוי:  הַמִּצְרִית, בְּשֶׁל הָאַבְדוּת הַכְּבֵדוֹת, הוֹרוּ הַמְּפַקְּדִים הַמִּצְרִיִּים לְכוֹחוֹתֵיהֶם \n",
      "רצוי:  הַמִּצְרִית, בְּשֶׁל הָאֲבֵדוֹת הַכְּבֵדוֹת, הוֹרוּ הַמְּפַקְּדִים הַמִּצְרִיִּים לְכוֹחוֹתֵיהֶם \n",
      "מצוי:  לַחֲזוֹר עַל עִקְבוֹתֵיהֶם לְרָאשֵׁי הַגֶּשֶׁר הַבְּטוּחִים וְלֹא לְהִישָּׁאֵר בִּמְקוֹמוֹתֵיהֶם \n",
      "רצוי:  לַחֲזוֹר עַל עִקְבוֹתֵיהֶם לְרָאשֵׁי הַגֶּשֶׁר הַבְּטוּחִים וְלֹא לְהִישָּׁאֵר בִּמְקוֹמוֹתֵיהֶם \n",
      "מצוי:  בְּקַוִּוים אֲלֵיהֶם הִגִּיעוּ ( פֶּסַח מְלוּבָּנִי, )5555. בְּעִקְבוֹת מָה שֶׁקָּרָה בּ55 \n",
      "רצוי:  בַּקַּוִּוים אֲלֵיהֶם הִגִּיעוּ ( פָּסַח מִלּוֹבְנִי, )5555. בְּעִקְבוֹת מָה שֶׁקָּרָה בַּ55 \n",
      "מצוי:  לְאוֹקְטוֹבֶּר בַּחֲזִית הַמִּצְרִית, נָטָה הַמַּצָּב מִכָּאן וָאֵילָךְ לְטוֹבַת הַכּוֹחוֹת \n",
      "רצוי:  לְאוֹקְטוֹבֶּר בַּחֲזִית הַמִּצְרִית, נָטָה הַמַּצָּב מִכָּאן וְאֵילָךְ לְטוֹבַת הַכּוֹחוֹת \n",
      "מצוי:  הַיִּשְׂרְאֵלִיִּים, וְהִתְפַּתֵּחַ בְּצוּרָה מְסוּכֶּנֶת מִבְּחִינַת הַמִּצְרִים, וְזֹאת עַד לְסִיּוּם \n",
      "רצוי:  הַיִּשְׂרְאֵלִיִּים, וְהִתְפַּתֵּחַ בְּצוּרָה מְסוּכֶּנֶת מִבְּחִינַת הַמִּצְרִים, וְזֹאת עַד לְסִיּוּם \n",
      "מצוי:  הַמִּלְחָמָה. הַכּוֹחוֹת הַמִּצְרִים לֹא הִצְלִיחוּ לִסְתּוֹם אֶת \"הַפִּירָצָה\" דַּרְכּוֹ צָלְחוּ \n",
      "רצוי:  הַמִּלְחָמָה. הַכּוֹחוֹת הַמִּצְרִים לֹא הִצְלִיחוּ לִסְתּוֹם אֶת \"הַפִּירְצָה\" דַּרְכּוֹ צָלְחוּ \n",
      "מצוי:  הַכּוֹחוֹת הַיִּשְׂרְאֵלִיִּים אֶל מִמַּעֲרָב לְתַעֲלָה, וְלֹא הִצְלִיחוּ לִמְנוֹעַ מֵהַכּוֹחוֹת הַלָּלוּ \n",
      "רצוי:  הַכּוֹחוֹת הַיִּשְׂרְאֵלִיִּים אֶל מִמַּעֲרָב לַתְּעָלָה, וְלֹא הִצְלִיחוּ לִמְנוֹעַ מֵהַכּוֹחוֹת הַלָּלוּ \n",
      "מצוי:  לִפְעוֹל בְּהַצְלָחָה רַבָּה כְּנֶגֶד עוֹרֶף כּוֹחוֹתֵיהֶם בָּגָדָה הַמַּעֲרָבִית, הֵם נוֹתְרוּ \n",
      "רצוי:  לִפְעוֹל בְּהַצְלָחָה רַבָּה כְּנֶגֶד עוֹרֶף כּוֹחוֹתֵיהֶם בַּגָּדָה הַמַּעֲרָבִית, הֵם נוֹתְרוּ \n",
      "מצוי:  חַסְרֵי אוֹנִים מוּל פְּעוּלַּת הַכִּיתּוּר שֶׁל אֲרְמִיָה 5 שֶׁכּוֹחוֹתֶיהָ הָיוּ עֲרוּכִים \n",
      "רצוי:  חַסְרֵי אוֹנִים מוּל פְּעוּלַּת הַכִּיתּוּר שֶׁל אַרְמִיָּה 5 שֶׁכּוֹחוֹתֶיהָ הָיוּ עֲרוּכִים \n",
      "מצוי:  מִמִּזְרָח לַתַעֲלָה. הַכּוֹחוֹת הַיִּשְׂרְאֵלִיִּים סִייְּמוּ אֶת הַמִּלְחָמָה בְּמֶרְחָק שֶׁל 555 ק\"מ \n",
      "רצוי:  מִמִּזְרָח לַתְּעָלָה. הַכּוֹחוֹת הַיִּשְׂרְאֵלִיִּים סִייְּמוּ אֶת הַמִּלְחָמָה בְּמֶרְחָק שֶׁל 555 ק\"מ \n",
      "מצוי:  מַקְהִיר, וְלֹא כְּפִי שֶׁהַמְּצְרִים צִיפּוּ שֶׁתִּסְתַּיֵּים.\n",
      "רצוי:  מִקָּהִיר, וְלֹא כְּפִי שֶׁהַמִּצְרִים צִיפּוּ שֶׁתִּסְתַּיֵּים.\n",
      "מצוי:  לִפְנֵי שִׁבְעִים וְחָמֵשׁ שָׁנִים, בְּקֶרֶב עַל הַבַּלִיטָה שֶׁנִּמְשַׁךְ מַה-55 בְּדֵצֶמְבֶּר 5555 \n",
      "רצוי:  לִפְנֵי שִׁבְעִים וְחָמֵשׁ שָׁנִים, בַּקְּרָב עַל הַבְּלִיטָה שֶׁנִּמְשַׁךְ מַה-55 בְּדֵצֶמְבֶּר 5555 \n",
      "מצוי:  עַד הַ-55 בְּיָנוּאָר 55 5555, אַרְהָ\"ב סָפְגָה אֶת מִסְפַּר הָאַבְדוּת הָרַב בְּיוֹתֵר \n",
      "רצוי:  עַד הַ-55 בְּיָנוּאָר 55 5555, אַרְהָ\"ב סָפְגָה אֶת מִסְפַּר הָאֲבֵדוֹת הָרַב בְּיוֹתֵר \n",
      "מצוי:  מֵאֲשֶׁר כָּל קְרָב אַחֵר בַּהִיסְטוֹרְיָה שֶׁלָּהּ. כִּמְעַט 55,555 חַיָּילִים נֶהֶרְגוּ, \n",
      "רצוי:  מֵאֲשֶׁר כָּל קְרָב אַחֵר בַּהִיסְטוֹרְיָה שֶׁלָּהּ. כִּמְעַט 55,555 חַיָּילִים נֶהֶרְגוּ, \n",
      "מצוי:  55,555 נִפְצְעוּ וְ-55 אֶלֶף דַּוְוחוּ כְּנֶעֲדָרִים. צְבָאוֹת בְּרִיטַנְיָה וְאַרְהָ\"ב \n",
      "רצוי:  55,555 נִפְצְעוּ וְ-55 אֶלֶף דּוְּוחוּ כְּנֶעֱדָרִים. צְבָאוֹת בְּרִיטַנְיָה וְאַרְהָ\"ב \n",
      "מצוי:  הוּפְתְּעוּ לַחֲלוּטִין מִמִּתְקָפָה הַגֶּרְמָנִית הַנּוֹאֶשֶׁת כִּמְעַט, בְּהִינָּתֵן הָעוּבְדָּה \n",
      "רצוי:  הוּפְתְּעוּ לַחֲלוּטִין מִמִּתְקָפָה הַגֶּרְמָנִית הַנּוֹאֶשֶׁת כִּמְעַט, בְּהִינָּתֵן הָעוּבְדָּה \n",
      "מצוי:  שֶׁכּוּחוֹת בַּעֲלוּת הַבְּרִית הָיוּ קְרוֹבִים לְנָהַר הֲרַיְין וּמוּכָנִים לַחֲצוֹת אוֹתוֹ \n",
      "רצוי:  שֶׁכּוֹחוֹת בַּעֲלוֹת הַבְּרִית הָיוּ קְרוֹבִים לִנְהַר הֲרַיְין וּמוּכָנִים לַחֲצוֹת אוֹתוֹ \n",
      "מצוי:  כְּדֵי לְחַסֵּל סוֹפִית אֶת הָרַיֶיךְ הַשְּׁלִישִׁי הַמוֹכָה. אֲבָל הָאָמֵרִיקָנִים גַּם הָיוּ \n",
      "רצוי:  כְּדֵי לְחַסֵּל סוֹפִית אֶת הָרַיְיךְ הַשְּׁלִישִׁי הַמּוּכֶּה. אֲבָל הָאָמֵרִיקָנִים גַּם הָיוּ \n",
      "מצוי:  מוּתָשִׁים מֵהִתְקַדְּמוּת הַמְּהִירָה שֶׁעָשׂוּ בְּמֶשֶׁךְ הֵקַיִץ בְּמַטָּרָה לְשַׁחְרֵר אֶת רוֹב צָרְפַת \n",
      "רצוי:  מוּתָּשִׁים מֵהִתְקַדְּמוּת הַמְּהִירָה שֶׁעָשׂוּ בְּמֶשֶׁךְ הַקַּיִץ בְּמַטָּרָה לְשַׁחְרֵר אֶת רוֹב צָרְפַת \n",
      "מצוי:  וּבְלְגְיָה. בְּשַׁאֲנַנוּתָם, הֵם לֹא דָּאֲגוּ מֵהַשּׁוּרוֹת הַמְּדַלְדְּלוֹת, מְחַיְּילִים צְעִירִים \n",
      "רצוי:  וּבֶלְגִּיָּה. בְּשַׁאֲנַנּוּתָם, הֵם לֹא דָּאֲגוּ מֵהַשּׁוּרוֹת הַמְּדַלְדְּלוֹת, מֵחַיָּילִים צְעִירִים \n",
      "מצוי:  שֶׁקּוּדְמוּ לַחֲזִית אוֹ מִצָּבָא גֶּרְמַנְיָה שֶׁעֲדַיִין לֹא נֵס לָחוּ. אַחֲרֵי הַכֹּל, גֶּרְמַנְיָה \n",
      "רצוי:  שֶׁקּוּדְּמוּ לַחֲזִית אוֹ מִצְּבָא גֶּרְמַנְיָה שֶׁעֲדַיִין לֹא נָס לֵחוֹ. אַחֲרֵי הַכֹּל, גֶּרְמַנְיָה \n",
      "מצוי:  הַנָּאצִית הוֹכְּתָה מִכָּל עָבָר עַל יְדֵי הָאָמֵרִיקָנִים, הַבְּרִיטִים, הַקְּנֵדִים \n",
      "רצוי:  הַנָּאצִית הוּכְּתָה מִכָּל עֵבֶר עַל יְדֵי הָאָמֵרִיקָנִים, הַבְּרִיטִים, הַקָּנָדִים \n",
      "מצוי:  וְהָרוֹסִים. עֶרְיָה הָיוּ לְעִיֵּי חוֹרְבוֹת מֵהַפְגָּזוֹת כְּבֵדוֹת. הִסְתַּבֵּר שֶׁהַצַּד הַמַּפְסִיד \n",
      "רצוי:  וְהָרוּסִים. עָרֶיהָ הָיוּ לְעִיֵּי חוֹרְבוֹת מֵהַפְגָּזוֹת כְּבֵדוֹת. הִסְתַּבֵּר שֶׁהַצַּד הַמַּפְסִיד \n"
     ]
    }
   ],
   "source": [
    "model.load_weights('./checkpoints/modern')\n",
    "\n",
    "def print_predictions(data, k):\n",
    "    s = slice(k*BATCH_SIZE, (k+1)*BATCH_SIZE)\n",
    "    batch = data.normalized[s]\n",
    "    prediction = model.predict(batch)\n",
    "    [actual_niqqud, actual_dagesh, actual_sin] = [dataset.from_categorical(prediction[0]), dataset.from_categorical(prediction[1]), dataset.from_categorical(prediction[2])]\n",
    "    [expected_niqqud, expected_dagesh, expected_sin] = [data.niqqud[s], data.dagesh[s], data.sin[s]]\n",
    "    actual = dataset.merge(batch, ns=actual_niqqud, ds=actual_dagesh, ss=actual_sin)\n",
    "    expected = dataset.merge(batch, ns=expected_niqqud, ds=expected_dagesh, ss=expected_sin)\n",
    "    for i, (a, e) in enumerate(zip(actual, expected)):\n",
    "        print('מצוי: ', a)\n",
    "        print('רצוי: ', e)\n",
    "\n",
    "print_predictions(data_modern[1], 6)"
   ]
  },
  {
   "cell_type": "code",
   "execution_count": null,
   "metadata": {},
   "outputs": [],
   "source": [
    "shutil.rmtree(os.sep.join([tempfile.gettempdir(), '.tensorboard-info']), ignore_errors=True)\n",
    "shutil.rmtree('logs', ignore_errors=True)\n",
    "os.makedirs('logs')\n",
    "# %tensorboard --logdir logs"
   ]
  },
  {
   "cell_type": "code",
   "execution_count": null,
   "metadata": {},
   "outputs": [],
   "source": [
    "print(data_modern[1].text[0])\n",
    "print(data_modern[1].text[1])"
   ]
  },
  {
   "cell_type": "code",
   "execution_count": null,
   "metadata": {},
   "outputs": [],
   "source": []
  }
 ],
 "metadata": {
  "kernelspec": {
   "display_name": "Python 3",
   "language": "python",
   "name": "python3"
  },
  "language_info": {
   "codemirror_mode": {
    "name": "ipython",
    "version": 3
   },
   "file_extension": ".py",
   "mimetype": "text/x-python",
   "name": "python",
   "nbconvert_exporter": "python",
   "pygments_lexer": "ipython3",
   "version": "3.7.4"
  }
 },
 "nbformat": 4,
 "nbformat_minor": 4
}
