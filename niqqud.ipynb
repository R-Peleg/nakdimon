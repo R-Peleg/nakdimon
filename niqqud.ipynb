{
 "cells": [
  {
   "cell_type": "code",
   "execution_count": null,
   "metadata": {},
   "outputs": [],
   "source": [
    "import os\n",
    "import numpy as np\n",
    "from tensorflow import keras\n",
    "from tensorflow.keras import layers\n",
    "\n",
    "import dataset\n",
    "from dataset import CircularLearningRate\n",
    "\n",
    "from tensorflow import config\n",
    "assert config.list_physical_devices('GPU')"
   ]
  },
  {
   "cell_type": "code",
   "execution_count": 17,
   "metadata": {
    "scrolled": true
   },
   "outputs": [
    {
     "name": "stdout",
     "output_type": "stream",
     "text": [
      "Model: \"model_4\"\n",
      "__________________________________________________________________________________________________\n",
      "Layer (type)                    Output Shape         Param #     Connected to                     \n",
      "==================================================================================================\n",
      "input_3 (InputLayer)            [(None, 64)]         0                                            \n",
      "__________________________________________________________________________________________________\n",
      "embedding_2 (Embedding)         (None, 64, 110)      4840        input_3[0][0]                    \n",
      "__________________________________________________________________________________________________\n",
      "bidirectional_4 (Bidirectional) (None, 64, 220)      582560      embedding_2[0][0]                \n",
      "__________________________________________________________________________________________________\n",
      "bidirectional_5 (Bidirectional) (None, 64, 220)      776160      bidirectional_4[0][0]            \n",
      "__________________________________________________________________________________________________\n",
      "add_2 (Add)                     (None, 64, 220)      0           bidirectional_4[0][0]            \n",
      "                                                                 bidirectional_5[0][0]            \n",
      "__________________________________________________________________________________________________\n",
      "lstm_8 (LSTM)                   (None, 64)           72960       add_2[0][0]                      \n",
      "__________________________________________________________________________________________________\n",
      "dense_7 (Dense)                 (None, 64, 16)       3536        add_2[0][0]                      \n",
      "__________________________________________________________________________________________________\n",
      "dense_8 (Dense)                 (None, 64, 3)        663         add_2[0][0]                      \n",
      "__________________________________________________________________________________________________\n",
      "dense_9 (Dense)                 (None, 64, 4)        884         add_2[0][0]                      \n",
      "__________________________________________________________________________________________________\n",
      "dense_10 (Dense)                (None, 6)            390         lstm_8[0][0]                     \n",
      "__________________________________________________________________________________________________\n",
      "N (Softmax)                     (None, 64, 16)       0           dense_7[0][0]                    \n",
      "__________________________________________________________________________________________________\n",
      "D (Softmax)                     (None, 64, 3)        0           dense_8[0][0]                    \n",
      "__________________________________________________________________________________________________\n",
      "S (Softmax)                     (None, 64, 4)        0           dense_9[0][0]                    \n",
      "__________________________________________________________________________________________________\n",
      "K (Softmax)                     (None, 6)            0           dense_10[0][0]                   \n",
      "==================================================================================================\n",
      "Total params: 1,441,993\n",
      "Trainable params: 1,441,993\n",
      "Non-trainable params: 0\n",
      "__________________________________________________________________________________________________\n"
     ]
    }
   ],
   "source": [
    "BATCH_SIZE = 32\n",
    "MAXLEN = 64\n",
    "\n",
    "LETTERS_SIZE = len(dataset.letters_table)\n",
    "NIQQUD_SIZE = len(dataset.niqqud_table)\n",
    "DAGESH_SIZE = len(dataset.dagesh_table)\n",
    "SIN_SIZE = len(dataset.sin_table)\n",
    "KINDS_SIZE = len(dataset.KINDS)\n",
    "\n",
    "def build_model(EMBED_DIM=110, UNITS=220):\n",
    "\n",
    "    layer = input_text = keras.Input(batch_shape=(None, MAXLEN), batch_size=BATCH_SIZE)\n",
    "    \n",
    "    layer = layers.Embedding(LETTERS_SIZE, EMBED_DIM, input_length=MAXLEN, mask_zero=True)(layer)\n",
    "    layer = layers.Bidirectional(layers.LSTM(UNITS, return_sequences=True, dropout=0.1), merge_mode='sum')(layer)\n",
    "    layer = layers.add([layer,\n",
    "            layers.Bidirectional(layers.LSTM(UNITS, return_sequences=True, dropout=0.1), merge_mode='sum')(layer)])\n",
    "    \n",
    "    outputs = [\n",
    "        layers.Softmax(name='N')(layers.Dense(NIQQUD_SIZE)(layer)),\n",
    "        layers.Softmax(name='D')(layers.Dense(DAGESH_SIZE)(layer)),\n",
    "        layers.Softmax(name='S')(layers.Dense(SIN_SIZE)(layer)),\n",
    "        layers.Softmax(name='K')(layers.Dense(KINDS_SIZE)(layers.LSTM(64)(layer)))\n",
    "    ]\n",
    "    model = keras.Model(inputs=[input_text], outputs=outputs)\n",
    "\n",
    "    jsmodel = keras.Model(inputs=[input_text], outputs=outputs[:-1])\n",
    "    # keras.utils.plot_model(model, to_file='model.png')\n",
    "    return model, jsmodel\n",
    "\n",
    "model, jsmodel = build_model()\n",
    "\n",
    "model.summary()\n",
    "model.save_weights('./checkpoints/uninit')"
   ]
  },
  {
   "cell_type": "code",
   "execution_count": 3,
   "metadata": {},
   "outputs": [],
   "source": [
    "def fit(train_validation, scheduler, verbose=1):\n",
    "    train, valid = train_validation\n",
    "    model.compile(loss='sparse_categorical_crossentropy', optimizer='adam', metrics=['accuracy'])\n",
    "    callbacks = []\n",
    "    if isinstance(scheduler, CircularLearningRate):\n",
    "        scheduler.set_dataset(train, BATCH_SIZE)\n",
    "    if scheduler:\n",
    "        callbacks.append(scheduler)\n",
    "        \n",
    "    x  = train.normalized\n",
    "    vx = valid.normalized\n",
    "    #     train.kind = np.ones((len(train), 1))\n",
    "    #     valid.kind = np.ones((len(valid), 1))\n",
    "    y  = {'N': train.niqqud, 'D': train.dagesh, 'S': train.sin, 'C': train.normalized, 'K': train.kind }\n",
    "    vy = {'N': valid.niqqud, 'D': valid.dagesh, 'S': valid.sin, 'C': valid.normalized, 'K': valid.kind }\n",
    "    return model.fit(x, y, validation_data=(vx, vy), batch_size=BATCH_SIZE, epochs=1, verbose=verbose, callbacks=callbacks)\n"
   ]
  },
  {
   "cell_type": "code",
   "execution_count": 4,
   "metadata": {},
   "outputs": [],
   "source": [
    "def load_data(source, maxlen=MAXLEN, validation=0.1):\n",
    "    filenames = [os.path.join('texts', f) for f in source]\n",
    "    train, valid = dataset.load_data(filenames, validation, maxlen=maxlen)\n",
    "    return train, valid"
   ]
  },
  {
   "cell_type": "code",
   "execution_count": null,
   "metadata": {},
   "outputs": [],
   "source": [
    "data_rabanit = load_data(['rabanit'])"
   ]
  },
  {
   "cell_type": "code",
   "execution_count": null,
   "metadata": {},
   "outputs": [],
   "source": [
    "data_pre_modern = load_data(['pre_modern'])"
   ]
  },
  {
   "cell_type": "code",
   "execution_count": 5,
   "metadata": {},
   "outputs": [
    {
     "name": "stdout",
     "output_type": "stream",
     "text": [
      "(13856,)\n",
      "(13856, 64)\n"
     ]
    }
   ],
   "source": [
    "data_modern = load_data(validation=0.2, source=['modern'])"
   ]
  },
  {
   "cell_type": "code",
   "execution_count": 8,
   "metadata": {},
   "outputs": [
    {
     "name": "stdout",
     "output_type": "stream",
     "text": [
      "(154697,)\n",
      "(154697, 64)\n"
     ]
    }
   ],
   "source": [
    "data_all = load_data(validation=0.1, source=['biblical', 'rabanit', 'pre_modern', 'modern'])"
   ]
  },
  {
   "cell_type": "code",
   "execution_count": null,
   "metadata": {},
   "outputs": [],
   "source": [
    "model.load_weights('./checkpoints/uninit')\n",
    "history = fit(data_rabanit, scheduler=CircularLearningRate(20e-4, 50e-4, 5e-4))\n",
    "model.save_weights('./checkpoints/rabanit')"
   ]
  },
  {
   "cell_type": "code",
   "execution_count": null,
   "metadata": {},
   "outputs": [],
   "source": [
    "model.load_weights('./checkpoints/rabanit')\n",
    "history = fit(data_pre_modern, scheduler=CircularLearningRate(20e-4, 40e-4, 0.1e-4))\n",
    "model.save_weights('./checkpoints/pre_modern')"
   ]
  },
  {
   "cell_type": "code",
   "execution_count": 6,
   "metadata": {},
   "outputs": [
    {
     "name": "stdout",
     "output_type": "stream",
     "text": [
      "Train on 13856 samples, validate on 3464 samples\n",
      "13856/13856 [==============================] - 29s 2ms/sample - loss: 1.1777 - N_loss: 0.5031 - D_loss: 0.1207 - S_loss: 0.0247 - K_loss: 0.5293 - N_accuracy: 0.8198 - D_accuracy: 0.9525 - S_accuracy: 0.9941 - K_accuracy: 0.9978 - val_loss: 0.8426 - val_N_loss: 0.2496 - val_D_loss: 0.0695 - val_S_loss: 0.0068 - val_K_loss: 0.5169 - val_N_accuracy: 0.9101 - val_D_accuracy: 0.9720 - val_S_accuracy: 0.9981 - val_K_accuracy: 1.0000\n"
     ]
    }
   ],
   "source": [
    "model.load_weights('./checkpoints/pre_modern')\n",
    "history = fit(data_modern, scheduler=CircularLearningRate(6e-3, 6e-3, 0.5e-3))\n",
    "# history = fit(data_modern, CircularLearningRate(1e-3, 2e-3, 0.5e-3))\n",
    "model.save_weights('./checkpoints/modern')"
   ]
  },
  {
   "cell_type": "code",
   "execution_count": 23,
   "metadata": {},
   "outputs": [
    {
     "name": "stdout",
     "output_type": "stream",
     "text": [
      "Train on 154697 samples, validate on 17189 samples\n",
      "154697/154697 [==============================] - 220s 1ms/sample - loss: 1.0118 - N_loss: 0.4164 - D_loss: 0.1006 - S_loss: 0.0179 - K_loss: 0.4768 - N_accuracy: 0.8534 - D_accuracy: 0.9610 - S_accuracy: 0.9959 - K_accuracy: 0.7872 - val_loss: 0.4476 - val_N_loss: 0.2008 - val_D_loss: 0.0576 - val_S_loss: 0.0052 - val_K_loss: 0.1839 - val_N_accuracy: 0.9294 - val_D_accuracy: 0.9774 - val_S_accuracy: 0.9986 - val_K_accuracy: 0.9333\n"
     ]
    }
   ],
   "source": [
    "model.load_weights('./checkpoints/uninit')\n",
    "history = fit(data_all, scheduler=CircularLearningRate(20e-4, 80e-4, 5e-4))\n",
    "# history = fit(data_modern, CircularLearningRate(1e-3, 2e-3, 0.5e-3))\n",
    "model.save_weights('./checkpoints/all')"
   ]
  },
  {
   "cell_type": "code",
   "execution_count": null,
   "metadata": {},
   "outputs": [],
   "source": [
    "import matplotlib.pyplot as plt\n",
    "\n",
    "fig, ax = plt.subplots(nrows=2, ncols=2)\n",
    "\n",
    "for n, v in enumerate(['accuracy', 'loss'], 0):\n",
    "    for n1, t in enumerate(['D', 'N'], 0):\n",
    "        p = ax[n][n1]\n",
    "        p.plot(history.history[t + '_' + v][0:])\n",
    "        p.plot(history.history['val_' + t + '_' +  v][0:])\n",
    "        p.legend([t + '_Train', t + '_Test'], loc='center right')\n",
    "\n",
    "plt.tight_layout()"
   ]
  },
  {
   "cell_type": "code",
   "execution_count": null,
   "metadata": {},
   "outputs": [],
   "source": [
    "jsmodel.summary()"
   ]
  },
  {
   "cell_type": "code",
   "execution_count": null,
   "metadata": {},
   "outputs": [],
   "source": [
    "import tensorflowjs as tfjs\n",
    "jsmodel.load_weights('./checkpoints/modern')\n",
    "tfjs.converters.save_keras_model(jsmodel, '.')"
   ]
  },
  {
   "cell_type": "code",
   "execution_count": 20,
   "metadata": {
    "scrolled": true
   },
   "outputs": [
    {
     "name": "stdout",
     "output_type": "stream",
     "text": [
      "מצוי:  תּוֹהוֹת בְּאֶפֶס תִּקְוָה, עַל-כָּל-פָּרָשַׁת דְּרָכִים וְלְיַד כָּל-רֹאשׁ נְתִיבוֹת: הַיָּבֹא  3\n",
      "רצוי:  תּוֹהוֹת בְּאֶפֶס תִּקְוָה, עַל-כָּל-פָּרָשַׁת דְּרָכִים וּלְיַד כָּל-רֹאשׁ נְתִיבוֹת: הֲיָבֹא  3\n",
      "מצוי:  הִזְחִילוּ אֶל מִתַּחַת לְרִצְפָּה, וְדָגִים שׁוּחִים בְּתוֹךְ הַמַּיִם. וַיָּבֹא שְׁלֹמֹה וַיָּשַׁב עַל  3\n",
      "רצוי:  הִזְחִילוּ אֶל מִתַּחַת לָרִצְפָּה, וְדָגִים שׂוֹחִים בְּתֹוךְ הַמַּיִם. וַיָּבֹא שְׁלֹמֹה וַיֵּשֶׁב עַל  3\n",
      "מצוי:  יִשְׂרְאֵלִית לֹא תִּתְיַחַד עִם גּוֹי אֲפִילוּ אִשְׁתּוֹ עִמּוֹ וַאֲפִלּוּ הֵם הַרְבֵּה גּוִיִם  1\n",
      "רצוי:  יִשְׂרָאֵלית לֹא תִתְיַחֵד עִם גּוֹי אֲפִילוּ אִשְׁתּוֹ עִמוֹ וַאֲפִלּוּ הֵם הַרְבֵּה גוֹיִם  1\n",
      "מצוי:  וּכְעָבֹר רֶגַע כְּבָר יָשַׁבְנוּ עַל הַחוֹל וּלְעַסְנוּ בִּיסְקוִיט וּבָשָׂר מִמֶּלָּח. הַשּׁוֹדְדִים  4\n",
      "רצוי:  וְכַעֲבֹר רֶגַע כְּבָר יָשַׁבְנוּ עַל הַחוֹל וְלָעַסְנוּ בִּיסְקְוִיט וּבָשָׂר מְמֻלָח. הַשׁוֹדְדִים  3\n",
      "מצוי:  מְיֻחָד לָאָדָם בִּמָקוֹם אַחֵר--בִּמְקוֹם שְׁהוּא מְיֻחָד בּוֹ, אֵינוּ צָרִיךְ מַחְשָׁבָה לְיַחֲדוֹ  1\n",
      "רצוי:  מְיֻחָד לָאָדָם בְּמָקוֹם אַחֵר--בִּמְקוֹם שְׁהוּא מְיֻחָד בּוֹ, אֵינוּ צָרִיךְ מַחְשָׁבָה לְיַחֲדוֹ  1\n",
      "מצוי:  אוֹ עַל הַגְּוִיל, כְּשֵׁרָה; לֹא נֶאְמְרָה עַל הַדּוֹכְסוֹסְטוֹס, אֶלָּא לַמִּצְוָה. אֵין  1\n",
      "רצוי:  אוֹ עַל הַגָּוִיל, כְּשֵׁרָה; לֹא נֶאְמְרָה עַל הַדּוּכְסוּסְטוֹס, אֵלָא לְמִצְוָה. אֵין  1\n",
      "מצוי:  הָאֲכִילָן מִשֶּׁלוֹ, נוֹטֵל מִן הַבְּעָלִים; וְיֵרְאֶה לִי שֶׁהוּא נוֹטֵל בְּלֹא שְׁבוּעָה,  1\n",
      "רצוי:  הֶאֱכִילָן מִשֶּׁלּוֹ, נוֹטֵל מִן הַבְּעָלִים; וְיֵרָאֶה לִי שְׁהוּא נוֹטֵל בְּלֹא שְׁבוּעָה,  1\n",
      "מצוי:  עַצְמָהּ, כְּגוֹן שֶׁהוּקְרָה בְּדָמִים אוֹ עָלוּ בָּהּ אִילָנוֹת--גּוֹבֶה אֶת כֻּלָּהּ. הוֹרוּ  1\n",
      "רצוי:  עַצְמָהּ, כְּגוֹן שֶׁהוּקְרָה בְּדָמִים אוֹ עָלוּ בָּהּ אִילָנוֹת--גּוֹבֶה אֶת כֻּלָּהּ. הוֹרוּ  1\n",
      "מצוי:  לָהּ, תִּהְיֶה לְךָ תּוֹעֶלֶת כִּי תְקַבֹּלֶנָה: יָרֵא בְּכָל עֵת O לְגַלּוֹת לְאִישׁ רַע פַּרְעָנוֹת  3\n",
      "רצוי:  לָהּ, תִּהְיֶה לְךָ תּוֹעֶלֶת כִּי תְּקַבְּלֶנָּה: יְרָא בְּכָל עֵת O לְגַלּוֹת לְאִישׁ רָע פֻּרְעָנוּת  3\n",
      "מצוי:  הָעֲצָמוֹת, וְהַגִּידִים, וְהַקְּרְנַיִם, וְהַטְּלָפִים, וְהַנּוֹצָה שֶׁלָּעוֹף, וְהַצִּפָרָנִים,  1\n",
      "רצוי:  הָעֲצָמוֹת, וְהַגִּידִים, וְהַקְּרָנַיִם, וְהַטְּלַפַּיִם, וְהַנּוֹצָה שֶׁלְּעוֹף, וְהַצִּפָּרְנַיִם,  1\n",
      "מצוי:  פָּרְיָה וּרְבִיהָ, אוֹ שֶׁהָיְתָה לוֹ אִשָּׁה אַחֶרֶת לִפֵרוֹת וּלְרַבּוֹת מִמֶּנָּה. נָשָׂא אִשָּׁה  1\n",
      "רצוי:  פִּרְיָה וְרִבְיָה, אוֹ שֶׁהָיְתָה לוֹ אִשָּׁה אַחֶרֶת לִפְרוֹת וְלִרְבּוֹת מִמֶּנָּה. נָשָׂא אִשָּׁה  1\n",
      "מצוי:  בַּקֵּשׁ, אוֹ אֲפוּצָה, וּגְבוֹהָה מִן הָאָרֶץ טֶפַח, וְטֻמְאָה תַּחְתֶּיהָ אוֹ בַּבַיִת אוֹ  1\n",
      "רצוי:  בְּקַשׁ, אוֹ אֲפוּצָה, וּגְבוֹהָה מִן הָאָרֶץ טֶפַח, וְטֻמְאָה תַּחְתֶּיהָ אוֹ בַּבַּיִת אוֹ  1\n",
      "מצוי:  הִלַכְנוּ מִשָּׁם. \"אַבָּא,\" שָׁאַלְתִּי, \"מַה יִּהְיֶה אִתּוֹ עַכְשָׁו?\" \"הוּא לֹא יִהְיֶה  3\n",
      "רצוי:  הָלַכְנוּ מִשָׁם. \"אַבָּא,\" שָׁאַלְתִּי, \"מָה יִהְיֶה אִתּוֹ עַכְשָׁו?\" \"הוּא לֹא יִהְיֶה  3\n",
      "מצוי:  לְעֲרֶךְ לוֹ וּלְהַדְמוֹת אֵלָיו, אַף כִּי חִתוּ הָאֵלִים מִמֶּנּוּ\". חָרָה אַף מַרְגִּיז-הָאָרֶץ  3\n",
      "רצוי:  לַעֲרֹךְ לוֹ וּלְהִדַּמּוֹת אֵלָיו, אַף כִּי חַתּוּ הָאֵלִים מִמֶּנּוּ\". חָרָה אַף מַרְגִּיז-הָאָרֶץ  3\n",
      "מצוי:  וּמְעִידִין בָּהֶן בִּפְנֵי הָאַפְטְרוּפִין. הִזִּיקוֹ אַחַר שֶׁהוּעֲדוּ בִּפְנֵי אַפְטְרוּפִין--אִם  1\n",
      "רצוי:  וּמְעִידִין בָּהֶן בִּפְנֵי הָאַפְטְרוּפִין. הִזִּיקוּ אַחַר שֶׁהוּעֲדוּ בִּפְנֵי אַפְטְרוּפִין--אִם  1\n",
      "מצוי:  תָּמוּת. הָיְתָה נְחְבָּאת אֲחוֹרֵי הַדֶּלֶת, אוֹ בַּסְּתֶר הַמִּדְרֵגָה--הֲרֵי זוֹ אֲבוֹדָה,  1\n",
      "רצוי:  תָּמוּת. הָיְתָה נֶחְבֵּאת אֲחוֹרֵי הַדֶּלֶת, אוֹ בְּסֵתֶר הַמַּדְרֵגָה--הֲרֵי זוֹ אֲבוּדָה,  1\n",
      "מצוי:  הַמַּדָּע OOO OOOOOOOOOOOO פִּבְרוּאר 55, 5555 5 תְּגוּבוֹת רְכִיבִים מֵהַמַדָּף  4\n",
      "רצוי:  הַמַּדָּע OOO OOOOOOOOOOOO פֶבְּרוּאָר 55, 5555 5 תְּגוּבוֹת רְכִיבִים מֵהַמַּדָּף  4\n",
      "מצוי:  אֵי-הַשְּׁלָדִים דּוּמָם וְחָלַק, כְּפִי שֶׁמְּצַאנוּהוּ בְּשָׁעָה שֶׁנִּכְנַסְנוּ אֵלָיו, וּבְבוֹאָתָהּ  3\n",
      "רצוי:  אִי-הַשְׁלָדִים דוּמָם וְחָלָק, כְּפִי שֶׁמְצָאנוּהוּ בְּשָׁעָה שֶׁנִכְנַסְנוּ אֵלָיו, וּבָבוּאָתָהּ  3\n",
      "מצוי:  לְשֹׁךְ--אֵין אוֹמְרִין בַּיָּדוּעַ שֶׁזֶּה נָשְׁכּוֹ, וְזֶה נָגְחוֹ; אַפִלּוּ גָּמַל הָאוֹהֵר בֵּין  1\n",
      "רצוי:  לִשַּׁךְ--אֵין אוֹמְרִין בַּיָּדוּעַ שֶׁזֶּה נְשָׁכוֹ, וְזֶה נְגָחוֹ; אַפִלּוּ גָּמָל הָאוֹהֵר בֵּין  1\n",
      "מצוי:  אֶחָד מִבְּנֵי הַגִּבּוֹרִים מְדוּרוֹת רִאשׁוֹנִים נִכְחֲדוּ. וַדַּאי הָיִיתִי שָׁם רוֹאֶה  3\n",
      "רצוי:  אֶחָד מִבְּנֵי הַגִּבּוֹרִים מִדּוֹרוֹת רִאשׁוֹנִים נִכְחָדוּ. וַדַּאי הָיִיתִי שָׁם רוֹאֶה  3\n",
      "מצוי:  מְעִיל-סְפַּנִים עֲנָקִי וּמִרְפֵּט, שֶׁשָׁוָה לִדְמוּתוֹ מַרְאֵה מָעוֹת לְהַחְרִיד. מֵימִי לֹא  3\n",
      "רצוי:  מְעִיל-סַפָּנִים עֲנָקִי וּמְרֻפָּט, שֶׁשִׁוָה לִדְמוּתוֹ מַרְאֶה מְעֻוָת לְהַחֲרִיד. מִיָמַי לֹא  3\n",
      "מצוי:  לָרָקִיעַ וְעַיִן יָרֹק לְדֶשֶׁא וְאוֹר גָּנּוּז לְמַלֹּא תֵּבֵל וּזִיו פָּנִים לְכָל-מַעֲשֵׂי  3\n",
      "רצוי:  לָרָקִיעַ וְעֵין יָרֹק לַדֶּשֶׁא וְאוֹר גָּנוּז לִמְלֹא תֵבֵל וְזִיו פָּנִים לְכָל-מַעֲשֵׂי  3\n",
      "מצוי:  יַסִיעַ בַּשְׂמֹאל. וּמְבָרֵךְ עַל הַגֶּפֶן, וְאַחַר כָּךְ מִקְדָּשׁ; וּמִנְהַג פָּשׁוּט בְּכָל יִשְׂרָאֵל,  1\n",
      "רצוי:  יְסַיַּע בִּשְׂמֹאל. וּמְבָרֵךְ עַל הַגֶּפֶן, וְאַחַר כָּךְ מְקַדֵּשׁ; וּמִנְהָג פָּשׁוּט בְּכָל יִשְׂרָאֵל,  1\n",
      "מצוי:  בָּהֶן וְהֵן מֵהַגְּבוּרוֹת הַתַּחְתּוֹנוֹת, כַּאֲשֶׁר נִבְאַר. אֲבָל יֵשׁ יָמִים יְדוּעִים שֶׁאֵין  1\n",
      "רצוי:  בָּהֶן וְהֵן מֵהַגְּבוּרוֹת הַתַּחְתּוֹנוֹת, כַּאֲשֶׁר נְבָאֵר. אֲבָל יֵשׁ יָמִים יְדוּעִים שֶׁאֵין  1\n",
      "מצוי:  מְעוֹפְפוֹת וּבָאוֹת אֶל הֵפֶּה מֵאֲלֵיהֶן. גְּשָׁמָיו - נָטְפִּי דְבַשׁ וְיַיִן, מְתוּקִים לַחֲךְ  3\n",
      "רצוי:  מְעוֹפְפוֹת וּבָאוֹת אֶל הַפֶּה מֵאֲלֵיהֶן. גְּשָׁמָיו - נִטְפֵי דְבַשׁ וָיָיִן, מְתוּקִים לְחֵךְ  3\n",
      "מצוי:  עַל פִּי שֶׁהוֹצִיאוֹ בִּכְלִי, פָּטוּר: שֶׁהַכְּלִי טְפֵלָה לוֹ, וְאֵין כַּוָּנָתוֹ לְהוֹצָאת  1\n",
      "רצוי:  עַל פִּי שֶׁהוֹצִיאוֹ בִּכְלִי, פָּטוּר: שֶׁהַכְּלִי טְפֵלָה לוֹ, וְאֵין כַּוָּנָתוֹ לְהוֹצָאַת  1\n",
      "מצוי:  שֶׁל פִּשְׁתָּן לֹא יִתְפַּר שָׁם בְּחוּטֵי פִּשְׁתָּן רַק בְּחוּטֵי מֶשִׁי וְכַדּוֹמֶה וְאִם הַטְּלִית שֶׁל  1\n",
      "רצוי:  שֶׁל פִּשְׁתָּן לֹא יִתְפֹּר שָׁם בְּחוּטֵי פִּׂשְתָּן רַק בְּחוּטֵי מֶשִׁי וְכַדּוֹמֶה וְאִם הַטַּלִּית שֶׁל  1\n",
      "מצוי:  חֲלָקִים; וְקִבַּץ כָּל הַחֲלָקִים שָׁעוֹת, וְכָל הַשָּׁעוֹת יָמִים, וְתִּגְרַע מִן הַכֹּל שִׁבְעָה  1\n",
      "רצוי:  חֲלָקִים; וְקַבַּץ כָּל הַחֲלָקִים שָׁעוֹת, וְכָל הַשָּׁעוֹת יָמִים, וְתִגְרַע מִן הַכֹּל שִׁבְעָה  1\n",
      "מצוי:  מוֹדְדִין לוֹ הֶעָמַד פָּנִים שֶׁל הָעֲמֶד פָּנִים כְּאִלּוּ עֲשֵׂה עַצְמוֹ כ עַל כָּל פָּנִים  1\n",
      "רצוי:  מוֹדְדִין לוֹ הַעֲמֵד פָּנִים שֶׁל הַעֲמֵד פָּנִים כְּאִלּוּ עָשׂה עַצְמוֹ כְּ עַל כָּל פָּנִים  3\n",
      "מצוי:  אַמָּה בַּת שִׁשָּׁה טְפָחִים. וּפְעָמִים מְשַׁעֲרִין בְּאֻמָּה בַּת שִׁשָּׁה טְפָחִים דְּחוּקוֹת זוֹ  1\n",
      "רצוי:  אַמָּה בַּת שִׁשָּׁה טְפָחִים. וּפְעָמִים מְשַׁעֲרִין בְּאַמָּה בַּת שִׁשָּׁה טְפָחִים דְּחוּקוֹת זוֹ  1\n",
      "מצוי:  שָׁלוֹם! לְהַרְאוֹת בָּעֶרֶב. הַגַּם פְּלִינְס בִּנְךָ הוֹלֵךְ? בָּנְקוֹ הֵן! הִגִּיעַ זְמַן  3\n",
      "רצוי:  שָׁלוֹם! לְהֵרָאוֹת בָּעֶרֶב. הֲגַם פְלֵיַנְס בִּנְךָ הוֹלֵךְ? בֶּנְקוֹ הֵן! הִגִּיעַ זְמַן  3\n",
      "מצוי:  כְּאֶחָד: עַטְשִׁי! וְשׁוּב: עָטְשִׁי! וְעוֹד הַפַּעַם: עָטְשִׁי! עַתָּה פָּרְחוּ עַצְמוֹת הַטַּבָח  3\n",
      "רצוי:  כְּאֶחָד: עַטְשִׁי! וְשׁוּב: עַטְשִׁי! וְעוֹד הַפַּעַם: עַטְשִׁי! עַתָּה פָרְחוּ עַצְמוֹת הַטַּבָּח  3\n"
     ]
    }
   ],
   "source": [
    "model.load_weights('./checkpoints/all')\n",
    "\n",
    "def print_predictions(data, k):\n",
    "    s = slice(k*BATCH_SIZE, (k+1)*BATCH_SIZE)\n",
    "    batch = data.normalized[s]\n",
    "    prediction = model.predict(batch)\n",
    "    [actual_niqqud, actual_dagesh, actual_sin, actual_kind] = [dataset.from_categorical(prediction[0]), dataset.from_categorical(prediction[1]), dataset.from_categorical(prediction[2]),  dataset.from_categorical(prediction[3])]\n",
    "    [expected_niqqud, expected_dagesh, expected_sin, expected_kind] = [data.niqqud[s], data.dagesh[s], data.sin[s], data.kind[s]]\n",
    "    actual = dataset.merge(batch, ns=actual_niqqud, ds=actual_dagesh, ss=actual_sin)\n",
    "    expected = dataset.merge(batch, ns=expected_niqqud, ds=expected_dagesh, ss=expected_sin)\n",
    "    for i, (a, e) in enumerate(zip(actual, expected)):\n",
    "        print('מצוי: ', a, actual_kind[i])\n",
    "        print('רצוי: ', e, expected_kind[i])\n",
    "\n",
    "print_predictions(data_all[1], 5)"
   ]
  },
  {
   "cell_type": "code",
   "execution_count": null,
   "metadata": {},
   "outputs": [],
   "source": [
    "shutil.rmtree(os.sep.join([tempfile.gettempdir(), '.tensorboard-info']), ignore_errors=True)\n",
    "shutil.rmtree('logs', ignore_errors=True)\n",
    "os.makedirs('logs')\n",
    "# %tensorboard --logdir logs"
   ]
  },
  {
   "cell_type": "code",
   "execution_count": null,
   "metadata": {},
   "outputs": [],
   "source": [
    "print(data_modern[1].text[0])\n",
    "print(data_modern[1].text[1])"
   ]
  },
  {
   "cell_type": "code",
   "execution_count": null,
   "metadata": {},
   "outputs": [],
   "source": []
  }
 ],
 "metadata": {
  "kernelspec": {
   "display_name": "Python 3",
   "language": "python",
   "name": "python3"
  },
  "language_info": {
   "codemirror_mode": {
    "name": "ipython",
    "version": 3
   },
   "file_extension": ".py",
   "mimetype": "text/x-python",
   "name": "python",
   "nbconvert_exporter": "python",
   "pygments_lexer": "ipython3",
   "version": "3.7.4"
  }
 },
 "nbformat": 4,
 "nbformat_minor": 4
}
