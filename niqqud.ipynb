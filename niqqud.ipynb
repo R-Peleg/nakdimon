{
 "cells": [
  {
   "cell_type": "code",
   "execution_count": 1,
   "metadata": {},
   "outputs": [],
   "source": [
    "import os\n",
    "import datetime\n",
    "\n",
    "import numpy as np\n",
    "import matplotlib.pyplot as plt\n",
    "\n",
    "import tensorflow as tf\n",
    "from tensorflow.keras import layers\n",
    "\n",
    "import dataset"
   ]
  },
  {
   "cell_type": "code",
   "execution_count": 2,
   "metadata": {},
   "outputs": [],
   "source": [
    "MAXLEN = 60\n",
    "BATCH_SIZE = 32\n",
    "files = ['texts/' + f for f in os.listdir('texts/') if not f.startswith('.')]\n",
    "\n",
    "data = dataset.load_file(BATCH_SIZE, 0.05, maxlen=MAXLEN, filenames=files)"
   ]
  },
  {
   "cell_type": "code",
   "execution_count": 4,
   "metadata": {},
   "outputs": [
    {
     "name": "stdout",
     "output_type": "stream",
     "text": [
      "Failed to import pydot. You must install pydot and graphviz for `pydotprint` to work.\n",
      "Model: \"model_1\"\n",
      "__________________________________________________________________________________________________\n",
      "Layer (type)                    Output Shape         Param #     Connected to                     \n",
      "==================================================================================================\n",
      "input_2 (InputLayer)            [(None, 60)]         0                                            \n",
      "__________________________________________________________________________________________________\n",
      "embedding_1 (Embedding)         (None, 60, 1024)     74752       input_2[0][0]                    \n",
      "__________________________________________________________________________________________________\n",
      "Common_RNN (Bidirectional)      (None, 60, 256)      1969152     embedding_1[0][0]                \n",
      "__________________________________________________________________________________________________\n",
      "Niqqud_RNN (Bidirectional)      (None, 60, 256)      789504      Common_RNN[0][0]                 \n",
      "__________________________________________________________________________________________________\n",
      "Dagesh_RNN (Bidirectional)      (None, 60, 256)      789504      Common_RNN[0][0]                 \n",
      "__________________________________________________________________________________________________\n",
      "add_2 (Add)                     (None, 60, 256)      0           Common_RNN[0][0]                 \n",
      "                                                                 Niqqud_RNN[0][0]                 \n",
      "__________________________________________________________________________________________________\n",
      "add_3 (Add)                     (None, 60, 256)      0           Common_RNN[0][0]                 \n",
      "                                                                 Dagesh_RNN[0][0]                 \n",
      "__________________________________________________________________________________________________\n",
      "dense_2 (Dense)                 (None, 60, 60)       15420       add_2[0][0]                      \n",
      "__________________________________________________________________________________________________\n",
      "dense_3 (Dense)                 (None, 60, 60)       15420       add_3[0][0]                      \n",
      "__________________________________________________________________________________________________\n",
      "N (Softmax)                     (None, 60, 60)       0           dense_2[0][0]                    \n",
      "__________________________________________________________________________________________________\n",
      "D (Softmax)                     (None, 60, 60)       0           dense_3[0][0]                    \n",
      "==================================================================================================\n",
      "Total params: 3,653,752\n",
      "Trainable params: 3,653,752\n",
      "Non-trainable params: 0\n",
      "__________________________________________________________________________________________________\n"
     ]
    }
   ],
   "source": [
    "EMBED_DIM = 512\n",
    "UNITS_COMMON = 256\n",
    "UNITS_NIQQUD = 256\n",
    "UNITS_DAGESH = 256\n",
    "\n",
    "common_input = tf.keras.Input(batch_shape=(None, data.input_texts.shape[1]), batch_size=BATCH_SIZE)\n",
    "common = layers.Embedding(len(data.letters_table), EMBED_DIM, mask_zero=True)(common_input)\n",
    "common = layers.Bidirectional(layers.GRU(UNITS_COMMON, return_sequences=True, dropout=0.3), merge_mode='sum', name='Common_RNN')(common)\n",
    "\n",
    "niqqud = layers.Bidirectional(layers.GRU(UNITS_NIQQUD, return_sequences=True, dropout=0.2), merge_mode='sum', name='Niqqud_RNN')(common)\n",
    "niqqud = layers.add([common, niqqud])\n",
    "niqqud = layers.Dense(data.niqqud_texts.shape[1])(niqqud)\n",
    "niqqud = layers.Softmax(name='N')(niqqud)\n",
    "\n",
    "dagesh = layers.Bidirectional(layers.GRU(UNITS_DAGESH, return_sequences=True, dropout=0.1), merge_mode='sum', name='Dagesh_RNN')(common)\n",
    "dagesh = layers.add([common, dagesh])\n",
    "dagesh = layers.Dense(data.dagesh_texts.shape[1])(dagesh)\n",
    "dagesh = layers.Softmax(name='D')(dagesh)\n",
    "\n",
    "model = tf.keras.Model(inputs=[common_input], outputs=[niqqud, dagesh])\n",
    "\n",
    "tf.keras.utils.plot_model(model, to_file='model.png')\n",
    "model.summary()"
   ]
  },
  {
   "cell_type": "code",
   "execution_count": 5,
   "metadata": {},
   "outputs": [],
   "source": [
    "model.compile(loss='sparse_categorical_crossentropy',\n",
    "              optimizer=tf.keras.optimizers.Adam(learning_rate=0.0001),\n",
    "              metrics=['accuracy'])\n",
    "\n",
    "def fit(learning_rates):\n",
    "    return model.fit(data.input_texts, [data.niqqud_texts, data.dagesh_texts],\n",
    "          batch_size=BATCH_SIZE,\n",
    "          epochs=len(learning_rates),\n",
    "          validation_data=(data.input_validation, [data.niqqud_validation,  data.dagesh_validation]),\n",
    "          callbacks=[\n",
    "              tf.keras.callbacks.LearningRateScheduler(lambda epoch, lr: learning_rates[epoch], verbose=0),\n",
    "              # tf.keras.callbacks.ModelCheckpoint(filepath='checkpoints/ckpt_{epoch}', save_weights_only=True),\n",
    "          ]\n",
    "    )"
   ]
  },
  {
   "cell_type": "code",
   "execution_count": 6,
   "metadata": {},
   "outputs": [
    {
     "name": "stdout",
     "output_type": "stream",
     "text": [
      "Train on 111720 samples, validate on 5880 samples\n",
      "Epoch 1/2\n",
      "111720/111720 [==============================] - 188s 2ms/sample - loss: 0.2977 - N_loss: 0.2385 - D_loss: 0.0592 - N_accuracy: 0.9187 - D_accuracy: 0.9779 - val_loss: 0.1838 - val_N_loss: 0.1464 - val_D_loss: 0.0373 - val_N_accuracy: 0.9513 - val_D_accuracy: 0.9860\n",
      "Epoch 2/2\n",
      "111720/111720 [==============================] - 174s 2ms/sample - loss: 0.1482 - N_loss: 0.1192 - D_loss: 0.0291 - N_accuracy: 0.9598 - D_accuracy: 0.9891 - val_loss: 0.1344 - val_N_loss: 0.1069 - val_D_loss: 0.0274 - val_N_accuracy: 0.9647 - val_D_accuracy: 0.9897\n"
     ]
    }
   ],
   "source": [
    "history = fit([2e-3, 7e-4, 3e-4]) #, 1e-4, 3e-6])"
   ]
  },
  {
   "cell_type": "code",
   "execution_count": 7,
   "metadata": {},
   "outputs": [
    {
     "data": {
      "image/png": "[encoded data removed]",
      "text/plain": [
       "<Figure size 432x288 with 4 Axes>"
      ]
     },
     "metadata": {
      "needs_background": "light"
     },
     "output_type": "display_data"
    }
   ],
   "source": [
    "fig, ax = plt.subplots(nrows=2, ncols=2)\n",
    "\n",
    "for n, v in enumerate(['accuracy', 'loss'], 0):\n",
    "    for n1, t in enumerate(['D', 'N'], 0):\n",
    "        p = ax[n][n1]\n",
    "        p.plot(history.history[t + '_' + v][0:])\n",
    "        p.plot(history.history['val_' + t + '_' +  v][0:])\n",
    "        p.legend([t + '_Train', t + '_Test'], loc='center right')\n",
    "\n",
    "plt.tight_layout()"
   ]
  },
  {
   "cell_type": "code",
   "execution_count": 9,
   "metadata": {},
   "outputs": [
    {
     "name": "stdout",
     "output_type": "stream",
     "text": [
      "מצוי:  הַנִּשְרָפִין, בַּחוּץ אוֹ לְמָחָר--הֲרֵי הֶן כְּשֵרִים. וְכֵן כָּל כַּיּוֹצֶא בְּזֶה. [ט]\n",
      "רצוי:  הַנִּשְרָפִין, בַּחוּץ אוֹ לְמָחָר--הֲרֵי הֶן כְּשֵרִים. וְכֵן כָּל כַּיּוֹצֶא בְּזֶה. [ט]\n",
      "\n",
      "מצוי:  שֶלֹּא לְהַקְרִיב בַּעַל מוּם מִיַּד הַגּוֹיִים, שֶנֶּאֱמָר \"וּמִיַּד בֶּן-נֵכָר, לֹא\n",
      "רצוי:  שֶלֹּא לְהַקְרִיב בַּעַל מוּם מִיַּד הַגּוֹיִים, שֶנֶּאֱמָר \"וּמִיַּד בֶּן-נֵכָר, לֹא\n",
      "\n",
      "מצוי:  שֶיִּהְיֶה הַמִּין שְהֶן שֻתָּפִין בּוֹ, מִין אֶחָד וּבִכְלִי אֶחָד; אֲבָל אִם הָיָה אֶחָד\n",
      "רצוי:  שֶיִּהְיֶה הַמִּין שְהֶן שֻתָּפִין בּוֹ, מִין אֶחָד וּבִכְלִי אֶחָד; אֲבָל אִם הָיָה אֶחָד\n",
      "\n",
      "מצוי:  הַסִפּוּן, שוּם דָּבָר שֶבָּעוֹלָם לֹא יָנִיא אוֹתִי לְטְפֵּס שוּב בְּמַעֲלָה סֻלָּם-חֲבָלִים\n",
      "רצוי:  הַסִפּוּן, שוּם דָבָר שֶבָּעוֹלָם לֹא יָנִיא אוֹתִי לְטַפֵּס שוּב בְּמַעֲלֵה סֻלַם-חֲבָלִים\n",
      "\n",
      "מצוי:  הַדָּמִים. מָכַר הַלּוֹקֵחַ בָּשָר זֶה שֶלִּטְרֵפָה לַגּוֹיִים, אוֹ שֶהֶאֱכִילוּ\n",
      "רצוי:  הַדָּמִים. מָכַר הַלּוֹקֵחַ בָּשָר זֶה שֶלִּטְרֵפָה לַגּוֹיִים, אוֹ שֶהֶאֱכִילוֹ\n",
      "\n",
      "מצוי:  וּבַמַּעַשְרוֹת, וְאֵיזֶה דָּבָר פָּטוּר, וְאֵיזֶה דָּבָר הוּא חַיָּב מִן הַתּוֹרָה, וְאֵיזֶה\n",
      "רצוי:  וּבְמַעַשְרוֹת, וְאֵיזֶה דָּבָר פָּטוּר, וְאֵיזֶה דָּבָר הוּא חַיָּב מִן הַתּוֹרָה, וְאֵיזֶה\n",
      "\n",
      "מצוי:  רַבּוֹת כְּאַחַת, בְּיוֹם אֶחָד, וּמְבָרֵךְ בִּרְכַת חֲתָנִים לַכֹּל, כְּאֶחָד. אֲבָל לְשִמְחָה,\n",
      "רצוי:  רַבּוֹת כְּאַחַת, בְּיוֹם אֶחָד, וּמְבָרֵךְ בִּרְכַת חֲתָנִים לַכֹּל, כְּאֶחָד. אֲבָל לְשִמְחָה,\n",
      "\n",
      "מצוי:  הָעִזְתִּי לִקָרֵב אֶל הַמְצוּדָה, אֲשֶר בִּסְבִיבָתָהּ נָפְלוּ מֵרִבִית הַכִּדוּרִים. אַךְ\n",
      "רצוי:  הֵעַזְתִּי לִקְרֹב אֶל הַמְצוּדָה, אֲשֶר בִּסְבִיבָתָהּ נָפְלוּ מַרְבִּית הַכַּדוּרִים. אַךְ\n",
      "\n",
      "מצוי:  לֶחָצֵר--כְּדֵי שֶלֹּא תִתְגַּנֶּה עַל בַּעְלָהּ. וְהַיּוֹצֵאת בִּצְלוּחִית שֶלִּפְלִיטוֹן שְאֵין\n",
      "רצוי:  לְחָצֵר--כְּדֵי שֶלֹּא תִתְגַּנֶּה עַל בַּעְלָהּ. וְהַיּוֹצֵאת בִּצְלוֹחִית שֶלְּפַלְיָטוֹן שְאֵין\n",
      "\n",
      "מצוי:  לוֹ. שְכְחוּ וְלֹא הֵבִיאוּ סַכִּין מֵעֶרֶב שַבָּת, אוֹמְרִין לַגּוֹי לְהָבִיא סַכִּין\n",
      "רצוי:  לוֹ. שָכְחוּ וְלֹא הֵבִיאוּ סַכִּין מֵעֶרֶב שַבָּת, אוֹמְרִין לַגּוֹי לְהָבִיא סַכִּין\n",
      "\n",
      "מצוי:  הָרִאשוֹנָה, עַד שֶנִּשְבְּרָה הַשְּנִיָּה--טְהוֹרָה. [יב] מִטָּה שֶהָיְתָה טֻמְאָה מַדְרֵס,\n",
      "רצוי:  הָרִאשוֹנָה, עַד שֶנִּשְבְּרָה הַשְּנִיָּה--טְהוֹרָה. [יב] מִטָּה שֶהָיְתָה טְמֵאָה מַדְרֵס,\n",
      "\n",
      "מצוי:  טוֹב. וְגַבְּאֵי צְדָקָה גּוֹבִין מִן הַחֲצֵרוֹת בְּיוֹם טוֹב; וְלֹא יִהְיוּ מַכְרִיזִין\n",
      "רצוי:  טוֹב. וְגַבָּאֵי צְדָקָה גּוֹבִין מִן הַחֲצֵרוֹת בְּיוֹם טוֹב; וְלֹא יִהְיוּ מַכְרִיזִין\n",
      "\n",
      "מצוי:  יִתְּנֵם לְתוֹךְ אַרְנָקִי שֶלִּצְדָקָה; וְלִכְשֶיַּגִּיעַ לְבֵיתוֹ, יִטְּלֵם. וְלֹא יִמַנֶה מָעוֹת\n",
      "רצוי:  יִתְּנֵם לְתוֹךְ אַרְנָקִי שֶלִּצְדָקָה; וְלִכְשֶיַּגִּיעַ לְבֵיתוֹ, יִטְּלֵם. וְלֹא יִמְנֶה מְעוֹת\n",
      "\n",
      "מצוי:  כְּלִי שֶעָשָה. [ה] הַמּוֹלִיךְ חִטִּין לִטְחוֹן, וְלֹא לְתִתָּן וַעֲשָאָן סֻבִּין אוֹ\n",
      "רצוי:  כְּלִי שֶעָשָה. [ה] הַמּוֹלִיךְ חִטִּין לַטָּחוֹן, וְלֹא לְתָתָן וַעֲשָאָן סֻבִּין אוֹ\n",
      "\n",
      "מצוי:  שֶנֶּאֱמָר \"בְּכוֹר הָאָדָם, וְאֵת בְּכוֹר-הַבְּהֵמָה הַטֻּמְאָה, תִּפָדֶּה\" (במדבר\n",
      "רצוי:  שֶנֶּאֱמָר \"בְּכוֹר הָאָדָם, וְאֵת בְּכוֹר-הַבְּהֵמָה הַטְּמֵאָה, תִּפְדֶּה\" (במדבר\n",
      "\n",
      "מצוי:  תְּחִלָּה, עַד שֶיִּתְבַּעֶנּוּ; וְאִם טָעָה הַדִּין וְהוֹרִיד הַמַּלְוֶה לְנִכְסֵי הַלּוֹוֶה קֹדֶם\n",
      "רצוי:  תְּחִלָּה, עַד שֶיִּתְבְּעֶנּוּ; וְאִם טָעָה הַדַּיָּן וְהוֹרִיד הַמַּלְוֶה לְנִכְסֵי הַלּוֹוֶה קֹדֶם\n",
      "\n",
      "מצוי:  עוֹבֵד כּוֹכָבִים וְיֵש מְקוֹמוֹת שֶמְּקִּילִין וְלוֹקְחִין פַּת מִנְּחָתָם עוֹבֵד כּוֹכָבִים\n",
      "רצוי:  עוֹבֵד כּוֹכָבִים וְיֵש מְקוֹמוֹת שֶמְּקִילִין וְלוֹקְחִין פַּת מִנַּחְתֹּם עוֹבֵד כּוֹכָבִים\n",
      "\n",
      "מצוי:  וְלֹא יִשְחֹט. [יז] בַּמֶּה דְּבָרִים אֲמוּרִים, בְּשֶלֹּא תָפַס הַסִּימָנִין בְּיָדוֹ\n",
      "רצוי:  וְלֹא יִשָּחֵט. [יז] בַּמֶּה דְּבָרִים אֲמוּרִים, בְּשֶלֹּא תָפַס הַסִּימָנִין בְּיָדוֹ\n",
      "\n",
      "מצוי:  לַאֲחֵרִים אִם לֹא כַּאֲשֶר הוּא צָרִיךְ לָהֶם אֲזַי הוּא קוֹדֵם וְגַם יִזָּהֵר לִכְתוֹב\n",
      "רצוי:  לַאֲחֵרִים אִם לֹא כַּאֲשֶר הוּא צָרִיךְ לָהֶם אֲזַי הוּא קוֹדֵם וְגַם יִזָּהֵר לִכְתּוֹב\n",
      "\n",
      "מצוי:  הַתּוֹרָה, אֵלָא הַגּוֹמֵר פֵּרוֹתָיו לְאָכְלָן לְעַצְמוֹ; אֲבָל הַגּוֹמְרָן לְמָכְרָן--פָּטוּר\n",
      "רצוי:  הַתּוֹרָה, אֵלָא הַגּוֹמֵר פֵּרוֹתָיו לְאָכְלָן לְעַצְמוֹ; אֲבָל הַגּוֹמְרָן לְמָכְרָן--פָּטוּר\n",
      "\n",
      "מצוי:  יָדַיִם לִסְּעוּדָּה דְּהַיְנוּ שֶיִּשָפֵּךְ רַק מְעַט מַיִם לְחַפְּנוֹ אַחַת וַישְפְּשֵף שְתֵּי\n",
      "רצוי:  יָדַיִם לַסְּעוּדָּה דְּהַיְנוּ שֶיִּשְפֹּךְ רַק מְעַט מַיִם לְחָפְנוֹ אַחַת וִישַפְשֵף שְתֵּי\n",
      "\n",
      "מצוי:  בַּוֶלֶד, מַה שֶיָּצָא מִמֶּנָּה אָסוּר וְהַשְּאָר מֻתָּר. וְאִם לֹא הָיְתָה קְשוּרָה בּוֹ,\n",
      "רצוי:  בַּוֶּלֶד, מַה שֶיָּצָא מִמֶּנָּה אָסוּר וְהַשְּאָר מֻתָּר. וְאִם לֹא הָיְתָה קְשוּרָה בּוֹ,\n",
      "\n",
      "מצוי:  אֲבָל הַמֶרֶץ שֶל הַתְּחִיָּה מִכֹרָח הוּא לְעוֹרֵר אֶת כֹּחַ הַחַיִּים שֶבְּנוֹ, לְצַעַד\n",
      "רצוי:  אֲבָל הַמֶּרֶץ שֶל הַתְּחִיָּה מֻכְרָח הוּא לְעוֹרֵר את כֹּחַ הַחַיִּים שֶבָּנוּ, לִצְעֹד\n",
      "\n",
      "מצוי:  צָלְחָהּ שֶלּוֹ כָּל-בִּגְדֵי בֶּגֶד נְטַעְתֶּם גַּם-שָרְשוּ יֵלְכוּ גַם-עָשוּ פְּרִי קָרוֹב אַתָּה\n",
      "רצוי:  צָלֵחָה שָלוּ כָּל-בֹּגְדֵי בָגֶד נְטַעְתָּם גַּם-שֹרָשוּ יֵלְכוּ גַּם-עָשוּ פֶרִי קָרוֹב אַתָּה\n",
      "\n",
      "מצוי:  שָמָּה אֲבָל מִצְרַיִם אֲשֶר בְּעֵבֶר הַיַּרְדֵּן וַיַּעֲשוּ בָנָיו לוֹ כֵּן כַּאֲשֶר צִוֹּם\n",
      "רצוי:  שְמָהּ אָבֵל מִצְרַיִם אֲשֶר בְּעֵבֶר הַיַּרְדֵּן וַיַּעֲשוּ בָנָיו לוֹ כֵּן כַּאֲשֶר צִוָּם\n",
      "\n",
      "מצוי:  הַדֵּעָה טוֹבָה לוֹ וּבָהּ רָאוּי לֵילֵךְ, וְהִנְהִיג עַצְמוֹ בָּהּ עַד שֶנִּקְבְּעָה. [ג]\n",
      "רצוי:  הַדֵּעָה טוֹבָה לוֹ וּבָהּ רָאוּי לֵילֵךְ, וְהִנְהִיג עַצְמוֹ בָּהּ עַד שֶנִּקְבְּעָה. [ג]\n",
      "\n",
      "מצוי:  הַמְּעַכֵּב. וְאִם לֹא נִשְאַר מִמֶּנּוּ אֵלָא מְעַט, שְאֵינוּ חוֹפֶה רֹב גְּבְהָה\n",
      "רצוי:  הַמְּעַכֵּב. וְאִם לֹא נִשְאָר מִמֶּנּוּ אֵלָא מְעַט, שְאֵינוּ חוֹפֶה רֹב גָּבְהָהּ\n",
      "\n",
      "מצוי:  עֲבָדֶיךָ אֲנַחְנוּ וְכֹל אֲשֶר-תֹּאמַר אֵלֵינוּ נַעֲשֶה לֹא-נִמְלַךְ אִיש הַטּוֹב בְּעֵינֶיךָ\n",
      "רצוי:  עֲבָדֶיךָ אֲנַחְנוּ וְכֹל אֲשֶר-תֹּאמַר אֵלֵינוּ נַעֲשֶה לֹא-נַמְלִךְ אִיש הַטּוֹב בְּעֵינֶיךָ\n",
      "\n",
      "מצוי:  נֶפֶש אֶלָּא לְצֹרֶךְ אַחֵר כְּמוֹ שֶקִּבְּלוּ רַבּוֹתֵינוּ זִכְרוֹנָם לִבְרָכָה דְּאָמְרִינָן בְּהוּ\n",
      "רצוי:  נֶפֶש אֶלָּא לְצֹרֶךְ אַחֵר כְּמוֹ שֶקִּבְּלוּ רַבּוֹתֵינוּ זִכְרוֹנָם לִבְרָכָה דְּאָמְרִינָן בְּהוּ\n",
      "\n",
      "מצוי:  וְכֹל נֶגַע בַּחָלָל תִּתְחַטְּאוּ בַּיּוֹם הַשְּלִישִי וּבַיּוֹם הַשְּבִיעִי אַתֶם וְשְבֵיכֶם\n",
      "רצוי:  וְכֹל נֹגֵעַ בֶּחָלָל תִּתְחַטְּאוּ בַּיּוֹם הַשְּלִישִי וּבַיּוֹם הַשְּבִיעִי אַתֶּם וּשְבִיכֶם\n",
      "\n",
      "מצוי:  מַמְלְכוֹת הָאָרֶץ נָתַן לִי יְהוָה אֱלֹהֵי הַשָּמַיִם וְהוּא-פָקַד עָלַי לִבְנוֹת-לוֹ\n",
      "רצוי:  מַמְלְכוֹת הָאָרֶץ נָתַן לִי יְהוָה אֱלֹהֵי הַשָּמָיִם וְהוּא-פָקַד עָלַי לִבְנוֹת-לוֹ\n",
      "\n",
      "מצוי:  כִּשְהוּא עָרֹם. כֵּיצַד מְעַשְּרִין אֶת הַדֳּמַאי: מַפְרִיש כְּדֵי תְּרוּמַת מַעֲשֵר שְהִיא\n",
      "רצוי:  כִּשְהוּא עָרֹם. כֵּיצַד מְעַשְּרִין אֶת הַדֳּמַאי: מַפְרִיש כְּדֵי תְּרוּמַת מַעֲשֵר שְהִיא\n",
      "\n"
     ]
    }
   ],
   "source": [
    "def print_predictions(k):\n",
    "    s = slice(k*BATCH_SIZE, (k+1)*BATCH_SIZE)\n",
    "    batch = data.input_validation[s]\n",
    "    [actual_niqqud, actual_dagesh] = dataset.from_categorical(model.predict(batch))\n",
    "    [expected_niqqud, expected_dagesh] = [data.niqqud_validation[s], data.dagesh_validation[s]]\n",
    "    actual = data.merge(batch, ns=actual_niqqud, ds=actual_dagesh)\n",
    "    expected = data.merge(batch, ns=expected_niqqud, ds=expected_dagesh)\n",
    "    for i, (a, e) in enumerate(zip(actual, expected)):\n",
    "        print('מצוי: ', a)\n",
    "        print('רצוי: ', e)\n",
    "        print()\n",
    "\n",
    "print_predictions(8)"
   ]
  },
  {
   "cell_type": "code",
   "execution_count": null,
   "metadata": {},
   "outputs": [],
   "source": []
  }
 ],
 "metadata": {
  "kernelspec": {
   "display_name": "Python 3",
   "language": "python",
   "name": "python3"
  },
  "language_info": {
   "codemirror_mode": {
    "name": "ipython",
    "version": 3
   },
   "file_extension": ".py",
   "mimetype": "text/x-python",
   "name": "python",
   "nbconvert_exporter": "python",
   "pygments_lexer": "ipython3",
   "version": "3.7.4"
  }
 },
 "nbformat": 4,
 "nbformat_minor": 4
}
