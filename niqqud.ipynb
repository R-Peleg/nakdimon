{
 "cells": [
  {
   "cell_type": "code",
   "execution_count": 1,
   "metadata": {},
   "outputs": [],
   "source": [
    "import os\n",
    "import numpy as np\n",
    "from tensorflow import keras\n",
    "from tensorflow.keras import layers\n",
    "\n",
    "import dataset\n",
    "from dataset import CircularLearningRate\n",
    "\n",
    "from tensorflow import config\n",
    "assert config.list_physical_devices('GPU')"
   ]
  },
  {
   "cell_type": "code",
   "execution_count": 81,
   "metadata": {
    "scrolled": true
   },
   "outputs": [
    {
     "name": "stdout",
     "output_type": "stream",
     "text": [
      "Model: \"model_5\"\n",
      "__________________________________________________________________________________________________\n",
      "Layer (type)                    Output Shape         Param #     Connected to                     \n",
      "==================================================================================================\n",
      "input_6 (InputLayer)            [(None, 64)]         0                                            \n",
      "__________________________________________________________________________________________________\n",
      "embedding_5 (Embedding)         (None, 64, 50)       2200        input_6[0][0]                    \n",
      "__________________________________________________________________________________________________\n",
      "bidirectional_10 (Bidirectional (None, 64, 220)      476960      embedding_5[0][0]                \n",
      "__________________________________________________________________________________________________\n",
      "bidirectional_11 (Bidirectional (None, 64, 220)      776160      bidirectional_10[0][0]           \n",
      "__________________________________________________________________________________________________\n",
      "add_5 (Add)                     (None, 64, 220)      0           bidirectional_10[0][0]           \n",
      "                                                                 bidirectional_11[0][0]           \n",
      "__________________________________________________________________________________________________\n",
      "dense_15 (Dense)                (None, 64, 16)       3536        add_5[0][0]                      \n",
      "__________________________________________________________________________________________________\n",
      "dense_16 (Dense)                (None, 64, 3)        663         add_5[0][0]                      \n",
      "__________________________________________________________________________________________________\n",
      "dense_17 (Dense)                (None, 64, 4)        884         add_5[0][0]                      \n",
      "__________________________________________________________________________________________________\n",
      "N (Softmax)                     (None, 64, 16)       0           dense_15[0][0]                   \n",
      "__________________________________________________________________________________________________\n",
      "D (Softmax)                     (None, 64, 3)        0           dense_16[0][0]                   \n",
      "__________________________________________________________________________________________________\n",
      "S (Softmax)                     (None, 64, 4)        0           dense_17[0][0]                   \n",
      "==================================================================================================\n",
      "Total params: 1,260,403\n",
      "Trainable params: 1,260,403\n",
      "Non-trainable params: 0\n",
      "__________________________________________________________________________________________________\n"
     ]
    }
   ],
   "source": [
    "BATCH_SIZE = 32\n",
    "MAXLEN = 64\n",
    "\n",
    "LETTERS_SIZE = len(dataset.letters_table)\n",
    "NIQQUD_SIZE = len(dataset.niqqud_table)\n",
    "DAGESH_SIZE = len(dataset.dagesh_table)\n",
    "SIN_SIZE = len(dataset.sin_table)\n",
    "KINDS_SIZE = len(dataset.KINDS)\n",
    "\n",
    "def build_model(EMBED_DIM=50, UNITS=220):\n",
    "\n",
    "    layer = input_text = keras.Input(batch_shape=(None, MAXLEN), batch_size=BATCH_SIZE)\n",
    "    \n",
    "    layer = layers.Embedding(LETTERS_SIZE, EMBED_DIM, input_length=MAXLEN, mask_zero=True)(layer)\n",
    "    layer = layers.Bidirectional(layers.LSTM(UNITS, return_sequences=True), merge_mode='sum')(layer)\n",
    "    layer = layers.add([layer, \n",
    "            layers.Bidirectional(layers.LSTM(UNITS, return_sequences=True), merge_mode='sum')(layer)])\n",
    "    \n",
    "    outputs = [\n",
    "        layers.Softmax(name='N')(layers.Dense(NIQQUD_SIZE)(layer)),\n",
    "        layers.Softmax(name='D')(layers.Dense(DAGESH_SIZE)(layer)),\n",
    "        layers.Softmax(name='S')(layers.Dense(SIN_SIZE)(layer)),\n",
    "    ]\n",
    "    model = keras.Model(inputs=[input_text], outputs=outputs)\n",
    "\n",
    "    jsmodel = model \n",
    "    # keras.utils.plot_model(model, to_file='model.png')\n",
    "    return model, jsmodel\n",
    "\n",
    "model, jsmodel = build_model()\n",
    "\n",
    "model.summary()\n",
    "model.save_weights('./checkpoints/uninit')"
   ]
  },
  {
   "cell_type": "code",
   "execution_count": 38,
   "metadata": {},
   "outputs": [],
   "source": [
    "def fit(train_validation, scheduler, verbose=1):\n",
    "    train, valid = train_validation\n",
    "    model.compile(loss='sparse_categorical_crossentropy', optimizer='adam', metrics=['accuracy'])\n",
    "    callbacks = []\n",
    "    if isinstance(scheduler, CircularLearningRate):\n",
    "        scheduler.set_dataset(train, BATCH_SIZE)\n",
    "    if scheduler:\n",
    "        callbacks.append(scheduler)\n",
    "        \n",
    "    x  = train.normalized\n",
    "    vx = valid.normalized\n",
    "    y  = {'N': train.niqqud, 'D': train.dagesh, 'S': train.sin, 'C': train.normalized }\n",
    "    vy = {'N': valid.niqqud, 'D': valid.dagesh, 'S': valid.sin, 'C': valid.normalized }\n",
    "    return model.fit(x, y, validation_data=(vx, vy), batch_size=BATCH_SIZE, epochs=1, verbose=verbose, callbacks=callbacks)\n"
   ]
  },
  {
   "cell_type": "code",
   "execution_count": 39,
   "metadata": {},
   "outputs": [],
   "source": [
    "def load_data(source, maxlen=MAXLEN, validation=0.1):\n",
    "    filenames = [os.path.join('texts', f) for f in source]\n",
    "    train, valid = dataset.load_data(filenames, validation, maxlen=maxlen)\n",
    "    return train, valid"
   ]
  },
  {
   "cell_type": "code",
   "execution_count": 88,
   "metadata": {},
   "outputs": [],
   "source": [
    "data_other = load_data(['biblical', 'garbage', 'poetry'])"
   ]
  },
  {
   "cell_type": "code",
   "execution_count": 89,
   "metadata": {},
   "outputs": [],
   "source": [
    "data_rabanit = load_data(['rabanit'])"
   ]
  },
  {
   "cell_type": "code",
   "execution_count": 90,
   "metadata": {},
   "outputs": [],
   "source": [
    "data_pre_modern = load_data(['pre_modern'])"
   ]
  },
  {
   "cell_type": "code",
   "execution_count": 91,
   "metadata": {},
   "outputs": [],
   "source": [
    "data_modern = load_data(validation=0.2, source=['modern'])"
   ]
  },
  {
   "cell_type": "code",
   "execution_count": 92,
   "metadata": {},
   "outputs": [
    {
     "name": "stdout",
     "output_type": "stream",
     "text": [
      "Train on 49756 samples, validate on 7 samples\n",
      "49756/49756 [==============================] - 62s 1ms/sample - loss: 0.5692 - N_loss: 0.4514 - D_loss: 0.0996 - S_loss: 0.0182 - N_accuracy: 0.8430 - D_accuracy: 0.9607 - S_accuracy: 0.9950 - val_loss: 0.5293 - val_N_loss: 0.4170 - val_D_loss: 0.1026 - val_S_loss: 0.0097 - val_N_accuracy: 0.8794 - val_D_accuracy: 0.9724 - val_S_accuracy: 0.9950\n"
     ]
    }
   ],
   "source": [
    "model.load_weights('./checkpoints/uninit')\n",
    "history = fit(data_other, scheduler=CircularLearningRate(20e-4, 50e-4, 5e-4))\n",
    "model.save_weights('./checkpoints/other')"
   ]
  },
  {
   "cell_type": "code",
   "execution_count": 93,
   "metadata": {},
   "outputs": [
    {
     "name": "stdout",
     "output_type": "stream",
     "text": [
      "Train on 69430 samples, validate on 12571 samples\n",
      "69430/69430 [==============================] - 89s 1ms/sample - loss: 0.2198 - N_loss: 0.1729 - D_loss: 0.0438 - S_loss: 0.0032 - N_accuracy: 0.9409 - D_accuracy: 0.9836 - S_accuracy: 0.9991 - val_loss: 0.3994 - val_N_loss: 0.2820 - val_D_loss: 0.0875 - val_S_loss: 0.0298 - val_N_accuracy: 0.9204 - val_D_accuracy: 0.9757 - val_S_accuracy: 0.9982\n"
     ]
    }
   ],
   "source": [
    "model.load_weights('./checkpoints/other')\n",
    "history = fit(data_rabanit, scheduler=CircularLearningRate(20e-4, 250e-4, 5e-4))\n",
    "model.save_weights('./checkpoints/rabanit')"
   ]
  },
  {
   "cell_type": "code",
   "execution_count": 94,
   "metadata": {},
   "outputs": [
    {
     "name": "stdout",
     "output_type": "stream",
     "text": [
      "Train on 65636 samples, validate on 6892 samples\n",
      "65636/65636 [==============================] - 82s 1ms/sample - loss: 0.3199 - N_loss: 0.2463 - D_loss: 0.0653 - S_loss: 0.0083 - N_accuracy: 0.9170 - D_accuracy: 0.9745 - S_accuracy: 0.9979 - val_loss: 0.3099 - val_N_loss: 0.2062 - val_D_loss: 0.0959 - val_S_loss: 0.0077 - val_N_accuracy: 0.9330 - val_D_accuracy: 0.9636 - val_S_accuracy: 0.9982\n"
     ]
    }
   ],
   "source": [
    "model.load_weights('./checkpoints/rabanit')\n",
    "history = fit(data_pre_modern, scheduler=CircularLearningRate(20e-4, 40e-4, 0.1e-4))\n",
    "model.save_weights('./checkpoints/pre_modern')"
   ]
  },
  {
   "cell_type": "code",
   "execution_count": 95,
   "metadata": {},
   "outputs": [
    {
     "name": "stdout",
     "output_type": "stream",
     "text": [
      "Train on 14133 samples, validate on 3543 samples\n",
      "14133/14133 [==============================] - 27s 2ms/sample - loss: 0.2350 - N_loss: 0.1745 - D_loss: 0.0563 - S_loss: 0.0042 - N_accuracy: 0.9414 - D_accuracy: 0.9786 - S_accuracy: 0.9990 - val_loss: 0.2263 - val_N_loss: 0.1661 - val_D_loss: 0.0568 - val_S_loss: 0.0034 - val_N_accuracy: 0.9443 - val_D_accuracy: 0.9785 - val_S_accuracy: 0.9991\n"
     ]
    }
   ],
   "source": [
    "model.load_weights('./checkpoints/pre_modern')\n",
    "history = fit(data_modern, scheduler=CircularLearningRate(6e-3, 6e-3, 0.1e-3))\n",
    "# history = fit(data_modern, scheduler=CircularLearningRate(1e-3, 7e-3, 0.5e-3))\n",
    "model.save_weights('./checkpoints/modern')"
   ]
  },
  {
   "cell_type": "code",
   "execution_count": null,
   "metadata": {},
   "outputs": [],
   "source": [
    "import matplotlib.pyplot as plt\n",
    "\n",
    "fig, ax = plt.subplots(nrows=2, ncols=2)\n",
    "\n",
    "for n, v in enumerate(['accuracy', 'loss'], 0):\n",
    "    for n1, t in enumerate(['D', 'N'], 0):\n",
    "        p = ax[n][n1]\n",
    "        p.plot(history.history[t + '_' + v][0:])\n",
    "        p.plot(history.history['val_' + t + '_' +  v][0:])\n",
    "        p.legend([t + '_Train', t + '_Test'], loc='center right')\n",
    "\n",
    "plt.tight_layout()"
   ]
  },
  {
   "cell_type": "code",
   "execution_count": null,
   "metadata": {},
   "outputs": [],
   "source": [
    "jsmodel.summary()"
   ]
  },
  {
   "cell_type": "code",
   "execution_count": 87,
   "metadata": {},
   "outputs": [],
   "source": [
    "import tensorflowjs as tfjs\n",
    "jsmodel.load_weights('./checkpoints/modern')\n",
    "tfjs.converters.save_keras_model(jsmodel, '.')"
   ]
  },
  {
   "cell_type": "code",
   "execution_count": 97,
   "metadata": {},
   "outputs": [
    {
     "name": "stdout",
     "output_type": "stream",
     "text": [
      "מצוי:  וְעָתִיד מְשׁוּתָּף בֵּין הַחֲרֵדִים לְצִיּוֹנִים הוּא חֵלֶק מִמְצִיאוּת הַחַיִּים הַיִּשְׂרְאֵלִית \n",
      "רצוי:  וְעָתִיד מְשׁוּתָּף בֵּין הַחֲרֵדִים לַצִּיּוֹנִים הוּא חֵלֶק מִמְּצִיאוּת הַחַיִּים הַיִּשְׂרְאֵלִית \n",
      "מצוי:  אַרְצֶה אוֹתָךָ\" אוֹ \"אֲנִי אֶגְרוֹם לְךָ לְהַרְגִּישׁ נִפְלָא\". הִתִּרְגּוּם הָעִבְרִי לְמִילָּה \n",
      "רצוי:  אֶרְצֶה אוֹתְךָ\" אוֹ \"אֲנִי אֶגְרוֹם לְךָ לְהַרְגִּישׁ נִפְלָא\". הַתַּרְגּוּם הָעִבְרִי לְמִילָּה \n",
      "מצוי:  זְמַן לְהִתְאַרְגֵן עַל כֶּסֶף כְּדֵי לְשַׁלֵּם לְמִי שֶׁמּוֹצִיאִים אֶת סִירוּת הַגּוּמִי הָאֵלֶּה. \n",
      "רצוי:  זְמַן לְהִתְאַרְגֵּן עַל כֶּסֶף כְּדֵי לְשַׁלֵּם לְמִי שֶׁמּוֹצִיאִים אֶת סִירוֹת הַגּוּמִי הָאֵלֶּה. \n",
      "מצוי:  חֲזְרָה בָּרַגְלַיִם קַלּוֹת. צִפּוֹר צִבְעוֹנִית לוֹתָהּ אוֹתָהּ בְּשִׁיר.\n",
      "רצוי:  חֲזָרָה בְּרַגְלַיִם קַלוֹת. צִפּוֹר צִבְעוֹנִית לִוְתָה אוֹתָה בְּשִׁיר.\n",
      "מצוי:  רְאיָּיתוֹ הַיִּיחוּדִית שֶׁל אוֹרְווּל אֶת מַעֲרֶכֶת הַיְּחָסִים שֶׁבֵּין הַיָּחִיד לַחֶבְרָה, אֶת \n",
      "רצוי:  רְאִיָּיתוֹ הַיִּיחוּדִית שֶׁל אוֹרְוֶול אֶת מַעֲרֶכֶת הַיְּחָסִים שֶׁבֵּין הַיָּחִיד לְחֶבְרָה, אֶת \n",
      "מצוי:  מַסְטִיקִים וְדִיסְקִים בְּמִבְצָע מַפְרִיד בֵּינֵינוּ. יְכוֹלְנוּ לְהִישָּׁאֵר זָרִים גְמוּרִים \n",
      "רצוי:  מַסְטִיקִים וְדִיסְקִים בַּמִּבְצָע מַפְרִיד בֵּינֵינוּ. יָכוֹלְנוּ לְהִישָּׁאֵר זָרִים גְּמוּרִים \n",
      "מצוי:  עַל שָׁלוֹם. בְּמִילּוּת הַסִּיּוּם שֶׁלָּהּ, יִיתָּכֵן שְׁלִיבֵּנוֹ יִמְצֵא מִידָּה שֶׁל נֶחְמָה, \n",
      "רצוי:  עַל שָׁלוֹם. בְּמִילּוֹת הַסִּיּוּם שֶׁלָּהּ, יִיתָּכֵן שֶׁלִּיבֵּנוּ יִמְצָא מִידָּה שֶׁל נֶחָמָה, \n",
      "מצוי:  חַיָּילִים רוֹמָאִיִּים. טַעֲנָתוֹ הָעִיקָּרִית שֶׁל בֶּן יְהוּדָה הִיא נֶגֶד שִׁינּוּי עֲמַדָּתוֹ \n",
      "רצוי:  חַיָּילִים רוֹמָאִיִּים. טַעֲנָתוֹ הָעִיקָּרִית שֶׁל בֶּן יְהוּדָה הִיא נֶגֶד שִׁינּוּי עֶמְדָּתוֹ \n",
      "מצוי:  יְדֵי הִתְנַגְּדוּת הַמַּיִם, לְעוּמַּת זֶה דָּג, שֶׁמְּיְיצֵּג בָּאַנְלוֹגְיָה חֶלְקִיק עִם מַסָה \n",
      "רצוי:  יְדֵי הִתְנַגְּדוּת הַמַּיִם, לְעוּמַּת זֶה דָּג, שֶׁמְּיַיצֵּג בָּאָנָלוֹגְיָה חֶלְקִיק עִם מָסָה \n",
      "מצוי:  הַנִּייטְרֵינוּ הַקְּדוֹמָה, זֹאת מְשִׂימָה קָשֶׁה כִּי חֶלְקִיקִי נִיְיטְרֵינוּ מְגִּיבִים רַק \n",
      "רצוי:  הַנֶּיְיטְרִינוֹ הַקְּדוּמָה, זֹאת מְשִׂימָה קָשָׁה כִּי חֶלְקִיקֵי נֵייטְרִינוֹ מְגִיבִים רַק \n",
      "מצוי:  בִּמְפוֹרָשׁ בַּחוֹק יְסוֹד: כְּבוֹד הָאָדָם וְחֵירוּתוֹ, וּמִי מִקַדֵּם עֵרֶךְ זֶה, \n",
      "רצוי:  בִּמְפוֹרָשׁ בְּחוֹק יְסוֹד: כְּבוֹד הָאָדָם וְחֵירוּתוֹ, וּמִי מְקַדֵּם עֵרֶךְ זֶה, \n",
      "מצוי:  הַסִּימְטְרִיָה הַזֹּאת מוֹפֶּרֶת, וְהָאַנָטֵי-קָאוֹן דּוֹעֵךְ לִשְׁנֵי פָּאיוֹנִים. הַוָּוה אוֹמֵר, \n",
      "רצוי:  הַסִּימֶטְרִיָּה הַזֹּאת מוּפֶרֶת, וְהָאַנְטִי-קָאוֹן דּוֹעֵךְ לִשְׁנֵי פָּאיוֹנִים. הֱוֵוה אוֹמֵר, \n",
      "מצוי:  נֶשֶׁק לוֹ עַל מִצְּחוֹ, בֵּרַךְ אוֹתוֹ עַל חָכְמָתוֹ וְהִזְמִין אֶת כָּל הַיְּלָדִים לְבֵית \n",
      "רצוי:  נָשַׁק לוֹ עַל מִצְחוֹ, בֵּרֵךְ אוֹתוֹ עַל חָכְמָתוֹ וְהִזְמִין אֶת כָּל הַיְּלָדִים לְבֵית \n",
      "מצוי:  בֶּאֱמֶת הִגִּיעַ, אֲבָל הוּא לֹא יָצַר קֶשֶׁר. לְאַחַר זְמַן מָה, חָקַרְתִּי אֶת הָעִנְיָין \n",
      "רצוי:  בֶּאֱמֶת הִגִּיעַ, אֲבָל הוּא לֹא יָצַר קֶשֶׁר. לְאַחַר זְמַן מָה, חָקַרְתִּי אֶת הָעִנְיָין \n",
      "מצוי:  בֵּין 55-55,( )דֵּי צָעִיר גַּם כֵּן\" ... הַגֶּבֶר וְהָאִשָׁה בְּהֶחְלֵט יְכוֹלִים לִהְיוֹת \n",
      "רצוי:  בֵּין 55-55,( )דֵּי צָעִיר גַּם כֵּן\" ... הַגֶּבֶר וְהָאִשָּׁה בְּהֶחְלֵט יְכוֹלִים לִהְיוֹת \n",
      "מצוי:  עִיקּוּם הַמֶּרְחָב-זְמַן הוּא אִינְסוֹפִי. בַּנְקוּדָּה זֹאת מִשְׁוואוֹת תֵּאוֹרְיַית הַיַּחֲסוּת \n",
      "רצוי:  עִיקּוּם הַמֶּרְחָב-זְמַן הוּא אֵינְסוֹפִי. בִּנְקוּדָּה זֹאת מִשְׁוְואוֹת תֵּאוֹרְיַית הַיַּחֲסוּת \n",
      "מצוי:  הַפְּלְצְבוּ (וְאֶת הַפָּרָשַׁת הָאֵנְדּוּרְפִינִים בַּמּוֹחַ) הוּא מִידַּת הָאֵמוּן שֶׁל הַמְּטוּפָּל \n",
      "רצוי:  הַפְּלָצֶבּוֹ (וְאֶת הַפְרָשַׁת הָאֶנְדּוֹרְפִינִים בַּמּוֹחַ) הוּא מִידַּת הָאֵמוּן שֶׁל הַמְּטוּפָּל \n",
      "מצוי:  מְאוּחָרִים יוֹתֵר. לְגַבֵּי דִּידָם, גְּבוּרָה זוֹ, הוּבָנְתָה חֶבְרָתִית וְטֶקְסְטוֹאָלִית. \n",
      "רצוי:  מְאוּחָרִים יוֹתֵר. לְגַבֵּי דִּידָּם, גְּבוּרָה זוֹ, הוּבְנְתָה חֶבְרָתִית וְטֶקְסְטוּאָלִית. \n",
      "מצוי:  הַיְּקוּם אֵינוֹ מַסְפִּיק כְּדֵי לְהַסְבִּיר תַּהֲלִיךְ אִיטִי כָּזֶה. תּוֹסֶפֶת שֶׁל חוֹמֶר אָפֵל \n",
      "רצוי:  הַיְּקוּם אֵינוֹ מַסְפִּיק כְּדֵי לְהַסְבִּיר תַּהֲלִיךְ אִיטִּי כָּזֶה. תּוֹסֶפֶת שֶׁל חוֹמֶר אָפֵל \n",
      "מצוי:  הַחֲבֵרוֹת הַטּוֹטֶלִיטְרִיּוֹת בִּבְרִית הַמּוֹעָצוֹת וּבְגֶרְמַנְיָה הַנָּאצִית, אַךְ מוּבָאִים \n",
      "רצוי:  הַחֲבָרוֹת הַטּוֹטָלִיטָרִיּוּת בִּבְרִית הַמּוֹעָצוֹת וּבְגֶרְמַנְיָה הַנָּאצִית, אַךְ מוּבָאִים \n",
      "מצוי:  שֶׁמָה שֶׁנֶּחְשַׂף בַּחֲפִירוּת עַוֶות לְצוֹרְכִי בְּנִיַּית הַמִּיתוֹס, הוּא הַשַּׁמַצָּה וְיֵשׁ \n",
      "רצוי:  שְׁמָהּ שֶׁנֶּחֱשַׂף בַּחֲפִירוֹת עוּוַּת לְצוֹרְכֵי בְּנִיַּית הַמִּיתוֹס, הוּא הַשְׁמָצָה וְיֵשׁ \n",
      "מצוי:  הָאָמֵרִיקָנִי דּוּנְלֶד טְרַאמְפ, אֶלָּא בַּהַמְשֵׁכָה שֶׁל מְדִינִיּוּתוֹ הַתּוֹקְפָנִית וְהַנְּחוּשָׁה \n",
      "רצוי:  הָאָמֵרִיקָנִי דוֹנַלְד טְרַאמְפּ, אֶלָּא בְּהֶמְשֵׁכָהּ שֶׁל מְדִינִיּוּתוֹ הַתּוֹקְפָנִית וְהַנְּחוּשָׁה \n",
      "מצוי:  שַׁאֲרִי רָץ לְשַׂחֵק כַּדּוּרֶגֶל בַּהַפְסָקָה כְּמוֹ תָמִיד. בְּדֶרֶךְ כְּלָל הֵם לֹא דִּבְּרוּ הַרְבֵּה, \n",
      "רצוי:  שֶׁאֲרִי רָץ לְשַׂחֵק כַּדוּרֶגֶל בַּהַפְסָקָה כְּמוֹ תָמִיד. בְּדֶרֶךְ כְּלָל הֵם לֹא דִבְּרוּ הַרְבֵּה, \n",
      "מצוי:  אִמָּא, בֶּן זוּג אוֹ אָחוֹת, וְחַס וְחָלִילָה - כְּמוֹ שֶׁקָּרָה לְעֶשֶׂר מִשְׁפָּחוֹת \n",
      "רצוי:  אִמָּא, בֶּן זוּג אוֹ אָחוֹת, וְחָס וְחָלִילָה - כְּמוֹ שֶׁקָּרָה לְעֶשֶׂר מִשְׁפָּחוֹת \n",
      "מצוי:  נָצָא לַדֶרֶךְ מָחָר?\" כֻּלָם הִסְכִּימוּ בְּהִתְלַהֲבוּת. כֻּלָם מִלְּבַד מֵאֵלֶּה. הִיא עַצְמָהּ אֶת \n",
      "רצוי:  נֵצֵא לַדֶרֶךְ מָחָר?\" כֻּלָם הִסְכִּימוּ בְּהִתְלַהֲבוּת. כֻּלָם מִלְבַד מָאלָה. הִיא עָצְמָה אֶת \n",
      "מצוי:  וְכִמְעַט תָּמִיד מְדוּבָּר בְּדַייט שֶׁהוּא לַחֲלוּטִין \"חָתוּל בָּשַׂק\" - אוֹ שֶׁנֶּהֱנָה \n",
      "רצוי:  וְכִמְעַט תָּמִיד מְדוּבָּר בְּדֵיְיט שֶׁהוּא לַחֲלוּטִין \"חָתוּל בַּשַּׂק\" - אוֹ שֶׁנְּהַנֶּה \n",
      "מצוי:  מְמַלֵּא מָקוֹם רֹאשׁ הַמֶּמְשָׁלָה שִׁמְעוֹן פְּרָס, כָּל הָעָם הַיִּשְׂרְאֵלִי, בִּזְמַן שֶׁאַתֶּם \n",
      "רצוי:  מְמַלֵּא מְקוֹם רֹאשׁ הַמֶּמְשָׁלָה שִׁמְעוֹן פֶּרֶס, כָּל הָעָם הַיִּשְׂרְאֵלִי, בִּזְמַן שֶׁאַתֶּם \n",
      "מצוי:  הִיּוָוֹצְרוֹת גֶּלְקְסִיּוֹת מִשִׁינוּיֵי הַצְפִּיפוֹת בִּקְרִינַת הָרֶקַע, הוּא בְּקֵּירוּב אוֹתוֹ \n",
      "רצוי:  הִיוָּוצְרוּת גָלַקְסְיוֹת מִשִּׁינּוּיֵי הַצְּפִיפוּת בִּקְרִינַת הָרֶקַע, הוּא בְּקֵירוּב אוֹתוֹ \n",
      "מצוי:  אֶת \"הַסַּהַר הָאָדוֹם\" בִּירוּשָׁלַיִם. אָמִין אֶל-חוּסְיָינִי הָיָה לְמֶשֶׁךְ זְמַן מָה \n",
      "רצוי:  אֶת \"הַסַּהַר הָאָדוֹם\" בִּירוּשָׁלַיִם. אָמִין אֶל-חוּסֵיינִי הָיָה לְמֶשֶׁךְ זְמַן מָה \n",
      "מצוי:  יְדִיעָתוֹ, קָפֶה נָטוּל קָפְאִין, וְחוָוֶה עוֹרְרוֹת וּפָרַץ שֶׁל אֶנֶרְגְּיָּה, כְּאִילּוּ שָׁתָה \n",
      "רצוי:  יְדִיעָתוֹ, קָפֶה נְטוּל קָפֵאִין, וְחוֹוָה עוֹרְרוּת וּפֶרֶץ שֶׁל אֵנֶרְגִּיָּה, כְּאִילּוּ שָׁתָה \n",
      "מצוי:  הַמִּשְׁפָּט שֶׁלּוֹ לֹא עָזַב אוֹתִי. יָדַעְתִּי שֶׁאֲנִי חוֹזֵר פְּנִימָה. הָיִיתִי חַיָּיב לִשְׁמוֹעַ \n",
      "רצוי:  הַמִּשְׁפָּט שֶׁלּוֹ לֹא עָזַב אוֹתִי. יָדַעְתִּי שֶׁאֲנִי חוֹזֵר פְּנִימָה. הָיִיתִי חַיָּיב לִשְׁמוֹעַ \n",
      "מצוי:  וְאַלְפֵי מִתְנַדְּבִים, שֶׁאִישׁ לְפָנָיו וְאַחֲרָיו לֹא יָכוֹל הָיָה לְהַעֲמִיד לִרְשׁוּת \n",
      "רצוי:  וְאַלְפֵי מִתְנַדְּבִים, שֶׁאִישׁ לְפָנָיו וְאַחֲרָיו לֹא יָכוֹל הָיָה לְהַעֲמִיד לִרְשׁוּת \n"
     ]
    }
   ],
   "source": [
    "model.load_weights('./checkpoints/modern')\n",
    "\n",
    "def print_predictions(data, k):\n",
    "    s = slice(k*BATCH_SIZE, (k+1)*BATCH_SIZE)\n",
    "    batch = data.normalized[s]\n",
    "    prediction = model.predict(batch)\n",
    "    [actual_niqqud, actual_dagesh, actual_sin] = [dataset.from_categorical(prediction[0]), dataset.from_categorical(prediction[1]), dataset.from_categorical(prediction[2])]\n",
    "    [expected_niqqud, expected_dagesh, expected_sin] = [data.niqqud[s], data.dagesh[s], data.sin[s]]\n",
    "    actual = dataset.merge(batch, ns=actual_niqqud, ds=actual_dagesh, ss=actual_sin)\n",
    "    expected = dataset.merge(batch, ns=expected_niqqud, ds=expected_dagesh, ss=expected_sin)\n",
    "    for i, (a, e) in enumerate(zip(actual, expected)):\n",
    "        print('מצוי: ', a)\n",
    "        print('רצוי: ', e)\n",
    "\n",
    "print_predictions(data_modern[1], 5)"
   ]
  },
  {
   "cell_type": "code",
   "execution_count": null,
   "metadata": {},
   "outputs": [],
   "source": [
    "shutil.rmtree(os.sep.join([tempfile.gettempdir(), '.tensorboard-info']), ignore_errors=True)\n",
    "shutil.rmtree('logs', ignore_errors=True)\n",
    "os.makedirs('logs')\n",
    "# %tensorboard --logdir logs"
   ]
  },
  {
   "cell_type": "code",
   "execution_count": null,
   "metadata": {},
   "outputs": [],
   "source": [
    "print(data_modern[1].text[0])\n",
    "print(data_modern[1].text[1])"
   ]
  },
  {
   "cell_type": "code",
   "execution_count": null,
   "metadata": {},
   "outputs": [],
   "source": []
  }
 ],
 "metadata": {
  "kernelspec": {
   "display_name": "Python 3",
   "language": "python",
   "name": "python3"
  },
  "language_info": {
   "codemirror_mode": {
    "name": "ipython",
    "version": 3
   },
   "file_extension": ".py",
   "mimetype": "text/x-python",
   "name": "python",
   "nbconvert_exporter": "python",
   "pygments_lexer": "ipython3",
   "version": "3.7.4"
  }
 },
 "nbformat": 4,
 "nbformat_minor": 4
}
