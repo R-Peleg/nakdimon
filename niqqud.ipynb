{
 "cells": [
  {
   "cell_type": "code",
   "execution_count": 1,
   "metadata": {},
   "outputs": [
    {
     "name": "stdout",
     "output_type": "stream",
     "text": [
      "['', 'H', 'O', '5', ' ', '!', '\"', \"'\", '(', ')', ',', '-', '.', ':', ';', '?', 'א', 'ב', 'ג', 'ד', 'ה', 'ו', 'ז', 'ח', 'ט', 'י', 'ך', 'כ', 'ל', 'ם', 'מ', 'ן', 'נ', 'ס', 'ע', 'ף', 'פ', 'ץ', 'צ', 'ק', 'ר', 'ש', 'ת']\n"
     ]
    },
    {
     "name": "stderr",
     "output_type": "stream",
     "text": [
      "Using TensorFlow backend.\n"
     ]
    }
   ],
   "source": [
    "import os\n",
    "import datetime\n",
    "\n",
    "import numpy as np\n",
    "import matplotlib.pyplot as plt\n",
    "\n",
    "import tensorflow as tf\n",
    "from tensorflow.keras import layers\n",
    "\n",
    "import dataset\n",
    "assert tf.config.list_physical_devices('GPU')\n"
   ]
  },
  {
   "cell_type": "code",
   "execution_count": 2,
   "metadata": {},
   "outputs": [
    {
     "name": "stdout",
     "output_type": "stream",
     "text": [
      "Failed to import pydot. You must install pydot and graphviz for `pydotprint` to work.\n",
      "Model: \"model\"\n",
      "__________________________________________________________________________________________________\n",
      "Layer (type)                    Output Shape         Param #     Connected to                     \n",
      "==================================================================================================\n",
      "input_1 (InputLayer)            [(None, 32)]         0                                            \n",
      "__________________________________________________________________________________________________\n",
      "embedding (Embedding)           (None, 32, 512)      22016       input_1[0][0]                    \n",
      "__________________________________________________________________________________________________\n",
      "bidirectional (Bidirectional)   (None, 32, 256)      1574912     embedding[0][0]                  \n",
      "__________________________________________________________________________________________________\n",
      "bidirectional_1 (Bidirectional) (None, 32, 256)      1050624     bidirectional[0][0]              \n",
      "__________________________________________________________________________________________________\n",
      "add (Add)                       (None, 32, 256)      0           bidirectional[0][0]              \n",
      "                                                                 bidirectional_1[0][0]            \n",
      "__________________________________________________________________________________________________\n",
      "dense (Dense)                   (None, 32, 15)       3855        add[0][0]                        \n",
      "__________________________________________________________________________________________________\n",
      "dense_1 (Dense)                 (None, 32, 2)        514         add[0][0]                        \n",
      "__________________________________________________________________________________________________\n",
      "N (Softmax)                     (None, 32, 15)       0           dense[0][0]                      \n",
      "__________________________________________________________________________________________________\n",
      "D (Softmax)                     (None, 32, 2)        0           dense_1[0][0]                    \n",
      "==================================================================================================\n",
      "Total params: 2,651,921\n",
      "Trainable params: 2,651,921\n",
      "Non-trainable params: 0\n",
      "__________________________________________________________________________________________________\n"
     ]
    }
   ],
   "source": [
    "MAXLEN = 32\n",
    "BATCH_SIZE = 32\n",
    "\n",
    "EMBED_DIM = 512\n",
    "UNITS = 256\n",
    "\n",
    "NIQQUD_SIZE = len(dataset.niqqud_table)\n",
    "DAGESH_SIZE = len(dataset.dagesh_table)\n",
    "LETTERS_SIZE = len(dataset.letters_table)\n",
    "\n",
    "common_input = tf.keras.Input(batch_shape=(None, MAXLEN), batch_size=BATCH_SIZE)\n",
    "common = layers.Embedding(LETTERS_SIZE, EMBED_DIM, mask_zero=True)(common_input)\n",
    "common = layers.Bidirectional(layers.LSTM(UNITS, return_sequences=True, dropout=0.1), merge_mode='sum')(common)\n",
    "\n",
    "common = layers.add([common, layers.Bidirectional(layers.LSTM(UNITS, return_sequences=True, dropout=0.1), merge_mode='sum')(common)])\n",
    "\n",
    "niqqud = layers.Softmax(name='N')(layers.Dense(NIQQUD_SIZE)(common))\n",
    "dagesh = layers.Softmax(name='D')(layers.Dense(DAGESH_SIZE)(common))\n",
    "\n",
    "model = tf.keras.Model(inputs=[common_input], outputs=[niqqud, dagesh])\n",
    "\n",
    "tf.keras.utils.plot_model(model, to_file='model.png')\n",
    "\n",
    "model.compile(loss='sparse_categorical_crossentropy',\n",
    "              optimizer=tf.keras.optimizers.Adam(learning_rate=0.0001),\n",
    "              metrics=['accuracy'])\n",
    "\n",
    "model.summary()\n",
    "\n",
    "def fit(data, learning_rates):\n",
    "    return model.fit(data.normalized_texts, [data.niqqud_texts, data.dagesh_texts],\n",
    "          batch_size=BATCH_SIZE,\n",
    "          epochs=len(learning_rates),\n",
    "          validation_data=(data.normalized_validation, [data.niqqud_validation,  data.dagesh_validation]),\n",
    "          callbacks=[\n",
    "              tf.keras.callbacks.LearningRateScheduler(lambda epoch, lr: learning_rates[epoch], verbose=0),\n",
    "              # tf.keras.callbacks.ModelCheckpoint(filepath='checkpoints/ckpt_{epoch}', save_weights_only=True),\n",
    "          ]\n",
    "    )"
   ]
  },
  {
   "cell_type": "code",
   "execution_count": 3,
   "metadata": {},
   "outputs": [],
   "source": [
    "def load_data():\n",
    "    rabanit = ['birkat_hamazon.txt', 'hakdama_leorot.txt', 'hartzaat_harav.txt', 'orhot_hayim.txt', 'rambam_mamre.txt', 'short_table.txt', 'tomer_dvora.txt', 'breslev.txt']\n",
    "    modern = ['atar_hashabat.txt', 'kakun.txt', 'sisters.txt', 'treasure_island.txt', 'ali_baba.txt', 'people.txt', 'ricky.txt', 'imagination.txt', 'adamtsair.txt', 'katarsis.txt']\n",
    "    filenames = ['texts/' + f for f in rabanit + modern]\n",
    "    return dataset.load_file(filenames, BATCH_SIZE, 0.01, maxlen=MAXLEN, shuffle=True)\n",
    "\n",
    "data = load_data()"
   ]
  },
  {
   "cell_type": "code",
   "execution_count": 4,
   "metadata": {},
   "outputs": [
    {
     "name": "stdout",
     "output_type": "stream",
     "text": [
      "Train on 195433 samples, validate on 1975 samples\n",
      "Epoch 1/2\n",
      "195433/195433 [==============================] - 164s 839us/sample - loss: 0.2183 - N_loss: 0.1709 - D_loss: 0.0474 - N_accuracy: 0.9373 - D_accuracy: 0.9809 - val_loss: 0.1392 - val_N_loss: 0.1055 - val_D_loss: 0.0336 - val_N_accuracy: 0.9622 - val_D_accuracy: 0.9871\n",
      "Epoch 2/2\n",
      "195433/195433 [==============================] - 156s 796us/sample - loss: 0.1046 - N_loss: 0.0776 - D_loss: 0.0270 - N_accuracy: 0.9722 - D_accuracy: 0.9894 - val_loss: 0.1065 - val_N_loss: 0.0788 - val_D_loss: 0.0276 - val_N_accuracy: 0.9725 - val_D_accuracy: 0.9894\n"
     ]
    }
   ],
   "source": [
    "history = fit(data, [2e-3, 2e-4])"
   ]
  },
  {
   "cell_type": "code",
   "execution_count": 5,
   "metadata": {},
   "outputs": [
    {
     "data": {
      "image/png": "[encoded data removed]",
      "text/plain": [
       "<Figure size 432x288 with 4 Axes>"
      ]
     },
     "metadata": {
      "needs_background": "light"
     },
     "output_type": "display_data"
    }
   ],
   "source": [
    "fig, ax = plt.subplots(nrows=2, ncols=2)\n",
    "\n",
    "for n, v in enumerate(['accuracy', 'loss'], 0):\n",
    "    for n1, t in enumerate(['D', 'N'], 0):\n",
    "        p = ax[n][n1]\n",
    "        p.plot(history.history[t + '_' + v][0:])\n",
    "        p.plot(history.history['val_' + t + '_' +  v][0:])\n",
    "        p.legend([t + '_Train', t + '_Test'], loc='center right')\n",
    "\n",
    "plt.tight_layout()"
   ]
  },
  {
   "cell_type": "code",
   "execution_count": 6,
   "metadata": {},
   "outputs": [],
   "source": [
    "import tensorflowjs as tfjs\n",
    "tfjs.converters.save_keras_model(model, '.')"
   ]
  },
  {
   "cell_type": "code",
   "execution_count": 7,
   "metadata": {},
   "outputs": [
    {
     "name": "stdout",
     "output_type": "stream",
     "text": [
      "מצוי:  בְּבַת אַחַת--כֻּלָּן פְּטוּרִין מִכְּלוּם:\n",
      "רצוי:  בְּבַת אַחַת--כֻּלָּן פְּטוּרִין מִכְּלוּם:\n",
      "\n",
      "מצוי:  הַמְּשַחֲקִים עִמָּהֶם. הִלְכּוֹת חוֹבֵל וּמַזִּיק\n",
      "רצוי:  הַמְּשַחֲקִים עִמָּהֶם. הִלְכּוֹת חוֹבֵל וּמַזִּיק\n",
      "\n",
      "מצוי:  כְּאֶחָד. (כב) אָמַר לְבִתּוֹ אוֹ לְאִשְתּוֹ,\n",
      "רצוי:  כְּאֶחָד. (כב) אָמַר לְבִתּוֹ אוֹ לְאִשְתּוֹ,\n",
      "\n",
      "מצוי:  לְיִשְרָאֵל אַחֵר: וְאַפִלּוּ לִבְנוֹ הַגָּדוֹל,\n",
      "רצוי:  לְיִשְרָאֵל אַחֵר: וְאַפִלּוּ לִבְנוֹ הַגָּדוֹל,\n",
      "\n",
      "מצוי:  עָלָיו. לְפִיכָּךְ הָאוֹמֵר לַחֲבֵרוֹ קָרְבָּן\n",
      "רצוי:  עָלָיו. לְפִיכָּךְ הָאוֹמֵר לַחֲבֵרוֹ קָרְבָּן\n",
      "\n",
      "מצוי:  לַחֲבֵרוֹ--טְרֵפָה; וְרָאָה שֶנִּקְּבָה, וְעָלָה\n",
      "רצוי:  לַחֲבֵרוֹ--טְרֵפָה; וְרֵאָה שֶנִּקְּבָה, וְעָלָה\n",
      "\n",
      "מצוי:  שָתֵת מִן הָרֶחֶם לָבָן, אוֹ מַשְקֶה\n",
      "רצוי:  שָתַת מִן הָרֶחֶם לֹבֶן, אוֹ מַשְקֶה\n",
      "\n",
      "מצוי:  וּמֵסָךְ, וּקְצִיעָה, וְסִנְבֵּל אַלנָאְרָדִין,\n",
      "רצוי:  וּמִסְךְּ, וּקְצִיעָה, וְסֻנְבֻּל אַלנַּארְדִּין,\n",
      "\n",
      "מצוי:  הַלֵּב שֶנּוּכַל כֻּלָּנוּ לִנְסֹעַ לַבְּרִית.\n",
      "רצוי:  הַלֵּב שֶנּוֹכָל כֻּלָּנוּ לִנְסֹעַ לַבְּרִית.\n",
      "\n",
      "מצוי:  עָמַדְתִּי, חָמַקְתִּי מֵאֶשְנַב-הַיְרִיָה הַמִזְרָחִי\n",
      "רצוי:  עֶמְדָתִי, חָמַקְתִּי מֵאֶשְנָב-הַיְרִיָה הַמִזְרָחִי\n",
      "\n",
      "מצוי:  דִּמְיוֹנִית שֶאִפְשָר לְתָאַר. קָטַע\n",
      "רצוי:  דִּמְיוֹנִית שֶאֶפְשָר לְתָאֵר. קטע\n",
      "\n",
      "מצוי:  הָאָרֶץ בְּסוּרְיָה, וְאָמַר לוֹ הִפְרַשְתִּי\n",
      "רצוי:  הָאָרֶץ בְּסוּרְיָה, וְאָמַר לוֹ הִפְרַשְתִּי\n",
      "\n",
      "מצוי:  שְהוּא עוֹשֶה בַּחֹל, וְיָבוֹא לִשְמֹר\n",
      "רצוי:  שְהוּא עוֹשֶה בַּחֹל, וְיָבוֹא לְשַמַּר\n",
      "\n",
      "מצוי:  שֶהָיָה מְדַבָּר הַנַּ\"ל, שֶהָיָה שָם הַבָּחוּר\n",
      "רצוי:  שֶהָיָה מִדְבָּר הַנַּ\"ל, שֶהָיָה שָם הַבָּחוּר\n",
      "\n",
      "מצוי:  שוֹמֵר חִנָּם לִהְיוֹת פָּטוּר מִשְּבוּעָה,\n",
      "רצוי:  שוֹמֵר חִנָּם לִהְיוֹת פָּטוּר מִשְּבוּעָה,\n",
      "\n",
      "מצוי:  מְחַלְּקִין זֶה לְמַעְלָה מִזֶּה, וְכָל אֶחָד\n",
      "רצוי:  מֻחְלָקִין זֶה לְמַעְלָה מִזֶּה, וְכָל אֶחָד\n",
      "\n",
      "מצוי:  בְּסוֹף זְמָן שֶאָמַר. וְכֵן כָּל כַּיּוֹצֶא\n",
      "רצוי:  בְּסוֹף זְמָן שֶאָמַר. וְכֵן כָּל כַּיּוֹצֶא\n",
      "\n",
      "מצוי:  בַּחֲלִיפִין, מִפְּנֵי שֶנִּרְאֶה כִּמְכִירָה,\n",
      "רצוי:  בַּחֲלִיפִין, מִפְּנֵי שֶנִּרְאֶה כִּמְכִירָה,\n",
      "\n",
      "מצוי:  בִּפְרָט עַתָּה, שֶמָּסַר הַמְּלוּכָה לִבְנוֹ\n",
      "רצוי:  בִּפְרָט עַתָּה, שֶמָּסַר הַמְּלוּכָה לִבְנוֹ\n",
      "\n",
      "מצוי:  בְּמַחְשָבָה--בַּשְּחִיטָה, וּבַקַּבָּלָה, וּבְהוֹלֶכֶת\n",
      "רצוי:  בְּמַחְשָבָה--בַּשְּחִיטָה, וּבַקַּבָּלָה, וּבְהוֹלָכַת\n",
      "\n",
      "מצוי:  וּמַסְרִיחוֹ. (כג) וְכֵן דְּבַש שֶלַּגּוֹיִים\n",
      "רצוי:  וּמַסְרִיחוֹ. (כג) וְכֵן דְּבַש שֶלַּגּוֹיִים\n",
      "\n",
      "מצוי:  אֵלָא תְּשוּבָה. הַתְּשוּבָה מְכַפֶּרֶת עַל כָּל\n",
      "רצוי:  אֵלָא תְּשוּבָה. הַתְּשוּבָה מְכַפֶּרֶת עַל כָּל\n",
      "\n",
      "מצוי:  הָאָדָם חוֹשֵב שֶתָּמִיד יִהְיֶה רַק הַמְּרִירוּת\n",
      "רצוי:  הָאָדָם חוֹשֵב שֶתָּמִיד יִהְיֶה רַק הַמְּרִירוּת\n",
      "\n",
      "מצוי:  שֶהִדְלִיק אֶת הַנֵּר, מִשְתַּמֵּש לְאוֹרוֹ\n",
      "רצוי:  שֶהִדְלִיק אֶת הַנֵּר, מִשְתַּמֵּש לְאוֹרוֹ\n",
      "\n",
      "מצוי:  זֶרַע חֹמֶר--הֲרֵי זֶה פּוֹדֶה אַפִלּוּ בְּיוֹם\n",
      "רצוי:  זֶרַע חֹמֶר--הֲרֵי זֶה פּוֹדֶה אַפִלּוּ בַּיּוֹם\n",
      "\n",
      "מצוי:  וּבָנָיו\" (ויקרא ו,ט). (ג) וְאֵין\n",
      "רצוי:  וּבָנָיו\" (ויקרא ו,ט). (ג) וְאֵין\n",
      "\n",
      "מצוי:  יט,ג). לָתֵת לַלְּוִיִּים עָרִים לַשַּבָּת,\n",
      "רצוי:  יט,ג). לָתֵת לַלְּוִיִּים עָרִים לָשֶבֶת,\n",
      "\n",
      "מצוי:  הַגִּזְבָּר. (יד) חַיְּבֵי עֲרָכִים\n",
      "רצוי:  הַגִּזְבָּר. (יד) חַיָּבֵי עֲרָכִים\n",
      "\n",
      "מצוי:  עָלֶיךָ, עֵינֵינוּ. זֵכֶר-רַחֲמֶיךָ יְהוָה,\n",
      "רצוי:  עָלֶיךָ, עֵינֵינוּ. זְכֹר-רַחֲמֶיךָ יְהוָה,\n",
      "\n",
      "מצוי:  הַמָּעוֹת; וְנוֹתֵן הַגְּרֹגְּרוֹת שֶהִפְרִיש\n",
      "רצוי:  הַמָּעוֹת; וְנוֹתֵן הַגְּרֹגְּרוֹת שֶהִפְרִיש\n",
      "\n",
      "מצוי:  עַד שֶיַּשְבִּיעֵם בְּלָשוֹן שְהֶן מַכִּירִין\n",
      "רצוי:  עַד שֶיַּשְבִּיעֵם בְּלָשוֹן שְהֶן מַכִּירִין\n",
      "\n",
      "מצוי:  יָתֵר, הַנִּכְנָס לְשֵם טָהוֹר; הָיְתָה פְּחוּתָה\n",
      "רצוי:  יָתֵר, הַנִּכְנָס לְשָם טָהוֹר; הָיְתָה פְּחוּתָה\n",
      "\n"
     ]
    }
   ],
   "source": [
    "def print_predictions(k):\n",
    "    s = slice(k*BATCH_SIZE, (k+1)*BATCH_SIZE)\n",
    "    batch = data.normalized_validation[s]\n",
    "    prediction = model.predict(batch)\n",
    "    [actual_niqqud, actual_dagesh] = [dataset.from_categorical(prediction[0]), dataset.from_categorical(prediction[1])]\n",
    "    [expected_niqqud, expected_dagesh] = [data.niqqud_validation[s], data.dagesh_validation[s]]\n",
    "    actual = data.merge(batch, ns=actual_niqqud, ds=actual_dagesh)\n",
    "    expected = data.merge(batch, ns=expected_niqqud, ds=expected_dagesh)\n",
    "    for i, (a, e) in enumerate(zip(actual, expected)):\n",
    "        print('מצוי: ', a)\n",
    "        print('רצוי: ', e)\n",
    "        print()\n",
    "\n",
    "print_predictions(1)"
   ]
  },
  {
   "cell_type": "code",
   "execution_count": 8,
   "metadata": {},
   "outputs": [
    {
     "name": "stdout",
     "output_type": "stream",
     "text": [
      "['', 'ְ', 'ֱ', 'ֲ', 'ֳ', 'ִ', 'ֵ', 'ֶ', 'ַ', 'ָ', 'ֹ', 'ֺ', 'ֻ', 'ּ', 'ַ']\n"
     ]
    }
   ],
   "source": [
    "print(dataset.niqqud_table.chars)"
   ]
  },
  {
   "cell_type": "code",
   "execution_count": null,
   "metadata": {},
   "outputs": [],
   "source": []
  }
 ],
 "metadata": {
  "kernelspec": {
   "display_name": "Python 3",
   "language": "python",
   "name": "python3"
  },
  "language_info": {
   "codemirror_mode": {
    "name": "ipython",
    "version": 3
   },
   "file_extension": ".py",
   "mimetype": "text/x-python",
   "name": "python",
   "nbconvert_exporter": "python",
   "pygments_lexer": "ipython3",
   "version": "3.7.4"
  }
 },
 "nbformat": 4,
 "nbformat_minor": 4
}
