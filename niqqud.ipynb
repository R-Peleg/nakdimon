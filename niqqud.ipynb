{
 "cells": [
  {
   "cell_type": "code",
   "execution_count": 1,
   "metadata": {},
   "outputs": [
    {
     "name": "stdout",
     "output_type": "stream",
     "text": [
      "[HebrewItem(letter='“', dagesh='', sin='', niqqud=''), HebrewItem(letter='א', dagesh='', sin='', niqqud='ַ'), HebrewItem(letter='י', dagesh='', sin='', niqqud=''), HebrewItem(letter='-', dagesh='', sin='', niqqud=''), HebrewItem(letter='א', dagesh='', sin='', niqqud='ַ'), HebrewItem(letter='י', dagesh='', sin='', niqqud=''), HebrewItem(letter=' ', dagesh='', sin='', niqqud=''), HebrewItem(letter='ב', dagesh='ּ', sin='', niqqud='ַ'), HebrewItem(letter='ח', dagesh='', sin='', niqqud=''), HebrewItem(letter='ו', dagesh='ּ', sin='', niqqud=''), HebrewItem(letter='ר', dagesh='', sin='', niqqud='ִ'), HebrewItem(letter='י', dagesh='', sin='', niqqud=''), HebrewItem(letter='ם', dagesh='', sin='', niqqud=''), HebrewItem(letter='!', dagesh='', sin='', niqqud=''), HebrewItem(letter='”', dagesh='', sin='', niqqud=''), HebrewItem(letter=' ', dagesh='', sin='', niqqud=''), HebrewItem(letter='ע', dagesh='', sin='', niqqud='ָ'), HebrewItem(letter='נ', dagesh='', sin='', niqqud='ָ'), HebrewItem(letter='ה', dagesh='', sin='', niqqud=''), HebrewItem(letter=' ', dagesh='', sin='', niqqud=''), HebrewItem(letter='ס', dagesh='', sin='', niqqud='ִ'), HebrewItem(letter='י', dagesh='', sin='', niqqud=''), HebrewItem(letter='ל', dagesh='', sin='', niqqud='ְ'), HebrewItem(letter='ב', dagesh='', sin='', niqqud='ֶ'), HebrewItem(letter='ר', dagesh='', sin='', niqqud=''), HebrewItem(letter=' ', dagesh='', sin='', niqqud=''), HebrewItem(letter='ש', dagesh='', sin='ׁ', niqqud='ֶ'), HebrewItem(letter='ע', dagesh='', sin='', niqqud='ָ'), HebrewItem(letter='מ', dagesh='', sin='', niqqud='ַ'), HebrewItem(letter='ד', dagesh='', sin='', niqqud=''), HebrewItem(letter=' ', dagesh='', sin='', niqqud=''), HebrewItem(letter='ב', dagesh='ּ', sin='', niqqud='ְ'), HebrewItem(letter='ס', dagesh='', sin='', niqqud='ָ'), HebrewItem(letter='מ', dagesh='', sin='', niqqud=''), HebrewItem(letter='ו', dagesh='ּ', sin='', niqqud=''), HebrewItem(letter='ך', dagesh='', sin='', niqqud='ְ'), HebrewItem(letter=',', dagesh='', sin='', niqqud=''), HebrewItem(letter=' ', dagesh='', sin='', niqqud=''), HebrewItem(letter='ה', dagesh='', sin='', niqqud='ַ'), HebrewItem(letter='ק', dagesh='', sin='', niqqud='ַ'), HebrewItem(letter='ב', dagesh='', sin='', niqqud=''), HebrewItem(letter=' ', dagesh='', sin='', niqqud=''), HebrewItem(letter='מ', dagesh='', sin='', niqqud='ִ'), HebrewItem(letter='ת', dagesh='ּ', sin='', niqqud='ַ'), HebrewItem(letter='ח', dagesh='', sin='', niqqud='ַ'), HebrewItem(letter='ת', dagesh='', sin='', niqqud='')]\n",
      "[HebrewItem(letter='ל', dagesh='', sin='', niqqud=''), HebrewItem(letter='ב', dagesh='', sin='', niqqud='ֵ'), HebrewItem(letter='י', dagesh='', sin='', niqqud=''), HebrewItem(letter='ת', dagesh='', sin='', niqqud=''), HebrewItem(letter='-', dagesh='', sin='', niqqud=''), HebrewItem(letter='ה', dagesh='', sin='', niqqud='ַ'), HebrewItem(letter='ש', dagesh='', sin='ׁ', niqqud='ֶ'), HebrewItem(letter='ח', dagesh='', sin='', niqqud='ִ'), HebrewItem(letter='י', dagesh='', sin='', niqqud=''), HebrewItem(letter=',', dagesh='', sin='', niqqud=''), HebrewItem(letter=' ', dagesh='', sin='', niqqud=''), HebrewItem(letter='ו', dagesh='ּ', sin='', niqqud=''), HebrewItem(letter='ל', dagesh='', sin='', niqqud='ְ'), HebrewItem(letter='פ', dagesh='', sin='', niqqud='ֶ'), HebrewItem(letter='ת', dagesh='', sin='', niqqud='ַ'), HebrewItem(letter='ע', dagesh='', sin='', niqqud=''), HebrewItem(letter=' ', dagesh='', sin='', niqqud=''), HebrewItem(letter='פ', dagesh='ּ', sin='', niqqud='ִ'), HebrewItem(letter='ת', dagesh='', sin='', niqqud='ְ'), HebrewItem(letter='א', dagesh='', sin='', niqqud='ֹ'), HebrewItem(letter='ם', dagesh='', sin='', niqqud=''), HebrewItem(letter=' ', dagesh='', sin='', niqqud=''), HebrewItem(letter='פ', dagesh='ּ', sin='', niqqud='ָ'), HebrewItem(letter='צ', dagesh='', sin='', niqqud='ַ'), HebrewItem(letter='ח', dagesh='', sin='', niqqud=''), HebrewItem(letter=' ', dagesh='', sin='', niqqud=''), HebrewItem(letter='ב', dagesh='ּ', sin='', niqqud='ְ'), HebrewItem(letter='ז', dagesh='', sin='', niqqud='ֶ'), HebrewItem(letter='מ', dagesh='', sin='', niqqud='ֶ'), HebrewItem(letter='ר', dagesh='', sin='', niqqud=''), HebrewItem(letter=' ', dagesh='', sin='', niqqud=''), HebrewItem(letter='ו', dagesh='', sin='', niqqud='ְ'), HebrewItem(letter='ה', dagesh='', sin='', niqqud='ִ'), HebrewItem(letter='ש', dagesh='', sin='ׁ', niqqud='ְ'), HebrewItem(letter='מ', dagesh='', sin='', niqqud='ִ'), HebrewItem(letter='י', dagesh='', sin='', niqqud=''), HebrewItem(letter='ע', dagesh='', sin='', niqqud='ַ'), HebrewItem(letter=' ', dagesh='', sin='', niqqud=''), HebrewItem(letter='א', dagesh='', sin='', niqqud='ֶ'), HebrewItem(letter='ת', dagesh='', sin='', niqqud=''), HebrewItem(letter=' ', dagesh='', sin='', niqqud=''), HebrewItem(letter='ה', dagesh='', sin='', niqqud='ַ'), HebrewItem(letter='מ', dagesh='', sin='', niqqud='ִ'), HebrewItem(letter='ל', dagesh='', sin='', niqqud='ִ'), HebrewItem(letter='י', dagesh='', sin='', niqqud=''), HebrewItem(letter='ם', dagesh='', sin='', niqqud=''), HebrewItem(letter=' ', dagesh='', sin='', niqqud=''), HebrewItem(letter='ש', dagesh='', sin='ׁ', niqqud='ֶ'), HebrewItem(letter='ה', dagesh='', sin='', niqqud='ִ'), HebrewItem(letter='כ', dagesh='ּ', sin='', niqqud='ַ'), HebrewItem(letter='ר', dagesh='', sin='', niqqud='ְ'), HebrewItem(letter='ת', dagesh='ּ', sin='', niqqud='ִ'), HebrewItem(letter='י', dagesh='', sin='', niqqud='')]\n",
      "[HebrewItem(letter='י', dagesh='', sin='', niqqud='ָ'), HebrewItem(letter='פ', dagesh='', sin='', niqqud='ֶ'), HebrewItem(letter='ה', dagesh='', sin='', niqqud=''), HebrewItem(letter=' ', dagesh='', sin='', niqqud=''), HebrewItem(letter='כ', dagesh='ּ', sin='', niqqud='ָ'), HebrewItem(letter='ל', dagesh='', sin='', niqqud=''), HebrewItem(letter='-', dagesh='', sin='', niqqud=''), HebrewItem(letter='כ', dagesh='ּ', sin='', niqqud='ָ'), HebrewItem(letter='ך', dagesh='', sin='', niqqud='ְ'), HebrewItem(letter=':', dagesh='', sin='', niqqud='')]\n"
     ]
    }
   ],
   "source": [
    "%load_ext tensorboard\n",
    "import datetime\n",
    "import tensorflow as tf\n",
    "from tensorflow.keras import layers\n",
    "from tensorflow.keras.utils import plot_model\n",
    "import numpy as np\n",
    "import dataset\n"
   ]
  },
  {
   "cell_type": "code",
   "execution_count": 2,
   "metadata": {},
   "outputs": [
    {
     "ename": "IndexError",
     "evalue": "list index out of range",
     "output_type": "error",
     "traceback": [
      "\u001b[1;31m---------------------------------------------------------------------------\u001b[0m",
      "\u001b[1;31mIndexError\u001b[0m                                Traceback (most recent call last)",
      "\u001b[1;32m<ipython-input-2-a83a713d0edc>\u001b[0m in \u001b[0;36m<module>\u001b[1;34m\u001b[0m\n\u001b[0;32m      4\u001b[0m \u001b[0mBATCH_SIZE\u001b[0m \u001b[1;33m=\u001b[0m \u001b[1;36m16\u001b[0m  \u001b[1;31m# 512\u001b[0m\u001b[1;33m\u001b[0m\u001b[1;33m\u001b[0m\u001b[0m\n\u001b[0;32m      5\u001b[0m data = dataset.load_file(BATCH_SIZE, 0.1, maxlen=MAXLEN,\n\u001b[1;32m----> 6\u001b[1;33m                          filenames=['texts/short_table.txt', 'texts/treasure_island.txt'])  # 'texts/bible.txt', \n\u001b[0m",
      "\u001b[1;32m~\\workspace\\niqqud\\dataset.py\u001b[0m in \u001b[0;36mload_file\u001b[1;34m(batch_size, validation_rate, filenames, maxlen, shuffle)\u001b[0m\n\u001b[0;32m     76\u001b[0m             \u001b[0mheb_items\u001b[0m\u001b[1;33m.\u001b[0m\u001b[0mextend\u001b[0m\u001b[1;33m(\u001b[0m\u001b[0mhebrew\u001b[0m\u001b[1;33m.\u001b[0m\u001b[0miterate_dotted_text\u001b[0m\u001b[1;33m(\u001b[0m\u001b[0mtext\u001b[0m\u001b[1;33m)\u001b[0m\u001b[1;33m)\u001b[0m\u001b[1;33m\u001b[0m\u001b[1;33m\u001b[0m\u001b[0m\n\u001b[0;32m     77\u001b[0m \u001b[1;33m\u001b[0m\u001b[0m\n\u001b[1;32m---> 78\u001b[1;33m     \u001b[0msplitted_lines\u001b[0m \u001b[1;33m=\u001b[0m \u001b[0mlist\u001b[0m\u001b[1;33m(\u001b[0m\u001b[0mhebrew\u001b[0m\u001b[1;33m.\u001b[0m\u001b[0msplit_by_length\u001b[0m\u001b[1;33m(\u001b[0m\u001b[0mheb_items\u001b[0m\u001b[1;33m,\u001b[0m \u001b[0mmaxlen\u001b[0m\u001b[1;33m)\u001b[0m\u001b[1;33m)\u001b[0m\u001b[1;33m\u001b[0m\u001b[1;33m\u001b[0m\u001b[0m\n\u001b[0m\u001b[0;32m     79\u001b[0m     \u001b[1;32mif\u001b[0m \u001b[0mshuffle\u001b[0m\u001b[1;33m:\u001b[0m\u001b[1;33m\u001b[0m\u001b[1;33m\u001b[0m\u001b[0m\n\u001b[0;32m     80\u001b[0m         \u001b[0mnp\u001b[0m\u001b[1;33m.\u001b[0m\u001b[0mrandom\u001b[0m\u001b[1;33m.\u001b[0m\u001b[0mshuffle\u001b[0m\u001b[1;33m(\u001b[0m\u001b[0msplitted_lines\u001b[0m\u001b[1;33m)\u001b[0m\u001b[1;33m\u001b[0m\u001b[1;33m\u001b[0m\u001b[0m\n",
      "\u001b[1;32m~\\workspace\\niqqud\\hebrew.py\u001b[0m in \u001b[0;36msplit_by_length\u001b[1;34m(heb_items, maxlen)\u001b[0m\n\u001b[0;32m     94\u001b[0m             \u001b[1;32mbreak\u001b[0m\u001b[1;33m\u001b[0m\u001b[1;33m\u001b[0m\u001b[0m\n\u001b[0;32m     95\u001b[0m         \u001b[0mub\u001b[0m \u001b[1;33m=\u001b[0m \u001b[0mmaxlen\u001b[0m\u001b[1;33m\u001b[0m\u001b[1;33m\u001b[0m\u001b[0m\n\u001b[1;32m---> 96\u001b[1;33m         \u001b[1;32mwhile\u001b[0m \u001b[0mub\u001b[0m \u001b[1;33m>\u001b[0m \u001b[1;36m0\u001b[0m \u001b[1;32mand\u001b[0m \u001b[0mheb_items\u001b[0m\u001b[1;33m[\u001b[0m\u001b[0mstart\u001b[0m \u001b[1;33m+\u001b[0m \u001b[0mub\u001b[0m\u001b[1;33m]\u001b[0m\u001b[1;33m[\u001b[0m\u001b[1;36m0\u001b[0m\u001b[1;33m]\u001b[0m \u001b[1;33m!=\u001b[0m \u001b[1;34m' '\u001b[0m\u001b[1;33m:\u001b[0m\u001b[1;33m\u001b[0m\u001b[1;33m\u001b[0m\u001b[0m\n\u001b[0m\u001b[0;32m     97\u001b[0m             \u001b[0mub\u001b[0m \u001b[1;33m-=\u001b[0m \u001b[1;36m1\u001b[0m\u001b[1;33m\u001b[0m\u001b[1;33m\u001b[0m\u001b[0m\n\u001b[0;32m     98\u001b[0m         \u001b[1;32mif\u001b[0m \u001b[0mub\u001b[0m \u001b[1;33m==\u001b[0m \u001b[1;36m0\u001b[0m\u001b[1;33m:\u001b[0m\u001b[1;33m\u001b[0m\u001b[1;33m\u001b[0m\u001b[0m\n",
      "\u001b[1;31mIndexError\u001b[0m: list index out of range"
     ]
    }
   ],
   "source": [
    "import importlib\n",
    "importlib.reload(dataset)\n",
    "MAXLEN = 30\n",
    "BATCH_SIZE = 16  # 512\n",
    "data = dataset.load_file(BATCH_SIZE, 0.1, maxlen=MAXLEN,\n",
    "                         filenames=['texts/short_table.txt', 'texts/treasure_island.txt'])  # 'texts/bible.txt', "
   ]
  },
  {
   "cell_type": "code",
   "execution_count": null,
   "metadata": {},
   "outputs": [],
   "source": [
    "l2 = tf.keras.regularizers.l2\n",
    "l1 = tf.keras.regularizers.l1\n",
    "\n",
    "EMBED_DIM = 2**10  # larger -> quicker opening. knee at 1024\n",
    "\n",
    "inp = tf.keras.Input(shape=(data.input_texts.shape[1],), batch_size=BATCH_SIZE)\n",
    "\n",
    "h = layers.Embedding(len(data.letters_table), EMBED_DIM, mask_zero=True)(inp)\n",
    "# h = layers.Dropout(DROP)(h)\n",
    "\n",
    "h = layers.Bidirectional(layers.GRU(128, return_sequences=True, recurrent_regularizer=None), merge_mode='sum')(h)  # =l2(1e-6)\n",
    "h = layers.Dropout(0.3)(h) \n",
    "\n",
    "h = layers.Bidirectional(layers.GRU(128, return_sequences=True, recurrent_regularizer=None), merge_mode='sum')(h)\n",
    "h = layers.Dropout(0.3)(h) \n",
    "\n",
    "# h = h1  # layers.Add()([h1, h])\n",
    "    \n",
    "h = layers.Dense(128, activation='relu', kernel_regularizer=l2(5e-5))(h)\n",
    "h = layers.Dropout(0.3)(h) \n",
    "#h = layers.Add()([h1, h])\n",
    "# for k in range(1):\n",
    "#     h = layers.Add()([h, Dense(256)(h)])\n",
    "\n",
    "h = layers.Dense(data.niqqud_texts.shape[2])(h)\n",
    "model_niqqud = tf.keras.Model(inputs=[inp], outputs=[h])\n",
    "adam = tf.keras.optimizers.Adam(learning_rate=0.001, beta_1=0.9, beta_2=0.999, amsgrad=False)\n",
    "model_niqqud.compile(loss='mean_squared_logarithmic_error', optimizer=adam, metrics=['accuracy'])\n",
    "\n",
    "plot_model(model_niqqud, to_file='model.png')\n",
    "model_niqqud.summary()\n"
   ]
  },
  {
   "cell_type": "code",
   "execution_count": null,
   "metadata": {},
   "outputs": [],
   "source": [
    "\n",
    "log_dir = \"logs\\\\fit\\\\\" + datetime.datetime.now().strftime(\"%Y%m%d-%H%M%S\")\n",
    "tensorboard_callback = tf.keras.callbacks.TensorBoard(log_dir=log_dir, histogram_freq=1)\n",
    "def fit(EPOCHS):\n",
    "    return model_niqqud.fit(data.input_texts, data.niqqud_texts,\n",
    "          batch_size=BATCH_SIZE,\n",
    "          epochs=EPOCHS,\n",
    "          validation_data=(data.input_validation, data.niqqud_validation),\n",
    "          callbacks=[\n",
    "              # tf.keras.callbacks.ModelCheckpoint(filepath='niqqud_checkpoints/ckpt_{epoch}', save_weights_only=True),\n",
    "              tf.keras.callbacks.EarlyStopping(monitor='accuracy', patience=2, verbose=1),\n",
    "              tf.keras.callbacks.ReduceLROnPlateau(monitor='loss', factor=0.2, patience=0, min_lr=0.0001),\n",
    "              # tensorboard_callback,\n",
    "          ]\n",
    "    )\n",
    "\n",
    "history = fit(EPOCHS=10)"
   ]
  },
  {
   "cell_type": "code",
   "execution_count": null,
   "metadata": {},
   "outputs": [],
   "source": [
    "history1 = fit(EPOCHS=10)"
   ]
  },
  {
   "cell_type": "code",
   "execution_count": null,
   "metadata": {},
   "outputs": [],
   "source": [
    "import matplotlib.pyplot as plt\n",
    "\n",
    "for n, v in enumerate(['accuracy', 'loss'], 1):\n",
    "    plt.subplot(1, 2, n)\n",
    "    plt.plot(history.history[v][0:])\n",
    "    plt.plot(history.history['val_' +  v][0:])\n",
    "    plt.title('Model ' + v)\n",
    "    plt.ylabel(v)\n",
    "    plt.xlabel('Epoch')\n",
    "    plt.legend(['Train', 'Test'], loc='upper left')\n",
    "    \n",
    "plt.tight_layout()"
   ]
  },
  {
   "cell_type": "code",
   "execution_count": null,
   "metadata": {},
   "outputs": [],
   "source": [
    "\n",
    "model = tf.keras.Model(inputs=[inp], outputs=[tf.keras.layers.Softmax()(h)])\n",
    "\n",
    "def print_predictions(batch):\n",
    "    results = data.merge(batch, ns=model.predict(batch))\n",
    "\n",
    "    for r in results:\n",
    "        print(r)\n",
    "\n",
    "\n",
    "\n",
    "print_predictions(data.input_validation[4:4+BATCH_SIZE])"
   ]
  },
  {
   "cell_type": "code",
   "execution_count": null,
   "metadata": {},
   "outputs": [],
   "source": [
    "# model.load_weights(tf.train.latest_checkpoint('niqqud_checkpoints/'))"
   ]
  },
  {
   "cell_type": "code",
   "execution_count": null,
   "metadata": {},
   "outputs": [],
   "source": [
    "print(history.history['val_accuracy'])"
   ]
  },
  {
   "cell_type": "code",
   "execution_count": null,
   "metadata": {},
   "outputs": [],
   "source": [
    "%tensorboard --logdir logs\\fit"
   ]
  }
 ],
 "metadata": {
  "kernelspec": {
   "display_name": "Python 3",
   "language": "python",
   "name": "python3"
  },
  "language_info": {
   "codemirror_mode": {
    "name": "ipython",
    "version": 3
   },
   "file_extension": ".py",
   "mimetype": "text/x-python",
   "name": "python",
   "nbconvert_exporter": "python",
   "pygments_lexer": "ipython3",
   "version": "3.7.4"
  }
 },
 "nbformat": 4,
 "nbformat_minor": 4
}
