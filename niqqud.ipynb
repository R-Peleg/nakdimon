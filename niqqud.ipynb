{
 "cells": [
  {
   "cell_type": "code",
   "execution_count": 98,
   "metadata": {},
   "outputs": [],
   "source": [
    "import os\n",
    "import numpy as np\n",
    "from tensorflow import keras\n",
    "from tensorflow.keras import layers\n",
    "\n",
    "import dataset\n",
    "from dataset import CircularLearningRate\n",
    "\n",
    "from tensorflow import config\n",
    "assert config.list_physical_devices('GPU')"
   ]
  },
  {
   "cell_type": "code",
   "execution_count": 148,
   "metadata": {
    "scrolled": true
   },
   "outputs": [
    {
     "name": "stdout",
     "output_type": "stream",
     "text": [
      "Model: \"model_8\"\n",
      "__________________________________________________________________________________________________\n",
      "Layer (type)                    Output Shape         Param #     Connected to                     \n",
      "==================================================================================================\n",
      "input_9 (InputLayer)            [(None, 64)]         0                                            \n",
      "__________________________________________________________________________________________________\n",
      "embedding_8 (Embedding)         (None, 64, 110)      4840        input_9[0][0]                    \n",
      "__________________________________________________________________________________________________\n",
      "bidirectional_16 (Bidirectional (None, 64, 220)      582560      embedding_8[0][0]                \n",
      "__________________________________________________________________________________________________\n",
      "bidirectional_17 (Bidirectional (None, 64, 220)      776160      bidirectional_16[0][0]           \n",
      "__________________________________________________________________________________________________\n",
      "add_8 (Add)                     (None, 64, 220)      0           bidirectional_16[0][0]           \n",
      "                                                                 bidirectional_17[0][0]           \n",
      "__________________________________________________________________________________________________\n",
      "dense_24 (Dense)                (None, 64, 16)       3536        add_8[0][0]                      \n",
      "__________________________________________________________________________________________________\n",
      "dense_25 (Dense)                (None, 64, 3)        663         add_8[0][0]                      \n",
      "__________________________________________________________________________________________________\n",
      "dense_26 (Dense)                (None, 64, 4)        884         add_8[0][0]                      \n",
      "__________________________________________________________________________________________________\n",
      "N (Softmax)                     (None, 64, 16)       0           dense_24[0][0]                   \n",
      "__________________________________________________________________________________________________\n",
      "D (Softmax)                     (None, 64, 3)        0           dense_25[0][0]                   \n",
      "__________________________________________________________________________________________________\n",
      "S (Softmax)                     (None, 64, 4)        0           dense_26[0][0]                   \n",
      "==================================================================================================\n",
      "Total params: 1,368,643\n",
      "Trainable params: 1,368,643\n",
      "Non-trainable params: 0\n",
      "__________________________________________________________________________________________________\n"
     ]
    }
   ],
   "source": [
    "BATCH_SIZE = 32\n",
    "MAXLEN = 64\n",
    "\n",
    "LETTERS_SIZE = len(dataset.letters_table)\n",
    "NIQQUD_SIZE = len(dataset.niqqud_table)\n",
    "DAGESH_SIZE = len(dataset.dagesh_table)\n",
    "SIN_SIZE = len(dataset.sin_table)\n",
    "KINDS_SIZE = len(dataset.KINDS)\n",
    "\n",
    "def build_model(EMBED_DIM=110, UNITS=220):\n",
    "\n",
    "    layer = input_text = keras.Input(batch_shape=(None, MAXLEN), batch_size=BATCH_SIZE)\n",
    "    \n",
    "    layer = layers.Embedding(LETTERS_SIZE, EMBED_DIM, input_length=MAXLEN, mask_zero=True)(layer)\n",
    "    layer = layers.Bidirectional(layers.LSTM(UNITS, return_sequences=True), merge_mode='sum')(layer)\n",
    "    layer = layers.add([layer, \n",
    "            layers.Bidirectional(layers.LSTM(UNITS, return_sequences=True), merge_mode='sum')(layer)])\n",
    "    \n",
    "    outputs = [\n",
    "        layers.Softmax(name='N')(layers.Dense(NIQQUD_SIZE)(layer)),\n",
    "        layers.Softmax(name='D')(layers.Dense(DAGESH_SIZE)(layer)),\n",
    "        layers.Softmax(name='S')(layers.Dense(SIN_SIZE)(layer)),\n",
    "    ]\n",
    "    model = keras.Model(inputs=[input_text], outputs=outputs)\n",
    "\n",
    "    jsmodel = model \n",
    "    # keras.utils.plot_model(model, to_file='model.png')\n",
    "    return model, jsmodel\n",
    "\n",
    "model, jsmodel = build_model()\n",
    "\n",
    "model.summary()\n",
    "model.save_weights('./checkpoints/uninit')"
   ]
  },
  {
   "cell_type": "code",
   "execution_count": 100,
   "metadata": {},
   "outputs": [],
   "source": [
    "def fit(train_validation, scheduler, verbose=1):\n",
    "    train, valid = train_validation\n",
    "    model.compile(loss='sparse_categorical_crossentropy', optimizer='adam', metrics=['accuracy'])\n",
    "    callbacks = []\n",
    "    if isinstance(scheduler, CircularLearningRate):\n",
    "        scheduler.set_dataset(train, BATCH_SIZE)\n",
    "    if scheduler:\n",
    "        callbacks.append(scheduler)\n",
    "        \n",
    "    x  = train.normalized\n",
    "    vx = valid.normalized\n",
    "    y  = {'N': train.niqqud, 'D': train.dagesh, 'S': train.sin, 'C': train.normalized }\n",
    "    vy = {'N': valid.niqqud, 'D': valid.dagesh, 'S': valid.sin, 'C': valid.normalized }\n",
    "    return model.fit(x, y, validation_data=(vx, vy), batch_size=BATCH_SIZE, epochs=1, verbose=verbose, callbacks=callbacks)\n"
   ]
  },
  {
   "cell_type": "code",
   "execution_count": 101,
   "metadata": {},
   "outputs": [],
   "source": [
    "def load_data(source, maxlen=MAXLEN, validation=0.1):\n",
    "    filenames = [os.path.join('texts', f) for f in source]\n",
    "    train, valid = dataset.load_data(filenames, validation, maxlen=maxlen)\n",
    "    return train, valid"
   ]
  },
  {
   "cell_type": "code",
   "execution_count": 142,
   "metadata": {},
   "outputs": [],
   "source": [
    "data_other = load_data(['biblical', 'garbage', 'poetry'])"
   ]
  },
  {
   "cell_type": "code",
   "execution_count": 143,
   "metadata": {},
   "outputs": [],
   "source": [
    "data_rabanit = load_data(['rabanit'])"
   ]
  },
  {
   "cell_type": "code",
   "execution_count": 144,
   "metadata": {},
   "outputs": [],
   "source": [
    "data_pre_modern = load_data(['pre_modern'])"
   ]
  },
  {
   "cell_type": "code",
   "execution_count": 145,
   "metadata": {},
   "outputs": [],
   "source": [
    "data_modern = load_data(validation=0.2, source=['modern'])"
   ]
  },
  {
   "cell_type": "code",
   "execution_count": null,
   "metadata": {},
   "outputs": [
    {
     "name": "stdout",
     "output_type": "stream",
     "text": [
      "Train on 49673 samples, validate on 90 samples\n",
      "10848/49673 [=====>........................] - ETA: 1:13 - loss: 1.0255 - N_loss: 0.8171 - D_loss: 0.1648 - S_loss: 0.0436 - N_accuracy: 0.7138 - D_accuracy: 0.9351 - S_accuracy: 0.9880"
     ]
    }
   ],
   "source": [
    "model.load_weights('./checkpoints/uninit')\n",
    "history = fit(data_other, scheduler=CircularLearningRate(20e-4, 50e-4, 5e-4))  # val_N_accuracy: 0.9201 - val_D_accuracy: 0.9736\n",
    "model.save_weights('./checkpoints/other')"
   ]
  },
  {
   "cell_type": "code",
   "execution_count": null,
   "metadata": {},
   "outputs": [],
   "source": [
    "model.load_weights('./checkpoints/other')\n",
    "history = fit(data_rabanit, scheduler=CircularLearningRate(20e-4, 50e-4, 5e-4))  # val_N_accuracy: 0.9301 - val_D_accuracy: 0.9787\n",
    "model.save_weights('./checkpoints/rabanit')"
   ]
  },
  {
   "cell_type": "code",
   "execution_count": null,
   "metadata": {},
   "outputs": [],
   "source": [
    "model.load_weights('./checkpoints/rabanit')\n",
    "history = fit(data_pre_modern, scheduler=CircularLearningRate(20e-4, 40e-4, 0.1e-4))  # val_N_accuracy: 0.9349 - val_D_accuracy: 0.9803\n",
    "model.save_weights('./checkpoints/pre_modern')"
   ]
  },
  {
   "cell_type": "code",
   "execution_count": null,
   "metadata": {},
   "outputs": [],
   "source": [
    "model.load_weights('./checkpoints/pre_modern')\n",
    "history = fit(data_modern, scheduler=CircularLearningRate(6e-3, 6e-3, 0.1e-3))  #  val_N_accuracy: 0.9609 - val_D_accuracy: 0.9853\n",
    "# history = fit(data_modern, scheduler=CircularLearningRate(1e-3, 7e-3, 0.5e-3))\n",
    "model.save_weights('./checkpoints/modern')"
   ]
  },
  {
   "cell_type": "code",
   "execution_count": null,
   "metadata": {},
   "outputs": [],
   "source": [
    "import matplotlib.pyplot as plt\n",
    "\n",
    "fig, ax = plt.subplots(nrows=2, ncols=2)\n",
    "\n",
    "for n, v in enumerate(['accuracy', 'loss'], 0):\n",
    "    for n1, t in enumerate(['D', 'N'], 0):\n",
    "        p = ax[n][n1]\n",
    "        p.plot(history.history[t + '_' + v][0:])\n",
    "        p.plot(history.history['val_' + t + '_' +  v][0:])\n",
    "        p.legend([t + '_Train', t + '_Test'], loc='center right')\n",
    "\n",
    "plt.tight_layout()"
   ]
  },
  {
   "cell_type": "code",
   "execution_count": null,
   "metadata": {},
   "outputs": [],
   "source": [
    "jsmodel.summary()"
   ]
  },
  {
   "cell_type": "code",
   "execution_count": 87,
   "metadata": {},
   "outputs": [],
   "source": [
    "import tensorflowjs as tfjs\n",
    "jsmodel.load_weights('./checkpoints/modern')\n",
    "tfjs.converters.save_keras_model(jsmodel, '.')"
   ]
  },
  {
   "cell_type": "code",
   "execution_count": 140,
   "metadata": {},
   "outputs": [
    {
     "name": "stdout",
     "output_type": "stream",
     "text": [
      "מצוי:  מִלְחָמָה - יֵיאָלְצוּ אוֹתָנוּ לְכָךְ. אִם נַעֲשָׂה זֹאת נַחְסוֹךְ לְעַצְמֵנוּ שָׁנִים שֶׁל \n",
      "רצוי:  מִלְחָמָה - יֵיאָלְצוּ אוֹתָנוּ לְכָךְ. אִם נַעֲשָׂה זֹאת נַחֲסוֹךְ לְעַצְמֵנוּ שָׁנִים שֶׁל \n",
      "מצוי:  י\"ג-י\"ד, וְהֵן בְּעִיקָּר תְּעוּדוֹת הוֹרָאָה, תְּעוּדוֹת הַכְשָׁרָה מִקְצוֹעִית \n",
      "רצוי:  י\"ג-י\"ד, וְהֵן בְּעִיקָּר תְּעוּדוֹת הוֹרָאָה, תְּעוּדוֹת הַכְשָׁרָה מִקְצוֹעִית \n",
      "מצוי:  הַזַּעֲזוּעַ מֵהָרֶצַח סַחַף אַחֲרָיו רָצוֹן לִפְעוֹל פְּעוּלָּה מַעֲשִׂית לְעִיצּוּב פְּנֵי הַחֶבְרָה \n",
      "רצוי:  הַזַּעֲזוּעַ מֵהָרֶצַח סָחַף אַחֲרָיו רָצוֹן לִפְעוֹל פְּעוּלָּה מַעֲשִׂית לְעִיצּוּב פְּנֵי הַחֶבְרָה \n",
      "מצוי:  שֶׁל הַחַלַת רִיבּוֹנוּת יִשְׂרְאֵלִית בַּשְׁטָחִים מֵעֵבֶר לְקַו הַיָּרוֹק מַעְלָה שְׁאֵלוֹת \n",
      "רצוי:  שֶׁל הַחַלַּת רִיבּוֹנוּת יִשְׂרְאֵלִית בַּשְּׁטָחִים מֵעֵבֶר לַקַּו הַיָּרוֹק מַעֲלֶה שְׁאֵלוֹת \n",
      "מצוי:  קְצָת יוֹתֵר. חֶבְרָתִי פְּרְגָנָה לִשְׁנֵינוּ, וּמֵאָז וְעַד הַיּוֹם אֲנַחְנוּ בְּנֵי זוּג, \n",
      "רצוי:  קְצָת יוֹתֵר. חֲבֶרְתִּי פִרְגְּנָה לִשְׁנֵינוּ, וּמֵאָז וְעַד הַיּוֹם אֲנַחְנוּ בְּנֵי זוּג, \n",
      "מצוי:  הִתְמוּטְטוּתוֹ שֶׁל הֶסְכֵּם בְּרְטוֹן-ווֹדֵס, נַנְטְשָׁה לַחֲלוּטִין שִׁיטַת תַּקֵּן הַזָּהָב, \n",
      "רצוי:  הִתְמוֹטְטוּתוֹ שֶׁל הֶסְכֵּם בַּרְטוֹן-ווּדְס, נִנְטְשָׁה לַחֲלוּטִין שִׁיטַת תֶּקֶן הַזָּהָב, \n",
      "מצוי:  וּמְאַרְגֶּנֶת אֶת הַמַּצְעִים. הֵם מַנִּיחִים אֶת הַתִּיקִים בַּסָּלוֹן. הִיא יוֹצֵאת הַחוּצָה. \n",
      "רצוי:  וּמְאַרְגֶּנֶת אֶת הַמַּצָּעִים. הֵם מְנִיחִים אֶת הַתִּיקִים בַּסָּלוֹן. הִיא יוֹצֵאת הַחוּצָה. \n",
      "מצוי:  אוֹתָנוּ כְּמוֹ שֶׁהוּא עוֹשֶׂה בְּשִׁעוּרִים: \"עוֹד מַאֲמָץ קָטָן, אַתֶּם יְכוֹלִים יוֹתֵר \n",
      "רצוי:  אוֹתָנוּ כְּמוֹ שֶׁהוּא עוֹשֶׂה בְּשִׁעוּרִים: \"עוֹד מַאֲמָץ קָטָן, אַתֶּם יְכוֹלִים יוֹתֵר \n",
      "מצוי:  יִמְצָא מַשֶּׁהוּ. לֹא חָשַׁבְתִּי הַרְבֵּה, וְהַצַּעְתִי שֶׁיָּבוֹא אֵלַיי. אָמַרְתִּי לוֹ שֶׁהוּא \n",
      "רצוי:  יִמְצָא מַשֶּׁהוּ. לֹא חָשַׁבְתִּי הַרְבֵּה, וְהִצַּעְתִּי שֶׁיָּבוֹא אֵלַיי. אָמַרְתִּי לוֹ שֶׁהוּא \n",
      "מצוי:  וְאֲמָנַת גֶּ'נְבָה הָרְבִיעִית מִשְּׁנַת 5555. אֵין בְּכַוֶּונַת רְשִׁימָה זוֹ לְהַעֲמִיק \n",
      "רצוי:  וַאֲמָנַת גְ'נֵבָה הָרְבִיעִית מִשְּׁנַת 5555. אֵין בְּכַוָּונַת רְשִׁימָה זוֹ לְהַעֲמִיק \n",
      "מצוי:  הַחֶלָלִית וְיִיתָּכֵן וְהִיא הָיְתָה חוֹזֶרֶת לְתִפְקוּד רָגִיל\". לִדְבָרָיו, הַפְּקוּדָּה לֹא \n",
      "רצוי:  הַחֲלָלִית וְיִיתָּכֵן וְהִיא הָיְתָה חוֹזֶרֶת לְתִפְקוּד רָגִיל\". לִדְבָרָיו, הַפְּקוּדָּה לֹא \n",
      "מצוי:  הַמִּתְקַבְּלוֹת בֵּין הַיֶּתֶר כַּאֲשֶׁר מַצְמִידִים שְׁתֵּי מְנְסְּרוֹת אַחַת לִשְׁנִיָּיה. כְּדֵי \n",
      "רצוי:  הַמִּתְקַבְּלוֹת בֵּין הַיֶּתֶר כַּאֲשֶׁר מַצְמִידִים שְׁתֵּי מִנְסָרוֹת אַחַת לַשְּׁנִיָּיה. כְּדֵי \n",
      "מצוי:  שְׁשִּׁירְתָה אוֹתָנוּ נִיסְּתָה לְהַתְחִיל עִם הַדַּיְיט שֶׁלִּי, וְהוּא זֶרֶם אִיתָּהּ וּפְלְרֶטְט \n",
      "רצוי:  שֶׁשֵּׁירְתָה אוֹתָנוּ נִיסְּתָה לְהַתְחִיל עִם הַדֵּיְיט שֶׁלִּי, וְהוּא זָרַם אִיתָּהּ וּפְלִרְטֵט \n",
      "מצוי:  לְמַטְאֵל וַאֲפִילּוּ לָרוֹק - OOOOOOOOO הֵם בְּהֶחְלֵט מַשֶּׁהוּ מִחוּץ לִגְּבוּלוֹת \n",
      "רצוי:  לַמֵּטָאל וַאֲפִילּוּ לָרוֹק - OOOOOOOOO הֵם בְּהֶחְלֵט מַשֶּׁהוּ מִחוּץ לַגְּבוּלוֹת \n",
      "מצוי:  הַתִּקְשׁוֹרֶת. הַתְּגוּבָה שֶׁלּוֹ הִיא דּוּגְמָה מְעוּלֶּה לְאֵיךְ, לִפְעָמִים, עוֹבְדֵי צִיבּוּר \n",
      "רצוי:  הַתִּקְשׁוֹרֶת. הַתְּגוּבָה שֶׁלּוֹ הִיא דּוּגְמָה מְעוּלָּה לְאֵיךְ, לִפְעָמִים, עוֹבְדֵי צִיבּוּר \n",
      "מצוי:  יִסְבּוֹל מִן הַנְּפִיצָה שֶׁל הָאוֹר הַלָּבָן לַצְּבָעִים הַשּׁוֹנִים הַמַּרְכִּיבִים אוֹתוֹ - \n",
      "רצוי:  יִסְבּוֹל מִן הַנְּפִיצָה שֶׁל הָאוֹר הַלָּבָן לַצְּבָעִים הַשּׁוֹנִים הַמַּרְכִּיבִים אוֹתוֹ - \n",
      "מצוי:  לְמַעֲשֶׂה הַמִּשְׁפָּחוֹת שֶׁל הַפּוֹעֲלִים הַפְּשׁוּטִים וְלֹא הִתַאַגִּידִים וְכֵן מַעֲבִיר בִּיקּוֹרֶת \n",
      "רצוי:  לְמַעֲשֶׂה הַמִּשְׁפָּחוֹת שֶׁל הַפּוֹעֲלִים הַפְּשׁוּטִים וְלֹא הַתַּאֲגִידִים וְכֵן מַעֲבִיר בִּיקּוֹרֶת \n",
      "מצוי:  בְּרוֹבַעַ הַיְּהוּדִי לְשֶׁעָבַר בַּסְלוֹנִיקֵי אַנְדְּרְטָה בַּסְלוֹנִיקִי לְזֵכֶר כְּ-55,555 \n",
      "רצוי:  בָּרוֹבַע הַיְּהוּדִי לְשֶׁעָבַר בְּסָלוֹנִיקִי אַנְדַּרְטָה בְּסָלוֹנִיקִי לְזֵכֶר כְּ-55,555 \n",
      "מצוי:  בַּמִסְעָדָה, עַד שֶׁנִּסְגְּרָה. מִשָּׁם הִגִּיעַ לְתַחֲנַת הַדֶּלֶק שֶׁבָּהּ נִפְגַּשְׁנוּ. \"בַּהַתְחָלָה \n",
      "רצוי:  בְּמִסְעָדָה, עַד שֶׁנִּסְגְּרָה. מִשָּׁם הִגִּיעַ לְתַחֲנַת הַדֶּלֶק שֶׁבָּהּ נִפְגַּשְׁנוּ. \"בַּהַתְחָלָה \n",
      "מצוי:  יִיצֵּג אוֹתָהּ בַּמִּפְגָּשִׁים הַנּוֹעֲדוּ לְקַדֵּם אֶת מַטְּרוֹתֶיהָ. תְּחוּשַׁת הַזַּעֲזוּעַ מֵהָרֶצַח \n",
      "רצוי:  יִיצֵּג אוֹתָהּ בְּמִפְגָּשִׁים הַנּוֹעָדוֹ לְקַדֵּם אֶת מַטְּרוֹתֶיהָ. תְּחוּשַׁת הַזַּעֲזוּעַ מֵהָרֶצַח \n",
      "מצוי:  מַחְבְּרָה שֶׁעָבַרְתִּי דִּירָה, חוֹבְרוֹת יְשָׁנוֹת שֶׁהָיִיתִי מְנוּיָה, תֵּיבַת תַּכְשִׁיטִים \n",
      "רצוי:  מֵחֲבֵרָה שֶׁעָבַרְתִּי דִּירָה, חוֹבְרוֹת יְשָׁנוֹת שֶׁהָיִיתִי מְנוּיָה, תֵּיבַת תַּכְשִׁיטִים \n",
      "מצוי:  בַּאֲתָר פְּרוֹיֶקְט OOOO, הַפְּגִיעָה שֶׁל \"בְּרֵאשִׁית\" לֹא יָצְרָה מַכֻּתֵּשׁ בְּיָרֵחַ, אוֹ \n",
      "רצוי:  בַּאֲתַר פְּרוֹיֶקְט OOOO, הַפְּגִיעָה שֶׁל \"בְּרֵאשִׁית\" לֹא יָצְרָה מַכְתֵּשׁ בַּיָּרֵחַ, אוֹ \n",
      "מצוי:  הַחוּקִּים שֶׁלְּפִיהֶם הִיא מִתְפַּתַּחַת, נִיתָּן לְחֲזוֹת אֶת מַצָּבָהּ שֶׁל הַמַּעֲרֶכֶת בְּכָל זְמַן \n",
      "רצוי:  הַחוּקִּים שֶׁלְּפִיהֶם הִיא מִתְפַּתַּחַת, נִיתָּן לַחֲזוֹת אֶת מַצָּבָהּ שֶׁל הַמַּעֲרֶכֶת בְּכָל זְמַן \n",
      "מצוי:  יִכְּנֵס מָחָר (יוֹם ה') בְּ-55:55 דִּיּוּן מְיוּחָד רִאשׁוֹן בְּנוֹשֵׂא אַסְטְרָטֶגִיַּית \n",
      "רצוי:  יְכַנֵּס מָחָר (יוֹם ה') בְּ-55:55 דִּיּוּן מְיוּחָד רִאשׁוֹן בְּנוֹשֵׂא אַסְטְרָטֶגְיַית \n",
      "מצוי:  הָאַלְגּוּרִיתָם שֶׁשִּׁימֵּשׁ לַהַצְפָנָה, כְּמוֹ גַּם כַּמָּה פְּרָטִים בְּסִיסִים אֲחֵרִים עַל \n",
      "רצוי:  הָאַלְגּוֹרִיתְם שֶׁשִּׁימֵּשׁ לְהַצְפָּנָה, כְּמוֹ גַּם כַּמָּה פְּרָטִים בְּסִיסִים אֲחֵרִים עַל \n",
      "מצוי:  הַשֵּׁנִי: \"שִׁירֵי וּמִיכָאֵל, אָסוּר לְפַתֵּחַ אֶת הַדֶּלֶת לְאַף אֶחָד!\" (אֶתְ זֶה אֲנִי \n",
      "רצוי:  הַשֵּׁנִי: \"שִׁירִי וּמִיכָאֵל, אָסוּר לִפְתֹחַ אֶת הַדֶּלֶת לְאַף אֶחָד!\" (אֶת זֶה אֲנִי \n",
      "מצוי:  מְצִּיגוֹת גִּרְסָה גֵּאוֹמֶטְרִית לִשְׂפַת הַ\"קַלְקוֹלוֹס\"(חֶשְׁבּוֹן דִּיפֵּרַנְצְיאָלִי \n",
      "רצוי:  מַצִּיגוֹת גִּרְסָה גֵּאוֹמֶטְרִית לִשְׂפַת הַ\"קֶּלְקוֹלוֹס\"(חֶשְׁבּוֹן דִּיפֵרֶנְצְיָאלִי \n",
      "מצוי:  נוֹלַד בָּאָרֶץ. כְּשֶׁהָיָה בֶּן שָׁנָה חָזַר עִם אִמָּא שֶׁלּוֹ לְסְרִי לְנַקָּה, כְּשֶׁהִיא בְּחוֹדֶשׁ \n",
      "רצוי:  נוֹלַד בָּאָרֶץ. כְּשֶׁהָיָה בֶּן שָׁנָה חָזַר עִם אִמָּא שֶׁלּוֹ לִסְרִי לַנְקָה, כְּשֶׁהִיא בְּחוֹדֶשׁ \n",
      "מצוי:  הָאַנְקְדוּטָה הַמְּפוּרְסֶמֶת הַמְּעִידָה עַל כּוֹחוֹ הַמָּתְמָטִי שֶׁל נְיוּטוֹן, גַּם בְּשָׁלָב זֶה \n",
      "רצוי:  הָאָנֶקְדּוֹטָה הַמְּפוּרְסֶמֶת הַמְּעִידָה עַל כּוֹחוֹ הַמָּתֵמָטִי שֶׁל נְיוּטוֹן, גַּם בְּשָׁלָב זֶה \n",
      "מצוי:  הָרִאשׁוֹנָה שֶׁהֶחֱלִיטָה לִסְגּוֹר אֶת הַגְּבוּלוֹת וּלְהַקְשִׁיחַ אֶת עֶמְדָּתָהּ כְּלַפֵּי הַפְּלִיטִים \n",
      "רצוי:  הָרִאשׁוֹנָה שֶׁהֶחֱלִיטָה לִסְגּוֹר אֶת הַגְּבוּלוֹת וּלְהַקְשִׁיחַ אֶת עֶמְדָּתָהּ כְּלַפֵּי הַפְּלִיטִים \n",
      "מצוי:  פָּעַל, הַטֵלֵוִיזְיָה לֹא פָּעֲלָה. אֲנִי לֹא יָכַלְתִּי לְהָכִין שִׁעוּרִים, אִמָּא לֹא יָכְלָה \n",
      "רצוי:  פָּעַל, הַטֵלֵוִיזְיָה לֹא פָּעֲלָה. אֲנִי לֹא יָכֹלְתִי לְהָכִין שִׁעוּרִים, אִמָּא לֹא יָכְלָה \n",
      "מצוי:  בְּלַמְנוּ וְלָכֵן עָבַרְנוּ אֶת אֲתָר נְחִיתָה. אֲנַחְנוּ לְמַעְלָה מֵחוֹדֶשׁ מָה-55 בְּאַפְּרִיל \n",
      "רצוי:  בָּלַמְנוּ וְלָכֵן עָבַרְנוּ אֶת אֲתַר נְחִיתָה. אֲנַחְנוּ לְמַעְלָה מֵחוֹדֶשׁ מַה-55 בְּאַפְּרִיל \n"
     ]
    }
   ],
   "source": [
    "model.load_weights('./checkpoints/modern')\n",
    "\n",
    "def print_predictions(data, k):\n",
    "    s = slice(k*BATCH_SIZE, (k+1)*BATCH_SIZE)\n",
    "    batch = data.normalized[s]\n",
    "    prediction = model.predict(batch)\n",
    "    [actual_niqqud, actual_dagesh, actual_sin] = [dataset.from_categorical(prediction[0]), dataset.from_categorical(prediction[1]), dataset.from_categorical(prediction[2])]\n",
    "    [expected_niqqud, expected_dagesh, expected_sin] = [data.niqqud[s], data.dagesh[s], data.sin[s]]\n",
    "    actual = dataset.merge(batch, ns=actual_niqqud, ds=actual_dagesh, ss=actual_sin)\n",
    "    expected = dataset.merge(batch, ns=expected_niqqud, ds=expected_dagesh, ss=expected_sin)\n",
    "    for i, (a, e) in enumerate(zip(actual, expected)):\n",
    "        print('מצוי: ', a)\n",
    "        print('רצוי: ', e)\n",
    "\n",
    "print_predictions(data_modern[1], 10)"
   ]
  },
  {
   "cell_type": "code",
   "execution_count": null,
   "metadata": {},
   "outputs": [],
   "source": [
    "shutil.rmtree(os.sep.join([tempfile.gettempdir(), '.tensorboard-info']), ignore_errors=True)\n",
    "shutil.rmtree('logs', ignore_errors=True)\n",
    "os.makedirs('logs')\n",
    "# %tensorboard --logdir logs"
   ]
  },
  {
   "cell_type": "code",
   "execution_count": null,
   "metadata": {},
   "outputs": [],
   "source": [
    "print(data_modern[1].text[0])\n",
    "print(data_modern[1].text[1])"
   ]
  },
  {
   "cell_type": "code",
   "execution_count": null,
   "metadata": {},
   "outputs": [],
   "source": []
  }
 ],
 "metadata": {
  "kernelspec": {
   "display_name": "Python 3",
   "language": "python",
   "name": "python3"
  },
  "language_info": {
   "codemirror_mode": {
    "name": "ipython",
    "version": 3
   },
   "file_extension": ".py",
   "mimetype": "text/x-python",
   "name": "python",
   "nbconvert_exporter": "python",
   "pygments_lexer": "ipython3",
   "version": "3.7.4"
  }
 },
 "nbformat": 4,
 "nbformat_minor": 4
}
