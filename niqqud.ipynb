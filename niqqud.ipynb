{
 "cells": [
  {
   "cell_type": "code",
   "execution_count": 1,
   "metadata": {},
   "outputs": [
    {
     "name": "stdout",
     "output_type": "stream",
     "text": [
      "['', 'H', 'O', '5', ' ', '!', '\"', \"'\", '(', ')', ',', '-', '.', ':', ';', '?', 'א', 'ב', 'ג', 'ד', 'ה', 'ו', 'ז', 'ח', 'ט', 'י', 'ך', 'כ', 'ל', 'ם', 'מ', 'ן', 'נ', 'ס', 'ע', 'ף', 'פ', 'ץ', 'צ', 'ק', 'ר', 'ש', 'ת']\n"
     ]
    },
    {
     "name": "stderr",
     "output_type": "stream",
     "text": [
      "Using TensorFlow backend.\n"
     ]
    }
   ],
   "source": [
    "import os\n",
    "import datetime\n",
    "\n",
    "import numpy as np\n",
    "import matplotlib.pyplot as plt\n",
    "\n",
    "import tensorflow as tf\n",
    "from tensorflow.keras import layers\n",
    "\n",
    "import dataset\n",
    "assert tf.config.list_physical_devices('GPU')\n"
   ]
  },
  {
   "cell_type": "code",
   "execution_count": 19,
   "metadata": {},
   "outputs": [
    {
     "name": "stdout",
     "output_type": "stream",
     "text": [
      "Failed to import pydot. You must install pydot and graphviz for `pydotprint` to work.\n",
      "Model: \"model_3\"\n",
      "__________________________________________________________________________________________________\n",
      "Layer (type)                    Output Shape         Param #     Connected to                     \n",
      "==================================================================================================\n",
      "input_4 (InputLayer)            [(None, 32)]         0                                            \n",
      "__________________________________________________________________________________________________\n",
      "embedding_3 (Embedding)         (None, 32, 512)      22016       input_4[0][0]                    \n",
      "__________________________________________________________________________________________________\n",
      "bidirectional_6 (Bidirectional) (None, 32, 256)      1574912     embedding_3[0][0]                \n",
      "__________________________________________________________________________________________________\n",
      "bidirectional_7 (Bidirectional) (None, 32, 256)      1050624     bidirectional_6[0][0]            \n",
      "__________________________________________________________________________________________________\n",
      "add_3 (Add)                     (None, 32, 256)      0           bidirectional_6[0][0]            \n",
      "                                                                 bidirectional_7[0][0]            \n",
      "__________________________________________________________________________________________________\n",
      "dense_6 (Dense)                 (None, 32, 15)       3855        add_3[0][0]                      \n",
      "__________________________________________________________________________________________________\n",
      "dense_7 (Dense)                 (None, 32, 2)        514         add_3[0][0]                      \n",
      "__________________________________________________________________________________________________\n",
      "N (Softmax)                     (None, 32, 15)       0           dense_6[0][0]                    \n",
      "__________________________________________________________________________________________________\n",
      "D (Softmax)                     (None, 32, 2)        0           dense_7[0][0]                    \n",
      "==================================================================================================\n",
      "Total params: 2,651,921\n",
      "Trainable params: 2,651,921\n",
      "Non-trainable params: 0\n",
      "__________________________________________________________________________________________________\n"
     ]
    }
   ],
   "source": [
    "MAXLEN = 32\n",
    "BATCH_SIZE = 32\n",
    "\n",
    "EMBED_DIM = 512\n",
    "UNITS = 256\n",
    "\n",
    "NIQQUD_SIZE = len(dataset.niqqud_table)\n",
    "DAGESH_SIZE = len(dataset.dagesh_table)\n",
    "LETTERS_SIZE = len(dataset.letters_table)\n",
    "\n",
    "common_input = tf.keras.Input(batch_shape=(None, MAXLEN), batch_size=BATCH_SIZE)\n",
    "common = layers.Embedding(LETTERS_SIZE, EMBED_DIM, mask_zero=True)(common_input)\n",
    "common = layers.Bidirectional(layers.LSTM(UNITS, return_sequences=True, dropout=0.1), merge_mode='sum')(common)\n",
    "\n",
    "common = layers.add([common, layers.Bidirectional(layers.LSTM(UNITS, return_sequences=True, dropout=0.1), merge_mode='sum')(common)])\n",
    "\n",
    "niqqud = layers.Softmax(name='N')(layers.Dense(NIQQUD_SIZE)(common))\n",
    "dagesh = layers.Softmax(name='D')(layers.Dense(DAGESH_SIZE)(common))\n",
    "\n",
    "model = tf.keras.Model(inputs=[common_input], outputs=[niqqud, dagesh])\n",
    "\n",
    "tf.keras.utils.plot_model(model, to_file='model.png')\n",
    "\n",
    "model.compile(loss='sparse_categorical_crossentropy',\n",
    "              optimizer=tf.keras.optimizers.Adam(learning_rate=0.0001),\n",
    "              metrics=['accuracy'])\n",
    "\n",
    "model.summary()\n",
    "\n",
    "def fit(data, learning_rates):\n",
    "    return model.fit(data.normalized_texts, [data.niqqud_texts, data.dagesh_texts],\n",
    "          batch_size=BATCH_SIZE,\n",
    "          epochs=len(learning_rates),\n",
    "          validation_data=(data.normalized_validation, [data.niqqud_validation,  data.dagesh_validation]),\n",
    "          callbacks=[\n",
    "              tf.keras.callbacks.LearningRateScheduler(lambda epoch, lr: learning_rates[epoch], verbose=0),\n",
    "              # tf.keras.callbacks.ModelCheckpoint(filepath='checkpoints/ckpt_{epoch}', save_weights_only=True),\n",
    "          ]\n",
    "    )"
   ]
  },
  {
   "cell_type": "code",
   "execution_count": 9,
   "metadata": {},
   "outputs": [],
   "source": [
    "rabanit = ['birkat_hamazon.txt', 'hakdama_leorot.txt', 'hartzaat_harav.txt', 'orhot_hayim.txt', 'rambam_mamre.txt', 'short_table.txt', 'tomer_dvora.txt', 'breslev.txt']\n",
    "modern = ['atar_hashabat.txt', 'kakun.txt', 'sisters.txt', 'treasure_island.txt', 'ali_baba.txt', 'people.txt', 'ricky.txt', 'imagination.txt', 'adamtsair.txt', 'katarsis.txt']\n",
    "def load_data(source):\n",
    "    filenames = ['texts/' + f for f in source]\n",
    "    return dataset.load_file(filenames, BATCH_SIZE, 0.01, maxlen=MAXLEN, shuffle=True)\n"
   ]
  },
  {
   "cell_type": "code",
   "execution_count": 20,
   "metadata": {},
   "outputs": [
    {
     "name": "stdout",
     "output_type": "stream",
     "text": [
      "Train on 178643 samples, validate on 1805 samples\n",
      "178643/178643 [==============================] - 155s 867us/sample - loss: 0.2079 - N_loss: 0.1649 - D_loss: 0.0430 - N_accuracy: 0.9398 - D_accuracy: 0.9829 - val_loss: 0.1245 - val_N_loss: 0.0959 - val_D_loss: 0.0286 - val_N_accuracy: 0.9656 - val_D_accuracy: 0.9890\n"
     ]
    }
   ],
   "source": [
    "history = fit(load_data(rabanit), [2e-3])  # , 2e-4\n",
    "model.save_weights('./checkpoint_rabanit')"
   ]
  },
  {
   "cell_type": "code",
   "execution_count": 43,
   "metadata": {},
   "outputs": [
    {
     "name": "stdout",
     "output_type": "stream",
     "text": [
      "Train on 16758 samples, validate on 170 samples\n",
      "16758/16758 [==============================] - 13s 783us/sample - loss: 0.2161 - N_loss: 0.1677 - D_loss: 0.0484 - N_accuracy: 0.9431 - D_accuracy: 0.9792 - val_loss: 0.1571 - val_N_loss: 0.1151 - val_D_loss: 0.0365 - val_N_accuracy: 0.9631 - val_D_accuracy: 0.9850_loss: 0.1780 - D_loss: \n"
     ]
    }
   ],
   "source": [
    "model.load_weights('./checkpoint_rabanit')\n",
    "# 1.00e-3: val_N_accuracy: 0.9533 - val_D_accuracy: 0.9786\n",
    "# 1.50e-3: val_N_accuracy: 0.9535 - val_D_accuracy: 0.9823\n",
    "# 1.75e-3: val_N_accuracy: 0.9579 - val_D_accuracy: 0.9839\n",
    "# 1.80e-3: val_N_accuracy: 0.9631 - val_D_accuracy: 0.9850\n",
    "# 1.85e-3: val_N_accuracy: 0.9480 - val_D_accuracy: 0.9802 \n",
    "# 2.00e-3: val_N_accuracy: 0.9511 - val_D_accuracy: 0.9821\n",
    "# 3.00e-3: val_N_accuracy: 0.9517 - val_D_accuracy: 0.9799\n",
    "history = fit(load_data(modern), [1.80e-3])"
   ]
  },
  {
   "cell_type": "code",
   "execution_count": 16,
   "metadata": {},
   "outputs": [
    {
     "data": {
      "image/png": "[encoded data removed]",
      "text/plain": [
       "<Figure size 432x288 with 4 Axes>"
      ]
     },
     "metadata": {
      "needs_background": "light"
     },
     "output_type": "display_data"
    }
   ],
   "source": [
    "fig, ax = plt.subplots(nrows=2, ncols=2)\n",
    "\n",
    "for n, v in enumerate(['accuracy', 'loss'], 0):\n",
    "    for n1, t in enumerate(['D', 'N'], 0):\n",
    "        p = ax[n][n1]\n",
    "        p.plot(history.history[t + '_' + v][0:])\n",
    "        p.plot(history.history['val_' + t + '_' +  v][0:])\n",
    "        p.legend([t + '_Train', t + '_Test'], loc='center right')\n",
    "\n",
    "plt.tight_layout()"
   ]
  },
  {
   "cell_type": "code",
   "execution_count": 45,
   "metadata": {},
   "outputs": [],
   "source": [
    "import tensorflowjs as tfjs\n",
    "tfjs.converters.save_keras_model(model, '.')"
   ]
  },
  {
   "cell_type": "code",
   "execution_count": 44,
   "metadata": {},
   "outputs": [
    {
     "name": "stdout",
     "output_type": "stream",
     "text": [
      "מצוי:  הַחַלוֹן שֶהִקִיף פְּנִימָה. הוּא רָאָה אֶת\n",
      "רצוי:  הַחַלּוֹן שֶהִקִּיף פְּנִימָה. הוּא רָאָה אֶת\n",
      "\n",
      "מצוי:  טְרִילוֹנֵי. \"אֵין זֶה מְשַנֶה עַכְשָו מִי\n",
      "רצוי:  טְרִילוֹנִי. \"אֵין זֶה מְשַנֶה עַכְשָו מִי\n",
      "\n",
      "מצוי:  אַחַת גְּדוֹלָה. הַשְטֶרְלִינְגִים הָיוּ מְעַטִים\n",
      "רצוי:  אַחַת גְדוֹלָה. הַשְטֶרְלִינְגִים הָיוּ מֻעָטִים\n",
      "\n",
      "מצוי:  וְהַשֵד-יוֹדֵעַ מָה עוֹד - הַכֹּל בְּעִרְבּוּבֶיָה\n",
      "רצוי:  וְהַשֵד-יוֹדֵעַ מָה עוֹד - הַכֹּל בְּעִרְבּוּבְיָה\n",
      "\n",
      "מצוי:  מַתְאִים לִי; זֶהוּ מָתַי. הַמַזָל הֵבִיא\n",
      "רצוי:  מַתְאִים לִי; זֶהוּ מָתַי. הַמַזָל הֵבִיא\n",
      "\n",
      "מצוי:  אַחַת לְיַד הַשְנִיָּה. כְּשֶהִגִיעַ הַלַיְלָה הָיָה\n",
      "רצוי:  אַחַת לְיַד הַשְנִיָה. כְּשֶהִגִיעַ הַלַיְלָה הָיָה\n",
      "\n",
      "מצוי:  הִתְרַשַמְתִּי מְאוֹד מֵהַכַּוֶרֶת וּמְאוֹד אָהַבְתִּי\n",
      "רצוי:  הִתְרַשַּמְתִּי מְאוֹד מֵהַכַּוֶּרֶת וּמְאוֹד אָהַבְתִּי\n",
      "\n",
      "מצוי:  לְסִיבוּב בַּשְכוּנָה כְּדֵי לְחַפֵּש בַּקְבּוּקִים\n",
      "רצוי:  לְסִיבוּב בַּשְכוּנָה כְּדֵי לְחַפֵּש בַּקְבּוּקִים\n",
      "\n",
      "מצוי:  מְנוּחָה. כָּל הַמִתְעַנְגִים בָּהּ יִזְכּוּ לְרַב\n",
      "רצוי:  מְנוּחָה. כָּל הַמִּתְעַנְּגִים בָּהּ יִזְכּוּ לְרֹב\n",
      "\n",
      "מצוי:  כְּדֵי לְהֲפֹךְ אוֹת ה לְאוֹת ח עָלַי רַק\n",
      "רצוי:  כְּדֵי לַהֲפֹךְ אוֹת ה לְאוֹת ח עָלַי רַק\n",
      "\n",
      "מצוי:  אוֹתוֹ גִ'ים בְּדִיוּק שֶאֲנַחְנוּ מַכִּירִים.\"\n",
      "רצוי:  אוֹתוֹ גִ'ים בְּדִיוּק שֶאֲנַחְנוּ מַכִּירִים.\"\n",
      "\n",
      "מצוי:  כָּלְשֶהוּ. תְּרוּעוֹת וּזְעָקוֹת, יְרִיוֹת\n",
      "רצוי:  כָּלְשֶהוּ. תְּרוּעוֹת וּזְעָקוֹת, יְרִיוֹת\n",
      "\n",
      "מצוי:  חָבִית-הַתַּפּוּחִים, אֲבָל נִתְמַלֵאתִי אֵימָה\n",
      "רצוי:  חָבִית-הַתַּפּוּחִים, אֲבָל נִתְמַלֵאתִי אֵימָה\n",
      "\n",
      "מצוי:  וְגָבֶר, הָלַךְ וְהִתְקָרֵב. פַּחַד רַב מִלֵא אֶת\n",
      "רצוי:  וְגָבַר, הָלַךְ וְהִתְקָרֵב. פַּחַד רַב מִלֵא אֶת\n",
      "\n",
      "מצוי:  סִילְבֶר וַאֲנָשָיו עֲלוּלִים לְהַגִּיעַ לְפָנָיו\n",
      "רצוי:  סִילְבֶר וַאֲנָשָיו עֲלוּלִים לְהַגִיעַ לְפָנָיו\n",
      "\n",
      "מצוי:  מַתְאִים, וְהָאִיש הַזֶה יִצְטָרֵף אֵלֵינוּ.\"\n",
      "רצוי:  מַתְאִים, וְהָאִיש הַזֶה יִצְטָרֵף אֵלֵינוּ.\"\n",
      "\n",
      "מצוי:  וְהִשְמַעְנוּ שָלש תְּרוּעוֹת הֵידָד, כַּאֲשֶר\n",
      "רצוי:  וְהִשְמַעְנוּ שָלש תְּרוּעוֹת הֵידָד, כַּאֲשֶר\n",
      "\n",
      "מצוי:  הַשְנִיָיה שֶהוּא מַכִּיר: חִיפוּש\n",
      "רצוי:  הַשְּנִיָּיה שֶהוּא מַכִּיר: חִיפּוּש\n",
      "\n",
      "מצוי:  בְּוַדַאי. הַמַאֲבָק שֶלִּי עוֹרֵר רַעַש גָדוֹל\n",
      "רצוי:  בְּוַדַּאי. הַמַּאֲבָק שֶלִּי עוֹרֵר רַעַש גָּדוֹל\n",
      "\n",
      "מצוי:  אָבִי הַחוֹלֶה לֹא יִזְכֶּה לְקַדֵם אֶת פְּנֵי\n",
      "רצוי:  אָבִי הַחוֹלֶה לֹא יִזְכֶּה לְקַדֵם אֶת פְּנֵי\n",
      "\n",
      "מצוי:  הוּא הֵנִיעַ רֹאשוֹ בְּמֶרֶת-רוּחַ וְאָמַר כִּי\n",
      "רצוי:  הוּא הֵנִיעַ רֹאשוֹ בְּמֹרַת-רוּחַ וְאָמַר כִּי\n",
      "\n",
      "מצוי:  בַּמִזְרָח; וְאַתָּה, ג'וֹיְס, תַּעֲמֹד בַּמַעֲרָב.\n",
      "רצוי:  בַּמִזְרָח; וְאַתָּה, ג'וֹיְס, תַּעֲמֹד בַּמַעֲרָב.\n",
      "\n",
      "מצוי:  וּשְלִשְתֵּנוּ הִתְחַלְנוּ מַעֲבִירִים אֶת הַצִיוּד\n",
      "רצוי:  וּשְלשְתֵּנוּ הִתְחַלְנוּ מַעֲבִירִים אֶת הַצִיוּד\n",
      "\n",
      "מצוי:  בֵּית הַכְּנֶסֶת שֶלָּנוּ. לֹא נִרְאֶה לִי\n",
      "רצוי:  בֵּית הַכְּנֶסֶת שֶלָּנוּ. לֹא נִרְאָה לִי\n",
      "\n",
      "מצוי:  לְתַעֲנוּג, כְּמוֹ שֶאָמַרְתָּ בְּעַצְמְךָ, סִילְבֶר.\n",
      "רצוי:  לַתַּעֲנוּג, כְּמוֹ שֶאָמַרְתָּ בְּעַצְמְךָ, סִילְבֶר.\n",
      "\n",
      "מצוי:  הָרִאשוֹן שֶל פְלִינְט; וַאֲנִי הַבַּרְנָש\n",
      "רצוי:  הָרִאשוֹן שֶל פְלִינְט; וַאֲנִי הַבַּרְנָש\n",
      "\n",
      "מצוי:  לִלַווֹת אֶת שַבָּת הַמַּלְכָּה וּלְהִיפָּרֵד מִמֶנָה\n",
      "רצוי:  לְלַווֹת אֶת שַבָּת הַמַּלְכָּה וּלְהִיפָּרֶד מִמֶנָה\n",
      "\n",
      "מצוי:  לְיַד הַחַזָן. הַסִדוּר אֲשֶר נָתַן לוֹ אָבִיו\n",
      "רצוי:  לְיַד הַחַזָן. הַסִדוּר אֲשֶר נָתַן לוֹ אָבִיו\n",
      "\n",
      "מצוי:  יוּכַל לְהַגִיעַ אֶל הָאַרְמוֹן - הוּא אוֹמֵר\n",
      "רצוי:  יוּכַל לְהַגִיעַ אֶל הָאַרְמוֹן - הוּא אוֹמֵר\n",
      "\n",
      "מצוי:  הַסִירוֹת; וְאַף-עַל-פִּי שֶקוֹלוֹת אֵלֶה\n",
      "רצוי:  הַסִירוֹת; וְאַף-עַל-פִּי שֶקוֹלוֹת אֵלֶה\n",
      "\n",
      "מצוי:  גְּדוֹלָה בַּחֶדֶר הַשֵנִי, וְהָיָה מַמָש כֵּיף!\n",
      "רצוי:  גְּדוֹלָה בַּחֶדֶר הַשֵּנִי, וְהָיָה מַמָּש כֵּיף!\n",
      "\n",
      "מצוי:  הָעֶרֶב. וּמִשָם הִמְשַכְנוּ לִקֶבֹר רַחֵל.\n",
      "רצוי:  הֶעָרֵב. וּמִשָּם הִמְשַכְנוּ לְקֶּבֶר רָחֵל.\n",
      "\n"
     ]
    }
   ],
   "source": [
    "def print_predictions(k):\n",
    "    s = slice(k*BATCH_SIZE, (k+1)*BATCH_SIZE)\n",
    "    batch = data.normalized_validation[s]\n",
    "    prediction = model.predict(batch)\n",
    "    [actual_niqqud, actual_dagesh] = [dataset.from_categorical(prediction[0]), dataset.from_categorical(prediction[1])]\n",
    "    [expected_niqqud, expected_dagesh] = [data.niqqud_validation[s], data.dagesh_validation[s]]\n",
    "    actual = data.merge(batch, ns=actual_niqqud, ds=actual_dagesh)\n",
    "    expected = data.merge(batch, ns=expected_niqqud, ds=expected_dagesh)\n",
    "    for i, (a, e) in enumerate(zip(actual, expected)):\n",
    "        print('מצוי: ', a)\n",
    "        print('רצוי: ', e)\n",
    "        print()\n",
    "\n",
    "print_predictions(1)"
   ]
  },
  {
   "cell_type": "code",
   "execution_count": 8,
   "metadata": {},
   "outputs": [
    {
     "name": "stdout",
     "output_type": "stream",
     "text": [
      "['', 'ְ', 'ֱ', 'ֲ', 'ֳ', 'ִ', 'ֵ', 'ֶ', 'ַ', 'ָ', 'ֹ', 'ֺ', 'ֻ', 'ּ', 'ַ']\n"
     ]
    }
   ],
   "source": [
    "print(dataset.niqqud_table.chars)"
   ]
  },
  {
   "cell_type": "code",
   "execution_count": null,
   "metadata": {},
   "outputs": [],
   "source": []
  }
 ],
 "metadata": {
  "kernelspec": {
   "display_name": "Python 3",
   "language": "python",
   "name": "python3"
  },
  "language_info": {
   "codemirror_mode": {
    "name": "ipython",
    "version": 3
   },
   "file_extension": ".py",
   "mimetype": "text/x-python",
   "name": "python",
   "nbconvert_exporter": "python",
   "pygments_lexer": "ipython3",
   "version": "3.7.4"
  }
 },
 "nbformat": 4,
 "nbformat_minor": 4
}
