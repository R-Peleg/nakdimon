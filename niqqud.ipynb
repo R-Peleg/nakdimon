{
 "cells": [
  {
   "cell_type": "code",
   "execution_count": 1,
   "metadata": {},
   "outputs": [
    {
     "name": "stderr",
     "output_type": "stream",
     "text": [
      "Using TensorFlow backend.\n"
     ]
    }
   ],
   "source": [
    "import os\n",
    "import datetime\n",
    "\n",
    "import numpy as np\n",
    "import matplotlib.pyplot as plt\n",
    "\n",
    "import tensorflow as tf\n",
    "from tensorflow.keras import layers\n",
    "\n",
    "import dataset\n",
    "assert tf.config.list_physical_devices('GPU')\n"
   ]
  },
  {
   "cell_type": "code",
   "execution_count": 142,
   "metadata": {},
   "outputs": [
    {
     "name": "stdout",
     "output_type": "stream",
     "text": [
      "Failed to import pydot. You must install pydot and graphviz for `pydotprint` to work.\n",
      "Model: \"model_37\"\n",
      "__________________________________________________________________________________________________\n",
      "Layer (type)                    Output Shape         Param #     Connected to                     \n",
      "==================================================================================================\n",
      "input_39 (InputLayer)           [(None, 64)]         0                                            \n",
      "__________________________________________________________________________________________________\n",
      "embedding_38 (Embedding)        (None, 64, 512)      22016       input_39[0][0]                   \n",
      "__________________________________________________________________________________________________\n",
      "bidirectional_103 (Bidirectiona (None, 64, 256)      1574912     embedding_38[0][0]               \n",
      "__________________________________________________________________________________________________\n",
      "bidirectional_104 (Bidirectiona (None, 64, 256)      1050624     bidirectional_103[0][0]          \n",
      "__________________________________________________________________________________________________\n",
      "add_31 (Add)                    (None, 64, 256)      0           bidirectional_103[0][0]          \n",
      "                                                                 bidirectional_104[0][0]          \n",
      "__________________________________________________________________________________________________\n",
      "dense_107 (Dense)               (None, 64, 15)       3855        add_31[0][0]                     \n",
      "__________________________________________________________________________________________________\n",
      "dense_108 (Dense)               (None, 64, 2)        514         add_31[0][0]                     \n",
      "__________________________________________________________________________________________________\n",
      "dense_109 (Dense)               (None, 64, 3)        771         add_31[0][0]                     \n",
      "__________________________________________________________________________________________________\n",
      "N (Softmax)                     (None, 64, 15)       0           dense_107[0][0]                  \n",
      "__________________________________________________________________________________________________\n",
      "D (Softmax)                     (None, 64, 2)        0           dense_108[0][0]                  \n",
      "__________________________________________________________________________________________________\n",
      "S (Softmax)                     (None, 64, 3)        0           dense_109[0][0]                  \n",
      "==================================================================================================\n",
      "Total params: 2,652,692\n",
      "Trainable params: 2,652,692\n",
      "Non-trainable params: 0\n",
      "__________________________________________________________________________________________________\n"
     ]
    }
   ],
   "source": [
    "MAXLEN = 64\n",
    "BATCH_SIZE = 32\n",
    "\n",
    "def build_model():\n",
    "    EMBED_DIM = 512\n",
    "    UNITS = 256\n",
    "\n",
    "    LETTERS_SIZE = len(dataset.letters_table)\n",
    "    NIQQUD_SIZE = len(dataset.niqqud_table)\n",
    "    DAGESH_SIZE = len(dataset.dagesh_table)\n",
    "    SIN_SIZE = len(dataset.sin_table)\n",
    "\n",
    "    common_input = tf.keras.Input(batch_shape=(None, MAXLEN), batch_size=BATCH_SIZE)\n",
    "    \n",
    "    common = layers.Embedding(LETTERS_SIZE, EMBED_DIM, mask_zero=True)(common_input)\n",
    "    common = layers.Bidirectional(layers.LSTM(UNITS, return_sequences=True, dropout=0.1), merge_mode='sum')(common)\n",
    "    common = layers.add([common,\n",
    "             layers.Bidirectional(layers.LSTM(UNITS, return_sequences=True, dropout=0.1), merge_mode='sum')(common)])\n",
    "\n",
    "    model = tf.keras.Model(inputs=[common_input], outputs=[\n",
    "        layers.Softmax(name='N')(layers.Dense(NIQQUD_SIZE)(common)),\n",
    "        layers.Softmax(name='D')(layers.Dense(DAGESH_SIZE)(common)),\n",
    "        layers.Softmax(name='S')(layers.Dense(SIN_SIZE)(common))\n",
    "    ])\n",
    "\n",
    "    model.compile(loss='sparse_categorical_crossentropy', optimizer='adam', metrics=['accuracy'])\n",
    "\n",
    "    tf.keras.utils.plot_model(model, to_file='model.png')\n",
    "    model.summary()\n",
    "    return model\n",
    "    \n",
    "model = build_model()\n",
    "model.save_weights('./checkpoint_uninit')\n",
    "def fit(data, learning_rates):\n",
    "    return model.fit(data.normalized_texts, [data.niqqud_texts, data.dagesh_texts, data.sin_texts],\n",
    "          batch_size=BATCH_SIZE,\n",
    "          epochs=len(learning_rates),\n",
    "          validation_data=(data.normalized_validation, [data.niqqud_validation,  data.dagesh_validation, data.sin_validation]),\n",
    "          callbacks=[\n",
    "              tf.keras.callbacks.LearningRateScheduler(lambda epoch, lr: learning_rates[epoch], verbose=0),\n",
    "              # tf.keras.callbacks.ModelCheckpoint(filepath='checkpoints/ckpt_{epoch}', save_weights_only=True),\n",
    "          ]\n",
    "    )"
   ]
  },
  {
   "cell_type": "code",
   "execution_count": 143,
   "metadata": {},
   "outputs": [],
   "source": [
    "rabanit = ['birkat_hamazon.txt', 'kuzari.txt', 'hakdama_leorot.txt', 'hartzaat_harav.txt', 'orhot_hayim.txt', 'rambam_mamre.txt', 'short_table.txt',\n",
    "           'tomer_dvora.txt', 'elef_layla.txt', 'bialik']\n",
    "modern = ['itzhak_berkman', 'zevi_scharfstein', 'pesah_kaplan', 'abraham_regelson', 'elisha_porat', 'uriel_ofek', 'yisrael_dushman', 'zvi_zviri',\n",
    "          'sipurim.txt' ,'atar_hashabat.txt', 'ali_baba.txt', 'ricky.txt', 'imagination.txt', 'adamtsair.txt', 'katarsis.txt']\n",
    "\n",
    "def load_data(source):\n",
    "    filenames = [os.path.join('texts', f) for f in source]\n",
    "    return dataset.load_file(filenames, BATCH_SIZE, 0.1, maxlen=MAXLEN, shuffle=True)\n",
    "\n",
    "data_rabanit = load_data(rabanit)\n",
    "data_modern = load_data(modern)"
   ]
  },
  {
   "cell_type": "code",
   "execution_count": null,
   "metadata": {},
   "outputs": [
    {
     "name": "stdout",
     "output_type": "stream",
     "text": [
      "Train on 102211 samples, validate on 11357 samples\n",
      "Epoch 1/2\n",
      "102211/102211 [==============================] - 152s 1ms/sample - loss: 0.2998 - N_loss: 0.2312 - D_loss: 0.0611 - S_loss: 0.0074 - N_accuracy: 0.9196 - D_accuracy: 0.9764 - S_accuracy: 0.9980 - val_loss: 0.1787 - val_N_loss: 0.1348 - val_D_loss: 0.0399 - val_S_loss: 0.0040 - val_N_accuracy: 0.9542 - val_D_accuracy: 0.9851 - val_S_accuracy: 0.9990\n",
      "Epoch 2/2\n",
      " 32224/102211 [========>.....................] - ETA: 1:31 - loss: 0.1507 - N_loss: 0.1126 - D_loss: 0.0347 - S_loss: 0.0035 - N_accuracy: 0.9619 - D_accuracy: 0.9870 - S_accuracy: 0.9992"
     ]
    }
   ],
   "source": [
    "model.load_weights('./checkpoint_uninit')\n",
    "history = fit(data_rabanit, [3e-3, 3e-4])\n",
    "model.save_weights('./checkpoint_rabanit')"
   ]
  },
  {
   "cell_type": "code",
   "execution_count": 139,
   "metadata": {},
   "outputs": [
    {
     "name": "stdout",
     "output_type": "stream",
     "text": [
      "Train on 23356 samples, validate on 2596 samples\n",
      "Epoch 1/2\n",
      "23356/23356 [==============================] - 34s 1ms/sample - loss: 0.2604 - N_loss: 0.1920 - D_loss: 0.0633 - S_loss: 0.0052 - N_accuracy: 0.9357 - D_accuracy: 0.9726 - S_accuracy: 0.9986 - val_loss: 0.2221 - val_N_loss: 0.1613 - val_D_loss: 0.0557 - val_S_loss: 0.0052 - val_N_accuracy: 0.9474 - val_D_accuracy: 0.9754 - val_S_accuracy: 0.9987loss: 0.1990 - D_loss: 0.0646 - S_loss: 0.0052 - N_accuracy: 0.9333 - D_accuracy: 0.9721 - S_accu - ETA: 7s - loss: 0.2671 - N_loss: 0.1976 - D_loss: 0.0643 - S_ - ETA: 1s - loss: 0.2614 - N_loss: 0.1928 - D_loss: 0.0635 - S_loss: 0.0052 - N_accuracy: 0.9354 - D_accuracy: 0.9725 - S_ac\n",
      "Epoch 2/2\n",
      "23356/23356 [==============================] - 34s 1ms/sample - loss: 0.1853 - N_loss: 0.1305 - D_loss: 0.0509 - S_loss: 0.0039 - N_accuracy: 0.9569 - D_accuracy: 0.9779 - S_accuracy: 0.9990 - val_loss: 0.1923 - val_N_loss: 0.1363 - val_D_loss: 0.0512 - val_S_loss: 0.0048 - val_N_accuracy: 0.9556 - val_D_accuracy: 0.9775 - val_S_accuracy: 0.9989loss: 0.0041 - N_accuracy - ETA: 18s - loss: 0.1912 - N_loss: 0.1352 - D_loss: 0.0519 - S_loss: 0.0041 - N_accuracy: 0.9552 - D_accuracy: 0.9775 - S_accuracy - ETA: 18s - lo - ETA: 13s - loss: 0.1884 - N_loss: 0.1329 - D_loss: 0.0516  - ETA: 9s - loss: 0.1\n"
     ]
    }
   ],
   "source": [
    "model.load_weights('./checkpoint_rabanit')\n",
    "history = fit(data_modern, [3e-3, 3e-4])"
   ]
  },
  {
   "cell_type": "code",
   "execution_count": null,
   "metadata": {},
   "outputs": [],
   "source": [
    "fig, ax = plt.subplots(nrows=2, ncols=2)\n",
    "\n",
    "for n, v in enumerate(['accuracy', 'loss'], 0):\n",
    "    for n1, t in enumerate(['D', 'N'], 0):\n",
    "        p = ax[n][n1]\n",
    "        p.plot(history.history[t + '_' + v][0:])\n",
    "        p.plot(history.history['val_' + t + '_' +  v][0:])\n",
    "        p.legend([t + '_Train', t + '_Test'], loc='center right')\n",
    "\n",
    "plt.tight_layout()"
   ]
  },
  {
   "cell_type": "code",
   "execution_count": 141,
   "metadata": {},
   "outputs": [],
   "source": [
    "import tensorflowjs as tfjs\n",
    "tfjs.converters.save_keras_model(model, '.')"
   ]
  },
  {
   "cell_type": "code",
   "execution_count": 140,
   "metadata": {},
   "outputs": [
    {
     "name": "stdout",
     "output_type": "stream",
     "text": [
      "מצוי:  מַרְגִימוֹתֵיהֶם הַפְּרוּעוֹת, וְהִקְשִׁיבוּ לְקוֹלוֹ שֶׁל נִימֶר הַמְנַסָּר בַּחֲשֵׁכָה,\" לֹא הָיְתָה\n",
      "רצוי:  מֵרְגִימוֹתֵיהֶם הַפְּרוּעוֹת, וְהִקְשִׁיבוּ לְקוֹלוֹ שֶׁל נִימֶר הַמְנַסֵר בַּחֲשֵׁכָה,\" לֹא הָיְתָה\n",
      "\n",
      "מצוי:  בַּמָקוֹם הַזֶּה. אַתֶּם לֹא מְסֻגָּלִים לְהִלָּחֵם כְּמוֹ גְבָרִים וּפִירָטִים, אָז לְכָל הַשֵׁדִים\n",
      "רצוי:  בַּמָקוֹם הַזֶה. אַתֶּם לֹא מְסֻגָלִים לְהִלָחֵם כְּמוֹ גְבָרִים וּפִּירָטִים, אָז לְכָל הַשֵׁדִים\n",
      "\n",
      "מצוי:  שֶׁלָּנוּ הֶחְלִיט לְאַרְגֵן נְסִיעָה לַצָפוֹן לְכָל הַמִּשְׁפָּחוֹת שֶׁמִּתְפַּלְּלוֹת בְּבֵית הַכְּנֶסֶת.\n",
      "רצוי:  שֶׁלָּנוּ הֶחְלִיט לְאַרְגֵּן נְסִיעָה לַצָּפוֹן לְכֹל הַמִּשְׁפָּחוֹת שֶׁמִּתְפַּלְּלוֹת בְּבֵּית הַכְּנֶסֶת.\n",
      "\n",
      "מצוי:  בַּחֹרֶשׁ מִבַּעַד לַחַלּוֹן. פַּרְלוּד לִפַסְנְתֵּר שֶׁל שׁוֹפָן. מְאַט אֶת הַצְּלִילָה לַיָּם\n",
      "רצוי:  בַּחֹרֶשׁ מִבַּעַד לַחַלּוֹן. פְּרֶלוּד לִפְסַנְתֵּר שֶׁל שׁוֹפֶּן. מֵאֵט אֶת הַצְּלִילָה לְיַם\n",
      "\n",
      "מצוי:  הָרַכִּים? וּבְכֵן רֹאשׁ וְרִאשׁוֹן לַיּוֹצְאִים הָיָה חֲבֵרְנוּ חִזְקוּ. אוֹ כְּמוֹ שֶׁהָיָה נוֹהֵג\n",
      "רצוי:  הָרַכִּים? וּבְכֵן רֹאשׁ וְרִאשׁוֹן לַיוֹצְאִים הָיָה חֲבֵרֵנוּ חִזְקוּ. אוֹ כְּמוֹ שֶׁהָיָה נוֹהֵג\n",
      "\n",
      "מצוי:  וּבְצִפְּרְנֵיהֶן אֶת דֶּלֶת הַלּוּל וְנִכְנְסוּ, אַחַת אַחַת לְתוֹכוֹ. אוּלָם בְּשָׁעָה שֶׁנִמְצְאוּ\n",
      "רצוי:  וּבְצִפָּרְנֵיהֶן אֶת דֶּלֶת הַלּוּל וְנִכְנְסוּ, אַחַת אַחַת לְתוֹכוֹ. אוּלָם בְּשָׁעָה שֶׁנִּמְצְאוּ\n",
      "\n",
      "מצוי:  בְּצֵל אֵשֶׁל צִלוֹ שֶׁל אֵשֶׁל עַתִּיק וְעָנָף מְשַׁמֵשׁ מַחֲסֶה לְמִשְׁפָּחוֹת בַּדְוִים - הַגְּבָרִים\n",
      "רצוי:  בְּצֵל אֵשֶׁל צִלּוֹ שֶׁל אֵשֶׁל עַתִּיק וְעָנֵף מְשַׁמֵּשׁ מַחֲסֶה לְמִשְׁפְּחוֹת בֶּדְוִים - הַגְּבָרִים\n",
      "\n",
      "מצוי:  וּלְבַסּוֹף אַחֲרֵי הִתְגַלְגְלוּ בִּתְמוּרוֹת רַבּוֹת, הִצְטַמְצֵם בְּזוֹ דְמוּת אֶל-נַעַר, מוֹחֵץ\n",
      "רצוי:  וּלְבַסּוֹף אַחֲרֵי הִתְגַּלְגְּלוֹ בִּתְמוּרוֹת רֶבּוֹת, הִצְטַמְצֵם בְּזוֹ דְמוּת אֵל-נַעַר, מוֹחֵץ\n",
      "\n",
      "מצוי:  בִּלְתִּי-מַזְהָה מִסְתַּתֵּר. וּבְמַעֲמָד זֶה בָּחַרְתִּי לְהַעֲדִיף אֶת הַסַכָּנוֹת שֶׁהִכַּרְתִּי עַל אֵלּוּ\n",
      "רצוי:  בִּלְתִּי-מְזֻהֶה מִסְתַּתֵּר. וּבְמַעֲמָד זֶה בָּחַרְתִּי לְהַעְדִיף אֶת הַסַכָּנוֹת שֶׁהִכַּרְתִּי עַל אֵלוּ\n",
      "\n",
      "מצוי:  לְחַיָּה בְּמַתָּנָה\". לָקַח מֶה-מֶה אֶת הַבֵּיצָה, נִגַּשׁ אֶל הַשֻּׁלְחָן שֶׁל חֶדֶר חַיָּה וְקָרָא\n",
      "רצוי:  לְחַיָּה בְּמַתָּנָה\". לָקַח מֶה-מֶה אֶת הַבֵּיצָה, נִגַּשׁ אֶל הַשֻּׁלְחָן שֶׁל חֲדַר חַיָּה וְקָרָא\n",
      "\n",
      "מצוי:  הַהוּא. וּבְכָל שְׁעַת-הַסְּעֻדָּה רָעֲפוּ עַל אָזְנֵיהֶן מַנְגִּינוֹת עֲרְבוֹת מְשָׁרִים וְנוֹגְנִים\n",
      "רצוי:  הַהוּא. וּבְכָל שְׁעַת-הַסְּעֻדָּה רָעֲפוּ עַל אָזְנֵיהֶן מַנְגִּינוֹת עֲרֵבוֹת מִשָּׁרִים וְנוֹגְנִים\n",
      "\n",
      "מצוי:  מֵהַמַמֶת - פַּלַח קוֹל צוֹחֲנִי אֶת הָאֲפֵלָה הַסְמִיכָה: \"שְׁמִינִיוֹת! שְׁמִינִיוֹת!\n",
      "רצוי:  מְהַמֶמֶת - פִּלַח קוֹל צַוְחָנִי אֶת הָאֲפֵלָה הַסְמִיכָה: \"שְׁמִינִיוֹת! שְׁמִינִיוֹת!\n",
      "\n",
      "מצוי:  הַמִּשְׁפָּחָה כֻּלָּהּ לִרְאוֹת בְּמוֹ עֵינֵיהֶם אֶת הָאִישׁ שֶׁבִּזְכוּתוֹ נוֹלְדוּ מֵחָדָשׁ - הָרַבִּי\n",
      "רצוי:  המִשְׁפַּחַה כֻּלָּהּ לִרְאוֹת בְּמוֹ עֵינֵיהֶם אֶת הָאִישׁ שֶׁבִּזְכוּתוֹ נוֹלְדוּ מֵחָדָשׁ - הָרַבִּי\n",
      "\n",
      "מצוי:  בְּחִירָתִי. אֲקַבֵּל אֶת כָּל הַמַּתָּנוֹת. אָז קֶסֶם זְקַן-הָאַשָּׁפִים קֶסֶם בְּיָדוֹ הַיְמָנִית,\n",
      "רצוי:  בְּחִירָתִי. אֲקַבֵּל אֶת כָּל הַמַּתָּנוֹת. אָז קָסַם זְקַן-הָאַשָּׁפִים קֶסֶם בְּיָדוֹ הַיְמָנִית,\n",
      "\n",
      "מצוי:  אָדָם יְקָרֶה כַּדָבָר הַזֶּה אַחַת לְיוּבַל, וְגַם אָז בּוֹרֵחַ לוֹ הַסּוּס הַבַּיְתָה אֶל\n",
      "רצוי:  אָדָם יִקְרֶה כַּדָּבָר הַזֶּה אַחַת לְיוֹבֵל, וְגַם אָז בּוֹרֵחַ לוֹ הַסּוּס הַבַּיְתָה אֶל\n",
      "\n",
      "מצוי:  וְשְׁתָה נֶקְטַר - מַאֲכָל וּמַשְׁקֶה אֲשֶׁר חָדְשׁוּ אֶת נְעוּרֵיהֶם וְנָסְכוּ בְּעוֹרְקֵיהֶם\n",
      "רצוי:  וְשָׁתֹה נֶקְטַר - מַאֲכָל וּמַשְׁקֶה אֲשֶׁר חִדְּשׁוּ אֶת נְעוּרֵיהֶם וְנָסְכוּ בְּעוֹרְקֵיהֶם\n",
      "\n",
      "מצוי:  אָמְרָה הַקּוֹסֶמֶת וְנֶעֶלְמָה. כַּאֲשֶׁר שָׁבָה שׁוֹשַׁנָּה מִן הַבְּאֵר הִתְנַפְּלָה עָלֶיהָ הָאֵם\n",
      "רצוי:  אָמְרָה הַקּוֹסֶמֶת וְנֶעֶלְמָה. כַּאֲשֶׁר שָׁבָה שׁוֹשַׁנָּה מִן הַבְּאֵר הִתְנַפְּלָה עָלֶיהָ הָאֵם\n",
      "\n",
      "מצוי:  שְׁקוֹלוֹת אֵלֶּה בְּשָׂרוּ לָנוּ כִּי שָׁלוֹם לְהִנָטֵר וְלַג'וֹיס, הֵם גַּם רָמְזוּ לָנוּ כִּי\n",
      "רצוי:  שֶׁקוֹלוֹת אֵלֶה בִּשְׂרוּ לָנוּ כִּי שָׁלוֹם לְהַנְטֶר וּלְג'וֹיְס, הֵם גַם רָמְזוּ לָנוּ כִּי\n",
      "\n",
      "מצוי:  אֲמַלְתִּיאָה - מִינֶקֶת לְזֶאוּס וְנִימְפָה אַחַת, בִּדְמוּת עֹז גְּדֻלַת-קְרָנַיִם, אֲמַלְתִּיאָה\n",
      "רצוי:  אֲמַלְתֵּיאָה - מֵינֶקֶת לְזֶאוּס וְנִימְפָה אַחַת, בִּדְמוּת עֵז גִּדְלַת-קַרְנַיִם, אֲמַלְתֵּיאָה\n",
      "\n",
      "מצוי:  עַל מְנָת שֶׁ תְּנַאי כָּפוּל הֵן וְלָאוּ תְּנָאִים סֻכַל עֲצָתָם הַפָּר עֲצָתָם בִּטֵל מַחֲשַׁבְתָּם\n",
      "רצוי:  עַל מְנָת שֶׁ תְּנַאי כָּפוּל הֵן וְלַאו תְּנָאִים סַכֵּל עֲצָתָם הָפֵר עֲצָתָם בַּטֵּל מַחֲשַׁבְתָּם\n",
      "\n",
      "מצוי:  יְלָדִים, אַף אֲנִי אָשֵׁם,\" אָמַר הָאָב. \"פְּנֵי הַדְּבָרִים לֹא יִשְׁתַּנוּ עַל יְדֵי כָּךְ,\n",
      "רצוי:  יְלָדִים, אַף אֲנִי אָשֵׁם,\" אָמַר הָאָב. \"פְּנֵי הַדְּבָרִים לֹא יִשְּׁתַּנּוּ עַל יְדֵי כָּךְ,\n",
      "\n",
      "מצוי:  אֶת הַכְּבִישׁ עִם מֻבְגָּר . עוֹצְרִים צַעַד אוֹ שְׁנַיִם לִפְנֵי שְׂפַת הַמִּדְרָכָה. מַבִּיטִים\n",
      "רצוי:  אֶת הַכְּבִישׁ עִם מְבֻגָּר . עוֹצְרִים צַעַד אוֹ שְׁנַיִם לִפְנֵי שְׂפַת הַמִּדְרָכָה. מַבִּיטִים\n",
      "\n",
      "מצוי:  חַיֵּי-עוֹלָם. וְהַמּוּסוֹת, בְּנוֹת-הַשִּׁיר, הָיוּ בְּאוֹת לְשָׁם וּמֵרְווֹת נַפְשָׁם בִּנְגִינוֹת,\n",
      "רצוי:  חַיֵּי-עוֹלָם. וְהַמּוּסוֹת, בְּנוֹת-הַשִּׁיר, הָיוּ בָאוֹת לְשָׁם וּמְרַוּוֹת נַפְשָׁם בִּנְגִינוֹת,\n",
      "\n",
      "מצוי:  מִפִּי בַּעְלָהּ בְּפַּעַם הַמֵאָה, לְעוֹלָם הֵם כְּחֲדָשִׁים בְּעֵינֶיהָ. אֲנִי, מִכֵּיוָן שֶׁתָּקַף עָלַי\n",
      "רצוי:  מִפִּי בַּעְלָהּ בַּפַּעַם הַמֵּאָה, לְעוֹלָם הֵם כַּחֲדָשִׁים בְּעֵינֶיהָ. אֲנִי, מִכֵּיוָן שֶׁתָּקַף עָלַי\n",
      "\n",
      "מצוי:  בְּכָל פִּנָה וּמָקוֹם וּלְנַחָשׁ: אֵיזֶה מֶזֶג אֲוִיר יִהְיֶה הַיּוֹם? דַּלִיָה, חַיְכָנִית עִם\n",
      "רצוי:  בְּכָל פִּנָּה וּמָקוֹם וּלְנַחֵשׁ: אֵיזֶה מֶזֶג אֲוִיר יִהְיֶה הַיּוֹם? דָּלִיָּה, חַיְכָנִית עִם\n",
      "\n",
      "מצוי:  בְּטוֹב. שִׁבְעָה עֲשׂוּרִים בּוֹדְדָה עֲלִיצוּתַי כַּדוּגִית. הַשִּׁטָה בָּאֲגַם גּוֹעֵשׁ, דּוֹמֵעַ.\n",
      "רצוי:  בְּטוֹב. שִׁבְעָה עֲשׂוֹרִים בּוֹדֵדָה עֲלִיצוּתִי כְּדוּגִית. הַשָּׁטָה בַּאֲגַם גּוֹעֵשׁ, דּוֹמֵעַ.\n",
      "\n",
      "מצוי:  אֶת הַנַּעֲרָה, וַיִּשְּׁאֶנָה בָּאֲוִיר, דָּאָה וְרָחֵף עִמָּהּ, עַד הוֹרִיד אוֹתָהּ אֶל עָמֹק בֵּין\n",
      "רצוי:  אֶת הַנַּעֲרָה, וַיִּשָּׂאֶנָּה בָּאֲוִיר, דָּאֹה וְרַחֵף עִמָּה, עַד הוֹרִיד אוֹתָהּ אֶל עֵמֶק בֵּין\n",
      "\n",
      "מצוי:  מִצָרִים עָשֶׂר מַכּוֹת וְהַמַכָּה הַשְּׁלִישִׁית הִיא, כֵּנִים\". \"הֵן יְכֹלוֹת לִמֶשֹׁךְ לַיָּם\",\n",
      "רצוי:  מִצְרַיִם עֶשֶׂר מַכּוֹת וְהַמַּכָּה הַשְּׁלִישִׁית הִיא, כִּנִּים\". \"הֵן יְכֹלוֹת לִמְשֹׁךְ לַיָּם\",\n",
      "\n",
      "מצוי:  לִקְרֹב אֵלֶיהָ עַד עוֹלָם, וַיָּקָם הַשִּׁלְטוֹן לְטִּיטָנִים, וּכְרוֹנוֹס בְּרֹאשָׁם. וּתְחִלַּת\n",
      "רצוי:  לִקְרֹב אֵלֶיהָ עַד עוֹלָם, וַיָּקָם הַשִּׁלְטוֹן לַטִּיטָנִים, וּכְרוֹנוֹס בְּרֹאשָׁם. וּתְחִלַּת\n",
      "\n",
      "מצוי:  אֶת נְשִׁימָתוֹ כְּדֵי שֶׁאֵדַע לְהַגִיעַ אֵלָיו. אָה! אֲנִי שׁוֹמֵעַ אוֹתוֹ עַכְשָׁו!\" וְהוּא\n",
      "רצוי:  אֶת נְשִׁימָתוֹ כְּדֵי שֶׁאֵדַע לְהַגִיעַ אֵלָיו. אָה! אֲנִי שׁוֹמֵעַ אוֹתוֹ עַכְשָׁו!\" וְהוּא\n",
      "\n",
      "מצוי:  וְהִנֵּה פָּרְצָה תִּגְרַת יָדַיִם. הָיָה שָׁם אִירִי אֶחָד, כָּזֶה עֲנָק, בַּעַל נְשָׁמָה אֲפֵלָה\n",
      "רצוי:  וְהִנֵּה פָּרְצָה תִּגְרַת יָדַיִם. הָיָה שָׁם אִירִי אֶחָד, כָּזֶה עֲנָק, בַּעַל נְשָׁמָה אֲפֵלָה\n",
      "\n",
      "מצוי:  בִּקַּשְׁתִּי שְׁטוּחָה לְפָנֶיךָ אֲנִי מְבַקֵּשׁ מִמְּךָ בְּכָל לָשׁוֹן שֶׁל בִּקְּשָׁה אֲנִי מַפְצִיר בְּךָ\n",
      "רצוי:  בַּקָּשָׁתִי שְׁטוּחָה לְפָנֶיךָ אֲנִי מְבַקֵּשׁ מִמְּךָ בְּכָל לָשׁוֹן שֶׁל בַּקָּשָׁה אֲנִי מַפְצִיר בְּךָ\n",
      "\n"
     ]
    }
   ],
   "source": [
    "def print_predictions(data, k):\n",
    "    s = slice(k*BATCH_SIZE, (k+1)*BATCH_SIZE)\n",
    "    batch = data.normalized_validation[s]\n",
    "    prediction = model.predict(batch)\n",
    "    [actual_niqqud, actual_dagesh, actual_sin] = [dataset.from_categorical(prediction[0]), dataset.from_categorical(prediction[1]), dataset.from_categorical(prediction[2])]\n",
    "    [expected_niqqud, expected_dagesh, expected_sin] = [data.niqqud_validation[s], data.dagesh_validation[s], data.sin_validation[s]]\n",
    "    actual = data.merge(batch, ns=actual_niqqud, ds=actual_dagesh, ss=actual_sin)\n",
    "    expected = data.merge(batch, ns=expected_niqqud, ds=expected_dagesh, ss=expected_sin)\n",
    "    for i, (a, e) in enumerate(zip(actual, expected)):\n",
    "        print('מצוי: ', a)\n",
    "        print('רצוי: ', e)\n",
    "        print()\n",
    "\n",
    "print_predictions(data_modern, 1)"
   ]
  },
  {
   "cell_type": "code",
   "execution_count": null,
   "metadata": {},
   "outputs": [],
   "source": []
  }
 ],
 "metadata": {
  "kernelspec": {
   "display_name": "Python 3",
   "language": "python",
   "name": "python3"
  },
  "language_info": {
   "codemirror_mode": {
    "name": "ipython",
    "version": 3
   },
   "file_extension": ".py",
   "mimetype": "text/x-python",
   "name": "python",
   "nbconvert_exporter": "python",
   "pygments_lexer": "ipython3",
   "version": "3.7.4"
  }
 },
 "nbformat": 4,
 "nbformat_minor": 4
}
