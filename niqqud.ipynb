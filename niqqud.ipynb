{
 "cells": [
  {
   "cell_type": "code",
   "execution_count": 1,
   "metadata": {},
   "outputs": [],
   "source": [
    "import os\n",
    "import datetime\n",
    "\n",
    "import numpy as np\n",
    "import matplotlib.pyplot as plt\n",
    "\n",
    "import tensorflow as tf\n",
    "from tensorflow.keras import layers\n",
    "\n",
    "import dataset\n",
    "assert tf.config.list_physical_devices('GPU')\n",
    "\n",
    "MAXLEN = 60\n",
    "BATCH_SIZE = 32"
   ]
  },
  {
   "cell_type": "code",
   "execution_count": 13,
   "metadata": {},
   "outputs": [
    {
     "name": "stdout",
     "output_type": "stream",
     "text": [
      "Failed to import pydot. You must install pydot and graphviz for `pydotprint` to work.\n",
      "Model: \"model_3\"\n",
      "__________________________________________________________________________________________________\n",
      "Layer (type)                    Output Shape         Param #     Connected to                     \n",
      "==================================================================================================\n",
      "input_4 (InputLayer)            [(None, 60)]         0                                            \n",
      "__________________________________________________________________________________________________\n",
      "embedding_3 (Embedding)         (None, 60, 512)      51200       input_4[0][0]                    \n",
      "__________________________________________________________________________________________________\n",
      "bidirectional_6 (Bidirectional) (None, 60, 256)      1574912     embedding_3[0][0]                \n",
      "__________________________________________________________________________________________________\n",
      "bidirectional_7 (Bidirectional) (None, 60, 256)      1050624     bidirectional_6[0][0]            \n",
      "__________________________________________________________________________________________________\n",
      "add_3 (Add)                     (None, 60, 256)      0           bidirectional_6[0][0]            \n",
      "                                                                 bidirectional_7[0][0]            \n",
      "__________________________________________________________________________________________________\n",
      "dense_6 (Dense)                 (None, 60, 16)       4112        add_3[0][0]                      \n",
      "__________________________________________________________________________________________________\n",
      "dense_7 (Dense)                 (None, 60, 4)        1028        add_3[0][0]                      \n",
      "__________________________________________________________________________________________________\n",
      "N (Softmax)                     (None, 60, 16)       0           dense_6[0][0]                    \n",
      "__________________________________________________________________________________________________\n",
      "D (Softmax)                     (None, 60, 4)        0           dense_7[0][0]                    \n",
      "==================================================================================================\n",
      "Total params: 2,681,876\n",
      "Trainable params: 2,681,876\n",
      "Non-trainable params: 0\n",
      "__________________________________________________________________________________________________\n"
     ]
    }
   ],
   "source": [
    "EMBED_DIM = 512\n",
    "UNITS = 256\n",
    "\n",
    "NIQQUD_SIZE = 16  # len(data.niqqud_table)\n",
    "DAGESH_SIZE = 4   # len(data.dagesh_table)\n",
    "LETTERS_SIZE = 100  # len(data.letters_table)\n",
    "\n",
    "common_input = tf.keras.Input(batch_shape=(None, MAXLEN), batch_size=BATCH_SIZE)\n",
    "common = layers.Embedding(LETTERS_SIZE, EMBED_DIM, mask_zero=True)(common_input)\n",
    "common = layers.Bidirectional(layers.LSTM(UNITS, return_sequences=True, dropout=0.1), merge_mode='sum')(common)\n",
    "\n",
    "common = layers.add([common, layers.Bidirectional(layers.LSTM(UNITS, return_sequences=True, dropout=0.1), merge_mode='sum')(common)])\n",
    "\n",
    "niqqud = layers.Softmax(name='N')(layers.Dense(NIQQUD_SIZE)(common))\n",
    "dagesh = layers.Softmax(name='D')(layers.Dense(DAGESH_SIZE)(common))\n",
    "\n",
    "model = tf.keras.Model(inputs=[common_input], outputs=[niqqud, dagesh])\n",
    "\n",
    "tf.keras.utils.plot_model(model, to_file='model.png')\n",
    "\n",
    "model.compile(loss='sparse_categorical_crossentropy',\n",
    "              optimizer=tf.keras.optimizers.Adam(learning_rate=0.0001),\n",
    "              metrics=['accuracy'])\n",
    "\n",
    "model.summary()\n",
    "\n",
    "def fit(data, learning_rates):\n",
    "    return model.fit(data.input_texts, [data.niqqud_texts, data.dagesh_texts],\n",
    "          batch_size=BATCH_SIZE,\n",
    "          epochs=len(learning_rates),\n",
    "          validation_data=(data.input_validation, [data.niqqud_validation,  data.dagesh_validation]),\n",
    "          callbacks=[\n",
    "              tf.keras.callbacks.LearningRateScheduler(lambda epoch, lr: learning_rates[epoch], verbose=0),\n",
    "              # tf.keras.callbacks.ModelCheckpoint(filepath='checkpoints/ckpt_{epoch}', save_weights_only=True),\n",
    "          ]\n",
    "    )"
   ]
  },
  {
   "cell_type": "code",
   "execution_count": 28,
   "metadata": {},
   "outputs": [],
   "source": [
    "def load_data():\n",
    "    rabanit = ['birkat_hamazon.txt', 'hakdama_leorot.txt', 'hartzaat_harav.txt', 'orhot_hayim.txt', 'rambam_mamre.txt', 'short_table.txt', 'tomer_dvora.txt', 'breslev.txt']\n",
    "    modern = ['atar_hashabat.txt', 'kakun.txt', 'sisters.txt', 'treasure_island.txt', 'ali_baba.txt', 'people.txt', 'ricky.txt', 'imagination.txt', 'adamtsair.txt', 'katarsis.txt']\n",
    "    files = ['texts/' + f for f in modern]\n",
    "    return dataset.load_file(BATCH_SIZE, 0.01, maxlen=MAXLEN, filenames=files, shuffle=True)\n",
    "\n",
    "data = load_data()\n",
    "data.print_tables()"
   ]
  },
  {
   "cell_type": "code",
   "execution_count": 33,
   "metadata": {},
   "outputs": [
    {
     "name": "stdout",
     "output_type": "stream",
     "text": [
      "['^', '@', '', ' ', '!', '\"', \"'\", '(', ')', '*', ',', '-', '.', '0', '1', '2', '3', '4', '5', '6', '7', '8', '9', ':', ';', '?', 'D', 'O', 'R', '[', ']', '´', 'ְ', 'ַ', 'ֹ', '־', 'ׁ', 'א', 'ב', 'ג', 'ד', 'ה', 'ו', 'ז', 'ח', 'ט', 'י', 'ך', 'כ', 'ל', 'ם', 'מ', 'ן', 'נ', 'ס', 'ע', 'ף', 'פ', 'ץ', 'צ', 'ק', 'ר', 'ש', 'ת', 'ײ', '״', '–', '—', '‘', '’', '“', '”', '…', '−', '\\uf04a']\n",
      "['^', '@', '', 'ְ', 'ֱ', 'ֲ', 'ֳ', 'ִ', 'ֵ', 'ֶ', 'ַ', 'ָ', 'ֹ', 'ֺ', 'ֻ', 'ּ']\n",
      "['^', '@', '', 'ּ']\n",
      "['^', '@', '', 'ׁ', 'ׂ']\n"
     ]
    }
   ],
   "source": []
  },
  {
   "cell_type": "code",
   "execution_count": 29,
   "metadata": {},
   "outputs": [
    {
     "name": "stdout",
     "output_type": "stream",
     "text": [
      "Train on 8331 samples, validate on 85 samples\n",
      "Epoch 1/2\n",
      "8331/8331 [==============================] - 10s 1ms/sample - loss: 0.4377 - N_loss: 0.3647 - D_loss: 0.0724 - N_accuracy: 0.8814 - D_accuracy: 0.9739 - val_loss: 0.2293 - val_N_loss: 0.1845 - val_D_loss: 0.0480 - val_N_accuracy: 0.9409 - val_D_accuracy: 0.9828\n",
      "Epoch 2/2\n",
      "8331/8331 [==============================] - 10s 1ms/sample - loss: 0.2199 - N_loss: 0.1733 - D_loss: 0.0467 - N_accuracy: 0.9450 - D_accuracy: 0.9823 - val_loss: 0.1999 - val_N_loss: 0.1589 - val_D_loss: 0.0444 - val_N_accuracy: 0.9493 - val_D_accuracy: 0.9845\n"
     ]
    }
   ],
   "source": [
    "history = fit(data, [2e-3, 2e-4]) #, 1e-4, 3e-6])"
   ]
  },
  {
   "cell_type": "code",
   "execution_count": 16,
   "metadata": {},
   "outputs": [
    {
     "data": {
      "image/png": "[encoded data removed]",
      "text/plain": [
       "<Figure size 432x288 with 4 Axes>"
      ]
     },
     "metadata": {
      "needs_background": "light"
     },
     "output_type": "display_data"
    }
   ],
   "source": [
    "fig, ax = plt.subplots(nrows=2, ncols=2)\n",
    "\n",
    "for n, v in enumerate(['accuracy', 'loss'], 0):\n",
    "    for n1, t in enumerate(['D', 'N'], 0):\n",
    "        p = ax[n][n1]\n",
    "        p.plot(history.history[t + '_' + v][0:])\n",
    "        p.plot(history.history['val_' + t + '_' +  v][0:])\n",
    "        p.legend([t + '_Train', t + '_Test'], loc='center right')\n",
    "\n",
    "plt.tight_layout()"
   ]
  },
  {
   "cell_type": "code",
   "execution_count": 32,
   "metadata": {},
   "outputs": [],
   "source": [
    "import tensorflowjs as tfjs\n",
    "tfjs.converters.save_keras_model(model, '.')"
   ]
  },
  {
   "cell_type": "code",
   "execution_count": 31,
   "metadata": {},
   "outputs": [
    {
     "name": "stdout",
     "output_type": "stream",
     "text": [
      "מצוי:  בָּרְסָן הַסּוּסִים וְעֵינֵיהֶם מְגַשָשוֹת בָּאֲפֵלָה אַחַר מְאֲרָבִים אֶפְשָרִיִים. אַךְ\n",
      "רצוי:  בְּרֶסֶן הַסוּסִים וְעֵינֵיהֶם מְגַשְשוֹת בָּאֲפֵלָה אָחָר מָאֲרָבִים אֶפְשָרִיִים. אַךְ\n",
      "\n",
      "מצוי:  רַק אֶת אַלְפְרֶד.\" \"אַלְפְרֶד?\" שָאֲלָה אִמָּא בְּצַחְקוֹק. \"כֵּן,\" אָמְרָה מִיכַל,\n",
      "רצוי:  רַק אֶת אַלְפְרֶד.\" \"אַלְפְרֶד?\" שָאֲלָה אִמָא בְּצִחְקוּק. \"כֵּן,\" אָמְרָה מִיכַל,\n",
      "\n",
      "מצוי:  אֶת אֲרוּחַת הָעֶרֶב הַטְעִימָה בְּיוֹתֵר שֶאָכְלוּ מֵימֵיהֶם. בִּשְבִיל מָה לָלֶכֶת\n",
      "רצוי:  אֶת אֲרוּחַת הָעֶרֶב הַטְעִימָה בְּיוֹתֵר שֶאָכְלוּ מִימֵיהֶם. בִּשְבִיל מָה לָלֶכֶת\n",
      "\n",
      "מצוי:  מֵעַל לְרֹאשִי. קָפַצְתִּי עַל רַגְלַי וּזְנַקְתִּי, בְּהֵטִילִי אֶת סִירַת-הַנְצָרִים אֶל\n",
      "רצוי:  מֵעַל לְרֹאשִי. קָפַצְתִּי עַל רַגְלַי וְזִנַקְתִּי, בַּהֲטִילִי אֶת סִירַת-הַנְצָרִים אֶל\n",
      "\n",
      "מצוי:  הַנְמוּכִים, לִתְפֹּס מְאָרָב וּלְהֲטוֹת אֶזֶן. יָכֹלְתִּי לְגַלוֹת בְּנְקֵל אֶת מְקוֹמָם\n",
      "רצוי:  הַנְמוּכִים, לִתְפֹּס מַאֲרָב וּלְהַטוֹת אֹזֶן. יָכֹלְתִּי לְגַלוֹת בְּנָקֵל אֶת מְקוֹמָם\n",
      "\n",
      "מצוי:  אֶתְכֶם בָּאֲזָקִים וְיַחְזִירוּ אֶתְכֶם בְּשָלוֹם לְאַנְגְלֶיָהָ, לַעֲרֵיכַת מִשְפָּט הוֹגֵן.\n",
      "רצוי:  אֶתְכֶם בַּאֲזִקִים וְיַחֲזִירוּ אֶתְכֶם בְּשָלוֹם לְאַנְגְלִיָה, לַעֲרִיכַת מִשְפָּט הוֹגֵן.\n",
      "\n",
      "מצוי:  דַוְקָא לָעֵץ זֶה הִתְכַּוֵן פְלִינְט. רַק ג’וֹן הָאָרֹךְ לְבַדוֹ מָשֶךְ בִּכְתֵפָיו וּבִקֵש\n",
      "רצוי:  דַוְקָא לְעֵץ זֶה הִתְכַּוֵן פְלִינְט. רַק ג’וֹן הָאָרֹךְ לְבַדוֹ מָשַךְ בִּכְתֵפָיו וּבִקֵש\n",
      "\n",
      "מצוי:  וְסִילְבֶר עַצְמוֹ אָמַר בְּקוֹל מִזְדֶמֶר: “לְחַיֵי עַצְמְנוּ, שְנָרִים הַמִפְרָש –\n",
      "רצוי:  וְסִילְבֶר עַצְמוֹ אָמַר בְּקוֹל מִזְדַמֵר: “לְחַיֵי עַצְמֵנוּ, שֶנָרִים הַמִפְרָש –\n",
      "\n",
      "מצוי:  אֲבַק-שְרֵפָה נוֹתֵר לָכֶם, בַּחוּרִים.” בְּנִסָיוֹן הַבָּא הָיְתָה קְלִיעָתֶם טוֹבָה\n",
      "רצוי:  אֲבַק-שְרֵפָה נוֹתַר לָכֶם, בַּחוּרִים.” בַּנִסָיוֹן הַבָּא הָיְתָה קְלִיעָתָם טוֹבָה\n",
      "\n",
      "מצוי:  רָאָה דוֹ-מִפַרָשִית קְטַנָּה בְּסָמוּךְ לַמְאוֹרַת קַיט. אָכֵן, הֵם הָיוּ אֲחוּזֵי\n",
      "רצוי:  רָאָה דוּ-מִפְרָשִית קְטַנָה בְּסָמוּךְ לִמְאוּרַת קִיט. אָכֵן, הֵם הָיוּ אֲחוּזֵי\n",
      "\n",
      "מצוי:  מַשֶהוּ יוֹתֵר טוֹב. הוּא מָצָא אֵישָה נֶחְמָדָה שֶהָיְיתָה כָּל הַזְמַן בָּעוֹלָם\n",
      "רצוי:  מַשֶּהוּ יוֹתֵר טוֹב. הוּא מָצָא אִישָּה נֶחְמָדָה שֶהָיְיתָה כָּל הַזְּמַן בָּעוֹלָם\n",
      "\n",
      "מצוי:  נְשִימָה, עַד שֶלְבַסוֹף צָעַק פִּתְאֹם: \"עַכְשָו, חֲמוּדִי – לְכִווּן הָרוּחַ! \"\n",
      "רצוי:  נְשִימָה, עַד שֶלְבַסוֹף צָעַק פִּתְאֹם: \"עַכְשָו, חֲמוּדִי – לְכִווּן הָרוּחַ! \"\n",
      "\n",
      "מצוי:  לִי תְּמוּנָה אַחַת שֶאוּכַל לְהִרְאוֹת לַחֲבֵרוֹת בַּכִּתָה שֶלִי. סִפַּרְתִּי לַחֲבֵרוֹת\n",
      "רצוי:  לִי תְּמוּנָה אַחַת שֶאוּכָל לְהַרְאוֹת לַחֲבֵרוֹת בַּכִּתָּה שֶלִּי. סִפַּרְתִּי לַחֲבֵרוֹת\n",
      "\n",
      "מצוי:  שֶצָמֵד אֶצְבָּעוֹת חָסָר בְּיָדוֹ הַשְמָאלִית; וְאַף-עַל-פִּי שֶנָשֵא חֶרַב-מַלָחִים, הוּא\n",
      "רצוי:  שֶצֶמֶד אֶצְבָּעוֹת חָסַר בְּיָדוֹ הַשְמָאלִית; וְאַף-עַל-פִּי שֶנָשָא חֶרֶב-מַלָחִים, הוּא\n",
      "\n",
      "מצוי:  הַבַּיִת, וְאֶת הַבַּיִת שֶל סַבְתָּא. כְּשֶחָזַרְנוּ, נִשְאַר לְחַכּוֹת כְּשֶעָתַּיִם עַד אֲרוּחַת\n",
      "רצוי:  הַבַּיִת, וְאֶת הַבַּיִת שֶל סַבְתָּא. כְּשֶחָזַרְנוּ, נִשְאַר לְחַכּוֹת כִּשְעָתַיִם עַד אֲרוּחַת\n",
      "\n",
      "מצוי:  יוֹתֵר מִכָּל אֶחָד אַחֵר. אֲנִי בָּטוּחַ שֶהַשַּבָּת תְּנַצֵח\". אֶפְשָר לִרְאוֹת אֶת הַמֻכֻּלֶת\n",
      "רצוי:  יוֹתֵר מִכָּל אֶחָד אַחֵר. אֲנִי בָּטוּחַ שֶהַשַּבָּת תְּנַצַּח\". אֶפְשָר לִרְאוֹת אֶת הַמַּכֹּלֶת\n",
      "\n",
      "מצוי:  בְּעֶשֶרַת הַדְבָרוֹת עָמַד כָּל בֵּית הַכְּנֶסֶת – וּשְלוֹמִי שֶלָּנוּ, שְלוֹמִי שֶלָּנוּ קָרָא\n",
      "רצוי:  בָּעֲשֶרֶת הַדִבְּרוֹת עָמַד כָּל בֵּית הַכְּנֶסֶת – וּשְלוֹמִי שֶלָּנוּ, שְלוֹמִי שֶלָּנוּ קָרָא\n",
      "\n",
      "מצוי:  אַבָּא לְצַד וְהִתְיַעֵצָה אִתּוֹ לְגַבִּי הַשֵם שֶהִיא וְדוֹד אַבְנֵר הֶחְלִיטוּ לִקְרֹא\n",
      "רצוי:  אַבָּא לַצַּד וְהִתְיַעֲצָה אִתּוֹ לְגַבֵּי הַשֵּם שֶהִיא וְדוֹד אַבְנֵר הֶחְלִיטוּ לִקְרֹא\n",
      "\n",
      "מצוי:  בְּאֵפוֹ. אַךְ לֹא זָכִינוּ לִשְמֹחַ עֵת רַבָּה עַל נִצְחוֹנֵנוּ; שֶכֵּן לְפֶתַע הִדְהֲדָה\n",
      "רצוי:  בְּאַפּוֹ. אַךְ לֹא זָכִינוּ לִשְמֹחַ עֵת רַבָּה עַל נִצְחוֹנֵנוּ; שֶכֵּן לְפֶתַע הִדְהֲדָה\n",
      "\n",
      "מצוי:  וְעָתִיד לְשֶמֶש מָזוֹן לְדָגִים בְּאוֹתוֹ מָקוֹם מַמָש, שֶבּוֹ בִּקֵש אֶת נַפְשִי. אֲבָל\n",
      "רצוי:  וְעָתִיד לְשַמֵש מָזוֹן לְדָגִים בְּאוֹתוֹ מָקוֹם מַמָש, שֶבּוֹ בִּקֵש אֶת נַפְשִי. אֲבָל\n",
      "\n",
      "מצוי:  הָיָה פָּשוּט וּמוּבָן: לוֹקְחִים מַטְבֵּעַ וְקוֹבְעִים מֵרֹאש. אִם יוֹצֵא צַד ´עֵץ´\n",
      "רצוי:  הָיָה פָּשוּט וּמוּבָן: לוֹקְחִים מַטְבֵּעַ וְקוֹבְעִים מֵרֹאש. אִם יוֹצֵא צַד ´עֵץ´\n",
      "\n",
      "מצוי:  הַתָּא וְתָבִיא לִי קְצָת… מָה… לַעֲזָאזֵל! שָכַחְתִּי אֵיךְ קוֹרְאִים לָזֶה… טוֹב,\n",
      "רצוי:  הַתָּא וְתָבִיא לִי קְצָת… מֵהַ… לַעֲזָאזֵל! שָכַחְתִּי אֵיךְ קוֹרְאִים לָזֶה… טוֹב,\n",
      "\n",
      "מצוי:  דִּמְיוֹן שֶל אֲחֵרִים. אַתָּה מַצִיעַ לִי דְבָרִים מְאוֹד יָפִים, הַלְווּאי שֶהָיָה לִי\n",
      "רצוי:  דִּמְיוֹן שֶל אֲחֵרִים. אַתָּה מַצִּיעַ לִי דְּבָרִים מְאוֹד יָפִים, הַלְוַואי שֶהָיָה לִי\n",
      "\n",
      "מצוי:  הַכֶּסֶף נָתַן לַחֲכָמִים וְהֵם בָּרְכוּ אוֹתוֹ: \"שֶה' יִמְלֵא אֶת חִסְרוֹנְךָ וְיַחְזִיר\n",
      "רצוי:  הַכֶּסֶף נָתַן לַחֲכָמִים וְהֵם בֵּרְכוּ אוֹתוֹ: \"שֶה' יְמַלֵא אֶת חֶסְרוֹנְךָ וְיַחְזִיר\n",
      "\n",
      "מצוי:  אֶת הַסִירָה – סִירָתִי – אֶל חֶלֶקַת הַמַיִם. 23. שָפֶל וְגֵאוֹת סִירַת-הַנְצָרִים\n",
      "רצוי:  אֶת הַסִירָה – סִירָתִי – אֶל חֶלְקַת הַמַיִם. 23. שֵפֶל וְגֵאוּת סִירַת-הַנְצָרִים\n",
      "\n",
      "מצוי:  יוֹם מְנוּחָה וְהוּא שַבָּת. אָז לָמָה הוּא בָּא אֵלַי וּמְבַקֵּש מִמֶנִי לִסְגֹּר אֶת\n",
      "רצוי:  יוֹם מְנוּחָה וְהוּא שַבָּת. אָז לָמָּה הוּא בָּא אֵלַי וּמְבַקֵּש מִמֶּנִּי לִסְגֹּר אֶת\n",
      "\n",
      "מצוי:  בְּרַעַם מֵהַדְהֵד, וְכַדוּר-תּוֹתָח נוֹסָף פִּלַח בִּשְרִיקָה אֶת הָאֲוִיר. בְּכָךְ הִגִיעָה\n",
      "רצוי:  בְּרַעַם מְהַדְהֵד, וְכַדוּר-תּוֹתָח נוֹסָף פִּלַח בִּשְרִיקָה אֶת הָאֲוִיר. בְּכָךְ הִגִיעָה\n",
      "\n",
      "מצוי:  אֵלֶה שוֹדְדִים, וְלָכֵן הֶחָבִיא מִיָד אֶת חֲמוּרוֹ הַקָטָן בֵּין הַשִיחִים, וְאִלוּ\n",
      "רצוי:  אֵלֶּה שוֹדְדִים, וְלָכֵן הֶחְבִּיא מִיָּד אֶת חֲמוֹרוֹ הַקָּטָן בֵּין הַשִּיחִים, וְאִלּוּ\n",
      "\n",
      "מצוי:  אוֹתוֹ דָבָר. וּמַה שֶיוֹתֵר, הָיִיתִי מַעָדִיף לִרְאוֹת תְּחִלָה אוֹתוֹ וְאוֹתְךָ וְאֶת\n",
      "רצוי:  אוֹתוֹ דָבָר. וּמַה שֶיוֹתֵר, הָיִיתִי מַעְדִיף לִרְאוֹת תְּחִלָה אוֹתוֹ וְאוֹתְךָ וְאֶת\n",
      "\n",
      "מצוי:  עָצַרְתִּי בִּמְקוֹמִי, הַמְפִית בְּיָדִי. “בּוֹא הִנֵה, יֶלֶד,” אָמַר, “הִתְקָרֵב אֵלַי\n",
      "רצוי:  עָצַרְתִּי בִּמְקוֹמִי, הַמַפִּית בְּיָדִי. “בּוֹא הֵנָה, יֶלֶד,” אָמַר, “הִתְקָרֵב אֵלַי\n",
      "\n",
      "מצוי:  לַיְלָה טוֹב יוֹרֵד כּוֹכָב וּמְנַשֵק וּמִתְרַחֵק לוֹ מִתְרַחֵק בָּא לִי לִיְשֹר כַּפוֹת\n",
      "רצוי:  לַיְלָה טוֹב יוֹרֵד כּוֹכָב וּמְנַשֶק וּמִתְרַחֵק לוֹ מִתְרַחֵק בָּא לִי לְיַשֵּר כַּפּוֹת\n",
      "\n",
      "מצוי:  עָשֶר וְהַהוֹרִים שֶלִי כְּבָר לֹא מִתְרַגְּשִים כְּשֶהֵם רוֹאִים אֶת אֶחָד הַמַּכְשִירִים\n",
      "רצוי:  עֶשֶר וְהַהוֹרִים שֶלִי כְּבָר לֹא מִתְרַגְשִים כְּשֶהֵם רוֹאִים אֶת אַחַד הַמַכְשִירִים\n",
      "\n"
     ]
    }
   ],
   "source": [
    "def print_predictions(k):\n",
    "    s = slice(k*BATCH_SIZE, (k+1)*BATCH_SIZE)\n",
    "    batch = data.input_validation[s]\n",
    "    prediction = model.predict(batch)\n",
    "    [actual_niqqud, actual_dagesh] = [dataset.from_categorical(prediction[0]), dataset.from_categorical(prediction[1])]\n",
    "    [expected_niqqud, expected_dagesh] = [data.niqqud_validation[s], data.dagesh_validation[s]]\n",
    "    actual = data.merge(batch, ns=actual_niqqud, ds=actual_dagesh)\n",
    "    expected = data.merge(batch, ns=expected_niqqud, ds=expected_dagesh)\n",
    "    for i, (a, e) in enumerate(zip(actual, expected)):\n",
    "        print('מצוי: ', a)\n",
    "        print('רצוי: ', e)\n",
    "        print()\n",
    "\n",
    "print_predictions(1)"
   ]
  },
  {
   "cell_type": "code",
   "execution_count": null,
   "metadata": {},
   "outputs": [],
   "source": []
  },
  {
   "cell_type": "code",
   "execution_count": null,
   "metadata": {},
   "outputs": [],
   "source": []
  }
 ],
 "metadata": {
  "kernelspec": {
   "display_name": "Python 3",
   "language": "python",
   "name": "python3"
  },
  "language_info": {
   "codemirror_mode": {
    "name": "ipython",
    "version": 3
   },
   "file_extension": ".py",
   "mimetype": "text/x-python",
   "name": "python",
   "nbconvert_exporter": "python",
   "pygments_lexer": "ipython3",
   "version": "3.7.4"
  }
 },
 "nbformat": 4,
 "nbformat_minor": 4
}
