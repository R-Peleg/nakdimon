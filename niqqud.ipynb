{
 "cells": [
  {
   "cell_type": "code",
   "execution_count": 1,
   "metadata": {},
   "outputs": [
    {
     "name": "stderr",
     "output_type": "stream",
     "text": [
      "Using TensorFlow backend.\n"
     ]
    }
   ],
   "source": [
    "import os\n",
    "import datetime\n",
    "\n",
    "import numpy as np\n",
    "import matplotlib.pyplot as plt\n",
    "\n",
    "import tensorflow as tf\n",
    "from tensorflow.keras import layers\n",
    "\n",
    "import dataset\n",
    "assert tf.config.list_physical_devices('GPU')\n"
   ]
  },
  {
   "cell_type": "code",
   "execution_count": 2,
   "metadata": {},
   "outputs": [
    {
     "name": "stdout",
     "output_type": "stream",
     "text": [
      "Failed to import pydot. You must install pydot and graphviz for `pydotprint` to work.\n",
      "Model: \"model\"\n",
      "__________________________________________________________________________________________________\n",
      "Layer (type)                    Output Shape         Param #     Connected to                     \n",
      "==================================================================================================\n",
      "input_1 (InputLayer)            [(None, 64)]         0                                            \n",
      "__________________________________________________________________________________________________\n",
      "embedding (Embedding)           (None, 64, 512)      22016       input_1[0][0]                    \n",
      "__________________________________________________________________________________________________\n",
      "bidirectional (Bidirectional)   (None, 64, 256)      1574912     embedding[0][0]                  \n",
      "__________________________________________________________________________________________________\n",
      "bidirectional_1 (Bidirectional) (None, 64, 256)      1050624     bidirectional[0][0]              \n",
      "__________________________________________________________________________________________________\n",
      "add (Add)                       (None, 64, 256)      0           bidirectional[0][0]              \n",
      "                                                                 bidirectional_1[0][0]            \n",
      "__________________________________________________________________________________________________\n",
      "dense (Dense)                   (None, 64, 15)       3855        add[0][0]                        \n",
      "__________________________________________________________________________________________________\n",
      "dense_1 (Dense)                 (None, 64, 2)        514         add[0][0]                        \n",
      "__________________________________________________________________________________________________\n",
      "N (Softmax)                     (None, 64, 15)       0           dense[0][0]                      \n",
      "__________________________________________________________________________________________________\n",
      "D (Softmax)                     (None, 64, 2)        0           dense_1[0][0]                    \n",
      "==================================================================================================\n",
      "Total params: 2,651,921\n",
      "Trainable params: 2,651,921\n",
      "Non-trainable params: 0\n",
      "__________________________________________________________________________________________________\n"
     ]
    }
   ],
   "source": [
    "MAXLEN = 64\n",
    "BATCH_SIZE = 32\n",
    "\n",
    "def build_model():\n",
    "    EMBED_DIM = 512\n",
    "    UNITS = 256\n",
    "\n",
    "    NIQQUD_SIZE = len(dataset.niqqud_table)\n",
    "    DAGESH_SIZE = len(dataset.dagesh_table)\n",
    "    LETTERS_SIZE = len(dataset.letters_table)\n",
    "\n",
    "    common_input = tf.keras.Input(batch_shape=(None, MAXLEN), batch_size=BATCH_SIZE)\n",
    "    common = layers.Embedding(LETTERS_SIZE, EMBED_DIM, mask_zero=True)(common_input)\n",
    "    common = layers.Bidirectional(layers.LSTM(UNITS, return_sequences=True, dropout=0.1), merge_mode='sum')(common)\n",
    "\n",
    "    common = layers.add([common, layers.Bidirectional(layers.LSTM(UNITS, return_sequences=True, dropout=0.1), merge_mode='sum')(common)])\n",
    "\n",
    "    niqqud = layers.Softmax(name='N')(layers.Dense(NIQQUD_SIZE)(common))\n",
    "    dagesh = layers.Softmax(name='D')(layers.Dense(DAGESH_SIZE)(common))\n",
    "\n",
    "    model = tf.keras.Model(inputs=[common_input], outputs=[niqqud, dagesh])\n",
    "\n",
    "    model.compile(loss='sparse_categorical_crossentropy', optimizer='adam', metrics=['accuracy'])\n",
    "\n",
    "    tf.keras.utils.plot_model(model, to_file='model.png')\n",
    "    model.summary()\n",
    "    return model\n",
    "    \n",
    "model = build_model()\n",
    "\n",
    "def fit(data, learning_rates):\n",
    "    return model.fit(data.normalized_texts, [data.niqqud_texts, data.dagesh_texts],\n",
    "          batch_size=BATCH_SIZE,\n",
    "          epochs=len(learning_rates),\n",
    "          validation_data=(data.normalized_validation, [data.niqqud_validation,  data.dagesh_validation]),\n",
    "          callbacks=[\n",
    "              tf.keras.callbacks.LearningRateScheduler(lambda epoch, lr: learning_rates[epoch], verbose=0),\n",
    "              # tf.keras.callbacks.ModelCheckpoint(filepath='checkpoints/ckpt_{epoch}', save_weights_only=True),\n",
    "          ]\n",
    "    )"
   ]
  },
  {
   "cell_type": "code",
   "execution_count": 3,
   "metadata": {},
   "outputs": [],
   "source": [
    "rabanit = ['birkat_hamazon.txt', 'hakdama_leorot.txt', 'hartzaat_harav.txt', 'orhot_hayim.txt', 'rambam_mamre.txt', 'short_table.txt', 'tomer_dvora.txt', 'breslev.txt']\n",
    "modern = ['sipurim.txt' ,'atar_hashabat.txt', 'kakun.txt', 'sisters.txt', 'treasure_island.txt', 'ali_baba.txt', 'people.txt', 'ricky.txt', 'imagination.txt', 'adamtsair.txt', 'katarsis.txt']\n",
    "\n",
    "def load_data(source):\n",
    "    filenames = ['texts/' + f for f in source]\n",
    "    return dataset.load_file(filenames, BATCH_SIZE, 0.2, maxlen=MAXLEN, shuffle=True)\n",
    "\n",
    "data_rabanit = load_data(rabanit)\n",
    "data_modern = load_data(modern)"
   ]
  },
  {
   "cell_type": "code",
   "execution_count": 4,
   "metadata": {},
   "outputs": [
    {
     "name": "stdout",
     "output_type": "stream",
     "text": [
      "Train on 69273 samples, validate on 17319 samples\n",
      "69273/69273 [==============================] - 102s 1ms/sample - loss: 0.2916 - N_loss: 0.2343 - D_loss: 0.0573 - N_accuracy: 0.9185 - D_accuracy: 0.9780 - val_loss: 0.1419 - val_N_loss: 0.1107 - val_D_loss: 0.0311 - val_N_accuracy: 0.9629 - val_D_accuracy: 0.9887\n"
     ]
    }
   ],
   "source": [
    "history = fit(data_rabanit, [2e-3])\n",
    "model.save_weights('./checkpoint_rabanit') "
   ]
  },
  {
   "cell_type": "code",
   "execution_count": 5,
   "metadata": {},
   "outputs": [
    {
     "name": "stdout",
     "output_type": "stream",
     "text": [
      "Train on 6630 samples, validate on 1658 samples\n",
      "6630/6630 [==============================] - 9s 1ms/sample - loss: 0.2560 - N_loss: 0.2006 - D_loss: 0.0556 - N_accuracy: 0.9349 - D_accuracy: 0.9776 - val_loss: 0.1995 - val_N_loss: 0.1541 - val_D_loss: 0.0454 - val_N_accuracy: 0.9510 - val_D_accuracy: 0.9816\n"
     ]
    }
   ],
   "source": [
    "model.load_weights('./checkpoint_rabanit')\n",
    "history = fit(data_modern, [2e-3])"
   ]
  },
  {
   "cell_type": "code",
   "execution_count": 6,
   "metadata": {},
   "outputs": [
    {
     "data": {
      "image/png": "[encoded data removed]",
      "text/plain": [
       "<Figure size 432x288 with 4 Axes>"
      ]
     },
     "metadata": {
      "needs_background": "light"
     },
     "output_type": "display_data"
    }
   ],
   "source": [
    "fig, ax = plt.subplots(nrows=2, ncols=2)\n",
    "\n",
    "for n, v in enumerate(['accuracy', 'loss'], 0):\n",
    "    for n1, t in enumerate(['D', 'N'], 0):\n",
    "        p = ax[n][n1]\n",
    "        p.plot(history.history[t + '_' + v][0:])\n",
    "        p.plot(history.history['val_' + t + '_' +  v][0:])\n",
    "        p.legend([t + '_Train', t + '_Test'], loc='center right')\n",
    "\n",
    "plt.tight_layout()"
   ]
  },
  {
   "cell_type": "code",
   "execution_count": 7,
   "metadata": {},
   "outputs": [],
   "source": [
    "import tensorflowjs as tfjs\n",
    "tfjs.converters.save_keras_model(model, '.')"
   ]
  },
  {
   "cell_type": "code",
   "execution_count": 8,
   "metadata": {},
   "outputs": [
    {
     "name": "stdout",
     "output_type": "stream",
     "text": [
      "מצוי:  חָבֵר?\" הִצִיעָה לִפְעָמִים אִמָּא שֶלוֹ, אֲבָל אַלוֹן אָמַר לָהּ שֶיֵּש לוֹ הָמוֹן חֲבֵרִים\n",
      "רצוי:  חָבֵר?\" הִצִיעָה לִפְעָמִים אִמָא שֶלוֹ, אֲבָל אַלוֹן אָמַר לָה שֶיֵש לוֹ הֲמוֹן חֲבֵרִים\n",
      "\n",
      "מצוי:  מִישֶהוּ עָצַר בּוֹ כַּנִרְאֶה, וְקוֹלוֹ שֶל הֶנְדְס דָבָר: \"אוֹף, תַּפְסִיק אֶת זֶה! לָמָה\n",
      "רצוי:  מִישֶהוּ עָצַר בּוֹ כַּנִרְאֶה, וְקוֹלוֹ שֶל הֶנְדְס דִבֵּר: \"אוּף, תַּפְסִיק אֶת זֶה! לָמָה\n",
      "\n",
      "מצוי:  נִמְצָא הָאוֹצָר שֶל פְלִינְט. בּוֹאוּ נֵרַד לַחוֹף לִמְצֹא אוֹתוֹ'. הַקֶפְּטְן לֹא רָצָה,\n",
      "רצוי:  נִמְצָא הָאוֹצָר שֶל פְלִינְט. בּוֹאוּ נֵרֵד לַחוֹף לִמְצֹא אוֹתוֹ'. הַקֶפְּטְן לֹא רָצָה,\n",
      "\n",
      "מצוי:  הַבִּקָשָה הַזּוֹ, וְלֹא יָדַע אֵיךְ לְהַגִיב. הוּא הִסְבִּיר לְאַנְשֵי הַקְהִלָה שֶאֵין לוֹ שוּם\n",
      "רצוי:  הַבַּקָּשָה הַזּוֹ, וְלֹא יָדַע אֵיךְ לְהָגִיב. הוּא הִסְבִּיר לְאַנְשֵי הַקְּהִלָּה שֶאֵין לוֹ שוּם\n",
      "\n",
      "מצוי:  שֶשְנֵי אַנְשֵי הַצֶוֶת הָאַחֲרוֹנִים - וְג'וֹן סִילְבֶר בֵּינֵיהֶם - הִגִיעוּ בְּסִירָה מִן\n",
      "רצוי:  שֶשְנֵי אַנְשֵי הַצֶוֶת הָאַחֲרוֹנִים - וְג'וֹן סִילְבֶר בֵּינֵיהֶם - הִגִיעוּ בְּסִירָה מִן\n",
      "\n",
      "מצוי:  וְאַחֲרָיו גַם הַסָתוּ וְהַחֵרֶף. אֵין זְמַן לְבִזְבֵּז. לְךָ וְחִפֵּש אֶת הַנַעֲרָה שֶשָמַעְתִּי\n",
      "רצוי:  וְאַחֲרָיו גַם הַסְתָו וְהַחֹרֶף. אֵין זְמַן לְבַזְבֵּז. לֵךְ וְחַפֵּש אֶת הַנַעֲרָה שֶשָמַעְתִי\n",
      "\n",
      "מצוי:  נִגְשָה לְמִטָתָה וְהַקִישָה עָלֶיהָ שָלוֹש פְּעֲמַיִם. מִיָד שִקְעָה הַמַטָה אֶל הָאֲדָמָה וְנִפְעַר\n",
      "רצוי:  נִגְשָה לְמִטָתָה וְהִקִישָה עָלֶיהָ שָלוֹש פְּעָמִים. מִיָד שָקְעָה הַמִטָה אֶל הָאֲדָמָה וְנִפְעַר\n",
      "\n",
      "מצוי:  \"הִקְשִיבוּ אֲנָשִים,\" קָרָא הַקְבַרְנִיט, \"אַתֶּם שוֹמְעִים אוֹתִי?\" כָּל תְּשוּבָה לֹא בָּאָה\n",
      "רצוי:  \"הַקְשִיבוּ אֲנָשִים,\" קָרָא הַקְבַרְנִיט, \"אַתֶּם שוֹמְעִים אוֹתִי?\" כָּל תְּשוּבָה לֹא בָּאָה\n",
      "\n",
      "מצוי:  אֶת שִירָה הַקְטָנָה, וְאַבָּא הָלַךְ לְהָבִיא אֶת יָאִירִי מְהַגַן. לֹא דִבַּרְנוּ עַל כָּךְ\n",
      "רצוי:  אֶת שִירָה הַקְטָנָה, וְאַבָּא הָלַךְ לְהָבִיא אֶת יָאִירִי מֵהַגַּן. לֹא דִּבַּרְנוּ עַל כָּךְ\n",
      "\n",
      "מצוי:  אֲבָל כָּל זֶה אֶפֶס. עַכְשָו הִבִּיטוּ הִנָה וְתִרְאוּ - הִנֵה לָמָה!\" וּבְדַבְּרוֹ הַשְלִיךְ\n",
      "רצוי:  אֲבָל כָּל זֶה אֶפֶס. עַכְשָו הַבִּיטוּ הֵנָה וְתִרְאוּ - הִנֵה לָמָה!\" וּבְדַבְּרוֹ הִשְלִיךְ\n",
      "\n",
      "מצוי:  שֶלָהֶם כְּבָר נִרְאִים חוֹלִים, שֶהֵם צְרִיכִים פֵּרוֹת וִירָקוֹת טְרִיִים, תַּבְשִילִי\n",
      "רצוי:  שֶלָהֶם כְּבָר נִרְאִים חוֹלִים, שֶהֵם צְרִיכִים פֵּרוֹת וִירָקוֹת טְרִיִים, תַבְשִילֵי\n",
      "\n",
      "מצוי:  שֶלָנוּ עִם עוֹד אָבוֹת הֵכִינוּ בְּיַחַד דִבְרֵי תּוֹרָה. גַּם יָאִיר לֹא שָכַח לְהָכִין\n",
      "רצוי:  שֶלָּנוּ עִם עוֹד אָבוֹת הֵכִינוּ בְּיַחַד דִּבְרֵי תּוֹרָה. גַּם יָאִיר לֹא שָכַח לְהָכִין\n",
      "\n",
      "מצוי:  הָיְתָה זוֹ שְלִיחוֹת סֶרֶק. הַמוֹרְדִים הָיוּ אֲמִיצִים יוֹתֵר מִשַדָמֵינוּ בְּנַפַשֵנוּ, אוֹ\n",
      "רצוי:  הָיְתָה זוֹ שְלִיחוּת סְרָק. הַמוֹרְדִים הָיוּ אַמִיצִים יוֹתֵר מִשֶדִמִינוּ בְּנַפְשֵנוּ, אוֹ\n",
      "\n",
      "מצוי:  הַמְאֲסָף. אָנוּ נִמְצֵאנוּ בֵּינֵיהֶם וּבֵין הַסִירוֹת. יָשַבְנוּ אֵפוֹא לִשְאֹף רוּחַ, בְּעוֹד\n",
      "רצוי:  הַמְאַסֵף. אָנוּ נִמְצֵאנוּ בֵּינֵיהֶם וּבֵין הַסִירוֹת. יָשַבְנוּ אֵפוֹא לִשְאֹף רוּחַ, בְּעוֹד\n",
      "\n",
      "מצוי:  שוֹמֵעַ כְּלוּם. הַמְכוֹנִית נוֹסַעַת הָלְאָה - וְעוֹצֶרֶת בְּרִמְזוֹר הַבָּא. וְאָז שוֹאֵל רוֹן\n",
      "רצוי:  שוֹמֵעַ כְּלוּם. הַמְכוֹנִית נוֹסַעַת הָלְאָה - וְעוֹצֶרֶת בַּרַמְזוֹר הַבָּא. וְאָז שוֹאֵל רוֹן\n",
      "\n",
      "מצוי:  אֲנָשִים אֲמִיצִי לֵב שֶנִקְטְלוּ בַּיָם וּבַיַבָּשָה, קַלוֹן וּשְקֵרִים בְּגִידָה וְאַכְזָרִיוֹת\n",
      "רצוי:  אֲנָשִים אַמִיצֵי לֵב שֶנִקְטְלוּ בַּיָם וּבַיַבָּשָה, קָלוֹן וּשְקָרִים בְּגִידָה וְאַכְזְרִיוּת\n",
      "\n",
      "מצוי:  מְבַקֵּש אֶת נַפְשֵי לָמוּת. הִגַעְנוּ אֶל הָעֵץ הַגָבוֹהַ הָרִאשוֹן, וּלְאַחַר בְּדִיקָה וְעָיוּן\n",
      "רצוי:  מְבַקֵש אֶת נַפְשִי לָמוּת. הִגַעְנוּ אֶל הָעֵץ הַגָבוֹהּ הָרִאשוֹן, וּלְאַחַר בְּדִיקָה וְעִיוּן\n",
      "\n",
      "מצוי:  שֶלְפִי הַחַקִים שֶלְךָ מֻתָּר לָנוּ לְעֲרֶךְ אֲסֻפּוֹת וְדִיוּנִים. אֲנִי מְבַקֵּש מִמְּךָ סְלִיחָה,\n",
      "רצוי:  שֶלְפִי הַחֻקִים שֶלְךָ מֻתָּר לָנוּ לַעֲרֹךְ אֲסֵפוֹת וְדִיוּנִים. אֲנִי מְבַקֵש מִמְךָ סְלִיחָה,\n",
      "\n",
      "מצוי:  בְּטוֹב. שִבְעָה עֲשוּרִים בּוֹדָדָה עֲלִיצוּתִי כַּדוּגִית. הַשָטָה בָּאֲגַם גוֹעֵש, דּוֹמֵעַ.\n",
      "רצוי:  בְּטוֹב. שִבְעָה עֲשוֹרִים בּוֹדֵדָה עֲלִיצוּתִי כְּדוּגִית. הַשָּטָה בַּאֲגַם גּוֹעֵש, דּוֹמֵעַ.\n",
      "\n",
      "מצוי:  עֲבוֹדָה? אֲנִי לֹא מַצִיעַ שוּם עֲבוֹדָה - תּוֹדָה, בַּיי אַבָּא חָשַב שֶלָאֲנָשִים הָאֵלוּ\n",
      "רצוי:  עֲבוֹדָה? אֲנִי לא מַצִּיעַ שוּם עֲבוֹדָה - תּוֹדָה, בָּיי אַבָּא חָשַב שֶלָּאֲנָשִים הָאֵלּוּ\n",
      "\n",
      "מצוי:  כְּלִי דָרוֹךְ וּמָתוּחַ כְּקָפִּיץ. בִּרְאוֹתוֹ שֶאֲנִי מְנַסֶּה לְחָמֹק מִמֶנוּ, בְּלֹם הֶנְדְס אֶת\n",
      "רצוי:  כֻּלִי דָרוּךְ וּמָתוּחַ כִּקְפִיץ. בִּרְאוֹתוֹ שֶאֲנִי מְנַסֶה לַחֲמֹק מִמֶנוּ, בָּלַם הֶנְדְס אֶת\n",
      "\n",
      "מצוי:  צָמְחוּ עֲצֵי יַהֲלוֹמִים. שוּב שֶבָר הַבָּחוּר עָנָף. הָאָחוֹת הַצְעִירָה שָמְעָה אֶת הָרַעַש\n",
      "רצוי:  צָמְחוּ עֲצֵי יַהֲלוֹמִים. שוּב שָבַר הַבָּחוּר עָנָף. הָאָחוֹת הַצְעִירָה שָמְעָה אֶת הָרַעַש\n",
      "\n",
      "מצוי:  הַמְגֵרֶה, יָכֹלְתִּי לְהַבְחִין מִיָד כִּי אָנוּ הָרוּסִים עַתָּה לַחֲלוּטִין. הַמְפַקֵחַ דַנְס\n",
      "רצוי:  הַמְגֵרָה, יָכֹלְתִּי לְהַבְחִין מִיָד כִּי אָנוּ הֲרוּסִים עַתָּה לַחֲלוּטִין. הַמְפַקֵחַ דַנְס\n",
      "\n",
      "מצוי:  קָטָן וְסוֹלָד וְרֹאש קָרַח בְּלִי אַף! הִבַּטְתִּי בָּהּ. הִיא כָּל כָּךְ עֲדִינָה וּקְטַנְטַנָה!\n",
      "רצוי:  קָטָן וְסוֹלֵד וְרֹאש קֵרֵחַ בְּלִי אַף! הִבַּטְתִּי בָּהּ. הִיא כָּל כָּךְ עֲדִינָה וּקְטַנְטַנָּה!\n",
      "\n",
      "מצוי:  בְּהִשְתָּאוֹת. הָעוֹלָם סְבִיבָם הָיָה מוֹאָר וְיָפָה. הֵם נָהֱנוּ מֵהַמַתָּנָה הַמֻפְלָאָה שֶהֵבִיא\n",
      "רצוי:  בְּהִשְתָאוּת. הָעוֹלָם סְבִיבָם הָיָה מוּאָר וְיָפֶה. הֵם נֶהֱנוּ מֵהַמַתָנָה הַמֻפְלָאָה שֶהֵבִיא\n",
      "\n",
      "מצוי:  לְהַבִּיט בָּהּ, אַךְ לֹא שָוֶה אֲסִימוֹן בַּמִלְחָמָה. זֶה לֹא. וְאַל תִּשְכְּחוּ, רַבּוֹתַי: אֲנִי\n",
      "רצוי:  לְהַבִּיט בָּהּ, אַךְ לֹא שָוָה אֲסִימוֹן בְּמִלְחָמָה. זֶה לֹא. וְאַל תִּשְכְּחוּ, רַבּוֹתַי: אֲנִי\n",
      "\n",
      "מצוי:  אַחְיֶה, אֲדוֹנִי,\" אָמַרְתִּי לוֹ, \"אֲנִי לֹא מֵעָז, \" \"אָה,\" פָּלַט בִּנְעִימָה לָעֲגָנִית,\n",
      "רצוי:  אֶחְיֶה, אֲדוֹנִי,\" אָמַרְתִּי לוֹ, \"אֲנִי לֹא מֵעֵז, \" \"אָה,\" פָּלַט בִּנְעִימָה לַעֲגָנִית,\n",
      "\n",
      "מצוי:  לְהַרְחִיב אֶת יְדִיעוֹתֵיהֶם בִּיהֲדוּת. צִמְאוֹנָם לָדַעַת עוֹד וְעוֹד הֵבִיא אֶת מִשְפַּחַת\n",
      "רצוי:  לְהַרְחִיב אֶת יְדִיעוֹתֵיהֶם בַּיַהֲדוּת. צִמְאוֹנָם לָדַעַת עוֹד וְעוֹד הֵבִיא אֶת מִשְפַּחַת\n",
      "\n",
      "מצוי:  סִילְבֶר, אַךְ בְּקוֹל לֹא נִרְגַש בְּיוֹתֵר, \"פְּיוּ! זֶהוּ בֶּאֱמֶת הַשֵּם שֶלוֹ. אָח, הָיָה\n",
      "רצוי:  סִילְבֶר, אַךְ בְּקוֹל לֹא נִרְגָש בְּיוֹתֵר, \"פְּיוּ! זֶהוּ בֶּאֱמֶת הַשֵם שֶלוֹ. אַח, הָיָה\n",
      "\n",
      "מצוי:  יִצְטָרֵף\". וּבְכֵן הָיוּ בְּכָל-זֹאת כַּמָה אֲנָשִים נֶאֱמָנִים עַל הַסִפּוּן. לְאַחַר שֶדִיק\n",
      "רצוי:  יִצְטָרֵף\". וּבְכֵן הָיוּ בְּכָל-זֹאת כַּמָה אֲנָשִים נֶאֱמָנִים עַל הַסִפּוּן. לְאַחַר שֶדִיק\n",
      "\n",
      "מצוי:  וְאֶת הוֹקִינְס. אָז זֶה בֶּאֱמֶת אִתָּה, בֶּן גַן!\" הוֹסִיף, \"אַתָּה בֶּאֱמֶת בָּחוּר נֶחְמָד,\n",
      "רצוי:  וְאֶת הוֹקִינְס. אָז זֶה בְּאֶמֶת אַתָּה, בֶּן גַן!\" הוֹסִיף, \"אַתָּה בְּאֱמֶת בָּחוּר נֶחְמָד,\n",
      "\n",
      "מצוי:  אֲנִי אֶת הָרֶגֶל שֶלִי, אָבַד פְּיוּ הָאִישוֹנִים שֶלוֹ, יָנוּחַ בְּשָלוֹם עַל מִשְכָּבוֹ. הָיָה\n",
      "רצוי:  אֲנִי אֶת הָרֶגֶל שֶלִי, אִבֵּד פְּיוּ הָאִישוֹנִים שֶלוֹ, יָנוּחַ בְּשָלוֹם עַל מִשְכָּבוֹ. הָיָה\n",
      "\n"
     ]
    }
   ],
   "source": [
    "def print_predictions(data, k):\n",
    "    s = slice(k*BATCH_SIZE, (k+1)*BATCH_SIZE)\n",
    "    batch = data.normalized_validation[s]\n",
    "    prediction = model.predict(batch)\n",
    "    [actual_niqqud, actual_dagesh] = [dataset.from_categorical(prediction[0]), dataset.from_categorical(prediction[1])]\n",
    "    [expected_niqqud, expected_dagesh] = [data.niqqud_validation[s], data.dagesh_validation[s]]\n",
    "    actual = data.merge(batch, ns=actual_niqqud, ds=actual_dagesh)\n",
    "    expected = data.merge(batch, ns=expected_niqqud, ds=expected_dagesh)\n",
    "    for i, (a, e) in enumerate(zip(actual, expected)):\n",
    "        print('מצוי: ', a)\n",
    "        print('רצוי: ', e)\n",
    "        print()\n",
    "\n",
    "print_predictions(data_modern, 1)"
   ]
  },
  {
   "cell_type": "code",
   "execution_count": null,
   "metadata": {},
   "outputs": [],
   "source": []
  }
 ],
 "metadata": {
  "kernelspec": {
   "display_name": "Python 3",
   "language": "python",
   "name": "python3"
  },
  "language_info": {
   "codemirror_mode": {
    "name": "ipython",
    "version": 3
   },
   "file_extension": ".py",
   "mimetype": "text/x-python",
   "name": "python",
   "nbconvert_exporter": "python",
   "pygments_lexer": "ipython3",
   "version": "3.7.4"
  }
 },
 "nbformat": 4,
 "nbformat_minor": 4
}
