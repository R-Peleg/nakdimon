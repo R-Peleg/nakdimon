{
 "cells": [
  {
   "cell_type": "code",
   "execution_count": 2,
   "metadata": {},
   "outputs": [
    {
     "name": "stderr",
     "output_type": "stream",
     "text": [
      "1 Physical GPUs, 1 Logical GPUs\n"
     ]
    }
   ],
   "source": [
    "%load_ext tensorboard\n",
    "import datetime\n",
    "import tensorflow as tf\n",
    "from tensorflow.keras.utils import plot_model\n",
    "import numpy as np\n",
    "import dataset\n",
    "\n",
    "import gpu_utils\n",
    "tf.get_logger().setLevel('INFO')\n",
    "try:\n",
    "    gpu_utils.setup_gpus()\n",
    "except ValueError as ex:\n",
    "    print(ex)\n",
    "\n",
    "BUFFER_SIZE = 10000\n",
    "BATCH_SIZE = 64  # 512\n"
   ]
  },
  {
   "cell_type": "code",
   "execution_count": 3,
   "metadata": {},
   "outputs": [],
   "source": [
    "data = dataset.load_file(BATCH_SIZE, 0.1, filenames=['texts/bible.txt', 'texts/short_table.txt', 'texts/treasure_island.txt'])"
   ]
  },
  {
   "cell_type": "code",
   "execution_count": 8,
   "metadata": {},
   "outputs": [
    {
     "name": "stdout",
     "output_type": "stream",
     "text": [
      "Model: \"model\"\n",
      "_________________________________________________________________\n",
      "Layer (type)                 Output Shape              Param #   \n",
      "=================================================================\n",
      "input_1 (InputLayer)         [(64, 400)]               0         \n",
      "_________________________________________________________________\n",
      "embedding_1 (Embedding)      (64, 400, 64)             4928      \n",
      "_________________________________________________________________\n",
      "bidirectional_1 (Bidirection (64, 400, 256)            494592    \n",
      "_________________________________________________________________\n",
      "dense_2 (Dense)              (64, 400, 256)            65792     \n",
      "_________________________________________________________________\n",
      "dense_3 (Dense)              (64, 400, 16)             4112      \n",
      "=================================================================\n",
      "Total params: 569,424\n",
      "Trainable params: 569,424\n",
      "Non-trainable params: 0\n",
      "_________________________________________________________________\n"
     ]
    }
   ],
   "source": [
    "EMBED_DIM = 64\n",
    "\n",
    "# model = tf.keras.Sequential([\n",
    "#     tf.keras.layers.Embedding(data.letters_size, EMBED_DIM,  input_length=data.maxlen,\n",
    "#                               batch_size=BATCH_SIZE,\n",
    "#                               mask_zero=True),\n",
    "#     tf.keras.layers.Bidirectional(tf.keras.layers.GRU(EMBED_DIM*4, return_sequences=True), merge_mode='sum'),\n",
    "#     tf.keras.layers.Dense(EMBED_DIM*4, activation='relu'),\n",
    "#     tf.keras.layers.Dropout(0.2),\n",
    "#     tf.keras.layers.Dense(data.niqqud_size),\n",
    "# ])\n",
    "# best: mean_squared_logarithmic_error, stateless\n",
    "\n",
    "inp = tf.keras.Input(shape=(data.maxlen,), batch_size=BATCH_SIZE)\n",
    "h = tf.keras.layers.Embedding(data.letters_size, EMBED_DIM,  mask_zero=True)(inp)\n",
    "h = tf.keras.layers.Bidirectional(tf.keras.layers.GRU(EMBED_DIM*4, return_sequences=True), merge_mode='sum')(h)\n",
    "h = tf.keras.layers.Dense(EMBED_DIM*4, activation='relu')(h)\n",
    "output = tf.keras.layers.Dense(data.niqqud_size)(h)\n",
    "\n",
    "model = tf.keras.Model(inputs=[inp], outputs=[output])\n",
    "\n",
    "model.compile(loss='mean_squared_logarithmic_error',\n",
    "              optimizer='adam',\n",
    "              metrics=['accuracy'])\n",
    "\n",
    "plot_model(model, to_file='model.png')\n",
    "\n",
    "model.summary()"
   ]
  },
  {
   "cell_type": "code",
   "execution_count": null,
   "metadata": {},
   "outputs": [],
   "source": [
    "model.load_weights(tf.train.latest_checkpoint('niqqud_checkpoints/'))"
   ]
  },
  {
   "cell_type": "code",
   "execution_count": null,
   "metadata": {},
   "outputs": [],
   "source": [
    "%tensorboard --logdir logs\\fit"
   ]
  },
  {
   "cell_type": "code",
   "execution_count": 9,
   "metadata": {},
   "outputs": [
    {
     "name": "stdout",
     "output_type": "stream",
     "text": [
      "Train on 39398 samples, validate on 4378 samples\n",
      "Epoch 1/2\n",
      "39398/39398 [==============================] - 63s 2ms/sample - loss: 0.0024 - accuracy: 0.9393 - val_loss: 0.0017 - val_accuracy: 0.9579\n",
      "Epoch 2/2\n",
      "39398/39398 [==============================] - 55s 1ms/sample - loss: 0.0015 - accuracy: 0.9634 - val_loss: 0.0014 - val_accuracy: 0.9680\n"
     ]
    }
   ],
   "source": [
    "EPOCHS = 2\n",
    "\n",
    "log_dir = \"logs\\\\fit\\\\\" + datetime.datetime.now().strftime(\"%Y%m%d-%H%M%S\")\n",
    "tensorboard_callback = tf.keras.callbacks.TensorBoard(log_dir=log_dir, histogram_freq=1)\n",
    "while True:\n",
    "    try:\n",
    "        history = model.fit(data.input_texts, data.niqqud_texts,\n",
    "                          batch_size=BATCH_SIZE,\n",
    "                          epochs=EPOCHS,\n",
    "                          validation_data=(data.input_validation, data.niqqud_validation),\n",
    "                          verbose=1,\n",
    "                          callbacks=[\n",
    "                              # tf.keras.callbacks.ModelCheckpoint(filepath='niqqud_checkpoints/ckpt_{epoch}', save_weights_only=True),\n",
    "                              # tf.keras.callbacks.EarlyStopping(monitor='accuracy', patience=3, verbose=1),\n",
    "                              tf.keras.callbacks.ReduceLROnPlateau(monitor='loss', factor=0.2, patience=0, min_lr=0.001),\n",
    "                              # tensorboard_callback,\n",
    "                          ]\n",
    "                )\n",
    "    except RuntimeError as ex:\n",
    "        import sys\n",
    "        print(ex, file=sys.stderr)\n",
    "        #model.load_weights(tf.train.latest_checkpoint('niqqud_checkpoints/'))\n",
    "    else:\n",
    "        break"
   ]
  },
  {
   "cell_type": "code",
   "execution_count": 10,
   "metadata": {},
   "outputs": [
    {
     "data": {
      "image/png": "[encoded data removed]",
      "text/plain": [
       "<Figure size 432x288 with 1 Axes>"
      ]
     },
     "metadata": {
      "needs_background": "light"
     },
     "output_type": "display_data"
    },
    {
     "data": {
      "image/png": "[encoded data removed]",
      "text/plain": [
       "<Figure size 432x288 with 1 Axes>"
      ]
     },
     "metadata": {
      "needs_background": "light"
     },
     "output_type": "display_data"
    }
   ],
   "source": [
    "import matplotlib.pyplot as plt\n",
    "\n",
    "plt.plot(history.history['accuracy'])\n",
    "plt.plot(history.history['val_accuracy'])\n",
    "plt.title('Model accuracy')\n",
    "plt.ylabel('Accuracy')\n",
    "plt.xlabel('Epoch')\n",
    "plt.legend(['Train', 'Test'], loc='upper left')\n",
    "plt.show()\n",
    "\n",
    "# Plot training & validation loss values\n",
    "plt.plot(history.history['loss'])\n",
    "plt.plot(history.history['val_loss'])\n",
    "plt.title('Model loss')\n",
    "plt.ylabel('Loss')\n",
    "plt.xlabel('Epoch')\n",
    "plt.legend(['Train', 'Test'], loc='upper left')\n",
    "plt.show()"
   ]
  },
  {
   "cell_type": "code",
   "execution_count": 13,
   "metadata": {},
   "outputs": [
    {
     "name": "stdout",
     "output_type": "stream",
     "text": [
      "וַיְהִי רָעַב בִימִי דָוּד שֶלֹש שְנִים שָנָה אַחְרֵי שָנָה וַיִבַקֵש דָוֹד אֶת-פְנֵי יְהוָה וַיַאמֶר יְהוָה אֶל-שָאוּל וְאֶל-בֵית הַדָמִים עַל אֹשֶר-הַמִית אֶת-הַגְבְעָנִים\n",
      "בֵינֵיהֶם צִמְחוּ כַמָה אַרָנִים פְזוּרִים, שֶהִתְנַשָאוּ לְגַבָה עַשְרִים מֶטֶר, מִי פָחוֹת וּמִי יוֹתֵר\n",
      "בְּאוֹתוֹ רֶגַע שֶׁקְעָה הַשָמֵש וְרוּחַ-הָעָרֶב הַשְׁמִיעָה שֶׁרִיקְתָה מִבִּין עָצֵי הָאָרֶן הַגְבוֹהִים, הַנָעִים בְתְפַלַת עַרְבִית\n",
      "וּבְנֵי אַרָם עוֹץ וְחוֹל וְגָתֶר וּמֵש\n",
      "“בְּמְשָׁךְ שֶׁלֹשִׁים שָׁנָה הַפְלַגְתִּי בִּים,” אָמַר, \"רָאִיתִי טוֹב וְגַם רַע, הַצְלָחוֹת וְגַם בִזִיוֹנוֹת, מִזֶג-אוִיר נִחְמַד וְגַם מִזַפֶת\n",
      "אִם-בִגְפוֹ יָבָא בְגְפוֹ יָצָא אִם-בְעַל אֹשֶה הוּא וַיִצְאָה אִשְתוֹ עֵמוֹ\n",
      "\"קַפִּיטַן סְמוֹלֵט, \"אָמַר טְרִילוֹנִי, “הַבִּקְתָּה הַזֹאת אֵינָה נִרְאִית מִן הָאָנִיָה, הֵם מְטוּחִים בְּוֹדְאִי אֶל הַדֶגֶל\n",
      "הַיָשָר לִפְנֵי דְלֶק הָרוֹפֵא אַחְרֵי תוֹקְפוּ בְּמוֹרָד הַגְבְעָה, הַפִילוּ עַל הַקְרְקַע וְשֶלַח אוֹתוֹ לְנַפְשו, כְּשֶׁהוּא נִגְרַר עַל צָדוֹ וְחָתְךְ גָדוֹל מִכְסָה אֶת פָּנָיו\n",
      "וְעַתָה עָלַי תִשְתְפֵךְ נִפְשֵי יַאַחְזוֹנֵי יְמֵי-עָנִי\n",
      "“דוֹקְטוֹר, אַתָּה תְּעָמֶד לִיַד הַדֶלֶת,” הַמַשִׁיךָ, “אַל תַחְשוּף אֶת עַצְמְךָ, אֶלָא תִּירָה דֶרֶךְ הַמִסְדְרוֹן\n",
      "גְזֵי נִזְרֵךְ וְהַשְלִיכִי וְשְאִי עַל-שְפִים קִינָה כִי מְאַס יְהוָה וַיַטַש אֶת-דָוֹר עָבַרְתוֹ\n",
      "לְמַעַן יָרְבוּ יְמֵיכֶם וַיָמִי בְנֵיכֶם עַל הָאָדָמָה אָשֶר נִשְבַע יְהוָה לְאַבְתֵיכֶם לָתֵת לָהֶם כִימֵי הַשָמִים עַל-הָאָרֶץ\n",
      "“תַגִיד לִי, זֶה פָה הַשְלְחַן שֶל הַחָבֵר שֶלִי בַיל?” שָאַל בְמֵין גָחוּךְ מֵרְשָע\n",
      "“נָכוֹן מְאָד, אָדוֹנִי\n",
      "וְאִם אֵינוּ מַשְגִיחַ מִתָר לְמִסְרוּ לְמַלְכוֹת וְלוֹמֵר שֶאֵין אַחַר מִתְעֶסַק בָזֶה אֶלָא פְלוֹנֵי לְבָדוֹ\n",
      "אָה, זֶה הָיָה גָבֵר עִם כְּתַפִים עַל הָרֹאש1, פְלִינַט זֶה\n",
      "מִשְמְנָה הָרְבִיעִי יְרְמֶיָה הַחֹמָשִי\n",
      "“אֹנִי רוֹאָה שֶׁיש לָכֶם הָרְבָּה מַה לְהַגִיד,” הָעִיר סִילְבֶר וּפָלַט יְרִיקָה הַגוֹנָה אֶל תוֹךְ הָאוִיר, \"תַּתְחִילוּ לְהַרְבִּיץ\n",
      "אָפְלוּ לֹא הַרְגָשָה שֶיצָא דָם מִמְקוֹרָה אֶלָא שֶמִצְאָה כְתֶם דַם בַבַשָרָה בַחְלוּקָה בִסְדִינָה בְשְאֵר מָקוֹם וְאֵין לָה לְתָלוֹת שֶבָא מִמְקוֹם אַחַר אֶלָא שֶבָא מִמְקוֹרָה הָרֵי הִיא טְמְאָה\n",
      "וּבְנֵי חַבְרוֹן קָרַח וְתִפַח וְרָקָם וְשָמַעַ\n",
      "אַט-אַט יְרְדָה הַשֶׁמֵש וְשְׁקָעָה מֵאַחוֹרֵי גִבְעַת-הַמְשְׁקַפֶת, הָעָרְפֵל הִתְעַבָּה בְּמְהִירוֹת וְאֶפְלוּלִית פְשְׁטָה בְחָלֵל\n",
      "הָנֵה אֶנְכִי נָצַב עַל-עֵין הַמַיִם וְהָיָה הָעֵלָמָה הַיָצָאת לְשָאָב וְאָמַרְתִי אֵלֶיָה הַשְקִינִי-נָא מְעַט-מַיִם מִכְדָךְ\n",
      "הוּא אַף לֹא הִנִיחַ לְאִיש לְצֵאת מִן הַפְנְדָק בְטָרֶם מְלֹא אֶת בַטְנוּ מִשָקָה עַד שֶתְקְפָה אוֹתוֹ תְנוּמָה וְגָרֶר עַצְמוֹ אֶל הַמַטָה\n",
      "חַסְדִי וּמְצוּדְתִי מִשְגָבִי וּמִפְלְטֵי-לִי מִגְנֵי וְבוֹ חָסִיתִי הָרוֹדֵד עָמִי תַחְתִי\n",
      "אִם הָאָבֵל הוּא אָרִיס בְשָדָה שֶל אַחַר אָסוּר לַעַבוֹד בוֹ בְעַצְמוֹ\n",
      "הָאִם אָמַרְתָּ כִּי הוּא בָקֵש מִמְךְ גְבִינָה?”\n",
      "גַם נוֹהַגִין שֶלֹא לְאכַל אַגוֹזִים וְלוּזִים כִי אָגוֹז בִגִמְטְרִיא ח\"ט וְגַם מְרְבִים כַיחָה וְנִיעָה הַמְבַטָלִים אֶת הַתְפַלָה\n",
      "לְאַחַר שֶׁסְפַּרְתִּי אֶת כָּל הַקוֹרוֹת אוֹתִי הִתְחַלְתִּי סוֹקֵר אֶת הַמָקוֹם\n",
      "וְכֵן אִם חַל יוֹם הַשְבִיעִי בַשַבָת אֵזַי לְאַחַר יְצִיאָה מִבֵית הַכְנֶסֶת שֶחָרִית מִתָר בִתְלְמוֹד תוֹרָה\n",
      "אֵנִי אַלֹהֵיכֶם אַתָה וְאָבִיךָ חַיָבִים בִכְבוּדִי\n",
      "וְגַם רֹאש הַשוֹדְדִים\n",
      "אֵלֶה הַמִשְרְתִים אֶת-הַמֶלֶךְ מִלְבֵד אֹשֶר-נָתַן הַמֶלֶךְ בְעָרֵי הַמִבְצֵר בְכָל-יְהוּדָה\n",
      "וַיִדְבֶר מִשֶה אֶל-רָאשֵי הַמָטוֹת לִבְנֵי יִשְרָאֵל לְאמַר זֶה הַדָבָר אִשֶר צְוָה יְהוָה\n",
      "תֵינוּק שֶאַחֵרִים בְיָמָיו יְכוּלִים לְאכַל כְזִית מִינֵי דֶגַן אַפְלוּ עַל יְדֵי תַבְשִיל בִכְדֵי שֶגָדוֹל אוֹכָל שָעוֹר פָרַס מַרְחִיקִין מְצוֹאָתוֹ וּמִמִי רַגְלָיו\n",
      "אַךְ הַפַעַם עַמְדוֹ הַכָל לִצְדוֹ שֶל ג’וֹרְג'\n",
      "וְעַכְשוּ דָבָר לְעָנִין – מַה אַתָה רוֹצָה?”\n",
      "וַיָשֶב יוֹסֵף מִצְרִימָה הוּא וְאָחָיו וְכָל-הָעָלִים אָתוֹ לְקַבֵר אֶת-אָבִיו אַחְרֵי קַבְרוּ אֶת-אָבִיו\n",
      "בֵית יִשְרָאֵל בָרְכוּ אֶת-יְהוָה בֵית אַהֶרֵן בָרְכוּ אֶת-יְהוָה\n",
      "הוּא כָנָה אוֹתָם טַפְּשִׁים וְחַסְרֵי שָכָל וְשָׁאַר תְּאָרִים נְקְלִים שֶׁתְּרְצוּ, אָמַר שֶׁיש חָשִׁיבוֹת רַבָּה בְּיוֹתֵר לְשִׂיחְתִי עִם הָרוֹפֵא, נִפְנַף בְּמַפָּה לְמוֹל עֵינֵיהֶם, שֶׁאֵל אוֹתָם אִם אָמְנָם מִתְכַּוֹנִים הֵם לְהַפֵר אֶת הַהַסְכִּם בְּעָצָם הַיוֹם שֶׁהֵם יוֹצְאִים לְגְלוֹת אֶת הַמַטְמוֹן\n",
      "וְיֵש נוֹהַגִין לְטְבוֹל מֵעַט פַת בְתוֹכוֹ אָבָל יֵש מִפַקַפְקִין עַל זֶה\n",
      "וְאַמְרָה לָכֶם אֹנִי יְהוָה אַלֹהֵיכֶם לֹא תִירְאוּ אֶת-אַלֹהֵי הָאָמְרֵי אִשֶר אַתֶם יוֹשְבִים בְאַרְצָם וְלֹא שָמַעְתֶם בְקוֹלִי\n",
      "וַיִקַח אַבְרָהֶם אֶת-עָצֵי הָעֵלָה וַיָשֶם עַל-יִצְחַק בָנוֹ וַיִקַחַ בְיָדוֹ אֶת-הָאֵש וְאֶת-הַמַאַכֶלֶת וַיֵלְכוּ שְנֵיהֶם יַחָדוּ\n",
      "מַעָנִין, מִי צִיר אֶת זֶה? הַפִירְטִים הָיוּ בוֹרִים גְדוּלִים, עַד כָמָה שֶיָדוּעַ לִי\n",
      "חָזַק וְאָמֶץ כִי אַתָה תַנְחִיל אֶת-הָעָם הַזֶה אֶת-הָאָרֶץ אֹשֶר-נִשְבַעְתִי לְאָבוֹתָם לָתֵת לָהֶם\n",
      "וְנִשְאוּ אֶת-יְרִיעַת הַמִשְכֵן וְאֶת-אֹהֶל מוֹעַד מִכְסֵהוּ וּמִכְסָה הַתַחַש אֹשֶר-עָלָיו מִלְמַעָלָה וְאֶת-מֶסֶךְ פָתַח אֹהֶל מוֹעֵד\n",
      "וְכֵן שָאַר קַלְפוֹת אַף עַל פִי שֶרְאוּיוֹת לִבְהַמָה מִשוּם דְהוּי לָה נוֹלֵד דְאִתְמוֹל הָיוּ עוֹמְדוֹת לְאָדָם\n",
      "“גִ’ים,” אָמַר דָ“ר לִיבְסִי לְאַחַר שְסִימְתִי, שֶב כָאן\n",
      "וַתְלַד שַעַף אָבִי מִדְמְנָה אֶת-שוּא אָבִי מִכְבָנָה וְאָבִי גִבְעָא וּבַת-כְלֶב עַכְסָה\n",
      "וְאִם אִי אֶפְשָר בוֹלְעוּ אֶפְלוּ בַיוֹם הַכְפוּרִים כֵיוֹן שֶאֵינוּ מִכוֹן לְהַנָאתוֹ\n",
      "הַיָשָׁר מוּלָנוּ, בְּקְצָה הַדְרוּמִי, רָאֵינוּ סְפִינָה טְרוּפָה, שֶׁעָמְדָה בְּשְׁלְבִי חַרְבַּנָה הָאַחְרוֹנִים\n",
      "וְאֶפְלוּ שְלִיחַ הַצָבוּר בַחָזֶרַת הַתְפַלָה צָרִיךְ לַחָזוֹר לְרֹאש וְצְרִיכִין לוֹמֵר קְדְשָה שְנִית\n",
      "וְאִם רוֹכֵב יוֹשֵב בְעַגְלָה מִתָר\n",
      "וַיַאמְרוּ בְנֵי-יִשְרָאֵל אֶל-שְמוֹאֵל אֶל-תַחַרֵש מִמְנוּ מִזְעַק אֶל-יְהוָה אֶלֹהֵינוּ וַיִשַעָנוּ מִיָד פְלִשְתִים\n",
      "וּבְכָל-זֹאת אִים אָדָם זֶה לְהַבִיא עָלֵינוּ חַרְבָן\n",
      "כָל הַשְנִים חַיִיתִי חַיִים מִזְפָתִים כְּאֵלָה, שֶזֹאת פָשוּט בוּשָה לִשְמַע אוֹתָם\n",
      "תְּרִיסַר גְבָרִים עַל אָרוֹן-הַמֵת,\n",
      "וְאַתֶם מַחַלָלִים אוֹתוֹ בְאמְרְכֶם שֶלְחַן אַדֹנִי מַגְאֵל הוּא וְנִיבוּ נִבְזֶה אַכָלוֹ\n",
      "פְרֵי-צְדִיק עַץ חַיִים וְלָקַח נִפְשוֹת חָכֶם\n",
      "וְעָבַדְתֶם-שָם אֵלֹהִים מַעָשָה יְדֵי אָדָם עֵץ וְאָבֶן אָשֶר לֹא-יִרְאוֹן וְלֹא יִשְמְעוֹן וְלֹא יַאכְלוֹן וְלֹא יְרִיחָן\n",
      "כָל הַבְאִיש עַל-עִם לֹא-יוֹעִילוּ לָמוֹ לֹא לַעָזֵר וְלֹא לְהוֹעִיל כִי לְבַשֶת וְגַם-לְחַרְפָה\n",
      "מִקֶץ שֶבַע-שְנִים תַעָשָה שְמַטָה\n",
      "אִם-בְעָלָיו עֵמוֹ לֹא יִשְלֵם אִם-שְכִיר הוּא בָא בְשָכְרוֹ\n",
      "אֵז עָלָה הָרֵם מֶלֶךְ גָזֶר לַעֶזֵר אֶת-לְכִיש וַיָכְהוּ יְהוֹשָעַ וְאֶת-עֵמוֹ עַד-בִלְתִי הַשְאִיר-לוֹ שְרִיד\n",
      "אֵיָה אַלֹהֵי חָמֵת וְאֶרְפֵד אֵיָה אַלֹהֵי סְפְרוִיִם הָנַע וְעוָה כִי-הַצִילוּ אֶת-שְמְרוֹן מִיָדִי\n"
     ]
    }
   ],
   "source": [
    "\n",
    "model = tf.keras.Model(inputs=[inp], outputs=[tf.keras.layers.Softmax()(output)])\n",
    "\n",
    "def print_predictions(batch):\n",
    "    results = data.merge(batch, model.predict(batch))\n",
    "\n",
    "    for r in results:\n",
    "        print(r)\n",
    "\n",
    "\n",
    "\n",
    "print_predictions(data.input_texts[0:BATCH_SIZE])"
   ]
  },
  {
   "cell_type": "code",
   "execution_count": null,
   "metadata": {},
   "outputs": [],
   "source": [
    "del model"
   ]
  },
  {
   "cell_type": "code",
   "execution_count": null,
   "metadata": {},
   "outputs": [],
   "source": [
    "print(history.history['val_accuracy'])"
   ]
  },
  {
   "cell_type": "code",
   "execution_count": null,
   "metadata": {},
   "outputs": [],
   "source": []
  }
 ],
 "metadata": {
  "kernelspec": {
   "display_name": "Python 3",
   "language": "python",
   "name": "python3"
  },
  "language_info": {
   "codemirror_mode": {
    "name": "ipython",
    "version": 3
   },
   "file_extension": ".py",
   "mimetype": "text/x-python",
   "name": "python",
   "nbconvert_exporter": "python",
   "pygments_lexer": "ipython3",
   "version": "3.7.4"
  }
 },
 "nbformat": 4,
 "nbformat_minor": 4
}
