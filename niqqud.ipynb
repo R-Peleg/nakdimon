{
 "cells": [
  {
   "cell_type": "code",
   "execution_count": 1,
   "metadata": {},
   "outputs": [],
   "source": [
    "%load_ext tensorboard\n",
    "import datetime\n",
    "import tensorflow as tf\n",
    "from tensorflow.keras import layers\n",
    "from tensorflow.keras.utils import plot_model\n",
    "import numpy as np\n",
    "import dataset\n"
   ]
  },
  {
   "cell_type": "code",
   "execution_count": 2,
   "metadata": {},
   "outputs": [],
   "source": [
    "import importlib\n",
    "import hebrew\n",
    "importlib.reload(hebrew)\n",
    "importlib.reload(dataset)\n",
    "MAXLEN = 30\n",
    "BATCH_SIZE = 16  # 512\n",
    "data = dataset.load_file(BATCH_SIZE, 0.1, maxlen=MAXLEN,\n",
    "                         filenames=['texts/short_table.txt', 'texts/treasure_island.txt'])  # 'texts/bible.txt',\n"
   ]
  },
  {
   "cell_type": "code",
   "execution_count": null,
   "metadata": {},
   "outputs": [],
   "source": []
  },
  {
   "cell_type": "code",
   "execution_count": 3,
   "metadata": {},
   "outputs": [
    {
     "name": "stdout",
     "output_type": "stream",
     "text": [
      "Model: \"model\"\n",
      "_________________________________________________________________\n",
      "Layer (type)                 Output Shape              Param #   \n",
      "=================================================================\n",
      "input_1 (InputLayer)         [(16, 30)]                0         \n",
      "_________________________________________________________________\n",
      "embedding (Embedding)        (16, 30, 1024)            70656     \n",
      "_________________________________________________________________\n",
      "bidirectional (Bidirectional (16, 30, 256)             1969152   \n",
      "_________________________________________________________________\n",
      "dropout (Dropout)            (16, 30, 256)             0         \n",
      "_________________________________________________________________\n",
      "bidirectional_1 (Bidirection (16, 30, 256)             789504    \n",
      "_________________________________________________________________\n",
      "dropout_1 (Dropout)          (16, 30, 256)             0         \n",
      "_________________________________________________________________\n",
      "dense (Dense)                (16, 30, 256)             65792     \n",
      "_________________________________________________________________\n",
      "dropout_2 (Dropout)          (16, 30, 256)             0         \n",
      "_________________________________________________________________\n",
      "dense_1 (Dense)              (16, 30, 49)              12593     \n",
      "=================================================================\n",
      "Total params: 2,907,697\n",
      "Trainable params: 2,907,697\n",
      "Non-trainable params: 0\n",
      "_________________________________________________________________\n"
     ]
    }
   ],
   "source": [
    "l2 = tf.keras.regularizers.l2\n",
    "\n",
    "EMBED_DIM = 2**10  # larger -> quicker opening. knee at 1024\n",
    "\n",
    "inp = tf.keras.Input(shape=(data.input_texts.shape[1],), batch_size=BATCH_SIZE)\n",
    "\n",
    "h = layers.Embedding(len(data.letters_table), EMBED_DIM, mask_zero=True)(inp)\n",
    "# h = layers.Dropout(DROP)(h)\n",
    "\n",
    "h = layers.Bidirectional(layers.GRU(256, return_sequences=True, recurrent_regularizer=None), merge_mode='sum')(h)  # =l2(1e-6)\n",
    "h = layers.Dropout(0.4)(h) \n",
    "\n",
    "h = layers.Bidirectional(layers.GRU(256, return_sequences=True, recurrent_regularizer=None), merge_mode='sum')(h)\n",
    "h = layers.Dropout(0.4)(h) \n",
    "\n",
    "# h = h1  # layers.Add()([h1, h])\n",
    "    \n",
    "h = layers.Dense(256, activation='relu', kernel_regularizer=l2(5e-5))(h)\n",
    "h = layers.Dropout(0.4)(h) \n",
    "#h = layers.Add()([h1, h])\n",
    "# for k in range(1):\n",
    "#     h = layers.Add()([h, Dense(256)(h)])\n",
    "\n",
    "h = layers.Dense(data.niqqud_texts.shape[2])(h)\n",
    "model_niqqud = tf.keras.Model(inputs=[inp], outputs=[h])\n",
    "adam = tf.keras.optimizers.Adam(learning_rate=0.001, beta_1=0.9, beta_2=0.999, amsgrad=False)\n",
    "model_niqqud.compile(loss='mean_squared_logarithmic_error', optimizer=adam, metrics=['accuracy'])\n",
    "\n",
    "plot_model(model_niqqud, to_file='model.png')\n",
    "model_niqqud.summary()\n"
   ]
  },
  {
   "cell_type": "code",
   "execution_count": 4,
   "metadata": {},
   "outputs": [
    {
     "name": "stdout",
     "output_type": "stream",
     "text": [
      "Train on 33436 samples, validate on 3716 samples\n",
      "Epoch 1/5\n",
      "33436/33436 [==============================] - 70s 2ms/sample - loss: 0.0029 - accuracy: 0.8151 - val_loss: 0.0017 - val_accuracy: 0.8886\n",
      "Epoch 2/5\n",
      "33436/33436 [==============================] - 54s 2ms/sample - loss: 0.0016 - accuracy: 0.8974 - val_loss: 0.0013 - val_accuracy: 0.9186\n",
      "Epoch 3/5\n",
      "33436/33436 [==============================] - 56s 2ms/sample - loss: 0.0014 - accuracy: 0.9171 - val_loss: 0.0012 - val_accuracy: 0.9285\n",
      "Epoch 4/5\n",
      "33436/33436 [==============================] - 57s 2ms/sample - loss: 0.0013 - accuracy: 0.9254 - val_loss: 0.0011 - val_accuracy: 0.9319\n",
      "Epoch 5/5\n",
      "33436/33436 [==============================] - 59s 2ms/sample - loss: 0.0012 - accuracy: 0.9299 - val_loss: 0.0011 - val_accuracy: 0.9354\n"
     ]
    }
   ],
   "source": [
    "\n",
    "log_dir = \"logs\\\\fit\\\\\" + datetime.datetime.now().strftime(\"%Y%m%d-%H%M%S\")\n",
    "tensorboard_callback = tf.keras.callbacks.TensorBoard(log_dir=log_dir, histogram_freq=1)\n",
    "def fit(EPOCHS):\n",
    "    return model_niqqud.fit(data.input_texts, data.niqqud_texts,\n",
    "          batch_size=BATCH_SIZE,\n",
    "          epochs=EPOCHS,\n",
    "          validation_data=(data.input_validation, data.niqqud_validation),\n",
    "          callbacks=[\n",
    "              # tf.keras.callbacks.ModelCheckpoint(filepath='niqqud_checkpoints/ckpt_{epoch}', save_weights_only=True),\n",
    "              tf.keras.callbacks.EarlyStopping(monitor='accuracy', patience=2, verbose=1),\n",
    "              tf.keras.callbacks.ReduceLROnPlateau(monitor='loss', factor=0.2, patience=0, min_lr=0.0001),\n",
    "              # tensorboard_callback,\n",
    "          ]\n",
    "    )\n",
    "\n",
    "history = fit(EPOCHS=5)"
   ]
  },
  {
   "cell_type": "code",
   "execution_count": null,
   "metadata": {},
   "outputs": [],
   "source": [
    "history1 = fit(EPOCHS=10)"
   ]
  },
  {
   "cell_type": "code",
   "execution_count": 6,
   "metadata": {},
   "outputs": [
    {
     "data": {
      "image/png": "[encoded data removed]",
      "text/plain": [
       "<Figure size 432x288 with 2 Axes>"
      ]
     },
     "metadata": {
      "needs_background": "light"
     },
     "output_type": "display_data"
    }
   ],
   "source": [
    "import matplotlib.pyplot as plt\n",
    "\n",
    "for n, v in enumerate(['accuracy', 'loss'], 1):\n",
    "    plt.subplot(1, 2, n)\n",
    "    plt.plot(history.history[v][0:])\n",
    "    plt.plot(history.history['val_' +  v][0:])\n",
    "    plt.title('Model ' + v)\n",
    "    plt.ylabel(v)\n",
    "    plt.xlabel('Epoch')\n",
    "    plt.legend(['Train', 'Test'], loc='upper left')\n",
    "    \n",
    "plt.tight_layout()"
   ]
  },
  {
   "cell_type": "code",
   "execution_count": 7,
   "metadata": {},
   "outputs": [
    {
     "name": "stdout",
     "output_type": "stream",
     "text": [
      "0\n",
      "0\n",
      "('טִבְעוֹ שֶל עוֹלָם הַשוֹאֵל הַשוֹכֵר בְהֵמָה', 'טִבְעוֹ שֶל עוֹלָם הַשוֹאֵל הַשוֹכֵר בְהֵמָה')\n",
      "('שְעָרוֹת גְדָלוֹת אְפִלוּ הִנִיחָה כַלָה', 'שְעָרוֹת גְדֵלוֹת אֲפִלוּ הֵנִיחָה כֻלָה')\n",
      "('וְאוֹמֵר אַשְרֵי אָנוּש יַעֹשֶה זֹאת וּבֵן', 'וְאוֹמֵר אַשְרֵי אֱנוֹש יַעֲשֶה זֹאת וּבֶן')\n",
      "('שֶאֵינוֹ נָקוּב וְכֵן צְרִיכִין לְדַקְדֵק', 'שֶאֵינוֹ נָקוּב וְכֵן צְרִיכִין לְדַקְדֵק')\n",
      "('מִשְחַק-יַלָדִים לִמְצֹא אֶת הַסְחוֹרָה;', 'מִשְחַק-יְלָדִים לִמְצֹא אֶת הַסְחוֹרָה;')\n",
      "('אַחַת כְדֵי שֶיִשְמוֹר שַבָתוֹת הַרְבֶה', 'אַחַת כְדֵי שֶיִשְמוֹר שַבָתוֹת הַרְבֵה')\n",
      "('שֶכֵן מִתוֹךְ תְרִיסַר מִלִים הָבִינוֹתִי,', 'שֶכֵן מִתוֹךְ תְרֵיסַר מִלִים הֲבִינוֹתִי,')\n",
      "('בְיַד רַק מַנִיחִין אוֹתוֹ עַל הַשַלְחָן', 'בַיָד רַק מַנִיחִין אוֹתוֹ עַל הַשֻלְחָן')\n",
      "('טוֹב לְפָדוֹת אֶת הַכַפֵרוֹת בְמָמוֹן', 'טוֹב לִפְדוֹת אֶת הַכַפָרוֹת בְמָמוֹן')\n",
      "('שֶנֶחְלְקוּ לַחְבוֹרוֹת הַרְבֶה אֵפִלוּ', 'שֶנֶחְלְקוּ לַחֲבוּרוֹת הַרְבֵה אֲפִלוּ')\n",
      "('הָלְכָה הַמַחְשָבָה עַל הַמַטְמוֹן וּכְבָשֶה', 'הָלְכָה הַמַחֲשָבָה עַל הַמַטְמוֹן וְכָבְשָה')\n",
      "('שָם אַסְקָפָה דְאָז נִכָר שֶהוּא פֶתַח פָקַק', 'שָם אַסְקֻפָה דְאָז נִכָר שֶהוּא פֶתַח פְקַק')\n",
      "('הָרוֹפֵא וּטְרִילוֹנֵי יִישְנוּ בְמִטוֹת', 'הָרוֹפֵא וּטְרִילוֹנֵי יִישְנוּ בְמִטוֹת')\n",
      "('הַקַפִיטַן בְאָפוֹ בְקוֹל רָם וְאָדִיר,', 'הַקַפִיטַן בְאַפוֹ בְקוֹל רָם וְאַדִיר,')\n",
      "('מְבָרְכִין עָלָיו בוֹרֵא פְרִי הַגָפֶן', 'מְבָרְכִין עָלָיו בוֹרֵא פְרִי הַגָפֶן')\n",
      "('וּבְ“הוּ” הַשְלִישִי נָעוּ הַמוּטוֹת אֶל', 'וּבַ“הוֹ” הַשְלִישִי נָעוּ הַמוֹטוֹת אֶל')\n"
     ]
    }
   ],
   "source": [
    "\n",
    "model = tf.keras.Model(inputs=[inp], outputs=[tf.keras.layers.Softmax()(h)])\n",
    "\n",
    "def print_predictions(k):\n",
    "    s = slice(k*BATCH_SIZE, (k+1)*BATCH_SIZE)\n",
    "    batch = data.input_validation[s]\n",
    "    actual = model.predict(batch)\n",
    "    expected = data.niqqud_validation[s]\n",
    "    for r in zip(data.merge(batch, ns=actual), data.merge(batch, ns=expected)):\n",
    "        print(r)\n",
    "\n",
    "print_predictions(35)"
   ]
  },
  {
   "cell_type": "code",
   "execution_count": null,
   "metadata": {},
   "outputs": [],
   "source": [
    "# model.load_weights(tf.train.latest_checkpoint('niqqud_checkpoints/'))"
   ]
  },
  {
   "cell_type": "code",
   "execution_count": null,
   "metadata": {},
   "outputs": [],
   "source": [
    "print(history.history['val_accuracy'])"
   ]
  },
  {
   "cell_type": "code",
   "execution_count": null,
   "metadata": {},
   "outputs": [],
   "source": [
    "%tensorboard --logdir logs\\fit"
   ]
  }
 ],
 "metadata": {
  "kernelspec": {
   "display_name": "Python 3",
   "language": "python",
   "name": "python3"
  },
  "language_info": {
   "codemirror_mode": {
    "name": "ipython",
    "version": 3
   },
   "file_extension": ".py",
   "mimetype": "text/x-python",
   "name": "python",
   "nbconvert_exporter": "python",
   "pygments_lexer": "ipython3",
   "version": "3.7.4"
  }
 },
 "nbformat": 4,
 "nbformat_minor": 4
}
