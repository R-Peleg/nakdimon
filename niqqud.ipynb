{
 "cells": [
  {
   "cell_type": "code",
   "execution_count": 1,
   "metadata": {},
   "outputs": [
    {
     "name": "stderr",
     "output_type": "stream",
     "text": [
      "Using TensorFlow backend.\n"
     ]
    }
   ],
   "source": [
    "import os\n",
    "import numpy as np\n",
    "import tensorflow as tf\n",
    "from tensorflow.keras import layers\n",
    "\n",
    "import dataset\n",
    "assert tf.config.list_physical_devices('GPU')"
   ]
  },
  {
   "cell_type": "code",
   "execution_count": 228,
   "metadata": {},
   "outputs": [
    {
     "name": "stdout",
     "output_type": "stream",
     "text": [
      "Model: \"model_31\"\n",
      "__________________________________________________________________________________________________\n",
      "Layer (type)                    Output Shape         Param #     Connected to                     \n",
      "==================================================================================================\n",
      "input_32 (InputLayer)           [(None, 64)]         0                                            \n",
      "__________________________________________________________________________________________________\n",
      "embedding_31 (Embedding)        (None, 64, 110)      4840        input_32[0][0]                   \n",
      "__________________________________________________________________________________________________\n",
      "bidirectional_62 (Bidirectional (None, 64, 220)      582560      embedding_31[0][0]               \n",
      "__________________________________________________________________________________________________\n",
      "bidirectional_63 (Bidirectional (None, 64, 220)      776160      bidirectional_62[0][0]           \n",
      "__________________________________________________________________________________________________\n",
      "add_31 (Add)                    (None, 64, 220)      0           bidirectional_62[0][0]           \n",
      "                                                                 bidirectional_63[0][0]           \n",
      "__________________________________________________________________________________________________\n",
      "dense_93 (Dense)                (None, 64, 16)       3536        add_31[0][0]                     \n",
      "__________________________________________________________________________________________________\n",
      "dense_94 (Dense)                (None, 64, 3)        663         add_31[0][0]                     \n",
      "__________________________________________________________________________________________________\n",
      "dense_95 (Dense)                (None, 64, 4)        884         add_31[0][0]                     \n",
      "__________________________________________________________________________________________________\n",
      "N (Softmax)                     (None, 64, 16)       0           dense_93[0][0]                   \n",
      "__________________________________________________________________________________________________\n",
      "D (Softmax)                     (None, 64, 3)        0           dense_94[0][0]                   \n",
      "__________________________________________________________________________________________________\n",
      "S (Softmax)                     (None, 64, 4)        0           dense_95[0][0]                   \n",
      "==================================================================================================\n",
      "Total params: 1,368,643\n",
      "Trainable params: 1,368,643\n",
      "Non-trainable params: 0\n",
      "__________________________________________________________________________________________________\n"
     ]
    }
   ],
   "source": [
    "BATCH_SIZE = 32\n",
    "MAXLEN = 64\n",
    "\n",
    "LETTERS_SIZE = len(dataset.letters_table)\n",
    "NIQQUD_SIZE = len(dataset.niqqud_table)\n",
    "DAGESH_SIZE = len(dataset.dagesh_table)\n",
    "SIN_SIZE = len(dataset.sin_table)\n",
    "\n",
    "def build_model(EMBED_DIM=110, UNITS=220):\n",
    "\n",
    "    layer = input_text = tf.keras.Input(batch_shape=(None, MAXLEN), batch_size=BATCH_SIZE)\n",
    "    \n",
    "    layer = layers.Embedding(LETTERS_SIZE, EMBED_DIM, mask_zero=True)(layer)\n",
    "    layer = layers.Bidirectional(layers.LSTM(UNITS, return_sequences=True, dropout=0.0), merge_mode='sum')(layer)\n",
    "    layer = layers.add([layer,\n",
    "                         layers.Bidirectional(layers.LSTM(UNITS, return_sequences=True, dropout=0.0), merge_mode='sum')(layer)])\n",
    "\n",
    "    outputs = [\n",
    "        layers.Softmax(name='N')(layers.Dense(NIQQUD_SIZE)(layer)),\n",
    "        layers.Softmax(name='D')(layers.Dense(DAGESH_SIZE)(layer)),\n",
    "        layers.Softmax(name='S')(layers.Dense(SIN_SIZE)(layer))\n",
    "    ]\n",
    "    model = tf.keras.Model(inputs=[input_text], outputs=outputs)\n",
    "\n",
    "    # tf.keras.utils.plot_model(model, to_file='model.png')\n",
    "    return model\n",
    "\n",
    "model = build_model()\n",
    "\n",
    "def fit(data,  min_lr_1, max_lr, min_lr_2):\n",
    "    adam = tf.keras.optimizers.Adam(learning_rate=min_lr_1)\n",
    "    model.compile(loss='sparse_categorical_crossentropy', optimizer=adam, metrics=['accuracy'])\n",
    "    class BatchLearningRateScheduler(tf.keras.callbacks.Callback):\n",
    "        def __init__(self):\n",
    "            super().__init__()\n",
    "            self.lr = min_lr_1\n",
    "\n",
    "        def on_batch_end(self, batch, logs=None):\n",
    "            #  lr = min_lr + batch * (max_lr - min_lr) / (11000 / BATCH_SIZE)\n",
    "            batches = data.normalized_texts.shape[0]\n",
    "            MID = batches / BATCH_SIZE / 2\n",
    "            if batch < MID:\n",
    "                span = max_lr - min_lr_1\n",
    "                lr = max_lr + batch * span / MID\n",
    "            else:\n",
    "                batch -= MID\n",
    "                span = max_lr - min_lr_2\n",
    "                lr = max_lr - batch * span / MID\n",
    "            tf.keras.backend.set_value(self.model.optimizer.lr, lr)\n",
    "                \n",
    "            \n",
    "    x  = data.normalized_texts\n",
    "    vx = data.normalized_validation\n",
    "    y  = {'N': data.niqqud_texts,      'D': data.dagesh_texts,      'S': data.sin_texts,      'C': data.normalized_texts     }\n",
    "    vy = {'N': data.niqqud_validation, 'D': data.dagesh_validation, 'S': data.sin_validation, 'C': data.normalized_validation}\n",
    "    return model.fit(x, y, validation_data=(vx, vy), batch_size=BATCH_SIZE, epochs=1, #len(learning_rates),\n",
    "          callbacks=[\n",
    "              BatchLearningRateScheduler()\n",
    "              # tf.keras.callbacks.LearningRateScheduler(lambda epoch, lr: learning_rates[epoch], verbose=0),\n",
    "          ]\n",
    "    )\n",
    "\n",
    "model.summary()\n",
    "model.save_weights('./checkpoints/uninit')"
   ]
  },
  {
   "cell_type": "code",
   "execution_count": 3,
   "metadata": {},
   "outputs": [],
   "source": [
    "def load_data(source, maxlen=MAXLEN, validation=0.1):\n",
    "    filenames = [os.path.join('texts', f) for f in source]\n",
    "    return dataset.load_file(filenames, BATCH_SIZE, validation, maxlen=maxlen, shuffle=True)"
   ]
  },
  {
   "cell_type": "code",
   "execution_count": 147,
   "metadata": {},
   "outputs": [],
   "source": [
    "data_rabanit = load_data(['birkat_hamazon.txt', 'kuzari.txt', 'hakdama_leorot.txt', 'hartzaat_harav.txt', 'orhot_hayim.txt', 'rambam_mamre.txt', 'short_table.txt', 'tomer_dvora.txt'])"
   ]
  },
  {
   "cell_type": "code",
   "execution_count": 148,
   "metadata": {},
   "outputs": [],
   "source": [
    "data_pre_modern = load_data(['elef_layla.txt', 'bialik', 'shaul_tchernichovsky', 'breslev.txt', 'itzhak_berkman', 'zevi_scharfstein', 'pesah_kaplan', 'abraham_regelson',\n",
    "                             'elisha_porat', 'uriel_ofek', 'yisrael_dushman', 'zvi_zviri', 'atar_hashabat.txt', 'ali_baba.txt'])"
   ]
  },
  {
   "cell_type": "code",
   "execution_count": 4,
   "metadata": {},
   "outputs": [],
   "source": [
    "data_modern = load_data(validation=0.2, source=['forums', 'newspapers', 'wiki', 'blogs', 'adamtsair.txt', 'katarsis.txt'])  # , 'imagination.txt', 'sipurim.txt', 'ricky.txt'"
   ]
  },
  {
   "cell_type": "code",
   "execution_count": 259,
   "metadata": {},
   "outputs": [
    {
     "name": "stdout",
     "output_type": "stream",
     "text": [
      "Train on 76377 samples, validate on 8487 samples\n",
      "76377/76377 [==============================] - 95s 1ms/sample - loss: 0.2783 - N_loss: 0.2148 - D_loss: 0.0550 - S_loss: 0.0086 - N_accuracy: 0.9255 - D_accuracy: 0.9794 - S_accuracy: 0.9978 - val_loss: 0.1190 - val_N_loss: 0.0891 - val_D_loss: 0.0275 - val_S_loss: 0.0027 - val_N_accuracy: 0.9702 - val_D_accuracy: 0.9904 - val_S_accuracy: 0.9994\n"
     ]
    }
   ],
   "source": [
    "model.load_weights('./checkpoints/uninit')  # 2e-3, 4e-3, 0.05e-3 0.9702\n",
    "history = fit(data_rabanit, 20e-4, 50e-4, 5e-4)\n",
    "model.save_weights('./checkpoints/rabanit')"
   ]
  },
  {
   "cell_type": "code",
   "execution_count": 268,
   "metadata": {},
   "outputs": [
    {
     "name": "stdout",
     "output_type": "stream",
     "text": [
      "Train on 84096 samples, validate on 9344 samples\n",
      "84096/84096 [==============================] - 96s 1ms/sample - loss: 0.2475 - N_loss: 0.1859 - D_loss: 0.0558 - S_loss: 0.0058 - N_accuracy: 0.9375 - D_accuracy: 0.9777 - S_accuracy: 0.9984 - val_loss: 0.1856 - val_N_loss: 0.1359 - val_D_loss: 0.0449 - val_S_loss: 0.0049 - val_N_accuracy: 0.9548 - val_D_accuracy: 0.9822 - val_S_accuracy: 0.99872469 - D_loss: 0.0692 - S_loss: 0.0072 - N_accuracy: 0.9171 - D_accurac - ETA: 1:38 - loss: 0.3185 - N_loss: 0.2431 - D_loss: 0. - ETA: 18s - loss: 0.2614 - N_loss: 0.1971 - D_loss: 0.0582 - S_loss:  - ETA: 2s - loss: 0.2494 - N_loss: 0.1874 - D_loss: 0.0562 - S_loss: 0.0059 - N_accuracy: 0.9369 - D_accuracy: 0.9776 - S_accuracy: 0.99 - ETA: 2s - loss: 0.2494 - N_loss: 0.1873 - D_loss: 0.0562 - S_loss: 0.0059 - N_accuracy: 0.9370 - D_accuracy: 0.9776 - S_accuracy - ETA: 2s - loss: 0.2489 - N_loss: 0.1870 - D_loss: 0.0561 - S_loss: 0.0058 - N_accuracy: 0.9371 - D_accura\n"
     ]
    }
   ],
   "source": [
    "model.load_weights('./checkpoints/rabanit')\n",
    "history = fit(data_pre_modern, 20e-4, 40e-4, 0.1e-4)\n",
    "model.save_weights('./checkpoints/pre_modern')"
   ]
  },
  {
   "cell_type": "code",
   "execution_count": 274,
   "metadata": {},
   "outputs": [
    {
     "name": "stdout",
     "output_type": "stream",
     "text": [
      "Train on 11417 samples, validate on 2855 samples\n",
      "11417/11417 [==============================] - 24s 2ms/sample - loss: 0.2136 - N_loss: 0.1594 - D_loss: 0.0497 - S_loss: 0.0045 - N_accuracy: 0.9510 - D_accuracy: 0.9814 - S_accuracy: 0.9990 - val_loss: 0.1671 - val_N_loss: 0.1227 - val_D_loss: 0.0398 - val_S_loss: 0.0041 - val_N_accuracy: 0.9632 - val_D_accuracy: 0.9852 - val_S_accuracy: 0.9991\n",
      "Train on 11417 samples, validate on 2855 samples\n",
      "11417/11417 [==============================] - 23s 2ms/sample - loss: 0.1189 - N_loss: 0.0868 - D_loss: 0.0291 - S_loss: 0.0029 - N_accuracy: 0.9746 - D_accuracy: 0.9893 - S_accuracy: 0.9993 - val_loss: 0.1540 - val_N_loss: 0.1125 - val_D_loss: 0.0371 - val_S_loss: 0.0038 - val_N_accuracy: 0.9662 - val_D_accuracy: 0.9863 - val_S_accuracy: 0.9992\n"
     ]
    }
   ],
   "source": [
    "model.load_weights('./checkpoints/pre_modern')\n",
    "history = fit(data_modern, 2e-3, 3e-3, 1e-3)\n",
    "history = fit(data_modern, 8e-4, 1e-3, 2e-4)"
   ]
  },
  {
   "cell_type": "code",
   "execution_count": null,
   "metadata": {},
   "outputs": [],
   "source": [
    "import matplotlib.pyplot as plt\n",
    "\n",
    "fig, ax = plt.subplots(nrows=2, ncols=2)\n",
    "\n",
    "for n, v in enumerate(['accuracy', 'loss'], 0):\n",
    "    for n1, t in enumerate(['D', 'N'], 0):\n",
    "        p = ax[n][n1]\n",
    "        p.plot(history.history[t + '_' + v][0:])\n",
    "        p.plot(history.history['val_' + t + '_' +  v][0:])\n",
    "        p.legend([t + '_Train', t + '_Test'], loc='center right')\n",
    "\n",
    "plt.tight_layout()"
   ]
  },
  {
   "cell_type": "code",
   "execution_count": 276,
   "metadata": {},
   "outputs": [],
   "source": [
    "import tensorflowjs as tfjs\n",
    "tfjs.converters.save_keras_model(model, '.')"
   ]
  },
  {
   "cell_type": "code",
   "execution_count": 275,
   "metadata": {},
   "outputs": [
    {
     "name": "stdout",
     "output_type": "stream",
     "text": [
      "מצוי:  הַסַּפְסָל בַּהַפְסָקוֹת, לְהִתְנַדֵּב וְלִהְיוֹת הַיַּלְדָּה שֶׁעוֹמֶדֶת וּמְגַלְגֶּלֶת בְּחֶבֶל וּבִכְלָלִי\n",
      "רצוי:  הַסַּפְסָל בַּהַפְסָקוֹת, לְהִתְנַדֵּב וְלִהְיוֹת הַיַּלְדָּה שֶׁעוֹמֶדֶת וּמְגַלְגֶּלֶת בְּחֶבֶל וּבִכְלָלֵי\n",
      "\n",
      "מצוי:  הָרְצִיפוּת הַתִּפְקוּדִית הֵן הָרָשׁוּיוֹת הַמְּקוֹמִיּוֹת, שֶׁיִּצְטָרְכוּ לְהַמְשִׁיךְ לְתַפְקֵד גַּם\n",
      "רצוי:  הָרְצִיפוּת הַתִּפְקוּדִית הֵן הָרָשׁוּיוֹת הַמְּקוֹמִיּוֹת, שֶׁיִּצְטָרְכוּ לְהַמְשִׁיךְ לְתַפְקֵד גַּם\n",
      "\n",
      "מצוי:  שֶׁנִּדְבְּקוּ אֵלָיו בִּזְמַנִּים מוּקְדָּמִים יוֹתֵר. לְרֶגֶל ט\"וּ בְּאָב, שֶׁלְּמַעֲשֶׂה מִסְמֵל\n",
      "רצוי:  שֶׁנִּדְבְּקוּ אֵלָיו בִּזְמַנִּים מוּקְדָּמִים יוֹתֵר. לְרֶגֶל ט\"ו בְּאָב, שֶׁלְּמַעֲשֶׂה מְסַמֵּל\n",
      "\n",
      "מצוי:  עִירָאק, בִּירַת הָאוֹטוֹנוֹמְיָה הַכּוֹרְדִּית. פַּרְשָׁנִים בָּעוֹלָם הָעַרְבִי אָמְנָם דִּיבְּרוּ\n",
      "רצוי:  עִירָאק, בִּירַת הָאוֹטוֹנוֹמְיָה הַכּוּרְדִּית. פַּרְשָׁנִים בָּעוֹלָם הָעַרְבִי אָמְנָם דִּיבְּרוּ\n",
      "\n",
      "מצוי:  הַבִּיוֹלוֹגִית יָצְרָה מוֹחַ אֱנוֹשִׁי מוּרְכָּב וּמְשׁוּכְלָל, אַךְ חָשׂוּף יוֹתֵר לִפְגָמִים\n",
      "רצוי:  הַבִּיּוֹלוֹגִית יָצְרָה מוֹחַ אֱנוֹשִׁי מוּרְכָּב וּמְשׁוּכְלָל, אַךְ חָשׂוּף יוֹתֵר לִפְגָמִים\n",
      "\n",
      "מצוי:  הָאָמֵרִיקָנִי\". מַכָּה גַּם לִמְדַכָּאי הַמְּהוּמוֹת בְּאִירָאן תְּגוּבָה מְעַנְיֶינֶת בִּמְיוּחָד\n",
      "רצוי:  הָאָמֵרִיקָנִי\". מַכָּה גַּם לִמְדַכְּאֵי הַמְּהוּמוֹת בְּאִירָאן תְּגוּבָה מְעַנְיֶינֶת בִּמְיוּחָד\n",
      "\n",
      "מצוי:  הָרָאוּי שֶׁל הַמְּדִינָה בְּכַלְכָּלָה.הַסְּטָטִיסְטִיקוֹת הָאִישִׁיּוֹת שֶׁל שַׂחְקָנֵי הָ-OOO\n",
      "רצוי:  הָרָאוּי שֶׁל הַמְּדִינָה בְּכַלְכָּלָה.הַסְּטָטִיסְטִיקוֹת הָאִישִׁיּוֹת שֶׁל שַׂחְקָנֵי הַ-OOO\n",
      "\n",
      "מצוי:  הַמֵּידָע בְּפוֹעַל בְּמַצָּבִים שׁוֹנִים. לְשֵׁם כָּךְ הֵם מְתַכְנְּנִים לִבְדּוֹק אֶת הַקִּידּוּד\n",
      "רצוי:  הַמֵּידָע בְּפוֹעַל בְּמַצָּבִים שׁוֹנִים. לְשֵׁם כָּךְ הֵם מְתַכְנְנִים לִבְדּוֹק אֶת הַקִּידּוּד\n",
      "\n",
      "מצוי:  הַגַּרְעִינִית בִּמָטוֹס \"אָנוֹלָה גֵּיי\". לְאַחַר שֶׁהִמְרִיאוּ מֶטִינְיָאן, עָשׂוּ הַמְּטוֹסִים\n",
      "רצוי:  הַגַּרְעִינִית בַּמָּטוֹס \"אָנוֹלָה גֵּיי\". לְאַחַר שֶׁהִמְרִיאוּ מִטִּינְיָאן, עָשׂוּ הַמְּטוֹסִים\n",
      "\n",
      "מצוי:  בְּתוֹר הָאָרוֹךְ (עָמַד? נָע לְלֹא הֶרֶף, רָץ, וְכָל הַחֶדֶר הִתְעַרְבֵל וְהִסְתַּחְרֵר יַחַד\n",
      "רצוי:  בַּתּוֹר הָאָרוֹךְ (עָמַד? נָע לְלֹא הֶרֶף, רָץ, וְכָל הַחֶדֶר הִתְעַרְבֵּל וְהִסְתַּחְרֵר יַחַד\n",
      "\n",
      "מצוי:  אַךְ הֵיעָדֵר הַמַּסָּד הַלּוֹגִי הַנִּדְרָשׁ לְהוֹכָחוֹת מָתֵמָטִיּוֹת וְהַגְדָּרַת מוּשְׂגֵי יְסוֹד\n",
      "רצוי:  אַךְ הֵיעָדֵר הַמַּסָּד הַלּוֹגִי הַנִּדְרָשׁ לְהוֹכָחוֹת מָתֵמָטִיּוֹת וְהַגְדָּרַת מוּשְּׂגֵי יְסוֹד\n",
      "\n",
      "מצוי:  מְדִינָה שֶׁמַּכְתִּיב כּוֹתָרוֹת לִצְהוּבּוֹנִים פּוֹפּוּלָרִיִּים, אֵיל תִּקְשׁוֹרֶת שֶׁמַּצִּיעַ\n",
      "רצוי:  מְדִינָה שֶׁמַּכְתִּיב כּוֹתָרוֹת לִצְהוּבּוֹנִים פּוֹפּוּלָרִיִּים, אֵיל תִּקְשׁוֹרֶת שֶׁמַּצִּיעַ\n",
      "\n",
      "מצוי:  יִשְׂרָאֵל, הֵם לֹא הָיוּ שָׁם וְאֵין לָהֶם מוּשָּׂג מָה זֶה בִּכְלָל, אֲבָל מִבְּחִינָתָם אִם\n",
      "רצוי:  יִשְׂרָאֵל, הֵם לֹא הָיוּ שָׁם וְאֵין לָהֶם מוּשָּׂג מָה זֶה בִּכְלָל, אֲבָל מִבְּחִינָתָם אִם\n",
      "\n",
      "מצוי:  לֹא הָיוּ בְּיָדָם הָאֶמְצָעִים לְכָךְ. לָרוֹמָאִים הָיוּ סִיבּוֹת טוֹבוֹת לִכְבּוֹשׁ אֶת\n",
      "רצוי:  לֹא הָיוּ בְּיָדָם הָאֶמְצָעִים לְכָךְ. לָרוֹמָאִים הָיוּ סִיבּוֹת טוֹבוֹת לִכְבּוֹשׁ אֶת\n",
      "\n",
      "מצוי:  אָמְנָם, הַתִּזְמוֹן הוּא אֵלֵמֶנְט שְׁרִירוּתִי. הָעוּבְדָּה שֶׁגּ'וֹרְדֶּן הָיָה פָּעִיל בְּדִיּוּק\n",
      "רצוי:  אָמְנָם, הַתִּזְמוּן הוּא אֵלֵמֶנְט שְׁרִירוּתִי. הָעוּבְדָּה שֶׁגּ'וֹרְדֶּן הָיָה פָּעִיל בְּדִיּוּק\n",
      "\n",
      "מצוי:  מְעַט וְעוֹשָׂה הַרְבֵּה. הוּא הָאִישׁ הַמַּעֲשֵׂי הַיְּחִידִי כִּמְעַט בֵּין עַסְקָנֵינוּ שֶׁהַשְׁפָּעָתוֹ\n",
      "רצוי:  מְעַט וְעוֹשֶׂה הַרְבֵּה. הוּא הָאִישׁ הַמַּעֲשִׂי הַיְּחִידִי כִּמְעַט בֵּין עַסְקָנֵינוּ שֶׁהַשְׁפָּעָתוֹ\n",
      "\n",
      "מצוי:  וּמִתַנְוּונִים מֵחוֹסֶר פְּעִילוּת פִיזִית. מִמֵּילָא גִּיבּוֹר הָעַל מְמּוּתָג כְּסוּג שֶׁל\n",
      "רצוי:  וּמִתְנַוְּונִים מֵחוֹסֶר פְּעִילוּת פִיזִית. מִמֵּילָא גִּיבּוֹר הָעַל מִמּוּתָג כְּסוּג שֶׁל\n",
      "\n",
      "מצוי:  לְקַיֵּים עִסְקֵי נַדְל\"ן, כְּמוֹ גַּם לְמִי שֶׁעוֹסְקִים בִּתְחוּמִים הַקְּשׁוּרִים בְּעִיצּוּב\n",
      "רצוי:  לְקַיֵּים עִסְקִי נַדְלָ\"ן, כְּמוֹ גַּם לְמִי שֶׁעוֹסְקִים בִּתְחוּמִים הַקְּשׁוּרִים בָּעִיצּוּב\n",
      "\n",
      "מצוי:  וִיְשַׁמְּשׁוּ לְמַטְּרַת מְיוֹנִי לַעֲבוֹדָה בַּחֶבְרָה בְּתַפְקִידִים שׁוֹנִים. בְּהִתְבַּסֵּס עַל\n",
      "רצוי:  וִישַׁמְּשׁוּ לְמַטְּרַת מִיּוּנִי לַעֲבוֹדָה בַּחֶבְרָה בְּתַפְקִידִים שׁוֹנִים. בְּהִתְבַּסֵּס עַל\n",
      "\n",
      "מצוי:  רַבִּים הֵחֵלּוּ לְהַאֲמִין כִּי הַחְלָטָתָהּ שֶׁל אַרְצוֹת הַבְּרִית לְהַטִּיל פְּצָצַת אָטוֹם עַל\n",
      "רצוי:  רַבִּים הֵחֵלּוּ לְהַאֲמִין כִּי הַחְלָטָתָהּ שֶׁל אַרְצוֹת הַבְּרִית לְהַטִּיל פְּצָצַת אָטוֹם עַל\n",
      "\n",
      "מצוי:  בְּאוֹתָם הַיָּמִים נִיסּוּחַ חֶשְׁבּוֹן הַגְּבוּלוֹת, שֶׁהוּא הַכְּלִי הַמֶּרְכָּזִי בְּחֶדוָ\"א, טֶרֶם\n",
      "רצוי:  בְּאוֹתָם הַיָּמִים נִיסּוּחַ חֶשְׁבּוֹן הַגְּבוּלוֹת, שֶׁהוּא הַכְּלִי הַמֶּרְכָּזִי בְּחֶדְוָ\"א, טֶרֶם\n",
      "\n",
      "מצוי:  הַקּוֹדֶמֶת שֶׁבָּנִינוּ. אֶת קְבוּצַת הַחֲתָכִים מְסַמְּנִים בָּאוֹת. זֶהוּ שָׂדֶה סָדוּר שָׁלֵם\n",
      "רצוי:  הַקּוֹדֶמֶת שֶׁבָּנִינוּ. אֶת קְבוּצַת הַחֲתָכִים מְסַמְּנִים בָּאוֹת. זֶהוּ שָׂדֶה סָדוּר שָׁלֵם\n",
      "\n",
      "מצוי:  בַּבּוֹקֶר לְטִיּוּל, וְהוּא בְּדֶרֶךְ כְּלָל לְטִיּוּל אַחַר הַצָּהֳרַיִים כִּי אֲנִי בָּעֲבוֹדָה עַד\n",
      "רצוי:  בַּבּוֹקֶר לַטִּיּוּל, וְהוּא בְּדֶרֶךְ כְּלָל לְטִיּוּל אַחַר הַצָּהֳרַיִים כִּי אֲנִי בַּעֲבוֹדָה עַד\n",
      "\n",
      "מצוי:  חָיָה לִפְנֵי זְמַן רַב מְאֹד יַלְדָּה וּשָׁמָהּ מָאלָה. הִיא הָיְתָה חֲכָמָה וְטוֹבָה, אֲבָל\n",
      "רצוי:  חַיָה לִפְנֵי זְמַן רַב מְאֹד יַלְדָה וּשְׁמָה מָאלָה. הִיא הָיְתָה חֲכָמָה וְטוֹבָה, אֲבָל\n",
      "\n",
      "מצוי:  מֶקְסִיקוֹ \"OOOOO\" שָׂדוֹת נֵפְט. כְּאוֹת הוּקְרָה עַל כָּךְ הוּעֲנְקָה לְגֵלֶר אֶזְרָחוּת\n",
      "רצוי:  מֶקְסִיקוֹ \"OOOOO\" שְׂדוֹת נֵפְט. כְּאוֹת הוֹקָרָה עַל כָּךְ הוּעְנְקָה לְגֵלֶר אֶזְרָחוּת\n",
      "\n",
      "מצוי:  הַשּׁוֹפֵט מְשׁוֹמָּר בֵּית הַמִּשְׁפָּט לְהַרְאוֹת לַקָהָל הָאֲנָשִׁים אֶת סִיר הַמַּיִם כְּדֵי שֶׁיַּגִּידוּ\n",
      "רצוי:  הַשׁוֹפֵט מִשׁוֹמֵר בֵּית הַמִשְׁפָּט לְהַרְאוֹת לִקְהַל הָאֲנָשִׁים אֶת סִיר הַמַיִם כְּדֵי שֶׁיַגִידוּ\n",
      "\n",
      "מצוי:  בֵּית נְתַנְיָהוּ בִּקְרִיאָה לְהַמְשִׁיךְ בְּדֶרֶךְ הַשָּׁלוֹם, אִרְגּוּן עֲצֶרַת הַזְדֵּהוּת עִם חַיָּילֵי\n",
      "רצוי:  בֵּית נְתַנְיָהוּ בִּקְרִיאָה לְהַמְשִׁיךְ בְּדֶרֶךְ הַשָּׁלוֹם, אִרְגּוּן עֲצֶרֶת הִזְדַּהוּת עִם חַיָּילֵי\n",
      "\n",
      "מצוי:  בִּנְרִינְגָה וּפָלַאנְגָה. הִיסְטוֹרְיָה אֵזוֹר קְלַיְיפֶּדָה הָיָה מְיוּשֵּׁב עַל יְדֵי שְׁבָטִים\n",
      "רצוי:  בְּנֶרִינְגֶה וּפְלַאנְגֶּה. הִיסְטוֹרְיָה אֵזוֹר קְלַיְיפֶּדָה הָיָה מְיוּשָּׁב עַל יְדֵי שְׁבָטִים\n",
      "\n",
      "מצוי:  עוֹז בְּהֶחְלֵט מַשְׁפִּיעַ, כְּמוֹ וִירְגִ'ינְיָה ווֹלֵף וְסִילְבְּיָה פְּלַאת\". בִּסְצֵנַת\n",
      "רצוי:  עוֹז בְּהֶחְלֵט מַשְׁפִּיעַ, כְּמוֹ וִירְגִ'ינְיָה ווֹלְף וְסִילְבִיָּה פִּלֵּאת\". בִּסְצֵנַת\n",
      "\n",
      "מצוי:  אֲבָל מְדוּבָּר בָּאֶקָט שֶׁל פַּחְדָנוּת. אָכֵן, לֹא נִמְצְאוּ בַּאֲתָר שְׂרִידֵי מֵאוֹת\n",
      "רצוי:  אֲבָל מְדוּבָּר בְּאַקְט שֶׁל פַּחְדָנוּת. אָכֵן, לֹא נִמְצְאוּ בַּאֲתַר שְׂרִידֵי מֵאוֹת\n",
      "\n",
      "מצוי:  חֲדָשָׁה, וְיַחַד עִם חֲגִיגוֹת הָאָבִיב שֶׁתָּמִיד מֵיטִיבוֹת עִם חַיֵּי הָאַהֲבָה שֶׁלָּכֶם.\n",
      "רצוי:  חֲדָשָׁה, וְיַחַד עִם חֲגִיגוֹת הָאָבִיב שֶׁתָּמִיד מֵיטִיבוֹת עִם חַיֵּי הָאַהֲבָה שֶׁלָּכֶם.\n",
      "\n",
      "מצוי:  שֶׁל פְּרִידְרִיךְ מִסַּקְסוֹנְיָה. בְּ-5555 כַּאֲשֶׁר הַקֵּיסָר שָׁהָה בִּסְפָרַד, זִיקִינְגֶן כִּינֵס\n",
      "רצוי:  שֶׁל פְרִידְרִיךְ מִסַּקְסוֹנְיָה. בְּ-5555 כַּאֲשֶׁר הַקֵּיסָר שָׁהָה בִּסְפָרַד, זִיקִינְגֶן כִּינֵּס\n",
      "\n"
     ]
    }
   ],
   "source": [
    "def print_predictions(data, k):\n",
    "    s = slice(k*BATCH_SIZE, (k+1)*BATCH_SIZE)\n",
    "    batch = data.normalized_validation[s]\n",
    "    prediction = model.predict(batch)\n",
    "    [actual_niqqud, actual_dagesh, actual_sin] = [dataset.from_categorical(prediction[0]), dataset.from_categorical(prediction[1]), dataset.from_categorical(prediction[2])]\n",
    "    [expected_niqqud, expected_dagesh, expected_sin] = [data.niqqud_validation[s], data.dagesh_validation[s], data.sin_validation[s]]\n",
    "    actual = data.merge(batch, ns=actual_niqqud, ds=actual_dagesh, ss=actual_sin)\n",
    "    expected = data.merge(batch, ns=expected_niqqud, ds=expected_dagesh, ss=expected_sin)\n",
    "    for i, (a, e) in enumerate(zip(actual, expected)):\n",
    "        print('מצוי: ', a)\n",
    "        print('רצוי: ', e)\n",
    "        print()\n",
    "\n",
    "print_predictions(data_modern, 0)"
   ]
  },
  {
   "cell_type": "code",
   "execution_count": null,
   "metadata": {},
   "outputs": [],
   "source": []
  }
 ],
 "metadata": {
  "kernelspec": {
   "display_name": "Python 3",
   "language": "python",
   "name": "python3"
  },
  "language_info": {
   "codemirror_mode": {
    "name": "ipython",
    "version": 3
   },
   "file_extension": ".py",
   "mimetype": "text/x-python",
   "name": "python",
   "nbconvert_exporter": "python",
   "pygments_lexer": "ipython3",
   "version": "3.7.4"
  }
 },
 "nbformat": 4,
 "nbformat_minor": 4
}
