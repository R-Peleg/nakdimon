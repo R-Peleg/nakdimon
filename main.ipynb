{
 "cells": [
  {
   "cell_type": "code",
   "execution_count": 12,
   "metadata": {},
   "outputs": [],
   "source": [
    "import os\n",
    "import numpy as np\n",
    "from tensorflow import keras\n",
    "from tensorflow.keras import layers\n",
    "\n",
    "import tensorflow as tf\n",
    "import tensorflowjs as tfjs\n",
    "\n",
    "import wandb\n",
    "from wandb.keras import WandbCallback\n",
    "\n",
    "import dataset\n",
    "import schedulers\n",
    "\n",
    "assert tf.config.list_physical_devices('GPU')"
   ]
  },
  {
   "cell_type": "code",
   "execution_count": 23,
   "metadata": {
    "scrolled": true
   },
   "outputs": [],
   "source": [
    "LETTERS_SIZE = len(dataset.letters_table)\n",
    "NIQQUD_SIZE = len(dataset.niqqud_table)\n",
    "DAGESH_SIZE = len(dataset.dagesh_table)\n",
    "SIN_SIZE = len(dataset.sin_table)\n",
    "\n",
    "def build_model(units=500, maxlen=64):\n",
    "    inp = keras.Input(shape=(maxlen,), batch_size=None)\n",
    "    embed = layers.Embedding(LETTERS_SIZE, units, mask_zero=True)(inp)\n",
    "    \n",
    "    layer = layers.Bidirectional(layers.LSTM(units, return_sequences=True), merge_mode='sum')(embed)\n",
    "    layer = layers.add([layer, layers.Bidirectional(layers.LSTM(units, return_sequences=True), merge_mode='sum')(layer)])\n",
    "    layer = layers.BatchNormalization()(layer)\n",
    "    layer = layers.add([embed, layers.Dense(units, activation='relu')(layer)])\n",
    "\n",
    "    outputs = [\n",
    "        layers.Softmax(name='N')(layers.Dense(NIQQUD_SIZE)(layer)),\n",
    "        layers.Softmax(name='D')(layers.Dense(DAGESH_SIZE)(layer)),\n",
    "        layers.Softmax(name='S')(layers.Dense(SIN_SIZE)(layer)),\n",
    "    ]\n",
    "    model = keras.Model(inputs=inp, outputs=outputs)\n",
    "\n",
    "    return model\n"
   ]
  },
  {
   "cell_type": "code",
   "execution_count": 32,
   "metadata": {},
   "outputs": [],
   "source": [
    "\n",
    "# masked version of accuracy and sce\n",
    "def accuracy(real, pred):\n",
    "    acc = tf.keras.metrics.sparse_categorical_accuracy(real, pred)\n",
    "\n",
    "    mask = tf.cast(tf.math.logical_not(tf.math.equal(real, 0)), dtype=acc.dtype)\n",
    "    acc *= mask\n",
    "\n",
    "    return tf.reduce_sum(acc) / tf.reduce_sum(mask)\n",
    "\n",
    "def sparse_categorical_crossentropy(y_true, y_pred, sample_weight=None):\n",
    "    loss = tf.keras.losses.sparse_categorical_crossentropy(y_true, y_pred)\n",
    "\n",
    "    mask = tf.cast(tf.math.logical_not(tf.math.equal(y_true, 0)), dtype=loss.dtype)\n",
    "    loss *= mask\n",
    "\n",
    "    return tf.reduce_sum(loss) / tf.reduce_sum(mask) \n"
   ]
  },
  {
   "cell_type": "code",
   "execution_count": 17,
   "metadata": {},
   "outputs": [],
   "source": [
    "data = {}\n",
    "data['mix'] = dataset.load_data([\n",
    "    'hebrew_diacritized_private/poetry',\n",
    "    'hebrew_diacritized_private/rabanit',\n",
    "    'hebrew_diacritized_private/pre_modern'], validation_rate=0.1, maxlen=MAXLEN)\n",
    "\n",
    "data['modern'] = dataset.load_data([\n",
    "    'hebrew_diacritized/modern'], validation_rate=0.2, maxlen=MAXLEN)"
   ]
  },
  {
   "cell_type": "code",
   "execution_count": null,
   "metadata": {},
   "outputs": [],
   "source": [
    "class CustomCallback(keras.callbacks.Callback):\n",
    "    def on_train_batch_end(self, batch, logs=None):\n",
    "        keys = list(logs.keys())\n",
    "        print(\"...Training: end of batch {}; got log keys: {}\".format(batch, keys))\n"
   ]
  },
  {
   "cell_type": "code",
   "execution_count": 36,
   "metadata": {},
   "outputs": [
    {
     "name": "stdout",
     "output_type": "stream",
     "text": [
      "env: WANDB_MODE=run\n"
     ]
    },
    {
     "data": {
      "text/html": [
       "\n",
       "                Logging results to <a href=\"https://wandb.com\" target=\"_blank\">Weights & Biases</a> <a href=\"https://docs.wandb.com/integrations/jupyter.html\" target=\"_blank\">(Documentation)</a>.<br/>\n",
       "                Project page: <a href=\"https://app.wandb.ai/elazarg/dotter\" target=\"_blank\">https://app.wandb.ai/elazarg/dotter</a><br/>\n",
       "                Run page: <a href=\"https://app.wandb.ai/elazarg/dotter/runs/15paj44w\" target=\"_blank\">https://app.wandb.ai/elazarg/dotter/runs/15paj44w</a><br/>\n",
       "            "
      ],
      "text/plain": [
       "<IPython.core.display.HTML object>"
      ]
     },
     "metadata": {},
     "output_type": "display_data"
    },
    {
     "name": "stderr",
     "output_type": "stream",
     "text": [
      "Failed to connect to W&B servers after 10 seconds.                    Letting user process proceed while attempting to reconnect.\n"
     ]
    },
    {
     "name": "stdout",
     "output_type": "stream",
     "text": [
      "2183/2183 [==============================] - 239s 110ms/step - loss: 0.2535 - N_loss: 0.1942 - D_loss: 0.0521 - S_loss: 0.0072 - N_accuracy: 0.9315 - D_accuracy: 0.9791 - S_accuracy: 0.9976 - val_loss: 0.2024 - val_N_loss: 0.1489 - val_D_loss: 0.0490 - val_S_loss: 0.0044 - val_N_accuracy: 0.9487 - val_D_accuracy: 0.9799 - val_S_accuracy: 0.9988\n",
      "233/233 [==============================] - 27s 114ms/step - loss: 0.1430 - N_loss: 0.1064 - D_loss: 0.0343 - S_loss: 0.0022 - N_accuracy: 0.9637 - D_accuracy: 0.9871 - S_accuracy: 0.9994 - val_loss: 0.1397 - val_N_loss: 0.1048 - val_D_loss: 0.0328 - val_S_loss: 0.0021 - val_N_accuracy: 0.9654 - val_D_accuracy: 0.9871 - val_S_accuracy: 0.9995\n",
      "233/233 [==============================] - 27s 116ms/step - loss: 0.0700 - N_loss: 0.0506 - D_loss: 0.0184 - S_loss: 0.0011 - N_accuracy: 0.9825 - D_accuracy: 0.9931 - S_accuracy: 0.9997 - val_loss: 0.1409 - val_N_loss: 0.1058 - val_D_loss: 0.0330 - val_S_loss: 0.0021 - val_N_accuracy: 0.9677 - val_D_accuracy: 0.9879 - val_S_accuracy: 0.9996\n",
      "233/233 [==============================] - 27s 115ms/step - loss: 0.0470 - N_loss: 0.0333 - D_loss: 0.0129 - S_loss: 7.5813e-04 - N_accuracy: 0.9883 - D_accuracy: 0.9951 - S_accuracy: 0.9998 - val_loss: 0.1527 - val_N_loss: 0.1157 - val_D_loss: 0.0348 - val_S_loss: 0.0022 - val_N_accuracy: 0.9676 - val_D_accuracy: 0.9884 - val_S_accuracy: 0.9996\n"
     ]
    },
    {
     "name": "stderr",
     "output_type": "stream",
     "text": [
      "wandb: ERROR Error uploading \"config.yaml\": CommError, File C:\\Users\\elaza\\AppData\\Local\\Temp\\tmp47rfd3lgwandb\\i1gnd1ov-config.yaml size shrank from 815 to 0 while it was being uploaded.\n"
     ]
    }
   ],
   "source": [
    "%env WANDB_MODE run\n",
    "\n",
    "UNITS = 500\n",
    "BATCH_SIZE = 64\n",
    "\n",
    "model = build_model(units=UNITS, maxlen=MAXLEN)\n",
    "\n",
    "model.compile(loss=sparse_categorical_crossentropy, optimizer=tf.keras.optimizers.Adam(learning_rate=1e-4),\n",
    "              metrics={'N': accuracy, 'D': accuracy, 'S': accuracy})\n",
    "\n",
    "model.save_weights('./checkpoints/uninit')\n",
    "\n",
    "config = {\n",
    "    'batch_size': BATCH_SIZE,\n",
    "    'units': UNITS,\n",
    "    'maxlen': MAXLEN,\n",
    "    'model': model,\n",
    "    'batch_size': BATCH_SIZE,\n",
    "}\n",
    "\n",
    "config['order'] = [\n",
    "    ('mix', [(30e-4, 80e-4, 1e-4)], 'mix'),\n",
    "    ('modern', [(50e-4, 50e-4, 1e-5)], 'modern'),\n",
    "    ('modern', [(50e-4, 50e-4, 1e-5), (50e-4, 50e-4, 1e-5)], 'modern_over'),\n",
    "]\n",
    "\n",
    "run = wandb.init(project=\"dotter\",\n",
    "                 name='final_eval',\n",
    "                 tags=['CLR', 'ordered'],\n",
    "                 config=config)\n",
    "\n",
    "def get_xy(d):\n",
    "    if d is None:\n",
    "        return None\n",
    "    x = d.normalized\n",
    "    y = {'N': d.niqqud, 'D': d.dagesh, 'S': d.sin }\n",
    "    return (x, y)\n",
    "\n",
    "with run:\n",
    "    for kind, clrs, save in config['order']:\n",
    "        train, validation = data[kind]\n",
    "        \n",
    "        training_data = (x, y) = get_xy(train)\n",
    "        validation_data = get_xy(validation)\n",
    "        \n",
    "        wandb_callback = WandbCallback(log_batch_frequency=10, training_data=training_data, validation_data=validation_data,\n",
    "                                       log_weights=True, log_gradients=True)\n",
    "        \n",
    "        for clr in clrs:\n",
    "            scheduler = schedulers.CircularLearningRate(*clr)\n",
    "            scheduler.set_dataset(train, BATCH_SIZE)\n",
    "            callbacks = [wandb_callback, scheduler]\n",
    "            history = model.fit(x, y, validation_data=validation_data, batch_size=BATCH_SIZE, verbose=1, callbacks=callbacks)\n",
    "        model.save(os.path.join(wandb.run.dir, save + \".h5\"))\n",
    "        model.save_weights('./checkpoints/' + save)\n"
   ]
  },
  {
   "cell_type": "code",
   "execution_count": 24,
   "metadata": {},
   "outputs": [],
   "source": [
    "model.load_weights('./checkpoints/modern_over')\n",
    "\n",
    "model.compile()\n",
    "model.save('modern.h5')\n",
    "tfjs.converters.save_keras_model(model, '.')"
   ]
  },
  {
   "cell_type": "code",
   "execution_count": null,
   "metadata": {},
   "outputs": [],
   "source": [
    "import matplotlib.pyplot as plt\n",
    "\n",
    "fig, ax = plt.subplots(nrows=2, ncols=3)\n",
    "\n",
    "for n, v in enumerate(['accuracy', 'loss'], 0):\n",
    "    for n1, t in enumerate(['N', 'D', 'S'], 0):\n",
    "        p = ax[n][n1]\n",
    "        p.plot(history.history[t + '_' + v][0:])\n",
    "        p.plot(history.history['val_' + t + '_' +  v][0:])\n",
    "        p.legend([t + '_Train', t + '_Test'], loc='center right')\n",
    "\n",
    "plt.tight_layout()"
   ]
  },
  {
   "cell_type": "code",
   "execution_count": 9,
   "metadata": {},
   "outputs": [
    {
     "name": "stdout",
     "output_type": "stream",
     "text": [
      "10/10 [==============================] - 0s 39ms/step - loss: 0.2131 - N_loss: 0.1708 - D_loss: 0.0389 - S_loss: 0.0034 - N_accuracy: 0.9557 - D_accuracy: 0.9878 - S_accuracy: 0.9991\n"
     ]
    },
    {
     "data": {
      "text/plain": [
       "[0.21313048899173737,\n",
       " 0.1707678735256195,\n",
       " 0.03894208371639252,\n",
       " 0.0034205657429993153,\n",
       " 0.9556616544723511,\n",
       " 0.9878182411193848,\n",
       " 0.999067485332489]"
      ]
     },
     "execution_count": 9,
     "metadata": {},
     "output_type": "execute_result"
    }
   ],
   "source": [
    "model.load_weights('./checkpoints/modern_over')\n",
    "test = dataset.load_file('test/ModernTestCorpus-HebrewWiki1-simple.txt', maxlen)\n",
    "x = test.normalized\n",
    "y = {'N': test.niqqud, 'D': test.dagesh, 'S': test.sin }\n",
    "\n",
    "model.compile(loss=sparse_categorical_crossentropy,\n",
    "              metrics={'N': accuracy, 'D': accuracy, 'S': accuracy})\n",
    "\n",
    "model.evaluate(x=x, y=y, batch_size=BATCH_SIZE)"
   ]
  },
  {
   "cell_type": "code",
   "execution_count": 10,
   "metadata": {
    "pycharm": {
     "name": "#%%\n"
    },
    "scrolled": true
   },
   "outputs": [
    {
     "name": "stdout",
     "output_type": "stream",
     "text": [
      "letters: 92.83%, words: 78.85%\n"
     ]
    }
   ],
   "source": [
    "model.load_weights('./checkpoints/modern_over')\n",
    "\n",
    "def real_evaluation(data, s=slice(0, None), print_comparison=True):\n",
    "    batch = data.normalized[s]\n",
    "    prediction = model.predict(batch)\n",
    "    [actual_niqqud, actual_dagesh, actual_sin] = [dataset.from_categorical(prediction[0]), dataset.from_categorical(prediction[1]), dataset.from_categorical(prediction[2])]\n",
    "    [expected_niqqud, expected_dagesh, expected_sin] = [data.niqqud[s], data.dagesh[s], data.sin[s]]\n",
    "    actual = dataset.merge(data.text[s], ts=batch, ns=actual_niqqud, ds=actual_dagesh, ss=actual_sin)\n",
    "    expected = dataset.merge(data.text[s], ts=batch, ns=expected_niqqud, ds=expected_dagesh, ss=expected_sin)\n",
    "    total_letters = []\n",
    "    total_words = []\n",
    "    for i, (b, a, e) in enumerate(zip(batch, actual, expected)):\n",
    "        res = ( (expected_niqqud[i][b > 16] == actual_niqqud[i][b > 16])\n",
    "              & (expected_dagesh[i][b > 16] == actual_dagesh[i][b > 16])\n",
    "              & (expected_sin[i][b > 16] == actual_sin[i][b > 16]) )\n",
    "        total_letters.extend(res)\n",
    "        \n",
    "        for aw, ew in zip(a.split(), e.split()):\n",
    "            if len([x for x in 'אבגדהוזחטיכלמנסעפצקרשתךםןףץ' if x in aw]) > 1:\n",
    "                total_words.append(aw == ew)\n",
    "                if print_comparison and aw != ew:\n",
    "                    print(aw, ew)\n",
    "        \n",
    "        if print_comparison:\n",
    "            print('מצוי: ', a)\n",
    "            print('רצוי: ', e)\n",
    "            print(f'{np.mean(res):.2%} ({len(res)-np.sum(res)} out of {len(res)})')\n",
    "            print()\n",
    "    print(f'letters: {np.mean(total_letters):.2%}, words: {np.mean(total_words):.2%}')\n",
    "\n",
    "real_evaluation(test, print_comparison=False)"
   ]
  },
  {
   "cell_type": "code",
   "execution_count": null,
   "metadata": {
    "collapsed": false,
    "jupyter": {
     "outputs_hidden": false
    },
    "pycharm": {
     "name": "#%%\n"
    }
   },
   "outputs": [],
   "source": [
    "\n"
   ]
  }
 ],
 "metadata": {
  "kernelspec": {
   "display_name": "Python 3.8.2 64-bit",
   "language": "python",
   "name": "python38264bit9bb923b013d04c19b7222e7ae44d4e24"
  },
  "language_info": {
   "codemirror_mode": {
    "name": "ipython",
    "version": 3
   },
   "file_extension": ".py",
   "mimetype": "text/x-python",
   "name": "python",
   "nbconvert_exporter": "python",
   "pygments_lexer": "ipython3",
   "version": "3.8.2"
  }
 },
 "nbformat": 4,
 "nbformat_minor": 4
}
