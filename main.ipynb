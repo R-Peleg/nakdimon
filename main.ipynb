{
 "cells": [
  {
   "cell_type": "code",
   "execution_count": 2,
   "metadata": {},
   "outputs": [],
   "source": [
    "%load_ext autoreload\n",
    "%autoreload 2"
   ]
  },
  {
   "cell_type": "code",
   "execution_count": 3,
   "metadata": {},
   "outputs": [],
   "source": [
    "import os\n",
    "\n",
    "import numpy as np\n",
    "from tensorflow import keras\n",
    "from tensorflow.keras import layers\n",
    "\n",
    "import tensorflow as tf\n",
    "import tensorflowjs as tfjs\n",
    "\n",
    "import wandb\n",
    "from wandb.keras import WandbCallback\n",
    "\n",
    "import dataset\n",
    "import schedulers\n",
    "\n",
    "assert tf.config.list_physical_devices('GPU')"
   ]
  },
  {
   "cell_type": "code",
   "execution_count": 4,
   "metadata": {},
   "outputs": [],
   "source": [
    "def masked_metric(v, y_true):\n",
    "    mask = tf.math.not_equal(y_true, 0)\n",
    "    return tf.reduce_sum(tf.boolean_mask(v, mask)) / tf.cast(tf.math.count_nonzero(mask), tf.float32)\n",
    "\n",
    "def accuracy(y_true, y_pred):\n",
    "    return masked_metric(tf.keras.metrics.sparse_categorical_accuracy(y_true, y_pred), y_true)\n",
    "\n",
    "def sparse_categorical_crossentropy(y_true, y_pred):\n",
    "    return masked_metric(tf.keras.losses.sparse_categorical_crossentropy(y_true, y_pred, from_logits=True), y_true)\n",
    "\n",
    "def get_xy(d):\n",
    "    if d is None:\n",
    "        return None\n",
    "    d.shuffle()\n",
    "    x = d.normalized\n",
    "    y = {'N': d.niqqud, 'D': d.dagesh, 'S': d.sin }\n",
    "    return (x, y)\n"
   ]
  },
  {
   "cell_type": "code",
   "execution_count": 5,
   "metadata": {},
   "outputs": [],
   "source": [
    "corpus = {}\n",
    "corpus['mix'] = dataset.read_corpora([\n",
    "    'hebrew_diacritized_private/poetry',\n",
    "    'hebrew_diacritized_private/rabanit',\n",
    "    'hebrew_diacritized_private/pre_modern'])\n",
    "\n",
    "corpus['modern'] = dataset.read_corpora([\n",
    "    'hebrew_diacritized/modern'])\n"
   ]
  },
  {
   "cell_type": "code",
   "execution_count": 6,
   "metadata": {},
   "outputs": [],
   "source": [
    "MAXLEN = 80\n",
    "\n",
    "data = {}\n",
    "np.random.seed(2)\n",
    "data['mix'] = dataset.load_data(corpus['mix'], validation_rate=0.1, maxlen=MAXLEN)\n",
    "np.random.seed(2)\n",
    "data['modern'] = dataset.load_data(corpus['modern'], validation_rate=0.1, maxlen=MAXLEN)\n"
   ]
  },
  {
   "cell_type": "code",
   "execution_count": 7,
   "metadata": {},
   "outputs": [],
   "source": [
    "LETTERS_SIZE = len(dataset.letters_table)\n",
    "NIQQUD_SIZE = len(dataset.niqqud_table)\n",
    "DAGESH_SIZE = len(dataset.dagesh_table)\n",
    "SIN_SIZE = len(dataset.sin_table)\n",
    "\n",
    "def build_model(units):\n",
    "    inp = keras.Input(shape=(None,), batch_size=None)\n",
    "    embed = layers.Embedding(LETTERS_SIZE, units, mask_zero=True)(inp)\n",
    "    \n",
    "    layer = layers.Bidirectional(layers.LSTM(units, return_sequences=True, dropout=0.1), merge_mode='sum')(embed)\n",
    "    layer = layers.add([layer, layers.Bidirectional(layers.LSTM(units, return_sequences=True, dropout=0.1), merge_mode='sum')(layer)])\n",
    "    layer = layers.Dense(units)(layer)\n",
    "\n",
    "    outputs = [\n",
    "        layers.Dense(NIQQUD_SIZE, name='N')(layer),\n",
    "        layers.Dense(DAGESH_SIZE, name='D')(layer),\n",
    "        layers.Dense(SIN_SIZE, name='S')(layer),\n",
    "    ]\n",
    "    return keras.Model(inputs=inp, outputs=outputs)\n"
   ]
  },
  {
   "cell_type": "code",
   "execution_count": null,
   "metadata": {},
   "outputs": [],
   "source": []
  },
  {
   "cell_type": "code",
   "execution_count": 8,
   "metadata": {
    "scrolled": true
   },
   "outputs": [
    {
     "name": "stdout",
     "output_type": "stream",
     "text": [
      "env: WANDB_MODE=run\n"
     ]
    },
    {
     "data": {
      "text/html": [
       "\n",
       "                Logging results to <a href=\"https://wandb.com\" target=\"_blank\">Weights & Biases</a> <a href=\"https://docs.wandb.com/integrations/jupyter.html\" target=\"_blank\">(Documentation)</a>.<br/>\n",
       "                Project page: <a href=\"https://app.wandb.ai/elazarg/dotter\" target=\"_blank\">https://app.wandb.ai/elazarg/dotter</a><br/>\n",
       "                Run page: <a href=\"https://app.wandb.ai/elazarg/dotter/runs/3tqmsuqj\" target=\"_blank\">https://app.wandb.ai/elazarg/dotter/runs/3tqmsuqj</a><br/>\n",
       "            "
      ],
      "text/plain": [
       "<IPython.core.display.HTML object>"
      ]
     },
     "metadata": {},
     "output_type": "display_data"
    },
    {
     "name": "stdout",
     "output_type": "stream",
     "text": [
      "1716/1716 [==============================] - 231s 135ms/step - loss: 0.5971 - N_loss: 0.3623 - D_loss: 0.1148 - S_loss: 0.1200 - N_accuracy: 0.8755 - D_accuracy: 0.9560 - S_accuracy: 0.9673 - val_loss: 0.5258 - val_N_loss: 0.2739 - val_D_loss: 0.1128 - val_S_loss: 0.1391 - val_N_accuracy: 0.9113 - val_D_accuracy: 0.9582 - val_S_accuracy: 0.9637\n",
      "301/301 [==============================] - 40s 134ms/step - loss: 0.2476 - N_loss: 0.1578 - D_loss: 0.0613 - S_loss: 0.0286 - N_accuracy: 0.9465 - D_accuracy: 0.9773 - S_accuracy: 0.9918 - val_loss: 0.2710 - val_N_loss: 0.1293 - val_D_loss: 0.0537 - val_S_loss: 0.0881 - val_N_accuracy: 0.9575 - val_D_accuracy: 0.9808 - val_S_accuracy: 0.9871\n",
      "301/301 [==============================] - 41s 136ms/step - loss: 0.1377 - N_loss: 0.0886 - D_loss: 0.0382 - S_loss: 0.0110 - N_accuracy: 0.9701 - D_accuracy: 0.9863 - S_accuracy: 0.9963 - val_loss: 0.2631 - val_N_loss: 0.1203 - val_D_loss: 0.0501 - val_S_loss: 0.0927 - val_N_accuracy: 0.9627 - val_D_accuracy: 0.9823 - val_S_accuracy: 0.9864\n",
      "301/301 [==============================] - 41s 136ms/step - loss: 0.0972 - N_loss: 0.0629 - D_loss: 0.0290 - S_loss: 0.0053 - N_accuracy: 0.9784 - D_accuracy: 0.9895 - S_accuracy: 0.9982 - val_loss: 0.2813 - val_N_loss: 0.1194 - val_D_loss: 0.0507 - val_S_loss: 0.1112 - val_N_accuracy: 0.9647 - val_D_accuracy: 0.9830 - val_S_accuracy: 0.9867\n",
      "301/301 [==============================] - 41s 137ms/step - loss: 0.0739 - N_loss: 0.0479 - D_loss: 0.0234 - S_loss: 0.0027 - N_accuracy: 0.9834 - D_accuracy: 0.9915 - S_accuracy: 0.9991 - val_loss: 0.3034 - val_N_loss: 0.1253 - val_D_loss: 0.0525 - val_S_loss: 0.1256 - val_N_accuracy: 0.9654 - val_D_accuracy: 0.9832 - val_S_accuracy: 0.9869\n",
      "301/301 [==============================] - 42s 139ms/step - loss: 0.0568 - N_loss: 0.0365 - D_loss: 0.0188 - S_loss: 0.0016 - N_accuracy: 0.9872 - D_accuracy: 0.9931 - S_accuracy: 0.9995 - val_loss: 0.3277 - val_N_loss: 0.1320 - val_D_loss: 0.0555 - val_S_loss: 0.1401 - val_N_accuracy: 0.9657 - val_D_accuracy: 0.9832 - val_S_accuracy: 0.9864\n"
     ]
    }
   ],
   "source": [
    "%env WANDB_MODE run\n",
    "\n",
    "def experiment():\n",
    "    BATCH_SIZE = 64\n",
    "    UNITS = 512\n",
    "    np.random.seed(2)\n",
    "    model = build_model(units=UNITS)\n",
    "    model.compile(loss=sparse_categorical_crossentropy,\n",
    "                  optimizer=tf.keras.optimizers.Adam(learning_rate=1e-3),\n",
    "                  metrics=accuracy)\n",
    "\n",
    "    model.save_weights('./checkpoints/uninit')\n",
    "#     model.load_weights('./checkpoints/modern_over2')\n",
    "    \n",
    "    config = {\n",
    "        'batch_size': BATCH_SIZE,\n",
    "        'maxlen': MAXLEN,\n",
    "        'units': UNITS,\n",
    "        'model': model,\n",
    "        'order': [\n",
    "              ('mix',    (3e-3, 8e-3, 0), 'mix'),\n",
    "              ('modern', (4e-3, 2e-3, 5e-4), 'modern'),\n",
    "              ('modern', (27e-4, 11e-4, 8e-4), 'modern_over'),\n",
    "              ('modern', (15e-4, 10e-4, 5e-4), 'modern_over1'),\n",
    "              ('modern', (12e-4, 8e-4, 5e-4), 'modern_over2'),\n",
    "              ('modern', (8e-4, 8e-4, 1e-4), 'modern_over3'),\n",
    "        ],\n",
    "    }\n",
    "\n",
    "    run = wandb.init(project=\"dotter\",\n",
    "                     group=\"experiments\",\n",
    "                     name=f'standard',\n",
    "                     tags=[],\n",
    "                     config=config)\n",
    "    with run:\n",
    "        for kind, clr, save in config['order']:\n",
    "            train, validation = data[kind]\n",
    "\n",
    "            training_data = (x, y) = get_xy(train)\n",
    "            validation_data = get_xy(validation)\n",
    "\n",
    "            wandb_callback = WandbCallback(log_batch_frequency=10,  # int(len(train.normalized) / BATCH_SIZE / 100),\n",
    "                                           training_data=training_data,\n",
    "                                           validation_data=validation_data,\n",
    "                                           log_weights=True)\n",
    "            scheduler = schedulers.CircularLearningRate(*clr)\n",
    "            scheduler.set_dataset(train, BATCH_SIZE)\n",
    "            callbacks = [wandb_callback, scheduler]\n",
    "            history = model.fit(x, y, validation_data=validation_data,\n",
    "                                batch_size=BATCH_SIZE, verbose=1, callbacks=callbacks)\n",
    "            model.save_weights('./checkpoints/' + save)\n",
    "            model.save(os.path.join(wandb.run.dir, save + \".h5\"))\n",
    "    return model\n",
    "\n",
    "model = experiment()"
   ]
  },
  {
   "cell_type": "code",
   "execution_count": null,
   "metadata": {},
   "outputs": [],
   "source": [
    "model = build_model(units=512)\n",
    "model.load_weights('./checkpoints/modern_over2')\n",
    "\n",
    "model.compile()\n",
    "model.save('models/modern.h5')\n",
    "tfjs.converters.save_keras_model(model, 'models/')\n",
    "\n",
    "# hack around tfjs bug:\n",
    "with open('models/model.json', encoding='utf8', mode='r') as f:\n",
    "    text = f.read().replace('\"Functional\"', '\"Model\"')\n",
    "with open('models/model.json', encoding='utf8', mode='w') as f:\n",
    "    f.write(text)"
   ]
  },
  {
   "cell_type": "code",
   "execution_count": null,
   "metadata": {},
   "outputs": [],
   "source": [
    "import matplotlib.pyplot as plt\n",
    "\n",
    "fig, ax = plt.subplots(nrows=2, ncols=3)\n",
    "\n",
    "for n, v in enumerate(['accuracy', 'loss'], 0):\n",
    "    for n1, t in enumerate(['N', 'D', 'S'], 0):\n",
    "        p = ax[n][n1]\n",
    "        p.plot(history.history[t + '_' + v][0:])\n",
    "        p.plot(history.history['val_' + t + '_' +  v][0:])\n",
    "        p.legend([t + '_Train', t + '_Test'], loc='center right')\n",
    "\n",
    "plt.tight_layout()"
   ]
  },
  {
   "cell_type": "code",
   "execution_count": null,
   "metadata": {},
   "outputs": [],
   "source": [
    "np.random.seed(3)\n",
    "test, _ = dataset.load_data(dataset.read_corpora(['test/modernTestCorpus/']), 0, MAXLEN)"
   ]
  },
  {
   "cell_type": "code",
   "execution_count": null,
   "metadata": {},
   "outputs": [],
   "source": [
    "model = build_model(units=800)\n",
    "model.load_weights('./checkpoints/modern_over2')\n",
    "x = test.normalized\n",
    "y = {'N': test.niqqud, 'D': test.dagesh, 'S': test.sin }\n",
    "\n",
    "model.compile(loss=sparse_categorical_crossentropy,\n",
    "              metrics={'N': accuracy, 'D': accuracy, 'S': accuracy})\n",
    "\n",
    "_ = model.evaluate(x=x, y=y, batch_size=64)"
   ]
  },
  {
   "cell_type": "code",
   "execution_count": 9,
   "metadata": {
    "pycharm": {
     "name": "#%%\n"
    },
    "scrolled": true
   },
   "outputs": [
    {
     "name": "stdout",
     "output_type": "stream",
     "text": [
      "letters: 95.40%, decisions: 97.39%, words: 86.95%\n"
     ]
    },
    {
     "name": "stderr",
     "output_type": "stream",
     "text": [
      "Retry attempt failed:\n",
      "Traceback (most recent call last):\n",
      "  File \"C:\\Users\\elaza\\AppData\\Local\\Programs\\Python\\Python38\\lib\\site-packages\\urllib3\\connection.py\", line 159, in _new_conn\n",
      "    conn = connection.create_connection(\n",
      "  File \"C:\\Users\\elaza\\AppData\\Local\\Programs\\Python\\Python38\\lib\\site-packages\\urllib3\\util\\connection.py\", line 61, in create_connection\n",
      "    for res in socket.getaddrinfo(host, port, family, socket.SOCK_STREAM):\n",
      "  File \"C:\\Users\\elaza\\AppData\\Local\\Programs\\Python\\Python38\\lib\\socket.py\", line 918, in getaddrinfo\n",
      "    for res in _socket.getaddrinfo(host, port, family, type, proto, flags):\n",
      "socket.gaierror: [Errno 11001] getaddrinfo failed\n",
      "\n",
      "During handling of the above exception, another exception occurred:\n",
      "\n",
      "Traceback (most recent call last):\n",
      "  File \"C:\\Users\\elaza\\AppData\\Local\\Programs\\Python\\Python38\\lib\\site-packages\\urllib3\\connectionpool.py\", line 670, in urlopen\n",
      "    httplib_response = self._make_request(\n",
      "  File \"C:\\Users\\elaza\\AppData\\Local\\Programs\\Python\\Python38\\lib\\site-packages\\urllib3\\connectionpool.py\", line 381, in _make_request\n",
      "    self._validate_conn(conn)\n",
      "  File \"C:\\Users\\elaza\\AppData\\Local\\Programs\\Python\\Python38\\lib\\site-packages\\urllib3\\connectionpool.py\", line 976, in _validate_conn\n",
      "    conn.connect()\n",
      "  File \"C:\\Users\\elaza\\AppData\\Local\\Programs\\Python\\Python38\\lib\\site-packages\\urllib3\\connection.py\", line 308, in connect\n",
      "    conn = self._new_conn()\n",
      "  File \"C:\\Users\\elaza\\AppData\\Local\\Programs\\Python\\Python38\\lib\\site-packages\\urllib3\\connection.py\", line 171, in _new_conn\n",
      "    raise NewConnectionError(\n",
      "urllib3.exceptions.NewConnectionError: <urllib3.connection.HTTPSConnection object at 0x000001E1386A5AC0>: Failed to establish a new connection: [Errno 11001] getaddrinfo failed\n",
      "\n",
      "During handling of the above exception, another exception occurred:\n",
      "\n",
      "Traceback (most recent call last):\n",
      "  File \"C:\\Users\\elaza\\AppData\\Local\\Programs\\Python\\Python38\\lib\\site-packages\\requests\\adapters.py\", line 439, in send\n",
      "    resp = conn.urlopen(\n",
      "  File \"C:\\Users\\elaza\\AppData\\Local\\Programs\\Python\\Python38\\lib\\site-packages\\urllib3\\connectionpool.py\", line 724, in urlopen\n",
      "    retries = retries.increment(\n",
      "  File \"C:\\Users\\elaza\\AppData\\Local\\Programs\\Python\\Python38\\lib\\site-packages\\urllib3\\util\\retry.py\", line 439, in increment\n",
      "    raise MaxRetryError(_pool, url, error or ResponseError(cause))\n",
      "urllib3.exceptions.MaxRetryError: HTTPSConnectionPool(host='storage.googleapis.com', port=443): Max retries exceeded with url: /wandb-production.appspot.com/elazarg/dotter/3tqmsuqj/modern.h5?Expires=1599608390&GoogleAccessId=gorilla-cloud-storage%40wandb-production.iam.gserviceaccount.com&Signature=Prgr1uA1XraaC5%2BweySDH7i%2BCz3ZCfh6qlUnLASQV5wq5ydBTN5jx8WjZwOMDGguWoyo5Zr6TlkaWh2brRToY7aXTe2Q%2BlG5WU1082Piba9jj%2Fjt%2FQ%2B7o8YmdaR2QqF2pT2wKbh484kyXj7TUW7oihfHtALUp2uxW3nSDzQVCP5l14wSfJp7K9cF6SPo8ngjyfvLMqCV9Xj2%2FFZ6kEPCqvArWTNrlEktwdrrCRC7wPq39zGTbvV6DXU09HPFXDhbQl5KzD7cbVILSHEnNiqdntvu7oeIcbjBmMZ7SnK04I5YkXLuzzhAhP%2Bi6xAtRY8i0E6Wb4OXDEOHaxzgvo1vfg%3D%3D (Caused by NewConnectionError('<urllib3.connection.HTTPSConnection object at 0x000001E1386A5AC0>: Failed to establish a new connection: [Errno 11001] getaddrinfo failed'))\n",
      "\n",
      "During handling of the above exception, another exception occurred:\n",
      "\n",
      "Traceback (most recent call last):\n",
      "  File \"C:\\Users\\elaza\\AppData\\Local\\Programs\\Python\\Python38\\lib\\site-packages\\wandb\\apis\\internal.py\", line 989, in upload_file\n",
      "    response = requests.put(\n",
      "  File \"C:\\Users\\elaza\\AppData\\Local\\Programs\\Python\\Python38\\lib\\site-packages\\requests\\api.py\", line 134, in put\n",
      "    return request('put', url, data=data, **kwargs)\n",
      "  File \"C:\\Users\\elaza\\AppData\\Local\\Programs\\Python\\Python38\\lib\\site-packages\\requests\\api.py\", line 61, in request\n",
      "    return session.request(method=method, url=url, **kwargs)\n",
      "  File \"C:\\Users\\elaza\\AppData\\Local\\Programs\\Python\\Python38\\lib\\site-packages\\requests\\sessions.py\", line 530, in request\n",
      "    resp = self.send(prep, **send_kwargs)\n",
      "  File \"C:\\Users\\elaza\\AppData\\Local\\Programs\\Python\\Python38\\lib\\site-packages\\requests\\sessions.py\", line 643, in send\n",
      "    r = adapter.send(request, **kwargs)\n",
      "  File \"C:\\Users\\elaza\\AppData\\Local\\Programs\\Python\\Python38\\lib\\site-packages\\requests\\adapters.py\", line 516, in send\n",
      "    raise ConnectionError(e, request=request)\n",
      "requests.exceptions.ConnectionError: HTTPSConnectionPool(host='storage.googleapis.com', port=443): Max retries exceeded with url: /wandb-production.appspot.com/elazarg/dotter/3tqmsuqj/modern.h5?Expires=1599608390&GoogleAccessId=gorilla-cloud-storage%40wandb-production.iam.gserviceaccount.com&Signature=Prgr1uA1XraaC5%2BweySDH7i%2BCz3ZCfh6qlUnLASQV5wq5ydBTN5jx8WjZwOMDGguWoyo5Zr6TlkaWh2brRToY7aXTe2Q%2BlG5WU1082Piba9jj%2Fjt%2FQ%2B7o8YmdaR2QqF2pT2wKbh484kyXj7TUW7oihfHtALUp2uxW3nSDzQVCP5l14wSfJp7K9cF6SPo8ngjyfvLMqCV9Xj2%2FFZ6kEPCqvArWTNrlEktwdrrCRC7wPq39zGTbvV6DXU09HPFXDhbQl5KzD7cbVILSHEnNiqdntvu7oeIcbjBmMZ7SnK04I5YkXLuzzhAhP%2Bi6xAtRY8i0E6Wb4OXDEOHaxzgvo1vfg%3D%3D (Caused by NewConnectionError('<urllib3.connection.HTTPSConnection object at 0x000001E1386A5AC0>: Failed to establish a new connection: [Errno 11001] getaddrinfo failed'))\n",
      "\n",
      "During handling of the above exception, another exception occurred:\n",
      "\n",
      "Traceback (most recent call last):\n",
      "  File \"C:\\Users\\elaza\\AppData\\Local\\Programs\\Python\\Python38\\lib\\site-packages\\wandb\\retry.py\", line 95, in __call__\n",
      "    result = self._call_fn(*args, **kwargs)\n",
      "  File \"C:\\Users\\elaza\\AppData\\Local\\Programs\\Python\\Python38\\lib\\site-packages\\wandb\\apis\\internal.py\", line 996, in upload_file\n",
      "    util.sentry_reraise(retry.TransientException(exc=e))\n",
      "  File \"C:\\Users\\elaza\\AppData\\Local\\Programs\\Python\\Python38\\lib\\site-packages\\wandb\\util.py\", line 95, in sentry_reraise\n",
      "    six.reraise(type(exc), exc, sys.exc_info()[2])\n",
      "  File \"C:\\Users\\elaza\\AppData\\Local\\Programs\\Python\\Python38\\lib\\site-packages\\six.py\", line 702, in reraise\n",
      "    raise value.with_traceback(tb)\n",
      "  File \"C:\\Users\\elaza\\AppData\\Local\\Programs\\Python\\Python38\\lib\\site-packages\\wandb\\apis\\internal.py\", line 989, in upload_file\n",
      "    response = requests.put(\n",
      "  File \"C:\\Users\\elaza\\AppData\\Local\\Programs\\Python\\Python38\\lib\\site-packages\\requests\\api.py\", line 134, in put\n",
      "    return request('put', url, data=data, **kwargs)\n",
      "  File \"C:\\Users\\elaza\\AppData\\Local\\Programs\\Python\\Python38\\lib\\site-packages\\requests\\api.py\", line 61, in request\n",
      "    return session.request(method=method, url=url, **kwargs)\n",
      "  File \"C:\\Users\\elaza\\AppData\\Local\\Programs\\Python\\Python38\\lib\\site-packages\\requests\\sessions.py\", line 530, in request\n",
      "    resp = self.send(prep, **send_kwargs)\n",
      "  File \"C:\\Users\\elaza\\AppData\\Local\\Programs\\Python\\Python38\\lib\\site-packages\\requests\\sessions.py\", line 643, in send\n",
      "    r = adapter.send(request, **kwargs)\n",
      "  File \"C:\\Users\\elaza\\AppData\\Local\\Programs\\Python\\Python38\\lib\\site-packages\\requests\\adapters.py\", line 516, in send\n",
      "    raise ConnectionError(e, request=request)\n",
      "wandb.retry.TransientException: None\n",
      "wandb: Network error (TransientException), entering retry loop. See C:\\Users\\elaza\\workspace\\dotter\\wandb\\debug.log for full traceback.\n",
      "wandb: ERROR Error uploading \"modern_over3.h5\": CommError, None\n",
      "wandb: ERROR Error uploading \"mix.h5\": CommError, None\n",
      "wandb: ERROR Error uploading \"model-best.h5\": CommError, None\n"
     ]
    }
   ],
   "source": [
    "def real_evaluation(data, s=slice(0, None), print_comparison=True):\n",
    "    batch = data.normalized[s]\n",
    "    prediction = model.predict(batch)\n",
    "    [actual_niqqud, actual_dagesh, actual_sin] = [dataset.from_categorical(prediction[0]), dataset.from_categorical(prediction[1]), dataset.from_categorical(prediction[2])]\n",
    "    [expected_niqqud, expected_dagesh, expected_sin] = [data.niqqud[s], data.dagesh[s], data.sin[s]]\n",
    "    actual_niqqud[expected_niqqud==0] = 0\n",
    "    actual_dagesh[expected_dagesh==0] = 0\n",
    "    actual_sin[expected_sin==0] = 0\n",
    "    actual = dataset.merge(data.text[s], batch, actual_niqqud, actual_dagesh, actual_sin)\n",
    "    expected = dataset.merge(data.text[s], batch, expected_niqqud, expected_dagesh, expected_sin)\n",
    "    total_decisions = []\n",
    "    total_words = []\n",
    "    total_letters = []\n",
    "    for i, (b, a, e) in enumerate(zip(batch, actual, expected)):\n",
    "        decisions = []\n",
    "        decisions.extend(expected_niqqud[i][expected_niqqud[i]>0] == actual_niqqud[i][expected_niqqud[i]>0])\n",
    "        decisions.extend(expected_dagesh[i][expected_dagesh[i]>0] == actual_dagesh[i][expected_dagesh[i]>0])\n",
    "        decisions.extend(expected_sin[i][expected_sin[i]>0] == actual_sin[i][expected_sin[i]>0])\n",
    "        total_decisions.extend(decisions)\n",
    "        \n",
    "\n",
    "        either = (expected_niqqud[i]>0) | (expected_dagesh[i]>0) | (expected_sin[i]>0)\n",
    "        letters = ((expected_niqqud[i][either] == actual_niqqud[i][either])\n",
    "                 & (expected_dagesh[i][either] == actual_dagesh[i][either])\n",
    "                 & (expected_sin[i][either]    == actual_sin[i][either]))\n",
    "        total_letters.extend(letters)\n",
    "        \n",
    "        words = []\n",
    "        for aw, ew in zip(a.split(), e.split()):\n",
    "            if len([x for x in 'אבגדהוזחטיכלמנסעפצקרשתךםןףץ' if x in aw]) > 1:\n",
    "                words.append(aw == ew)\n",
    "                if print_comparison and aw != ew:\n",
    "                    print(aw, ew)\n",
    "        total_words.extend(words)\n",
    "        \n",
    "        if print_comparison:\n",
    "            print('מצוי: ', a)\n",
    "            print('רצוי: ', e)\n",
    "            print(f'letters: {np.mean(letters):.2%} ({len(letters)-np.sum(letters)} out of {len(letters)})')\n",
    "            print(f'decisions: {np.mean(decisions):.2%} ({len(decisions)-np.sum(decisions)} out of {len(decisions)})')\n",
    "            print(f'words: {np.mean(words):.2%} ({len(words)-np.sum(words)} out of {len(words)})')\n",
    "            print()\n",
    "    print(f'letters: {np.mean(total_letters):.2%}, decisions: {np.mean(total_decisions):.2%}, words: {np.mean(total_words):.2%}')\n",
    "\n",
    "model = build_model(units=512)\n",
    "model.load_weights('./checkpoints/modern_over3')\n",
    "real_evaluation(data['modern'][1], s=slice(0, None), print_comparison=False)\n",
    "# own: letters: 95.59%, decisions: 97.50%, words: 87.64%"
   ]
  },
  {
   "cell_type": "code",
   "execution_count": null,
   "metadata": {
    "collapsed": false,
    "jupyter": {
     "outputs_hidden": false
    },
    "pycharm": {
     "name": "#%%\n"
    }
   },
   "outputs": [],
   "source": [
    "import hebrew\n",
    "import dataset"
   ]
  },
  {
   "cell_type": "code",
   "execution_count": null,
   "metadata": {},
   "outputs": [],
   "source": [
    "print(data['modern'][1].normalized[0])\n",
    "print(data['modern'][1].niqqud[0])"
   ]
  },
  {
   "cell_type": "code",
   "execution_count": null,
   "metadata": {},
   "outputs": [],
   "source": [
    "%env WANDB_MODE run\n",
    "config = {\n",
    "        'batch_size': 64,\n",
    "        'units': 500,\n",
    "        'order': [\n",
    "            ('mix',    [(30e-4, 80e-4, 1e-4)], 'mix'),\n",
    "            ('modern', [(50e-4, 50e-4, 1e-5)], 'modern'),\n",
    "            ('modern', [(50e-4, 50e-4, 1e-5),\n",
    "                        # (50e-4, 50e-4, 1e-5),\n",
    "                       ], 'modern_over'),\n",
    "        ],\n",
    "    }\n",
    "run = wandb.init(project=\"dotter\",\n",
    "                 # group=\"maxlen\",\n",
    "                 name=f'maxlen_test',\n",
    "                 tags=['CLR', 'ordered'],\n",
    "                 config=config)\n",
    "\n",
    "with run:\n",
    "    for maxlen, letters, words in [\n",
    "            (75, 0.9511, 0.7778),\n",
    "            (80, 0.9531, 0.7819),\n",
    "            (85, 0.9535, 0.7819),\n",
    "            (90, 0.9526, 0.7841),\n",
    "            (95, 0.9514, 0.7795),\n",
    "    ]:\n",
    "        run.log({'maxlen': maxlen,\n",
    "                 'letters': letters,\n",
    "                 'words': words})\n"
   ]
  },
  {
   "cell_type": "code",
   "execution_count": null,
   "metadata": {},
   "outputs": [],
   "source": [
    "model = build_model(units=400)\n",
    "model.summary()"
   ]
  },
  {
   "cell_type": "code",
   "execution_count": null,
   "metadata": {},
   "outputs": [],
   "source": []
  }
 ],
 "metadata": {
  "kernelspec": {
   "display_name": "Python 3.8.2 64-bit",
   "language": "python",
   "name": "python38264bit9bb923b013d04c19b7222e7ae44d4e24"
  },
  "language_info": {
   "codemirror_mode": {
    "name": "ipython",
    "version": 3
   },
   "file_extension": ".py",
   "mimetype": "text/x-python",
   "name": "python",
   "nbconvert_exporter": "python",
   "pygments_lexer": "ipython3",
   "version": "3.8.2"
  }
 },
 "nbformat": 4,
 "nbformat_minor": 4
}
