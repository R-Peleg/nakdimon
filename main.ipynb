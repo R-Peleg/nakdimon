{
 "cells": [
  {
   "cell_type": "code",
   "execution_count": 1,
   "metadata": {},
   "outputs": [],
   "source": [
    "import os\n",
    "import numpy as np\n",
    "from tensorflow import keras\n",
    "from tensorflow.keras import layers\n",
    "\n",
    "import dataset\n",
    "import schedulers\n",
    "\n",
    "import tensorflow as tf\n",
    "assert tf.config.list_physical_devices('GPU')"
   ]
  },
  {
   "cell_type": "code",
   "execution_count": 20,
   "metadata": {
    "scrolled": true
   },
   "outputs": [
    {
     "output_type": "stream",
     "name": "stdout",
     "text": "Model: \"model_4\"\n__________________________________________________________________________________________________\nLayer (type)                    Output Shape         Param #     Connected to                     \n==================================================================================================\ninput_5 (InputLayer)            [(None, None)]       0                                            \n__________________________________________________________________________________________________\nembedding_4 (Embedding)         (None, None, 28)     1232        input_5[0][0]                    \n__________________________________________________________________________________________________\ndense_16 (Dense)                (None, None, 128)    3712        embedding_4[0][0]                \n__________________________________________________________________________________________________\nbidirectional_4 (Bidirectional) (None, None, 128)    263168      dense_16[0][0]                   \n                                                                 bidirectional_4[0][0]            \n__________________________________________________________________________________________________\nadd_4 (Add)                     (None, None, 128)    0           bidirectional_4[0][0]            \n                                                                 bidirectional_4[1][0]            \n__________________________________________________________________________________________________\ndense_17 (Dense)                (None, None, 16)     2064        add_4[0][0]                      \n__________________________________________________________________________________________________\ndense_18 (Dense)                (None, None, 3)      387         add_4[0][0]                      \n__________________________________________________________________________________________________\ndense_19 (Dense)                (None, None, 4)      516         add_4[0][0]                      \n__________________________________________________________________________________________________\nN (Softmax)                     (None, None, 16)     0           dense_17[0][0]                   \n__________________________________________________________________________________________________\nD (Softmax)                     (None, None, 3)      0           dense_18[0][0]                   \n__________________________________________________________________________________________________\nS (Softmax)                     (None, None, 4)      0           dense_19[0][0]                   \n==================================================================================================\nTotal params: 271,079\nTrainable params: 271,079\nNon-trainable params: 0\n__________________________________________________________________________________________________\n"
    }
   ],
   "source": [
    "BATCH_SIZE = 32\n",
    "\n",
    "LETTERS_SIZE = len(dataset.letters_table)\n",
    "NIQQUD_SIZE = len(dataset.niqqud_table)\n",
    "DAGESH_SIZE = len(dataset.dagesh_table)\n",
    "SIN_SIZE = len(dataset.sin_table)\n",
    "\n",
    "def build_model(EMBED_DIM=28, UNITS=128):  # EMBED_DIM=28, UNITS=253  == 2^20\n",
    "    layer = input_text = keras.Input(batch_shape=(None, None), batch_size=BATCH_SIZE)\n",
    "    layer = layers.Embedding(LETTERS_SIZE, EMBED_DIM, input_length=None, mask_zero=True)(layer)\n",
    "    \n",
    "    layer = layers.Dense(UNITS, activation=None)(layer)\n",
    "    \n",
    "    bidi = layers.Bidirectional(layers.LSTM(UNITS, return_sequences=True), merge_mode='sum')\n",
    "    layer = bidi(layer)\n",
    "    layer = layers.add([layer, bidi(layer)])\n",
    "\n",
    "    outputs = [\n",
    "        layers.Softmax(name='N')(layers.Dense(NIQQUD_SIZE)(layer)),\n",
    "        layers.Softmax(name='D')(layers.Dense(DAGESH_SIZE)(layer)),\n",
    "        layers.Softmax(name='S')(layers.Dense(SIN_SIZE)(layer)),\n",
    "    ]\n",
    "    model = keras.Model(inputs=input_text, outputs=outputs)\n",
    "\n",
    "    jsmodel = model \n",
    "    return model, jsmodel\n",
    "\n",
    "model, jsmodel = build_model()\n",
    "\n",
    "model.summary()\n",
    "model.save_weights('./checkpoints/uninit')"
   ]
  },
  {
   "cell_type": "code",
   "execution_count": 3,
   "metadata": {},
   "outputs": [],
   "source": [
    "def accuracy(y_true, y_pred):\n",
    "    K = keras.backend\n",
    "    f = K.floatx()\n",
    "    # convert dense predictions to labels\n",
    "    y_pred_labels =  K.cast(K.argmax(y_pred, axis=-1), f)\n",
    "    \n",
    "    res = K.cast(K.equal(y_true, y_pred_labels), f)\n",
    "    return K.sum(res) / K.sum(K.cast(K.not_equal(y_true, 0), f))\n",
    "\n",
    "\n",
    "def fit(train_validation, scheduler=None, verbose=1, lr=1e-4):\n",
    "    train, valid = train_validation\n",
    "    model.compile(loss='sparse_categorical_crossentropy', optimizer=tf.keras.optimizers.Adam(learning_rate=lr), metrics=[accuracy])\n",
    "    callbacks = []\n",
    "    if isinstance(scheduler, schedulers.CircularLearningRate):\n",
    "        scheduler.set_dataset(train, BATCH_SIZE)\n",
    "    if scheduler:\n",
    "        callbacks.append(scheduler)\n",
    "        \n",
    "    x  = train.normalized\n",
    "    vx = valid.normalized\n",
    "    \n",
    "    y  = {'N': train.niqqud, 'D': train.dagesh, 'S': train.sin }\n",
    "    vy = {'N': valid.niqqud, 'D': valid.dagesh, 'S': valid.sin }\n",
    "    \n",
    "    return model.fit(x, y, validation_data=(vx, vy), batch_size=BATCH_SIZE, epochs=1, verbose=verbose, callbacks=callbacks)\n",
    "\n",
    "\n",
    "MAXLEN = 64\n",
    "def load_data(source, maxlen=MAXLEN, validation=0.1):\n",
    "    filenames = [os.path.join('texts', f) for f in source]\n",
    "    train, valid = dataset.load_data(filenames, validation, maxlen=maxlen)\n",
    "    return train, valid"
   ]
  },
  {
   "cell_type": "code",
   "execution_count": 4,
   "metadata": {},
   "outputs": [],
   "source": [
    "data_mix = load_data(['poetry', 'rabanit', 'pre_modern'])"
   ]
  },
  {
   "cell_type": "code",
   "execution_count": 22,
   "metadata": {},
   "outputs": [
    {
     "output_type": "stream",
     "name": "stdout",
     "text": "4367/4367 [==============================] - 147s 34ms/step - loss: 0.3856 - N_loss: 0.3015 - D_loss: 0.0737 - S_loss: 0.0104 - N_accuracy: 0.8938 - D_accuracy: 0.9709 - S_accuracy: 0.9972 - val_loss: 0.3224 - val_N_loss: 0.2515 - val_D_loss: 0.0648 - val_S_loss: 0.0062 - val_N_accuracy: 0.9155 - val_D_accuracy: 0.9741 - val_S_accuracy: 0.9983\n"
    }
   ],
   "source": [
    "model.load_weights('./checkpoints/uninit')\n",
    "history = fit(data_mix, scheduler=schedulers.CircularLearningRate(30e-4, 80e-4, 1e-4))\n",
    "model.save_weights('./checkpoints/mix')"
   ]
  },
  {
   "cell_type": "code",
   "execution_count": 17,
   "metadata": {},
   "outputs": [],
   "source": [
    "data_modern = load_data(validation=0.1, source=['modern'])"
   ]
  },
  {
   "cell_type": "code",
   "execution_count": 21,
   "metadata": {},
   "outputs": [
    {
     "output_type": "stream",
     "name": "stdout",
     "text": "524/524 [==============================] - 22s 41ms/step - loss: 0.6970 - N_loss: 0.5397 - D_loss: 0.1288 - S_loss: 0.0284 - N_accuracy: 0.8032 - D_accuracy: 0.9484 - S_accuracy: 0.9919 - val_loss: 0.4153 - val_N_loss: 0.3255 - val_D_loss: 0.0824 - val_S_loss: 0.0074 - val_N_accuracy: 0.8805 - val_D_accuracy: 0.9671 - val_S_accuracy: 0.9978\n"
    }
   ],
   "source": [
    "model.load_weights('./checkpoints/mix')\n",
    "history = fit(data_modern, scheduler=schedulers.CircularLearningRate(50e-4, 60e-4, 1e-5))  #  EMBED_DIM=28, UNITS=253: val_N_accuracy: 0.9575 - val_D_accuracy: 0.9856 - val_S_accuracy: 0.9994\n",
    "model.save_weights('./checkpoints/modern')"
   ]
  },
  {
   "cell_type": "code",
   "execution_count": 6,
   "metadata": {},
   "outputs": [],
   "source": [
    "model.load_weights('./checkpoints/modern')\n",
    "model.save('modern.h5')"
   ]
  },
  {
   "cell_type": "code",
   "execution_count": 9,
   "metadata": {},
   "outputs": [
    {
     "name": "stderr",
     "output_type": "stream",
     "text": [
      "c:\\users\\elaza\\appdata\\local\\programs\\python\\python38\\lib\\site-packages\\tensorflowjs\\converters\\keras_h5_conversion.py:122: H5pyDeprecationWarning: The default file mode will change to 'r' (read-only) in h5py 3.0. To suppress this warning, pass the mode you need to h5py.File(), or set the global default h5.get_config().default_file_mode, or set the environment variable H5PY_DEFAULT_READONLY=1. Available modes are: 'r', 'r+', 'w', 'w-'/'x', 'a'. See the docs for details.\n",
      "  return h5py.File(h5file)\n"
     ]
    }
   ],
   "source": [
    "import tensorflowjs as tfjs\n",
    "# jsmodel.load_weights('./checkpoints/modern')\n",
    "tfjs.converters.save_keras_model(jsmodel, '.')"
   ]
  },
  {
   "cell_type": "code",
   "execution_count": null,
   "metadata": {
    "scrolled": true
   },
   "outputs": [],
   "source": [
    "model.load_weights('./checkpoints/modern')\n",
    "\n",
    "def print_predictions(data, s):\n",
    "    batch = data.normalized[s]\n",
    "    prediction = model.predict(batch)\n",
    "    [actual_niqqud, actual_dagesh, actual_sin] = [dataset.from_categorical(prediction[0]), dataset.from_categorical(prediction[1]), dataset.from_categorical(prediction[2])]\n",
    "    [expected_niqqud, expected_dagesh, expected_sin] = [data.niqqud[s], data.dagesh[s], data.sin[s]]\n",
    "    actual = dataset.merge(data.text[s], ts=batch, ns=actual_niqqud, ds=actual_dagesh, ss=actual_sin)\n",
    "    expected = dataset.merge(data.text[s], ts=batch, ns=expected_niqqud, ds=expected_dagesh, ss=expected_sin)\n",
    "    total = []\n",
    "    for i, (a, e) in enumerate(zip(actual, expected)):\n",
    "        print('מצוי: ', a)\n",
    "        print('רצוי: ', e)\n",
    "        last = expected_niqqud[i].tolist().index(0)\n",
    "        res = expected_niqqud[i][:last] == actual_niqqud[i][:last]\n",
    "        total.extend(res)\n",
    "        print(round(np.mean(res), 2), f'({last - sum(res)} out of {last})')\n",
    "        print()\n",
    "    print(round(np.mean(total), 3))\n",
    "\n",
    "print_predictions(data_modern[1], slice(0, None))"
   ]
  },
  {
   "cell_type": "code",
   "execution_count": null,
   "metadata": {},
   "outputs": [],
   "source": [
    "for i in range(50):\n",
    "    model.load_weights('./checkpoints/pre_modern')\n",
    "    p1 = np.exp(np.random.uniform(low=np.log(1e-5), high=np.log(1e-2)))\n",
    "    p2 = np.exp(np.random.uniform(low=np.log(1e-4), high=np.log(1e-1)))\n",
    "    p3 = np.exp(np.random.uniform(low=np.log(1e-5), high=np.log(1e-2)))\n",
    "    print(p1, p2, p3, end=', ', sep=', ')\n",
    "    history = fit(data_modern, scheduler=schedulers.CircularLearningRate(p1, p2, p3), verbose=0)\n",
    "    print(history.history['val_N_accuracy'][0])"
   ]
  },
  {
   "cell_type": "code",
   "execution_count": null,
   "metadata": {},
   "outputs": [],
   "source": [
    "import matplotlib.pyplot as plt\n",
    "\n",
    "fig, ax = plt.subplots(nrows=2, ncols=2)\n",
    "\n",
    "for n, v in enumerate(['accuracy', 'loss'], 0):\n",
    "    for n1, t in enumerate(['D', 'N'], 0):\n",
    "        p = ax[n][n1]\n",
    "        p.plot(history.history[t + '_' + v][0:])\n",
    "        p.plot(history.history['val_' + t + '_' +  v][0:])\n",
    "        p.legend([t + '_Train', t + '_Test'], loc='center right')\n",
    "\n",
    "plt.tight_layout()"
   ]
  }
 ],
 "metadata": {
  "kernelspec": {
   "display_name": "Python 3.8.2 64-bit",
   "language": "python",
   "name": "python38264bit9bb923b013d04c19b7222e7ae44d4e24"
  },
  "language_info": {
   "codemirror_mode": {
    "name": "ipython",
    "version": 3
   },
   "file_extension": ".py",
   "mimetype": "text/x-python",
   "name": "python",
   "nbconvert_exporter": "python",
   "pygments_lexer": "ipython3",
   "version": "3.8.2-final"
  }
 },
 "nbformat": 4,
 "nbformat_minor": 4
}