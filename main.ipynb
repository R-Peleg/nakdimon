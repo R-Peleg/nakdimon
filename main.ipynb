{
 "cells": [
  {
   "cell_type": "code",
   "execution_count": 1,
   "metadata": {},
   "outputs": [],
   "source": [
    "%load_ext autoreload\n",
    "%autoreload 2"
   ]
  },
  {
   "cell_type": "code",
   "execution_count": 2,
   "metadata": {},
   "outputs": [],
   "source": [
    "import os\n",
    "import numpy as np\n",
    "from tensorflow import keras\n",
    "from tensorflow.keras import layers\n",
    "\n",
    "import tensorflow as tf\n",
    "import tensorflowjs as tfjs\n",
    "\n",
    "import wandb\n",
    "from wandb.keras import WandbCallback\n",
    "\n",
    "import dataset\n",
    "import schedulers\n",
    "\n",
    "assert tf.config.list_physical_devices('GPU')"
   ]
  },
  {
   "cell_type": "code",
   "execution_count": 3,
   "metadata": {},
   "outputs": [],
   "source": [
    "\n",
    "# masked version of accuracy and sce\n",
    "def accuracy(real, pred):\n",
    "    acc = tf.keras.metrics.sparse_categorical_accuracy(real, pred)\n",
    "\n",
    "    mask = tf.cast(tf.math.logical_not(tf.math.equal(real, 0)), dtype=acc.dtype)\n",
    "    acc *= mask\n",
    "\n",
    "    return tf.reduce_sum(acc) / tf.reduce_sum(mask)\n",
    "\n",
    "def sparse_categorical_crossentropy(y_true, y_pred, sample_weight=None):\n",
    "    loss = tf.keras.losses.sparse_categorical_crossentropy(y_true, y_pred)\n",
    "\n",
    "    mask = tf.cast(tf.math.logical_not(tf.math.equal(y_true, 0)), dtype=loss.dtype)\n",
    "    loss *= mask\n",
    "\n",
    "    return tf.reduce_sum(loss) / tf.reduce_sum(mask) \n",
    "\n",
    "def shuffle_in_unison(*arrs):\n",
    "    rng_state = np.random.get_state()\n",
    "    for arr in arrs:\n",
    "        np.random.set_state(rng_state)\n",
    "        np.random.shuffle(arr)\n",
    "\n",
    "def get_xy(d):\n",
    "    if d is None:\n",
    "        return None\n",
    "    shuffle_in_unison(d.normalized, d.niqqud, d.dagesh, d.sin)\n",
    "    x = d.normalized\n",
    "    y = {'N': d.niqqud, 'D': d.dagesh, 'S': d.sin }\n",
    "    return (x, y)\n"
   ]
  },
  {
   "cell_type": "code",
   "execution_count": 4,
   "metadata": {},
   "outputs": [],
   "source": [
    "corpus = {}\n",
    "corpus['mix'] = dataset.read_corpora([\n",
    "    'hebrew_diacritized_private/poetry',\n",
    "    'hebrew_diacritized_private/rabanit',\n",
    "    'hebrew_diacritized_private/pre_modern'])\n",
    "\n",
    "corpus['modern'] = dataset.read_corpora([\n",
    "    'hebrew_diacritized/'])\n"
   ]
  },
  {
   "cell_type": "code",
   "execution_count": 5,
   "metadata": {},
   "outputs": [],
   "source": [
    "LETTERS_SIZE = len(dataset.letters_table)\n",
    "NIQQUD_SIZE = len(dataset.niqqud_table)\n",
    "DAGESH_SIZE = len(dataset.dagesh_table)\n",
    "SIN_SIZE = len(dataset.sin_table)\n",
    "\n",
    "def build_model(units):\n",
    "    inp = keras.Input(shape=(None,), batch_size=None)\n",
    "    embed = layers.Embedding(LETTERS_SIZE, units, mask_zero=True)(inp)\n",
    "    \n",
    "    layer = layers.Bidirectional(layers.LSTM(units, return_sequences=True, dropout=0.1), merge_mode='concat')(embed)\n",
    "    layer = layers.add([layer, layers.Bidirectional(layers.LSTM(units, return_sequences=True, dropout=0.1), merge_mode='concat')(layer)])\n",
    "    layer = layers.Dense(units)(layer)\n",
    "\n",
    "    outputs = [\n",
    "        layers.Softmax(name='N')(layers.Dense(NIQQUD_SIZE)(layer)),\n",
    "        layers.Softmax(name='D')(layers.Dense(DAGESH_SIZE)(layer)),\n",
    "        layers.Softmax(name='S')(layers.Dense(SIN_SIZE)(layer)),\n",
    "    ]\n",
    "    return keras.Model(inputs=inp, outputs=outputs)\n"
   ]
  },
  {
   "cell_type": "code",
   "execution_count": 13,
   "metadata": {},
   "outputs": [],
   "source": [
    "MAXLEN = 90\n",
    "\n",
    "data = {}\n",
    "np.random.seed(2)\n",
    "data['mix'] = dataset.load_data(corpus['mix'], validation_rate=0, maxlen=MAXLEN)\n",
    "np.random.seed(2)\n",
    "data['modern'] = dataset.load_data(corpus['modern'], validation_rate=0, maxlen=MAXLEN)\n"
   ]
  },
  {
   "cell_type": "code",
   "execution_count": 14,
   "metadata": {
    "scrolled": true
   },
   "outputs": [
    {
     "name": "stdout",
     "output_type": "stream",
     "text": [
      "env: WANDB_MODE=dryrun\n"
     ]
    },
    {
     "data": {
      "text/html": [
       "\n",
       "            Using <a href=\"https://wandb.com\" target=\"_blank\">Weights & Biases</a> in dryrun mode. Not logging results to the cloud.<br/>\n",
       "            Call wandb.login() to authenticate this machine.<br/>\n",
       "        "
      ],
      "text/plain": [
       "<IPython.core.display.HTML object>"
      ]
     },
     "metadata": {},
     "output_type": "display_data"
    },
    {
     "name": "stdout",
     "output_type": "stream",
     "text": [
      "259/259 [==============================] - 42s 161ms/step - loss: 0.2381 - N_loss: 0.1458 - D_loss: 0.0587 - S_loss: 0.0336 - N_accuracy: 0.9514 - D_accuracy: 0.9782 - S_accuracy: 0.9914\n",
      "259/259 [==============================] - 42s 160ms/step - loss: 0.1394 - N_loss: 0.0855 - D_loss: 0.0373 - S_loss: 0.0167 - N_accuracy: 0.9714 - D_accuracy: 0.9863 - S_accuracy: 0.9957\n",
      "259/259 [==============================] - 42s 163ms/step - loss: 0.1024 - N_loss: 0.0626 - D_loss: 0.0291 - S_loss: 0.0107 - N_accuracy: 0.9791 - D_accuracy: 0.9893 - S_accuracy: 0.9967\n",
      "259/259 [==============================] - 42s 163ms/step - loss: 0.0761 - N_loss: 0.0475 - D_loss: 0.0229 - S_loss: 0.0058 - N_accuracy: 0.9840 - D_accuracy: 0.9916 - S_accuracy: 0.9984\n"
     ]
    }
   ],
   "source": [
    "%env WANDB_MODE dryrun\n",
    "\n",
    "def experiment():\n",
    "    BATCH_SIZE = 64\n",
    "    UNITS = 500\n",
    "    np.random.seed(2)\n",
    "    model = build_model(units=UNITS)\n",
    "    model.compile(loss=sparse_categorical_crossentropy, optimizer=tf.keras.optimizers.Adam(learning_rate=1e-4),\n",
    "                  metrics={'N': accuracy, 'D': accuracy, 'S': accuracy})\n",
    "\n",
    "    model.save_weights('./checkpoints/uninit')\n",
    "    model.load_weights('./checkpoints/mix')\n",
    "    \n",
    "    config = {\n",
    "        'batch_size': BATCH_SIZE,\n",
    "        'maxlen': MAXLEN,\n",
    "        'units': UNITS,\n",
    "        'model': model,\n",
    "        'order': [\n",
    "#               ('mix',    (30e-4, 80e-4, 1e-4), 'mix'),\n",
    "              ('modern', (4e-3, 2e-3, 0), 'modern'),\n",
    "              ('modern', (4e-3, 2e-3, 0), 'modern_over'),\n",
    "              ('modern', (4e-3, 2e-3, 0), 'modern_over1'),\n",
    "              ('modern', (4e-3, 2e-3, 0), 'modern_over2'),\n",
    "        ],\n",
    "    }\n",
    "\n",
    "    run = wandb.init(project=\"dotter\",\n",
    "                     group=\"mix_and_modern\",\n",
    "                     name=f'mix_and_modern',\n",
    "                     tags=['CLR', 'ordered'],\n",
    "                     config=config)\n",
    "\n",
    "    with run:\n",
    "        for kind, clr, save in config['order']:\n",
    "            train, validation = data[kind]\n",
    "\n",
    "            training_data = (x, y) = get_xy(train)\n",
    "            validation_data = get_xy(validation)\n",
    "\n",
    "            wandb_callback = WandbCallback(log_batch_frequency=10,  # int(len(train.normalized) / BATCH_SIZE / 100),\n",
    "                                           training_data=training_data,\n",
    "                                           validation_data=validation_data,\n",
    "                                           log_weights=True)\n",
    "            scheduler = schedulers.CircularLearningRate(*clr)\n",
    "            scheduler.set_dataset(train, BATCH_SIZE)\n",
    "            callbacks = [wandb_callback, scheduler]\n",
    "            history = model.fit(x, y, validation_data=validation_data,\n",
    "                                batch_size=BATCH_SIZE, verbose=1, callbacks=callbacks)\n",
    "            model.save(os.path.join(wandb.run.dir, save + \".h5\"))\n",
    "            model.save_weights('./checkpoints/' + save)\n",
    "    return model\n",
    "\n",
    "model = experiment()"
   ]
  },
  {
   "cell_type": "code",
   "execution_count": 15,
   "metadata": {},
   "outputs": [
    {
     "name": "stderr",
     "output_type": "stream",
     "text": [
      "C:\\Users\\elaza\\AppData\\Roaming\\Python\\Python38\\site-packages\\tensorflowjs\\converters\\keras_h5_conversion.py:122: H5pyDeprecationWarning: The default file mode will change to 'r' (read-only) in h5py 3.0. To suppress this warning, pass the mode you need to h5py.File(), or set the global default h5.get_config().default_file_mode, or set the environment variable H5PY_DEFAULT_READONLY=1. Available modes are: 'r', 'r+', 'w', 'w-'/'x', 'a'. See the docs for details.\n",
      "  return h5py.File(h5file)\n"
     ]
    }
   ],
   "source": [
    "model = build_model(units=500)\n",
    "model.load_weights('./checkpoints/modern_over1')\n",
    "\n",
    "model.compile()\n",
    "model.save('models/modern.h5')\n",
    "tfjs.converters.save_keras_model(model, 'models/')"
   ]
  },
  {
   "cell_type": "code",
   "execution_count": null,
   "metadata": {},
   "outputs": [],
   "source": [
    "import matplotlib.pyplot as plt\n",
    "\n",
    "fig, ax = plt.subplots(nrows=2, ncols=3)\n",
    "\n",
    "for n, v in enumerate(['accuracy', 'loss'], 0):\n",
    "    for n1, t in enumerate(['N', 'D', 'S'], 0):\n",
    "        p = ax[n][n1]\n",
    "        p.plot(history.history[t + '_' + v][0:])\n",
    "        p.plot(history.history['val_' + t + '_' +  v][0:])\n",
    "        p.legend([t + '_Train', t + '_Test'], loc='center right')\n",
    "\n",
    "plt.tight_layout()"
   ]
  },
  {
   "cell_type": "code",
   "execution_count": null,
   "metadata": {},
   "outputs": [],
   "source": [
    "np.random.seed(3)\n",
    "test, _ = dataset.load_data(dataset.read_corpora(['test/modernTestCorpus/']), 0, MAXLEN)"
   ]
  },
  {
   "cell_type": "code",
   "execution_count": null,
   "metadata": {},
   "outputs": [],
   "source": [
    "model = build_model(units=700)\n",
    "model.load_weights('./checkpoints/modern_over2')\n",
    "x = test.normalized\n",
    "y = {'N': test.niqqud, 'D': test.dagesh, 'S': test.sin }\n",
    "\n",
    "model.compile(loss=sparse_categorical_crossentropy,\n",
    "              metrics={'N': accuracy, 'D': accuracy, 'S': accuracy})\n",
    "\n",
    "_ = model.evaluate(x=x, y=y, batch_size=64)"
   ]
  },
  {
   "cell_type": "code",
   "execution_count": 12,
   "metadata": {
    "pycharm": {
     "name": "#%%\n"
    },
    "scrolled": true
   },
   "outputs": [
    {
     "name": "stdout",
     "output_type": "stream",
     "text": [
      "letters: 95.54%, decisions: 97.46%, words: 89.29%\n"
     ]
    }
   ],
   "source": [
    "\n",
    "\n",
    "def real_evaluation(data, s=slice(0, None), print_comparison=True):\n",
    "    batch = data.normalized[s]\n",
    "    prediction = model.predict(batch)\n",
    "    [actual_niqqud, actual_dagesh, actual_sin] = [dataset.from_categorical(prediction[0]), dataset.from_categorical(prediction[1]), dataset.from_categorical(prediction[2])]\n",
    "    [expected_niqqud, expected_dagesh, expected_sin] = [data.niqqud[s], data.dagesh[s], data.sin[s]]\n",
    "    actual_niqqud[expected_niqqud==0] = 0\n",
    "    actual_dagesh[expected_dagesh==0] = 0\n",
    "    actual_sin[expected_sin==0] = 0\n",
    "    actual = dataset.merge(data.text[s], batch, actual_niqqud, actual_dagesh, actual_sin)\n",
    "    expected = dataset.merge(data.text[s], batch, expected_niqqud, expected_dagesh, expected_sin)\n",
    "    total_decisions = []\n",
    "    total_words = []\n",
    "    total_letters = []\n",
    "    for i, (b, a, e) in enumerate(zip(batch, actual, expected)):\n",
    "        decisions = []\n",
    "        decisions.extend(expected_niqqud[i][expected_niqqud[i]>0] == actual_niqqud[i][expected_niqqud[i]>0])\n",
    "        decisions.extend(expected_dagesh[i][expected_dagesh[i]>0] == actual_dagesh[i][expected_dagesh[i]>0])\n",
    "        decisions.extend(expected_sin[i][expected_sin[i]>0] == actual_sin[i][expected_sin[i]>0])\n",
    "        total_decisions.extend(decisions)\n",
    "        \n",
    "\n",
    "        either = (expected_niqqud[i]>0) | (expected_dagesh[i]>0) | (expected_sin[i]>0)\n",
    "        letters = ((expected_niqqud[i][either] == actual_niqqud[i][either])\n",
    "                 & (expected_dagesh[i][either] == actual_dagesh[i][either])\n",
    "                 & (expected_sin[i][either]    == actual_sin[i][either]))\n",
    "        total_letters.extend(letters)\n",
    "        \n",
    "        words = []\n",
    "        for aw, ew in zip(a.split(), e.split()):\n",
    "            if len([x for x in 'אבגדהוזחטיכלמנסעפצקרשתךםןףץ' if x in aw]) > 1:\n",
    "                words.append(aw == ew)\n",
    "                if print_comparison and aw != ew:\n",
    "                    print(aw, ew)\n",
    "        total_words.extend(words)\n",
    "        \n",
    "        if print_comparison:\n",
    "            print('מצוי: ', a)\n",
    "            print('רצוי: ', e)\n",
    "            print(f'letters: {np.mean(letters):.2%} ({len(letters)-np.sum(letters)} out of {len(letters)})')\n",
    "            print(f'decisions: {np.mean(decisions):.2%} ({len(decisions)-np.sum(decisions)} out of {len(decisions)})')\n",
    "            print(f'words: {np.mean(words):.2%} ({len(words)-np.sum(words)} out of {len(words)})')\n",
    "            print()\n",
    "    print(f'letters: {np.mean(total_letters):.2%}, decisions: {np.mean(total_decisions):.2%}, words: {np.mean(total_words):.2%}')\n",
    "\n",
    "model.load_weights('./checkpoints/modern_over2')\n",
    "real_evaluation(data['modern'][1], s=slice(0, None), print_comparison=False)  # (40e-4, 20e-4, 0) - letters: 92.70%, decisions: 95.85%, words: 79.14%\n",
    "# own: letters: 94.61%, decisions: 96.92%, words: 87.25%"
   ]
  },
  {
   "cell_type": "code",
   "execution_count": null,
   "metadata": {
    "collapsed": false,
    "jupyter": {
     "outputs_hidden": false
    },
    "pycharm": {
     "name": "#%%\n"
    }
   },
   "outputs": [],
   "source": [
    "import hebrew\n",
    "import dataset"
   ]
  },
  {
   "cell_type": "code",
   "execution_count": null,
   "metadata": {},
   "outputs": [],
   "source": [
    "print(data['modern'][1].normalized[0])\n",
    "print(data['modern'][1].niqqud[0])"
   ]
  },
  {
   "cell_type": "code",
   "execution_count": null,
   "metadata": {},
   "outputs": [],
   "source": [
    "%env WANDB_MODE run\n",
    "config = {\n",
    "        'batch_size': 64,\n",
    "        'units': 500,\n",
    "        'order': [\n",
    "            ('mix',    [(30e-4, 80e-4, 1e-4)], 'mix'),\n",
    "            ('modern', [(50e-4, 50e-4, 1e-5)], 'modern'),\n",
    "            ('modern', [(50e-4, 50e-4, 1e-5),\n",
    "                        # (50e-4, 50e-4, 1e-5),\n",
    "                       ], 'modern_over'),\n",
    "        ],\n",
    "    }\n",
    "run = wandb.init(project=\"dotter\",\n",
    "                 # group=\"maxlen\",\n",
    "                 name=f'maxlen_test',\n",
    "                 tags=['CLR', 'ordered'],\n",
    "                 config=config)\n",
    "\n",
    "with run:\n",
    "    for maxlen, letters, words in [\n",
    "            (75, 0.9511, 0.7778),\n",
    "            (80, 0.9531, 0.7819),\n",
    "            (85, 0.9535, 0.7819),\n",
    "            (90, 0.9526, 0.7841),\n",
    "            (95, 0.9514, 0.7795),\n",
    "    ]:\n",
    "        run.log({'maxlen': maxlen,\n",
    "                 'letters': letters,\n",
    "                 'words': words})\n"
   ]
  },
  {
   "cell_type": "code",
   "execution_count": null,
   "metadata": {},
   "outputs": [],
   "source": [
    "model = build_model(units=500)\n",
    "model.summary()"
   ]
  },
  {
   "cell_type": "code",
   "execution_count": null,
   "metadata": {},
   "outputs": [],
   "source": []
  }
 ],
 "metadata": {
  "kernelspec": {
   "display_name": "Python 3.8.2 64-bit",
   "language": "python",
   "name": "python38264bit9bb923b013d04c19b7222e7ae44d4e24"
  },
  "language_info": {
   "codemirror_mode": {
    "name": "ipython",
    "version": 3
   },
   "file_extension": ".py",
   "mimetype": "text/x-python",
   "name": "python",
   "nbconvert_exporter": "python",
   "pygments_lexer": "ipython3",
   "version": "3.8.2"
  }
 },
 "nbformat": 4,
 "nbformat_minor": 4
}
