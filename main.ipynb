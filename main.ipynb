{
 "cells": [
  {
   "cell_type": "code",
   "execution_count": 1,
   "metadata": {},
   "outputs": [],
   "source": [
    "%load_ext autoreload\n",
    "%autoreload 2"
   ]
  },
  {
   "cell_type": "code",
   "execution_count": 2,
   "metadata": {},
   "outputs": [],
   "source": [
    "import os\n",
    "import numpy as np\n",
    "from tensorflow import keras\n",
    "from tensorflow.keras import layers\n",
    "\n",
    "import tensorflow as tf\n",
    "import tensorflowjs as tfjs\n",
    "\n",
    "import wandb\n",
    "from wandb.keras import WandbCallback\n",
    "\n",
    "import dataset\n",
    "import schedulers\n",
    "\n",
    "assert tf.config.list_physical_devices('GPU')"
   ]
  },
  {
   "cell_type": "code",
   "execution_count": 3,
   "metadata": {
    "scrolled": true
   },
   "outputs": [],
   "source": [
    "LETTERS_SIZE = len(dataset.letters_table)\n",
    "NIQQUD_SIZE = len(dataset.niqqud_table)\n",
    "DAGESH_SIZE = len(dataset.dagesh_table)\n",
    "SIN_SIZE = len(dataset.sin_table)\n",
    "\n",
    "def build_model(units=500, maxlen=64):\n",
    "    inp = keras.Input(shape=(maxlen,), batch_size=None)\n",
    "    embed = layers.Embedding(LETTERS_SIZE, units, mask_zero=True)(inp)\n",
    "    \n",
    "    layer = layers.Bidirectional(layers.LSTM(units, return_sequences=True), merge_mode='sum')(embed)\n",
    "    layer = layers.add([layer, layers.Bidirectional(layers.LSTM(units, return_sequences=True), merge_mode='sum')(layer)])\n",
    "    layer = layers.BatchNormalization()(layer)\n",
    "    layer = layers.add([embed, layers.Dense(units, activation='relu')(layer)])\n",
    "\n",
    "    outputs = [\n",
    "        layers.Softmax(name='N')(layers.Dense(NIQQUD_SIZE)(layer)),\n",
    "        layers.Softmax(name='D')(layers.Dense(DAGESH_SIZE)(layer)),\n",
    "        layers.Softmax(name='S')(layers.Dense(SIN_SIZE)(layer)),\n",
    "    ]\n",
    "    model = keras.Model(inputs=inp, outputs=outputs)\n",
    "\n",
    "    return model\n"
   ]
  },
  {
   "cell_type": "code",
   "execution_count": 4,
   "metadata": {},
   "outputs": [],
   "source": [
    "\n",
    "# masked version of accuracy and sce\n",
    "def accuracy(real, pred):\n",
    "    acc = tf.keras.metrics.sparse_categorical_accuracy(real, pred)\n",
    "\n",
    "    mask = tf.cast(tf.math.logical_not(tf.math.equal(real, 0)), dtype=acc.dtype)\n",
    "    acc *= mask\n",
    "\n",
    "    return tf.reduce_sum(acc) / tf.reduce_sum(mask)\n",
    "\n",
    "def sparse_categorical_crossentropy(y_true, y_pred, sample_weight=None):\n",
    "    loss = tf.keras.losses.sparse_categorical_crossentropy(y_true, y_pred)\n",
    "\n",
    "    mask = tf.cast(tf.math.logical_not(tf.math.equal(y_true, 0)), dtype=loss.dtype)\n",
    "    loss *= mask\n",
    "\n",
    "    return tf.reduce_sum(loss) / tf.reduce_sum(mask) \n"
   ]
  },
  {
   "cell_type": "code",
   "execution_count": 5,
   "metadata": {},
   "outputs": [],
   "source": [
    "UNITS = 500\n",
    "BATCH_SIZE = 64\n",
    "MAXLEN = 64"
   ]
  },
  {
   "cell_type": "code",
   "execution_count": 6,
   "metadata": {},
   "outputs": [],
   "source": [
    "data = {}\n",
    "data['mix'] = dataset.load_data([\n",
    "    'hebrew_diacritized_private/poetry',\n",
    "    'hebrew_diacritized_private/rabanit',\n",
    "    'hebrew_diacritized_private/pre_modern'], validation_rate=0.1, maxlen=MAXLEN)\n",
    "\n",
    "data['modern'] = dataset.load_data([\n",
    "    'hebrew_diacritized/modern'], validation_rate=0.2, maxlen=MAXLEN)"
   ]
  },
  {
   "cell_type": "code",
   "execution_count": 7,
   "metadata": {},
   "outputs": [
    {
     "name": "stdout",
     "output_type": "stream",
     "text": [
      "env: WANDB_MODE=run\n"
     ]
    },
    {
     "data": {
      "text/html": [
       "\n",
       "                Logging results to <a href=\"https://wandb.com\" target=\"_blank\">Weights & Biases</a> <a href=\"https://docs.wandb.com/integrations/jupyter.html\" target=\"_blank\">(Documentation)</a>.<br/>\n",
       "                Project page: <a href=\"https://app.wandb.ai/elazarg/dotter\" target=\"_blank\">https://app.wandb.ai/elazarg/dotter</a><br/>\n",
       "                Run page: <a href=\"https://app.wandb.ai/elazarg/dotter/runs/x696qns1\" target=\"_blank\">https://app.wandb.ai/elazarg/dotter/runs/x696qns1</a><br/>\n",
       "            "
      ],
      "text/plain": [
       "<IPython.core.display.HTML object>"
      ]
     },
     "metadata": {},
     "output_type": "display_data"
    },
    {
     "name": "stdout",
     "output_type": "stream",
     "text": [
      "2173/2173 [==============================] - 238s 110ms/step - loss: 0.5130 - N_loss: 0.2950 - D_loss: 0.1166 - S_loss: 0.1013 - N_accuracy: 0.8955 - D_accuracy: 0.9519 - S_accuracy: 0.9705 - val_loss: 0.5591 - val_N_loss: 0.2277 - val_D_loss: 0.1222 - val_S_loss: 0.2092 - val_N_accuracy: 0.9268 - val_D_accuracy: 0.9606 - val_S_accuracy: 0.9661\n",
      "233/233 [==============================] - 27s 115ms/step - loss: 0.2744 - N_loss: 0.1565 - D_loss: 0.0775 - S_loss: 0.0404 - N_accuracy: 0.9472 - D_accuracy: 0.9703 - S_accuracy: 0.9894 - val_loss: 0.2597 - val_N_loss: 0.1544 - val_D_loss: 0.0759 - val_S_loss: 0.0294 - val_N_accuracy: 0.9471 - val_D_accuracy: 0.9707 - val_S_accuracy: 0.9921\n",
      "233/233 [==============================] - 27s 115ms/step - loss: 0.1358 - N_loss: 0.0792 - D_loss: 0.0403 - S_loss: 0.0164 - N_accuracy: 0.9727 - D_accuracy: 0.9850 - S_accuracy: 0.9947 - val_loss: 0.2534 - val_N_loss: 0.1485 - val_D_loss: 0.0743 - val_S_loss: 0.0306 - val_N_accuracy: 0.9519 - val_D_accuracy: 0.9730 - val_S_accuracy: 0.9933\n",
      "233/233 [==============================] - 27s 115ms/step - loss: 0.0976 - N_loss: 0.0569 - D_loss: 0.0293 - S_loss: 0.0114 - N_accuracy: 0.9802 - D_accuracy: 0.9890 - S_accuracy: 0.9964 - val_loss: 0.2739 - val_N_loss: 0.1594 - val_D_loss: 0.0788 - val_S_loss: 0.0358 - val_N_accuracy: 0.9521 - val_D_accuracy: 0.9734 - val_S_accuracy: 0.9926\n"
     ]
    }
   ],
   "source": [
    "%env WANDB_MODE run\n",
    "\n",
    "\n",
    "model = build_model(units=UNITS, maxlen=MAXLEN)\n",
    "\n",
    "model.compile(loss=sparse_categorical_crossentropy, optimizer=tf.keras.optimizers.Adam(learning_rate=1e-4),\n",
    "              metrics={'N': accuracy, 'D': accuracy, 'S': accuracy})\n",
    "\n",
    "model.save_weights('./checkpoints/uninit')\n",
    "\n",
    "config = {\n",
    "    'batch_size': BATCH_SIZE,\n",
    "    'units': UNITS,\n",
    "    'maxlen': MAXLEN,\n",
    "    'model': model,\n",
    "    'batch_size': BATCH_SIZE,\n",
    "}\n",
    "\n",
    "config['order'] = [\n",
    "    ('mix', [(30e-4, 80e-4, 1e-4)], 'mix'),\n",
    "    ('modern', [(50e-4, 50e-4, 1e-5)], 'modern'),\n",
    "    ('modern', [(50e-4, 50e-4, 1e-5), (50e-4, 50e-4, 1e-5)], 'modern_over'),\n",
    "]\n",
    "\n",
    "run = wandb.init(project=\"dotter\",\n",
    "                 name='cleaned-rafe-new-aftercleanup',\n",
    "                 tags=['CLR', 'ordered', 'new-style'],\n",
    "                 config=config)\n",
    "\n",
    "def get_xy(d):\n",
    "    if d is None:\n",
    "        return None\n",
    "    x = d.normalized\n",
    "    y = {'N': d.niqqud, 'D': d.dagesh, 'S': d.sin }\n",
    "    return (x, y)\n",
    "\n",
    "with run:\n",
    "    for kind, clrs, save in config['order']:\n",
    "        train, validation = data[kind]\n",
    "        \n",
    "        training_data = (x, y) = get_xy(train)\n",
    "        validation_data = get_xy(validation)\n",
    "        \n",
    "        wandb_callback = WandbCallback(log_batch_frequency=10, training_data=training_data, validation_data=validation_data,\n",
    "                                       log_weights=True)\n",
    "        \n",
    "        for clr in clrs:\n",
    "            scheduler = schedulers.CircularLearningRate(*clr)\n",
    "            scheduler.set_dataset(train, BATCH_SIZE)\n",
    "            callbacks = [wandb_callback, scheduler]\n",
    "            history = model.fit(x, y, validation_data=validation_data, batch_size=BATCH_SIZE, verbose=1, callbacks=callbacks)\n",
    "        model.save(os.path.join(wandb.run.dir, save + \".h5\"))\n",
    "        model.save_weights('./checkpoints/' + save)\n"
   ]
  },
  {
   "cell_type": "code",
   "execution_count": null,
   "metadata": {},
   "outputs": [],
   "source": [
    "model.load_weights('./checkpoints/modern_over')\n",
    "\n",
    "model.compile()\n",
    "model.save('modern.h5')\n",
    "tfjs.converters.save_keras_model(model, '.')"
   ]
  },
  {
   "cell_type": "code",
   "execution_count": null,
   "metadata": {},
   "outputs": [],
   "source": [
    "import matplotlib.pyplot as plt\n",
    "\n",
    "fig, ax = plt.subplots(nrows=2, ncols=3)\n",
    "\n",
    "for n, v in enumerate(['accuracy', 'loss'], 0):\n",
    "    for n1, t in enumerate(['N', 'D', 'S'], 0):\n",
    "        p = ax[n][n1]\n",
    "        p.plot(history.history[t + '_' + v][0:])\n",
    "        p.plot(history.history['val_' + t + '_' +  v][0:])\n",
    "        p.legend([t + '_Train', t + '_Test'], loc='center right')\n",
    "\n",
    "plt.tight_layout()"
   ]
  },
  {
   "cell_type": "code",
   "execution_count": null,
   "metadata": {},
   "outputs": [],
   "source": [
    "model = build_model(units=UNITS, maxlen=MAXLEN)\n",
    "model.load_weights('./checkpoints/modern_over')\n",
    "test, _ = dataset.load_data(['test/modernTestCorpus/'], 0, MAXLEN)\n",
    "x = test.normalized\n",
    "y = {'N': test.niqqud, 'D': test.dagesh, 'S': test.sin }\n",
    "\n",
    "model.compile(loss=sparse_categorical_crossentropy,\n",
    "              metrics={'N': accuracy, 'D': accuracy, 'S': accuracy})\n",
    "\n",
    "model.evaluate(x=x, y=y, batch_size=BATCH_SIZE)"
   ]
  },
  {
   "cell_type": "code",
   "execution_count": null,
   "metadata": {
    "pycharm": {
     "name": "#%%\n"
    },
    "scrolled": true
   },
   "outputs": [],
   "source": [
    "model.load_weights('./checkpoints/modern_over')\n",
    "\n",
    "def real_evaluation(data, s=slice(0, None), print_comparison=True):\n",
    "    batch = data.normalized[s]\n",
    "    prediction = model.predict(batch)\n",
    "    [actual_niqqud, actual_dagesh, actual_sin] = [dataset.from_categorical(prediction[0]), dataset.from_categorical(prediction[1]), dataset.from_categorical(prediction[2])]\n",
    "    [expected_niqqud, expected_dagesh, expected_sin] = [data.niqqud[s], data.dagesh[s], data.sin[s]]\n",
    "    actual = dataset.merge(data.text[s], batch, actual_niqqud, actual_dagesh, actual_sin)\n",
    "    expected = dataset.merge(data.text[s], batch, expected_niqqud, expected_dagesh, expected_sin)\n",
    "    total_letters = []\n",
    "    total_words = []\n",
    "    for i, (b, a, e) in enumerate(zip(batch, actual, expected)):\n",
    "        letters = []\n",
    "        letters.extend(expected_niqqud[i][expected_niqqud[i]>0] == actual_niqqud[i][expected_niqqud[i]>0])\n",
    "        letters.extend(expected_dagesh[i][expected_dagesh[i]>0] == actual_dagesh[i][expected_dagesh[i]>0])\n",
    "        letters.extend(expected_sin[i][expected_sin[i]>0] == actual_sin[i][expected_sin[i]>0])\n",
    "        total_letters.extend(letters)\n",
    "        words = []\n",
    "        for aw, ew in zip(a.split(), e.split()):\n",
    "            if len([x for x in 'אבגדהוזחטיכלמנסעפצקרשתךםןףץ' if x in aw]) > 1:\n",
    "                words.append(aw == ew)\n",
    "                if print_comparison and aw != ew:\n",
    "                    print(aw, ew)\n",
    "        total_words.extend(words)\n",
    "        if print_comparison:\n",
    "            print('מצוי: ', a)\n",
    "            print('רצוי: ', e)\n",
    "            print(f'{np.mean(letters):.2%} ({len(letters)-np.sum(letters)} out of {len(letters)})')\n",
    "            print(f'{np.mean(words):.2%} ({len(words)-np.sum(words)} out of {len(words)})')\n",
    "            print()\n",
    "    print(f'letters: {np.mean(total_letters):.2%}, words: {np.mean(total_words):.2%}')\n",
    "\n",
    "real_evaluation(test, s=slice(0, None), print_comparison=True)"
   ]
  },
  {
   "cell_type": "code",
   "execution_count": null,
   "metadata": {
    "collapsed": false,
    "jupyter": {
     "outputs_hidden": false
    },
    "pycharm": {
     "name": "#%%\n"
    }
   },
   "outputs": [],
   "source": [
    "import hebrew\n",
    "import dataset"
   ]
  }
 ],
 "metadata": {
  "kernelspec": {
   "display_name": "Python 3.8.2 64-bit",
   "language": "python",
   "name": "python38264bit9bb923b013d04c19b7222e7ae44d4e24"
  },
  "language_info": {
   "codemirror_mode": {
    "name": "ipython",
    "version": 3
   },
   "file_extension": ".py",
   "mimetype": "text/x-python",
   "name": "python",
   "nbconvert_exporter": "python",
   "pygments_lexer": "ipython3",
   "version": "3.8.2"
  }
 },
 "nbformat": 4,
 "nbformat_minor": 4
}
